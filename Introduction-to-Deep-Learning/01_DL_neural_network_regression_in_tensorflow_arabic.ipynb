{
 "cells": [
  {
   "cell_type": "markdown",
   "metadata": {
    "id": "UPgo18-N1gSi"
   },
   "source": [
    "<div dir=\"rtl\">\n",
    "    \n",
    "# 01. انحدار الشبكة العصبية باستخدام TensorFlow\n",
    "\n",
    "##### هناك العديد من التعريفات لـ [regression problem](https://en.wikipedia.org/wiki/Regression_analysis) ولكن في حالتنا، سنقوم بتبسيطها لتكون: التنبؤ برقم.\n",
    "\n",
    "##### على سبيل المثال، قد ترغب في:\n",
    "- التنبؤ بسعر بيع المنازل مع إعطاء معلومات عنها (مثل عدد الغرف، المساحة، عدد الحمامات).\n",
    "- التنبؤ بإحداثيات المربع المحيط بعنصر ما في الصورة.\n",
    "- التنبؤ بتكلفة التأمين الطبي للفرد نظرا لتركيبته السكانية (العمر، الجنس، الجنس، العرق).\n",
    "\n",
    "##### في هذا الدفتر، سنقوم بوضع الأسس لكيفية أخذ عينة من المدخلات (هذه هي بياناتك)، وبناء شبكة عصبية لاكتشاف الأنماط في تلك المدخلات ومن ثم إجراء تنبؤ (على شكل رقم) ) بناءً على تلك المدخلات.\n",
    "\n",
    "## ما سنغطيه\n",
    "\n",
    "##### على وجه التحديد، سنقوم بما يلي باستخدام TensorFlow:\n",
    "- هندسة نموذج الانحدار\n",
    "- أشكال الإدخال وأشكال الإخراج\n",
    "- `X`: الميزات/البيانات (المدخلات)\n",
    "- `y`: التسميات (المخرجات)\n",
    "- إنشاء بيانات مخصصة لعرضها وملاءمتها\n",
    "- خطوات النمذجة\n",
    "- إنشاء نموذج\n",
    "- تجميع النموذج\n",
    "- تعريف دالة الخسارة\n",
    "- إعداد محسن\n",
    "- إنشاء مقاييس التقييم\n",
    "- تركيب نموذج (الحصول على أنماط في بياناتنا)\n",
    "- تقييم النموذج\n",
    "- تصور النموذج (\"تصور، تصور، تصور\")\n",
    "- النظر إلى منحنيات التدريب\n",
    "- مقارنة التوقعات بالحقيقة الأساسية (باستخدام مقاييس التقييم لدينا)\n",
    "- حفظ النموذج (حتى نتمكن من استخدامه لاحقا)\n",
    "- تحميل نموذج\n",
    "\n",
    "##### لا تقلق إذا لم يكن أي من هذه الأمور منطقيًا الآن، فسنستعرض كل منها. \n",
    "\n",
    "## كيف يمكنك استخدام هذا الدفتر\n",
    "\n",
    "##### يمكنك قراءة الأوصاف والتعليمات البرمجية (يجب أن تعمل جميعها)، ولكن هناك خيار أفضل.\n",
    "\n",
    "##### اكتب كل الكود بنفسك.\n",
    "\n",
    "##### نعم. أنا جاد. قم بإنشاء دفتر ملاحظات جديد، وأعد كتابة كل سطر بنفسك. تحقق منه، وانظر إذا كان بإمكانك كسره، فلماذا ينكسر؟\n",
    "\n",
    "##### لا يتعين عليك كتابة أوصاف النص ولكن كتابة الكود بنفسك تعد طريقة رائعة للحصول على خبرة عملية.\n",
    "\n",
    "##### لا تقلق إذا ارتكبت أخطاء، فكلنا نفعل ذلك. الطريقة للتحسن وارتكاب أخطاء أقل هي **كتابة المزيد من التعليمات البرمجية**."
   ]
  },
  {
   "cell_type": "markdown",
   "metadata": {
    "id": "etAu7oCZ8r_G"
   },
   "source": [
    "<div dir=\"rtl\">\n",
    "\n",
    "## البنية النموذجية للشبكة العصبية الانحدارية\n",
    "\n",
    "##### كلمة *نموذجي* مقصودة.\n",
    "\n",
    "##### لماذا؟  \n",
    "\n",
    "##### لأن هناك العديد من الطرق المختلفة (في الواقع، هناك تقريبًا عدد لا حصر له من الطرق) لكتابة الشبكات العصبية.\n",
    "\n",
    "##### لكن ما يلي هو إعداد عام لاستيعاب مجموعة من الأرقام، وإيجاد أنماط فيها، ثم إخراج نوع ما من الأرقام المستهدفة.\n",
    "\n",
    "##### نعم، الجملة السابقة غامضة ولكننا سنرى ذلك عمليًا قريبًا.\n",
    "\n",
    "| **المعلمة التشعبية** | **القيمة النموذجية** |\n",
    "| --- | --- |\n",
    "| شكل طبقة الإدخال | نفس شكل عدد الميزات (على سبيل المثال، 3 لـ # غرف نوم، # حمامات، # مساحات للسيارات في توقع أسعار السكن) |\n",
    "| الطبقة (الطبقات) المخفية | مشكلة محددة، الحد الأدنى = 1، الحد الأقصى = غير محدود |\n",
    "| الخلايا العصبية لكل طبقة مخفية | مشكلة محددة، بشكل عام من 10 إلى 100 |\n",
    "| شكل طبقة الإخراج | نفس الشكل لشكل التنبؤ المطلوب (على سبيل المثال 1 لسعر المنزل) |\n",
    "| تفعيل مخفي | عادة [ReLU](https://www.kaggle.com/dansbecker/rectified-linear-units-relu-in-deep-learning) (وحدة خطية مصححة) |\n",
    "| تفعيل الإخراج | لا شيء، ReLU، لوجستية/تانه |\n",
    "| دالة الخسارة | [MSE](https://en.wikipedia.org/wiki/Mean_squared_error) (متوسط ​​الخطأ المربع) أو [MSE](https://en.wikipedia.org/wiki/Mean_squared_error) (متوسط ​​الخطأ المطلق)/Huber (مزيج من MAE/MSE) إذا كانت القيم المتطرفة |\n",
    "| محسن | [SGD](https://www.tensorflow.org/api_docs/python/tf/keras/optimizers/SGD) (نسب التدرج العشوائي)، [SGD](https://www.tensorflow.org/api_docs/python/tf/keras/optimizers/SGD) |\n",
    "##### \n",
    "***الجدول 1:*** *البنية النموذجية لشبكة الانحدار.* ***المصدر:*** *مقتبس من الصفحة 293 من [Hands-On Machine Learning with Scikit-Learn, Keras & TensorFlow Book by Aurélien Géron](https://www.oreilly.com/library/view/hands-on-machine-learning/9781492032632/)*\n",
    "\n",
    "##### مرة أخرى، إذا كنت جديدًا في مجال الشبكات العصبية والتعلم العميق بشكل عام، فلن يكون الكثير من الجدول أعلاه منطقيًا. لكن لا تقلق، سنبدأ في العمل على كل ذلك قريبًا.\n",
    "\n",
    "\n",
    "##### حسنًا، يكفي كلامًا، لنبدأ في كتابة التعليمات البرمجية.\n",
    "\n",
    "##### لاستخدام TensorFlow، سنقوم باستيراده كاسم مستعار شائع `tf` (اختصار لـ TensorFlow)."
   ]
  },
  {
   "cell_type": "code",
   "execution_count": 4,
   "metadata": {
    "tags": []
   },
   "outputs": [],
   "source": [
    "import warnings\n",
    "warnings.simplefilter(action='ignore', category=FutureWarning)"
   ]
  },
  {
   "cell_type": "code",
   "execution_count": 5,
   "metadata": {
    "tags": []
   },
   "outputs": [
    {
     "name": "stdout",
     "output_type": "stream",
     "text": [
      "3 Physical GPUs, 3 Logical GPUs\n"
     ]
    }
   ],
   "source": [
    "import tensorflow as tf\n",
    "# Define GPU settings\n",
    "gpus = tf.config.experimental.list_physical_devices('GPU')\n",
    "if gpus:\n",
    "    try:\n",
    "        # Create a TensorFlow session that uses both GPUs\n",
    "        for gpu in gpus:\n",
    "            tf.config.experimental.set_memory_growth(gpu, True)\n",
    "        logical_gpus = tf.config.experimental.list_logical_devices('GPU')\n",
    "        print(len(gpus), \"Physical GPUs,\", len(logical_gpus), \"Logical GPUs\")\n",
    "    except RuntimeError as e:\n",
    "        # Visualization is computationally expensive and can't run alongside model training.\n",
    "        print(e)"
   ]
  },
  {
   "cell_type": "code",
   "execution_count": 6,
   "metadata": {
    "colab": {
     "base_uri": "https://localhost:8080/"
    },
    "id": "FMqsqKpk7TrH",
    "outputId": "319b5f13-6fff-47a3-fd8b-f7e85e7a67d0",
    "tags": []
   },
   "outputs": [
    {
     "name": "stdout",
     "output_type": "stream",
     "text": [
      "2.10.0\n"
     ]
    }
   ],
   "source": [
    "import os\n",
    "#os.environ['CUDA_VISIBLE_DEVICES'] = '1'     # GPU 1\n",
    "import tensorflow as tf\n",
    "print(tf.__version__) # check the version (should be 2.x+)"
   ]
  },
  {
   "cell_type": "markdown",
   "metadata": {},
   "source": [
    "<div dir=\"rtl\">\n",
    "\n",
    "## إنشاء البيانات لعرضها وملاءمتها\n",
    "\n",
    "##### بما أننا نعمل على حل **مشكلة الانحدار** (التنبؤ برقم)، فلننشئ بعض البيانات الخطية (خط مستقيم) للنموذج."
   ]
  },
  {
   "cell_type": "code",
   "execution_count": 7,
   "metadata": {
    "colab": {
     "base_uri": "https://localhost:8080/",
     "height": 269
    },
    "id": "G43tWFof6i7T",
    "outputId": "04bc42be-84b7-43e6-f10e-41e0a06ca1b0",
    "tags": []
   },
   "outputs": [
    {
     "data": {
      "image/png": "[encoded data removed]",
      "text/plain": [
       "<Figure size 640x480 with 1 Axes>"
      ]
     },
     "metadata": {},
     "output_type": "display_data"
    }
   ],
   "source": [
    "import numpy as np\n",
    "import matplotlib.pyplot as plt\n",
    "\n",
    "# Create features\n",
    "X = np.array([-7.0, -4.0, -1.0, 2.0, 5.0, 8.0, 11.0, 14.0])\n",
    "\n",
    "# Create labels\n",
    "y = np.array([3.0, 6.0, 9.0, 12.0, 15.0, 18.0, 21.0, 24.0])\n",
    "\n",
    "# Visualize it\n",
    "plt.scatter(X, y);"
   ]
  },
  {
   "cell_type": "markdown",
   "metadata": {
    "id": "9ONZF8un7_xy"
   },
   "source": [
    "<div dir=\"rtl\">\n",
    "\n",
    "##### قبل أن نقوم بأي عملية نمذجة، هل يمكنك حساب النمط بين \"X\" و\"y\"؟\n",
    "\n",
    "##### على سبيل المثال، لنفترض أنني سألتك، بناءً على هذه البيانات، ما هي قيمة \"y\" إذا كانت \"X\" تساوي 17.0؟\n",
    "\n",
    "##### أو ماذا لو كان \"X\" هو -10.0؟\n",
    "\n",
    "##### هذا النوع من اكتشاف الأنماط هو جوهر ما سنقوم ببناء الشبكات العصبية للقيام به من أجلنا. (ص = س + 10) "
   ]
  },
  {
   "cell_type": "markdown",
   "metadata": {},
   "source": [
    "<div dir=\"rtl\">\n",
    "\n",
    "## أشكال إدخال الانحدار وأشكال الإخراج\n",
    "\n",
    "##### أحد أهم المفاهيم عند العمل مع الشبكات العصبية هي أشكال الإدخال والإخراج.\n",
    "\n",
    "##### شكل الإدخال هو شكل بياناتك التي تدخل في النموذج. \n",
    "\n",
    "##### شكل الإخراج هو شكل بياناتك التي تريد أن تخرج من النموذج الخاص بك.\n",
    "\n",
    "##### ستختلف هذه وفقًا للمشكلة التي تعمل عليها.\n",
    "\n",
    "##### تقبل الشبكات العصبية الأرقام وأرقام الإخراج. عادةً ما يتم تمثيل هذه الأرقام كموترات (أو صفائف).\n",
    "\n",
    "##### من قبل، قمنا بإنشاء البيانات باستخدام مصفوفات NumPy، ولكن يمكننا أن نفعل الشيء نفسه مع الموترات."
   ]
  },
  {
   "cell_type": "code",
   "execution_count": 8,
   "metadata": {
    "colab": {
     "base_uri": "https://localhost:8080/"
    },
    "id": "XrXQ3m0prWXa",
    "outputId": "c8fd3447-9379-44cf-b671-ee1c0f82813f",
    "tags": []
   },
   "outputs": [
    {
     "data": {
      "text/plain": [
       "(<tf.Tensor: shape=(3,), dtype=string, numpy=array([b'bedroom', b'bathroom', b'garage'], dtype=object)>,\n",
       " <tf.Tensor: shape=(1,), dtype=int32, numpy=array([939700], dtype=int32)>)"
      ]
     },
     "execution_count": 8,
     "metadata": {},
     "output_type": "execute_result"
    }
   ],
   "source": [
    "# Example input and output shapes of a regresson model\n",
    "house_info = tf.constant([\"bedroom\", \"bathroom\", \"garage\"])\n",
    "house_price = tf.constant([939700])\n",
    "house_info, house_price"
   ]
  },
  {
   "cell_type": "code",
   "execution_count": 9,
   "metadata": {
    "colab": {
     "base_uri": "https://localhost:8080/"
    },
    "id": "Yi3VWKH6sRrZ",
    "outputId": "4d32f5e9-7f93-46e9-a1c1-8106d21cca39",
    "tags": []
   },
   "outputs": [
    {
     "data": {
      "text/plain": [
       "(TensorShape([3]), TensorShape([1]))"
      ]
     },
     "execution_count": 9,
     "metadata": {},
     "output_type": "execute_result"
    }
   ],
   "source": [
    "house_info.shape, house_price.shape"
   ]
  },
  {
   "cell_type": "code",
   "execution_count": 10,
   "metadata": {
    "colab": {
     "base_uri": "https://localhost:8080/",
     "height": 269
    },
    "id": "kOxyr9sR6m9X",
    "outputId": "02b5e416-6b5b-4429-b73b-0ca19f5c34e7",
    "tags": []
   },
   "outputs": [
    {
     "data": {
      "image/png": "[encoded data removed]",
      "text/plain": [
       "<Figure size 640x480 with 1 Axes>"
      ]
     },
     "metadata": {},
     "output_type": "display_data"
    }
   ],
   "source": [
    "import numpy as np\n",
    "import matplotlib.pyplot as plt\n",
    "\n",
    "# Create features (using tensors)\n",
    "X = tf.constant([-7.0, -4.0, -1.0, 2.0, 5.0, 8.0, 11.0, 14.0])\n",
    "\n",
    "# Create labels (using tensors)\n",
    "y = tf.constant([3.0, 6.0, 9.0, 12.0, 15.0, 18.0, 21.0, 24.0])\n",
    "\n",
    "# Visualize it\n",
    "plt.scatter(X, y);"
   ]
  },
  {
   "cell_type": "markdown",
   "metadata": {
    "id": "zaPxco6E9i1_"
   },
   "source": [
    "سيكون هدفنا هنا هو استخدام `X` للتنبؤ بـ `Y`.\n",
    "\n",
    "إذن **الإدخال** سيكون `X` و **الإخراج** سيكون `Y`.\n"
   ]
  },
  {
   "cell_type": "markdown",
   "metadata": {},
   "source": [
    "<div dir=\"rtl\">\n",
    "\n",
    "##### في حالتنا، نحاول بناء نموذج للتنبؤ بالنمط بين `X[0]` الذي يساوي `-7.0` و`y[0]` الذي يساوي `3.0`.\n",
    "\n",
    "##### والآن حصلنا على إجابتنا، ونحاول استخدام قيمة `X` واحدة للتنبؤ بقيمة `y` واحدة.\n",
    "\n",
    "##### ربما تفكر، \"يبدو هذا معقدًا جدًا لمجرد التنبؤ بخط مستقيم...\".\n",
    "\n",
    "##### وستكون على حق.\n",
    "\n",
    "##### لكن المفاهيم التي نغطيها هنا، مفاهيم أشكال الإدخال والإخراج للنموذج أساسية.\n",
    "\n",
    "##### في الواقع، من المحتمل أن يكونا من بين الأشياء التي ستقضي معظم وقتك فيهما عند العمل مع الشبكات العصبية: **التأكد من أن المدخلات والمخرجات في الشكل الصحيح**.\n",
    "\n",
    "##### إذا لم يكن الأمر منطقيًا الآن، فسنرى الكثير من الأمثلة لاحقًا (ستلاحظ قريبًا أن أشكال الإدخال والإخراج يمكن أن تكون تقريبًا أي شيء يمكنك تخيله).\n",
    "\n",
    "<img src=\"images/regression.png\" alt=\"a 6 step scikit-learn workflow\" />\n",
    "\n",
    "##### *إذا كنت تعمل على بناء خوارزمية تعلم آلي للتنبؤ بأسعار المساكن، فقد تكون مدخلاتك عدد غرف النوم وعدد الحمامات وعدد الكراجات، مما يمنحك شكل مدخلات 3 (3 ميزات مختلفة). وبما أنك تحاول التنبؤ بسعر المنزل، فإن شكل الناتج سيكون 1.*"
   ]
  },
  {
   "cell_type": "markdown",
   "metadata": {
    "id": "PhAIqjrn6olF"
   },
   "source": [
    "<div dir=\"rtl\">\n",
    "    \n",
    "## خطوات النمذجة باستخدام TensorFlow\n",
    "\n",
    "##### الآن بعد أن عرفنا ما هي البيانات التي لدينا بالإضافة إلى أشكال المدخلات والمخرجات، دعونا نرى كيف يمكننا بناء شبكة عصبية لنمذجتها.\n",
    "\n",
    "##### في TensorFlow، هناك عادةً 3 خطوات أساسية لإنشاء نموذج وتدريبه.\n",
    "\n",
    "1. **إنشاء نموذج** - قم بتجميع طبقات الشبكة العصبية بنفسك (باستخدام [Functional](https://www.tensorflow.org/guide/keras/functional) أو [Functional](https://www.tensorflow.org/guide/keras/functional)) أو قم باستيراد نموذج تم إنشاؤه مسبقًا (المعروف باسم نقل التعلم).\n",
    "2. **تجميع نموذج** - تحديد كيفية قياس أداء النموذج (الخسارة/المقاييس) بالإضافة إلى تحديد كيفية تحسينه (المُحسِّن).\n",
    "3. **ملاءمة النموذج** - السماح للنموذج بمحاولة العثور على أنماط في البيانات (كيف يصل `X` إلى `y`).\n",
    "\n",
    "##### دعونا نرى هذه الأمور عمليًا باستخدام [Keras Sequential API](https://www.tensorflow.org/api_docs/python/tf/keras/Sequential) لبناء نموذج لبيانات الانحدار الخاصة بنا. وبعد ذلك سننتقل إلى كل منها.\n",
    "\n",
    "##### > **ملاحظة:** إذا كنت تستخدم [TensorFlow 2.7.0](https://github.com/tensorflow/tensorflow/releases/tag/v2.7.0)+، فلن تقوم الدالة `fit()` بترقية بيانات الإدخال للانتقال من `(batch_size, )` إلى `(batch_size, 1)`. لإصلاح ذلك، ستحتاج إلى توسيع بُعد بيانات الإدخال باستخدام `tf.expand_dims(input_data, axis=-1)`.\n",
    ">\n",
    "##### > في حالتنا، هذا يعني بدلاً من استخدام `model.fit(X, y, epochs=5)`، استخدم `model.fit(tf.expand_dims(X, axis=-1), y, epochs=5)` ."
   ]
  },
  {
   "cell_type": "code",
   "execution_count": 11,
   "metadata": {
    "tags": []
   },
   "outputs": [],
   "source": [
    "model=[]"
   ]
  },
  {
   "cell_type": "code",
   "execution_count": 12,
   "metadata": {
    "colab": {
     "base_uri": "https://localhost:8080/"
    },
    "id": "P9jj-OE16yCn",
    "outputId": "63cf816f-16af-4867-f71a-242682033473",
    "tags": []
   },
   "outputs": [
    {
     "name": "stdout",
     "output_type": "stream",
     "text": [
      "Epoch 1/5\n",
      "1/1 [==============================] - 2s 2s/step - loss: 9.1572 - mae: 9.1572\n",
      "Epoch 2/5\n",
      "1/1 [==============================] - 0s 2ms/step - loss: 9.0247 - mae: 9.0247\n",
      "Epoch 3/5\n",
      "1/1 [==============================] - 0s 2ms/step - loss: 8.8922 - mae: 8.8922\n",
      "Epoch 4/5\n",
      "1/1 [==============================] - 0s 2ms/step - loss: 8.7597 - mae: 8.7597\n",
      "Epoch 5/5\n",
      "1/1 [==============================] - 0s 2ms/step - loss: 8.6272 - mae: 8.6272\n"
     ]
    },
    {
     "data": {
      "text/plain": [
       "<keras.callbacks.History at 0x14fa4435ca60>"
      ]
     },
     "execution_count": 12,
     "metadata": {},
     "output_type": "execute_result"
    }
   ],
   "source": [
    "import random\n",
    "# Set random seed\n",
    "tf.random.set_seed(42)\n",
    "random.seed(42)\n",
    "np.random.seed(42)\n",
    "\n",
    "# Create a model using the Sequential API\n",
    "model = tf.keras.Sequential([\n",
    "  tf.keras.layers.Dense(1)\n",
    "])\n",
    "\n",
    "# Compile the model\n",
    "model.compile(loss=tf.keras.losses.mae, # mae is short for mean absolute error\n",
    "              optimizer=tf.keras.optimizers.SGD(), # SGD is short for stochastic gradient descent\n",
    "              metrics=[\"mae\"])\n",
    "\n",
    "# Fit the model\n",
    "# model.fit(X, y, epochs=5) # this will break with TensorFlow 2.7.0+\n",
    "model.fit(tf.expand_dims(X, axis=-1), y, epochs=5)"
   ]
  },
  {
   "cell_type": "markdown",
   "metadata": {
    "id": "bbjCwkEtetB9"
   },
   "source": [
    "لقد قمنا للتو بتدريب نموذج لمعرفة الأنماط بين `X` و`y`.\n",
    "\n",
    "كيف تعتقد أن الأمر سار؟"
   ]
  },
  {
   "cell_type": "code",
   "execution_count": 13,
   "metadata": {
    "colab": {
     "base_uri": "https://localhost:8080/"
    },
    "id": "VWLpG2U3erWo",
    "outputId": "16076fb8-e754-4edb-b18b-3e5c30d6e2be",
    "tags": []
   },
   "outputs": [
    {
     "data": {
      "text/plain": [
       "(<tf.Tensor: shape=(8,), dtype=float32, numpy=array([-7., -4., -1.,  2.,  5.,  8., 11., 14.], dtype=float32)>,\n",
       " <tf.Tensor: shape=(8,), dtype=float32, numpy=array([ 3.,  6.,  9., 12., 15., 18., 21., 24.], dtype=float32)>)"
      ]
     },
     "execution_count": 13,
     "metadata": {},
     "output_type": "execute_result"
    }
   ],
   "source": [
    "# Check out X and y\n",
    "X, y"
   ]
  },
  {
   "cell_type": "markdown",
   "metadata": {
    "id": "0ZpkaI_Oe6no"
   },
   "source": [
    "ما رأيك في النتيجة التي يجب أن تكون إذا مررنا لنموذجنا قيمة \"X\" بقيمة 17.0؟"
   ]
  },
  {
   "cell_type": "code",
   "execution_count": 14,
   "metadata": {
    "colab": {
     "base_uri": "https://localhost:8080/"
    },
    "id": "X86cD66Qeo-8",
    "outputId": "29b569e6-90ce-46c7-8842-4ca69c5144a3",
    "tags": []
   },
   "outputs": [
    {
     "name": "stdout",
     "output_type": "stream",
     "text": [
      "1/1 [==============================] - 0s 83ms/step\n"
     ]
    },
    {
     "data": {
      "text/plain": [
       "array([[24.118654]], dtype=float32)"
      ]
     },
     "execution_count": 14,
     "metadata": {},
     "output_type": "execute_result"
    }
   ],
   "source": [
    "# Make a prediction with the model\n",
    "model.predict([17.0])"
   ]
  },
  {
   "cell_type": "markdown",
   "metadata": {
    "id": "2YoKIqhffq33"
   },
   "source": [
    "<div dir=\"rtl\">\n",
    "\n",
    "##### لا تسير الأمور على ما يرام... كان من المفترض أن يكون الناتج قريبًا من 27.0.\n",
    "\n",
    "##### > 🤔 **السؤال:** ما هو الكيراس؟ اعتقدت أننا نعمل مع TensorFlow ولكن في كل مرة نكتب فيها كود TensorFlow، يأتي `keras` بعد `tf` (على سبيل المثال، `tf.keras.layers.Dense()`)؟\n",
    "\n",
    "##### قبل TensorFlow 2.0+، كانت [Keras](https://keras.io/) عبارة عن واجهة برمجة تطبيقات مصممة لتكون قادرة على بناء نماذج التعلم العميق بسهولة. منذ إصدار TensorFlow 2.0+، تم دمج وظائفه بإحكام داخل مكتبة TensorFlow."
   ]
  },
  {
   "cell_type": "markdown",
   "metadata": {
    "id": "qAPk1T3xgOm4"
   },
   "source": [
    "<div dir=\"rtl\">\n",
    "\n",
    "## تحسين النموذج\n",
    "\n",
    "##### كيف تعتقد أنك ستحسن نموذجنا الحالي؟\n",
    "\n",
    "##### إذا خمنت من خلال تعديل بعض الأشياء التي قمنا بها أعلاه، فستكون على صواب.\n",
    "\n",
    "##### لتحسين نموذجنا، قمنا تقريبًا بتعديل كل جزء من الخطوات الثلاث التي مررنا بها من قبل.\n",
    "\n",
    "1. **إنشاء نموذج** - قد ترغب هنا في إضافة المزيد من الطبقات، وزيادة عدد الوحدات المخفية (وتسمى أيضًا الخلايا العصبية) داخل كل طبقة، وتغيير وظائف التنشيط لكل طبقة.\n",
    "2. **تجميع نموذج** - قد ترغب في اختيار وظيفة التحسين أو ربما تغيير **معدل التعلم** لوظيفة التحسين.\n",
    "3. **ملاءمة النموذج** - ربما يمكنك ملاءمة النموذج لمزيد من **العصور** (اتركه للتدريب لفترة أطول) أو لمزيد من البيانات (أعط النموذج المزيد من الأمثلة للتعلم منها).\n",
    "\n",
    "<img src=\"images/improve_model.png\" alt=\"a 6 step scikit-learn workflow\" />\n",
    "\n",
    "* هناك العديد من الطرق المختلفة لتحسين الشبكة العصبية. تتضمن بعض الطرق الأكثر شيوعًا: زيادة عدد الطبقات (جعل الشبكة أعمق)، وزيادة عدد الوحدات المخفية (جعل الشبكة أوسع)، وتغيير معدل التعلم. نظرًا لأن هذه القيم كلها قابلة للتغيير بواسطة الإنسان، تتم الإشارة إليها باسم [hyperparameters](https://en.wikipedia.org/wiki/Hyperparameter_(machine_learning)) ويشار إلى ممارسة محاولة العثور على أفضل المعلمات الفائقة باسم [hyperparameters](https://en.wikipedia.org/wiki/Hyperparameter_(machine_learning).*\n",
    "\n",
    "##### واو. لقد قدمنا ​​للتو مجموعة من الخطوات الممكنة. الشيء المهم الذي يجب أن تتذكره هو أن كيفية تغيير كل من هذه الأمور ستعتمد على المشكلة التي تعمل عليها.\n",
    "\n",
    "##### والشيء الجيد هو أنه خلال المشاكل القليلة القادمة، سنعمل على حلها جميعًا.\n",
    "\n",
    "##### في الوقت الحالي، دعونا نجعل الأمر بسيطًا، كل ما سنفعله هو تدريب نموذجنا لفترة أطول (سيبقى كل شيء آخر كما هو). "
   ]
  },
  {
   "cell_type": "code",
   "execution_count": 15,
   "metadata": {
    "colab": {
     "base_uri": "https://localhost:8080/"
    },
    "id": "MI0LammMgWcN",
    "outputId": "0c01661d-6495-476a-b71e-bc63aa7e9ffe",
    "tags": []
   },
   "outputs": [
    {
     "name": "stdout",
     "output_type": "stream",
     "text": [
      "Epoch 1/100\n",
      "1/1 [==============================] - 0s 184ms/step - loss: 9.1572 - mae: 9.1572\n",
      "Epoch 2/100\n",
      "1/1 [==============================] - 0s 2ms/step - loss: 9.0247 - mae: 9.0247\n",
      "Epoch 3/100\n",
      "1/1 [==============================] - 0s 2ms/step - loss: 8.8922 - mae: 8.8922\n",
      "Epoch 4/100\n",
      "1/1 [==============================] - 0s 2ms/step - loss: 8.7597 - mae: 8.7597\n",
      "Epoch 5/100\n",
      "1/1 [==============================] - 0s 2ms/step - loss: 8.6272 - mae: 8.6272\n",
      "Epoch 6/100\n",
      "1/1 [==============================] - 0s 2ms/step - loss: 8.4947 - mae: 8.4947\n",
      "Epoch 7/100\n",
      "1/1 [==============================] - 0s 2ms/step - loss: 8.3622 - mae: 8.3622\n",
      "Epoch 8/100\n",
      "1/1 [==============================] - 0s 2ms/step - loss: 8.2297 - mae: 8.2297\n",
      "Epoch 9/100\n",
      "1/1 [==============================] - 0s 2ms/step - loss: 8.0972 - mae: 8.0972\n",
      "Epoch 10/100\n",
      "1/1 [==============================] - 0s 2ms/step - loss: 7.9647 - mae: 7.9647\n",
      "Epoch 11/100\n",
      "1/1 [==============================] - 0s 2ms/step - loss: 7.8322 - mae: 7.8322\n",
      "Epoch 12/100\n",
      "1/1 [==============================] - 0s 2ms/step - loss: 7.6997 - mae: 7.6997\n",
      "Epoch 13/100\n",
      "1/1 [==============================] - 0s 2ms/step - loss: 7.5672 - mae: 7.5672\n",
      "Epoch 14/100\n",
      "1/1 [==============================] - 0s 2ms/step - loss: 7.4347 - mae: 7.4347\n",
      "Epoch 15/100\n",
      "1/1 [==============================] - 0s 2ms/step - loss: 7.3950 - mae: 7.3950\n",
      "Epoch 16/100\n",
      "1/1 [==============================] - 0s 2ms/step - loss: 7.3894 - mae: 7.3894\n",
      "Epoch 17/100\n",
      "1/1 [==============================] - 0s 2ms/step - loss: 7.3837 - mae: 7.3837\n",
      "Epoch 18/100\n",
      "1/1 [==============================] - 0s 2ms/step - loss: 7.3781 - mae: 7.3781\n",
      "Epoch 19/100\n",
      "1/1 [==============================] - 0s 2ms/step - loss: 7.3725 - mae: 7.3725\n",
      "Epoch 20/100\n",
      "1/1 [==============================] - 0s 2ms/step - loss: 7.3669 - mae: 7.3669\n",
      "Epoch 21/100\n",
      "1/1 [==============================] - 0s 2ms/step - loss: 7.3612 - mae: 7.3612\n",
      "Epoch 22/100\n",
      "1/1 [==============================] - 0s 2ms/step - loss: 7.3556 - mae: 7.3556\n",
      "Epoch 23/100\n",
      "1/1 [==============================] - 0s 2ms/step - loss: 7.3500 - mae: 7.3500\n",
      "Epoch 24/100\n",
      "1/1 [==============================] - 0s 2ms/step - loss: 7.3444 - mae: 7.3444\n",
      "Epoch 25/100\n",
      "1/1 [==============================] - 0s 2ms/step - loss: 7.3387 - mae: 7.3387\n",
      "Epoch 26/100\n",
      "1/1 [==============================] - 0s 2ms/step - loss: 7.3331 - mae: 7.3331\n",
      "Epoch 27/100\n",
      "1/1 [==============================] - 0s 2ms/step - loss: 7.3275 - mae: 7.3275\n",
      "Epoch 28/100\n",
      "1/1 [==============================] - 0s 2ms/step - loss: 7.3219 - mae: 7.3219\n",
      "Epoch 29/100\n",
      "1/1 [==============================] - 0s 2ms/step - loss: 7.3162 - mae: 7.3162\n",
      "Epoch 30/100\n",
      "1/1 [==============================] - 0s 2ms/step - loss: 7.3106 - mae: 7.3106\n",
      "Epoch 31/100\n",
      "1/1 [==============================] - 0s 2ms/step - loss: 7.3050 - mae: 7.3050\n",
      "Epoch 32/100\n",
      "1/1 [==============================] - 0s 2ms/step - loss: 7.2994 - mae: 7.2994\n",
      "Epoch 33/100\n",
      "1/1 [==============================] - 0s 2ms/step - loss: 7.2938 - mae: 7.2938\n",
      "Epoch 34/100\n",
      "1/1 [==============================] - 0s 2ms/step - loss: 7.2881 - mae: 7.2881\n",
      "Epoch 35/100\n",
      "1/1 [==============================] - 0s 2ms/step - loss: 7.2825 - mae: 7.2825\n",
      "Epoch 36/100\n",
      "1/1 [==============================] - 0s 2ms/step - loss: 7.2769 - mae: 7.2769\n",
      "Epoch 37/100\n",
      "1/1 [==============================] - 0s 2ms/step - loss: 7.2713 - mae: 7.2713\n",
      "Epoch 38/100\n",
      "1/1 [==============================] - 0s 2ms/step - loss: 7.2656 - mae: 7.2656\n",
      "Epoch 39/100\n",
      "1/1 [==============================] - 0s 2ms/step - loss: 7.2600 - mae: 7.2600\n",
      "Epoch 40/100\n",
      "1/1 [==============================] - 0s 2ms/step - loss: 7.2544 - mae: 7.2544\n",
      "Epoch 41/100\n",
      "1/1 [==============================] - 0s 2ms/step - loss: 7.2487 - mae: 7.2487\n",
      "Epoch 42/100\n",
      "1/1 [==============================] - 0s 2ms/step - loss: 7.2431 - mae: 7.2431\n",
      "Epoch 43/100\n",
      "1/1 [==============================] - 0s 2ms/step - loss: 7.2375 - mae: 7.2375\n",
      "Epoch 44/100\n",
      "1/1 [==============================] - 0s 2ms/step - loss: 7.2319 - mae: 7.2319\n",
      "Epoch 45/100\n",
      "1/1 [==============================] - 0s 2ms/step - loss: 7.2263 - mae: 7.2263\n",
      "Epoch 46/100\n",
      "1/1 [==============================] - 0s 2ms/step - loss: 7.2206 - mae: 7.2206\n",
      "Epoch 47/100\n",
      "1/1 [==============================] - 0s 2ms/step - loss: 7.2150 - mae: 7.2150\n",
      "Epoch 48/100\n",
      "1/1 [==============================] - 0s 2ms/step - loss: 7.2094 - mae: 7.2094\n",
      "Epoch 49/100\n",
      "1/1 [==============================] - 0s 2ms/step - loss: 7.2038 - mae: 7.2038\n",
      "Epoch 50/100\n",
      "1/1 [==============================] - 0s 2ms/step - loss: 7.1981 - mae: 7.1981\n",
      "Epoch 51/100\n",
      "1/1 [==============================] - 0s 2ms/step - loss: 7.1925 - mae: 7.1925\n",
      "Epoch 52/100\n",
      "1/1 [==============================] - 0s 2ms/step - loss: 7.1869 - mae: 7.1869\n",
      "Epoch 53/100\n",
      "1/1 [==============================] - 0s 2ms/step - loss: 7.1813 - mae: 7.1813\n",
      "Epoch 54/100\n",
      "1/1 [==============================] - 0s 2ms/step - loss: 7.1756 - mae: 7.1756\n",
      "Epoch 55/100\n",
      "1/1 [==============================] - 0s 2ms/step - loss: 7.1700 - mae: 7.1700\n",
      "Epoch 56/100\n",
      "1/1 [==============================] - 0s 2ms/step - loss: 7.1644 - mae: 7.1644\n",
      "Epoch 57/100\n",
      "1/1 [==============================] - 0s 2ms/step - loss: 7.1588 - mae: 7.1588\n",
      "Epoch 58/100\n",
      "1/1 [==============================] - 0s 2ms/step - loss: 7.1531 - mae: 7.1531\n",
      "Epoch 59/100\n",
      "1/1 [==============================] - 0s 2ms/step - loss: 7.1475 - mae: 7.1475\n",
      "Epoch 60/100\n",
      "1/1 [==============================] - 0s 2ms/step - loss: 7.1419 - mae: 7.1419\n",
      "Epoch 61/100\n",
      "1/1 [==============================] - 0s 2ms/step - loss: 7.1363 - mae: 7.1363\n",
      "Epoch 62/100\n",
      "1/1 [==============================] - 0s 2ms/step - loss: 7.1306 - mae: 7.1306\n",
      "Epoch 63/100\n",
      "1/1 [==============================] - 0s 2ms/step - loss: 7.1250 - mae: 7.1250\n",
      "Epoch 64/100\n",
      "1/1 [==============================] - 0s 2ms/step - loss: 7.1194 - mae: 7.1194\n",
      "Epoch 65/100\n",
      "1/1 [==============================] - 0s 2ms/step - loss: 7.1138 - mae: 7.1138\n",
      "Epoch 66/100\n",
      "1/1 [==============================] - 0s 2ms/step - loss: 7.1081 - mae: 7.1081\n",
      "Epoch 67/100\n",
      "1/1 [==============================] - 0s 2ms/step - loss: 7.1025 - mae: 7.1025\n",
      "Epoch 68/100\n",
      "1/1 [==============================] - 0s 2ms/step - loss: 7.0969 - mae: 7.0969\n",
      "Epoch 69/100\n",
      "1/1 [==============================] - 0s 2ms/step - loss: 7.0913 - mae: 7.0913\n",
      "Epoch 70/100\n",
      "1/1 [==============================] - 0s 2ms/step - loss: 7.0856 - mae: 7.0856\n",
      "Epoch 71/100\n",
      "1/1 [==============================] - 0s 2ms/step - loss: 7.0800 - mae: 7.0800\n",
      "Epoch 72/100\n",
      "1/1 [==============================] - 0s 2ms/step - loss: 7.0744 - mae: 7.0744\n",
      "Epoch 73/100\n",
      "1/1 [==============================] - 0s 2ms/step - loss: 7.0688 - mae: 7.0688\n",
      "Epoch 74/100\n",
      "1/1 [==============================] - 0s 2ms/step - loss: 7.0631 - mae: 7.0631\n",
      "Epoch 75/100\n",
      "1/1 [==============================] - 0s 2ms/step - loss: 7.0575 - mae: 7.0575\n",
      "Epoch 76/100\n",
      "1/1 [==============================] - 0s 2ms/step - loss: 7.0519 - mae: 7.0519\n",
      "Epoch 77/100\n",
      "1/1 [==============================] - 0s 2ms/step - loss: 7.0463 - mae: 7.0463\n",
      "Epoch 78/100\n",
      "1/1 [==============================] - 0s 2ms/step - loss: 7.0406 - mae: 7.0406\n",
      "Epoch 79/100\n",
      "1/1 [==============================] - 0s 2ms/step - loss: 7.0350 - mae: 7.0350\n",
      "Epoch 80/100\n",
      "1/1 [==============================] - 0s 2ms/step - loss: 7.0294 - mae: 7.0294\n",
      "Epoch 81/100\n",
      "1/1 [==============================] - 0s 2ms/step - loss: 7.0238 - mae: 7.0238\n",
      "Epoch 82/100\n",
      "1/1 [==============================] - 0s 2ms/step - loss: 7.0181 - mae: 7.0181\n",
      "Epoch 83/100\n",
      "1/1 [==============================] - 0s 2ms/step - loss: 7.0125 - mae: 7.0125\n",
      "Epoch 84/100\n",
      "1/1 [==============================] - 0s 2ms/step - loss: 7.0069 - mae: 7.0069\n",
      "Epoch 85/100\n",
      "1/1 [==============================] - 0s 2ms/step - loss: 7.0013 - mae: 7.0013\n",
      "Epoch 86/100\n",
      "1/1 [==============================] - 0s 2ms/step - loss: 6.9956 - mae: 6.9956\n",
      "Epoch 87/100\n",
      "1/1 [==============================] - 0s 2ms/step - loss: 6.9900 - mae: 6.9900\n",
      "Epoch 88/100\n",
      "1/1 [==============================] - 0s 2ms/step - loss: 6.9844 - mae: 6.9844\n",
      "Epoch 89/100\n",
      "1/1 [==============================] - 0s 2ms/step - loss: 6.9788 - mae: 6.9788\n",
      "Epoch 90/100\n",
      "1/1 [==============================] - 0s 2ms/step - loss: 6.9731 - mae: 6.9731\n",
      "Epoch 91/100\n",
      "1/1 [==============================] - 0s 2ms/step - loss: 6.9675 - mae: 6.9675\n",
      "Epoch 92/100\n",
      "1/1 [==============================] - 0s 2ms/step - loss: 6.9619 - mae: 6.9619\n",
      "Epoch 93/100\n",
      "1/1 [==============================] - 0s 2ms/step - loss: 6.9563 - mae: 6.9563\n",
      "Epoch 94/100\n",
      "1/1 [==============================] - 0s 2ms/step - loss: 6.9506 - mae: 6.9506\n",
      "Epoch 95/100\n",
      "1/1 [==============================] - 0s 2ms/step - loss: 6.9450 - mae: 6.9450\n",
      "Epoch 96/100\n",
      "1/1 [==============================] - 0s 2ms/step - loss: 6.9394 - mae: 6.9394\n",
      "Epoch 97/100\n",
      "1/1 [==============================] - 0s 2ms/step - loss: 6.9338 - mae: 6.9338\n",
      "Epoch 98/100\n",
      "1/1 [==============================] - 0s 2ms/step - loss: 6.9281 - mae: 6.9281\n",
      "Epoch 99/100\n",
      "1/1 [==============================] - 0s 2ms/step - loss: 6.9225 - mae: 6.9225\n",
      "Epoch 100/100\n",
      "1/1 [==============================] - 0s 2ms/step - loss: 6.9169 - mae: 6.9169\n"
     ]
    },
    {
     "data": {
      "text/plain": [
       "<keras.callbacks.History at 0x14fa440dcbb0>"
      ]
     },
     "execution_count": 15,
     "metadata": {},
     "output_type": "execute_result"
    }
   ],
   "source": [
    "# Set random seed\n",
    "tf.random.set_seed(42)\n",
    "random.seed(42)\n",
    "np.random.seed(42)\n",
    "\n",
    "# Create a model (same as above)\n",
    "model = tf.keras.Sequential([\n",
    "  tf.keras.layers.Dense(1)\n",
    "])\n",
    "\n",
    "# Compile model (same as above)\n",
    "model.compile(loss=tf.keras.losses.mae,\n",
    "              optimizer=tf.keras.optimizers.SGD(),\n",
    "              metrics=[\"mae\"])\n",
    "\n",
    "# Fit model (this time we'll train for longer)\n",
    "model.fit(tf.expand_dims(X, axis=-1), y, epochs=100) # train for 100 epochs not 10"
   ]
  },
  {
   "cell_type": "markdown",
   "metadata": {},
   "source": [
    "<div dir=\"rtl\">\n",
    "    \n",
    "##### ربما لاحظت انخفاض قيمة الخسارة من قبل (ويستمر في الانخفاض مع ارتفاع عدد العصور).\n",
    "\n",
    "##### ماذا يعني هذا في رأيك عندما نقوم بالتنبؤ باستخدام نموذجنا؟ \n",
    "\n",
    "##### ماذا عن محاولة التنبؤ بالإصدار 17.0 مرة أخرى؟"
   ]
  },
  {
   "cell_type": "code",
   "execution_count": 16,
   "metadata": {
    "colab": {
     "base_uri": "https://localhost:8080/"
    },
    "id": "_YcacZsfi4zZ",
    "outputId": "011ee264-7e6e-47f6-cd8e-26627befb2b5",
    "tags": []
   },
   "outputs": [
    {
     "data": {
      "text/plain": [
       "(<tf.Tensor: shape=(8,), dtype=float32, numpy=array([-7., -4., -1.,  2.,  5.,  8., 11., 14.], dtype=float32)>,\n",
       " <tf.Tensor: shape=(8,), dtype=float32, numpy=array([ 3.,  6.,  9., 12., 15., 18., 21., 24.], dtype=float32)>)"
      ]
     },
     "execution_count": 16,
     "metadata": {},
     "output_type": "execute_result"
    }
   ],
   "source": [
    "# Remind ourselves of what X and y are\n",
    "X, y"
   ]
  },
  {
   "cell_type": "code",
   "execution_count": 17,
   "metadata": {
    "colab": {
     "base_uri": "https://localhost:8080/"
    },
    "id": "e6k5V08ZivNO",
    "outputId": "9f703f97-1b6d-41af-b408-18a99aa6c8dc",
    "tags": []
   },
   "outputs": [
    {
     "name": "stdout",
     "output_type": "stream",
     "text": [
      "1/1 [==============================] - 0s 66ms/step\n"
     ]
    },
    {
     "data": {
      "text/plain": [
       "array([[30.208649]], dtype=float32)"
      ]
     },
     "execution_count": 17,
     "metadata": {},
     "output_type": "execute_result"
    }
   ],
   "source": [
    "# Try and predict what y would be if X was 17.0\n",
    "model.predict([17.0]) # the right answer is 27.0 (y = X + 10)"
   ]
  },
  {
   "cell_type": "markdown",
   "metadata": {
    "id": "sYi5V8ZYi_dy"
   },
   "source": [
    "<div dir=\"rtl\">\n",
    "\n",
    "##### لقد اقتربنا هذه المرة. ولكن لا يزال بإمكاننا أن نكون أفضل.\n",
    "\n",
    "##### الآن قمنا بتدريب نموذج، كيف يمكننا تقييمه؟"
   ]
  },
  {
   "cell_type": "markdown",
   "metadata": {},
   "source": [
    "<div dir=\"rtl\">\n",
    "\n",
    "## تقييم النموذج\n",
    "\n",
    "##### سير العمل النموذجي الذي ستتبعه عند بناء الشبكات العصبية هو:\n",
    "\n",
    "```\n",
    "Build a model -> evaluate it -> build (tweak) a model -> evaulate it -> build (tweak) a model -> evaluate it...\n",
    "```\n",
    "\n",
    "##### ربما يأتي التغيير والتبديل من عدم بناء نموذج من الصفر ولكن من تعديل نموذج موجود.\n",
    "\n",
    "### تصور، تصور، تصور\n",
    "\n",
    "##### عندما يتعلق الأمر بالتقييم، عليك أن تتذكر الكلمات: \"تصور، تصور، تصور\".\n",
    "\n",
    "##### هذا لأنك ربما تنظر إلى شيء ما (تفعله) بشكل أفضل من التفكير في شيء ما.\n",
    "\n",
    "##### إنها فكرة جيدة أن تتصور:\n",
    "* **البيانات** - ما هي البيانات التي تستخدمها؟ كيف تبدو؟\n",
    "* **النموذج نفسه** - كيف يبدو التصميم المعماري؟ ما هي الأشكال المختلفة؟\n",
    "* **تدريب النموذج** - كيف يعمل النموذج أثناء التعلم؟\n",
    "* **تنبؤات النموذج** - كيف تتوافق تنبؤات النموذج مع الحقيقة الأرضية (المسميات الأصلية)؟\n",
    "\n",
    "##### لنبدأ بتصور النموذج.\n",
    "\n",
    "##### لكن أولاً، سنقوم بإنشاء مجموعة بيانات أكبر قليلاً ونموذج جديد يمكننا استخدامه (سيكون هو نفسه كما كان من قبل، ولكن كلما زاد التدريب كلما كان ذلك أفضل)."
   ]
  },
  {
   "cell_type": "code",
   "execution_count": 18,
   "metadata": {
    "colab": {
     "base_uri": "https://localhost:8080/"
    },
    "id": "srxuqbeYopns",
    "outputId": "85d3bffc-9c4c-40e7-8223-25ff0209e395",
    "tags": []
   },
   "outputs": [
    {
     "data": {
      "text/plain": [
       "array([-100,  -96,  -92,  -88,  -84,  -80,  -76,  -72,  -68,  -64,  -60,\n",
       "        -56,  -52,  -48,  -44,  -40,  -36,  -32,  -28,  -24,  -20,  -16,\n",
       "        -12,   -8,   -4,    0,    4,    8,   12,   16,   20,   24,   28,\n",
       "         32,   36,   40,   44,   48,   52,   56,   60,   64,   68,   72,\n",
       "         76,   80,   84,   88,   92,   96])"
      ]
     },
     "execution_count": 18,
     "metadata": {},
     "output_type": "execute_result"
    }
   ],
   "source": [
    "# Make a bigger dataset\n",
    "X = np.arange(-100, 100, 4)\n",
    "X"
   ]
  },
  {
   "cell_type": "code",
   "execution_count": 19,
   "metadata": {
    "colab": {
     "base_uri": "https://localhost:8080/"
    },
    "id": "pQcC0nSko3kJ",
    "outputId": "4fc242dc-0da9-499f-8f42-de2a0c837202",
    "tags": []
   },
   "outputs": [
    {
     "data": {
      "text/plain": [
       "array([-90, -86, -82, -78, -74, -70, -66, -62, -58, -54, -50, -46, -42,\n",
       "       -38, -34, -30, -26, -22, -18, -14, -10,  -6,  -2,   2,   6,  10,\n",
       "        14,  18,  22,  26,  30,  34,  38,  42,  46,  50,  54,  58,  62,\n",
       "        66,  70,  74,  78,  82,  86,  90,  94,  98, 102, 106])"
      ]
     },
     "execution_count": 19,
     "metadata": {},
     "output_type": "execute_result"
    }
   ],
   "source": [
    "# Make labels for the dataset (adhering to the same pattern as before)\n",
    "y = np.arange(-90, 110, 4)\n",
    "y"
   ]
  },
  {
   "cell_type": "markdown",
   "metadata": {
    "id": "KNIw5tgGpKjb"
   },
   "source": [
    "بما أن $y=X+10$، يمكننا أن نجعل التصنيفات كالتالي:"
   ]
  },
  {
   "cell_type": "code",
   "execution_count": 20,
   "metadata": {
    "colab": {
     "base_uri": "https://localhost:8080/"
    },
    "id": "ACgbmrAOpJwW",
    "outputId": "de9805da-e70b-4dba-ace3-b18ea0e277db",
    "tags": []
   },
   "outputs": [
    {
     "data": {
      "text/plain": [
       "array([-90, -86, -82, -78, -74, -70, -66, -62, -58, -54, -50, -46, -42,\n",
       "       -38, -34, -30, -26, -22, -18, -14, -10,  -6,  -2,   2,   6,  10,\n",
       "        14,  18,  22,  26,  30,  34,  38,  42,  46,  50,  54,  58,  62,\n",
       "        66,  70,  74,  78,  82,  86,  90,  94,  98, 102, 106])"
      ]
     },
     "execution_count": 20,
     "metadata": {},
     "output_type": "execute_result"
    }
   ],
   "source": [
    "# Same result as above\n",
    "y = X + 10\n",
    "y"
   ]
  },
  {
   "cell_type": "markdown",
   "metadata": {},
   "source": [
    "<div dir=\"rtl\">\n",
    "\n",
    "## تقسيم البيانات إلى مجموعة تدريب/اختبار\n",
    "\n",
    "##### إحدى الخطوات الأخرى الأكثر شيوعًا والأكثر أهمية في مشروع التعلم الآلي هي إنشاء مجموعة تدريب واختبار (ومجموعة التحقق عند الحاجة).\n",
    "\n",
    "##### كل مجموعة تخدم غرضًا محددًا:\n",
    "* **مجموعة التدريب** - يتعلم النموذج من هذه البيانات، والتي تمثل عادةً 70-80% من إجمالي البيانات المتاحة (مثل مواد الدورة التدريبية التي تدرسها خلال الفصل الدراسي).\n",
    "* **مجموعة التحقق** - يتم ضبط النموذج على هذه البيانات، والتي تمثل عادةً 10-15% من إجمالي البيانات المتاحة (مثل الاختبار التدريبي الذي تجريه قبل الاختبار النهائي).\n",
    "* **مجموعة الاختبار** - يتم تقييم النموذج بناءً على هذه البيانات لاختبار ما تعلمه، وعادةً ما يكون ذلك بنسبة 10-15% من إجمالي البيانات المتاحة (مثل الاختبار النهائي الذي تجريه في نهاية الفصل الدراسي).\n",
    "\n",
    "##### في الوقت الحالي، سنستخدم فقط مجموعة التدريب والاختبار، وهذا يعني أنه سيكون لدينا مجموعة بيانات لنموذجنا لنتعلمها ونقيم عليها.\n",
    "\n",
    "##### يمكننا إنشاؤها عن طريق تقسيم المصفوفتين \"X\" و\"y\".\n",
    "\n",
    "##### > 🔑 **ملاحظة:** عند التعامل مع بيانات العالم الحقيقي، يتم عادةً تنفيذ هذه الخطوة مباشرةً في بداية المشروع (يجب أن تظل مجموعة الاختبار منفصلة دائمًا عن جميع البيانات الأخرى). نريد أن يتعلم نموذجنا بيانات التدريب ثم يقيمها على بيانات الاختبار للحصول على إشارة إلى مدى جودة **تعميمها** على الأمثلة غير المرئية."
   ]
  },
  {
   "cell_type": "code",
   "execution_count": 21,
   "metadata": {
    "colab": {
     "base_uri": "https://localhost:8080/"
    },
    "id": "5G0RDMnZrgvK",
    "outputId": "d7bffb88-c10b-47fd-cd68-b1d678f8647f",
    "tags": []
   },
   "outputs": [
    {
     "data": {
      "text/plain": [
       "50"
      ]
     },
     "execution_count": 21,
     "metadata": {},
     "output_type": "execute_result"
    }
   ],
   "source": [
    "# Check how many samples we have\n",
    "len(X)"
   ]
  },
  {
   "cell_type": "code",
   "execution_count": 22,
   "metadata": {
    "colab": {
     "base_uri": "https://localhost:8080/"
    },
    "id": "4Q9ptcQkrGfO",
    "outputId": "402152b7-1abe-4eae-fc85-b7aa5224e966",
    "tags": []
   },
   "outputs": [
    {
     "data": {
      "text/plain": [
       "(40, 10)"
      ]
     },
     "execution_count": 22,
     "metadata": {},
     "output_type": "execute_result"
    }
   ],
   "source": [
    "# Split data into train and test sets\n",
    "X_train = X[:40] # first 40 examples (80% of data)\n",
    "y_train = y[:40]\n",
    "\n",
    "X_test = X[40:] # last 10 examples (20% of data)\n",
    "y_test = y[40:]\n",
    "\n",
    "len(X_train), len(X_test)"
   ]
  },
  {
   "cell_type": "markdown",
   "metadata": {},
   "source": [
    "<div dir=\"rtl\">\n",
    "\n",
    "## تصور البيانات\n",
    "\n",
    "##### الآن حصلنا على بيانات التدريب والاختبار، ومن الجيد أن نتصورها.\n",
    "\n",
    "##### دعونا نرسمها ببعض الألوان الجميلة للتمييز بين ما هو وما هو."
   ]
  },
  {
   "cell_type": "code",
   "execution_count": 23,
   "metadata": {
    "colab": {
     "base_uri": "https://localhost:8080/",
     "height": 428
    },
    "id": "os30CXBHsOAH",
    "outputId": "44a785b8-7535-4d44-8075-2e507e26e11a",
    "tags": []
   },
   "outputs": [
    {
     "data": {
      "image/png": "[encoded data removed]",
      "text/plain": [
       "<Figure size 1000x700 with 1 Axes>"
      ]
     },
     "metadata": {},
     "output_type": "display_data"
    }
   ],
   "source": [
    "plt.figure(figsize=(10, 7))\n",
    "# Plot training data in blue\n",
    "plt.scatter(X_train, y_train, c='b', label='Training data')\n",
    "# Plot test data in green\n",
    "plt.scatter(X_test, y_test, c='g', label='Testing data')\n",
    "# Show the legend\n",
    "plt.legend();"
   ]
  },
  {
   "cell_type": "markdown",
   "metadata": {
    "id": "cxRcHZFgtS_B"
   },
   "source": [
    "<div dir=\"rtl\">\n",
    "\n",
    "##### جميل! في أي وقت يمكنك فيه تصور بياناتك، أو نموذجك، أو أي شيء لديك، فهي فكرة جيدة.\n",
    "\n",
    "##### مع وضع هذا الرسم البياني في الاعتبار، ما سنحاول القيام به هو بناء نموذج يتعلم النمط الموجود في النقاط الزرقاء (`X_train`) لرسم النقاط الخضراء (`X_test`).\n",
    "\n",
    "##### الوقت لبناء نموذج. سنصنع نفس الشيء من قبل (الذي تدربنا عليه لفترة أطول)."
   ]
  },
  {
   "cell_type": "markdown",
   "metadata": {},
   "source": [
    "<div dir=\"rtl\">\n",
    "\n",
    "##### يمكننا السماح لنموذجنا بمعرفة شكل الإدخال لبياناتنا باستخدام المعلمة \"input_shape\" للطبقة الأولى (عادةً، إذا لم يتم تعريف \"input_shape\"، يحاول Keras اكتشافه تلقائيًا)."
   ]
  },
  {
   "cell_type": "code",
   "execution_count": 24,
   "metadata": {
    "tags": []
   },
   "outputs": [],
   "source": [
    "model=[]"
   ]
  },
  {
   "cell_type": "code",
   "execution_count": 25,
   "metadata": {
    "id": "4qpe0eSStSm-",
    "tags": []
   },
   "outputs": [
    {
     "name": "stdout",
     "output_type": "stream",
     "text": [
      "Epoch 1/100\n",
      "2/2 [==============================] - 0s 2ms/step - loss: 29.2091 - mae: 29.2091\n",
      "Epoch 2/100\n",
      "2/2 [==============================] - 0s 2ms/step - loss: 9.2488 - mae: 9.2488\n",
      "Epoch 3/100\n",
      "2/2 [==============================] - 0s 2ms/step - loss: 7.7989 - mae: 7.7989\n",
      "Epoch 4/100\n",
      "2/2 [==============================] - 0s 2ms/step - loss: 8.7788 - mae: 8.7788\n",
      "Epoch 5/100\n",
      "2/2 [==============================] - 0s 2ms/step - loss: 10.7367 - mae: 10.7367\n",
      "Epoch 6/100\n",
      "2/2 [==============================] - 0s 2ms/step - loss: 9.9297 - mae: 9.9297\n",
      "Epoch 7/100\n",
      "2/2 [==============================] - 0s 2ms/step - loss: 8.9868 - mae: 8.9868\n",
      "Epoch 8/100\n",
      "2/2 [==============================] - 0s 2ms/step - loss: 9.0719 - mae: 9.0719\n",
      "Epoch 9/100\n",
      "2/2 [==============================] - 0s 2ms/step - loss: 19.8086 - mae: 19.8086\n",
      "Epoch 10/100\n",
      "2/2 [==============================] - 0s 2ms/step - loss: 10.6967 - mae: 10.6967\n",
      "Epoch 11/100\n",
      "2/2 [==============================] - 0s 2ms/step - loss: 8.6220 - mae: 8.6220\n",
      "Epoch 12/100\n",
      "2/2 [==============================] - 0s 2ms/step - loss: 9.6118 - mae: 9.6118\n",
      "Epoch 13/100\n",
      "2/2 [==============================] - 0s 2ms/step - loss: 12.9012 - mae: 12.9012\n",
      "Epoch 14/100\n",
      "2/2 [==============================] - 0s 2ms/step - loss: 14.2594 - mae: 14.2594\n",
      "Epoch 15/100\n",
      "2/2 [==============================] - 0s 2ms/step - loss: 11.6655 - mae: 11.6655\n",
      "Epoch 16/100\n",
      "2/2 [==============================] - 0s 2ms/step - loss: 8.4547 - mae: 8.4547\n",
      "Epoch 17/100\n",
      "2/2 [==============================] - 0s 2ms/step - loss: 13.4461 - mae: 13.4461\n",
      "Epoch 18/100\n",
      "2/2 [==============================] - 0s 2ms/step - loss: 11.2288 - mae: 11.2288\n",
      "Epoch 19/100\n",
      "2/2 [==============================] - 0s 2ms/step - loss: 18.2812 - mae: 18.2812\n",
      "Epoch 20/100\n",
      "2/2 [==============================] - 0s 2ms/step - loss: 14.9873 - mae: 14.9873\n",
      "Epoch 21/100\n",
      "2/2 [==============================] - 0s 2ms/step - loss: 10.8603 - mae: 10.8603\n",
      "Epoch 22/100\n",
      "2/2 [==============================] - 0s 2ms/step - loss: 8.6134 - mae: 8.6134\n",
      "Epoch 23/100\n",
      "2/2 [==============================] - 0s 2ms/step - loss: 9.6852 - mae: 9.6852\n",
      "Epoch 24/100\n",
      "2/2 [==============================] - 0s 2ms/step - loss: 8.5753 - mae: 8.5753\n",
      "Epoch 25/100\n",
      "2/2 [==============================] - 0s 2ms/step - loss: 11.5916 - mae: 11.5916\n",
      "Epoch 26/100\n",
      "2/2 [==============================] - 0s 2ms/step - loss: 15.1240 - mae: 15.1240\n",
      "Epoch 27/100\n",
      "2/2 [==============================] - 0s 2ms/step - loss: 11.8694 - mae: 11.8694\n",
      "Epoch 28/100\n",
      "2/2 [==============================] - 0s 2ms/step - loss: 13.9132 - mae: 13.9132\n",
      "Epoch 29/100\n",
      "2/2 [==============================] - 0s 2ms/step - loss: 9.5982 - mae: 9.5982\n",
      "Epoch 30/100\n",
      "2/2 [==============================] - 0s 2ms/step - loss: 17.1705 - mae: 17.1705\n",
      "Epoch 31/100\n",
      "2/2 [==============================] - 0s 2ms/step - loss: 22.8834 - mae: 22.8834\n",
      "Epoch 32/100\n",
      "2/2 [==============================] - 0s 2ms/step - loss: 7.9068 - mae: 7.9068\n",
      "Epoch 33/100\n",
      "2/2 [==============================] - 0s 2ms/step - loss: 14.1209 - mae: 14.1209\n",
      "Epoch 34/100\n",
      "2/2 [==============================] - 0s 2ms/step - loss: 12.3636 - mae: 12.3636\n",
      "Epoch 35/100\n",
      "2/2 [==============================] - 0s 2ms/step - loss: 8.2552 - mae: 8.2552\n",
      "Epoch 36/100\n",
      "2/2 [==============================] - 0s 2ms/step - loss: 10.4768 - mae: 10.4768\n",
      "Epoch 37/100\n",
      "2/2 [==============================] - 0s 2ms/step - loss: 10.1215 - mae: 10.1215\n",
      "Epoch 38/100\n",
      "2/2 [==============================] - 0s 2ms/step - loss: 11.3170 - mae: 11.3170\n",
      "Epoch 39/100\n",
      "2/2 [==============================] - 0s 2ms/step - loss: 14.7429 - mae: 14.7429\n",
      "Epoch 40/100\n",
      "2/2 [==============================] - 0s 2ms/step - loss: 12.8732 - mae: 12.8732\n",
      "Epoch 41/100\n",
      "2/2 [==============================] - 0s 2ms/step - loss: 9.2619 - mae: 9.2619\n",
      "Epoch 42/100\n",
      "2/2 [==============================] - 0s 2ms/step - loss: 10.9974 - mae: 10.9974\n",
      "Epoch 43/100\n",
      "2/2 [==============================] - 0s 2ms/step - loss: 8.3254 - mae: 8.3254\n",
      "Epoch 44/100\n",
      "2/2 [==============================] - 0s 2ms/step - loss: 13.0471 - mae: 13.0471\n",
      "Epoch 45/100\n",
      "2/2 [==============================] - 0s 2ms/step - loss: 13.6632 - mae: 13.6632\n",
      "Epoch 46/100\n",
      "2/2 [==============================] - 0s 2ms/step - loss: 8.2736 - mae: 8.2736\n",
      "Epoch 47/100\n",
      "2/2 [==============================] - 0s 2ms/step - loss: 8.7178 - mae: 8.7178\n",
      "Epoch 48/100\n",
      "2/2 [==============================] - 0s 2ms/step - loss: 10.0186 - mae: 10.0186\n",
      "Epoch 49/100\n",
      "2/2 [==============================] - 0s 2ms/step - loss: 8.5029 - mae: 8.5029\n",
      "Epoch 50/100\n",
      "2/2 [==============================] - 0s 2ms/step - loss: 9.0091 - mae: 9.0091\n",
      "Epoch 51/100\n",
      "2/2 [==============================] - 0s 2ms/step - loss: 9.3652 - mae: 9.3652\n",
      "Epoch 52/100\n",
      "2/2 [==============================] - 0s 2ms/step - loss: 14.0102 - mae: 14.0102\n",
      "Epoch 53/100\n",
      "2/2 [==============================] - 0s 2ms/step - loss: 15.4217 - mae: 15.4217\n",
      "Epoch 54/100\n",
      "2/2 [==============================] - 0s 2ms/step - loss: 10.9151 - mae: 10.9151\n",
      "Epoch 55/100\n",
      "2/2 [==============================] - 0s 2ms/step - loss: 15.4561 - mae: 15.4561\n",
      "Epoch 56/100\n",
      "2/2 [==============================] - 0s 2ms/step - loss: 9.1425 - mae: 9.1425\n",
      "Epoch 57/100\n",
      "2/2 [==============================] - 0s 2ms/step - loss: 9.6715 - mae: 9.6715\n",
      "Epoch 58/100\n",
      "2/2 [==============================] - 0s 2ms/step - loss: 8.9827 - mae: 8.9827\n",
      "Epoch 59/100\n",
      "2/2 [==============================] - 0s 2ms/step - loss: 10.2069 - mae: 10.2069\n",
      "Epoch 60/100\n",
      "2/2 [==============================] - 0s 2ms/step - loss: 8.1725 - mae: 8.1725\n",
      "Epoch 61/100\n",
      "2/2 [==============================] - 0s 2ms/step - loss: 10.0553 - mae: 10.0553\n",
      "Epoch 62/100\n",
      "2/2 [==============================] - 0s 2ms/step - loss: 7.0236 - mae: 7.0236\n",
      "Epoch 63/100\n",
      "2/2 [==============================] - 0s 2ms/step - loss: 12.6942 - mae: 12.6942\n",
      "Epoch 64/100\n",
      "2/2 [==============================] - 0s 2ms/step - loss: 12.6435 - mae: 12.6435\n",
      "Epoch 65/100\n",
      "2/2 [==============================] - 0s 2ms/step - loss: 9.4513 - mae: 9.4513\n",
      "Epoch 66/100\n",
      "2/2 [==============================] - 0s 2ms/step - loss: 11.5339 - mae: 11.5339\n",
      "Epoch 67/100\n",
      "2/2 [==============================] - 0s 2ms/step - loss: 8.0166 - mae: 8.0166\n",
      "Epoch 68/100\n",
      "2/2 [==============================] - 0s 2ms/step - loss: 8.5496 - mae: 8.5496\n",
      "Epoch 69/100\n",
      "2/2 [==============================] - 0s 2ms/step - loss: 12.2237 - mae: 12.2237\n",
      "Epoch 70/100\n",
      "2/2 [==============================] - 0s 2ms/step - loss: 8.9337 - mae: 8.9337\n",
      "Epoch 71/100\n",
      "2/2 [==============================] - 0s 2ms/step - loss: 9.9076 - mae: 9.9076\n",
      "Epoch 72/100\n",
      "2/2 [==============================] - 0s 2ms/step - loss: 9.9502 - mae: 9.9502\n",
      "Epoch 73/100\n",
      "2/2 [==============================] - 0s 2ms/step - loss: 12.4051 - mae: 12.4051\n",
      "Epoch 74/100\n",
      "2/2 [==============================] - 0s 2ms/step - loss: 10.5931 - mae: 10.5931\n",
      "Epoch 75/100\n",
      "2/2 [==============================] - 0s 2ms/step - loss: 9.6076 - mae: 9.6076\n",
      "Epoch 76/100\n",
      "2/2 [==============================] - 0s 2ms/step - loss: 11.0677 - mae: 11.0677\n",
      "Epoch 77/100\n",
      "2/2 [==============================] - 0s 2ms/step - loss: 8.2577 - mae: 8.2577\n",
      "Epoch 78/100\n",
      "2/2 [==============================] - 0s 2ms/step - loss: 8.9365 - mae: 8.9365\n",
      "Epoch 79/100\n",
      "2/2 [==============================] - 0s 2ms/step - loss: 19.8236 - mae: 19.8236\n",
      "Epoch 80/100\n",
      "2/2 [==============================] - 0s 2ms/step - loss: 17.7805 - mae: 17.7805\n",
      "Epoch 81/100\n",
      "2/2 [==============================] - 0s 2ms/step - loss: 7.0839 - mae: 7.0839\n",
      "Epoch 82/100\n",
      "2/2 [==============================] - 0s 2ms/step - loss: 10.3824 - mae: 10.3824\n",
      "Epoch 83/100\n",
      "2/2 [==============================] - 0s 2ms/step - loss: 9.8019 - mae: 9.8019\n",
      "Epoch 84/100\n",
      "2/2 [==============================] - 0s 2ms/step - loss: 7.9384 - mae: 7.9384\n",
      "Epoch 85/100\n",
      "2/2 [==============================] - 0s 2ms/step - loss: 9.4539 - mae: 9.4539\n",
      "Epoch 86/100\n",
      "2/2 [==============================] - 0s 2ms/step - loss: 9.4966 - mae: 9.4966\n",
      "Epoch 87/100\n",
      "2/2 [==============================] - 0s 2ms/step - loss: 11.4500 - mae: 11.4500\n",
      "Epoch 88/100\n",
      "2/2 [==============================] - 0s 2ms/step - loss: 9.9466 - mae: 9.9466\n",
      "Epoch 89/100\n",
      "2/2 [==============================] - 0s 2ms/step - loss: 7.2441 - mae: 7.2441\n",
      "Epoch 90/100\n",
      "2/2 [==============================] - 0s 2ms/step - loss: 12.7114 - mae: 12.7114\n",
      "Epoch 91/100\n",
      "2/2 [==============================] - 0s 2ms/step - loss: 7.3106 - mae: 7.3106\n",
      "Epoch 92/100\n",
      "2/2 [==============================] - 0s 2ms/step - loss: 7.6754 - mae: 7.6754\n",
      "Epoch 93/100\n",
      "2/2 [==============================] - 0s 2ms/step - loss: 7.1076 - mae: 7.1076\n",
      "Epoch 94/100\n",
      "2/2 [==============================] - 0s 2ms/step - loss: 12.5566 - mae: 12.5566\n",
      "Epoch 95/100\n",
      "2/2 [==============================] - 0s 2ms/step - loss: 9.9303 - mae: 9.9303\n",
      "Epoch 96/100\n",
      "2/2 [==============================] - 0s 2ms/step - loss: 9.1215 - mae: 9.1215\n",
      "Epoch 97/100\n",
      "2/2 [==============================] - 0s 2ms/step - loss: 12.0552 - mae: 12.0552\n",
      "Epoch 98/100\n",
      "2/2 [==============================] - 0s 2ms/step - loss: 9.0771 - mae: 9.0771\n",
      "Epoch 99/100\n",
      "2/2 [==============================] - 0s 2ms/step - loss: 8.4831 - mae: 8.4831\n",
      "Epoch 100/100\n",
      "2/2 [==============================] - 0s 2ms/step - loss: 14.4286 - mae: 14.4286\n"
     ]
    },
    {
     "data": {
      "text/plain": [
       "<keras.callbacks.History at 0x14f9dc10b760>"
      ]
     },
     "execution_count": 25,
     "metadata": {},
     "output_type": "execute_result"
    }
   ],
   "source": [
    "# Set random seed\n",
    "tf.random.set_seed(42)\n",
    "\n",
    "# Create a model (same as above)\n",
    "model = tf.keras.Sequential([\n",
    "  tf.keras.layers.Dense(1)                  #input_shape=[1]\n",
    "])\n",
    "\n",
    "# Compile model (same as above)\n",
    "model.compile(loss=tf.keras.losses.mae,\n",
    "              optimizer=tf.keras.optimizers.SGD(),\n",
    "              metrics=[\"mae\"])\n",
    "\n",
    "\n",
    "# Fit model (same as above)\n",
    "#model.fit(X_train, y_train, epochs=100) # commented out on purpose (not fitting it just yet)\n",
    "model.fit(tf.expand_dims(X_train, axis=-1), y_train, epochs=100) "
   ]
  },
  {
   "cell_type": "markdown",
   "metadata": {
    "id": "hc2RHCCfqlAc"
   },
   "source": [
    "## تصور النموذج\n",
    "\n",
    "بعد أن تقوم ببناء نموذج، قد ترغب في إلقاء نظرة عليه (خاصة إذا لم تكن قد قمت ببناء العديد من النماذج من قبل).\n",
    "\n",
    "يمكنك إلقاء نظرة على طبقات وأشكال النموذج الخاص بك عن طريق استدعاء [`summary()`](https://www.tensorflow.org/api_docs/python/tf/keras/Model#summary) عليه.\n",
    "\n",
    "> 🔑 **ملاحظة:** يعد تصور النموذج مفيدًا بشكل خاص عند مواجهة عدم تطابق أشكال الإدخال والإخراج."
   ]
  },
  {
   "cell_type": "code",
   "execution_count": 26,
   "metadata": {
    "colab": {
     "base_uri": "https://localhost:8080/",
     "height": 334
    },
    "id": "OlgJj0cFwChH",
    "outputId": "44547880-60d0-4070-8a8e-af3ebbbcff74",
    "tags": []
   },
   "outputs": [
    {
     "name": "stdout",
     "output_type": "stream",
     "text": [
      "Model: \"sequential_2\"\n",
      "_________________________________________________________________\n",
      " Layer (type)                Output Shape              Param #   \n",
      "=================================================================\n",
      " dense_2 (Dense)             (None, 1)                 2         \n",
      "                                                                 \n",
      "=================================================================\n",
      "Total params: 2\n",
      "Trainable params: 2\n",
      "Non-trainable params: 0\n",
      "_________________________________________________________________\n"
     ]
    }
   ],
   "source": [
    "# Doesn't work (model not fit/built)\n",
    "model.summary()"
   ]
  },
  {
   "cell_type": "markdown",
   "metadata": {},
   "source": [
    "<div dir=\"rtl\">\n",
    "\n",
    "##### استدعاء ``summary()`' على نموذجنا يوضح لنا الطبقات التي يحتوي عليها، وشكل الإخراج وعدد المعلمات.\n",
    "* **إجمالي المعلمات** - إجمالي عدد المعلمات في النموذج.\n",
    "* **المعلمات القابلة للتدريب** - هذه هي المعلمات (الأنماط) التي يمكن للنموذج تحديثها أثناء تدريبه.\n",
    "* **المعلمات غير القابلة للتدريب** - لا يتم تحديث هذه المعلمات أثناء التدريب (وهذا أمر طبيعي عند إحضار الأنماط التي تعلمتها بالفعل من نماذج أخرى أثناء نقل التعلم).\n",
    "\n",
    "##### > 📖 **الموارد:** للحصول على نظرة عامة أكثر تعمقًا حول المعلمات القابلة للتدريب داخل الطبقة، راجع [MIT's introduction to deep learning video](https://youtu.be/njKP3FqW3Sk).\n",
    "\n",
    "##### > 🛠 **التمرين:** حاول التلاعب بعدد الوحدات المخفية في الطبقة `كثيفة` (على سبيل المثال، `كثيفة(2)`، `كثيفة(3)`). كيف يغير هذا المعلمات الإجمالي/القابل للتدريب؟ التحقيق في سبب التغيير.\n",
    "\n",
    "<img src=\"images/neural_network.jpg\" alt=\"a 6 step scikit-learn workflow\" width=\"700\"/>\n",
    "\n",
    "##### في الوقت الحالي، كل ما تحتاج إلى التفكير فيه بشأن هذه المعلمات هو أنماطها القابلة للتعلم في البيانات."
   ]
  },
  {
   "cell_type": "markdown",
   "metadata": {
    "id": "ygw7V8OVYxQS"
   },
   "source": [
    "<div dir=\"rtl\">\n",
    "\n",
    "##### في حالتنا، النموذج الذي استخدمناه يحتوي فقط على مدخلات ومخرجات ولكن تصور نماذج أكثر تعقيدًا يمكن أن يكون مفيدًا جدًا لتصحيح الأخطاء."
   ]
  },
  {
   "cell_type": "markdown",
   "metadata": {
    "id": "gebj2eptqwg8"
   },
   "source": [
    "<div dir=\"rtl\">\n",
    "\n",
    "## تصور التوقعات\n",
    "\n",
    "##### الآن لدينا نموذج مدرب، دعونا نتصور بعض التوقعات.\n",
    "\n",
    "##### لتصور التنبؤات، من الجيد دائمًا وضعها في مقابل علامات الحقيقة الأرضية.\n",
    "\n",
    "##### غالبًا ما ترى ذلك في شكل `y_test` مقابل `y_pred` (الحقيقة الأساسية مقابل التوقعات).\n",
    "\n",
    "##### أولاً، سنقوم ببعض التنبؤات على بيانات الاختبار (`X_test`)، تذكر أن النموذج لم يشاهد بيانات الاختبار مطلقًا."
   ]
  },
  {
   "cell_type": "code",
   "execution_count": 27,
   "metadata": {
    "colab": {
     "base_uri": "https://localhost:8080/"
    },
    "id": "RRzj7LJMYftb",
    "outputId": "ba064840-2194-4147-e5cd-998aa4c73933",
    "tags": []
   },
   "outputs": [
    {
     "name": "stdout",
     "output_type": "stream",
     "text": [
      "1/1 [==============================] - 0s 45ms/step\n"
     ]
    }
   ],
   "source": [
    "# Make predictions\n",
    "y_preds = model.predict(X_test)"
   ]
  },
  {
   "cell_type": "code",
   "execution_count": 28,
   "metadata": {
    "colab": {
     "base_uri": "https://localhost:8080/"
    },
    "id": "_hKpW-KOZiAW",
    "outputId": "f31dea6e-0f76-4662-bcba-7cc64ccd8932",
    "tags": []
   },
   "outputs": [
    {
     "data": {
      "text/plain": [
       "array([[44.42944 ],\n",
       "       [47.303818],\n",
       "       [50.178196],\n",
       "       [53.052574],\n",
       "       [55.926956],\n",
       "       [58.801334],\n",
       "       [61.675713],\n",
       "       [64.550095],\n",
       "       [67.42447 ],\n",
       "       [70.29885 ]], dtype=float32)"
      ]
     },
     "execution_count": 28,
     "metadata": {},
     "output_type": "execute_result"
    }
   ],
   "source": [
    "# View the predictions\n",
    "y_preds"
   ]
  },
  {
   "cell_type": "markdown",
   "metadata": {},
   "source": [
    "<div dir=\"rtl\">\n",
    "    \n",
    "##### حسنًا، حصلنا على قائمة بالأرقام، لكن كيف يمكن مقارنتها بمسميات الحقيقة الأرضية؟\n",
    "\n",
    "##### دعونا نبني وظيفة التخطيط لمعرفة ذلك.\n",
    "\n",
    "##### > 🔑 **ملاحظة:** إذا كنت تعتقد أنك ستتخيل شيئًا ما كثيرًا، فمن الجيد أن تقوم بوظيفته حتى تتمكن من استخدامه لاحقًا."
   ]
  },
  {
   "cell_type": "code",
   "execution_count": 29,
   "metadata": {
    "id": "56euC69rZvNJ",
    "tags": []
   },
   "outputs": [],
   "source": [
    "def plot_predictions(train_data=X_train, \n",
    "                     train_labels=y_train, \n",
    "                     test_data=X_test, \n",
    "                     test_labels=y_test, \n",
    "                     predictions=y_preds):\n",
    "  \"\"\"\n",
    "  Plots training data, test data and compares predictions.\n",
    "  \"\"\"\n",
    "  plt.figure(figsize=(10, 7))\n",
    "  # Plot training data in blue\n",
    "  plt.scatter(train_data, train_labels, c=\"b\", label=\"Training data\")\n",
    "  # Plot test data in green\n",
    "  plt.scatter(test_data, test_labels, c=\"g\", label=\"Testing data\")\n",
    "  # Plot the predictions in red (predictions were made on the test data)\n",
    "  plt.scatter(test_data, predictions, c=\"r\", label=\"Predictions\")\n",
    "  # Show the legend\n",
    "  plt.legend();"
   ]
  },
  {
   "cell_type": "code",
   "execution_count": 30,
   "metadata": {
    "colab": {
     "base_uri": "https://localhost:8080/",
     "height": 428
    },
    "id": "Fug5_B6Ab7Ah",
    "outputId": "8ab057a0-528a-43ad-cdee-078608c58da4",
    "tags": []
   },
   "outputs": [
    {
     "data": {
      "image/png": "[encoded data removed]",
      "text/plain": [
       "<Figure size 1000x700 with 1 Axes>"
      ]
     },
     "metadata": {},
     "output_type": "display_data"
    }
   ],
   "source": [
    "plot_predictions(train_data=X_train,\n",
    "                 train_labels=y_train,\n",
    "                 test_data=X_test,\n",
    "                 test_labels=y_test,\n",
    "                 predictions=y_preds)"
   ]
  },
  {
   "cell_type": "markdown",
   "metadata": {
    "id": "H63NPcgPcwZV"
   },
   "source": [
    "<div dir=\"rtl\">\n",
    "\n",
    "##### من الحبكة يمكننا أن نرى أن توقعاتنا ليست غريبة تمامًا ولكنها بالتأكيد ليست شيئًا خاصًا أيضًا."
   ]
  },
  {
   "cell_type": "markdown",
   "metadata": {},
   "source": [
    "<div dir=\"rtl\">\n",
    "\n",
    "## تقييم التوقعات\n",
    "\n",
    "##### إلى جانب المرئيات، تعد مقاييس التقييم خيارك البديل الأفضل لتقييم نموذجك.\n",
    "\n",
    "##### اعتمادًا على المشكلة التي تعمل عليها، يكون للنماذج المختلفة مقاييس تقييم مختلفة.\n",
    "\n",
    "##### اثنان من المقاييس الرئيسية المستخدمة لمشاكل الانحدار هما:\n",
    "* **متوسط ​​الخطأ المطلق (MAE)** - متوسط ​​الفرق بين كل من التنبؤات.\n",
    "* **متوسط ​​الخطأ التربيعي (MSE)** - متوسط ​​الفرق المربع بين التوقعات (يُستخدم إذا كانت الأخطاء الأكبر أكثر ضررًا من الأخطاء الأصغر).\n",
    "\n",
    "##### وكلما انخفضت كل من هذه القيم، كلما كان ذلك أفضل.\n",
    "\n",
    "##### يمكنك أيضًا استخدام [`model.evaluate()`](https://www.tensorflow.org/api_docs/python/tf/keras/Model#evaluate) الذي سيعيد فقدان النموذج بالإضافة إلى أي إعداد للمقاييس أثناء خطوة الترجمة."
   ]
  },
  {
   "cell_type": "code",
   "execution_count": 31,
   "metadata": {
    "colab": {
     "base_uri": "https://localhost:8080/"
    },
    "id": "DPgTdF3ddxiY",
    "outputId": "635fd3f4-00bf-4412-e959-917c831ae5bf",
    "tags": []
   },
   "outputs": [
    {
     "name": "stdout",
     "output_type": "stream",
     "text": [
      "1/1 [==============================] - 0s 101ms/step - loss: 30.6359 - mae: 30.6359\n"
     ]
    },
    {
     "data": {
      "text/plain": [
       "[30.635854721069336, 30.635854721069336]"
      ]
     },
     "execution_count": 31,
     "metadata": {},
     "output_type": "execute_result"
    }
   ],
   "source": [
    "# Evaluate the model on the test set\n",
    "model.evaluate(X_test, y_test)"
   ]
  },
  {
   "cell_type": "markdown",
   "metadata": {
    "id": "DAXIRyVzegFd"
   },
   "source": [
    "<div dir=\"rtl\">\n",
    "\n",
    "##### في حالتنا، نظرًا لأننا استخدمنا MAE لدالة الخسارة وكذلك MADE للمقاييس، فإن `model.evaluate()` يُرجعهما معًا.\n",
    "\n",
    "##### يحتوي TensorFlow أيضًا على وظائف مدمجة لـ MSE وMAE.\n",
    "\n",
    "##### بالنسبة للعديد من وظائف التقييم، فإن الفرضية هي نفسها: مقارنة التنبؤات بمسميات الحقيقة الأساسية."
   ]
  },
  {
   "cell_type": "markdown",
   "metadata": {
    "id": "mfUCIeHyhLk7"
   },
   "source": [
    "<div dir=\"rtl\">\n",
    "\n",
    "##### حسنًا، نحن نعرف الآن كيفية جعل مدة `y_test` و`y_pred` بنفس الشكل، فلنستخدم مقاييس التقييم الخاصة بنا."
   ]
  },
  {
   "cell_type": "code",
   "execution_count": 32,
   "metadata": {
    "colab": {
     "base_uri": "https://localhost:8080/"
    },
    "id": "TvjY6GIJvXBO",
    "outputId": "e5617649-57f9-4304-9b66-1f77edf74695",
    "tags": []
   },
   "outputs": [
    {
     "data": {
      "text/plain": [
       "<tf.Tensor: shape=(), dtype=float32, numpy=30.635855>"
      ]
     },
     "execution_count": 32,
     "metadata": {},
     "output_type": "execute_result"
    }
   ],
   "source": [
    "# Calcuate the MAE\n",
    "mae = tf.metrics.mean_absolute_error(y_true=y_test, \n",
    "                                     y_pred=y_preds.squeeze()) # use squeeze() to make same shape\n",
    "mae"
   ]
  },
  {
   "cell_type": "code",
   "execution_count": 33,
   "metadata": {
    "colab": {
     "base_uri": "https://localhost:8080/"
    },
    "id": "EwA9nGJzvbMT",
    "outputId": "9a1c0403-36b3-4a89-f0bc-9d36a83dd8fc",
    "tags": []
   },
   "outputs": [
    {
     "data": {
      "text/plain": [
       "<tf.Tensor: shape=(), dtype=float32, numpy=949.0086>"
      ]
     },
     "execution_count": 33,
     "metadata": {},
     "output_type": "execute_result"
    }
   ],
   "source": [
    "# Calculate the MSE\n",
    "mse = tf.metrics.mean_squared_error(y_true=y_test,\n",
    "                                    y_pred=y_preds.squeeze())\n",
    "mse"
   ]
  },
  {
   "cell_type": "markdown",
   "metadata": {},
   "source": [
    "<div dir=\"rtl\">\n",
    "\n",
    "##### يمكننا أيضًا حساب MAE باستخدام وظائف TensorFlow النقية."
   ]
  },
  {
   "cell_type": "code",
   "execution_count": 34,
   "metadata": {
    "colab": {
     "base_uri": "https://localhost:8080/"
    },
    "id": "YxiD6-QBYSzd",
    "outputId": "459b3159-56b8-4067-e548-dd4a2677cc9d",
    "tags": []
   },
   "outputs": [
    {
     "data": {
      "text/plain": [
       "<tf.Tensor: shape=(), dtype=float64, numpy=30.63585548400879>"
      ]
     },
     "execution_count": 34,
     "metadata": {},
     "output_type": "execute_result"
    }
   ],
   "source": [
    "# Returns the same as tf.metrics.mean_absolute_error()\n",
    "tf.reduce_mean(tf.abs(y_test-y_preds.squeeze()))"
   ]
  },
  {
   "cell_type": "markdown",
   "metadata": {
    "id": "rmEho4lYofOa"
   },
   "source": [
    "<div dir=\"rtl\">\n",
    "\n",
    "##### مرة أخرى، إنها فكرة جيدة أن تقوم بتفعيل أي شيء تعتقد أنك قد تستخدمه مرارًا وتكرارًا (أو تجد نفسك تستخدمه مرارًا وتكرارًا).\n",
    "\n",
    "##### دعونا نجعل وظائف لمقاييس التقييم لدينا."
   ]
  },
  {
   "cell_type": "code",
   "execution_count": 35,
   "metadata": {
    "id": "bs1Z2jgNol5f",
    "tags": []
   },
   "outputs": [],
   "source": [
    "def mae(y_test, y_pred):\n",
    "  \"\"\"\n",
    "  Calculuates mean absolute error between y_test and y_preds.\n",
    "  \"\"\"\n",
    "  return tf.metrics.mean_absolute_error(y_test,\n",
    "                                        y_pred)\n",
    "  \n",
    "def mse(y_test, y_pred):\n",
    "  \"\"\"\n",
    "  Calculates mean squared error between y_test and y_preds.\n",
    "  \"\"\"\n",
    "  return tf.metrics.mean_squared_error(y_test,\n",
    "                                       y_pred)"
   ]
  },
  {
   "cell_type": "markdown",
   "metadata": {},
   "source": [
    "<div dir=\"rtl\">\n",
    "\n",
    "## إجراء التجارب لتحسين النموذج\n",
    "\n",
    "##### بعد رؤية مقاييس التقييم والتنبؤات التي يقدمها نموذجك، فمن المحتمل أنك سوف ترغب في تحسينه.\n",
    "\n",
    "##### مرة أخرى، هناك العديد من الطرق المختلفة التي يمكنك من خلالها القيام بذلك، ولكن ثلاثة من الطرق الرئيسية هي:\n",
    "1. **احصل على المزيد من البيانات** - احصل على المزيد من الأمثلة لنموذجك للتدريب عليها (المزيد من الفرص لتعلم الأنماط).\n",
    "2. **اجعل نموذجك أكبر (استخدم نموذجًا أكثر تعقيدًا)** - قد يأتي ذلك في شكل المزيد من الطبقات أو المزيد من الوحدات المخفية في كل طبقة.\n",
    "3. **التدريب لفترة أطول** - امنح نموذجك فرصة أكبر للعثور على الأنماط في البيانات.\n",
    "\n",
    "##### منذ أن أنشأنا مجموعة البيانات الخاصة بنا، يمكننا بسهولة إنشاء المزيد من البيانات، لكن هذا ليس هو الحال دائمًا عند العمل مع مجموعات بيانات حقيقية.\n",
    "\n",
    "##### لذلك دعونا نلقي نظرة على كيف يمكننا تحسين نموذجنا باستخدام 2 و 3.\n",
    "\n",
    "##### للقيام بذلك، سنقوم ببناء 4 نماذج ومقارنة نتائجها:\n",
    "1. `model_1` - نفس النموذج الأصلي، طبقة واحدة، تم تدريبه لمدة 100 عصر.\n",
    "2. `model_2` - طبقتان، تم تدريبهما لمدة 100 عصر.\n",
    "3. `model_3` - طبقتان، تم تدريبهما لمدة 500 عصر.\n",
    "4. `model_4` - 3 طبقات، المزيد من الشبكات العصبية، تم تدريبها لمدة 100 عصر.\n",
    " \n",
    "##### ** بناء `model_1`**"
   ]
  },
  {
   "cell_type": "code",
   "execution_count": 36,
   "metadata": {
    "tags": []
   },
   "outputs": [],
   "source": [
    "model_1=[]"
   ]
  },
  {
   "cell_type": "code",
   "execution_count": 37,
   "metadata": {
    "colab": {
     "base_uri": "https://localhost:8080/"
    },
    "id": "StVHIIM9csyS",
    "outputId": "b9c87603-1d3f-4d74-b246-bb9f567d8fa3",
    "tags": []
   },
   "outputs": [
    {
     "name": "stdout",
     "output_type": "stream",
     "text": [
      "Epoch 1/100\n",
      "2/2 [==============================] - 0s 3ms/step - loss: 13.0302 - mae: 13.0302\n",
      "Epoch 2/100\n",
      "2/2 [==============================] - 0s 2ms/step - loss: 12.8085 - mae: 12.8085\n",
      "Epoch 3/100\n",
      "2/2 [==============================] - 0s 2ms/step - loss: 11.4263 - mae: 11.4263\n",
      "Epoch 4/100\n",
      "2/2 [==============================] - 0s 2ms/step - loss: 9.4732 - mae: 9.4732\n",
      "Epoch 5/100\n",
      "2/2 [==============================] - 0s 2ms/step - loss: 10.3696 - mae: 10.3696\n",
      "Epoch 6/100\n",
      "2/2 [==============================] - 0s 2ms/step - loss: 9.6070 - mae: 9.6070\n",
      "Epoch 7/100\n",
      "2/2 [==============================] - 0s 2ms/step - loss: 8.7172 - mae: 8.7172\n",
      "Epoch 8/100\n",
      "2/2 [==============================] - 0s 2ms/step - loss: 9.0507 - mae: 9.0507\n",
      "Epoch 9/100\n",
      "2/2 [==============================] - 0s 2ms/step - loss: 19.1309 - mae: 19.1309\n",
      "Epoch 10/100\n",
      "2/2 [==============================] - 0s 2ms/step - loss: 10.3208 - mae: 10.3208\n",
      "Epoch 11/100\n",
      "2/2 [==============================] - 0s 2ms/step - loss: 8.4747 - mae: 8.4747\n",
      "Epoch 12/100\n",
      "2/2 [==============================] - 0s 2ms/step - loss: 10.8280 - mae: 10.8280\n",
      "Epoch 13/100\n",
      "2/2 [==============================] - 0s 2ms/step - loss: 9.8785 - mae: 9.8785\n",
      "Epoch 14/100\n",
      "2/2 [==============================] - 0s 2ms/step - loss: 12.0836 - mae: 12.0836\n",
      "Epoch 15/100\n",
      "2/2 [==============================] - 0s 2ms/step - loss: 12.3839 - mae: 12.3839\n",
      "Epoch 16/100\n",
      "2/2 [==============================] - 0s 2ms/step - loss: 8.4163 - mae: 8.4163\n",
      "Epoch 17/100\n",
      "2/2 [==============================] - 0s 2ms/step - loss: 13.3601 - mae: 13.3601\n",
      "Epoch 18/100\n",
      "2/2 [==============================] - 0s 2ms/step - loss: 11.1221 - mae: 11.1221\n",
      "Epoch 19/100\n",
      "2/2 [==============================] - 0s 2ms/step - loss: 18.4099 - mae: 18.4099\n",
      "Epoch 20/100\n",
      "2/2 [==============================] - 0s 2ms/step - loss: 15.1102 - mae: 15.1102\n",
      "Epoch 21/100\n",
      "2/2 [==============================] - 0s 2ms/step - loss: 11.0699 - mae: 11.0699\n",
      "Epoch 22/100\n",
      "2/2 [==============================] - 0s 2ms/step - loss: 8.1981 - mae: 8.1981\n",
      "Epoch 23/100\n",
      "2/2 [==============================] - 0s 2ms/step - loss: 9.4675 - mae: 9.4675\n",
      "Epoch 24/100\n",
      "2/2 [==============================] - 0s 2ms/step - loss: 7.6644 - mae: 7.6644\n",
      "Epoch 25/100\n",
      "2/2 [==============================] - 0s 2ms/step - loss: 13.0951 - mae: 13.0951\n",
      "Epoch 26/100\n",
      "2/2 [==============================] - 0s 2ms/step - loss: 16.4809 - mae: 16.4809\n",
      "Epoch 27/100\n",
      "2/2 [==============================] - 0s 2ms/step - loss: 13.2140 - mae: 13.2140\n",
      "Epoch 28/100\n",
      "2/2 [==============================] - 0s 2ms/step - loss: 14.3189 - mae: 14.3189\n",
      "Epoch 29/100\n",
      "2/2 [==============================] - 0s 2ms/step - loss: 10.0782 - mae: 10.0782\n",
      "Epoch 30/100\n",
      "2/2 [==============================] - 0s 2ms/step - loss: 16.4399 - mae: 16.4399\n",
      "Epoch 31/100\n",
      "2/2 [==============================] - 0s 2ms/step - loss: 23.5477 - mae: 23.5477\n",
      "Epoch 32/100\n",
      "2/2 [==============================] - 0s 2ms/step - loss: 7.5981 - mae: 7.5981\n",
      "Epoch 33/100\n",
      "2/2 [==============================] - 0s 2ms/step - loss: 9.2939 - mae: 9.2939\n",
      "Epoch 34/100\n",
      "2/2 [==============================] - 0s 2ms/step - loss: 13.6548 - mae: 13.6548\n",
      "Epoch 35/100\n",
      "2/2 [==============================] - 0s 2ms/step - loss: 11.1607 - mae: 11.1607\n",
      "Epoch 36/100\n",
      "2/2 [==============================] - 0s 2ms/step - loss: 13.3970 - mae: 13.3970\n",
      "Epoch 37/100\n",
      "2/2 [==============================] - 0s 2ms/step - loss: 9.4369 - mae: 9.4369\n",
      "Epoch 38/100\n",
      "2/2 [==============================] - 0s 2ms/step - loss: 10.0866 - mae: 10.0866\n",
      "Epoch 39/100\n",
      "2/2 [==============================] - 0s 2ms/step - loss: 8.9639 - mae: 8.9639\n",
      "Epoch 40/100\n",
      "2/2 [==============================] - 0s 2ms/step - loss: 9.5914 - mae: 9.5914\n",
      "Epoch 41/100\n",
      "2/2 [==============================] - 0s 2ms/step - loss: 10.5524 - mae: 10.5524\n",
      "Epoch 42/100\n",
      "2/2 [==============================] - 0s 2ms/step - loss: 10.6052 - mae: 10.6052\n",
      "Epoch 43/100\n",
      "2/2 [==============================] - 0s 2ms/step - loss: 7.2002 - mae: 7.2002\n",
      "Epoch 44/100\n",
      "2/2 [==============================] - 0s 2ms/step - loss: 8.0062 - mae: 8.0062\n",
      "Epoch 45/100\n",
      "2/2 [==============================] - 0s 2ms/step - loss: 9.8070 - mae: 9.8070\n",
      "Epoch 46/100\n",
      "2/2 [==============================] - 0s 2ms/step - loss: 8.8871 - mae: 8.8871\n",
      "Epoch 47/100\n",
      "2/2 [==============================] - 0s 2ms/step - loss: 7.5561 - mae: 7.5561\n",
      "Epoch 48/100\n",
      "2/2 [==============================] - 0s 2ms/step - loss: 8.5261 - mae: 8.5261\n",
      "Epoch 49/100\n",
      "2/2 [==============================] - 0s 2ms/step - loss: 10.0179 - mae: 10.0179\n",
      "Epoch 50/100\n",
      "2/2 [==============================] - 0s 2ms/step - loss: 8.9730 - mae: 8.9730\n",
      "Epoch 51/100\n",
      "2/2 [==============================] - 0s 2ms/step - loss: 10.6941 - mae: 10.6941\n",
      "Epoch 52/100\n",
      "2/2 [==============================] - 0s 2ms/step - loss: 15.2538 - mae: 15.2538\n",
      "Epoch 53/100\n",
      "2/2 [==============================] - 0s 2ms/step - loss: 14.2845 - mae: 14.2845\n",
      "Epoch 54/100\n",
      "2/2 [==============================] - 0s 2ms/step - loss: 21.5411 - mae: 21.5411\n",
      "Epoch 55/100\n",
      "2/2 [==============================] - 0s 2ms/step - loss: 16.0410 - mae: 16.0410\n",
      "Epoch 56/100\n",
      "2/2 [==============================] - 0s 2ms/step - loss: 10.2389 - mae: 10.2389\n",
      "Epoch 57/100\n",
      "2/2 [==============================] - 0s 2ms/step - loss: 9.7834 - mae: 9.7834\n",
      "Epoch 58/100\n",
      "2/2 [==============================] - 0s 2ms/step - loss: 9.0655 - mae: 9.0655\n",
      "Epoch 59/100\n",
      "2/2 [==============================] - 0s 2ms/step - loss: 8.2713 - mae: 8.2713\n",
      "Epoch 60/100\n",
      "2/2 [==============================] - 0s 2ms/step - loss: 9.3626 - mae: 9.3626\n",
      "Epoch 61/100\n",
      "2/2 [==============================] - 0s 2ms/step - loss: 11.1902 - mae: 11.1902\n",
      "Epoch 62/100\n",
      "2/2 [==============================] - 0s 2ms/step - loss: 12.0256 - mae: 12.0256\n",
      "Epoch 63/100\n",
      "2/2 [==============================] - 0s 2ms/step - loss: 7.2625 - mae: 7.2625\n",
      "Epoch 64/100\n",
      "2/2 [==============================] - 0s 2ms/step - loss: 12.4564 - mae: 12.4564\n",
      "Epoch 65/100\n",
      "2/2 [==============================] - 0s 2ms/step - loss: 10.5261 - mae: 10.5261\n",
      "Epoch 66/100\n",
      "2/2 [==============================] - 0s 2ms/step - loss: 15.5586 - mae: 15.5586\n",
      "Epoch 67/100\n",
      "2/2 [==============================] - 0s 2ms/step - loss: 9.9706 - mae: 9.9706\n",
      "Epoch 68/100\n",
      "2/2 [==============================] - 0s 2ms/step - loss: 8.6981 - mae: 8.6981\n",
      "Epoch 69/100\n",
      "2/2 [==============================] - 0s 2ms/step - loss: 13.4338 - mae: 13.4338\n",
      "Epoch 70/100\n",
      "2/2 [==============================] - 0s 2ms/step - loss: 7.4579 - mae: 7.4579\n",
      "Epoch 71/100\n",
      "2/2 [==============================] - 0s 2ms/step - loss: 12.2530 - mae: 12.2530\n",
      "Epoch 72/100\n",
      "2/2 [==============================] - 0s 2ms/step - loss: 8.4982 - mae: 8.4982\n",
      "Epoch 73/100\n",
      "2/2 [==============================] - 0s 2ms/step - loss: 7.0254 - mae: 7.0254\n",
      "Epoch 74/100\n",
      "2/2 [==============================] - 0s 2ms/step - loss: 9.8773 - mae: 9.8773\n",
      "Epoch 75/100\n",
      "2/2 [==============================] - 0s 2ms/step - loss: 9.9518 - mae: 9.9518\n",
      "Epoch 76/100\n",
      "2/2 [==============================] - 0s 2ms/step - loss: 10.1119 - mae: 10.1119\n",
      "Epoch 77/100\n",
      "2/2 [==============================] - 0s 2ms/step - loss: 12.9881 - mae: 12.9881\n",
      "Epoch 78/100\n",
      "2/2 [==============================] - 0s 2ms/step - loss: 10.8818 - mae: 10.8818\n",
      "Epoch 79/100\n",
      "2/2 [==============================] - 0s 2ms/step - loss: 15.3596 - mae: 15.3596\n",
      "Epoch 80/100\n",
      "2/2 [==============================] - 0s 2ms/step - loss: 11.7246 - mae: 11.7246\n",
      "Epoch 81/100\n",
      "2/2 [==============================] - 0s 2ms/step - loss: 9.2312 - mae: 9.2312\n",
      "Epoch 82/100\n",
      "2/2 [==============================] - 0s 2ms/step - loss: 12.8200 - mae: 12.8200\n",
      "Epoch 83/100\n",
      "2/2 [==============================] - 0s 2ms/step - loss: 10.2722 - mae: 10.2722\n",
      "Epoch 84/100\n",
      "2/2 [==============================] - 0s 2ms/step - loss: 10.6027 - mae: 10.6027\n",
      "Epoch 85/100\n",
      "2/2 [==============================] - 0s 2ms/step - loss: 9.3112 - mae: 9.3112\n",
      "Epoch 86/100\n",
      "2/2 [==============================] - 0s 2ms/step - loss: 9.1595 - mae: 9.1595\n",
      "Epoch 87/100\n",
      "2/2 [==============================] - 0s 2ms/step - loss: 11.8958 - mae: 11.8958\n",
      "Epoch 88/100\n",
      "2/2 [==============================] - 0s 2ms/step - loss: 10.5059 - mae: 10.5059\n",
      "Epoch 89/100\n",
      "2/2 [==============================] - 0s 2ms/step - loss: 7.2289 - mae: 7.2289\n",
      "Epoch 90/100\n",
      "2/2 [==============================] - 0s 2ms/step - loss: 12.6331 - mae: 12.6331\n",
      "Epoch 91/100\n",
      "2/2 [==============================] - 0s 2ms/step - loss: 7.2751 - mae: 7.2751\n",
      "Epoch 92/100\n",
      "2/2 [==============================] - 0s 2ms/step - loss: 7.6343 - mae: 7.6343\n",
      "Epoch 93/100\n",
      "2/2 [==============================] - 0s 2ms/step - loss: 7.0980 - mae: 7.0980\n",
      "Epoch 94/100\n",
      "2/2 [==============================] - 0s 2ms/step - loss: 12.4850 - mae: 12.4850\n",
      "Epoch 95/100\n",
      "2/2 [==============================] - 0s 2ms/step - loss: 9.8598 - mae: 9.8598\n",
      "Epoch 96/100\n",
      "2/2 [==============================] - 0s 2ms/step - loss: 9.1384 - mae: 9.1384\n",
      "Epoch 97/100\n",
      "2/2 [==============================] - 0s 2ms/step - loss: 12.1139 - mae: 12.1139\n",
      "Epoch 98/100\n",
      "2/2 [==============================] - 0s 2ms/step - loss: 9.0072 - mae: 9.0072\n",
      "Epoch 99/100\n",
      "2/2 [==============================] - 0s 2ms/step - loss: 8.4904 - mae: 8.4904\n",
      "Epoch 100/100\n",
      "2/2 [==============================] - 0s 2ms/step - loss: 14.5114 - mae: 14.5114\n"
     ]
    },
    {
     "data": {
      "text/plain": [
       "<keras.callbacks.History at 0x14fa44359bb0>"
      ]
     },
     "execution_count": 37,
     "metadata": {},
     "output_type": "execute_result"
    }
   ],
   "source": [
    "# Set random seed\n",
    "tf.random.set_seed(42)\n",
    "np.random.seed(42)\n",
    "\n",
    "\n",
    "# Replicate original model\n",
    "model_1 = tf.keras.Sequential([\n",
    "  tf.keras.layers.Dense(1)\n",
    "])\n",
    "\n",
    "# Compile the model\n",
    "model_1.compile(loss=tf.keras.losses.mae,\n",
    "                optimizer=tf.keras.optimizers.SGD(),\n",
    "                metrics=['mae'])\n",
    "\n",
    "# Fit the model\n",
    "model_1.fit(tf.expand_dims(X_train, axis=-1), y_train, epochs=100)"
   ]
  },
  {
   "cell_type": "code",
   "execution_count": 38,
   "metadata": {
    "colab": {
     "base_uri": "https://localhost:8080/",
     "height": 465
    },
    "id": "A-Da56xspOrY",
    "outputId": "97967485-83f2-4463-b2e1-acfac187ac3e",
    "tags": []
   },
   "outputs": [
    {
     "name": "stdout",
     "output_type": "stream",
     "text": [
      "1/1 [==============================] - 0s 278ms/step\n"
     ]
    },
    {
     "data": {
      "image/png": "[encoded data removed]",
      "text/plain": [
       "<Figure size 1000x700 with 1 Axes>"
      ]
     },
     "metadata": {},
     "output_type": "display_data"
    }
   ],
   "source": [
    "# Make and plot predictions for model_1\n",
    "y_preds_1 = model_1.predict(X_test)\n",
    "plot_predictions(predictions=y_preds_1)"
   ]
  },
  {
   "cell_type": "code",
   "execution_count": 39,
   "metadata": {
    "colab": {
     "base_uri": "https://localhost:8080/"
    },
    "id": "EXxHBAtHoSh2",
    "outputId": "7dee67ef-1c5c-4011-e332-656dece0a41b",
    "tags": []
   },
   "outputs": [
    {
     "data": {
      "text/plain": [
       "(30.404795, 934.69617)"
      ]
     },
     "execution_count": 39,
     "metadata": {},
     "output_type": "execute_result"
    }
   ],
   "source": [
    "# Calculate model_1 metrics\n",
    "mae_1 = mae(y_test, y_preds_1.squeeze()).numpy()\n",
    "mse_1 = mse(y_test, y_preds_1.squeeze()).numpy()\n",
    "mae_1, mse_1"
   ]
  },
  {
   "cell_type": "markdown",
   "metadata": {},
   "source": [
    "<div dir=\"rtl\">\n",
    "\n",
    "##### ** بناء `model_2`**\n",
    "\n",
    "##### سنضيف هذه المرة طبقة كثيفة إضافية (لذلك سيحتوي نموذجنا الآن على طبقتين) مع الحفاظ على كل شيء آخر كما هو."
   ]
  },
  {
   "cell_type": "code",
   "execution_count": 40,
   "metadata": {
    "tags": []
   },
   "outputs": [],
   "source": [
    "model_2=[]"
   ]
  },
  {
   "cell_type": "code",
   "execution_count": 41,
   "metadata": {
    "colab": {
     "base_uri": "https://localhost:8080/"
    },
    "id": "05vcgEP3rEFi",
    "outputId": "36aea698-e728-4ce4-a41f-9ed0d9f7368f",
    "tags": []
   },
   "outputs": [
    {
     "data": {
      "text/plain": [
       "<keras.callbacks.History at 0x14f9dc30af10>"
      ]
     },
     "execution_count": 41,
     "metadata": {},
     "output_type": "execute_result"
    }
   ],
   "source": [
    "# Set random seed\n",
    "tf.random.set_seed(42)\n",
    "random.seed(42)\n",
    "np.random.seed(42)\n",
    "\n",
    "# Replicate model_1 and add an extra layer\n",
    "model_2 = tf.keras.Sequential([\n",
    "  tf.keras.layers.Dense(1),\n",
    "  tf.keras.layers.Dense(1) # add a second layer\n",
    "])\n",
    "\n",
    "# Compile the model\n",
    "model_2.compile(loss=tf.keras.losses.mae,\n",
    "                optimizer=tf.keras.optimizers.SGD(),\n",
    "                metrics=['mae'])\n",
    "\n",
    "# Fit the model\n",
    "model_2.fit(tf.expand_dims(X_train, axis=-1), y_train, epochs=100, verbose=0) # set verbose to 0 for less output"
   ]
  },
  {
   "cell_type": "code",
   "execution_count": 42,
   "metadata": {
    "colab": {
     "base_uri": "https://localhost:8080/",
     "height": 428
    },
    "id": "9xCbDcoDraux",
    "outputId": "5c0391b8-2bbe-4d4f-c1ea-090ee6d93ff5",
    "tags": []
   },
   "outputs": [
    {
     "name": "stdout",
     "output_type": "stream",
     "text": [
      "WARNING:tensorflow:5 out of the last 5 calls to <function Model.make_predict_function.<locals>.predict_function at 0x14f9dc3d28b0> triggered tf.function retracing. Tracing is expensive and the excessive number of tracings could be due to (1) creating @tf.function repeatedly in a loop, (2) passing tensors with different shapes, (3) passing Python objects instead of tensors. For (1), please define your @tf.function outside of the loop. For (2), @tf.function has reduce_retracing=True option that can avoid unnecessary retracing. For (3), please refer to https://www.tensorflow.org/guide/function#controlling_retracing and https://www.tensorflow.org/api_docs/python/tf/function for  more details.\n",
      "1/1 [==============================] - 0s 49ms/step\n"
     ]
    },
    {
     "data": {
      "image/png": "[encoded data removed]",
      "text/plain": [
       "<Figure size 1000x700 with 1 Axes>"
      ]
     },
     "metadata": {},
     "output_type": "display_data"
    }
   ],
   "source": [
    "# Make and plot predictions for model_2\n",
    "# Set random seed\n",
    "tf.random.set_seed(42)\n",
    "y_preds_2 = model_2.predict(X_test)\n",
    "plot_predictions(predictions=y_preds_2)"
   ]
  },
  {
   "cell_type": "markdown",
   "metadata": {
    "id": "GxMYu5Frri6o"
   },
   "source": [
    "واو، هذا يبدو أفضل بالفعل! وكل ما يتطلبه الأمر هو طبقة إضافية."
   ]
  },
  {
   "cell_type": "code",
   "execution_count": 43,
   "metadata": {
    "colab": {
     "base_uri": "https://localhost:8080/"
    },
    "id": "9LnPuGaBrcrP",
    "outputId": "76d99ae4-14e6-4547-86b6-3847d64af935",
    "tags": []
   },
   "outputs": [
    {
     "data": {
      "text/plain": [
       "(10.227263, 111.97353)"
      ]
     },
     "execution_count": 43,
     "metadata": {},
     "output_type": "execute_result"
    }
   ],
   "source": [
    "# Calculate model_2 metrics\n",
    "mae_2 = mae(y_test, y_preds_2.squeeze()).numpy()\n",
    "mse_2 = mse(y_test, y_preds_2.squeeze()).numpy()\n",
    "mae_2, mse_2"
   ]
  },
  {
   "cell_type": "markdown",
   "metadata": {
    "id": "R8i9yfQGrwHx"
   },
   "source": [
    "<div dir=\"rtl\">\n",
    "\n",
    "##### ** بناء `model_3`**\n",
    "\n",
    "##### بالنسبة لنموذجنا الثالث، سنحتفظ بكل شيء كما هو `model_2` باستثناء أننا سنتدرب هذه المرة لفترة أطول (500 حقبة بدلاً من 100).\n",
    "\n",
    "##### وهذا سيعطي نموذجنا فرصة أكبر لتعلم الأنماط الموجودة في البيانات."
   ]
  },
  {
   "cell_type": "code",
   "execution_count": 44,
   "metadata": {
    "colab": {
     "base_uri": "https://localhost:8080/"
    },
    "id": "ABGwQFsbrvUS",
    "outputId": "94ff92ba-7f6b-4ec3-db2c-c0864285205f",
    "tags": []
   },
   "outputs": [
    {
     "data": {
      "text/plain": [
       "<keras.callbacks.History at 0x14fa44ad4460>"
      ]
     },
     "execution_count": 44,
     "metadata": {},
     "output_type": "execute_result"
    }
   ],
   "source": [
    "# Set random seed\n",
    "tf.random.set_seed(42)\n",
    "random.seed(42)\n",
    "np.random.seed(42)\n",
    "\n",
    "# Replicate model_2\n",
    "model_3 = tf.keras.Sequential([\n",
    "  tf.keras.layers.Dense(1),\n",
    "  tf.keras.layers.Dense(1)\n",
    "])\n",
    "\n",
    "# Compile the model\n",
    "model_3.compile(loss=tf.keras.losses.mae,\n",
    "                optimizer=tf.keras.optimizers.SGD(),\n",
    "                metrics=['mae'])\n",
    "\n",
    "# Fit the model (this time for 500 epochs, not 100)\n",
    "model_3.fit(tf.expand_dims(X_train, axis=-1), y_train, epochs=500, verbose=0) # set verbose to 0 for less output"
   ]
  },
  {
   "cell_type": "code",
   "execution_count": 45,
   "metadata": {
    "colab": {
     "base_uri": "https://localhost:8080/",
     "height": 428
    },
    "id": "jEz4bVmasbFk",
    "outputId": "45f04bb9-3057-4f1c-c9a6-a6a038ed5701",
    "tags": []
   },
   "outputs": [
    {
     "name": "stdout",
     "output_type": "stream",
     "text": [
      "WARNING:tensorflow:6 out of the last 6 calls to <function Model.make_predict_function.<locals>.predict_function at 0x14f9dc289a60> triggered tf.function retracing. Tracing is expensive and the excessive number of tracings could be due to (1) creating @tf.function repeatedly in a loop, (2) passing tensors with different shapes, (3) passing Python objects instead of tensors. For (1), please define your @tf.function outside of the loop. For (2), @tf.function has reduce_retracing=True option that can avoid unnecessary retracing. For (3), please refer to https://www.tensorflow.org/guide/function#controlling_retracing and https://www.tensorflow.org/api_docs/python/tf/function for  more details.\n",
      "1/1 [==============================] - 0s 48ms/step\n"
     ]
    },
    {
     "data": {
      "image/png": "[encoded data removed]",
      "text/plain": [
       "<Figure size 1000x700 with 1 Axes>"
      ]
     },
     "metadata": {},
     "output_type": "display_data"
    }
   ],
   "source": [
    "# Make and plot predictions for model_3\n",
    "y_preds_3 = model_3.predict(X_test)\n",
    "plot_predictions(predictions=y_preds_3)"
   ]
  },
  {
   "cell_type": "markdown",
   "metadata": {
    "id": "38Ki8ZHcsztG"
   },
   "source": [
    "<div dir=\"rtl\">\n",
    "\n",
    "##### غريب، لقد تدربنا لفترة أطول ولكن أداء نموذجنا كان أسوأ؟\n",
    "\n",
    "##### كما اتضح، ربما يكون نموذجنا قد تدرب لفترة طويلة جدًا مما أدى إلى نتائج أسوأ (سنرى طرقًا لمنع التدريب لفترة طويلة جدًا لاحقًا)."
   ]
  },
  {
   "cell_type": "code",
   "execution_count": 46,
   "metadata": {
    "colab": {
     "base_uri": "https://localhost:8080/"
    },
    "id": "BPTUcFe4sbfk",
    "outputId": "4cba4687-3bf7-479d-f901-3c4d5cef0dfc",
    "tags": []
   },
   "outputs": [
    {
     "data": {
      "text/plain": [
       "(67.40959, 4627.6235)"
      ]
     },
     "execution_count": 46,
     "metadata": {},
     "output_type": "execute_result"
    }
   ],
   "source": [
    "# Calculate model_3 metrics\n",
    "mae_3 = mae(y_test, y_preds_3.squeeze()).numpy()\n",
    "mse_3 = mse(y_test, y_preds_3.squeeze()).numpy()\n",
    "mae_3, mse_3"
   ]
  },
  {
   "cell_type": "markdown",
   "metadata": {},
   "source": [
    "<div dir=\"rtl\">\n",
    "\n",
    "##### ** بناء `model_4`**\n"
   ]
  },
  {
   "cell_type": "code",
   "execution_count": 53,
   "metadata": {
    "tags": []
   },
   "outputs": [],
   "source": [
    "model_4=[]"
   ]
  },
  {
   "cell_type": "code",
   "execution_count": 56,
   "metadata": {
    "tags": []
   },
   "outputs": [
    {
     "data": {
      "text/plain": [
       "<keras.callbacks.History at 0x14f98fdfb7f0>"
      ]
     },
     "execution_count": 56,
     "metadata": {},
     "output_type": "execute_result"
    }
   ],
   "source": [
    "# Set random seed\n",
    "tf.random.set_seed(42)\n",
    "random.seed(42)\n",
    "np.random.seed(42)\n",
    "\n",
    "# Replicate model_1 and add an extra layer\n",
    "model_4 = tf.keras.Sequential([\n",
    "  tf.keras.layers.Dense(200),\n",
    "  tf.keras.layers.Dense(200),\n",
    "  tf.keras.layers.Dense(100),\n",
    "  tf.keras.layers.Dense(1) # add a second layer\n",
    "])\n",
    "\n",
    "# Compile the model\n",
    "model_4.compile(loss=tf.keras.losses.mae,\n",
    "                optimizer=tf.keras.optimizers.Adam(),\n",
    "                metrics=['mae'])\n",
    "\n",
    "# Fit the model\n",
    "model_4.fit(tf.expand_dims(X_train, axis=-1), y_train, epochs=200, verbose=0) # set verbose to 0 for less output"
   ]
  },
  {
   "cell_type": "code",
   "execution_count": 57,
   "metadata": {
    "tags": []
   },
   "outputs": [
    {
     "name": "stdout",
     "output_type": "stream",
     "text": [
      "1/1 [==============================] - 0s 55ms/step\n"
     ]
    },
    {
     "data": {
      "image/png": "[encoded data removed]",
      "text/plain": [
       "<Figure size 1000x700 with 1 Axes>"
      ]
     },
     "metadata": {},
     "output_type": "display_data"
    }
   ],
   "source": [
    "# Make and plot predictions for model_3\n",
    "y_preds_4 = model_4.predict(X_test)\n",
    "plot_predictions(predictions=y_preds_4)"
   ]
  },
  {
   "cell_type": "code",
   "execution_count": 58,
   "metadata": {
    "tags": []
   },
   "outputs": [
    {
     "data": {
      "text/plain": [
       "(0.23687974, 0.05616029)"
      ]
     },
     "execution_count": 58,
     "metadata": {},
     "output_type": "execute_result"
    }
   ],
   "source": [
    "# Calculate model_3 metrics\n",
    "mae_4 = mae(y_test, y_preds_4.squeeze()).numpy()\n",
    "mse_4 = mse(y_test, y_preds_4.squeeze()).numpy()\n",
    "mae_4, mse_4"
   ]
  },
  {
   "cell_type": "markdown",
   "metadata": {
    "id": "UPEeM3UsrxGB"
   },
   "source": [
    "<div dir=\"rtl\">\n",
    "\n",
    "## مقارنة النتائج\n",
    "\n",
    "##### الآن لدينا نتائج لثلاث نتائج متشابهة ولكن مختلفة قليلاً، فلنقارنها."
   ]
  },
  {
   "cell_type": "code",
   "execution_count": 59,
   "metadata": {
    "id": "mw5RZk-BqLZd",
    "tags": []
   },
   "outputs": [],
   "source": [
    "model_results = [[\"model_1\", mae_1, mse_1],\n",
    "                 [\"model_2\", mae_2, mse_2],\n",
    "                 [\"model_3\", mae_3, mse_3],\n",
    "                [\"model_4\", mae_4, mse_4]]"
   ]
  },
  {
   "cell_type": "code",
   "execution_count": 60,
   "metadata": {
    "colab": {
     "base_uri": "https://localhost:8080/",
     "height": 142
    },
    "id": "Ip7bKH83p5X0",
    "outputId": "200a4d09-1220-4d14-8327-e3d22f768814",
    "tags": []
   },
   "outputs": [
    {
     "data": {
      "text/html": [
       "<div>\n",
       "<style scoped>\n",
       "    .dataframe tbody tr th:only-of-type {\n",
       "        vertical-align: middle;\n",
       "    }\n",
       "\n",
       "    .dataframe tbody tr th {\n",
       "        vertical-align: top;\n",
       "    }\n",
       "\n",
       "    .dataframe thead th {\n",
       "        text-align: right;\n",
       "    }\n",
       "</style>\n",
       "<table border=\"1\" class=\"dataframe\">\n",
       "  <thead>\n",
       "    <tr style=\"text-align: right;\">\n",
       "      <th></th>\n",
       "      <th>model</th>\n",
       "      <th>mae</th>\n",
       "      <th>mse</th>\n",
       "    </tr>\n",
       "  </thead>\n",
       "  <tbody>\n",
       "    <tr>\n",
       "      <th>0</th>\n",
       "      <td>model_1</td>\n",
       "      <td>30.404795</td>\n",
       "      <td>934.696167</td>\n",
       "    </tr>\n",
       "    <tr>\n",
       "      <th>1</th>\n",
       "      <td>model_2</td>\n",
       "      <td>10.227263</td>\n",
       "      <td>111.973534</td>\n",
       "    </tr>\n",
       "    <tr>\n",
       "      <th>2</th>\n",
       "      <td>model_3</td>\n",
       "      <td>67.409592</td>\n",
       "      <td>67.409592</td>\n",
       "    </tr>\n",
       "    <tr>\n",
       "      <th>3</th>\n",
       "      <td>model_4</td>\n",
       "      <td>0.236880</td>\n",
       "      <td>0.236880</td>\n",
       "    </tr>\n",
       "  </tbody>\n",
       "</table>\n",
       "</div>"
      ],
      "text/plain": [
       "     model        mae         mse\n",
       "0  model_1  30.404795  934.696167\n",
       "1  model_2  10.227263  111.973534\n",
       "2  model_3  67.409592   67.409592\n",
       "3  model_4   0.236880    0.236880"
      ]
     },
     "execution_count": 60,
     "metadata": {},
     "output_type": "execute_result"
    }
   ],
   "source": [
    "import pandas as pd\n",
    "all_results = pd.DataFrame(model_results, columns=[\"model\", \"mae\", \"mse\"])\n",
    "all_results"
   ]
  },
  {
   "cell_type": "markdown",
   "metadata": {},
   "source": [
    "<div dir=\"rtl\">\n",
    "\n",
    "##### من خلال تجاربنا، يبدو أن `model_4` حقق أفضل أداء.\n",
    "\n",
    "##### والآن، ربما تفكر، \"رائع، مقارنة النماذج أمر ممل...\" ومن المؤكد أنه يمكن أن يكون كذلك، لقد قمنا فقط بمقارنة 4 نماذج هنا.\n",
    "\n",
    "##### ولكن هذا جزء من موضوع نمذجة التعلم الآلي، وهو تجربة العديد من المجموعات المختلفة من النماذج ومعرفة أي منها يحقق أفضل أداء.\n",
    "\n",
    "##### كل نموذج تقوم بإنشائه هو تجربة صغيرة.\n",
    "\n",
    "##### > 🔑 **ملاحظة:** يجب أن يكون أحد أهدافك الرئيسية هو تقليل الوقت بين تجاربك. كلما قمت بتجارب أكثر، كلما اكتشفت المزيد من الأشياء التي لا تعمل، وبالتالي تقترب من اكتشاف ما ينجح. تذكر شعار ممارس التعلم الآلي: \"التجربة، التجربة، التجربة\".\n",
    "\n",
    "##### شيء آخر ستجده أيضًا هو أن ما كنت تعتقد أنه قد ينجح (مثل تدريب نموذج لفترة أطول) قد لا ينجح دائمًا والعكس تمامًا هو الحال أيضًا في كثير من الأحيان.\n",
    "\n",
    "## تتبع تجاربك\n",
    "\n",
    "##### إحدى العادات الجيدة حقًا التي يجب عليك اتباعها هي تتبع تجارب النمذجة الخاصة بك لمعرفة أي منها يحقق أداءً أفضل من الآخرين.\n",
    "\n",
    "##### لقد قمنا بنسخة بسيطة من هذا أعلاه (الاحتفاظ بالنتائج في متغيرات مختلفة).\n",
    "\n",
    "##### > 📖 **الموارد:** ولكن أثناء إنشاء المزيد من النماذج، ستحتاج إلى التفكير في استخدام أدوات مثل:\n",
    "* [**TensorBoard**](https://www.tensorflow.org/tensorboard/) - أحد مكونات مكتبة TensorFlow للمساعدة في تتبع تجارب النمذجة (سنرى ذلك لاحقًا).\n",
    "* [**Weights & Biases**](https://www.wandb.com/) - أداة لتتبع جميع أنواع تجارب التعلم الآلي (الخبر السار بالنسبة إلى الأوزان والتحيزات هو أنه يتم توصيلها بـ TensorBoard)."
   ]
  },
  {
   "cell_type": "markdown",
   "metadata": {
    "id": "Fe5DgNbX6192"
   },
   "source": [
    "<div dir=\"rtl\">\n",
    "    \n",
    "## حفظ النموذج\n",
    "\n",
    "##### بمجرد قيامك بتدريب النموذج والعثور على النموذج الذي يرضيك، فربما تريد حفظه لاستخدامه في مكان آخر (مثل تطبيق ويب أو جهاز محمول).\n",
    "\n",
    "##### يمكنك حفظ نموذج TensorFlow/Keras باستخدام [`model.save()`](https://www.tensorflow.org/tutorials/keras/save_and_load#save_the_entire_model).\n",
    "\n",
    "##### هناك طريقتان لحفظ النموذج في TensorFlow:\n",
    "1. [SavedModel format](https://www.tensorflow.org/tutorials/keras/save_and_load#savedmodel_format) (افتراضي).\n",
    "2. ملف [HDF5 format](https://www.tensorflow.org/tutorials/keras/save_and_load#hdf5_format).\n",
    "\n",
    "##### والفرق الرئيسي بين الاثنين هو أن SavedModel قادر تلقائيًا على حفظ الكائنات المخصصة (مثل الطبقات الخاصة) دون تعديلات إضافية عند تحميل النموذج مرة أخرى.\n",
    "\n",
    "##### التي ينبغي لأحد أن تستخدمها؟\n",
    "\n",
    "##### يعتمد ذلك على حالتك ولكن تنسيق SavedModel سيكون كافيًا في معظم الأوقات.\n",
    "\n",
    "##### تستخدم كلتا الطريقتين نفس استدعاء الأسلوب."
   ]
  },
  {
   "cell_type": "code",
   "execution_count": 53,
   "metadata": {
    "colab": {
     "base_uri": "https://localhost:8080/"
    },
    "id": "gg0jD2cUoPsg",
    "outputId": "bde421a5-d4b1-4d8e-9212-c7824f14dcc7",
    "tags": []
   },
   "outputs": [
    {
     "name": "stdout",
     "output_type": "stream",
     "text": [
      "INFO:tensorflow:Assets written to: best_model_SavedModel_format/assets\n"
     ]
    }
   ],
   "source": [
    "# Save a model using the SavedModel format\n",
    "model_4.save('best_model_SavedModel_format')"
   ]
  },
  {
   "cell_type": "code",
   "execution_count": 54,
   "metadata": {
    "colab": {
     "base_uri": "https://localhost:8080/"
    },
    "id": "dsCpDYrU7D1j",
    "outputId": "7f1b842b-cebb-46a7-ff9c-f6017fabf8eb",
    "tags": []
   },
   "outputs": [
    {
     "name": "stdout",
     "output_type": "stream",
     "text": [
      "assets\tkeras_metadata.pb  saved_model.pb  variables\n"
     ]
    }
   ],
   "source": [
    "# Check it out - outputs a protobuf binary file (.pb) as well as other files\n",
    "!ls best_model_SavedModel_format"
   ]
  },
  {
   "cell_type": "markdown",
   "metadata": {
    "id": "NGKmWco_SOEU"
   },
   "source": [
    "الآن دعونا نحفظ النموذج بتنسيق HDF5، وسنستخدم نفس الطريقة ولكن باسم ملف مختلف."
   ]
  },
  {
   "cell_type": "code",
   "execution_count": 55,
   "metadata": {
    "id": "97J6GJMBSM2j",
    "tags": []
   },
   "outputs": [],
   "source": [
    "# Save a model using the HDF5 format\n",
    "model_4.save(\"best_model_HDF5_format.h5\") # note the addition of '.h5' on the end"
   ]
  },
  {
   "cell_type": "code",
   "execution_count": 56,
   "metadata": {
    "colab": {
     "base_uri": "https://localhost:8080/"
    },
    "id": "vB7TmsSGSjdv",
    "outputId": "a82e9aa8-2391-461c-d3d5-cf31c9d7eaed",
    "tags": []
   },
   "outputs": [
    {
     "name": "stdout",
     "output_type": "stream",
     "text": [
      "best_model_HDF5_format.h5\n"
     ]
    }
   ],
   "source": [
    "# Check it out\n",
    "!ls best_model_HDF5_format.h5"
   ]
  },
  {
   "cell_type": "markdown",
   "metadata": {},
   "source": [
    "<div dir=\"rtl\">\n",
    "\n",
    "## تحميل النموذج\n",
    "\n",
    "##### يمكننا تحميل نموذج محفوظ باستخدام طريقة [`load_model()`](https://www.tensorflow.org/api_docs/python/tf/keras/models/load_model).\n",
    "\n",
    "##### تحميل نموذج للتنسيقات المختلفة (SavedModel وHDF5) هو نفسه (طالما أن أسماء المسارات للتنسيقات المحددة صحيحة)."
   ]
  },
  {
   "cell_type": "code",
   "execution_count": 57,
   "metadata": {
    "colab": {
     "base_uri": "https://localhost:8080/"
    },
    "id": "FzyLIWfs7Fvh",
    "outputId": "9dbc900f-bc63-436b-ba1a-60cf7ed7d793",
    "tags": []
   },
   "outputs": [
    {
     "name": "stdout",
     "output_type": "stream",
     "text": [
      "Model: \"sequential_6\"\n",
      "_________________________________________________________________\n",
      " Layer (type)                Output Shape              Param #   \n",
      "=================================================================\n",
      " dense_8 (Dense)             (None, 200)               400       \n",
      "                                                                 \n",
      " dense_9 (Dense)             (None, 200)               40200     \n",
      "                                                                 \n",
      " dense_10 (Dense)            (None, 100)               20100     \n",
      "                                                                 \n",
      " dense_11 (Dense)            (None, 1)                 101       \n",
      "                                                                 \n",
      "=================================================================\n",
      "Total params: 60,801\n",
      "Trainable params: 60,801\n",
      "Non-trainable params: 0\n",
      "_________________________________________________________________\n"
     ]
    }
   ],
   "source": [
    "# Load a model from the SavedModel format\n",
    "loaded_saved_model = tf.keras.models.load_model(\"best_model_SavedModel_format\")\n",
    "loaded_saved_model.summary()"
   ]
  },
  {
   "cell_type": "markdown",
   "metadata": {
    "id": "MfGO0dCQTeQh"
   },
   "source": [
    "الآن دعونا نختبر ذلك."
   ]
  },
  {
   "cell_type": "code",
   "execution_count": 58,
   "metadata": {
    "colab": {
     "base_uri": "https://localhost:8080/"
    },
    "id": "7rehN8ZxTy43",
    "outputId": "6696ffb8-7470-41aa-a83e-778c41241dfa",
    "tags": []
   },
   "outputs": [
    {
     "name": "stdout",
     "output_type": "stream",
     "text": [
      "1/1 [==============================] - 0s 71ms/step\n",
      "1/1 [==============================] - 0s 214ms/step\n"
     ]
    },
    {
     "data": {
      "text/plain": [
       "True"
      ]
     },
     "execution_count": 58,
     "metadata": {},
     "output_type": "execute_result"
    }
   ],
   "source": [
    "# Compare model_2 with the SavedModel version (should return True)\n",
    "model_4_preds = model_4.predict(X_test)\n",
    "saved_model_preds = loaded_saved_model.predict(X_test)\n",
    "mae(y_test, saved_model_preds.squeeze()).numpy() == mae(y_test, model_4_preds.squeeze()).numpy()"
   ]
  },
  {
   "cell_type": "markdown",
   "metadata": {
    "id": "prjkfX6rUZ6a"
   },
   "source": [
    "<div dir=\"rtl\">\n",
    "\n",
    " التحميل من HDF5 هو نفسه إلى حد كبير."
   ]
  },
  {
   "cell_type": "code",
   "execution_count": 59,
   "metadata": {
    "colab": {
     "base_uri": "https://localhost:8080/"
    },
    "id": "dQfx-bWKUfRQ",
    "outputId": "7983df59-27f5-4715-d3a4-6da88b055ebe",
    "tags": []
   },
   "outputs": [
    {
     "name": "stdout",
     "output_type": "stream",
     "text": [
      "Model: \"sequential_6\"\n",
      "_________________________________________________________________\n",
      " Layer (type)                Output Shape              Param #   \n",
      "=================================================================\n",
      " dense_8 (Dense)             (None, 200)               400       \n",
      "                                                                 \n",
      " dense_9 (Dense)             (None, 200)               40200     \n",
      "                                                                 \n",
      " dense_10 (Dense)            (None, 100)               20100     \n",
      "                                                                 \n",
      " dense_11 (Dense)            (None, 1)                 101       \n",
      "                                                                 \n",
      "=================================================================\n",
      "Total params: 60,801\n",
      "Trainable params: 60,801\n",
      "Non-trainable params: 0\n",
      "_________________________________________________________________\n"
     ]
    }
   ],
   "source": [
    "# Load a model from the HDF5 format\n",
    "loaded_h5_model = tf.keras.models.load_model(\"best_model_HDF5_format.h5\")\n",
    "loaded_h5_model.summary()"
   ]
  },
  {
   "cell_type": "code",
   "execution_count": 60,
   "metadata": {
    "colab": {
     "base_uri": "https://localhost:8080/"
    },
    "id": "L0kT91h-Uru-",
    "outputId": "44af4a8c-7aab-468a-f6e3-e94f447610f8",
    "tags": []
   },
   "outputs": [
    {
     "name": "stdout",
     "output_type": "stream",
     "text": [
      "1/1 [==============================] - 0s 54ms/step\n"
     ]
    },
    {
     "data": {
      "text/plain": [
       "True"
      ]
     },
     "execution_count": 60,
     "metadata": {},
     "output_type": "execute_result"
    }
   ],
   "source": [
    "# Compare model_2 with the loaded HDF5 version (should return True)\n",
    "h5_model_preds = loaded_h5_model.predict(X_test)\n",
    "mae(y_test, h5_model_preds.squeeze()).numpy() == mae(y_test, model_4_preds.squeeze()).numpy()"
   ]
  },
  {
   "cell_type": "markdown",
   "metadata": {},
   "source": [
    "<div dir=\"rtl\">\n",
    "\n",
    "## مثال أكبر\n",
    "\n",
    "##### حسنًا، لقد رأينا أساسيات بناء نماذج انحدار الشبكة العصبية في TensorFlow.\n",
    "\n",
    "##### دعونا نصعد الأمر قليلاً ونبني نموذجًا لمجموعة بيانات أكثر ثراءً بالميزات.\n",
    "\n",
    "##### وبشكل أكثر تحديدًا، سنحاول التنبؤ بتكلفة التأمين الطبي للأفراد استنادًا إلى عدد من العوامل المختلفة مثل \"العمر\" و\"الجنس\" و\"مؤشر كتلة الجسم\" و\"الأطفال\" و\"حالة التدخين\" و\"منطقة_الإقامة\".\n",
    "\n",
    "##### للقيام بذلك، سنستفيد من [Medical Cost dataset](https://www.kaggle.com/mirichoi0218/insurance) المتاح للعامة والمتاح من Kaggle و[Medical Cost dataset](https://www.kaggle.com/mirichoi0218/insurance).\n",
    "\n",
    "##### > 🔑 **ملاحظة:** عند تعلم نماذج التعلم الآلي، ستخضع غالبًا لسلسلة من التقنيات الأساسية ثم تمارسها من خلال العمل باستخدام مجموعات البيانات والأمثلة مفتوحة المصدر. تمامًا كما نفعل الآن، تعلم الأساسيات، واستخدمها للتعامل مع المشكلات المختلفة. في كل مرة تعمل فيها على شيء جديد، من الجيد البحث عن شيء مثل \"مثال لمشكلة X مع Python/TensorFlow\" حيث تستبدل X بمشكلتك."
   ]
  },
  {
   "cell_type": "code",
   "execution_count": 61,
   "metadata": {
    "id": "WWK1LBxapgc2",
    "tags": []
   },
   "outputs": [],
   "source": [
    "# Import required libraries\n",
    "import tensorflow as tf\n",
    "import pandas as pd\n",
    "import matplotlib.pyplot as plt\n",
    "import numpy as np"
   ]
  },
  {
   "cell_type": "code",
   "execution_count": 62,
   "metadata": {
    "id": "JrnTr5N9blFo",
    "tags": []
   },
   "outputs": [],
   "source": [
    "# Read in the insurance dataset\n",
    "#insurance = pd.read_csv(\"https://raw.githubusercontent.com/stedy/Machine-Learning-with-R-datasets/master/insurance.csv\")\n",
    "insurance = pd.read_csv('data/insurance.csv')"
   ]
  },
  {
   "cell_type": "code",
   "execution_count": 63,
   "metadata": {
    "colab": {
     "base_uri": "https://localhost:8080/",
     "height": 204
    },
    "id": "QtXPN7cfb4Nm",
    "outputId": "d859454e-45c9-4e6a-e919-65edf4cd139b",
    "tags": []
   },
   "outputs": [
    {
     "data": {
      "text/html": [
       "<div>\n",
       "<style scoped>\n",
       "    .dataframe tbody tr th:only-of-type {\n",
       "        vertical-align: middle;\n",
       "    }\n",
       "\n",
       "    .dataframe tbody tr th {\n",
       "        vertical-align: top;\n",
       "    }\n",
       "\n",
       "    .dataframe thead th {\n",
       "        text-align: right;\n",
       "    }\n",
       "</style>\n",
       "<table border=\"1\" class=\"dataframe\">\n",
       "  <thead>\n",
       "    <tr style=\"text-align: right;\">\n",
       "      <th></th>\n",
       "      <th>age</th>\n",
       "      <th>sex</th>\n",
       "      <th>bmi</th>\n",
       "      <th>children</th>\n",
       "      <th>smoker</th>\n",
       "      <th>region</th>\n",
       "      <th>charges</th>\n",
       "    </tr>\n",
       "  </thead>\n",
       "  <tbody>\n",
       "    <tr>\n",
       "      <th>0</th>\n",
       "      <td>19</td>\n",
       "      <td>female</td>\n",
       "      <td>27.900</td>\n",
       "      <td>0</td>\n",
       "      <td>yes</td>\n",
       "      <td>southwest</td>\n",
       "      <td>16884.92400</td>\n",
       "    </tr>\n",
       "    <tr>\n",
       "      <th>1</th>\n",
       "      <td>18</td>\n",
       "      <td>male</td>\n",
       "      <td>33.770</td>\n",
       "      <td>1</td>\n",
       "      <td>no</td>\n",
       "      <td>southeast</td>\n",
       "      <td>1725.55230</td>\n",
       "    </tr>\n",
       "    <tr>\n",
       "      <th>2</th>\n",
       "      <td>28</td>\n",
       "      <td>male</td>\n",
       "      <td>33.000</td>\n",
       "      <td>3</td>\n",
       "      <td>no</td>\n",
       "      <td>southeast</td>\n",
       "      <td>4449.46200</td>\n",
       "    </tr>\n",
       "    <tr>\n",
       "      <th>3</th>\n",
       "      <td>33</td>\n",
       "      <td>male</td>\n",
       "      <td>22.705</td>\n",
       "      <td>0</td>\n",
       "      <td>no</td>\n",
       "      <td>northwest</td>\n",
       "      <td>21984.47061</td>\n",
       "    </tr>\n",
       "    <tr>\n",
       "      <th>4</th>\n",
       "      <td>32</td>\n",
       "      <td>male</td>\n",
       "      <td>28.880</td>\n",
       "      <td>0</td>\n",
       "      <td>no</td>\n",
       "      <td>northwest</td>\n",
       "      <td>3866.85520</td>\n",
       "    </tr>\n",
       "  </tbody>\n",
       "</table>\n",
       "</div>"
      ],
      "text/plain": [
       "   age     sex     bmi  children smoker     region      charges\n",
       "0   19  female  27.900         0    yes  southwest  16884.92400\n",
       "1   18    male  33.770         1     no  southeast   1725.55230\n",
       "2   28    male  33.000         3     no  southeast   4449.46200\n",
       "3   33    male  22.705         0     no  northwest  21984.47061\n",
       "4   32    male  28.880         0     no  northwest   3866.85520"
      ]
     },
     "execution_count": 63,
     "metadata": {},
     "output_type": "execute_result"
    }
   ],
   "source": [
    "# Check out the insurance dataset\n",
    "insurance.head()"
   ]
  },
  {
   "cell_type": "markdown",
   "metadata": {},
   "source": [
    "<div dir=\"rtl\">\n",
    "\n",
    "##### سيتعين علينا تحويل الأعمدة غير الرقمية إلى أرقام (لأن الشبكة العصبية لا يمكنها التعامل مع المدخلات غير الرقمية).\n",
    "\n",
    "##### للقيام بذلك، سنستخدم الطريقة [`get_dummies()`](https://pandas.pydata.org/pandas-docs/stable/reference/api/pandas.get_dummies.html) في الباندا.\n",
    "\n",
    "##### يقوم بتحويل المتغيرات الفئوية (مثل أعمدة \"الجنس\" و\"المدخن\" و\"المنطقة\") إلى متغيرات رقمية باستخدام ترميز واحد ساخن."
   ]
  },
  {
   "cell_type": "code",
   "execution_count": 64,
   "metadata": {
    "colab": {
     "base_uri": "https://localhost:8080/",
     "height": 224
    },
    "id": "MqM_BmPkdon8",
    "outputId": "c6a4b1bf-3042-4702-bf7f-bce155e64310",
    "tags": []
   },
   "outputs": [
    {
     "data": {
      "text/html": [
       "<div>\n",
       "<style scoped>\n",
       "    .dataframe tbody tr th:only-of-type {\n",
       "        vertical-align: middle;\n",
       "    }\n",
       "\n",
       "    .dataframe tbody tr th {\n",
       "        vertical-align: top;\n",
       "    }\n",
       "\n",
       "    .dataframe thead th {\n",
       "        text-align: right;\n",
       "    }\n",
       "</style>\n",
       "<table border=\"1\" class=\"dataframe\">\n",
       "  <thead>\n",
       "    <tr style=\"text-align: right;\">\n",
       "      <th></th>\n",
       "      <th>age</th>\n",
       "      <th>bmi</th>\n",
       "      <th>children</th>\n",
       "      <th>charges</th>\n",
       "      <th>sex_female</th>\n",
       "      <th>sex_male</th>\n",
       "      <th>smoker_no</th>\n",
       "      <th>smoker_yes</th>\n",
       "      <th>region_northeast</th>\n",
       "      <th>region_northwest</th>\n",
       "      <th>region_southeast</th>\n",
       "      <th>region_southwest</th>\n",
       "    </tr>\n",
       "  </thead>\n",
       "  <tbody>\n",
       "    <tr>\n",
       "      <th>0</th>\n",
       "      <td>19</td>\n",
       "      <td>27.900</td>\n",
       "      <td>0</td>\n",
       "      <td>16884.92400</td>\n",
       "      <td>1</td>\n",
       "      <td>0</td>\n",
       "      <td>0</td>\n",
       "      <td>1</td>\n",
       "      <td>0</td>\n",
       "      <td>0</td>\n",
       "      <td>0</td>\n",
       "      <td>1</td>\n",
       "    </tr>\n",
       "    <tr>\n",
       "      <th>1</th>\n",
       "      <td>18</td>\n",
       "      <td>33.770</td>\n",
       "      <td>1</td>\n",
       "      <td>1725.55230</td>\n",
       "      <td>0</td>\n",
       "      <td>1</td>\n",
       "      <td>1</td>\n",
       "      <td>0</td>\n",
       "      <td>0</td>\n",
       "      <td>0</td>\n",
       "      <td>1</td>\n",
       "      <td>0</td>\n",
       "    </tr>\n",
       "    <tr>\n",
       "      <th>2</th>\n",
       "      <td>28</td>\n",
       "      <td>33.000</td>\n",
       "      <td>3</td>\n",
       "      <td>4449.46200</td>\n",
       "      <td>0</td>\n",
       "      <td>1</td>\n",
       "      <td>1</td>\n",
       "      <td>0</td>\n",
       "      <td>0</td>\n",
       "      <td>0</td>\n",
       "      <td>1</td>\n",
       "      <td>0</td>\n",
       "    </tr>\n",
       "    <tr>\n",
       "      <th>3</th>\n",
       "      <td>33</td>\n",
       "      <td>22.705</td>\n",
       "      <td>0</td>\n",
       "      <td>21984.47061</td>\n",
       "      <td>0</td>\n",
       "      <td>1</td>\n",
       "      <td>1</td>\n",
       "      <td>0</td>\n",
       "      <td>0</td>\n",
       "      <td>1</td>\n",
       "      <td>0</td>\n",
       "      <td>0</td>\n",
       "    </tr>\n",
       "    <tr>\n",
       "      <th>4</th>\n",
       "      <td>32</td>\n",
       "      <td>28.880</td>\n",
       "      <td>0</td>\n",
       "      <td>3866.85520</td>\n",
       "      <td>0</td>\n",
       "      <td>1</td>\n",
       "      <td>1</td>\n",
       "      <td>0</td>\n",
       "      <td>0</td>\n",
       "      <td>1</td>\n",
       "      <td>0</td>\n",
       "      <td>0</td>\n",
       "    </tr>\n",
       "  </tbody>\n",
       "</table>\n",
       "</div>"
      ],
      "text/plain": [
       "   age     bmi  children      charges  sex_female  sex_male  smoker_no  \\\n",
       "0   19  27.900         0  16884.92400           1         0          0   \n",
       "1   18  33.770         1   1725.55230           0         1          1   \n",
       "2   28  33.000         3   4449.46200           0         1          1   \n",
       "3   33  22.705         0  21984.47061           0         1          1   \n",
       "4   32  28.880         0   3866.85520           0         1          1   \n",
       "\n",
       "   smoker_yes  region_northeast  region_northwest  region_southeast  \\\n",
       "0           1                 0                 0                 0   \n",
       "1           0                 0                 0                 1   \n",
       "2           0                 0                 0                 1   \n",
       "3           0                 0                 1                 0   \n",
       "4           0                 0                 1                 0   \n",
       "\n",
       "   region_southwest  \n",
       "0                 1  \n",
       "1                 0  \n",
       "2                 0  \n",
       "3                 0  \n",
       "4                 0  "
      ]
     },
     "execution_count": 64,
     "metadata": {},
     "output_type": "execute_result"
    }
   ],
   "source": [
    "# Turn all categories into numbers\n",
    "insurance_one_hot = pd.get_dummies(insurance)\n",
    "insurance_one_hot.head() # view the converted columns"
   ]
  },
  {
   "cell_type": "markdown",
   "metadata": {
    "id": "zOHoPzgqgZPq"
   },
   "source": [
    "<div dir=\"rtl\">\n",
    "\n",
    "سنقوم الآن بتقسيم البيانات إلى ميزات (`X`) وتسميات (`y`)."
   ]
  },
  {
   "cell_type": "code",
   "execution_count": 65,
   "metadata": {
    "id": "W_EGj3FxhkAb",
    "tags": []
   },
   "outputs": [],
   "source": [
    "# Create X & y values\n",
    "X = insurance_one_hot.drop(\"charges\", axis=1)\n",
    "y = insurance_one_hot[\"charges\"]"
   ]
  },
  {
   "cell_type": "code",
   "execution_count": 66,
   "metadata": {
    "colab": {
     "base_uri": "https://localhost:8080/",
     "height": 224
    },
    "id": "-QQFJmDn5ATV",
    "outputId": "eb53df6b-4461-4251-f1c7-47cf81c99da7",
    "tags": []
   },
   "outputs": [
    {
     "data": {
      "text/html": [
       "<div>\n",
       "<style scoped>\n",
       "    .dataframe tbody tr th:only-of-type {\n",
       "        vertical-align: middle;\n",
       "    }\n",
       "\n",
       "    .dataframe tbody tr th {\n",
       "        vertical-align: top;\n",
       "    }\n",
       "\n",
       "    .dataframe thead th {\n",
       "        text-align: right;\n",
       "    }\n",
       "</style>\n",
       "<table border=\"1\" class=\"dataframe\">\n",
       "  <thead>\n",
       "    <tr style=\"text-align: right;\">\n",
       "      <th></th>\n",
       "      <th>age</th>\n",
       "      <th>bmi</th>\n",
       "      <th>children</th>\n",
       "      <th>sex_female</th>\n",
       "      <th>sex_male</th>\n",
       "      <th>smoker_no</th>\n",
       "      <th>smoker_yes</th>\n",
       "      <th>region_northeast</th>\n",
       "      <th>region_northwest</th>\n",
       "      <th>region_southeast</th>\n",
       "      <th>region_southwest</th>\n",
       "    </tr>\n",
       "  </thead>\n",
       "  <tbody>\n",
       "    <tr>\n",
       "      <th>0</th>\n",
       "      <td>19</td>\n",
       "      <td>27.900</td>\n",
       "      <td>0</td>\n",
       "      <td>1</td>\n",
       "      <td>0</td>\n",
       "      <td>0</td>\n",
       "      <td>1</td>\n",
       "      <td>0</td>\n",
       "      <td>0</td>\n",
       "      <td>0</td>\n",
       "      <td>1</td>\n",
       "    </tr>\n",
       "    <tr>\n",
       "      <th>1</th>\n",
       "      <td>18</td>\n",
       "      <td>33.770</td>\n",
       "      <td>1</td>\n",
       "      <td>0</td>\n",
       "      <td>1</td>\n",
       "      <td>1</td>\n",
       "      <td>0</td>\n",
       "      <td>0</td>\n",
       "      <td>0</td>\n",
       "      <td>1</td>\n",
       "      <td>0</td>\n",
       "    </tr>\n",
       "    <tr>\n",
       "      <th>2</th>\n",
       "      <td>28</td>\n",
       "      <td>33.000</td>\n",
       "      <td>3</td>\n",
       "      <td>0</td>\n",
       "      <td>1</td>\n",
       "      <td>1</td>\n",
       "      <td>0</td>\n",
       "      <td>0</td>\n",
       "      <td>0</td>\n",
       "      <td>1</td>\n",
       "      <td>0</td>\n",
       "    </tr>\n",
       "    <tr>\n",
       "      <th>3</th>\n",
       "      <td>33</td>\n",
       "      <td>22.705</td>\n",
       "      <td>0</td>\n",
       "      <td>0</td>\n",
       "      <td>1</td>\n",
       "      <td>1</td>\n",
       "      <td>0</td>\n",
       "      <td>0</td>\n",
       "      <td>1</td>\n",
       "      <td>0</td>\n",
       "      <td>0</td>\n",
       "    </tr>\n",
       "    <tr>\n",
       "      <th>4</th>\n",
       "      <td>32</td>\n",
       "      <td>28.880</td>\n",
       "      <td>0</td>\n",
       "      <td>0</td>\n",
       "      <td>1</td>\n",
       "      <td>1</td>\n",
       "      <td>0</td>\n",
       "      <td>0</td>\n",
       "      <td>1</td>\n",
       "      <td>0</td>\n",
       "      <td>0</td>\n",
       "    </tr>\n",
       "  </tbody>\n",
       "</table>\n",
       "</div>"
      ],
      "text/plain": [
       "   age     bmi  children  sex_female  sex_male  smoker_no  smoker_yes  \\\n",
       "0   19  27.900         0           1         0          0           1   \n",
       "1   18  33.770         1           0         1          1           0   \n",
       "2   28  33.000         3           0         1          1           0   \n",
       "3   33  22.705         0           0         1          1           0   \n",
       "4   32  28.880         0           0         1          1           0   \n",
       "\n",
       "   region_northeast  region_northwest  region_southeast  region_southwest  \n",
       "0                 0                 0                 0                 1  \n",
       "1                 0                 0                 1                 0  \n",
       "2                 0                 0                 1                 0  \n",
       "3                 0                 1                 0                 0  \n",
       "4                 0                 1                 0                 0  "
      ]
     },
     "execution_count": 66,
     "metadata": {},
     "output_type": "execute_result"
    }
   ],
   "source": [
    "# View features\n",
    "X.head()"
   ]
  },
  {
   "cell_type": "markdown",
   "metadata": {
    "id": "kudhkM-0giS1"
   },
   "source": [
    "<div dir=\"rtl\">\n",
    "\n",
    "وإنشاء مجموعات التدريب والاختبار. يمكننا القيام بذلك يدويًا، ولكن لتسهيل الأمر، سنستفيد من وظيفة [`train_test_split`](https://scikit-learn.org/stable/modules/generated/sklearn.model_selection.train_test_split.html) المتوفرة بالفعل والمتاحة من Scikit-Learn."
   ]
  },
  {
   "cell_type": "code",
   "execution_count": 67,
   "metadata": {
    "tags": []
   },
   "outputs": [
    {
     "data": {
      "text/plain": [
       "0    16884.92400\n",
       "1     1725.55230\n",
       "2     4449.46200\n",
       "3    21984.47061\n",
       "4     3866.85520\n",
       "Name: charges, dtype: float64"
      ]
     },
     "execution_count": 67,
     "metadata": {},
     "output_type": "execute_result"
    }
   ],
   "source": [
    "y.head()"
   ]
  },
  {
   "cell_type": "code",
   "execution_count": 68,
   "metadata": {
    "id": "WPGZGk0jhxCZ",
    "tags": []
   },
   "outputs": [],
   "source": [
    "# Create training and test sets\n",
    "from sklearn.model_selection import train_test_split\n",
    "X_train, X_test, y_train, y_test = train_test_split(X, \n",
    "                                                    y, \n",
    "                                                    test_size=0.2, \n",
    "                                                    random_state=42) # set random state for reproducible splits"
   ]
  },
  {
   "cell_type": "markdown",
   "metadata": {
    "id": "W8wEC0FPglnN"
   },
   "source": [
    "<div dir=\"rtl\">\n",
    "\n",
    "الآن يمكننا بناء نموذج وملاءمته (سنجعله مثل `model_2`)."
   ]
  },
  {
   "cell_type": "code",
   "execution_count": 69,
   "metadata": {
    "tags": []
   },
   "outputs": [
    {
     "data": {
      "text/html": [
       "<div>\n",
       "<style scoped>\n",
       "    .dataframe tbody tr th:only-of-type {\n",
       "        vertical-align: middle;\n",
       "    }\n",
       "\n",
       "    .dataframe tbody tr th {\n",
       "        vertical-align: top;\n",
       "    }\n",
       "\n",
       "    .dataframe thead th {\n",
       "        text-align: right;\n",
       "    }\n",
       "</style>\n",
       "<table border=\"1\" class=\"dataframe\">\n",
       "  <thead>\n",
       "    <tr style=\"text-align: right;\">\n",
       "      <th></th>\n",
       "      <th>age</th>\n",
       "      <th>bmi</th>\n",
       "      <th>children</th>\n",
       "      <th>sex_female</th>\n",
       "      <th>sex_male</th>\n",
       "      <th>smoker_no</th>\n",
       "      <th>smoker_yes</th>\n",
       "      <th>region_northeast</th>\n",
       "      <th>region_northwest</th>\n",
       "      <th>region_southeast</th>\n",
       "      <th>region_southwest</th>\n",
       "    </tr>\n",
       "  </thead>\n",
       "  <tbody>\n",
       "    <tr>\n",
       "      <th>764</th>\n",
       "      <td>45</td>\n",
       "      <td>25.175</td>\n",
       "      <td>2</td>\n",
       "      <td>1</td>\n",
       "      <td>0</td>\n",
       "      <td>1</td>\n",
       "      <td>0</td>\n",
       "      <td>1</td>\n",
       "      <td>0</td>\n",
       "      <td>0</td>\n",
       "      <td>0</td>\n",
       "    </tr>\n",
       "    <tr>\n",
       "      <th>887</th>\n",
       "      <td>36</td>\n",
       "      <td>30.020</td>\n",
       "      <td>0</td>\n",
       "      <td>1</td>\n",
       "      <td>0</td>\n",
       "      <td>1</td>\n",
       "      <td>0</td>\n",
       "      <td>0</td>\n",
       "      <td>1</td>\n",
       "      <td>0</td>\n",
       "      <td>0</td>\n",
       "    </tr>\n",
       "    <tr>\n",
       "      <th>890</th>\n",
       "      <td>64</td>\n",
       "      <td>26.885</td>\n",
       "      <td>0</td>\n",
       "      <td>1</td>\n",
       "      <td>0</td>\n",
       "      <td>0</td>\n",
       "      <td>1</td>\n",
       "      <td>0</td>\n",
       "      <td>1</td>\n",
       "      <td>0</td>\n",
       "      <td>0</td>\n",
       "    </tr>\n",
       "    <tr>\n",
       "      <th>1293</th>\n",
       "      <td>46</td>\n",
       "      <td>25.745</td>\n",
       "      <td>3</td>\n",
       "      <td>0</td>\n",
       "      <td>1</td>\n",
       "      <td>1</td>\n",
       "      <td>0</td>\n",
       "      <td>0</td>\n",
       "      <td>1</td>\n",
       "      <td>0</td>\n",
       "      <td>0</td>\n",
       "    </tr>\n",
       "    <tr>\n",
       "      <th>259</th>\n",
       "      <td>19</td>\n",
       "      <td>31.920</td>\n",
       "      <td>0</td>\n",
       "      <td>0</td>\n",
       "      <td>1</td>\n",
       "      <td>0</td>\n",
       "      <td>1</td>\n",
       "      <td>0</td>\n",
       "      <td>1</td>\n",
       "      <td>0</td>\n",
       "      <td>0</td>\n",
       "    </tr>\n",
       "    <tr>\n",
       "      <th>...</th>\n",
       "      <td>...</td>\n",
       "      <td>...</td>\n",
       "      <td>...</td>\n",
       "      <td>...</td>\n",
       "      <td>...</td>\n",
       "      <td>...</td>\n",
       "      <td>...</td>\n",
       "      <td>...</td>\n",
       "      <td>...</td>\n",
       "      <td>...</td>\n",
       "      <td>...</td>\n",
       "    </tr>\n",
       "    <tr>\n",
       "      <th>109</th>\n",
       "      <td>63</td>\n",
       "      <td>35.090</td>\n",
       "      <td>0</td>\n",
       "      <td>0</td>\n",
       "      <td>1</td>\n",
       "      <td>0</td>\n",
       "      <td>1</td>\n",
       "      <td>0</td>\n",
       "      <td>0</td>\n",
       "      <td>1</td>\n",
       "      <td>0</td>\n",
       "    </tr>\n",
       "    <tr>\n",
       "      <th>575</th>\n",
       "      <td>58</td>\n",
       "      <td>27.170</td>\n",
       "      <td>0</td>\n",
       "      <td>1</td>\n",
       "      <td>0</td>\n",
       "      <td>1</td>\n",
       "      <td>0</td>\n",
       "      <td>0</td>\n",
       "      <td>1</td>\n",
       "      <td>0</td>\n",
       "      <td>0</td>\n",
       "    </tr>\n",
       "    <tr>\n",
       "      <th>535</th>\n",
       "      <td>38</td>\n",
       "      <td>28.025</td>\n",
       "      <td>1</td>\n",
       "      <td>0</td>\n",
       "      <td>1</td>\n",
       "      <td>1</td>\n",
       "      <td>0</td>\n",
       "      <td>1</td>\n",
       "      <td>0</td>\n",
       "      <td>0</td>\n",
       "      <td>0</td>\n",
       "    </tr>\n",
       "    <tr>\n",
       "      <th>543</th>\n",
       "      <td>54</td>\n",
       "      <td>47.410</td>\n",
       "      <td>0</td>\n",
       "      <td>1</td>\n",
       "      <td>0</td>\n",
       "      <td>0</td>\n",
       "      <td>1</td>\n",
       "      <td>0</td>\n",
       "      <td>0</td>\n",
       "      <td>1</td>\n",
       "      <td>0</td>\n",
       "    </tr>\n",
       "    <tr>\n",
       "      <th>846</th>\n",
       "      <td>51</td>\n",
       "      <td>34.200</td>\n",
       "      <td>1</td>\n",
       "      <td>1</td>\n",
       "      <td>0</td>\n",
       "      <td>1</td>\n",
       "      <td>0</td>\n",
       "      <td>0</td>\n",
       "      <td>0</td>\n",
       "      <td>0</td>\n",
       "      <td>1</td>\n",
       "    </tr>\n",
       "  </tbody>\n",
       "</table>\n",
       "<p>268 rows × 11 columns</p>\n",
       "</div>"
      ],
      "text/plain": [
       "      age     bmi  children  sex_female  sex_male  smoker_no  smoker_yes  \\\n",
       "764    45  25.175         2           1         0          1           0   \n",
       "887    36  30.020         0           1         0          1           0   \n",
       "890    64  26.885         0           1         0          0           1   \n",
       "1293   46  25.745         3           0         1          1           0   \n",
       "259    19  31.920         0           0         1          0           1   \n",
       "...   ...     ...       ...         ...       ...        ...         ...   \n",
       "109    63  35.090         0           0         1          0           1   \n",
       "575    58  27.170         0           1         0          1           0   \n",
       "535    38  28.025         1           0         1          1           0   \n",
       "543    54  47.410         0           1         0          0           1   \n",
       "846    51  34.200         1           1         0          1           0   \n",
       "\n",
       "      region_northeast  region_northwest  region_southeast  region_southwest  \n",
       "764                  1                 0                 0                 0  \n",
       "887                  0                 1                 0                 0  \n",
       "890                  0                 1                 0                 0  \n",
       "1293                 0                 1                 0                 0  \n",
       "259                  0                 1                 0                 0  \n",
       "...                ...               ...               ...               ...  \n",
       "109                  0                 0                 1                 0  \n",
       "575                  0                 1                 0                 0  \n",
       "535                  1                 0                 0                 0  \n",
       "543                  0                 0                 1                 0  \n",
       "846                  0                 0                 0                 1  \n",
       "\n",
       "[268 rows x 11 columns]"
      ]
     },
     "execution_count": 69,
     "metadata": {},
     "output_type": "execute_result"
    }
   ],
   "source": [
    "X_test"
   ]
  },
  {
   "cell_type": "code",
   "execution_count": 70,
   "metadata": {
    "tags": []
   },
   "outputs": [],
   "source": [
    "#X_train = np.array(X_train)\n",
    "#y_train = np.array(y_train)\n",
    "# Cast X_train and y_train to float32\n",
    "X_train = X_train.astype('float32')\n",
    "y_train = y_train.astype('float32')"
   ]
  },
  {
   "cell_type": "code",
   "execution_count": 71,
   "metadata": {
    "tags": []
   },
   "outputs": [],
   "source": [
    "insurance_model=[]"
   ]
  },
  {
   "cell_type": "code",
   "execution_count": 72,
   "metadata": {
    "colab": {
     "base_uri": "https://localhost:8080/"
    },
    "id": "OCXTmz6oh_T6",
    "outputId": "da476651-b453-4465-d8ee-9c16961b8ce1",
    "tags": []
   },
   "outputs": [
    {
     "name": "stdout",
     "output_type": "stream",
     "text": [
      "Epoch 1/100\n",
      "34/34 [==============================] - 0s 1ms/step - loss: 8507.4648 - mae: 8507.4648\n",
      "Epoch 2/100\n",
      "34/34 [==============================] - 0s 1ms/step - loss: 7824.0142 - mae: 7824.0142\n",
      "Epoch 3/100\n",
      "34/34 [==============================] - 0s 1ms/step - loss: 7615.8936 - mae: 7615.8936\n",
      "Epoch 4/100\n",
      "34/34 [==============================] - 0s 1ms/step - loss: 7667.1729 - mae: 7667.1729\n",
      "Epoch 5/100\n",
      "34/34 [==============================] - 0s 1ms/step - loss: 7674.4395 - mae: 7674.4395\n",
      "Epoch 6/100\n",
      "34/34 [==============================] - 0s 1ms/step - loss: 7577.3838 - mae: 7577.3838\n",
      "Epoch 7/100\n",
      "34/34 [==============================] - 0s 1ms/step - loss: 7528.8286 - mae: 7528.8286\n",
      "Epoch 8/100\n",
      "34/34 [==============================] - 0s 1ms/step - loss: 7799.8369 - mae: 7799.8369\n",
      "Epoch 9/100\n",
      "34/34 [==============================] - 0s 1ms/step - loss: 7571.8398 - mae: 7571.8398\n",
      "Epoch 10/100\n",
      "34/34 [==============================] - 0s 1ms/step - loss: 7723.0757 - mae: 7723.0757\n",
      "Epoch 11/100\n",
      "34/34 [==============================] - 0s 1ms/step - loss: 7484.3647 - mae: 7484.3647\n",
      "Epoch 12/100\n",
      "34/34 [==============================] - 0s 1ms/step - loss: 7710.1792 - mae: 7710.1792\n",
      "Epoch 13/100\n",
      "34/34 [==============================] - 0s 1ms/step - loss: 7650.3989 - mae: 7650.3989\n",
      "Epoch 14/100\n",
      "34/34 [==============================] - 0s 1ms/step - loss: 7791.1792 - mae: 7791.1792\n",
      "Epoch 15/100\n",
      "34/34 [==============================] - 0s 1ms/step - loss: 7455.3062 - mae: 7455.3062\n",
      "Epoch 16/100\n",
      "34/34 [==============================] - 0s 1ms/step - loss: 7764.1445 - mae: 7764.1445\n",
      "Epoch 17/100\n",
      "34/34 [==============================] - 0s 1ms/step - loss: 7574.2769 - mae: 7574.2769\n",
      "Epoch 18/100\n",
      "34/34 [==============================] - 0s 1ms/step - loss: 7791.4878 - mae: 7791.4878\n",
      "Epoch 19/100\n",
      "34/34 [==============================] - 0s 1ms/step - loss: 7684.4331 - mae: 7684.4331\n",
      "Epoch 20/100\n",
      "34/34 [==============================] - 0s 1ms/step - loss: 7925.1289 - mae: 7925.1289\n",
      "Epoch 21/100\n",
      "34/34 [==============================] - 0s 1ms/step - loss: 7566.6631 - mae: 7566.6631\n",
      "Epoch 22/100\n",
      "34/34 [==============================] - 0s 1ms/step - loss: 7869.4458 - mae: 7869.4458\n",
      "Epoch 23/100\n",
      "34/34 [==============================] - 0s 1ms/step - loss: 7642.3193 - mae: 7642.3193\n",
      "Epoch 24/100\n",
      "34/34 [==============================] - 0s 1ms/step - loss: 7520.4951 - mae: 7520.4951\n",
      "Epoch 25/100\n",
      "34/34 [==============================] - 0s 1ms/step - loss: 7500.5161 - mae: 7500.5161\n",
      "Epoch 26/100\n",
      "34/34 [==============================] - 0s 1ms/step - loss: 7656.3491 - mae: 7656.3491\n",
      "Epoch 27/100\n",
      "34/34 [==============================] - 0s 1ms/step - loss: 7578.9590 - mae: 7578.9590\n",
      "Epoch 28/100\n",
      "34/34 [==============================] - 0s 1ms/step - loss: 7424.5283 - mae: 7424.5283\n",
      "Epoch 29/100\n",
      "34/34 [==============================] - 0s 1ms/step - loss: 7679.2378 - mae: 7679.2378\n",
      "Epoch 30/100\n",
      "34/34 [==============================] - 0s 1ms/step - loss: 7609.9839 - mae: 7609.9839\n",
      "Epoch 31/100\n",
      "34/34 [==============================] - 0s 1ms/step - loss: 7682.0679 - mae: 7682.0679\n",
      "Epoch 32/100\n",
      "34/34 [==============================] - 0s 1ms/step - loss: 7574.3218 - mae: 7574.3218\n",
      "Epoch 33/100\n",
      "34/34 [==============================] - 0s 1ms/step - loss: 7502.1470 - mae: 7502.1470\n",
      "Epoch 34/100\n",
      "34/34 [==============================] - 0s 1ms/step - loss: 7516.2090 - mae: 7516.2090\n",
      "Epoch 35/100\n",
      "34/34 [==============================] - 0s 1ms/step - loss: 7607.7661 - mae: 7607.7661\n",
      "Epoch 36/100\n",
      "34/34 [==============================] - 0s 1ms/step - loss: 7564.1777 - mae: 7564.1777\n",
      "Epoch 37/100\n",
      "34/34 [==============================] - 0s 1ms/step - loss: 7660.6069 - mae: 7660.6069\n",
      "Epoch 38/100\n",
      "34/34 [==============================] - 0s 1ms/step - loss: 7519.0171 - mae: 7519.0171\n",
      "Epoch 39/100\n",
      "34/34 [==============================] - 0s 1ms/step - loss: 7553.1313 - mae: 7553.1313\n",
      "Epoch 40/100\n",
      "34/34 [==============================] - 0s 1ms/step - loss: 7527.2998 - mae: 7527.2998\n",
      "Epoch 41/100\n",
      "34/34 [==============================] - 0s 1ms/step - loss: 7728.1406 - mae: 7728.1406\n",
      "Epoch 42/100\n",
      "34/34 [==============================] - 0s 1ms/step - loss: 7432.7026 - mae: 7432.7026\n",
      "Epoch 43/100\n",
      "34/34 [==============================] - 0s 1ms/step - loss: 7469.9951 - mae: 7469.9951\n",
      "Epoch 44/100\n",
      "34/34 [==============================] - 0s 1ms/step - loss: 7539.1616 - mae: 7539.1616\n",
      "Epoch 45/100\n",
      "34/34 [==============================] - 0s 1ms/step - loss: 7487.3877 - mae: 7487.3877\n",
      "Epoch 46/100\n",
      "34/34 [==============================] - 0s 1ms/step - loss: 7400.6885 - mae: 7400.6885\n",
      "Epoch 47/100\n",
      "34/34 [==============================] - 0s 1ms/step - loss: 7487.4546 - mae: 7487.4546\n",
      "Epoch 48/100\n",
      "34/34 [==============================] - 0s 1ms/step - loss: 7534.5024 - mae: 7534.5024\n",
      "Epoch 49/100\n",
      "34/34 [==============================] - 0s 1ms/step - loss: 7549.6182 - mae: 7549.6182\n",
      "Epoch 50/100\n",
      "34/34 [==============================] - 0s 1ms/step - loss: 7488.0117 - mae: 7488.0117\n",
      "Epoch 51/100\n",
      "34/34 [==============================] - 0s 1ms/step - loss: 7306.8984 - mae: 7306.8984\n",
      "Epoch 52/100\n",
      "34/34 [==============================] - 0s 1ms/step - loss: 7574.8462 - mae: 7574.8462\n",
      "Epoch 53/100\n",
      "34/34 [==============================] - 0s 1ms/step - loss: 7467.9014 - mae: 7467.9014\n",
      "Epoch 54/100\n",
      "34/34 [==============================] - 0s 1ms/step - loss: 7227.8228 - mae: 7227.8228\n",
      "Epoch 55/100\n",
      "34/34 [==============================] - 0s 1ms/step - loss: 7318.5229 - mae: 7318.5229\n",
      "Epoch 56/100\n",
      "34/34 [==============================] - 0s 1ms/step - loss: 7267.8901 - mae: 7267.8901\n",
      "Epoch 57/100\n",
      "34/34 [==============================] - 0s 1ms/step - loss: 7312.0117 - mae: 7312.0117\n",
      "Epoch 58/100\n",
      "34/34 [==============================] - 0s 1ms/step - loss: 7540.3037 - mae: 7540.3037\n",
      "Epoch 59/100\n",
      "34/34 [==============================] - 0s 1ms/step - loss: 7685.5020 - mae: 7685.5020\n",
      "Epoch 60/100\n",
      "34/34 [==============================] - 0s 1ms/step - loss: 7489.7183 - mae: 7489.7183\n",
      "Epoch 61/100\n",
      "34/34 [==============================] - 0s 1ms/step - loss: 7474.0898 - mae: 7474.0898\n",
      "Epoch 62/100\n",
      "34/34 [==============================] - 0s 1ms/step - loss: 7410.2339 - mae: 7410.2339\n",
      "Epoch 63/100\n",
      "34/34 [==============================] - 0s 1ms/step - loss: 7369.8940 - mae: 7369.8940\n",
      "Epoch 64/100\n",
      "34/34 [==============================] - 0s 1ms/step - loss: 7428.6953 - mae: 7428.6953\n",
      "Epoch 65/100\n",
      "34/34 [==============================] - 0s 1ms/step - loss: 7511.0176 - mae: 7511.0176\n",
      "Epoch 66/100\n",
      "34/34 [==============================] - 0s 1ms/step - loss: 7343.1177 - mae: 7343.1177\n",
      "Epoch 67/100\n",
      "34/34 [==============================] - 0s 1ms/step - loss: 7069.7705 - mae: 7069.7705\n",
      "Epoch 68/100\n",
      "34/34 [==============================] - 0s 1ms/step - loss: 7486.7017 - mae: 7486.7017\n",
      "Epoch 69/100\n",
      "34/34 [==============================] - 0s 1ms/step - loss: 7664.5181 - mae: 7664.5181\n",
      "Epoch 70/100\n",
      "34/34 [==============================] - 0s 1ms/step - loss: 7669.6816 - mae: 7669.6816\n",
      "Epoch 71/100\n",
      "34/34 [==============================] - 0s 1ms/step - loss: 7328.6133 - mae: 7328.6133\n",
      "Epoch 72/100\n",
      "34/34 [==============================] - 0s 1ms/step - loss: 7329.5078 - mae: 7329.5078\n",
      "Epoch 73/100\n",
      "34/34 [==============================] - 0s 1ms/step - loss: 7307.8628 - mae: 7307.8628\n",
      "Epoch 74/100\n",
      "34/34 [==============================] - 0s 1ms/step - loss: 7193.8096 - mae: 7193.8096\n",
      "Epoch 75/100\n",
      "34/34 [==============================] - 0s 1ms/step - loss: 7230.8032 - mae: 7230.8032\n",
      "Epoch 76/100\n",
      "34/34 [==============================] - 0s 1ms/step - loss: 7249.3662 - mae: 7249.3662\n",
      "Epoch 77/100\n",
      "34/34 [==============================] - 0s 1ms/step - loss: 7043.2271 - mae: 7043.2271\n",
      "Epoch 78/100\n",
      "34/34 [==============================] - 0s 1ms/step - loss: 7064.1792 - mae: 7064.1792\n",
      "Epoch 79/100\n",
      "34/34 [==============================] - 0s 1ms/step - loss: 7285.8613 - mae: 7285.8613\n",
      "Epoch 80/100\n",
      "34/34 [==============================] - 0s 1ms/step - loss: 7200.7720 - mae: 7200.7720\n",
      "Epoch 81/100\n",
      "34/34 [==============================] - 0s 1ms/step - loss: 7228.7993 - mae: 7228.7993\n",
      "Epoch 82/100\n",
      "34/34 [==============================] - 0s 1ms/step - loss: 7250.9868 - mae: 7250.9868\n",
      "Epoch 83/100\n",
      "34/34 [==============================] - 0s 1ms/step - loss: 7470.5757 - mae: 7470.5757\n",
      "Epoch 84/100\n",
      "34/34 [==============================] - 0s 1ms/step - loss: 7282.6338 - mae: 7282.6338\n",
      "Epoch 85/100\n",
      "34/34 [==============================] - 0s 1ms/step - loss: 7260.5942 - mae: 7260.5942\n",
      "Epoch 86/100\n",
      "34/34 [==============================] - 0s 1ms/step - loss: 7410.6118 - mae: 7410.6118\n",
      "Epoch 87/100\n",
      "34/34 [==============================] - 0s 1ms/step - loss: 7382.9927 - mae: 7382.9927\n",
      "Epoch 88/100\n",
      "34/34 [==============================] - 0s 1ms/step - loss: 7357.9077 - mae: 7357.9077\n",
      "Epoch 89/100\n",
      "34/34 [==============================] - 0s 1ms/step - loss: 7350.5415 - mae: 7350.5415\n",
      "Epoch 90/100\n",
      "34/34 [==============================] - 0s 1ms/step - loss: 7157.9512 - mae: 7157.9512\n",
      "Epoch 91/100\n",
      "34/34 [==============================] - 0s 1ms/step - loss: 7141.7153 - mae: 7141.7153\n",
      "Epoch 92/100\n",
      "34/34 [==============================] - 0s 1ms/step - loss: 7277.8516 - mae: 7277.8516\n",
      "Epoch 93/100\n",
      "34/34 [==============================] - 0s 1ms/step - loss: 7447.0903 - mae: 7447.0903\n",
      "Epoch 94/100\n",
      "34/34 [==============================] - 0s 1ms/step - loss: 7254.5464 - mae: 7254.5464\n",
      "Epoch 95/100\n",
      "34/34 [==============================] - 0s 1ms/step - loss: 7193.9614 - mae: 7193.9614\n",
      "Epoch 96/100\n",
      "34/34 [==============================] - 0s 1ms/step - loss: 7187.0503 - mae: 7187.0503\n",
      "Epoch 97/100\n",
      "34/34 [==============================] - 0s 1ms/step - loss: 7305.0947 - mae: 7305.0947\n",
      "Epoch 98/100\n",
      "34/34 [==============================] - 0s 1ms/step - loss: 7240.5410 - mae: 7240.5410\n",
      "Epoch 99/100\n",
      "34/34 [==============================] - 0s 1ms/step - loss: 7390.8315 - mae: 7390.8315\n",
      "Epoch 100/100\n",
      "34/34 [==============================] - 0s 1ms/step - loss: 7269.3091 - mae: 7269.3091\n"
     ]
    },
    {
     "data": {
      "text/plain": [
       "<keras.callbacks.History at 0x14f98cf8f700>"
      ]
     },
     "execution_count": 72,
     "metadata": {},
     "output_type": "execute_result"
    }
   ],
   "source": [
    "import random\n",
    "# Set random seed\n",
    "tf.random.set_seed(42)\n",
    "random.seed(42)\n",
    "np.random.seed(42)\n",
    "               \n",
    "# Create a new model (same as model_2)\n",
    "insurance_model = tf.keras.Sequential([\n",
    "  tf.keras.layers.Dense(1),\n",
    "  tf.keras.layers.Dense(1)\n",
    "])\n",
    "\n",
    "# Compile the model\n",
    "insurance_model.compile(loss=tf.keras.losses.mae,\n",
    "                        optimizer=tf.keras.optimizers.SGD(),\n",
    "                        metrics=['mae'])\n",
    "\n",
    "# Fit the model\n",
    "insurance_model.fit(X_train, y_train, epochs=100)"
   ]
  },
  {
   "cell_type": "code",
   "execution_count": 73,
   "metadata": {
    "colab": {
     "base_uri": "https://localhost:8080/"
    },
    "id": "B1U7LqpKid0r",
    "outputId": "0e322c1b-6c8a-49cd-f724-67afc65bba7f",
    "tags": []
   },
   "outputs": [
    {
     "name": "stdout",
     "output_type": "stream",
     "text": [
      "9/9 [==============================] - 0s 966us/step - loss: 7031.0513 - mae: 7031.0513\n"
     ]
    },
    {
     "data": {
      "text/plain": [
       "[7031.05126953125, 7031.05126953125]"
      ]
     },
     "execution_count": 73,
     "metadata": {},
     "output_type": "execute_result"
    }
   ],
   "source": [
    "X_test = X_test.astype('float32')\n",
    "y_test = y_test.astype('float32')\n",
    "# Check the results of the insurance model\n",
    "insurance_model.evaluate(X_test, y_test)"
   ]
  },
  {
   "cell_type": "markdown",
   "metadata": {},
   "source": [
    "<div dir=\"rtl\">\n",
    "\n",
    "##### لم يكن أداء نموذجنا جيدًا جدًا، فلنجرب نموذجًا أكبر.\n",
    "\n",
    "##### سنحاول 3 أشياء:\n",
    "- زيادة عدد الطبقات (2 -> 3).\n",
    "- زيادة عدد الوحدات في كل طبقة (ما عدا طبقة الإخراج).\n",
    "- تغيير المحسن (من SGD إلى آدم).\n",
    "\n",
    "##### كل شيء آخر سوف تبقى نفسها."
   ]
  },
  {
   "cell_type": "code",
   "execution_count": 74,
   "metadata": {
    "id": "W59EqfqYimnR",
    "tags": []
   },
   "outputs": [],
   "source": [
    "# Set random seed\n",
    "tf.random.set_seed(42)\n",
    "random.seed(42)\n",
    "np.random.seed(42)\n",
    "\n",
    "# Add an extra layer and increase number of units\n",
    "insurance_model_2 = tf.keras.Sequential([\n",
    "  tf.keras.layers.Dense(100), # 100 units\n",
    "  tf.keras.layers.Dense(10), # 10 units\n",
    "  tf.keras.layers.Dense(1) # 1 unit (important for output layer)\n",
    "])\n",
    "\n",
    "# Compile the model\n",
    "insurance_model_2.compile(loss=tf.keras.losses.mae,\n",
    "                          optimizer=tf.keras.optimizers.Adam(), # Adam works but SGD doesn't \n",
    "                          metrics=['mae'])\n",
    "\n",
    "# Fit the model and save the history (we can plot this)\n",
    "history = insurance_model_2.fit(X_train, y_train, epochs=100, verbose=0)"
   ]
  },
  {
   "cell_type": "code",
   "execution_count": 75,
   "metadata": {
    "colab": {
     "base_uri": "https://localhost:8080/"
    },
    "id": "k9IbYWnOqmoT",
    "outputId": "eab558fc-8905-42fe-89b4-eb6576eae14c",
    "tags": []
   },
   "outputs": [
    {
     "name": "stdout",
     "output_type": "stream",
     "text": [
      "9/9 [==============================] - 0s 1ms/step - loss: 4855.2100 - mae: 4855.2100\n"
     ]
    },
    {
     "data": {
      "text/plain": [
       "[4855.2099609375, 4855.2099609375]"
      ]
     },
     "execution_count": 75,
     "metadata": {},
     "output_type": "execute_result"
    }
   ],
   "source": [
    "# Evaluate our larger model\n",
    "insurance_model_2.evaluate(X_test, y_test)"
   ]
  },
  {
   "cell_type": "markdown",
   "metadata": {},
   "source": [
    "<div dir=\"rtl\">\n",
    "\n",
    "\n",
    "##### أفضل بكثير! يؤدي استخدام نموذج أكبر ومحسن Adam إلى حدوث نصف الخطأ تقريبًا مثل النموذج السابق.\n",
    "\n",
    "##### > 🔑 **ملاحظة:** بالنسبة للعديد من المشكلات، يعد [Adam optimizer](https://www.tensorflow.org/api_docs/python/tf/keras/optimizers/Adam) خيارًا رائعًا للبدء. راجع نقطة Andrei Karpathy \"آدم آمن\" من [Adam optimizer](https://www.tensorflow.org/api_docs/python/tf/keras/optimizers/Adam) للمزيد.\n",
    "\n",
    "##### دعونا نتحقق من منحنيات الخسارة في نموذجنا، يجب أن نرى اتجاهًا هبوطيًا."
   ]
  },
  {
   "cell_type": "code",
   "execution_count": 76,
   "metadata": {
    "colab": {
     "base_uri": "https://localhost:8080/",
     "height": 279
    },
    "id": "9SE55ANojcF_",
    "outputId": "1c145cb3-71ef-4f0f-bf8e-26e95f3398f0",
    "tags": []
   },
   "outputs": [
    {
     "data": {
      "image/png": "[encoded data removed]",
      "text/plain": [
       "<Figure size 640x480 with 1 Axes>"
      ]
     },
     "metadata": {},
     "output_type": "display_data"
    }
   ],
   "source": [
    "# Plot history (also known as a loss curve)\n",
    "pd.DataFrame(history.history).plot()\n",
    "plt.ylabel(\"loss\")\n",
    "plt.xlabel(\"epochs\");"
   ]
  },
  {
   "cell_type": "code",
   "execution_count": 77,
   "metadata": {
    "tags": []
   },
   "outputs": [],
   "source": [
    "# plt.figure(figsize=(12, 5))\n",
    "\n",
    "# # Plotting Mean Absolute Error\n",
    "# plt.subplot(1, 2, 1)\n",
    "# plt.plot(history.history['mae'], label='Train MAE')\n",
    "# plt.title('Mean Absolute Error over Epochs')\n",
    "# plt.xlabel('Epochs')\n",
    "# plt.ylabel('MAE')\n",
    "# plt.legend()\n",
    "\n",
    "# # Plotting Loss\n",
    "# plt.subplot(1, 2, 2)\n",
    "# plt.plot(history.history['loss'], label='Train Loss')\n",
    "# plt.title('Loss over Epochs')\n",
    "# plt.xlabel('Epochs')\n",
    "# plt.ylabel('Loss')\n",
    "# plt.legend()"
   ]
  },
  {
   "cell_type": "markdown",
   "metadata": {},
   "source": [
    "<div dir=\"rtl\">\n",
    "\n",
    "##### من هذا، يبدو أن خسارة نموذجنا (و MAE) لا تزال تتناقص (في حالتنا، MAE والخسارة متماثلتان، وبالتالي تتداخل الخطوط الموجودة في المخطط مع بعضها البعض).\n",
    "\n",
    "##### ما يخبرنا به هذا هو أن الخسارة قد تنخفض إذا حاولنا تدريبها لفترة أطول.\n",
    "\n",
    "##### > 🤔 **السؤال:** ما هي المدة التي يجب أن تتدرب فيها؟\n",
    "\n",
    "##### > يعتمد ذلك على المشكلة التي تعمل عليها. في بعض الأحيان، لن يستغرق التدريب وقتًا طويلاً، وفي أحيان أخرى قد يستغرق وقتًا أطول مما تتوقع. إحدى الطرق الشائعة هي ضبط تدريب النموذج الخاص بك لفترة طويلة جدًا (على سبيل المثال، آلاف العصور) ولكن إعداده باستخدام [EarlyStopping callback](https://www.tensorflow.org/api_docs/python/tf/keras/callbacks/EarlyStopping) بحيث يتوقف تلقائيًا عندما يتوقف عن التحسن. سنرى هذا في وحدة أخرى.\n",
    "\n",
    "##### دعونا ندرب نفس النموذج المذكور أعلاه لفترة أطول قليلاً. يمكننا أن نفعل هذا ولكن نطالب به مرة أخرى."
   ]
  },
  {
   "cell_type": "code",
   "execution_count": 78,
   "metadata": {
    "id": "Ucs62jV8jl6N",
    "tags": []
   },
   "outputs": [],
   "source": [
    "# Try training for a little longer (100 more epochs)\n",
    "history_2 = insurance_model_2.fit(X_train, y_train, epochs=100, verbose=0)"
   ]
  },
  {
   "cell_type": "markdown",
   "metadata": {
    "id": "L2FZA1z1sxxs"
   },
   "source": [
    "كيف سار التدريب الإضافي؟"
   ]
  },
  {
   "cell_type": "code",
   "execution_count": 79,
   "metadata": {
    "colab": {
     "base_uri": "https://localhost:8080/"
    },
    "id": "cxtiYB3qs0PZ",
    "outputId": "9d479dec-66d0-4e02-9b2f-316910fa7b95",
    "tags": []
   },
   "outputs": [
    {
     "name": "stdout",
     "output_type": "stream",
     "text": [
      "9/9 [==============================] - 0s 1ms/step - loss: 3496.3350 - mae: 3496.3350\n"
     ]
    },
    {
     "data": {
      "text/plain": [
       "(3496.3349609375, 3496.3349609375)"
      ]
     },
     "execution_count": 79,
     "metadata": {},
     "output_type": "execute_result"
    }
   ],
   "source": [
    "# Evaluate the model trained for 200 total epochs\n",
    "insurance_model_2_loss, insurance_model_2_mae = insurance_model_2.evaluate(X_test, y_test)\n",
    "insurance_model_2_loss, insurance_model_2_mae"
   ]
  },
  {
   "cell_type": "markdown",
   "metadata": {},
   "source": [
    "<div dir=\"rtl\">\n",
    "\n",
    "التدريب لمدة 100 حقبة إضافية نرى انخفاضًا في الخطأ بنسبة 10٪.\n"
   ]
  },
  {
   "cell_type": "code",
   "execution_count": 80,
   "metadata": {
    "colab": {
     "base_uri": "https://localhost:8080/",
     "height": 279
    },
    "id": "BtYKSLeQjuzL",
    "outputId": "49c03b0b-a5ce-49ac-b7e8-4f9e69ea17b9",
    "tags": []
   },
   "outputs": [
    {
     "data": {
      "image/png": "[encoded data removed]",
      "text/plain": [
       "<Figure size 640x480 with 1 Axes>"
      ]
     },
     "metadata": {},
     "output_type": "display_data"
    }
   ],
   "source": [
    "# Plot the model trained for 200 total epochs loss curves\n",
    "pd.DataFrame(history_2.history).plot()\n",
    "plt.ylabel(\"loss\")\n",
    "plt.xlabel(\"epochs\"); # note: epochs will only show 100 since we overrid the history variable"
   ]
  },
  {
   "cell_type": "markdown",
   "metadata": {},
   "source": [
    "<div dir=\"rtl\">\n",
    "\n",
    "## بيانات المعالجة المسبقة (التطبيع والتوحيد)\n",
    "\n",
    "##### من الممارسات الشائعة عند العمل مع الشبكات العصبية التأكد من أن جميع البيانات التي تمررها إليها تقع في النطاق من 0 إلى 1.\n",
    "\n",
    "##### تُسمى هذه الممارسة **التطبيع** (تحجيم جميع القيم من نطاقها الأصلي إلى، على سبيل المثال، بين 0 و100000 لتصبح بين 0 و1).\n",
    "\n",
    "##### هناك استدعاء عملية آخر **التوحيد القياسي** والذي يحول جميع بياناتك إلى تباين الوحدة ومتوسط ​​0.\n",
    "\n",
    "##### غالبًا ما تكون هاتان الممارستان جزءًا من خط أنابيب المعالجة المسبقة (سلسلة من الوظائف لإعداد بياناتك للاستخدام مع الشبكات العصبية).\n",
    "\n",
    "##### بمعرفة ذلك، تتضمن بعض الخطوات الرئيسية التي ستتخذها لمعالجة بياناتك مسبقًا للشبكة العصبية ما يلي:\n",
    "* تحويل جميع بياناتك إلى أرقام (لا تستطيع الشبكة العصبية التعامل مع السلاسل).\n",
    "* التأكد من أن بياناتك بالشكل الصحيح (التحقق من أشكال الإدخال والإخراج).\n",
    "*[**Feature scaling**](https://scikit-learn.org/stable/modules/preprocessing.html#preprocessing-scaler):\n",
    "* تطبيع البيانات (التأكد من أن جميع القيم بين 0 و 1). ويتم ذلك عن طريق طرح القيمة الدنيا ثم القسمة على القيمة القصوى مطروحًا منها الحد الأدنى. ويشار إلى هذا أيضًا باسم تحجيم الحد الأدنى والحد الأقصى.\n",
    "* التقييس (التأكد من أن جميع القيم لها متوسط ​​0 وتباين 1). ويتم ذلك عن طريق طرح القيمة المتوسطة من الميزة المستهدفة ثم قسمتها على الانحراف المعياري.\n",
    "* التي ينبغي لأحد أن تستخدمها؟\n",
    "* **مع الشبكات العصبية، ستميل إلى تفضيل التطبيع** لأنها تميل إلى تفضيل القيم بين 0 و1 (سترى هذا خاصة مع معالجة الصور)، ومع ذلك، ستجد غالبًا أن الشبكة العصبية يمكن أن تؤدي أداءً جيدًا جيدًا مع الحد الأدنى من تحجيم الميزات.\n",
    "\n",
    "##### > 📖 **الموارد:** لمزيد من المعلومات حول المعالجة المسبقة للبيانات، أنصح بقراءة الموارد التالية:\n",
    "##### *[Scikit-Learn's documentation on preprocessing data](https://scikit-learn.org/stable/modules/preprocessing.html#preprocessing-data).\n",
    "##### *[Scale, Standardize or Normalize with Scikit-Learn by Jeff Hale](https://towardsdatascience.com/scale-standardize-or-normalize-with-scikit-learn-6ccc7d176a02).\n",
    "\n",
    "##### لقد قمنا بالفعل بتحويل بياناتنا إلى أرقام باستخدام `get_dummies()`، فلنرى كيف يمكننا تطبيعها أيضًا."
   ]
  },
  {
   "cell_type": "code",
   "execution_count": 81,
   "metadata": {
    "id": "9v7P20A2d7H6",
    "tags": []
   },
   "outputs": [],
   "source": [
    "import pandas as pd\n",
    "import matplotlib.pyplot as plt\n",
    "import tensorflow as tf\n",
    "\n",
    "# Read in the insurance dataset\n",
    "#insurance = pd.read_csv(\"https://raw.githubusercontent.com/stedy/Machine-Learning-with-R-datasets/master/insurance.csv\")\n",
    "insurance = pd.read_csv('data/insurance.csv')"
   ]
  },
  {
   "cell_type": "code",
   "execution_count": 82,
   "metadata": {
    "colab": {
     "base_uri": "https://localhost:8080/",
     "height": 204
    },
    "id": "vir8UAIwlUOo",
    "outputId": "306bc0ed-8038-4822-b69e-c0181f5c8f88",
    "tags": []
   },
   "outputs": [
    {
     "data": {
      "text/html": [
       "<div>\n",
       "<style scoped>\n",
       "    .dataframe tbody tr th:only-of-type {\n",
       "        vertical-align: middle;\n",
       "    }\n",
       "\n",
       "    .dataframe tbody tr th {\n",
       "        vertical-align: top;\n",
       "    }\n",
       "\n",
       "    .dataframe thead th {\n",
       "        text-align: right;\n",
       "    }\n",
       "</style>\n",
       "<table border=\"1\" class=\"dataframe\">\n",
       "  <thead>\n",
       "    <tr style=\"text-align: right;\">\n",
       "      <th></th>\n",
       "      <th>age</th>\n",
       "      <th>sex</th>\n",
       "      <th>bmi</th>\n",
       "      <th>children</th>\n",
       "      <th>smoker</th>\n",
       "      <th>region</th>\n",
       "      <th>charges</th>\n",
       "    </tr>\n",
       "  </thead>\n",
       "  <tbody>\n",
       "    <tr>\n",
       "      <th>0</th>\n",
       "      <td>19</td>\n",
       "      <td>female</td>\n",
       "      <td>27.900</td>\n",
       "      <td>0</td>\n",
       "      <td>yes</td>\n",
       "      <td>southwest</td>\n",
       "      <td>16884.92400</td>\n",
       "    </tr>\n",
       "    <tr>\n",
       "      <th>1</th>\n",
       "      <td>18</td>\n",
       "      <td>male</td>\n",
       "      <td>33.770</td>\n",
       "      <td>1</td>\n",
       "      <td>no</td>\n",
       "      <td>southeast</td>\n",
       "      <td>1725.55230</td>\n",
       "    </tr>\n",
       "    <tr>\n",
       "      <th>2</th>\n",
       "      <td>28</td>\n",
       "      <td>male</td>\n",
       "      <td>33.000</td>\n",
       "      <td>3</td>\n",
       "      <td>no</td>\n",
       "      <td>southeast</td>\n",
       "      <td>4449.46200</td>\n",
       "    </tr>\n",
       "    <tr>\n",
       "      <th>3</th>\n",
       "      <td>33</td>\n",
       "      <td>male</td>\n",
       "      <td>22.705</td>\n",
       "      <td>0</td>\n",
       "      <td>no</td>\n",
       "      <td>northwest</td>\n",
       "      <td>21984.47061</td>\n",
       "    </tr>\n",
       "    <tr>\n",
       "      <th>4</th>\n",
       "      <td>32</td>\n",
       "      <td>male</td>\n",
       "      <td>28.880</td>\n",
       "      <td>0</td>\n",
       "      <td>no</td>\n",
       "      <td>northwest</td>\n",
       "      <td>3866.85520</td>\n",
       "    </tr>\n",
       "  </tbody>\n",
       "</table>\n",
       "</div>"
      ],
      "text/plain": [
       "   age     sex     bmi  children smoker     region      charges\n",
       "0   19  female  27.900         0    yes  southwest  16884.92400\n",
       "1   18    male  33.770         1     no  southeast   1725.55230\n",
       "2   28    male  33.000         3     no  southeast   4449.46200\n",
       "3   33    male  22.705         0     no  northwest  21984.47061\n",
       "4   32    male  28.880         0     no  northwest   3866.85520"
      ]
     },
     "execution_count": 82,
     "metadata": {},
     "output_type": "execute_result"
    }
   ],
   "source": [
    "# Check out the data\n",
    "insurance.head()"
   ]
  },
  {
   "cell_type": "markdown",
   "metadata": {},
   "source": [
    "<div dir=\"rtl\">\n",
    "\n",
    "##### الآن، كما كان من قبل، نحن بحاجة إلى تحويل الأعمدة غير الرقمية إلى أرقام وهذه المرة سنقوم أيضًا بتسوية الأعمدة الرقمية بنطاقات مختلفة (للتأكد من أنها كلها بين 0 و 1).\n",
    "\n",
    "##### للقيام بذلك، سنستخدم بعض الفصول من Scikit-Learn:\n",
    "* [`make_column_transformer`](https://scikit-learn.org/stable/modules/generated/sklearn.compose.make_column_transformer.html) - إنشاء وظيفة معالجة مسبقة للبيانات متعددة الخطوات للتحويلات التالية:\n",
    "* [`MinMaxScaler`](https://scikit-learn.org/stable/modules/generated/sklearn.preprocessing.MinMaxScaler.html) - تأكد من تسوية جميع الأعمدة الرقمية (بين 0 و1).\n",
    "* [`OneHotEncoder`](https://scikit-learn.org/stable/modules/generated/sklearn.preprocessing.OneHotEncoder.html) - تشفير سريع للأعمدة غير الرقمية.\n",
    "\n",
    "##### دعونا نراهم في العمل."
   ]
  },
  {
   "cell_type": "code",
   "execution_count": 83,
   "metadata": {
    "id": "-x9JwbV0hqWh",
    "tags": []
   },
   "outputs": [],
   "source": [
    "from sklearn.compose import make_column_transformer\n",
    "from sklearn.preprocessing import MinMaxScaler, OneHotEncoder\n",
    "\n",
    "# Create column transformer (this will help us normalize/preprocess our data)\n",
    "ct = make_column_transformer(\n",
    "    (MinMaxScaler(), [\"age\", \"bmi\", \"children\"]), # get all values between 0 and 1\n",
    "    (OneHotEncoder(handle_unknown=\"ignore\"), [\"sex\", \"smoker\", \"region\"])\n",
    ")\n",
    "\n",
    "# Create X & y\n",
    "X = insurance.drop(\"charges\", axis=1)\n",
    "y = insurance[\"charges\"]\n",
    "\n",
    "# Build our train and test sets (use random state to ensure same split as before)\n",
    "X_train, X_test, y_train, y_test = train_test_split(X, y, test_size=0.2, random_state=42)\n",
    "\n",
    "# Fit column transformer on the training data only (doing so on test data would result in data leakage)\n",
    "ct.fit(X_train)\n",
    "\n",
    "# Transform training and test data with normalization (MinMaxScalar) and one hot encoding (OneHotEncoder)\n",
    "X_train_normal = ct.transform(X_train)\n",
    "X_test_normal = ct.transform(X_test)"
   ]
  },
  {
   "cell_type": "markdown",
   "metadata": {
    "id": "Tz58y3nPiBJ-"
   },
   "source": [
    "<div dir=\"rtl\">\n",
    "\n",
    "لقد قمنا الآن بتطبيعها وترميزها بشكل سريع، كيف تبدو بياناتنا الآن؟"
   ]
  },
  {
   "cell_type": "code",
   "execution_count": 84,
   "metadata": {
    "colab": {
     "base_uri": "https://localhost:8080/"
    },
    "id": "VODt2YiziK45",
    "outputId": "0aacd372-5097-40d5-d27c-daf5cc32255a",
    "tags": []
   },
   "outputs": [
    {
     "data": {
      "text/plain": [
       "age                19\n",
       "sex            female\n",
       "bmi              27.9\n",
       "children            0\n",
       "smoker            yes\n",
       "region      southwest\n",
       "Name: 0, dtype: object"
      ]
     },
     "execution_count": 84,
     "metadata": {},
     "output_type": "execute_result"
    }
   ],
   "source": [
    "# Non-normalized and non-one-hot encoded data example\n",
    "X_train.loc[0]"
   ]
  },
  {
   "cell_type": "code",
   "execution_count": 85,
   "metadata": {
    "colab": {
     "base_uri": "https://localhost:8080/"
    },
    "id": "mMYDXdwUnNVt",
    "outputId": "793a3869-9588-4861-8923-ae8adbb530fc",
    "tags": []
   },
   "outputs": [
    {
     "data": {
      "text/plain": [
       "array([0.60869565, 0.10734463, 0.4       , 1.        , 0.        ,\n",
       "       1.        , 0.        , 0.        , 1.        , 0.        ,\n",
       "       0.        ])"
      ]
     },
     "execution_count": 85,
     "metadata": {},
     "output_type": "execute_result"
    }
   ],
   "source": [
    "# Normalized and one-hot encoded example\n",
    "X_train_normal[0]"
   ]
  },
  {
   "cell_type": "markdown",
   "metadata": {
    "id": "9iI4KtfWib44"
   },
   "source": [
    "ماذا عن الأشكال؟"
   ]
  },
  {
   "cell_type": "code",
   "execution_count": 86,
   "metadata": {
    "colab": {
     "base_uri": "https://localhost:8080/"
    },
    "id": "SFmxzqrWntj7",
    "outputId": "e13b80e2-e9c6-443b-8178-520113ced7b9",
    "tags": []
   },
   "outputs": [
    {
     "data": {
      "text/plain": [
       "((1070, 11), (1070, 6))"
      ]
     },
     "execution_count": 86,
     "metadata": {},
     "output_type": "execute_result"
    }
   ],
   "source": [
    "# Notice the normalized/one-hot encoded shape is larger because of the extra columns\n",
    "X_train_normal.shape, X_train.shape"
   ]
  },
  {
   "cell_type": "markdown",
   "metadata": {
    "id": "MST951aYijTS"
   },
   "source": [
    "<div dir=\"rtl\">\n",
    "\n",
    "بياناتنا طبيعية وعددية، فلنقم بتمثيلها.\n",
    "\n",
    "سنستخدم نفس النموذج مثل `insurance_model_2`."
   ]
  },
  {
   "cell_type": "code",
   "execution_count": 87,
   "metadata": {
    "colab": {
     "base_uri": "https://localhost:8080/"
    },
    "id": "TdHnIQqll83Y",
    "outputId": "2efbfe2f-b476-4f39-a35d-3a3f3c7fa81b",
    "tags": []
   },
   "outputs": [
    {
     "data": {
      "text/plain": [
       "<keras.callbacks.History at 0x14f9dc0c4a60>"
      ]
     },
     "execution_count": 87,
     "metadata": {},
     "output_type": "execute_result"
    }
   ],
   "source": [
    "# Set random seed\n",
    "tf.random.set_seed(42)\n",
    "random.seed(42)\n",
    "np.random.seed(42)\n",
    "\n",
    "# Build the model (3 layers, 100, 10, 1 units)\n",
    "insurance_model_3 = tf.keras.Sequential([\n",
    "  tf.keras.layers.Dense(100),\n",
    "  tf.keras.layers.Dense(10),\n",
    "  tf.keras.layers.Dense(1)\n",
    "])\n",
    "\n",
    "\n",
    "\n",
    "# Compile the model\n",
    "insurance_model_3.compile(loss=tf.keras.losses.mae,\n",
    "                          optimizer=tf.keras.optimizers.Adam(),\n",
    "                          metrics=['mae'])\n",
    "\n",
    "# Fit the model for 200 epochs (same as insurance_model_2)\n",
    "insurance_model_3.fit(X_train_normal, y_train, epochs=200, verbose=0) "
   ]
  },
  {
   "cell_type": "markdown",
   "metadata": {
    "id": "-DjwktO6jW41"
   },
   "source": [
    "<div dir=\"rtl\">\n",
    "\n",
    "دعونا نقيم النموذج على مجموعة الاختبار الطبيعية."
   ]
  },
  {
   "cell_type": "code",
   "execution_count": 88,
   "metadata": {
    "colab": {
     "base_uri": "https://localhost:8080/"
    },
    "id": "sBcXZu9AnZfP",
    "outputId": "d42dbf4e-807b-4de2-c38c-b3cf2dbb5e70",
    "tags": []
   },
   "outputs": [
    {
     "name": "stdout",
     "output_type": "stream",
     "text": [
      "9/9 [==============================] - 0s 992us/step - loss: 3169.7537 - mae: 3169.7537\n"
     ]
    }
   ],
   "source": [
    "# Evaulate 3rd model\n",
    "insurance_model_3_loss, insurance_model_3_mae = insurance_model_3.evaluate(X_test_normal, y_test)"
   ]
  },
  {
   "cell_type": "markdown",
   "metadata": {
    "id": "ZlHro290jhtX"
   },
   "source": [
    "<div dir=\"rtl\">\n",
    "\n",
    "وأخيرًا، دعونا نقارن النتائج من \"insurance_model_2\" (المدرب على البيانات غير المقيسة) و\"insurance_model_3\" (المدرب على البيانات غير المقيسة)."
   ]
  },
  {
   "cell_type": "code",
   "execution_count": 89,
   "metadata": {
    "colab": {
     "base_uri": "https://localhost:8080/"
    },
    "id": "ybZtnVlNjCJO",
    "outputId": "ef1d85b1-f6e5-4d54-9e9a-509040916288",
    "tags": []
   },
   "outputs": [
    {
     "data": {
      "text/plain": [
       "(3496.3349609375, 3169.753662109375)"
      ]
     },
     "execution_count": 89,
     "metadata": {},
     "output_type": "execute_result"
    }
   ],
   "source": [
    "# Compare modelling results from non-normalized data and normalized data\n",
    "insurance_model_2_mae, insurance_model_3_mae"
   ]
  },
  {
   "cell_type": "markdown",
   "metadata": {},
   "source": [
    "<div dir=\"rtl\">\n",
    "\n",
    "##### من هذا يمكننا أن نرى أن تسوية البيانات تؤدي إلى حدوث خطأ أقل بنسبة 10% باستخدام نفس النموذج مقارنة بعدم تسوية البيانات.\n",
    "\n",
    "##### هذه **إحدى الفوائد الرئيسية للتطبيع: وقت تقارب أسرع** (طريقة رائعة للقول، أن نموذجك يحصل على نتائج أفضل بشكل أسرع).\n",
    "\n",
    "##### ربما يكون `insurance_model_2` قد حقق في النهاية نفس النتائج التي حققها `insurance_model_3` إذا تركناه للتدريب لفترة أطول.\n",
    "\n",
    "##### كما أن النتائج قد تتغير إذا أردنا تغيير بنيات النماذج، على سبيل المثال. المزيد من الوحدات المخفية لكل طبقة أو طبقات أكثر.\n",
    "\n",
    "##### ولكن نظرًا لأن هدفنا الرئيسي كممارسين للشبكات العصبية هو تقليل الوقت بين التجارب، فإن أي شيء يساعدنا في الحصول على نتائج أفضل في وقت أقرب يعد ميزة إضافية."
   ]
  },
  {
   "cell_type": "markdown",
   "metadata": {},
   "source": [
    "<div dir=\"rtl\">\n",
    "\n",
    "## النموذج 4 - نموذج متقدم"
   ]
  },
  {
   "cell_type": "code",
   "execution_count": 152,
   "metadata": {
    "tags": []
   },
   "outputs": [
    {
     "data": {
      "text/plain": [
       "<keras.callbacks.History at 0x14f9deadf730>"
      ]
     },
     "execution_count": 152,
     "metadata": {},
     "output_type": "execute_result"
    }
   ],
   "source": [
    "from keras.callbacks import ReduceLROnPlateau, EarlyStopping\n",
    "# Set random seed\n",
    "tf.random.set_seed(42)\n",
    "random.seed(42)\n",
    "np.random.seed(42)\n",
    "\n",
    "# Build the model (4 layers, 256, 128, 32, 1 units)\n",
    "insurance_model_4 = tf.keras.Sequential([\n",
    "    tf.keras.layers.Dense(256, activation='relu', input_shape=(X_train_normal.shape[1],)),\n",
    "    tf.keras.layers.Dropout(0.2),\n",
    "    tf.keras.layers.Dense(128, activation='relu'),\n",
    "    tf.keras.layers.Dropout(0.2),\n",
    "    tf.keras.layers.Dense(128, activation='relu'),\n",
    "    tf.keras.layers.Dense(1)\n",
    "])\n",
    "\n",
    "\n",
    "\n",
    "# Compile the model\n",
    "insurance_model_4.compile(loss=tf.keras.losses.mae,\n",
    "                          optimizer=tf.keras.optimizers.Adam(),\n",
    "                          metrics=['mae'])\n",
    "\n",
    "\n",
    "\n",
    "\n",
    "# Fit the model for 200 epochs (same as insurance_model_2)\n",
    "insurance_model_4.fit(X_train_normal, y_train, epochs=200, verbose=0) "
   ]
  },
  {
   "cell_type": "code",
   "execution_count": 153,
   "metadata": {
    "tags": []
   },
   "outputs": [
    {
     "name": "stdout",
     "output_type": "stream",
     "text": [
      "9/9 [==============================] - 0s 1ms/step - loss: 1766.2440 - mae: 1766.2440\n"
     ]
    }
   ],
   "source": [
    "# Evaulate 3rd model\n",
    "insurance_model_4_loss, insurance_model_4_mae = insurance_model_4.evaluate(X_test_normal, y_test)"
   ]
  },
  {
   "cell_type": "code",
   "execution_count": 154,
   "metadata": {
    "tags": []
   },
   "outputs": [
    {
     "data": {
      "text/plain": [
       "(3496.3349609375, 3169.753662109375, 1766.2440185546875)"
      ]
     },
     "execution_count": 154,
     "metadata": {},
     "output_type": "execute_result"
    }
   ],
   "source": [
    "# Compare modelling results from non-normalized data and normalized data\n",
    "insurance_model_2_mae, insurance_model_3_mae, insurance_model_4_mae"
   ]
  },
  {
   "cell_type": "markdown",
   "metadata": {},
   "source": [
    "<div dir=\"rtl\">\n",
    "\n",
    "##### من هذا يمكننا أن نرى أن إضافة بعض التعقيد إلى النموذج يؤدي إلى تقليل الأخطاء بنسبة 50% عند استخدام نموذج المعاينات"
   ]
  },
  {
   "cell_type": "markdown",
   "metadata": {},
   "source": [
    "<div dir=\"rtl\">\n",
    "\n",
    "## 🛠 التمارين\n",
    "\n",
    "##### لقد غطينا الكثير بسرعة كبيرة.\n",
    "\n",
    "##### لذا، فقد حان الوقت الآن للتلاعب ببعض الأشياء والبدء في بناء حدسك.\n",
    "\n",
    "##### أؤكد على الكلمات التي تدور حولها لأن هذا مهم جدًا. جرب بعض الأشياء، وقم بتشغيل الكود وشاهد ما سيحدث.\n",
    "\n",
    "1. قم بإنشاء مجموعة بيانات الانحدار الخاصة بك (أو قم بتكبير المجموعة التي أنشأناها في \"إنشاء بيانات للعرض والملاءمة\") وقم ببناء نموذج مناسب لها.\n",
    "2. حاول بناء شبكة عصبية مكونة من 4 طبقات كثيفة وملاءمتها مع مجموعة بيانات الانحدار الخاصة بك، كيف سيكون أداؤها؟\n",
    "3. حاول تحسين النتائج التي حصلنا عليها في مجموعة بيانات التأمين، بعض الأشياء التي قد ترغب في تجربتها تشمل:\n",
    "* بناء نموذج أكبر (كيف يمكن عمل نموذج ذو 4 طبقات كثيفة؟).\n",
    "* زيادة عدد الوحدات في كل طبقة.\n",
    "* ابحث عن وثائق [Adam](https://www.tensorflow.org/api_docs/python/tf/keras/optimizers/Adam) واكتشف المعلمة الأولى، ماذا يحدث إذا قمت بزيادتها بمقدار 10x؟\n",
    "* ماذا يحدث إذا تدربت لفترة أطول (على سبيل المثال 300 عصر بدلاً من 200)؟\n",
    "4. قم باستيراد [California dataset](https://scikit-learn.org/stable/modules/generated/sklearn.datasets.fetch_california_housing.html#sklearn.datasets.fetch_california_housing) وقم بتصميمه.\n",
    "\n",
    "```python\n",
    "# Get California Housing dataset\n",
    "from sklearn.datasets import fetch_california_housing\n",
    "housing = fetch_california_housing()\n",
    "housing_df = pd.DataFrame(housing[\"data\"], columns=housing[\"feature_names\"])\n",
    "housing_df[\"target\"] = pd.Series(housing[\"target\"])\n",
    "housing_df.head()\n"
   ]
  },
  {
   "cell_type": "markdown",
   "metadata": {
    "id": "AyiHG2nubmu7"
   },
   "source": [
    "## 📖 Extra curriculum\n",
    "\n",
    "If you're looking for extra materials relating to this notebook, I'd check out the following:\n",
    "\n",
    "* [MIT introduction deep learning lecture 1](https://youtu.be/njKP3FqW3Sk) - gives a great overview of what's happening behind all of the code we're running.\n",
    "* Reading: 1-hour of [Chapter 1 of Neural Networks and Deep Learning](http://neuralnetworksanddeeplearning.com/chap1.html) by Michael Nielson - a great in-depth and hands-on example of the intuition behind neural networks.\n",
    "\n",
    "To practice your regression modelling with TensorFlow, I'd also encourage you to look through  [Kaggle's datasets](https://www.kaggle.com/data), find a regression dataset which sparks your interest and try to model."
   ]
  },
  {
   "cell_type": "code",
   "execution_count": null,
   "metadata": {},
   "outputs": [],
   "source": []
  },
  {
   "cell_type": "code",
   "execution_count": null,
   "metadata": {},
   "outputs": [],
   "source": []
  },
  {
   "cell_type": "code",
   "execution_count": null,
   "metadata": {},
   "outputs": [],
   "source": []
  }
 ],
 "metadata": {
  "colab": {
   "authorship_tag": "ABX9TyPJ5Dpbkicrqvik8JYM2rWb",
   "collapsed_sections": [],
   "include_colab_link": true,
   "name": "01_neural_network_regression_in_tensorflow.ipynb",
   "provenance": [],
   "toc_visible": true
  },
  "kernelspec": {
   "display_name": "Python 3 (ipykernel)",
   "language": "python",
   "name": "python3"
  },
  "language_info": {
   "codemirror_mode": {
    "name": "ipython",
    "version": 3
   },
   "file_extension": ".py",
   "mimetype": "text/x-python",
   "name": "python",
   "nbconvert_exporter": "python",
   "pygments_lexer": "ipython3",
   "version": "3.9.16"
  }
 },
 "nbformat": 4,
 "nbformat_minor": 4
}
