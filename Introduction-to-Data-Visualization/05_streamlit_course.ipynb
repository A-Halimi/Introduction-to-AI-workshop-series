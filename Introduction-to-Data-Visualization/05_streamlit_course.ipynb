{
 "cells": [
  {
   "cell_type": "markdown",
   "id": "3aa130b7",
   "metadata": {},
   "source": [
    "# Introduction to Dashboards with Streamlit, Jupyter Notebook, and Plotly\r\n",
    "\r\n",
    "Welcome to the introductory session where we'll explore the intersection of Streamlit, Jupyter Notebook, and Plotly to create interactive and visually appealing dashboards!\r\n",
    "p install plotly jupyter\n"
   ]
  },
  {
   "cell_type": "markdown",
   "id": "550d96d2-010c-4c5c-a938-1e160c87c05c",
   "metadata": {},
   "source": [
    "## What is a dashboard?\r\n",
    "\r\n",
    "A dashboard is a visual interface that presents data in a structured and easily digestible manner. It often combines charts, graphs, and other visualizations to provide users with insights into a dataset or to display critical metrics. Dashboards can be interactive, allowing users to filter, drill down, or manipulate the displayed data.\r\n",
    " or appearance."
   ]
  },
  {
   "cell_type": "markdown",
   "id": "0b770c55-707c-4c88-b7f7-2c4fc79a1aaa",
   "metadata": {},
   "source": [
    "## Why use Streamlit?\n",
    "\n",
    "Streamlit is an open-source Python library that makes it easy to create custom web apps for machine learning and data science. Here's why many professionals choose Streamlit:\n",
    "\n",
    "- **Simplicity**: Write Python scripts and instantly turn them into interactive web apps.\n",
    "- **Interactivity**: Integrate widgets like sliders, buttons, and dropdowns without any additional frontend code.\n",
    "- **Data Integration**: Supports numerous data visualization libraries, including Plotly.\n",
    "- **Fast Development**: Real-time feedback as you code, enhancing the development experience.\n"
   ]
  },
  {
   "cell_type": "markdown",
   "id": "5a26e14e-8f70-4dd1-aabf-fb83e83bdde4",
   "metadata": {},
   "source": [
    "# Basics of Streamlit\n",
    "\n",
    "In this section, we will uncover the foundational aspects of Streamlit. From its intuitive app structure to various widgets and layout configurations, by the end of this module, you'll have a solid understanding of how to structure and design a Streamlit app.\n"
   ]
  },
  {
   "cell_type": "markdown",
   "id": "7dc4adde-9281-4cf7-93ea-dbce2b40825c",
   "metadata": {},
   "source": [
    "## Streamlit's App Structure\n",
    "\n",
    "A typical Streamlit app is structured as a Python script that runs from top to bottom. The script contains both the logic (data processing, modeling, etc.) and the presentation (displaying text, charts, widgets, etc.). \n",
    "\n",
    "When a user interacts with a widget, the script reruns from top to bottom, reflecting the updated widget values. This reactive nature makes building interactive apps extremely straightforward.\n"
   ]
  },
  {
   "cell_type": "markdown",
   "id": "3e6dfc3f-1291-45ba-a807-ea2b14d5f940",
   "metadata": {},
   "source": [
    "## Streamlit Widgets Deep Dive\r\n",
    "\r\n",
    "Streamlit's collection of widgets is one of its most powerful features, enabling user interaction and real-time feedback. Here's an exploration of some of these widgets:\r\n",
    "\n"
   ]
  },
  {
   "cell_type": "markdown",
   "id": "b54da2e0-5245-4394-a189-a3cffe2bc9b2",
   "metadata": {},
   "source": [
    "### 1. Text Input\n",
    "\n",
    "The `text_input` widget allows users to enter a string. It can be used for scenarios like search bars, form inputs, etc.\n",
    "```python\n",
    "# Sample Streamlit App showcasing text input\n",
    "\n",
    "import streamlit as st\n",
    "\n",
    "def run_text_input_app():\n",
    "    st.title('Text Input Widget Example')\n",
    "    \n",
    "    user_input = st.text_input(\"Enter your name:\", value=\"John Doe\")\n",
    "    st.write(f\"Hello, {user_input}!\")\n",
    "\n",
    "# To see this in action, save to a file, e.g., \"text_input_app.py\"\n",
    "# Run using: streamlit run text_input_app.py"
   ]
  },
  {
   "cell_type": "code",
   "execution_count": 1,
   "id": "76b58276-006f-487b-b01b-85a551a634d6",
   "metadata": {},
   "outputs": [
    {
     "name": "stdout",
     "output_type": "stream",
     "text": [
      "\u001b[0m\n",
      "\u001b[34m\u001b[1m  You can now view your Streamlit app in your browser.\u001b[0m\n",
      "\u001b[0m\n",
      "\u001b[34m  Network URL: \u001b[0m\u001b[1mhttp://10.109.9.7:8501\u001b[0m\n",
      "\u001b[34m  External URL: \u001b[0m\u001b[1mhttp://109.171.186.10:8501\u001b[0m\n",
      "\u001b[0m\n",
      "^C\n",
      "\u001b[34m  Stopping...\u001b[0m\n"
     ]
    }
   ],
   "source": [
    "!streamlit run streamlit/text_input_app.py"
   ]
  },
  {
   "cell_type": "markdown",
   "id": "e20c9373-8cb4-49f6-9124-d4792b0730eb",
   "metadata": {},
   "source": [
    "### 2. Text Area\n",
    "\n",
    "The `text_area` widget provides a larger input space, suitable for multi-line text.\n",
    "```python\n",
    "\n",
    "# Sample Streamlit App showcasing text area\n",
    "\n",
    "import streamlit as st\n",
    "\n",
    "def run_text_area_app():\n",
    "    st.title('Text Area Widget Example')\n",
    "    \n",
    "    user_text = st.text_area(\"Share your thoughts:\", \"Type here...\")\n",
    "    st.write(f\"You wrote: {user_text}\")\n",
    "\n",
    "# To run, save to \"text_area_app.py\" and execute with: streamlit run text_area_app.py\n"
   ]
  },
  {
   "cell_type": "code",
   "execution_count": 2,
   "id": "81f46cbb-0084-4de3-ab0e-863105dd3063",
   "metadata": {},
   "outputs": [
    {
     "name": "stdout",
     "output_type": "stream",
     "text": [
      "\u001b[0m\n",
      "\u001b[34m\u001b[1m  You can now view your Streamlit app in your browser.\u001b[0m\n",
      "\u001b[0m\n",
      "\u001b[34m  Network URL: \u001b[0m\u001b[1mhttp://10.109.9.7:8501\u001b[0m\n",
      "\u001b[34m  External URL: \u001b[0m\u001b[1mhttp://109.171.186.10:8501\u001b[0m\n",
      "\u001b[0m\n",
      "^C\n",
      "\u001b[34m  Stopping...\u001b[0m\n"
     ]
    }
   ],
   "source": [
    "!streamlit run streamlit/text_area_app.py"
   ]
  },
  {
   "cell_type": "markdown",
   "id": "596c2697-135a-4eec-8511-c8777a6b9640",
   "metadata": {},
   "source": [
    "### 3. Number Input\n",
    "\n",
    "The `number_input` widget allows users to input numbers, either by typing or using increment/decrement buttons.\n",
    "\n",
    "```python\n",
    "    \n",
    "# Sample Streamlit App showcasing number input\n",
    "\n",
    "import streamlit as st\n",
    "\n",
    "def run_number_input_app():\n",
    "    st.title('Number Input Example')\n",
    "    \n",
    "    number = st.number_input(\"Enter a number\", min_value=0, max_value=100, step=1)\n",
    "    st.write(f\"You entered: {number}\")\n",
    "\n",
    "# Save as \"number_input_app.py\" and run using: streamlit run number_input_app.py"
   ]
  },
  {
   "cell_type": "code",
   "execution_count": 3,
   "id": "81801062-c2a9-40a9-b29d-19bd68ce78cb",
   "metadata": {},
   "outputs": [
    {
     "name": "stdout",
     "output_type": "stream",
     "text": [
      "\u001b[0m\n",
      "\u001b[34m\u001b[1m  You can now view your Streamlit app in your browser.\u001b[0m\n",
      "\u001b[0m\n",
      "\u001b[34m  Network URL: \u001b[0m\u001b[1mhttp://10.109.9.7:8501\u001b[0m\n",
      "\u001b[34m  External URL: \u001b[0m\u001b[1mhttp://109.171.186.10:8501\u001b[0m\n",
      "\u001b[0m\n",
      "^C\n",
      "\u001b[34m  Stopping...\u001b[0m\n"
     ]
    }
   ],
   "source": [
    "!streamlit run streamlit/number_input_app.py"
   ]
  },
  {
   "cell_type": "markdown",
   "id": "5280e020-7231-4d85-b8fd-6df4e32d2986",
   "metadata": {},
   "source": [
    "### 3. Date Input\n",
    "\n",
    "With the `date_input` widget, users can select a date. This is useful for apps that require date-based filters or inputs.\n",
    "```python\n",
    "# Sample Streamlit App showcasing date input\n",
    "\n",
    "import streamlit as st\n",
    "\n",
    "def run_date_input_app():\n",
    "    st.title('Date Input Widget Example')\n",
    "    \n",
    "    selected_date = st.date_input(\"Pick a date\")\n",
    "    st.write(f\"Selected Date: {selected_date}\")\n",
    "\n",
    "# Save as \"date_input_app.py\" and run using: streamlit run date_input_app.py"
   ]
  },
  {
   "cell_type": "code",
   "execution_count": 4,
   "id": "a4dbb7d5-be02-4fde-bf88-cb9b8bd3a862",
   "metadata": {},
   "outputs": [
    {
     "name": "stdout",
     "output_type": "stream",
     "text": [
      "\u001b[0m\n",
      "\u001b[34m\u001b[1m  You can now view your Streamlit app in your browser.\u001b[0m\n",
      "\u001b[0m\n",
      "\u001b[34m  Network URL: \u001b[0m\u001b[1mhttp://10.109.9.7:8501\u001b[0m\n",
      "\u001b[34m  External URL: \u001b[0m\u001b[1mhttp://109.171.186.10:8501\u001b[0m\n",
      "\u001b[0m\n",
      "\n",
      "  \u001b[34m\u001b[1mA new version of Streamlit is available.\u001b[0m\n",
      "\n",
      "  See what's new at https://discuss.streamlit.io/c/announcements\n",
      "\n",
      "  Enter the following command to upgrade:\n",
      "  \u001b[34m$\u001b[0m \u001b[1mpip install streamlit --upgrade\u001b[0m\n",
      "\u001b[0m\n",
      "^C\n",
      "\u001b[34m  Stopping...\u001b[0m\n"
     ]
    }
   ],
   "source": [
    "!streamlit run streamlit/date_input_app.py"
   ]
  },
  {
   "cell_type": "markdown",
   "id": "16837e20-ba7e-498f-ae90-2334936cd59e",
   "metadata": {},
   "source": [
    "### 4. Time Input\n",
    "\n",
    "The `time_input` widget lets users select a specific time. It's useful for scheduling apps or any time-specific filters.\n",
    "    \n",
    "```python\n",
    "# Sample Streamlit App showcasing time input\n",
    "\n",
    "import streamlit as st\n",
    "\n",
    "def run_time_input_app():\n",
    "    st.title('Time Input Widget Example')\n",
    "    \n",
    "    selected_time = st.time_input(\"Set an alarm for\")\n",
    "    st.write(f\"Alarm set for: {selected_time}\")\n",
    "\n",
    "# Save as \"time_input_app.py\" and run: streamlit run time_input_app.py\n"
   ]
  },
  {
   "cell_type": "code",
   "execution_count": 5,
   "id": "e9e68202-3b8a-4931-a1bd-5cfb6d14efc1",
   "metadata": {},
   "outputs": [
    {
     "name": "stdout",
     "output_type": "stream",
     "text": [
      "\u001b[0m\n",
      "\u001b[34m\u001b[1m  You can now view your Streamlit app in your browser.\u001b[0m\n",
      "\u001b[0m\n",
      "\u001b[34m  Network URL: \u001b[0m\u001b[1mhttp://10.109.9.7:8501\u001b[0m\n",
      "\u001b[34m  External URL: \u001b[0m\u001b[1mhttp://109.171.186.10:8501\u001b[0m\n",
      "\u001b[0m\n",
      "^C\n",
      "\u001b[34m  Stopping...\u001b[0m\n"
     ]
    }
   ],
   "source": [
    "!streamlit run streamlit/time_input_app.py"
   ]
  },
  {
   "cell_type": "markdown",
   "id": "38d78ed7-f1c6-4eb9-bdcd-e20c95b42347",
   "metadata": {},
   "source": [
    "### 5. File Uploader\n",
    "\n",
    "The `file_uploader` widget allows users to upload files. This is especially handy for data analysis apps where users might need to upload datasets.\n",
    "\n",
    "```python\n",
    "# Sample Streamlit App showcasing file uploader\r\n",
    "\r\n",
    "import streamlit as st\r\n",
    "\r\n",
    "def run_file_uploader_app():\r\n",
    "    st.title('File Uploader Widget Example')\r\n",
    "    \r\n",
    "    uploaded_file = st.file_uploader(\"Choose a file\")\r\n",
    "    if uploaded_file:\r\n",
    "        st.write(f\"Uploaded file: {uploaded_file.name}\")\r\n",
    "\r\n",
    "# Save to \"file_uploader_app.py\" and run with: streamlit run file_uploader_app.py\r\n",
    "\n"
   ]
  },
  {
   "cell_type": "code",
   "execution_count": 6,
   "id": "c0ad734d-0616-41cb-93cf-ccafcd708b4d",
   "metadata": {},
   "outputs": [
    {
     "name": "stdout",
     "output_type": "stream",
     "text": [
      "\u001b[0m\n",
      "\u001b[34m\u001b[1m  You can now view your Streamlit app in your browser.\u001b[0m\n",
      "\u001b[0m\n",
      "\u001b[34m  Network URL: \u001b[0m\u001b[1mhttp://10.109.9.7:8501\u001b[0m\n",
      "\u001b[34m  External URL: \u001b[0m\u001b[1mhttp://109.171.186.10:8501\u001b[0m\n",
      "\u001b[0m\n",
      "^C\n",
      "\u001b[34m  Stopping...\u001b[0m\n"
     ]
    }
   ],
   "source": [
    "!streamlit run streamlit/file_uploader_app.py"
   ]
  },
  {
   "cell_type": "markdown",
   "id": "91819783-8701-45e6-b22a-c43f97f243b4",
   "metadata": {},
   "source": [
    "### 6. Button\n",
    "\n",
    "The `button` widget can be used to trigger actions.\n",
    "\n",
    "```python\n",
    "# Sample Streamlit App showcasing button\n",
    "\n",
    "import streamlit as st\n",
    "\n",
    "def run_button_app():\n",
    "    st.title('Button Example')\n",
    "    \n",
    "    if st.button(\"Click me!\"):\n",
    "        st.write(\"Button was clicked!\")\n",
    "\n",
    "# Save to \"button_app.py\" and execute using: streamlit run button_app.py\n"
   ]
  },
  {
   "cell_type": "code",
   "execution_count": 7,
   "id": "7b84141a-e923-4f78-ad12-c831de5ebe60",
   "metadata": {},
   "outputs": [
    {
     "name": "stdout",
     "output_type": "stream",
     "text": [
      "\u001b[0m\n",
      "\u001b[34m\u001b[1m  You can now view your Streamlit app in your browser.\u001b[0m\n",
      "\u001b[0m\n",
      "\u001b[34m  Network URL: \u001b[0m\u001b[1mhttp://10.109.9.7:8501\u001b[0m\n",
      "\u001b[34m  External URL: \u001b[0m\u001b[1mhttp://109.171.186.10:8501\u001b[0m\n",
      "\u001b[0m\n",
      "^C\n",
      "\u001b[34m  Stopping...\u001b[0m\n"
     ]
    }
   ],
   "source": [
    "!streamlit run streamlit/button_app.py"
   ]
  },
  {
   "cell_type": "markdown",
   "id": "f8b85ba0-116d-4b70-8a8b-36a9e51af0e5",
   "metadata": {},
   "source": [
    "### 7. Checkbox\n",
    "\n",
    "The `checkbox` widget can be used to toggle certain functionalities on or off, or to select specific options.\n",
    "```python\n",
    "\n",
    "# Sample Streamlit App showcasing checkbox\n",
    "\n",
    "import streamlit as st\n",
    "\n",
    "def run_checkbox_app():\n",
    "    st.title('Checkbox Widget Example')\n",
    "    \n",
    "    checked = st.checkbox(\"Click me!\")\n",
    "    if checked:\n",
    "        st.write(\"Checkbox is checked!\")\n",
    "\n",
    "# Save as \"checkbox_app.py\" and execute using: streamlit run checkbox_app.py\n"
   ]
  },
  {
   "cell_type": "code",
   "execution_count": 9,
   "id": "f77959f7-3187-428e-9f1e-4f56c787d328",
   "metadata": {},
   "outputs": [
    {
     "name": "stdout",
     "output_type": "stream",
     "text": [
      "\u001b[0m\n",
      "\u001b[34m\u001b[1m  You can now view your Streamlit app in your browser.\u001b[0m\n",
      "\u001b[0m\n",
      "\u001b[34m  Network URL: \u001b[0m\u001b[1mhttp://10.109.9.7:8501\u001b[0m\n",
      "\u001b[34m  External URL: \u001b[0m\u001b[1mhttp://109.171.186.10:8501\u001b[0m\n",
      "\u001b[0m\n",
      "^C\n",
      "\u001b[34m  Stopping...\u001b[0m\n"
     ]
    }
   ],
   "source": [
    "!streamlit run streamlit/checkbox_app.py"
   ]
  },
  {
   "cell_type": "markdown",
   "id": "8f054701-b40e-4cf1-bfd6-ef55711398ca",
   "metadata": {},
   "source": [
    "### 8. Radio Buttons\n",
    "\n",
    "The `radio` widget presents a list of options where users can select one. Useful for multiple-choice selections.\n",
    "\n",
    "```python\n",
    "\n",
    "# Sample Streamlit App showcasing radio buttons\n",
    "\n",
    "import streamlit as st\n",
    "\n",
    "def run_radio_app():\n",
    "    st.title('Radio Buttons Widget Example')\n",
    "    \n",
    "    option = st.radio(\"Choose a fruit:\", [\"Apple\", \"Banana\", \"Cherry\"])\n",
    "    st.write(f\"You selected: {option}\")\n",
    "\n",
    "# Save to \"radio_app.py\" and run using: streamlit run radio_app.py\n"
   ]
  },
  {
   "cell_type": "code",
   "execution_count": 10,
   "id": "c171a364-649b-41d3-8602-5bfea23a9bc8",
   "metadata": {},
   "outputs": [
    {
     "name": "stdout",
     "output_type": "stream",
     "text": [
      "\u001b[0m\n",
      "\u001b[34m\u001b[1m  You can now view your Streamlit app in your browser.\u001b[0m\n",
      "\u001b[0m\n",
      "\u001b[34m  Network URL: \u001b[0m\u001b[1mhttp://10.109.9.7:8501\u001b[0m\n",
      "\u001b[34m  External URL: \u001b[0m\u001b[1mhttp://109.171.186.10:8501\u001b[0m\n",
      "\u001b[0m\n",
      "^C\n",
      "\u001b[34m  Stopping...\u001b[0m\n"
     ]
    }
   ],
   "source": [
    "!streamlit run streamlit/radio_app.py"
   ]
  },
  {
   "cell_type": "markdown",
   "id": "7ab11fe7-b101-4154-aa77-c31e82444668",
   "metadata": {},
   "source": [
    "### 9. Selectbox\n",
    "\n",
    "The `selectbox` widget is similar to radio buttons but presented in a dropdown format.\n",
    "\n",
    "```python\n",
    "\n",
    "# Sample Streamlit App showcasing selectbox\n",
    "\n",
    "import streamlit as st\n",
    "\n",
    "def run_selectbox_app():\n",
    "    st.title('Selectbox Widget Example')\n",
    "    \n",
    "    choice = st.selectbox(\"Pick your favorite color:\", [\"Red\", \"Green\", \"Blue\"])\n",
    "    st.write(f\"You chose: {choice}\")\n",
    "\n",
    "# Save as \"selectbox_app.py\" and run using: streamlit run selectbox_app.py\n"
   ]
  },
  {
   "cell_type": "code",
   "execution_count": 11,
   "id": "af4850eb-3378-40c8-8f38-853189906903",
   "metadata": {},
   "outputs": [
    {
     "name": "stdout",
     "output_type": "stream",
     "text": [
      "\u001b[0m\n",
      "\u001b[34m\u001b[1m  You can now view your Streamlit app in your browser.\u001b[0m\n",
      "\u001b[0m\n",
      "\u001b[34m  Network URL: \u001b[0m\u001b[1mhttp://10.109.9.7:8501\u001b[0m\n",
      "\u001b[34m  External URL: \u001b[0m\u001b[1mhttp://109.171.186.10:8501\u001b[0m\n",
      "\u001b[0m\n",
      "^C\n",
      "\u001b[34m  Stopping...\u001b[0m\n"
     ]
    }
   ],
   "source": [
    "!streamlit run streamlit/selectbox_app.py"
   ]
  },
  {
   "cell_type": "markdown",
   "id": "da9df6b5-7375-4b8f-99ce-adfbfd451576",
   "metadata": {},
   "source": [
    "### 10. Multiselect\n",
    "\n",
    "The `multiselect` widget lets users select multiple options from a list.\n",
    "\n",
    "```python\n",
    "\n",
    "# Sample Streamlit App showcasing multiselect\n",
    "\n",
    "import streamlit as st\n",
    "\n",
    "def run_multiselect_app():\n",
    "    st.title('Multiselect Widget Example')\n",
    "    \n",
    "    selections = st.multiselect(\"What are your favorite hobbies?\", [\"Reading\", \"Traveling\", \"Cooking\", \"Gaming\"])\n",
    "    st.write(f\"You selected: {', '.join(selections)}\")\n",
    "\n",
    "# Save to \"multiselect_app.py\" and run with: streamlit run multiselect_app.py\n"
   ]
  },
  {
   "cell_type": "code",
   "execution_count": 17,
   "id": "43f4e4b9-69bb-48d6-99e6-272aa16a6bab",
   "metadata": {},
   "outputs": [
    {
     "name": "stdout",
     "output_type": "stream",
     "text": [
      "\u001b[0m\n",
      "\u001b[34m\u001b[1m  You can now view your Streamlit app in your browser.\u001b[0m\n",
      "\u001b[0m\n",
      "\u001b[34m  Network URL: \u001b[0m\u001b[1mhttp://10.109.9.7:8501\u001b[0m\n",
      "\u001b[34m  External URL: \u001b[0m\u001b[1mhttp://109.171.186.10:8501\u001b[0m\n",
      "\u001b[0m\n",
      "^C\n",
      "\u001b[34m  Stopping...\u001b[0m\n"
     ]
    }
   ],
   "source": [
    "!streamlit run streamlit/multiselect_app.py"
   ]
  },
  {
   "cell_type": "markdown",
   "id": "009c1b75-cbc6-481d-990c-8f421a186b34",
   "metadata": {},
   "source": [
    "### 11. Sliders\n",
    "\n",
    "\n",
    "```python\n",
    "\n",
    "import streamlit as st\n",
    "\n",
    "def run_slider_app():\n",
    "    st.title('Streamlit Slider Widget Example')\n",
    "    \n",
    "    # Create a slider widget\n",
    "    number = st.slider(\"Choose a number\", 0, 100)\n",
    "    \n",
    "    # Display the selected value\n",
    "    st.write(f\"You selected the number: {number}\")\n",
    "\n",
    "# To see this in action, save this code to a separate file, e.g., \"slider_app.py\"\n",
    "# Run the app using the command: streamlit run slider_app.py\n",
    "```\n",
    "In the code above, we've implemented a slider widget that allows users to select a number between 0 and 100. The selected value is then displayed on the app. This example showcases the reactivity of Streamlit: as you move the slider, the displayed number updates in real-time."
   ]
  },
  {
   "cell_type": "code",
   "execution_count": 18,
   "id": "278b4fcd-2461-4020-94e5-8618eda9f2de",
   "metadata": {},
   "outputs": [
    {
     "name": "stdout",
     "output_type": "stream",
     "text": [
      "\u001b[0m\n",
      "\u001b[34m\u001b[1m  You can now view your Streamlit app in your browser.\u001b[0m\n",
      "\u001b[0m\n",
      "\u001b[34m  Network URL: \u001b[0m\u001b[1mhttp://10.109.9.7:8501\u001b[0m\n",
      "\u001b[34m  External URL: \u001b[0m\u001b[1mhttp://109.171.186.10:8501\u001b[0m\n",
      "\u001b[0m\n",
      "^C\n",
      "\u001b[34m  Stopping...\u001b[0m\n"
     ]
    }
   ],
   "source": [
    "!streamlit run streamlit/slider_app.py"
   ]
  },
  {
   "cell_type": "markdown",
   "id": "57cf3f36-4e1b-4919-8c37-796f4dd20d33",
   "metadata": {},
   "source": [
    "### 12. Color Picker\n",
    "\n",
    "The `color_picker` widget lets users select a color.\n",
    "\n",
    "```python\n",
    "\n",
    "# Sample Streamlit App showcasing color picker\n",
    "\n",
    "import streamlit as st\n",
    "\n",
    "def run_color_picker_app():\n",
    "    st.title('Color Picker Example')\n",
    "    \n",
    "    color = st.color_picker(\"Pick a color\", \"#00f900\")\n",
    "    st.write(f\"You selected: {color}\")\n",
    "\n",
    "# Save as \"color_picker_app.py\" and run using: streamlit run color_picker_app.py\n"
   ]
  },
  {
   "cell_type": "code",
   "execution_count": 19,
   "id": "1f6bffbc-f7c6-4c7e-8d29-210be924a986",
   "metadata": {},
   "outputs": [
    {
     "name": "stdout",
     "output_type": "stream",
     "text": [
      "\u001b[0m\n",
      "\u001b[34m\u001b[1m  You can now view your Streamlit app in your browser.\u001b[0m\n",
      "\u001b[0m\n",
      "\u001b[34m  Network URL: \u001b[0m\u001b[1mhttp://10.109.9.7:8501\u001b[0m\n",
      "\u001b[34m  External URL: \u001b[0m\u001b[1mhttp://109.171.186.10:8501\u001b[0m\n",
      "\u001b[0m\n",
      "^C\n",
      "\u001b[34m  Stopping...\u001b[0m\n"
     ]
    }
   ],
   "source": [
    "!streamlit run streamlit/color_picker_app.py"
   ]
  },
  {
   "cell_type": "markdown",
   "id": "1430494f-aa40-4f60-b0bf-b924151efbea",
   "metadata": {},
   "source": [
    "### 13. Camera Input\n",
    "Display a widget that returns pictures from the user's webcam.\n",
    "\n",
    "```python\n",
    "\n",
    "import streamlit as st\n",
    "\n",
    "def run_camera_app():\n",
    "    st.title('Camera Input Example')\n",
    "    picture = st.camera_input(\"Take a picture\")\n",
    "    \n",
    "    if picture:\n",
    "        st.image(picture)"
   ]
  },
  {
   "cell_type": "code",
   "execution_count": 21,
   "id": "3e319f80-94b1-4941-b424-17355cd1779e",
   "metadata": {},
   "outputs": [
    {
     "name": "stdout",
     "output_type": "stream",
     "text": [
      "\u001b[0m\n",
      "\u001b[34m\u001b[1m  You can now view your Streamlit app in your browser.\u001b[0m\n",
      "\u001b[0m\n",
      "\u001b[34m  Network URL: \u001b[0m\u001b[1mhttp://10.109.9.7:8501\u001b[0m\n",
      "\u001b[34m  External URL: \u001b[0m\u001b[1mhttp://109.171.186.10:8501\u001b[0m\n",
      "\u001b[0m\n",
      "^C\n",
      "\u001b[34m  Stopping...\u001b[0m\n"
     ]
    }
   ],
   "source": [
    "!streamlit run streamlit/camera_app.py"
   ]
  },
  {
   "cell_type": "markdown",
   "id": "e44247ad-730a-4cc8-bdc8-445ed6d90cef",
   "metadata": {},
   "source": [
    "### 14. Sidebar\n",
    "\n",
    "Streamlit provides a `sidebar` that can house widgets, providing a persistent space for controls or navigation.\n",
    "\n",
    "```python\n",
    "\n",
    "# Sample Streamlit App showcasing sidebar\n",
    "\n",
    "import streamlit as st\n",
    "\n",
    "def run_sidebar_app():\n",
    "    st.title('Sidebar Example')\n",
    "    \n",
    "    # Adding widgets to the sidebar\n",
    "    with st.sidebar:\n",
    "        st.header(\"Sidebar Controls\")\n",
    "        number = st.number_input(\"Enter a number in the sidebar\", min_value=0, max_value=100, step=1)\n",
    "        color = st.color_picker(\"Pick a color in the sidebar\", \"#00f900\")\n",
    "    \n",
    "    st.write(f\"Number from sidebar: {number}\")\n",
    "    st.write(f\"Color from sidebar: {color}\")\n",
    "\n",
    "# Save to \"sidebar_app.py\" and execute with: streamlit run sidebar_app.py\n"
   ]
  },
  {
   "cell_type": "code",
   "execution_count": 22,
   "id": "7489a1c1-6272-4a8b-935f-568e874c9618",
   "metadata": {},
   "outputs": [
    {
     "name": "stdout",
     "output_type": "stream",
     "text": [
      "\u001b[0m\n",
      "\u001b[34m\u001b[1m  You can now view your Streamlit app in your browser.\u001b[0m\n",
      "\u001b[0m\n",
      "\u001b[34m  Network URL: \u001b[0m\u001b[1mhttp://10.109.9.7:8501\u001b[0m\n",
      "\u001b[34m  External URL: \u001b[0m\u001b[1mhttp://109.171.186.10:8501\u001b[0m\n",
      "\u001b[0m\n",
      "^C\n",
      "\u001b[34m  Stopping...\u001b[0m\n"
     ]
    }
   ],
   "source": [
    "!streamlit run streamlit/sidebar_app.py"
   ]
  },
  {
   "cell_type": "markdown",
   "id": "9c659116-9bbd-4af3-8cdd-58162b56b824",
   "metadata": {},
   "source": [
    "### Dashboard: Streamlit Widget Showcase\n",
    "\n",
    "This mock dashboard showcases a variety of Streamlit widgets, from basic text inputs to file uploaders. The widgets are labeled and provide immediate feedback on the dashboard, allowing users to understand and interact with each widget effectively. This dashboard can be a comprehensive reference for anyone looking to understand Streamlit's capabilities.\r\n",
    "\r\n",
    "\r\n",
    "\r\n",
    "\r\n"
   ]
  },
  {
   "cell_type": "code",
   "execution_count": 23,
   "id": "ba042a5d-0ee0-4174-a11b-c9bf95504f1c",
   "metadata": {},
   "outputs": [
    {
     "name": "stdout",
     "output_type": "stream",
     "text": [
      "\u001b[0m\n",
      "\u001b[34m\u001b[1m  You can now view your Streamlit app in your browser.\u001b[0m\n",
      "\u001b[0m\n",
      "\u001b[34m  Network URL: \u001b[0m\u001b[1mhttp://10.109.9.7:8501\u001b[0m\n",
      "\u001b[34m  External URL: \u001b[0m\u001b[1mhttp://109.171.186.10:8501\u001b[0m\n",
      "\u001b[0m\n",
      "^C\n",
      "\u001b[34m  Stopping...\u001b[0m\n"
     ]
    }
   ],
   "source": [
    "!streamlit run streamlit/widget_dashboard.py"
   ]
  },
  {
   "cell_type": "markdown",
   "id": "ad09b19a-3c80-492e-8ffa-fac0ebf3b0fc",
   "metadata": {},
   "source": [
    "## Advanced Streamlit Widget Applications\n",
    "\n",
    "While Streamlit's basic widgets are powerful on their own, combining them and integrating with other functionalities can lead to more intricate and dynamic applications. Here's a deep dive into some advanced widget implementations:\n"
   ]
  },
  {
   "cell_type": "markdown",
   "id": "93960560-2563-43c5-8549-090a06af1f6e",
   "metadata": {},
   "source": [
    "### 1. Dynamic Data Filtering with Sliders\n",
    "\n",
    "Using sliders, we can allow users to filter datasets dynamically. This is particularly useful for data exploration and visualization.\n",
    "\n",
    "```python\n",
    "\n",
    "# Streamlit App for Dynamic Data Filtering with Sliders\n",
    "\n",
    "import streamlit as st\n",
    "import pandas as pd\n",
    "import numpy as np\n",
    "import plotly.express as px\n",
    "\n",
    "def run_dynamic_filtering_app():\n",
    "    st.title('Dynamic Data Filtering with Sliders')\n",
    "\n",
    "    # Generate random data for demonstration\n",
    "    np.random.seed(42)\n",
    "    df = pd.DataFrame({\n",
    "        'A': np.random.randn(1000).cumsum(),\n",
    "        'B': np.random.randn(1000).cumsum(),\n",
    "        'C': np.random.randn(1000).cumsum(),\n",
    "        'D': np.random.randn(1000).cumsum()\n",
    "    })\n",
    "\n",
    "    st.write(df)\n",
    "    \n",
    "    # Allow users to select a column\n",
    "    column_to_plot = st.selectbox(\"1. Select a column to visualize\", df.columns)\n",
    "\n",
    "    # Display sliders to define the range for data filtering based on the selected column\n",
    "    min_val, max_val = df[column_to_plot].min(), df[column_to_plot].max()\n",
    "    low_bound, high_bound = st.slider(f\"2. Filter {column_to_plot} within a range:\", float(min_val), float(max_val), (float(min_val), float(max_val)))\n",
    "\n",
    "    # Filter the dataframe based on the selected range\n",
    "    filtered_df = df[(df[column_to_plot] >= low_bound) & (df[column_to_plot] <= high_bound)]\n",
    "\n",
    "    # Display a histogram of the filtered data\n",
    "    fig = px.histogram(filtered_df, x=column_to_plot, nbins=50, title=f\"Histogram of {column_to_plot}\")\n",
    "    st.plotly_chart(fig)\n",
    "\n",
    "    # Display some statistics\n",
    "    st.write(f\"Mean of {column_to_plot}: {filtered_df[column_to_plot].mean():.2f}\")\n",
    "    st.write(f\"Standard Deviation of {column_to_plot}: {filtered_df[column_to_plot].std():.2f}\")\n",
    "    st.write(f\"Minimum {column_to_plot}: {filtered_df[column_to_plot].min():.2f}\")\n",
    "    st.write(f\"Maximum {column_to_plot}: {filtered_df[column_to_plot].max():.2f}\")\n",
    "\n",
    "# To run this app, save the code above to a file, e.g., \"dynamic_filtering_app.py\"\n",
    "# Then, in the terminal, run: streamlit run dynamic_filtering_app.pyt run data_filter_app.py\r\n"
   ]
  },
  {
   "cell_type": "code",
   "execution_count": 24,
   "id": "5f7e52de-0dd2-4b79-92fb-f149fea6bda8",
   "metadata": {},
   "outputs": [
    {
     "name": "stdout",
     "output_type": "stream",
     "text": [
      "\u001b[0m\n",
      "\u001b[34m\u001b[1m  You can now view your Streamlit app in your browser.\u001b[0m\n",
      "\u001b[0m\n",
      "\u001b[34m  Network URL: \u001b[0m\u001b[1mhttp://10.109.9.7:8501\u001b[0m\n",
      "\u001b[34m  External URL: \u001b[0m\u001b[1mhttp://109.171.186.10:8501\u001b[0m\n",
      "\u001b[0m\n",
      "\n",
      "  \u001b[34m\u001b[1mA new version of Streamlit is available.\u001b[0m\n",
      "\n",
      "  See what's new at https://discuss.streamlit.io/c/announcements\n",
      "\n",
      "  Enter the following command to upgrade:\n",
      "  \u001b[34m$\u001b[0m \u001b[1mpip install streamlit --upgrade\u001b[0m\n",
      "\u001b[0m\n",
      "^C\n",
      "\u001b[34m  Stopping...\u001b[0m\n"
     ]
    }
   ],
   "source": [
    "!streamlit run streamlit/data_filter_app.py"
   ]
  },
  {
   "cell_type": "markdown",
   "id": "67b47308-c973-4cca-9d41-52334f9b955e",
   "metadata": {},
   "source": [
    "### 2. Interactive Plot Customization\n",
    "\n",
    "Allow users to customize visualizations in real-time. This can involve changing plot types, adjusting aesthetics, or modifying data representations.\n",
    "\n",
    "```python\n",
    "\n",
    "import streamlit as st\n",
    "import plotly.express as px\n",
    "import plotly.graph_objects as go\n",
    "\n",
    "def run_improved_plot_customization_app():\n",
    "    st.title('Enhanced Interactive Plot Customization')\n",
    "    \n",
    "    # Sample data\n",
    "    df = px.data.iris()\n",
    "    gapminder_df = px.data.gapminder()\n",
    "    \n",
    "    # Data description\n",
    "    st.write(\"### Iris Dataset\")\n",
    "    st.write(\"This dataset comprises 3 species of iris plants with 4 features: sepal length, sepal width, petal length, and petal width.\")\n",
    "    st.dataframe(df.head())\n",
    "\n",
    "    # Plot customization options\n",
    "    plot_type = st.selectbox(\"Choose a plot type\", [\"scatter\", \"line\", \"bar\", \"histogram\", \"box\", \"3D scatter\", \"subplot\", \"choropleth map\"])\n",
    "    \n",
    "    # For choropleth map, we don't need x and y axis selection\n",
    "    if plot_type != \"choropleth map\":\n",
    "        x_axis = st.selectbox(\"Choose x-axis variable\", df.columns[:-1])  # Exclude 'species' from x-axis\n",
    "        y_axis = st.selectbox(\"Choose y-axis variable\", df.columns[:-1])  # Exclude 'species' from y-axis\n",
    "\n",
    "    # Create the plot\n",
    "    if plot_type == \"scatter\":\n",
    "        fig = px.scatter(df, x=x_axis, y=y_axis, color=\"species\", title=f\"Scatter Plot of {y_axis} vs. {x_axis}\")\n",
    "    elif plot_type == \"line\":\n",
    "        fig = px.line(df.sort_values(by=[x_axis]), x=x_axis, y=y_axis, color=\"species\", title=f\"Line Plot of {y_axis} vs. {x_axis}\")\n",
    "    elif plot_type == \"bar\":\n",
    "        fig = px.bar(df, x=x_axis, y=y_axis, color=\"species\", title=f\"Bar Plot of {y_axis} by {x_axis}\")\n",
    "    elif plot_type == \"histogram\":\n",
    "        fig = px.histogram(df, x=x_axis, color=\"species\", title=f\"Histogram of {x_axis}\")\n",
    "    elif plot_type == \"box\":\n",
    "        fig = px.box(df, x=\"species\", y=y_axis, title=f\"Box Plot of {y_axis} by Species\")\n",
    "    elif plot_type == \"3D scatter\":\n",
    "        fig = px.scatter_3d(df, x=\"sepal_width\", y=\"sepal_length\", z=\"petal_length\", color=\"species\", title=\"3D Scatter Plot of Iris Dataset\")\n",
    "    elif plot_type == \"subplot\":\n",
    "        fig = go.Figure()\n",
    "        fig.add_trace(go.Scatter(x=df[x_axis], y=df[y_axis], mode='markers', name='scatter'))\n",
    "        fig.add_trace(go.Histogram(x=df[x_axis], name='histogram'))\n",
    "        fig.update_layout(title=f\"Subplot of {y_axis} vs. {x_axis}\")\n",
    "    else:  # choropleth map\n",
    "        fig = px.choropleth(gapminder_df, locations=\"iso_alpha\", color=\"lifeExp\", hover_name=\"country\", title=\"Life Expectancy Choropleth Map\", animation_frame=\"year\")\n",
    "        \n",
    "    st.plotly_chart(fig)\n",
    "\n",
    "\n",
    "# Save to \"plot_customization_app.py\" and run with: streamlit run plot_customization_app.py\n"
   ]
  },
  {
   "cell_type": "code",
   "execution_count": 25,
   "id": "effa29a9-e5b6-4065-9173-d39876a27940",
   "metadata": {},
   "outputs": [
    {
     "name": "stdout",
     "output_type": "stream",
     "text": [
      "\u001b[0m\n",
      "\u001b[34m\u001b[1m  You can now view your Streamlit app in your browser.\u001b[0m\n",
      "\u001b[0m\n",
      "\u001b[34m  Network URL: \u001b[0m\u001b[1mhttp://10.109.9.7:8501\u001b[0m\n",
      "\u001b[34m  External URL: \u001b[0m\u001b[1mhttp://109.171.186.10:8501\u001b[0m\n",
      "\u001b[0m\n",
      "^C\n",
      "\u001b[34m  Stopping...\u001b[0m\n"
     ]
    }
   ],
   "source": [
    "!streamlit run streamlit/plot_customization_app.py"
   ]
  },
  {
   "cell_type": "markdown",
   "id": "1deeb9cf-7735-464a-ab5d-ca2b32ddb949",
   "metadata": {},
   "source": [
    "### 3. Multi-page Applications\n",
    "\n",
    "Streamlit can be structured to have multiple pages or views, which can be handy for creating dashboard-like applications with different sections or modules.\n",
    "\n",
    "```python\n",
    "\n",
    "import streamlit as st\n",
    "import plotly.express as px\n",
    "import pandas as pd\n",
    "\n",
    "# Sample data\n",
    "df = px.data.iris()\n",
    "\n",
    "def data_view():\n",
    "    st.header(\"Data View\")\n",
    "    st.write(\"### Iris Dataset\")\n",
    "    st.write(\"This dataset comprises 3 species of iris plants with 4 features: sepal length, sepal width, petal length, and petal width.\")\n",
    "    st.dataframe(df.head())\n",
    "    \n",
    "def visualization():\n",
    "    st.header(\"Visualization\")\n",
    "    st.write(\"Explore different visualizations of the Iris dataset.\")\n",
    "    \n",
    "\n",
    "    \n",
    "    # Plot customization options\n",
    "    plot_type = st.selectbox(\"Choose a plot type\", [\"scatter\", \"histogram\", \"box\"])\n",
    "    x_axis = st.selectbox(\"Choose x-axis variable\", df.columns[:-1])  # Exclude 'species' from x-axis\n",
    "    y_axis = st.selectbox(\"Choose y-axis variable\", df.columns[:-1])  # Exclude 'species' from y-axis\n",
    "    \n",
    "    if plot_type == \"scatter\":\n",
    "        fig = px.scatter(df, x=x_axis, y=y_axis, color=\"species\", title=f\"Scatter Plot of {y_axis} vs. {x_axis}\")\n",
    "    elif plot_type == \"histogram\":\n",
    "        fig = px.histogram(df, x=x_axis, color=\"species\", title=f\"{x_axis} Distribution by Species\")\n",
    "    else:\n",
    "        fig = px.box(df, x=\"species\", y=x_axis, title=f\"{x_axis} Box Plot by Species\")\n",
    "    \n",
    "    st.plotly_chart(fig)\n",
    "\n",
    "def analysis():\n",
    "    st.header(\"Analysis\")\n",
    "    st.write(\"Basic statistical analysis of the Iris dataset.\")\n",
    "    \n",
    "    # Select the variable for statistical analysis within this function\n",
    "    feature = st.selectbox(\"Choose a feature for analysis\", df.columns[:-1])\n",
    "\n",
    "    # Display statistics for the selected feature\n",
    "    st.write(f\"Statistics for {feature}:\")\n",
    "    st.write(f\"Mean: {df[feature].mean():.2f}\")\n",
    "    st.write(f\"Median: {df[feature].median():.2f}\")\n",
    "    st.write(f\"Standard Deviation: {df[feature].std():.2f}\")\n",
    "    st.write(f\"Variance: {df[feature].var():.2f}\")\n",
    "\n",
    "def run_enhanced_multipage_app():\n",
    "    st.title('Enhanced Multi-page Application')\n",
    "    \n",
    "    # Using radio buttons as a form of menu to select the page view\n",
    "    page = st.radio(\"Choose a page\", [\"Home\", \"Data View\", \"Visualization\", \"Analysis\"])\n",
    "\n",
    "    if page == \"Home\":\n",
    "        st.write(\"Welcome to the enhanced multi-page application!\")\n",
    "        st.write(\"Navigate through the pages to explore the Iris dataset.\")\n",
    "    elif page == \"Data View\":\n",
    "        data_view()\n",
    "    elif page == \"Visualization\":\n",
    "        visualization()\n",
    "    else:\n",
    "        analysis()\n",
    "\n",
    "# Save this code to \"multipage_app.py\" and run using: streamlit run multipage_app.py\n"
   ]
  },
  {
   "cell_type": "code",
   "execution_count": 26,
   "id": "fe09b2a4-c4b0-4070-aeaf-b29d2d2a5cf4",
   "metadata": {},
   "outputs": [
    {
     "name": "stdout",
     "output_type": "stream",
     "text": [
      "\u001b[0m\n",
      "\u001b[34m\u001b[1m  You can now view your Streamlit app in your browser.\u001b[0m\n",
      "\u001b[0m\n",
      "\u001b[34m  Network URL: \u001b[0m\u001b[1mhttp://10.109.9.7:8501\u001b[0m\n",
      "\u001b[34m  External URL: \u001b[0m\u001b[1mhttp://109.171.186.10:8501\u001b[0m\n",
      "\u001b[0m\n",
      "^C\n",
      "\u001b[34m  Stopping...\u001b[0m\n"
     ]
    }
   ],
   "source": [
    "!streamlit run streamlit/multipage_app.py"
   ]
  },
  {
   "cell_type": "markdown",
   "id": "f89e02fd-720b-454c-81a0-dc17845b9ce6",
   "metadata": {},
   "source": [
    "### 4. Real-time Data Updates\n",
    "\n",
    "Widgets like buttons can be used to trigger real-time data processing or updates. For instance, think of a scenario where you're updating a machine learning model's predictions.\n",
    "    \n",
    "```python\n",
    "\n",
    "import streamlit as st\n",
    "import time\n",
    "import random\n",
    "import pandas as pd\n",
    "import plotly.express as px\n",
    "\n",
    "# Initialize a data frame to hold our simulated website visits data\n",
    "initial_data = {\n",
    "    \"Timestamp\": [pd.Timestamp.now()],\n",
    "    \"Visits\": [random.randint(1, 10)]\n",
    "}\n",
    "visits_df = pd.DataFrame(initial_data)\n",
    "\n",
    "def run_real_time_update_app():\n",
    "    st.title('Real-time Website Visits Tracker')\n",
    "    \n",
    "    global visits_df\n",
    "\n",
    "    st.write(\"This dashboard simulates the tracking of website visits in real-time. Click the 'Update Data' button to fetch the latest visit counts.\")\n",
    "    \n",
    "    # Button to trigger data update\n",
    "    if st.button(\"Update Data\"):\n",
    "        with st.spinner(\"Fetching new visit data...\"):\n",
    "            time.sleep(2)  # Simulate a delay for data fetching\n",
    "            \n",
    "            # Simulate the new data\n",
    "            new_data = {\n",
    "                \"Timestamp\": [pd.Timestamp.now()],\n",
    "                \"Visits\": [random.randint(1, 10)]\n",
    "            }\n",
    "            # Convert dictionary to DataFrame and concatenate\n",
    "            visits_df = pd.concat([visits_df, pd.DataFrame(new_data)], ignore_index=True)\n",
    "        st.success(\"Data updated!\")\n",
    "\n",
    "    # Always display the updated plot\n",
    "    st.plotly_chart(px.line(visits_df, x='Timestamp', y='Visits', title='Website Visits Over Time'))\n",
    "\n",
    "    # Display the last few rows of the DataFrame to verify updates\n",
    "    st.write(\"Last few records of the data:\")\n",
    "    st.dataframe(visits_df.tail())\n",
    "\n",
    "# Save to \"real_time_update_app.py\" and execute using: streamlit run real_time_update_app.py\n"
   ]
  },
  {
   "cell_type": "code",
   "execution_count": 27,
   "id": "c3e26d66-8782-4117-8013-953eb220f1eb",
   "metadata": {},
   "outputs": [
    {
     "name": "stdout",
     "output_type": "stream",
     "text": [
      "\u001b[0m\n",
      "\u001b[34m\u001b[1m  You can now view your Streamlit app in your browser.\u001b[0m\n",
      "\u001b[0m\n",
      "\u001b[34m  Network URL: \u001b[0m\u001b[1mhttp://10.109.9.7:8501\u001b[0m\n",
      "\u001b[34m  External URL: \u001b[0m\u001b[1mhttp://109.171.186.10:8501\u001b[0m\n",
      "\u001b[0m\n",
      "\n",
      "  \u001b[34m\u001b[1mA new version of Streamlit is available.\u001b[0m\n",
      "\n",
      "  See what's new at https://discuss.streamlit.io/c/announcements\n",
      "\n",
      "  Enter the following command to upgrade:\n",
      "  \u001b[34m$\u001b[0m \u001b[1mpip install streamlit --upgrade\u001b[0m\n",
      "\u001b[0m\n",
      "^C\n",
      "\u001b[34m  Stopping...\u001b[0m\n"
     ]
    }
   ],
   "source": [
    "!streamlit run streamlit/real_time_update_app.py"
   ]
  },
  {
   "cell_type": "markdown",
   "id": "7491a4eb-db5a-49b6-8970-c30f430eeb4f",
   "metadata": {},
   "source": [
    "These advanced Streamlit applications demonstrate the library's versatility. By blending basic widgets, integrating with external libraries, and harnessing Python's capabilities, we can craft intricate, interactive, and invaluable data apps.\n"
   ]
  },
  {
   "cell_type": "markdown",
   "id": "2564bff0-ec25-4491-ad3a-64b6bbc8d206",
   "metadata": {},
   "source": [
    "## Layout and Styling\n",
    "\n",
    "Streamlit provides multiple ways to customize the layout of your app. Here's a brief overview:\n",
    "\n",
    "- **Columns**: You can split your app into multiple columns and decide what content goes into each column.\n",
    "- **Expanders**: These are collapsible sections that you can use to hide detailed information or optional configurations.\n",
    "- **Theming**: Streamlit allows you to adjust the colors, fonts, and overall appearance of your app.\n",
    "\n",
    "Let's explore these with a practical example.\n"
   ]
  },
  {
   "cell_type": "markdown",
   "id": "ee8d7e48-5b7a-4522-a982-ac7ea2429e04",
   "metadata": {},
   "source": [
    "### Sample Streamlit App showcasing layout and styling\n",
    "```python\n",
    "import streamlit as st\n",
    "\n",
    "# Sample movie data\n",
    "movies = {\n",
    "    \"Inception\": {\n",
    "        \"Release Year\": 2010,\n",
    "        \"Genre\": \"Sci-Fi\",\n",
    "        \"Director\": \"Christopher Nolan\",\n",
    "        \"Rating\": 8.8\n",
    "    },\n",
    "    \"The Shawshank Redemption\": {\n",
    "        \"Release Year\": 1994,\n",
    "        \"Genre\": \"Drama\",\n",
    "        \"Director\": \"Frank Darabont\",\n",
    "        \"Rating\": 9.3\n",
    "    },\n",
    "    \"The Dark Knight\": {\n",
    "        \"Release Year\": 2008,\n",
    "        \"Genre\": \"Action\",\n",
    "        \"Director\": \"Christopher Nolan\",\n",
    "        \"Rating\": 9.0\n",
    "    }\n",
    "}\n",
    "\n",
    "def run_enhanced_layout_app():\n",
    "    \n",
    "    st.title('Movie Database Dashboard')\n",
    "    \n",
    "    # Create two columns: Search and Details\n",
    "    col_search, col_details = st.columns(2)\n",
    "    \n",
    "    with col_search:\n",
    "        st.header(\"🔍 Search for a Movie\")\n",
    "        selected_movie = st.selectbox(\"Choose a movie\", list(movies.keys()))\n",
    "        \n",
    "        # Button to fetch details\n",
    "        if st.button(\"Fetch Details\"):\n",
    "            with col_details:\n",
    "                st.header(f\"🎬 {selected_movie} Details\")\n",
    "                for key, value in movies[selected_movie].items():\n",
    "                    st.write(f\"**{key}:** {value}\")\n",
    "\n",
    "\n",
    "    # Styling and additional information\n",
    "    st.markdown(\"\"\"\n",
    "        ---\n",
    "        ### 📜 **About this Dashboard**\n",
    "        \n",
    "        - **Data Source**: This dashboard uses a simulated dataset of popular movies.\n",
    "        - **Purpose**: Demonstrating Streamlit's capability to create interactive web apps with ease.\n",
    "        - **Tip**: Use the left column to select a movie and click 'Fetch Details' to view its attributes in the right column.\n",
    "        \n",
    "        For more information about Streamlit, visit the [official website](https://www.streamlit.io/).\n",
    "        \n",
    "        _Made with ❤️ by [Your Name]_\n",
    "    \"\"\")\n",
    "    st.markdown(\"---\")\n",
    "\n",
    "    # New Tips & Tricks section with an expander\n",
    "    with st.expander(\"Tips & Tricks with Streamlit 🚀\"):\n",
    "        st.markdown(\"\"\"\n",
    "            1. **Widgets**: Streamlit offers a variety of widgets like buttons, sliders, and text input that make your apps interactive.\n",
    "            2. **Caching**: Use `@st.cache` to cache your data and functions, speeding up your apps significantly.\n",
    "            3. **Layouts**: Organize your app's layout using columns and expanders for a better user experience.\n",
    "            4. **Share**: Deploy and share your Streamlit apps with the world using Streamlit sharing.\n",
    "            5. **Community**: Engage with the Streamlit community for discussions, questions, and sharing resources.\n",
    "            \n",
    "            Explore the [Streamlit documentation](https://docs.streamlit.io/) for more details and best practices.\n",
    "        \"\"\")\n",
    "    \n",
    "# To run this layout app, save the code to a separate file, e.g., \"layout_app.py\"\n",
    "# Execute the app using the command: streamlit run layout_app.py\n",
    "```\n",
    "\n",
    "In the provided code:\n",
    "\n",
    "- The Streamlit app provides an interface to select movies from a simulated dataset and displays their details.\r",
    "- \n",
    "It divides the content into two columns: \"Search\" for movie selection and \"Details\" for showcasing chosen movie information\n",
    "- \r\n",
    "The app also includes a footer with dashboard info and an expander revealing Streamlit tips and best practices.\n",
    "\n",
    "These layout features empower you to create well-organized and user-friendly Streamlit apps.\n"
   ]
  },
  {
   "cell_type": "code",
   "execution_count": 28,
   "id": "b651a789-516c-4bf4-a7ce-f454a1da0480",
   "metadata": {},
   "outputs": [
    {
     "name": "stdout",
     "output_type": "stream",
     "text": [
      "\u001b[0m\n",
      "\u001b[34m\u001b[1m  You can now view your Streamlit app in your browser.\u001b[0m\n",
      "\u001b[0m\n",
      "\u001b[34m  Network URL: \u001b[0m\u001b[1mhttp://10.109.9.7:8501\u001b[0m\n",
      "\u001b[34m  External URL: \u001b[0m\u001b[1mhttp://109.171.186.10:8501\u001b[0m\n",
      "\u001b[0m\n",
      "^C\n",
      "\u001b[34m  Stopping...\u001b[0m\n"
     ]
    }
   ],
   "source": [
    "!streamlit run streamlit/layout_app.py"
   ]
  },
  {
   "cell_type": "markdown",
   "id": "3fba0b3c-dd7c-472d-b189-8590b4bdcfcd",
   "metadata": {},
   "source": [
    "# Exploratory Data Analysis EDA \n"
   ]
  },
  {
   "cell_type": "code",
   "execution_count": 29,
   "id": "828bfe06-e4e7-4b7d-9a74-2a77c4cf0cac",
   "metadata": {},
   "outputs": [
    {
     "name": "stdout",
     "output_type": "stream",
     "text": [
      "\u001b[0m\n",
      "\u001b[34m\u001b[1m  You can now view your Streamlit app in your browser.\u001b[0m\n",
      "\u001b[0m\n",
      "\u001b[34m  Network URL: \u001b[0m\u001b[1mhttp://10.109.9.7:8501\u001b[0m\n",
      "\u001b[34m  External URL: \u001b[0m\u001b[1mhttp://109.171.186.10:8501\u001b[0m\n",
      "\u001b[0m\n",
      "^C\n",
      "\u001b[34m  Stopping...\u001b[0m\n"
     ]
    }
   ],
   "source": [
    "!streamlit run streamlit/basketball_eda_app.py"
   ]
  },
  {
   "cell_type": "markdown",
   "id": "e8ef6c68-f1f7-47c1-90ac-6ca9549730fe",
   "metadata": {},
   "source": [
    "# Building a Machine Learning Model and Displaying Results\n",
    "\n",
    "## Iris Flower Prediction App\n",
    "\n",
    "This Streamlit application is designed to predict the class of the Iris flower based on user input for sepal length, sepal width, petal length, and petal width.\n",
    "\n",
    "### Features of the App:\n",
    "\n",
    "#### User Input Features on Sidebar:\n",
    "- The sidebar contains sliders that allow users to input values for sepal length, sepal width, petal length, and petal width.\n",
    "- The range of the sliders is set based on the range of values in the Iris dataset.\n",
    "\n",
    "#### Display User Input:\n",
    "- The main page displays a table with user input parameters.\n",
    "\n",
    "#### Model Building and Customization:\n",
    "- The app uses a `RandomForestClassifier` from scikit-learn to make predictions.\n",
    "- Users can customize the model by setting the number of trees in the forest (`n_estimators`) and the maximum depth of the tree (`max_depth`) using sliders in the sidebar.\n",
    "\n",
    "#### Prediction and Results:\n",
    "- The app predicts the Iris flower class based on user input and displays the predicted class label.\n",
    "- It also displays a table showing class labels and their corresponding index numbers for reference.\n",
    "- The app visualizes the prediction probabilities using an interactive bar chart, generated using Plotly. This bar chart is color-coded based on the probability values and displays the exact percentages on top of each bar.\n",
    "\n",
    "### Technical Details:\n",
    "\n",
    "#### Data Source:\n",
    "- The app uses the Iris dataset from scikit-learn's `datasets` module.\n",
    "\n",
    "#### Python Libraries Used:\n",
    "- `streamlit`: For building and running the web app.\n",
    "- `pandas`: For data manipulation and display.\n",
    "- `numpy`: For numerical operations.\n",
    "- `scikit-learn`: For loading the Iris dataset and building the RandomForest model.\n",
    "- `matplotlib`: Although imported, it's not used in the provided code.\n",
    "- `plotly.express`: For creating interactive visualizations."
   ]
  },
  {
   "cell_type": "code",
   "execution_count": 33,
   "id": "41e52411-9914-4727-975b-71fd1db15a5e",
   "metadata": {},
   "outputs": [
    {
     "name": "stdout",
     "output_type": "stream",
     "text": [
      "\u001b[0m\n",
      "\u001b[34m\u001b[1m  You can now view your Streamlit app in your browser.\u001b[0m\n",
      "\u001b[0m\n",
      "\u001b[34m  Network URL: \u001b[0m\u001b[1mhttp://10.109.9.7:8501\u001b[0m\n",
      "\u001b[34m  External URL: \u001b[0m\u001b[1mhttp://109.171.186.10:8501\u001b[0m\n",
      "\u001b[0m\n",
      "^C\n",
      "\u001b[34m  Stopping...\u001b[0m\n"
     ]
    }
   ],
   "source": [
    "!streamlit run streamlit/iris-ml-app.py"
   ]
  },
  {
   "cell_type": "markdown",
   "id": "d31685d8-2379-48e2-b738-d7b9f8758090",
   "metadata": {},
   "source": [
    "# Penguin Prediction App\n",
    "\n",
    "This Streamlit application predicts the species of **Palmer Penguins** using user input values for various features like island, sex, bill length, bill depth, flipper length, and body mass.\n",
    "\n",
    "## Features of the App:\n",
    "\n",
    "### User Input Features on Sidebar:\n",
    "\n",
    "- The sidebar provides an option to upload a CSV file containing the input values.\n",
    "- If no file is uploaded, the user can manually select or input values using select boxes and sliders.\n",
    "- The features that the user can input or select include island, sex, bill length, bill depth, flipper length, and body mass.\n",
    "\n",
    "### Display User Input:\n",
    "\n",
    "- The main page displays a table showing the user input parameters.\n",
    "\n",
    "### Model Building and Predictions:\n",
    "\n",
    "- The app utilizes a RandomForestClassifier trained on the Palmer Penguins dataset to make predictions.\n",
    "- Based on the user input, the app predicts the species of the penguin and displays it prominently.\n",
    "- Additionally, the app visualizes the prediction probabilities for each species using an interactive bar chart created with Plotly. This chart is color-coded based on the probability values and displays exact percentages on top of each bar.\n",
    "\n",
    "## Technical Details:\n",
    "\n",
    "- **Data Source:** The application uses the Palmer Penguins dataset obtained from the [palmerpenguins library](https://github.com/allisonhorst/palmerpenguins) in R by Allison Horst.\n",
    "\n",
    "### Python Libraries Used:\n",
    "\n",
    "- `streamlit`: For building and running the web app.\n",
    "- `pandas`: For data manipulation and display.\n",
    "- `numpy`: For numerical operations.\n",
    "- `sklearn`: For the RandomForest model and data preprocessing.\n",
    "- `plotly`: For creating interactive visualizations.\n"
   ]
  },
  {
   "cell_type": "code",
   "execution_count": 41,
   "id": "4a69087c-ab41-4447-973b-6223f826c2fa",
   "metadata": {},
   "outputs": [
    {
     "name": "stdout",
     "output_type": "stream",
     "text": [
      "\u001b[0m\n",
      "\u001b[34m\u001b[1m  You can now view your Streamlit app in your browser.\u001b[0m\n",
      "\u001b[0m\n",
      "\u001b[34m  Network URL: \u001b[0m\u001b[1mhttp://10.109.9.7:8501\u001b[0m\n",
      "\u001b[34m  External URL: \u001b[0m\u001b[1mhttp://109.171.186.10:8501\u001b[0m\n",
      "\u001b[0m\n",
      "^C\n",
      "\u001b[34m  Stopping...\u001b[0m\n"
     ]
    }
   ],
   "source": [
    "!streamlit run streamlit/penguins_App/penguins-app.py"
   ]
  },
  {
   "cell_type": "markdown",
   "id": "6314f46a-36e6-483c-994b-0a4af28cd821",
   "metadata": {},
   "source": [
    "# Food vision App\n"
   ]
  },
  {
   "cell_type": "code",
   "execution_count": 40,
   "id": "a9ce67f7-6c8d-457b-b3ca-641a04e1cdd5",
   "metadata": {},
   "outputs": [
    {
     "name": "stdout",
     "output_type": "stream",
     "text": [
      "\u001b[0m\n",
      "\u001b[34m\u001b[1m  You can now view your Streamlit app in your browser.\u001b[0m\n",
      "\u001b[0m\n",
      "\u001b[34m  Network URL: \u001b[0m\u001b[1mhttp://10.109.9.7:8501\u001b[0m\n",
      "\u001b[34m  External URL: \u001b[0m\u001b[1mhttp://109.171.186.10:8501\u001b[0m\n",
      "\u001b[0m\n",
      "2023-10-14 12:30:29.005790: I tensorflow/core/platform/cpu_feature_guard.cc:193] This TensorFlow binary is optimized with oneAPI Deep Neural Network Library (oneDNN) to use the following CPU instructions in performance-critical operations:  AVX2 FMA\n",
      "To enable them in other operations, rebuild TensorFlow with the appropriate compiler flags.\n",
      "2023-10-14 12:30:29.141176: E tensorflow/stream_executor/cuda/cuda_blas.cc:2981] Unable to register cuBLAS factory: Attempting to register factory for plugin cuBLAS when one has already been registered\n",
      "2023-10-14 12:30:30.363559: W tensorflow/stream_executor/platform/default/dso_loader.cc:64] Could not load dynamic library 'libnvinfer.so.7'; dlerror: libnvinfer.so.7: cannot open shared object file: No such file or directory; LD_LIBRARY_PATH: /sw/csgv/cudnn/8.8.1/el7_cuda11.8_binary/lib:/sw/csgv/cudnn/8.8.1/el7_cuda11.8_binary/lib64:/sw/csgv/cuda/11.8.0/el7.9_binary/lib64:/home/halimia/miniconda3/envs/tf_pip_gpu_tuto/lib/:/home/halimia/miniconda3/envs/tf_pip_gpu_tuto/lib/python3.9/site-packages/nvidia/cudnn/lib\n",
      "2023-10-14 12:30:30.363663: W tensorflow/stream_executor/platform/default/dso_loader.cc:64] Could not load dynamic library 'libnvinfer_plugin.so.7'; dlerror: libnvinfer_plugin.so.7: cannot open shared object file: No such file or directory; LD_LIBRARY_PATH: /sw/csgv/cudnn/8.8.1/el7_cuda11.8_binary/lib:/sw/csgv/cudnn/8.8.1/el7_cuda11.8_binary/lib64:/sw/csgv/cuda/11.8.0/el7.9_binary/lib64:/home/halimia/miniconda3/envs/tf_pip_gpu_tuto/lib/:/home/halimia/miniconda3/envs/tf_pip_gpu_tuto/lib/python3.9/site-packages/nvidia/cudnn/lib\n",
      "2023-10-14 12:30:30.363678: W tensorflow/compiler/tf2tensorrt/utils/py_utils.cc:38] TF-TRT Warning: Cannot dlopen some TensorRT libraries. If you would like to use Nvidia GPU with TensorRT, please make sure the missing libraries mentioned above are installed properly.\n",
      "Found 7502 images belonging to 10 classes.\n",
      "Found 2500 images belonging to 10 classes.\n",
      "Found 7502 images belonging to 10 classes.\n",
      "2023-10-14 12:30:34.396772: I tensorflow/core/platform/cpu_feature_guard.cc:193] This TensorFlow binary is optimized with oneAPI Deep Neural Network Library (oneDNN) to use the following CPU instructions in performance-critical operations:  AVX2 FMA\n",
      "To enable them in other operations, rebuild TensorFlow with the appropriate compiler flags.\n",
      "2023-10-14 12:30:37.501676: I tensorflow/core/common_runtime/gpu/gpu_device.cc:1616] Created device /job:localhost/replica:0/task:0/device:GPU:0 with 78975 MB memory:  -> device: 0, name: NVIDIA A100-SXM4-80GB, pci bus id: 0000:46:00.0, compute capability: 8.0\n",
      "Found 7502 images belonging to 10 classes.\n",
      "Found 2500 images belonging to 10 classes.\n",
      "Found 7502 images belonging to 10 classes.\n",
      "Found 7502 images belonging to 10 classes.\n",
      "Found 2500 images belonging to 10 classes.\n",
      "Found 7502 images belonging to 10 classes.\n",
      "2023-10-14 12:31:11.938884: I tensorflow/stream_executor/cuda/cuda_dnn.cc:384] Loaded cuDNN version 8801\n",
      "2023-10-14 12:31:25.429861: I tensorflow/stream_executor/cuda/cuda_blas.cc:1614] TensorFloat-32 will be used for the matrix multiplication. This will only be logged once.\n",
      "1/1 [==============================] - 19s 19s/step\n",
      "Found 7502 images belonging to 10 classes.\n",
      "Found 7502 images belonging to 10 classes.\n",
      "Found 2500 images belonging to 10 classes.\n",
      "Found 2500 images belonging to 10 classes.\n",
      "Found 7502 images belonging to 10 classes.\n",
      "Found 7502 images belonging to 10 classes.\n",
      "1/1 [==============================] - 0s 297ms/step\n",
      "Found 7502 images belonging to 10 classes.\n",
      "Found 2500 images belonging to 10 classes.\n",
      "Found 7502 images belonging to 10 classes.\n",
      "Found 2500 images belonging to 10 classes.\n",
      "Found 7502 images belonging to 10 classes.\n",
      "Found 7502 images belonging to 10 classes.\n",
      "1/1 [==============================] - 0s 293ms/step\n",
      "Found 7502 images belonging to 10 classes.\n",
      "Found 7502 images belonging to 10 classes.\n",
      "Found 2500 images belonging to 10 classes.\n",
      "Found 2500 images belonging to 10 classes.\n",
      "Found 7502 images belonging to 10 classes.\n",
      "Found 7502 images belonging to 10 classes.\n",
      "1/1 [==============================] - 0s 295ms/step\n",
      "^C\n",
      "\u001b[34m  Stopping...\u001b[0m\n"
     ]
    }
   ],
   "source": [
    "# Food vision App\n",
    "!streamlit run app_food_classifier_v2.py"
   ]
  },
  {
   "cell_type": "code",
   "execution_count": null,
   "id": "acbc6827-5e69-4748-a71b-4ba5b98aa161",
   "metadata": {},
   "outputs": [],
   "source": []
  },
  {
   "cell_type": "code",
   "execution_count": null,
   "id": "e4adbd8f-32b4-4a29-82ee-5337883c79c7",
   "metadata": {},
   "outputs": [],
   "source": []
  }
 ],
 "metadata": {
  "kernelspec": {
   "display_name": "Python 3 (ipykernel)",
   "language": "python",
   "name": "python3"
  },
  "language_info": {
   "codemirror_mode": {
    "name": "ipython",
    "version": 3
   },
   "file_extension": ".py",
   "mimetype": "text/x-python",
   "name": "python",
   "nbconvert_exporter": "python",
   "pygments_lexer": "ipython3",
   "version": "3.9.17"
  }
 },
 "nbformat": 4,
 "nbformat_minor": 5
}
