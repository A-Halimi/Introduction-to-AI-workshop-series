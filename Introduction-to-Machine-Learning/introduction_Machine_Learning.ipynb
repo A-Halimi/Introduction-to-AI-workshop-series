{
 "cells": [
  {
   "cell_type": "markdown",
   "id": "610e46b6-9ad5-4ccc-8df0-fd16c9b911eb",
   "metadata": {},
   "source": [
    "# A Quick Machine Learning Modelling Tutorial with Python and Scikit-Learn \n",
    "This notebook goes through a range of common and useful featues of the Scikit-Learn library.\n",
    "\n",
    "It's long but it's called quick because of how vast the Scikit-Learn library is. Covering everything requires a [full-blown documentation](https://scikit-learn.org/stable/user_guide.html), of which, if you ever get stuck, you should read.\n",
    "\n",
    "## What is Scikit-Learn (sklearn)?\n",
    "\n",
    "[Scikit-Learn](https://scikit-learn.org/stable/index.html), also referred to as `sklearn`, is an open-source Python machine learning library.\n",
    "\n",
    "It's built on top on NumPy (Python library for numerical computing) and Matplotlib (Python library for data visualization).\n",
    "\n",
    "<img src=\"images/pipeline3.png\" alt=\"a 6 step machine learning framework along will tools you can use for each step\" width=\"1600\"/>\n",
    "\n",
    "## Why Scikit-Learn?\n",
    "\n",
    "Although the field of machine learning is vast, the main goal is finding patterns within data and then using those patterns to make predictions.\n",
    "\n",
    "And there are certain categories which a majority of problems fall into.\n",
    "\n",
    "If you're trying to create a machine learning model to predict whether an email is spam and or not spam, you're working on a classification problem (whether something is something(s) or another).\n",
    "\n",
    "If you're trying to create a machine learning model to predict the price of houses given their characteristics, you're working on a regression problem (predicting a number).\n",
    "\n",
    "Once you know what kind of problem you're working on, there are also similar steps you'll take for each. Steps like splitting the data into different sets, one for your machine learning algorithms to learn on and another to test them on.\n",
    "Choosing a machine learning model and then evaluating whether or not your model has learned anything.\n",
    "\n",
    "Scikit-Learn offers Python implementations for doing all of these kinds of tasks. Saving you having to build them from scratch.\n",
    "\n",
    "\n",
    "## What does this notebook cover?\n",
    "\n",
    "The Scikit-Learn library is very capable. However, learning everything off by heart isn't necessary. Instead, this notebook focuses some of the main use cases of the library.\n",
    "\n",
    "More specifically, we'll cover:\n",
    "\n",
    "<img src=\"images/sklearn-workflow-title.png\" alt=\"a 6 step scikit-learn workflow\" />\n",
    "\n",
    "0. An end-to-end Scikit-Learn worfklow\n",
    "1. Getting the data ready\n",
    "2. Choosing the right maching learning estimator/aglorithm/model for your problem\n",
    "3. Fitting your chosen machine learning model to data and using it to make a prediction\n",
    "4. Evaluting a machine learning model\n",
    "5. Improving predictions through experimentation (hyperparameter tuning)\n",
    "6. Saving and loading a pretrained model\n",
    "7. Putting it all together in a pipeline\n",
    "\n",
    "**Note:** all of the steps in this notebook are focused on **supervised learning** (having data and labels).\n",
    "\n",
    "After going through it, you'll have the base knolwedge of Scikit-Learn you need to keep moving forward.\n",
    "\n",
    "## Where can I get help?\n",
    "If you get stuck or think of something you'd like to do which this notebook doesn't cover, don't fear!\n",
    "\n",
    "The recommended steps you take are:\n",
    "1. **Try it** - Since Scikit-Learn has been designed with usability in mind, your first step should be to use what you know and try figure out the answer to your own question (getting it wrong is part of the process). If in doubt, run your code.\n",
    "2. **Press SHIFT+TAB** - See you can the docstring of a function (information on what the function does) by pressing **SHIFT + TAB** inside it. Doing this is a good habit to develop. It'll improve your research skills and give you a better understanding of the library. \n",
    "3. **Search for it** - If trying it on your own doesn't work, since someone else has probably tried to do something similar, try searching for your problem. You'll likely end up in 1 of 2 places:\n",
    "    * [Scikit-Learn documentation/user guide](https://scikit-learn.org/stable/user_guide.html) - the most extensive resource you'll find for Scikit-Learn information.\n",
    "    * [Stack Overflow](https://stackoverflow.com/) - this is the developers Q&A hub, it's full of questions and answers of different problems across a wide range of software development topics and chances are, there's one related to your problem.\n",
    "    \n",
    "An example of searching for a Scikit-Learn solution might be:\n",
    "\n",
    "> \"how to tune the hyperparameters of a sklearn model\"\n",
    "\n",
    "Searching this on Google leads to the Scikit-Learn documentation for the `GridSearchCV` function: http://scikit-learn.org/stable/modules/grid_search.html\n",
    "\n",
    "The next steps here are to read through the documentation, check the examples and see if they line up to the problem you're trying to solve. If they do, **rewrite the code** to suit your needs, run it, and see what the outcomes are.\n",
    "\n",
    "4. **Ask for help** - If you've been through the above 3 steps and you're still stuck, you might want to ask your question on [Stack Overflow](https://www.stackoverflow.com). Be as specific as possible and provide details on what you've tried.\n",
    "\n",
    "Remember, you don't have to learn all of the functions off by heart to begin with. \n",
    "\n",
    "What's most important is continually asking yourself, \"what am I trying to do with the data?\".\n",
    "\n",
    "Start by answering that question and then practicing finding the code which does it.\n",
    "\n",
    "Let's get started."
   ]
  },
  {
   "cell_type": "code",
   "execution_count": 1,
   "id": "8cefa79a-1b75-40a4-9797-5cf4481eb444",
   "metadata": {
    "tags": []
   },
   "outputs": [],
   "source": [
    "import warnings\n",
    "warnings.simplefilter(action='ignore', category=FutureWarning)\n",
    "\n",
    "# Standard imports\n",
    "%matplotlib inline\n",
    "import matplotlib.pyplot as plt\n",
    "import numpy as np\n",
    "import pandas as pd"
   ]
  },
  {
   "cell_type": "markdown",
   "id": "ecc0a822-4660-4a31-a6f9-efb70fe33f1d",
   "metadata": {},
   "source": [
    "## 1. Getting the data ready\n",
    "\n",
    "Data doesn't always come ready to use with a Scikit-Learn machine learning model.\n",
    "\n",
    "Three of the main steps you'll often have to take are:\n",
    "* Splitting the data into features (usually `X`) and labels (usually `y`)\n",
    "* Converting non-numerical values to numerical values (also call feature encoding)\n",
    "* Filling (also called imputing) or disregarding missing values\n",
    "\n",
    "\n",
    "Let's see an example. \n",
    "\n",
    "As an example dataset, we'll import `heart-disease.csv`. This file contains anonymised patient medical records and whether or not they have heart disease or not.\n",
    "\n",
    "#### Attributes:\n",
    "\n",
    "- **age**: Age of the individual.\n",
    "- **sex**: Gender of the individual (1 = male, 0 = female).\n",
    "- **cp**: Chest pain type (values range from 0 to 3).\n",
    "- **trestbps**: Resting blood pressure.\n",
    "- **chol**: Serum cholesterol in mg/dl.\n",
    "- **fbs**: Fasting blood sugar (> 120 mg/dl, 1 = true; 0 = false).\n",
    "- **restecg**: Resting electrocardiographic results (values 0, 1, 2).\n",
    "- **thalach**: Maximum heart rate achieved.\n",
    "- **exang**: Exercise induced angina (1 = yes; 0 = no).\n",
    "- **oldpeak**: ST depression induced by exercise relative to rest.\n",
    "- **slope**: Slope of the peak exercise ST segment.\n",
    "- **ca**: Number of major vessels (0-3) colored by fluoroscopy.\n",
    "- **thal**: 3 = normal; 6 = fixed defect; 7 = reversible defect.\n",
    "- **target**: Presence of heart disease (1 icates no disease."
   ]
  },
  {
   "cell_type": "markdown",
   "id": "4e17e107-2679-4864-ab72-f227940ebe13",
   "metadata": {
    "tags": []
   },
   "source": [
    "### 1.1 Splitting the data into X & y"
   ]
  },
  {
   "cell_type": "code",
   "execution_count": 2,
   "id": "7da27eee-009c-4232-9bcd-a8a238ec5359",
   "metadata": {
    "tags": []
   },
   "outputs": [
    {
     "data": {
      "text/html": [
       "<div>\n",
       "<style scoped>\n",
       "    .dataframe tbody tr th:only-of-type {\n",
       "        vertical-align: middle;\n",
       "    }\n",
       "\n",
       "    .dataframe tbody tr th {\n",
       "        vertical-align: top;\n",
       "    }\n",
       "\n",
       "    .dataframe thead th {\n",
       "        text-align: right;\n",
       "    }\n",
       "</style>\n",
       "<table border=\"1\" class=\"dataframe\">\n",
       "  <thead>\n",
       "    <tr style=\"text-align: right;\">\n",
       "      <th></th>\n",
       "      <th>age</th>\n",
       "      <th>sex</th>\n",
       "      <th>cp</th>\n",
       "      <th>trestbps</th>\n",
       "      <th>chol</th>\n",
       "      <th>fbs</th>\n",
       "      <th>restecg</th>\n",
       "      <th>thalach</th>\n",
       "      <th>exang</th>\n",
       "      <th>oldpeak</th>\n",
       "      <th>slope</th>\n",
       "      <th>ca</th>\n",
       "      <th>thal</th>\n",
       "      <th>target</th>\n",
       "    </tr>\n",
       "  </thead>\n",
       "  <tbody>\n",
       "    <tr>\n",
       "      <th>0</th>\n",
       "      <td>63</td>\n",
       "      <td>1</td>\n",
       "      <td>3</td>\n",
       "      <td>145</td>\n",
       "      <td>233</td>\n",
       "      <td>1</td>\n",
       "      <td>0</td>\n",
       "      <td>150</td>\n",
       "      <td>0</td>\n",
       "      <td>2.3</td>\n",
       "      <td>0</td>\n",
       "      <td>0</td>\n",
       "      <td>1</td>\n",
       "      <td>1</td>\n",
       "    </tr>\n",
       "    <tr>\n",
       "      <th>1</th>\n",
       "      <td>37</td>\n",
       "      <td>1</td>\n",
       "      <td>2</td>\n",
       "      <td>130</td>\n",
       "      <td>250</td>\n",
       "      <td>0</td>\n",
       "      <td>1</td>\n",
       "      <td>187</td>\n",
       "      <td>0</td>\n",
       "      <td>3.5</td>\n",
       "      <td>0</td>\n",
       "      <td>0</td>\n",
       "      <td>2</td>\n",
       "      <td>1</td>\n",
       "    </tr>\n",
       "    <tr>\n",
       "      <th>2</th>\n",
       "      <td>41</td>\n",
       "      <td>0</td>\n",
       "      <td>1</td>\n",
       "      <td>130</td>\n",
       "      <td>204</td>\n",
       "      <td>0</td>\n",
       "      <td>0</td>\n",
       "      <td>172</td>\n",
       "      <td>0</td>\n",
       "      <td>1.4</td>\n",
       "      <td>2</td>\n",
       "      <td>0</td>\n",
       "      <td>2</td>\n",
       "      <td>1</td>\n",
       "    </tr>\n",
       "    <tr>\n",
       "      <th>3</th>\n",
       "      <td>56</td>\n",
       "      <td>1</td>\n",
       "      <td>1</td>\n",
       "      <td>120</td>\n",
       "      <td>236</td>\n",
       "      <td>0</td>\n",
       "      <td>1</td>\n",
       "      <td>178</td>\n",
       "      <td>0</td>\n",
       "      <td>0.8</td>\n",
       "      <td>2</td>\n",
       "      <td>0</td>\n",
       "      <td>2</td>\n",
       "      <td>1</td>\n",
       "    </tr>\n",
       "    <tr>\n",
       "      <th>4</th>\n",
       "      <td>57</td>\n",
       "      <td>0</td>\n",
       "      <td>0</td>\n",
       "      <td>120</td>\n",
       "      <td>354</td>\n",
       "      <td>0</td>\n",
       "      <td>1</td>\n",
       "      <td>163</td>\n",
       "      <td>1</td>\n",
       "      <td>0.6</td>\n",
       "      <td>2</td>\n",
       "      <td>0</td>\n",
       "      <td>2</td>\n",
       "      <td>1</td>\n",
       "    </tr>\n",
       "  </tbody>\n",
       "</table>\n",
       "</div>"
      ],
      "text/plain": [
       "   age  sex  cp  trestbps  chol  fbs  restecg  thalach  exang  oldpeak  slope  \\\n",
       "0   63    1   3       145   233    1        0      150      0      2.3      0   \n",
       "1   37    1   2       130   250    0        1      187      0      3.5      0   \n",
       "2   41    0   1       130   204    0        0      172      0      1.4      2   \n",
       "3   56    1   1       120   236    0        1      178      0      0.8      2   \n",
       "4   57    0   0       120   354    0        1      163      1      0.6      2   \n",
       "\n",
       "   ca  thal  target  \n",
       "0   0     1       1  \n",
       "1   0     2       1  \n",
       "2   0     2       1  \n",
       "3   0     2       1  \n",
       "4   0     2       1  "
      ]
     },
     "execution_count": 2,
     "metadata": {},
     "output_type": "execute_result"
    }
   ],
   "source": [
    "import pandas as pd\n",
    "\n",
    "# Splitting the data into X & y\n",
    "heart_disease = pd.read_csv('data/heart-disease.csv')\n",
    "heart_disease.head()"
   ]
  },
  {
   "cell_type": "code",
   "execution_count": 3,
   "id": "84ca1ce7-cfa2-441a-9fec-00896d061400",
   "metadata": {
    "tags": []
   },
   "outputs": [
    {
     "data": {
      "text/html": [
       "<div>\n",
       "<style scoped>\n",
       "    .dataframe tbody tr th:only-of-type {\n",
       "        vertical-align: middle;\n",
       "    }\n",
       "\n",
       "    .dataframe tbody tr th {\n",
       "        vertical-align: top;\n",
       "    }\n",
       "\n",
       "    .dataframe thead th {\n",
       "        text-align: right;\n",
       "    }\n",
       "</style>\n",
       "<table border=\"1\" class=\"dataframe\">\n",
       "  <thead>\n",
       "    <tr style=\"text-align: right;\">\n",
       "      <th></th>\n",
       "      <th>age</th>\n",
       "      <th>sex</th>\n",
       "      <th>cp</th>\n",
       "      <th>trestbps</th>\n",
       "      <th>chol</th>\n",
       "      <th>fbs</th>\n",
       "      <th>restecg</th>\n",
       "      <th>thalach</th>\n",
       "      <th>exang</th>\n",
       "      <th>oldpeak</th>\n",
       "      <th>slope</th>\n",
       "      <th>ca</th>\n",
       "      <th>thal</th>\n",
       "    </tr>\n",
       "  </thead>\n",
       "  <tbody>\n",
       "    <tr>\n",
       "      <th>0</th>\n",
       "      <td>63</td>\n",
       "      <td>1</td>\n",
       "      <td>3</td>\n",
       "      <td>145</td>\n",
       "      <td>233</td>\n",
       "      <td>1</td>\n",
       "      <td>0</td>\n",
       "      <td>150</td>\n",
       "      <td>0</td>\n",
       "      <td>2.3</td>\n",
       "      <td>0</td>\n",
       "      <td>0</td>\n",
       "      <td>1</td>\n",
       "    </tr>\n",
       "    <tr>\n",
       "      <th>1</th>\n",
       "      <td>37</td>\n",
       "      <td>1</td>\n",
       "      <td>2</td>\n",
       "      <td>130</td>\n",
       "      <td>250</td>\n",
       "      <td>0</td>\n",
       "      <td>1</td>\n",
       "      <td>187</td>\n",
       "      <td>0</td>\n",
       "      <td>3.5</td>\n",
       "      <td>0</td>\n",
       "      <td>0</td>\n",
       "      <td>2</td>\n",
       "    </tr>\n",
       "    <tr>\n",
       "      <th>2</th>\n",
       "      <td>41</td>\n",
       "      <td>0</td>\n",
       "      <td>1</td>\n",
       "      <td>130</td>\n",
       "      <td>204</td>\n",
       "      <td>0</td>\n",
       "      <td>0</td>\n",
       "      <td>172</td>\n",
       "      <td>0</td>\n",
       "      <td>1.4</td>\n",
       "      <td>2</td>\n",
       "      <td>0</td>\n",
       "      <td>2</td>\n",
       "    </tr>\n",
       "    <tr>\n",
       "      <th>3</th>\n",
       "      <td>56</td>\n",
       "      <td>1</td>\n",
       "      <td>1</td>\n",
       "      <td>120</td>\n",
       "      <td>236</td>\n",
       "      <td>0</td>\n",
       "      <td>1</td>\n",
       "      <td>178</td>\n",
       "      <td>0</td>\n",
       "      <td>0.8</td>\n",
       "      <td>2</td>\n",
       "      <td>0</td>\n",
       "      <td>2</td>\n",
       "    </tr>\n",
       "    <tr>\n",
       "      <th>4</th>\n",
       "      <td>57</td>\n",
       "      <td>0</td>\n",
       "      <td>0</td>\n",
       "      <td>120</td>\n",
       "      <td>354</td>\n",
       "      <td>0</td>\n",
       "      <td>1</td>\n",
       "      <td>163</td>\n",
       "      <td>1</td>\n",
       "      <td>0.6</td>\n",
       "      <td>2</td>\n",
       "      <td>0</td>\n",
       "      <td>2</td>\n",
       "    </tr>\n",
       "    <tr>\n",
       "      <th>...</th>\n",
       "      <td>...</td>\n",
       "      <td>...</td>\n",
       "      <td>...</td>\n",
       "      <td>...</td>\n",
       "      <td>...</td>\n",
       "      <td>...</td>\n",
       "      <td>...</td>\n",
       "      <td>...</td>\n",
       "      <td>...</td>\n",
       "      <td>...</td>\n",
       "      <td>...</td>\n",
       "      <td>...</td>\n",
       "      <td>...</td>\n",
       "    </tr>\n",
       "    <tr>\n",
       "      <th>298</th>\n",
       "      <td>57</td>\n",
       "      <td>0</td>\n",
       "      <td>0</td>\n",
       "      <td>140</td>\n",
       "      <td>241</td>\n",
       "      <td>0</td>\n",
       "      <td>1</td>\n",
       "      <td>123</td>\n",
       "      <td>1</td>\n",
       "      <td>0.2</td>\n",
       "      <td>1</td>\n",
       "      <td>0</td>\n",
       "      <td>3</td>\n",
       "    </tr>\n",
       "    <tr>\n",
       "      <th>299</th>\n",
       "      <td>45</td>\n",
       "      <td>1</td>\n",
       "      <td>3</td>\n",
       "      <td>110</td>\n",
       "      <td>264</td>\n",
       "      <td>0</td>\n",
       "      <td>1</td>\n",
       "      <td>132</td>\n",
       "      <td>0</td>\n",
       "      <td>1.2</td>\n",
       "      <td>1</td>\n",
       "      <td>0</td>\n",
       "      <td>3</td>\n",
       "    </tr>\n",
       "    <tr>\n",
       "      <th>300</th>\n",
       "      <td>68</td>\n",
       "      <td>1</td>\n",
       "      <td>0</td>\n",
       "      <td>144</td>\n",
       "      <td>193</td>\n",
       "      <td>1</td>\n",
       "      <td>1</td>\n",
       "      <td>141</td>\n",
       "      <td>0</td>\n",
       "      <td>3.4</td>\n",
       "      <td>1</td>\n",
       "      <td>2</td>\n",
       "      <td>3</td>\n",
       "    </tr>\n",
       "    <tr>\n",
       "      <th>301</th>\n",
       "      <td>57</td>\n",
       "      <td>1</td>\n",
       "      <td>0</td>\n",
       "      <td>130</td>\n",
       "      <td>131</td>\n",
       "      <td>0</td>\n",
       "      <td>1</td>\n",
       "      <td>115</td>\n",
       "      <td>1</td>\n",
       "      <td>1.2</td>\n",
       "      <td>1</td>\n",
       "      <td>1</td>\n",
       "      <td>3</td>\n",
       "    </tr>\n",
       "    <tr>\n",
       "      <th>302</th>\n",
       "      <td>57</td>\n",
       "      <td>0</td>\n",
       "      <td>1</td>\n",
       "      <td>130</td>\n",
       "      <td>236</td>\n",
       "      <td>0</td>\n",
       "      <td>0</td>\n",
       "      <td>174</td>\n",
       "      <td>0</td>\n",
       "      <td>0.0</td>\n",
       "      <td>1</td>\n",
       "      <td>1</td>\n",
       "      <td>2</td>\n",
       "    </tr>\n",
       "  </tbody>\n",
       "</table>\n",
       "<p>303 rows × 13 columns</p>\n",
       "</div>"
      ],
      "text/plain": [
       "     age  sex  cp  trestbps  chol  fbs  restecg  thalach  exang  oldpeak  \\\n",
       "0     63    1   3       145   233    1        0      150      0      2.3   \n",
       "1     37    1   2       130   250    0        1      187      0      3.5   \n",
       "2     41    0   1       130   204    0        0      172      0      1.4   \n",
       "3     56    1   1       120   236    0        1      178      0      0.8   \n",
       "4     57    0   0       120   354    0        1      163      1      0.6   \n",
       "..   ...  ...  ..       ...   ...  ...      ...      ...    ...      ...   \n",
       "298   57    0   0       140   241    0        1      123      1      0.2   \n",
       "299   45    1   3       110   264    0        1      132      0      1.2   \n",
       "300   68    1   0       144   193    1        1      141      0      3.4   \n",
       "301   57    1   0       130   131    0        1      115      1      1.2   \n",
       "302   57    0   1       130   236    0        0      174      0      0.0   \n",
       "\n",
       "     slope  ca  thal  \n",
       "0        0   0     1  \n",
       "1        0   0     2  \n",
       "2        2   0     2  \n",
       "3        2   0     2  \n",
       "4        2   0     2  \n",
       "..     ...  ..   ...  \n",
       "298      1   0     3  \n",
       "299      1   0     3  \n",
       "300      1   2     3  \n",
       "301      1   1     3  \n",
       "302      1   1     2  \n",
       "\n",
       "[303 rows x 13 columns]"
      ]
     },
     "execution_count": 3,
     "metadata": {},
     "output_type": "execute_result"
    }
   ],
   "source": [
    "X = heart_disease.drop('target', axis=1)\n",
    "X"
   ]
  },
  {
   "cell_type": "code",
   "execution_count": 4,
   "id": "be03919b-3157-4fde-bf52-610abdfd6b57",
   "metadata": {
    "tags": []
   },
   "outputs": [
    {
     "data": {
      "text/plain": [
       "0      1\n",
       "1      1\n",
       "2      1\n",
       "3      1\n",
       "4      1\n",
       "      ..\n",
       "298    0\n",
       "299    0\n",
       "300    0\n",
       "301    0\n",
       "302    0\n",
       "Name: target, Length: 303, dtype: int64"
      ]
     },
     "execution_count": 4,
     "metadata": {},
     "output_type": "execute_result"
    }
   ],
   "source": [
    "y = heart_disease['target']\n",
    "y"
   ]
  },
  {
   "cell_type": "code",
   "execution_count": 5,
   "id": "5dd5eb70-5e3f-4954-9700-d2ba1bcfabd6",
   "metadata": {
    "tags": []
   },
   "outputs": [
    {
     "data": {
      "text/plain": [
       "((242, 13), (61, 13), (242,), (61,))"
      ]
     },
     "execution_count": 5,
     "metadata": {},
     "output_type": "execute_result"
    }
   ],
   "source": [
    "# Splitting the data into training and test sets\n",
    "from sklearn.model_selection import train_test_split\n",
    "X_train, X_test, y_train, y_test = train_test_split(X, \n",
    "                                                    y, \n",
    "                                                    test_size=0.2) # you can change the test size\n",
    "\n",
    "X_train.shape, X_test.shape, y_train.shape, y_test.shape"
   ]
  },
  {
   "cell_type": "code",
   "execution_count": 6,
   "id": "7f3728c1-4642-4795-9ab0-78c3288997f6",
   "metadata": {
    "tags": []
   },
   "outputs": [
    {
     "data": {
      "text/plain": [
       "242.4"
      ]
     },
     "execution_count": 6,
     "metadata": {},
     "output_type": "execute_result"
    }
   ],
   "source": [
    "# 80% of data is being used for the test set \n",
    "X.shape[0] * 0.8"
   ]
  },
  {
   "cell_type": "markdown",
   "id": "b10a479e-22e4-4719-91e8-0a0721297363",
   "metadata": {},
   "source": [
    "### 1.2 Make sure it's all numerical\n",
    "\n",
    "#### Car Sales Extended Dataset\n",
    "\n",
    "#### Attributes:\n",
    "\n",
    "- **Make**: The brand or manufacturer of the car (e.g., Honda, BMW).\n",
    "- **Colour**: The color of the car (e.g., White, Blue).\n",
    "- **Odometer (KM)**: The distance (in kilometers) that the car has traveled.\n",
    "- **Doors**: The number of doors the car has.\n",
    "- **Price**: The sale price of the car.\n",
    "\n",
    "We want to turn the `\"Make\"` and `\"Colour\"` columns into numbers.\n",
    "\n"
   ]
  },
  {
   "cell_type": "code",
   "execution_count": 7,
   "id": "41b9d675-eafa-400b-a8ff-81e8f004d255",
   "metadata": {
    "tags": []
   },
   "outputs": [
    {
     "data": {
      "text/html": [
       "<div>\n",
       "<style scoped>\n",
       "    .dataframe tbody tr th:only-of-type {\n",
       "        vertical-align: middle;\n",
       "    }\n",
       "\n",
       "    .dataframe tbody tr th {\n",
       "        vertical-align: top;\n",
       "    }\n",
       "\n",
       "    .dataframe thead th {\n",
       "        text-align: right;\n",
       "    }\n",
       "</style>\n",
       "<table border=\"1\" class=\"dataframe\">\n",
       "  <thead>\n",
       "    <tr style=\"text-align: right;\">\n",
       "      <th></th>\n",
       "      <th>Make</th>\n",
       "      <th>Colour</th>\n",
       "      <th>Odometer (KM)</th>\n",
       "      <th>Doors</th>\n",
       "      <th>Price</th>\n",
       "    </tr>\n",
       "  </thead>\n",
       "  <tbody>\n",
       "    <tr>\n",
       "      <th>0</th>\n",
       "      <td>Honda</td>\n",
       "      <td>White</td>\n",
       "      <td>35431</td>\n",
       "      <td>4</td>\n",
       "      <td>15323</td>\n",
       "    </tr>\n",
       "    <tr>\n",
       "      <th>1</th>\n",
       "      <td>BMW</td>\n",
       "      <td>Blue</td>\n",
       "      <td>192714</td>\n",
       "      <td>5</td>\n",
       "      <td>19943</td>\n",
       "    </tr>\n",
       "    <tr>\n",
       "      <th>2</th>\n",
       "      <td>Honda</td>\n",
       "      <td>White</td>\n",
       "      <td>84714</td>\n",
       "      <td>4</td>\n",
       "      <td>28343</td>\n",
       "    </tr>\n",
       "    <tr>\n",
       "      <th>3</th>\n",
       "      <td>Toyota</td>\n",
       "      <td>White</td>\n",
       "      <td>154365</td>\n",
       "      <td>4</td>\n",
       "      <td>13434</td>\n",
       "    </tr>\n",
       "    <tr>\n",
       "      <th>4</th>\n",
       "      <td>Nissan</td>\n",
       "      <td>Blue</td>\n",
       "      <td>181577</td>\n",
       "      <td>3</td>\n",
       "      <td>14043</td>\n",
       "    </tr>\n",
       "    <tr>\n",
       "      <th>...</th>\n",
       "      <td>...</td>\n",
       "      <td>...</td>\n",
       "      <td>...</td>\n",
       "      <td>...</td>\n",
       "      <td>...</td>\n",
       "    </tr>\n",
       "    <tr>\n",
       "      <th>995</th>\n",
       "      <td>Toyota</td>\n",
       "      <td>Black</td>\n",
       "      <td>35820</td>\n",
       "      <td>4</td>\n",
       "      <td>32042</td>\n",
       "    </tr>\n",
       "    <tr>\n",
       "      <th>996</th>\n",
       "      <td>Nissan</td>\n",
       "      <td>White</td>\n",
       "      <td>155144</td>\n",
       "      <td>3</td>\n",
       "      <td>5716</td>\n",
       "    </tr>\n",
       "    <tr>\n",
       "      <th>997</th>\n",
       "      <td>Nissan</td>\n",
       "      <td>Blue</td>\n",
       "      <td>66604</td>\n",
       "      <td>4</td>\n",
       "      <td>31570</td>\n",
       "    </tr>\n",
       "    <tr>\n",
       "      <th>998</th>\n",
       "      <td>Honda</td>\n",
       "      <td>White</td>\n",
       "      <td>215883</td>\n",
       "      <td>4</td>\n",
       "      <td>4001</td>\n",
       "    </tr>\n",
       "    <tr>\n",
       "      <th>999</th>\n",
       "      <td>Toyota</td>\n",
       "      <td>Blue</td>\n",
       "      <td>248360</td>\n",
       "      <td>4</td>\n",
       "      <td>12732</td>\n",
       "    </tr>\n",
       "  </tbody>\n",
       "</table>\n",
       "<p>1000 rows × 5 columns</p>\n",
       "</div>"
      ],
      "text/plain": [
       "       Make Colour  Odometer (KM)  Doors  Price\n",
       "0     Honda  White          35431      4  15323\n",
       "1       BMW   Blue         192714      5  19943\n",
       "2     Honda  White          84714      4  28343\n",
       "3    Toyota  White         154365      4  13434\n",
       "4    Nissan   Blue         181577      3  14043\n",
       "..      ...    ...            ...    ...    ...\n",
       "995  Toyota  Black          35820      4  32042\n",
       "996  Nissan  White         155144      3   5716\n",
       "997  Nissan   Blue          66604      4  31570\n",
       "998   Honda  White         215883      4   4001\n",
       "999  Toyota   Blue         248360      4  12732\n",
       "\n",
       "[1000 rows x 5 columns]"
      ]
     },
     "execution_count": 7,
     "metadata": {},
     "output_type": "execute_result"
    }
   ],
   "source": [
    "# Import car-sales-extended.csv\n",
    "car_sales = pd.read_csv(\"data/car-sales-extended.csv\")\n",
    "car_sales"
   ]
  },
  {
   "cell_type": "code",
   "execution_count": 8,
   "id": "11c87789-650d-4e62-88c9-348b0559ef58",
   "metadata": {
    "tags": []
   },
   "outputs": [
    {
     "data": {
      "text/plain": [
       "Make             object\n",
       "Colour           object\n",
       "Odometer (KM)     int64\n",
       "Doors             int64\n",
       "Price             int64\n",
       "dtype: object"
      ]
     },
     "execution_count": 8,
     "metadata": {},
     "output_type": "execute_result"
    }
   ],
   "source": [
    "car_sales.dtypes"
   ]
  },
  {
   "cell_type": "code",
   "execution_count": 9,
   "id": "fd883f47-3fae-4625-8552-609fdf1f1727",
   "metadata": {
    "tags": []
   },
   "outputs": [],
   "source": [
    "# Split into X & y and train/test\n",
    "X = car_sales.drop(\"Price\", axis=1)\n",
    "y = car_sales[\"Price\"]\n",
    "\n",
    "X_train, X_test, y_train, y_test = train_test_split(X, y, test_size=0.2)"
   ]
  },
  {
   "cell_type": "markdown",
   "id": "174becce-a621-44a4-935f-ab87394f62a9",
   "metadata": {},
   "source": [
    "Now let's try and build a model on our `car_sales` data."
   ]
  },
  {
   "cell_type": "code",
   "execution_count": 10,
   "id": "cd14219e-3de5-4f73-8621-9d005d3d7b9c",
   "metadata": {
    "tags": []
   },
   "outputs": [
    {
     "ename": "ValueError",
     "evalue": "could not convert string to float: 'Nissan'",
     "output_type": "error",
     "traceback": [
      "\u001b[0;31m---------------------------------------------------------------------------\u001b[0m",
      "\u001b[0;31mValueError\u001b[0m                                Traceback (most recent call last)",
      "\u001b[0;32m/tmp/ipykernel_394/1044518071.py\u001b[0m in \u001b[0;36m?\u001b[0;34m()\u001b[0m\n\u001b[1;32m      1\u001b[0m \u001b[0;31m# Try to predict with random forest on price column (doesn't work)\u001b[0m\u001b[0;34m\u001b[0m\u001b[0;34m\u001b[0m\u001b[0m\n\u001b[1;32m      2\u001b[0m \u001b[0;32mfrom\u001b[0m \u001b[0msklearn\u001b[0m\u001b[0;34m.\u001b[0m\u001b[0mensemble\u001b[0m \u001b[0;32mimport\u001b[0m \u001b[0mRandomForestRegressor\u001b[0m\u001b[0;34m\u001b[0m\u001b[0;34m\u001b[0m\u001b[0m\n\u001b[1;32m      3\u001b[0m \u001b[0;34m\u001b[0m\u001b[0m\n\u001b[1;32m      4\u001b[0m \u001b[0mmodel\u001b[0m \u001b[0;34m=\u001b[0m \u001b[0mRandomForestRegressor\u001b[0m\u001b[0;34m(\u001b[0m\u001b[0;34m)\u001b[0m\u001b[0;34m\u001b[0m\u001b[0;34m\u001b[0m\u001b[0m\n\u001b[0;32m----> 5\u001b[0;31m \u001b[0mmodel\u001b[0m\u001b[0;34m.\u001b[0m\u001b[0mfit\u001b[0m\u001b[0;34m(\u001b[0m\u001b[0mX_train\u001b[0m\u001b[0;34m,\u001b[0m \u001b[0my_train\u001b[0m\u001b[0;34m)\u001b[0m\u001b[0;34m\u001b[0m\u001b[0;34m\u001b[0m\u001b[0m\n\u001b[0m\u001b[1;32m      6\u001b[0m \u001b[0mmodel\u001b[0m\u001b[0;34m.\u001b[0m\u001b[0mscore\u001b[0m\u001b[0;34m(\u001b[0m\u001b[0mX_test\u001b[0m\u001b[0;34m,\u001b[0m \u001b[0my_test\u001b[0m\u001b[0;34m)\u001b[0m\u001b[0;34m\u001b[0m\u001b[0;34m\u001b[0m\u001b[0m\n",
      "\u001b[0;32m/usr/local/lib/python3.10/dist-packages/sklearn/ensemble/_forest.py\u001b[0m in \u001b[0;36m?\u001b[0;34m(self, X, y, sample_weight)\u001b[0m\n\u001b[1;32m    342\u001b[0m \u001b[0;34m\u001b[0m\u001b[0m\n\u001b[1;32m    343\u001b[0m         \u001b[0;31m# Validate or convert input data\u001b[0m\u001b[0;34m\u001b[0m\u001b[0;34m\u001b[0m\u001b[0m\n\u001b[1;32m    344\u001b[0m         \u001b[0;32mif\u001b[0m \u001b[0missparse\u001b[0m\u001b[0;34m(\u001b[0m\u001b[0my\u001b[0m\u001b[0;34m)\u001b[0m\u001b[0;34m:\u001b[0m\u001b[0;34m\u001b[0m\u001b[0;34m\u001b[0m\u001b[0m\n\u001b[1;32m    345\u001b[0m             \u001b[0;32mraise\u001b[0m \u001b[0mValueError\u001b[0m\u001b[0;34m(\u001b[0m\u001b[0;34m\"sparse multilabel-indicator for y is not supported.\"\u001b[0m\u001b[0;34m)\u001b[0m\u001b[0;34m\u001b[0m\u001b[0;34m\u001b[0m\u001b[0m\n\u001b[0;32m--> 346\u001b[0;31m         X, y = self._validate_data(\n\u001b[0m\u001b[1;32m    347\u001b[0m             \u001b[0mX\u001b[0m\u001b[0;34m,\u001b[0m \u001b[0my\u001b[0m\u001b[0;34m,\u001b[0m \u001b[0mmulti_output\u001b[0m\u001b[0;34m=\u001b[0m\u001b[0;32mTrue\u001b[0m\u001b[0;34m,\u001b[0m \u001b[0maccept_sparse\u001b[0m\u001b[0;34m=\u001b[0m\u001b[0;34m\"csc\"\u001b[0m\u001b[0;34m,\u001b[0m \u001b[0mdtype\u001b[0m\u001b[0;34m=\u001b[0m\u001b[0mDTYPE\u001b[0m\u001b[0;34m\u001b[0m\u001b[0;34m\u001b[0m\u001b[0m\n\u001b[1;32m    348\u001b[0m         )\n\u001b[1;32m    349\u001b[0m         \u001b[0;32mif\u001b[0m \u001b[0msample_weight\u001b[0m \u001b[0;32mis\u001b[0m \u001b[0;32mnot\u001b[0m \u001b[0;32mNone\u001b[0m\u001b[0;34m:\u001b[0m\u001b[0;34m\u001b[0m\u001b[0;34m\u001b[0m\u001b[0m\n",
      "\u001b[0;32m/usr/local/lib/python3.10/dist-packages/sklearn/base.py\u001b[0m in \u001b[0;36m?\u001b[0;34m(self, X, y, reset, validate_separately, **check_params)\u001b[0m\n\u001b[1;32m    550\u001b[0m                 \u001b[0;32mif\u001b[0m \u001b[0;34m\"estimator\"\u001b[0m \u001b[0;32mnot\u001b[0m \u001b[0;32min\u001b[0m \u001b[0mcheck_y_params\u001b[0m\u001b[0;34m:\u001b[0m\u001b[0;34m\u001b[0m\u001b[0;34m\u001b[0m\u001b[0m\n\u001b[1;32m    551\u001b[0m                     \u001b[0mcheck_y_params\u001b[0m \u001b[0;34m=\u001b[0m \u001b[0;34m{\u001b[0m\u001b[0;34m**\u001b[0m\u001b[0mdefault_check_params\u001b[0m\u001b[0;34m,\u001b[0m \u001b[0;34m**\u001b[0m\u001b[0mcheck_y_params\u001b[0m\u001b[0;34m}\u001b[0m\u001b[0;34m\u001b[0m\u001b[0;34m\u001b[0m\u001b[0m\n\u001b[1;32m    552\u001b[0m                 \u001b[0my\u001b[0m \u001b[0;34m=\u001b[0m \u001b[0mcheck_array\u001b[0m\u001b[0;34m(\u001b[0m\u001b[0my\u001b[0m\u001b[0;34m,\u001b[0m \u001b[0minput_name\u001b[0m\u001b[0;34m=\u001b[0m\u001b[0;34m\"y\"\u001b[0m\u001b[0;34m,\u001b[0m \u001b[0;34m**\u001b[0m\u001b[0mcheck_y_params\u001b[0m\u001b[0;34m)\u001b[0m\u001b[0;34m\u001b[0m\u001b[0;34m\u001b[0m\u001b[0m\n\u001b[1;32m    553\u001b[0m             \u001b[0;32melse\u001b[0m\u001b[0;34m:\u001b[0m\u001b[0;34m\u001b[0m\u001b[0;34m\u001b[0m\u001b[0m\n\u001b[0;32m--> 554\u001b[0;31m                 \u001b[0mX\u001b[0m\u001b[0;34m,\u001b[0m \u001b[0my\u001b[0m \u001b[0;34m=\u001b[0m \u001b[0mcheck_X_y\u001b[0m\u001b[0;34m(\u001b[0m\u001b[0mX\u001b[0m\u001b[0;34m,\u001b[0m \u001b[0my\u001b[0m\u001b[0;34m,\u001b[0m \u001b[0;34m**\u001b[0m\u001b[0mcheck_params\u001b[0m\u001b[0;34m)\u001b[0m\u001b[0;34m\u001b[0m\u001b[0;34m\u001b[0m\u001b[0m\n\u001b[0m\u001b[1;32m    555\u001b[0m             \u001b[0mout\u001b[0m \u001b[0;34m=\u001b[0m \u001b[0mX\u001b[0m\u001b[0;34m,\u001b[0m \u001b[0my\u001b[0m\u001b[0;34m\u001b[0m\u001b[0;34m\u001b[0m\u001b[0m\n\u001b[1;32m    556\u001b[0m \u001b[0;34m\u001b[0m\u001b[0m\n\u001b[1;32m    557\u001b[0m         \u001b[0;32mif\u001b[0m \u001b[0;32mnot\u001b[0m \u001b[0mno_val_X\u001b[0m \u001b[0;32mand\u001b[0m \u001b[0mcheck_params\u001b[0m\u001b[0;34m.\u001b[0m\u001b[0mget\u001b[0m\u001b[0;34m(\u001b[0m\u001b[0;34m\"ensure_2d\"\u001b[0m\u001b[0;34m,\u001b[0m \u001b[0;32mTrue\u001b[0m\u001b[0;34m)\u001b[0m\u001b[0;34m:\u001b[0m\u001b[0;34m\u001b[0m\u001b[0;34m\u001b[0m\u001b[0m\n",
      "\u001b[0;32m/usr/local/lib/python3.10/dist-packages/sklearn/utils/validation.py\u001b[0m in \u001b[0;36m?\u001b[0;34m(X, y, accept_sparse, accept_large_sparse, dtype, order, copy, force_all_finite, ensure_2d, allow_nd, multi_output, ensure_min_samples, ensure_min_features, y_numeric, estimator)\u001b[0m\n\u001b[1;32m   1100\u001b[0m         raise ValueError(\n\u001b[1;32m   1101\u001b[0m             \u001b[0;34mf\"{estimator_name} requires y to be passed, but the target y is None\"\u001b[0m\u001b[0;34m\u001b[0m\u001b[0;34m\u001b[0m\u001b[0m\n\u001b[1;32m   1102\u001b[0m         )\n\u001b[1;32m   1103\u001b[0m \u001b[0;34m\u001b[0m\u001b[0m\n\u001b[0;32m-> 1104\u001b[0;31m     X = check_array(\n\u001b[0m\u001b[1;32m   1105\u001b[0m         \u001b[0mX\u001b[0m\u001b[0;34m,\u001b[0m\u001b[0;34m\u001b[0m\u001b[0;34m\u001b[0m\u001b[0m\n\u001b[1;32m   1106\u001b[0m         \u001b[0maccept_sparse\u001b[0m\u001b[0;34m=\u001b[0m\u001b[0maccept_sparse\u001b[0m\u001b[0;34m,\u001b[0m\u001b[0;34m\u001b[0m\u001b[0;34m\u001b[0m\u001b[0m\n\u001b[1;32m   1107\u001b[0m         \u001b[0maccept_large_sparse\u001b[0m\u001b[0;34m=\u001b[0m\u001b[0maccept_large_sparse\u001b[0m\u001b[0;34m,\u001b[0m\u001b[0;34m\u001b[0m\u001b[0;34m\u001b[0m\u001b[0m\n",
      "\u001b[0;32m/usr/local/lib/python3.10/dist-packages/sklearn/utils/validation.py\u001b[0m in \u001b[0;36m?\u001b[0;34m(array, accept_sparse, accept_large_sparse, dtype, order, copy, force_all_finite, ensure_2d, allow_nd, ensure_min_samples, ensure_min_features, estimator, input_name)\u001b[0m\n\u001b[1;32m    874\u001b[0m                         )\n\u001b[1;32m    875\u001b[0m                     \u001b[0marray\u001b[0m \u001b[0;34m=\u001b[0m \u001b[0mxp\u001b[0m\u001b[0;34m.\u001b[0m\u001b[0mastype\u001b[0m\u001b[0;34m(\u001b[0m\u001b[0marray\u001b[0m\u001b[0;34m,\u001b[0m \u001b[0mdtype\u001b[0m\u001b[0;34m,\u001b[0m \u001b[0mcopy\u001b[0m\u001b[0;34m=\u001b[0m\u001b[0;32mFalse\u001b[0m\u001b[0;34m)\u001b[0m\u001b[0;34m\u001b[0m\u001b[0;34m\u001b[0m\u001b[0m\n\u001b[1;32m    876\u001b[0m                 \u001b[0;32melse\u001b[0m\u001b[0;34m:\u001b[0m\u001b[0;34m\u001b[0m\u001b[0;34m\u001b[0m\u001b[0m\n\u001b[1;32m    877\u001b[0m                     \u001b[0marray\u001b[0m \u001b[0;34m=\u001b[0m \u001b[0m_asarray_with_order\u001b[0m\u001b[0;34m(\u001b[0m\u001b[0marray\u001b[0m\u001b[0;34m,\u001b[0m \u001b[0morder\u001b[0m\u001b[0;34m=\u001b[0m\u001b[0morder\u001b[0m\u001b[0;34m,\u001b[0m \u001b[0mdtype\u001b[0m\u001b[0;34m=\u001b[0m\u001b[0mdtype\u001b[0m\u001b[0;34m,\u001b[0m \u001b[0mxp\u001b[0m\u001b[0;34m=\u001b[0m\u001b[0mxp\u001b[0m\u001b[0;34m)\u001b[0m\u001b[0;34m\u001b[0m\u001b[0;34m\u001b[0m\u001b[0m\n\u001b[0;32m--> 878\u001b[0;31m             \u001b[0;32mexcept\u001b[0m \u001b[0mComplexWarning\u001b[0m \u001b[0;32mas\u001b[0m \u001b[0mcomplex_warning\u001b[0m\u001b[0;34m:\u001b[0m\u001b[0;34m\u001b[0m\u001b[0;34m\u001b[0m\u001b[0m\n\u001b[0m\u001b[1;32m    879\u001b[0m                 raise ValueError(\n\u001b[1;32m    880\u001b[0m                     \u001b[0;34m\"Complex data not supported\\n{}\\n\"\u001b[0m\u001b[0;34m.\u001b[0m\u001b[0mformat\u001b[0m\u001b[0;34m(\u001b[0m\u001b[0marray\u001b[0m\u001b[0;34m)\u001b[0m\u001b[0;34m\u001b[0m\u001b[0;34m\u001b[0m\u001b[0m\n\u001b[1;32m    881\u001b[0m                 ) from complex_warning\n",
      "\u001b[0;32m/usr/local/lib/python3.10/dist-packages/sklearn/utils/_array_api.py\u001b[0m in \u001b[0;36m?\u001b[0;34m(array, dtype, order, copy, xp)\u001b[0m\n\u001b[1;32m    181\u001b[0m     \u001b[0;32mif\u001b[0m \u001b[0mxp\u001b[0m \u001b[0;32mis\u001b[0m \u001b[0;32mNone\u001b[0m\u001b[0;34m:\u001b[0m\u001b[0;34m\u001b[0m\u001b[0;34m\u001b[0m\u001b[0m\n\u001b[1;32m    182\u001b[0m         \u001b[0mxp\u001b[0m\u001b[0;34m,\u001b[0m \u001b[0m_\u001b[0m \u001b[0;34m=\u001b[0m \u001b[0mget_namespace\u001b[0m\u001b[0;34m(\u001b[0m\u001b[0marray\u001b[0m\u001b[0;34m)\u001b[0m\u001b[0;34m\u001b[0m\u001b[0;34m\u001b[0m\u001b[0m\n\u001b[1;32m    183\u001b[0m     \u001b[0;32mif\u001b[0m \u001b[0mxp\u001b[0m\u001b[0;34m.\u001b[0m\u001b[0m__name__\u001b[0m \u001b[0;32min\u001b[0m \u001b[0;34m{\u001b[0m\u001b[0;34m\"numpy\"\u001b[0m\u001b[0;34m,\u001b[0m \u001b[0;34m\"numpy.array_api\"\u001b[0m\u001b[0;34m}\u001b[0m\u001b[0;34m:\u001b[0m\u001b[0;34m\u001b[0m\u001b[0;34m\u001b[0m\u001b[0m\n\u001b[1;32m    184\u001b[0m         \u001b[0;31m# Use NumPy API to support order\u001b[0m\u001b[0;34m\u001b[0m\u001b[0;34m\u001b[0m\u001b[0m\n\u001b[0;32m--> 185\u001b[0;31m         \u001b[0marray\u001b[0m \u001b[0;34m=\u001b[0m \u001b[0mnumpy\u001b[0m\u001b[0;34m.\u001b[0m\u001b[0masarray\u001b[0m\u001b[0;34m(\u001b[0m\u001b[0marray\u001b[0m\u001b[0;34m,\u001b[0m \u001b[0morder\u001b[0m\u001b[0;34m=\u001b[0m\u001b[0morder\u001b[0m\u001b[0;34m,\u001b[0m \u001b[0mdtype\u001b[0m\u001b[0;34m=\u001b[0m\u001b[0mdtype\u001b[0m\u001b[0;34m)\u001b[0m\u001b[0;34m\u001b[0m\u001b[0;34m\u001b[0m\u001b[0m\n\u001b[0m\u001b[1;32m    186\u001b[0m         \u001b[0;32mreturn\u001b[0m \u001b[0mxp\u001b[0m\u001b[0;34m.\u001b[0m\u001b[0masarray\u001b[0m\u001b[0;34m(\u001b[0m\u001b[0marray\u001b[0m\u001b[0;34m,\u001b[0m \u001b[0mcopy\u001b[0m\u001b[0;34m=\u001b[0m\u001b[0mcopy\u001b[0m\u001b[0;34m)\u001b[0m\u001b[0;34m\u001b[0m\u001b[0;34m\u001b[0m\u001b[0m\n\u001b[1;32m    187\u001b[0m     \u001b[0;32melse\u001b[0m\u001b[0;34m:\u001b[0m\u001b[0;34m\u001b[0m\u001b[0;34m\u001b[0m\u001b[0m\n\u001b[1;32m    188\u001b[0m         \u001b[0;32mreturn\u001b[0m \u001b[0mxp\u001b[0m\u001b[0;34m.\u001b[0m\u001b[0masarray\u001b[0m\u001b[0;34m(\u001b[0m\u001b[0marray\u001b[0m\u001b[0;34m,\u001b[0m \u001b[0mdtype\u001b[0m\u001b[0;34m=\u001b[0m\u001b[0mdtype\u001b[0m\u001b[0;34m,\u001b[0m \u001b[0mcopy\u001b[0m\u001b[0;34m=\u001b[0m\u001b[0mcopy\u001b[0m\u001b[0;34m)\u001b[0m\u001b[0;34m\u001b[0m\u001b[0;34m\u001b[0m\u001b[0m\n",
      "\u001b[0;32m/usr/local/lib/python3.10/dist-packages/pandas/core/generic.py\u001b[0m in \u001b[0;36m?\u001b[0;34m(self, dtype)\u001b[0m\n\u001b[1;32m   2069\u001b[0m     \u001b[0;32mdef\u001b[0m \u001b[0m__array__\u001b[0m\u001b[0;34m(\u001b[0m\u001b[0mself\u001b[0m\u001b[0;34m,\u001b[0m \u001b[0mdtype\u001b[0m\u001b[0;34m:\u001b[0m \u001b[0mnpt\u001b[0m\u001b[0;34m.\u001b[0m\u001b[0mDTypeLike\u001b[0m \u001b[0;34m|\u001b[0m \u001b[0;32mNone\u001b[0m \u001b[0;34m=\u001b[0m \u001b[0;32mNone\u001b[0m\u001b[0;34m)\u001b[0m \u001b[0;34m->\u001b[0m \u001b[0mnp\u001b[0m\u001b[0;34m.\u001b[0m\u001b[0mndarray\u001b[0m\u001b[0;34m:\u001b[0m\u001b[0;34m\u001b[0m\u001b[0;34m\u001b[0m\u001b[0m\n\u001b[0;32m-> 2070\u001b[0;31m         \u001b[0;32mreturn\u001b[0m \u001b[0mnp\u001b[0m\u001b[0;34m.\u001b[0m\u001b[0masarray\u001b[0m\u001b[0;34m(\u001b[0m\u001b[0mself\u001b[0m\u001b[0;34m.\u001b[0m\u001b[0m_values\u001b[0m\u001b[0;34m,\u001b[0m \u001b[0mdtype\u001b[0m\u001b[0;34m=\u001b[0m\u001b[0mdtype\u001b[0m\u001b[0;34m)\u001b[0m\u001b[0;34m\u001b[0m\u001b[0;34m\u001b[0m\u001b[0m\n\u001b[0m",
      "\u001b[0;31mValueError\u001b[0m: could not convert string to float: 'Nissan'"
     ]
    }
   ],
   "source": [
    "# Try to predict with random forest on price column (doesn't work)\n",
    "from sklearn.ensemble import RandomForestRegressor\n",
    "\n",
    "model = RandomForestRegressor()\n",
    "model.fit(X_train, y_train)\n",
    "model.score(X_test, y_test)"
   ]
  },
  {
   "cell_type": "markdown",
   "id": "1b57b690-abcd-4345-b8fa-994574b07975",
   "metadata": {},
   "source": [
    "Oops... this doesn't work, we'll have to convert it to numbers first."
   ]
  },
  {
   "cell_type": "code",
   "execution_count": null,
   "id": "134728dc-b0cb-483a-afcc-7a46c5c238a7",
   "metadata": {
    "tags": []
   },
   "outputs": [],
   "source": [
    "car_sales.head()"
   ]
  },
  {
   "cell_type": "code",
   "execution_count": 11,
   "id": "c3b3cbbc-3a18-4b41-b179-a0bdbcc33ea8",
   "metadata": {},
   "outputs": [
    {
     "data": {
      "text/plain": [
       "Toyota    398\n",
       "Honda     304\n",
       "Nissan    198\n",
       "BMW       100\n",
       "Name: Make, dtype: int64"
      ]
     },
     "execution_count": 11,
     "metadata": {},
     "output_type": "execute_result"
    }
   ],
   "source": [
    "car_sales[\"Make\"].value_counts()"
   ]
  },
  {
   "cell_type": "code",
   "execution_count": 12,
   "id": "0dc2ccb2-29a3-4859-a28a-2ea8a475e2d7",
   "metadata": {},
   "outputs": [
    {
     "data": {
      "text/plain": [
       "White    407\n",
       "Blue     321\n",
       "Black     99\n",
       "Red       94\n",
       "Green     79\n",
       "Name: Colour, dtype: int64"
      ]
     },
     "execution_count": 12,
     "metadata": {},
     "output_type": "execute_result"
    }
   ],
   "source": [
    "car_sales[\"Colour\"].value_counts()"
   ]
  },
  {
   "cell_type": "code",
   "execution_count": 13,
   "id": "b373efef-deb1-417e-8443-764a0e96907c",
   "metadata": {
    "tags": []
   },
   "outputs": [
    {
     "data": {
      "text/plain": [
       "4    856\n",
       "5     79\n",
       "3     65\n",
       "Name: Doors, dtype: int64"
      ]
     },
     "execution_count": 13,
     "metadata": {},
     "output_type": "execute_result"
    }
   ],
   "source": [
    "car_sales[\"Doors\"].value_counts()"
   ]
  },
  {
   "cell_type": "code",
   "execution_count": 14,
   "id": "59af6c44-abe7-4113-b68b-28624ee1a08d",
   "metadata": {
    "tags": []
   },
   "outputs": [
    {
     "data": {
      "text/plain": [
       "array([[0.00000e+00, 1.00000e+00, 0.00000e+00, ..., 1.00000e+00,\n",
       "        0.00000e+00, 3.54310e+04],\n",
       "       [1.00000e+00, 0.00000e+00, 0.00000e+00, ..., 0.00000e+00,\n",
       "        1.00000e+00, 1.92714e+05],\n",
       "       [0.00000e+00, 1.00000e+00, 0.00000e+00, ..., 1.00000e+00,\n",
       "        0.00000e+00, 8.47140e+04],\n",
       "       ...,\n",
       "       [0.00000e+00, 0.00000e+00, 1.00000e+00, ..., 1.00000e+00,\n",
       "        0.00000e+00, 6.66040e+04],\n",
       "       [0.00000e+00, 1.00000e+00, 0.00000e+00, ..., 1.00000e+00,\n",
       "        0.00000e+00, 2.15883e+05],\n",
       "       [0.00000e+00, 0.00000e+00, 0.00000e+00, ..., 1.00000e+00,\n",
       "        0.00000e+00, 2.48360e+05]])"
      ]
     },
     "execution_count": 14,
     "metadata": {},
     "output_type": "execute_result"
    }
   ],
   "source": [
    "# Turn the categories (Make and Colour) into numbers\n",
    "from sklearn.preprocessing import OneHotEncoder\n",
    "from sklearn.compose import ColumnTransformer\n",
    "\n",
    "categorical_features = [\"Make\", \"Colour\", \"Doors\"]\n",
    "one_hot = OneHotEncoder()\n",
    "transformer = ColumnTransformer([(\"one_hot\", \n",
    "                                 one_hot, \n",
    "                                 categorical_features)],\n",
    "                                 remainder=\"passthrough\")\n",
    "transformed_X = transformer.fit_transform(X)\n",
    "transformed_X"
   ]
  },
  {
   "cell_type": "code",
   "execution_count": 15,
   "id": "bd1b2f3c-c59b-43a5-9a0c-9e4b827e6003",
   "metadata": {
    "tags": []
   },
   "outputs": [
    {
     "data": {
      "text/plain": [
       "(     Make Colour  Odometer (KM)  Doors\n",
       " 0   Honda  White          35431      4\n",
       " 1     BMW   Blue         192714      5\n",
       " 2   Honda  White          84714      4\n",
       " 3  Toyota  White         154365      4\n",
       " 4  Nissan   Blue         181577      3,\n",
       "     0    1    2    3    4    5    6    7    8    9    10   11        12\n",
       " 0  0.0  1.0  0.0  0.0  0.0  0.0  0.0  0.0  1.0  0.0  1.0  0.0   35431.0\n",
       " 1  1.0  0.0  0.0  0.0  0.0  1.0  0.0  0.0  0.0  0.0  0.0  1.0  192714.0\n",
       " 2  0.0  1.0  0.0  0.0  0.0  0.0  0.0  0.0  1.0  0.0  1.0  0.0   84714.0\n",
       " 3  0.0  0.0  0.0  1.0  0.0  0.0  0.0  0.0  1.0  0.0  1.0  0.0  154365.0\n",
       " 4  0.0  0.0  1.0  0.0  0.0  1.0  0.0  0.0  0.0  1.0  0.0  0.0  181577.0)"
      ]
     },
     "execution_count": 15,
     "metadata": {},
     "output_type": "execute_result"
    }
   ],
   "source": [
    "X.head(), pd.DataFrame(transformed_X).head()"
   ]
  },
  {
   "cell_type": "markdown",
   "id": "dc3c2836-e344-4472-982a-02ebf262e0d4",
   "metadata": {
    "tags": []
   },
   "source": [
    "<img src=\"images/one_hot_encoder.png\" alt=\"a 6 step scikit-learn workflow\" width=\"800\" />"
   ]
  },
  {
   "cell_type": "markdown",
   "id": "0bd4a1b8-32e9-4630-a047-a6c1c7292627",
   "metadata": {},
   "source": [
    "### 1.1.1 With pandas"
   ]
  },
  {
   "cell_type": "code",
   "execution_count": 16,
   "id": "b9356604-b957-4b5d-a07b-642fe3cf86ab",
   "metadata": {
    "tags": []
   },
   "outputs": [
    {
     "data": {
      "text/html": [
       "<div>\n",
       "<style scoped>\n",
       "    .dataframe tbody tr th:only-of-type {\n",
       "        vertical-align: middle;\n",
       "    }\n",
       "\n",
       "    .dataframe tbody tr th {\n",
       "        vertical-align: top;\n",
       "    }\n",
       "\n",
       "    .dataframe thead th {\n",
       "        text-align: right;\n",
       "    }\n",
       "</style>\n",
       "<table border=\"1\" class=\"dataframe\">\n",
       "  <thead>\n",
       "    <tr style=\"text-align: right;\">\n",
       "      <th></th>\n",
       "      <th>Make</th>\n",
       "      <th>Colour</th>\n",
       "      <th>Odometer (KM)</th>\n",
       "      <th>Doors</th>\n",
       "      <th>Price</th>\n",
       "    </tr>\n",
       "  </thead>\n",
       "  <tbody>\n",
       "    <tr>\n",
       "      <th>0</th>\n",
       "      <td>Honda</td>\n",
       "      <td>White</td>\n",
       "      <td>35431</td>\n",
       "      <td>4</td>\n",
       "      <td>15323</td>\n",
       "    </tr>\n",
       "    <tr>\n",
       "      <th>1</th>\n",
       "      <td>BMW</td>\n",
       "      <td>Blue</td>\n",
       "      <td>192714</td>\n",
       "      <td>5</td>\n",
       "      <td>19943</td>\n",
       "    </tr>\n",
       "    <tr>\n",
       "      <th>2</th>\n",
       "      <td>Honda</td>\n",
       "      <td>White</td>\n",
       "      <td>84714</td>\n",
       "      <td>4</td>\n",
       "      <td>28343</td>\n",
       "    </tr>\n",
       "    <tr>\n",
       "      <th>3</th>\n",
       "      <td>Toyota</td>\n",
       "      <td>White</td>\n",
       "      <td>154365</td>\n",
       "      <td>4</td>\n",
       "      <td>13434</td>\n",
       "    </tr>\n",
       "    <tr>\n",
       "      <th>4</th>\n",
       "      <td>Nissan</td>\n",
       "      <td>Blue</td>\n",
       "      <td>181577</td>\n",
       "      <td>3</td>\n",
       "      <td>14043</td>\n",
       "    </tr>\n",
       "  </tbody>\n",
       "</table>\n",
       "</div>"
      ],
      "text/plain": [
       "     Make Colour  Odometer (KM)  Doors  Price\n",
       "0   Honda  White          35431      4  15323\n",
       "1     BMW   Blue         192714      5  19943\n",
       "2   Honda  White          84714      4  28343\n",
       "3  Toyota  White         154365      4  13434\n",
       "4  Nissan   Blue         181577      3  14043"
      ]
     },
     "execution_count": 16,
     "metadata": {},
     "output_type": "execute_result"
    }
   ],
   "source": [
    "# Another way... using pandas and pd.get_dummies()\n",
    "car_sales.head()"
   ]
  },
  {
   "cell_type": "code",
   "execution_count": 17,
   "id": "4c60c291-e066-475b-9b68-8335dae8d3af",
   "metadata": {
    "tags": []
   },
   "outputs": [
    {
     "data": {
      "text/html": [
       "<div>\n",
       "<style scoped>\n",
       "    .dataframe tbody tr th:only-of-type {\n",
       "        vertical-align: middle;\n",
       "    }\n",
       "\n",
       "    .dataframe tbody tr th {\n",
       "        vertical-align: top;\n",
       "    }\n",
       "\n",
       "    .dataframe thead th {\n",
       "        text-align: right;\n",
       "    }\n",
       "</style>\n",
       "<table border=\"1\" class=\"dataframe\">\n",
       "  <thead>\n",
       "    <tr style=\"text-align: right;\">\n",
       "      <th></th>\n",
       "      <th>Doors</th>\n",
       "      <th>Make_BMW</th>\n",
       "      <th>Make_Honda</th>\n",
       "      <th>Make_Nissan</th>\n",
       "      <th>Make_Toyota</th>\n",
       "      <th>Colour_Black</th>\n",
       "      <th>Colour_Blue</th>\n",
       "      <th>Colour_Green</th>\n",
       "      <th>Colour_Red</th>\n",
       "      <th>Colour_White</th>\n",
       "    </tr>\n",
       "  </thead>\n",
       "  <tbody>\n",
       "    <tr>\n",
       "      <th>0</th>\n",
       "      <td>4</td>\n",
       "      <td>0</td>\n",
       "      <td>1</td>\n",
       "      <td>0</td>\n",
       "      <td>0</td>\n",
       "      <td>0</td>\n",
       "      <td>0</td>\n",
       "      <td>0</td>\n",
       "      <td>0</td>\n",
       "      <td>1</td>\n",
       "    </tr>\n",
       "    <tr>\n",
       "      <th>1</th>\n",
       "      <td>5</td>\n",
       "      <td>1</td>\n",
       "      <td>0</td>\n",
       "      <td>0</td>\n",
       "      <td>0</td>\n",
       "      <td>0</td>\n",
       "      <td>1</td>\n",
       "      <td>0</td>\n",
       "      <td>0</td>\n",
       "      <td>0</td>\n",
       "    </tr>\n",
       "    <tr>\n",
       "      <th>2</th>\n",
       "      <td>4</td>\n",
       "      <td>0</td>\n",
       "      <td>1</td>\n",
       "      <td>0</td>\n",
       "      <td>0</td>\n",
       "      <td>0</td>\n",
       "      <td>0</td>\n",
       "      <td>0</td>\n",
       "      <td>0</td>\n",
       "      <td>1</td>\n",
       "    </tr>\n",
       "    <tr>\n",
       "      <th>3</th>\n",
       "      <td>4</td>\n",
       "      <td>0</td>\n",
       "      <td>0</td>\n",
       "      <td>0</td>\n",
       "      <td>1</td>\n",
       "      <td>0</td>\n",
       "      <td>0</td>\n",
       "      <td>0</td>\n",
       "      <td>0</td>\n",
       "      <td>1</td>\n",
       "    </tr>\n",
       "    <tr>\n",
       "      <th>4</th>\n",
       "      <td>3</td>\n",
       "      <td>0</td>\n",
       "      <td>0</td>\n",
       "      <td>1</td>\n",
       "      <td>0</td>\n",
       "      <td>0</td>\n",
       "      <td>1</td>\n",
       "      <td>0</td>\n",
       "      <td>0</td>\n",
       "      <td>0</td>\n",
       "    </tr>\n",
       "    <tr>\n",
       "      <th>...</th>\n",
       "      <td>...</td>\n",
       "      <td>...</td>\n",
       "      <td>...</td>\n",
       "      <td>...</td>\n",
       "      <td>...</td>\n",
       "      <td>...</td>\n",
       "      <td>...</td>\n",
       "      <td>...</td>\n",
       "      <td>...</td>\n",
       "      <td>...</td>\n",
       "    </tr>\n",
       "    <tr>\n",
       "      <th>995</th>\n",
       "      <td>4</td>\n",
       "      <td>0</td>\n",
       "      <td>0</td>\n",
       "      <td>0</td>\n",
       "      <td>1</td>\n",
       "      <td>1</td>\n",
       "      <td>0</td>\n",
       "      <td>0</td>\n",
       "      <td>0</td>\n",
       "      <td>0</td>\n",
       "    </tr>\n",
       "    <tr>\n",
       "      <th>996</th>\n",
       "      <td>3</td>\n",
       "      <td>0</td>\n",
       "      <td>0</td>\n",
       "      <td>1</td>\n",
       "      <td>0</td>\n",
       "      <td>0</td>\n",
       "      <td>0</td>\n",
       "      <td>0</td>\n",
       "      <td>0</td>\n",
       "      <td>1</td>\n",
       "    </tr>\n",
       "    <tr>\n",
       "      <th>997</th>\n",
       "      <td>4</td>\n",
       "      <td>0</td>\n",
       "      <td>0</td>\n",
       "      <td>1</td>\n",
       "      <td>0</td>\n",
       "      <td>0</td>\n",
       "      <td>1</td>\n",
       "      <td>0</td>\n",
       "      <td>0</td>\n",
       "      <td>0</td>\n",
       "    </tr>\n",
       "    <tr>\n",
       "      <th>998</th>\n",
       "      <td>4</td>\n",
       "      <td>0</td>\n",
       "      <td>1</td>\n",
       "      <td>0</td>\n",
       "      <td>0</td>\n",
       "      <td>0</td>\n",
       "      <td>0</td>\n",
       "      <td>0</td>\n",
       "      <td>0</td>\n",
       "      <td>1</td>\n",
       "    </tr>\n",
       "    <tr>\n",
       "      <th>999</th>\n",
       "      <td>4</td>\n",
       "      <td>0</td>\n",
       "      <td>0</td>\n",
       "      <td>0</td>\n",
       "      <td>1</td>\n",
       "      <td>0</td>\n",
       "      <td>1</td>\n",
       "      <td>0</td>\n",
       "      <td>0</td>\n",
       "      <td>0</td>\n",
       "    </tr>\n",
       "  </tbody>\n",
       "</table>\n",
       "<p>1000 rows × 10 columns</p>\n",
       "</div>"
      ],
      "text/plain": [
       "     Doors  Make_BMW  Make_Honda  Make_Nissan  Make_Toyota  Colour_Black  \\\n",
       "0        4         0           1            0            0             0   \n",
       "1        5         1           0            0            0             0   \n",
       "2        4         0           1            0            0             0   \n",
       "3        4         0           0            0            1             0   \n",
       "4        3         0           0            1            0             0   \n",
       "..     ...       ...         ...          ...          ...           ...   \n",
       "995      4         0           0            0            1             1   \n",
       "996      3         0           0            1            0             0   \n",
       "997      4         0           0            1            0             0   \n",
       "998      4         0           1            0            0             0   \n",
       "999      4         0           0            0            1             0   \n",
       "\n",
       "     Colour_Blue  Colour_Green  Colour_Red  Colour_White  \n",
       "0              0             0           0             1  \n",
       "1              1             0           0             0  \n",
       "2              0             0           0             1  \n",
       "3              0             0           0             1  \n",
       "4              1             0           0             0  \n",
       "..           ...           ...         ...           ...  \n",
       "995            0             0           0             0  \n",
       "996            0             0           0             1  \n",
       "997            1             0           0             0  \n",
       "998            0             0           0             1  \n",
       "999            1             0           0             0  \n",
       "\n",
       "[1000 rows x 10 columns]"
      ]
     },
     "execution_count": 17,
     "metadata": {},
     "output_type": "execute_result"
    }
   ],
   "source": [
    "dummies = pd.get_dummies(car_sales[[\"Make\", \"Colour\", \"Doors\"]])\n",
    "dummies"
   ]
  },
  {
   "cell_type": "code",
   "execution_count": 18,
   "id": "99219ff4-19df-4f18-81d6-cda0525da79f",
   "metadata": {
    "tags": []
   },
   "outputs": [
    {
     "data": {
      "text/plain": [
       "Make             object\n",
       "Colour           object\n",
       "Odometer (KM)     int64\n",
       "Doors             int64\n",
       "Price             int64\n",
       "dtype: object"
      ]
     },
     "execution_count": 18,
     "metadata": {},
     "output_type": "execute_result"
    }
   ],
   "source": [
    "car_sales.dtypes"
   ]
  },
  {
   "cell_type": "code",
   "execution_count": 19,
   "id": "4086b4af-f866-4769-a5f7-ef49a2f153f8",
   "metadata": {
    "tags": []
   },
   "outputs": [
    {
     "data": {
      "text/html": [
       "<div>\n",
       "<style scoped>\n",
       "    .dataframe tbody tr th:only-of-type {\n",
       "        vertical-align: middle;\n",
       "    }\n",
       "\n",
       "    .dataframe tbody tr th {\n",
       "        vertical-align: top;\n",
       "    }\n",
       "\n",
       "    .dataframe thead th {\n",
       "        text-align: right;\n",
       "    }\n",
       "</style>\n",
       "<table border=\"1\" class=\"dataframe\">\n",
       "  <thead>\n",
       "    <tr style=\"text-align: right;\">\n",
       "      <th></th>\n",
       "      <th>Make_BMW</th>\n",
       "      <th>Make_Honda</th>\n",
       "      <th>Make_Nissan</th>\n",
       "      <th>Make_Toyota</th>\n",
       "      <th>Colour_Black</th>\n",
       "      <th>Colour_Blue</th>\n",
       "      <th>Colour_Green</th>\n",
       "      <th>Colour_Red</th>\n",
       "      <th>Colour_White</th>\n",
       "      <th>Doors_3</th>\n",
       "      <th>Doors_4</th>\n",
       "      <th>Doors_5</th>\n",
       "    </tr>\n",
       "  </thead>\n",
       "  <tbody>\n",
       "    <tr>\n",
       "      <th>0</th>\n",
       "      <td>0</td>\n",
       "      <td>1</td>\n",
       "      <td>0</td>\n",
       "      <td>0</td>\n",
       "      <td>0</td>\n",
       "      <td>0</td>\n",
       "      <td>0</td>\n",
       "      <td>0</td>\n",
       "      <td>1</td>\n",
       "      <td>0</td>\n",
       "      <td>1</td>\n",
       "      <td>0</td>\n",
       "    </tr>\n",
       "    <tr>\n",
       "      <th>1</th>\n",
       "      <td>1</td>\n",
       "      <td>0</td>\n",
       "      <td>0</td>\n",
       "      <td>0</td>\n",
       "      <td>0</td>\n",
       "      <td>1</td>\n",
       "      <td>0</td>\n",
       "      <td>0</td>\n",
       "      <td>0</td>\n",
       "      <td>0</td>\n",
       "      <td>0</td>\n",
       "      <td>1</td>\n",
       "    </tr>\n",
       "    <tr>\n",
       "      <th>2</th>\n",
       "      <td>0</td>\n",
       "      <td>1</td>\n",
       "      <td>0</td>\n",
       "      <td>0</td>\n",
       "      <td>0</td>\n",
       "      <td>0</td>\n",
       "      <td>0</td>\n",
       "      <td>0</td>\n",
       "      <td>1</td>\n",
       "      <td>0</td>\n",
       "      <td>1</td>\n",
       "      <td>0</td>\n",
       "    </tr>\n",
       "    <tr>\n",
       "      <th>3</th>\n",
       "      <td>0</td>\n",
       "      <td>0</td>\n",
       "      <td>0</td>\n",
       "      <td>1</td>\n",
       "      <td>0</td>\n",
       "      <td>0</td>\n",
       "      <td>0</td>\n",
       "      <td>0</td>\n",
       "      <td>1</td>\n",
       "      <td>0</td>\n",
       "      <td>1</td>\n",
       "      <td>0</td>\n",
       "    </tr>\n",
       "    <tr>\n",
       "      <th>4</th>\n",
       "      <td>0</td>\n",
       "      <td>0</td>\n",
       "      <td>1</td>\n",
       "      <td>0</td>\n",
       "      <td>0</td>\n",
       "      <td>1</td>\n",
       "      <td>0</td>\n",
       "      <td>0</td>\n",
       "      <td>0</td>\n",
       "      <td>1</td>\n",
       "      <td>0</td>\n",
       "      <td>0</td>\n",
       "    </tr>\n",
       "    <tr>\n",
       "      <th>...</th>\n",
       "      <td>...</td>\n",
       "      <td>...</td>\n",
       "      <td>...</td>\n",
       "      <td>...</td>\n",
       "      <td>...</td>\n",
       "      <td>...</td>\n",
       "      <td>...</td>\n",
       "      <td>...</td>\n",
       "      <td>...</td>\n",
       "      <td>...</td>\n",
       "      <td>...</td>\n",
       "      <td>...</td>\n",
       "    </tr>\n",
       "    <tr>\n",
       "      <th>995</th>\n",
       "      <td>0</td>\n",
       "      <td>0</td>\n",
       "      <td>0</td>\n",
       "      <td>1</td>\n",
       "      <td>1</td>\n",
       "      <td>0</td>\n",
       "      <td>0</td>\n",
       "      <td>0</td>\n",
       "      <td>0</td>\n",
       "      <td>0</td>\n",
       "      <td>1</td>\n",
       "      <td>0</td>\n",
       "    </tr>\n",
       "    <tr>\n",
       "      <th>996</th>\n",
       "      <td>0</td>\n",
       "      <td>0</td>\n",
       "      <td>1</td>\n",
       "      <td>0</td>\n",
       "      <td>0</td>\n",
       "      <td>0</td>\n",
       "      <td>0</td>\n",
       "      <td>0</td>\n",
       "      <td>1</td>\n",
       "      <td>1</td>\n",
       "      <td>0</td>\n",
       "      <td>0</td>\n",
       "    </tr>\n",
       "    <tr>\n",
       "      <th>997</th>\n",
       "      <td>0</td>\n",
       "      <td>0</td>\n",
       "      <td>1</td>\n",
       "      <td>0</td>\n",
       "      <td>0</td>\n",
       "      <td>1</td>\n",
       "      <td>0</td>\n",
       "      <td>0</td>\n",
       "      <td>0</td>\n",
       "      <td>0</td>\n",
       "      <td>1</td>\n",
       "      <td>0</td>\n",
       "    </tr>\n",
       "    <tr>\n",
       "      <th>998</th>\n",
       "      <td>0</td>\n",
       "      <td>1</td>\n",
       "      <td>0</td>\n",
       "      <td>0</td>\n",
       "      <td>0</td>\n",
       "      <td>0</td>\n",
       "      <td>0</td>\n",
       "      <td>0</td>\n",
       "      <td>1</td>\n",
       "      <td>0</td>\n",
       "      <td>1</td>\n",
       "      <td>0</td>\n",
       "    </tr>\n",
       "    <tr>\n",
       "      <th>999</th>\n",
       "      <td>0</td>\n",
       "      <td>0</td>\n",
       "      <td>0</td>\n",
       "      <td>1</td>\n",
       "      <td>0</td>\n",
       "      <td>1</td>\n",
       "      <td>0</td>\n",
       "      <td>0</td>\n",
       "      <td>0</td>\n",
       "      <td>0</td>\n",
       "      <td>1</td>\n",
       "      <td>0</td>\n",
       "    </tr>\n",
       "  </tbody>\n",
       "</table>\n",
       "<p>1000 rows × 12 columns</p>\n",
       "</div>"
      ],
      "text/plain": [
       "     Make_BMW  Make_Honda  Make_Nissan  Make_Toyota  Colour_Black  \\\n",
       "0           0           1            0            0             0   \n",
       "1           1           0            0            0             0   \n",
       "2           0           1            0            0             0   \n",
       "3           0           0            0            1             0   \n",
       "4           0           0            1            0             0   \n",
       "..        ...         ...          ...          ...           ...   \n",
       "995         0           0            0            1             1   \n",
       "996         0           0            1            0             0   \n",
       "997         0           0            1            0             0   \n",
       "998         0           1            0            0             0   \n",
       "999         0           0            0            1             0   \n",
       "\n",
       "     Colour_Blue  Colour_Green  Colour_Red  Colour_White  Doors_3  Doors_4  \\\n",
       "0              0             0           0             1        0        1   \n",
       "1              1             0           0             0        0        0   \n",
       "2              0             0           0             1        0        1   \n",
       "3              0             0           0             1        0        1   \n",
       "4              1             0           0             0        1        0   \n",
       "..           ...           ...         ...           ...      ...      ...   \n",
       "995            0             0           0             0        0        1   \n",
       "996            0             0           0             1        1        0   \n",
       "997            1             0           0             0        0        1   \n",
       "998            0             0           0             1        0        1   \n",
       "999            1             0           0             0        0        1   \n",
       "\n",
       "     Doors_5  \n",
       "0          0  \n",
       "1          1  \n",
       "2          0  \n",
       "3          0  \n",
       "4          0  \n",
       "..       ...  \n",
       "995        0  \n",
       "996        0  \n",
       "997        0  \n",
       "998        0  \n",
       "999        0  \n",
       "\n",
       "[1000 rows x 12 columns]"
      ]
     },
     "execution_count": 19,
     "metadata": {},
     "output_type": "execute_result"
    }
   ],
   "source": [
    "# Have to convert doors to object for dummies to work on it...\n",
    "car_sales[\"Doors\"] = car_sales[\"Doors\"].astype(object)\n",
    "dummies = pd.get_dummies(car_sales[[\"Make\", \"Colour\", \"Doors\"]])\n",
    "dummies"
   ]
  },
  {
   "cell_type": "code",
   "execution_count": 20,
   "id": "8440e4bd-3164-4c90-a7e7-ba941dfeed1a",
   "metadata": {
    "tags": []
   },
   "outputs": [
    {
     "data": {
      "text/html": [
       "<style>#sk-container-id-1 {color: black;background-color: white;}#sk-container-id-1 pre{padding: 0;}#sk-container-id-1 div.sk-toggleable {background-color: white;}#sk-container-id-1 label.sk-toggleable__label {cursor: pointer;display: block;width: 100%;margin-bottom: 0;padding: 0.3em;box-sizing: border-box;text-align: center;}#sk-container-id-1 label.sk-toggleable__label-arrow:before {content: \"▸\";float: left;margin-right: 0.25em;color: #696969;}#sk-container-id-1 label.sk-toggleable__label-arrow:hover:before {color: black;}#sk-container-id-1 div.sk-estimator:hover label.sk-toggleable__label-arrow:before {color: black;}#sk-container-id-1 div.sk-toggleable__content {max-height: 0;max-width: 0;overflow: hidden;text-align: left;background-color: #f0f8ff;}#sk-container-id-1 div.sk-toggleable__content pre {margin: 0.2em;color: black;border-radius: 0.25em;background-color: #f0f8ff;}#sk-container-id-1 input.sk-toggleable__control:checked~div.sk-toggleable__content {max-height: 200px;max-width: 100%;overflow: auto;}#sk-container-id-1 input.sk-toggleable__control:checked~label.sk-toggleable__label-arrow:before {content: \"▾\";}#sk-container-id-1 div.sk-estimator input.sk-toggleable__control:checked~label.sk-toggleable__label {background-color: #d4ebff;}#sk-container-id-1 div.sk-label input.sk-toggleable__control:checked~label.sk-toggleable__label {background-color: #d4ebff;}#sk-container-id-1 input.sk-hidden--visually {border: 0;clip: rect(1px 1px 1px 1px);clip: rect(1px, 1px, 1px, 1px);height: 1px;margin: -1px;overflow: hidden;padding: 0;position: absolute;width: 1px;}#sk-container-id-1 div.sk-estimator {font-family: monospace;background-color: #f0f8ff;border: 1px dotted black;border-radius: 0.25em;box-sizing: border-box;margin-bottom: 0.5em;}#sk-container-id-1 div.sk-estimator:hover {background-color: #d4ebff;}#sk-container-id-1 div.sk-parallel-item::after {content: \"\";width: 100%;border-bottom: 1px solid gray;flex-grow: 1;}#sk-container-id-1 div.sk-label:hover label.sk-toggleable__label {background-color: #d4ebff;}#sk-container-id-1 div.sk-serial::before {content: \"\";position: absolute;border-left: 1px solid gray;box-sizing: border-box;top: 0;bottom: 0;left: 50%;z-index: 0;}#sk-container-id-1 div.sk-serial {display: flex;flex-direction: column;align-items: center;background-color: white;padding-right: 0.2em;padding-left: 0.2em;position: relative;}#sk-container-id-1 div.sk-item {position: relative;z-index: 1;}#sk-container-id-1 div.sk-parallel {display: flex;align-items: stretch;justify-content: center;background-color: white;position: relative;}#sk-container-id-1 div.sk-item::before, #sk-container-id-1 div.sk-parallel-item::before {content: \"\";position: absolute;border-left: 1px solid gray;box-sizing: border-box;top: 0;bottom: 0;left: 50%;z-index: -1;}#sk-container-id-1 div.sk-parallel-item {display: flex;flex-direction: column;z-index: 1;position: relative;background-color: white;}#sk-container-id-1 div.sk-parallel-item:first-child::after {align-self: flex-end;width: 50%;}#sk-container-id-1 div.sk-parallel-item:last-child::after {align-self: flex-start;width: 50%;}#sk-container-id-1 div.sk-parallel-item:only-child::after {width: 0;}#sk-container-id-1 div.sk-dashed-wrapped {border: 1px dashed gray;margin: 0 0.4em 0.5em 0.4em;box-sizing: border-box;padding-bottom: 0.4em;background-color: white;}#sk-container-id-1 div.sk-label label {font-family: monospace;font-weight: bold;display: inline-block;line-height: 1.2em;}#sk-container-id-1 div.sk-label-container {text-align: center;}#sk-container-id-1 div.sk-container {/* jupyter's `normalize.less` sets `[hidden] { display: none; }` but bootstrap.min.css set `[hidden] { display: none !important; }` so we also need the `!important` here to be able to override the default hidden behavior on the sphinx rendered scikit-learn.org. See: https://github.com/scikit-learn/scikit-learn/issues/21755 */display: inline-block !important;position: relative;}#sk-container-id-1 div.sk-text-repr-fallback {display: none;}</style><div id=\"sk-container-id-1\" class=\"sk-top-container\"><div class=\"sk-text-repr-fallback\"><pre>RandomForestRegressor()</pre><b>In a Jupyter environment, please rerun this cell to show the HTML representation or trust the notebook. <br />On GitHub, the HTML representation is unable to render, please try loading this page with nbviewer.org.</b></div><div class=\"sk-container\" hidden><div class=\"sk-item\"><div class=\"sk-estimator sk-toggleable\"><input class=\"sk-toggleable__control sk-hidden--visually\" id=\"sk-estimator-id-1\" type=\"checkbox\" checked><label for=\"sk-estimator-id-1\" class=\"sk-toggleable__label sk-toggleable__label-arrow\">RandomForestRegressor</label><div class=\"sk-toggleable__content\"><pre>RandomForestRegressor()</pre></div></div></div></div></div>"
      ],
      "text/plain": [
       "RandomForestRegressor()"
      ]
     },
     "execution_count": 20,
     "metadata": {},
     "output_type": "execute_result"
    }
   ],
   "source": [
    "# Let's refit the model\n",
    "np.random.seed(42)\n",
    "X_train, X_test, y_train, y_test = train_test_split(transformed_X,\n",
    "                                                    y,\n",
    "                                                    test_size=0.2)\n",
    "\n",
    "model.fit(X_train, y_train)"
   ]
  },
  {
   "cell_type": "code",
   "execution_count": 21,
   "id": "3898bc6b-23a0-4825-bf22-18fc561f7264",
   "metadata": {
    "tags": []
   },
   "outputs": [
    {
     "data": {
      "text/plain": [
       "0.3235867221569877"
      ]
     },
     "execution_count": 21,
     "metadata": {},
     "output_type": "execute_result"
    }
   ],
   "source": [
    "model.score(X_test, y_test)"
   ]
  },
  {
   "cell_type": "markdown",
   "id": "876e11e3-25d3-4c55-9914-c086bccc837e",
   "metadata": {
    "tags": []
   },
   "source": [
    "### 1.2 What if there were missing values?\n",
    "\n",
    "Many machine learning models don't work well when there are missing values in the data.\n",
    "\n",
    "There are two main options when dealing with missing values.\n",
    "\n",
    "1. Fill them with some given value. For example, you might fill missing values of a numerical column with the mean of all the other values. The practice of filling missing values is often referred to as imputation.\n",
    "2. Remove them. If a row has missing values, you may opt to remove them completely from your sample completely. However, this potentially results in using less data to build your model.\n",
    "\n",
    "**Note:** Dealing with missing values is a problem to problem issue. And there's often no best way to do it."
   ]
  },
  {
   "cell_type": "code",
   "execution_count": 22,
   "id": "4e7fe838-39ca-4e4e-8968-7a2284f90e60",
   "metadata": {
    "tags": []
   },
   "outputs": [
    {
     "data": {
      "text/html": [
       "<div>\n",
       "<style scoped>\n",
       "    .dataframe tbody tr th:only-of-type {\n",
       "        vertical-align: middle;\n",
       "    }\n",
       "\n",
       "    .dataframe tbody tr th {\n",
       "        vertical-align: top;\n",
       "    }\n",
       "\n",
       "    .dataframe thead th {\n",
       "        text-align: right;\n",
       "    }\n",
       "</style>\n",
       "<table border=\"1\" class=\"dataframe\">\n",
       "  <thead>\n",
       "    <tr style=\"text-align: right;\">\n",
       "      <th></th>\n",
       "      <th>Make</th>\n",
       "      <th>Colour</th>\n",
       "      <th>Odometer (KM)</th>\n",
       "      <th>Doors</th>\n",
       "      <th>Price</th>\n",
       "    </tr>\n",
       "  </thead>\n",
       "  <tbody>\n",
       "    <tr>\n",
       "      <th>0</th>\n",
       "      <td>Honda</td>\n",
       "      <td>White</td>\n",
       "      <td>35431.0</td>\n",
       "      <td>4.0</td>\n",
       "      <td>15323.0</td>\n",
       "    </tr>\n",
       "    <tr>\n",
       "      <th>1</th>\n",
       "      <td>BMW</td>\n",
       "      <td>Blue</td>\n",
       "      <td>192714.0</td>\n",
       "      <td>5.0</td>\n",
       "      <td>19943.0</td>\n",
       "    </tr>\n",
       "    <tr>\n",
       "      <th>2</th>\n",
       "      <td>Honda</td>\n",
       "      <td>White</td>\n",
       "      <td>84714.0</td>\n",
       "      <td>4.0</td>\n",
       "      <td>28343.0</td>\n",
       "    </tr>\n",
       "    <tr>\n",
       "      <th>3</th>\n",
       "      <td>Toyota</td>\n",
       "      <td>White</td>\n",
       "      <td>154365.0</td>\n",
       "      <td>4.0</td>\n",
       "      <td>13434.0</td>\n",
       "    </tr>\n",
       "    <tr>\n",
       "      <th>4</th>\n",
       "      <td>Nissan</td>\n",
       "      <td>Blue</td>\n",
       "      <td>181577.0</td>\n",
       "      <td>3.0</td>\n",
       "      <td>14043.0</td>\n",
       "    </tr>\n",
       "    <tr>\n",
       "      <th>...</th>\n",
       "      <td>...</td>\n",
       "      <td>...</td>\n",
       "      <td>...</td>\n",
       "      <td>...</td>\n",
       "      <td>...</td>\n",
       "    </tr>\n",
       "    <tr>\n",
       "      <th>995</th>\n",
       "      <td>Toyota</td>\n",
       "      <td>Black</td>\n",
       "      <td>35820.0</td>\n",
       "      <td>4.0</td>\n",
       "      <td>32042.0</td>\n",
       "    </tr>\n",
       "    <tr>\n",
       "      <th>996</th>\n",
       "      <td>NaN</td>\n",
       "      <td>White</td>\n",
       "      <td>155144.0</td>\n",
       "      <td>3.0</td>\n",
       "      <td>5716.0</td>\n",
       "    </tr>\n",
       "    <tr>\n",
       "      <th>997</th>\n",
       "      <td>Nissan</td>\n",
       "      <td>Blue</td>\n",
       "      <td>66604.0</td>\n",
       "      <td>4.0</td>\n",
       "      <td>31570.0</td>\n",
       "    </tr>\n",
       "    <tr>\n",
       "      <th>998</th>\n",
       "      <td>Honda</td>\n",
       "      <td>White</td>\n",
       "      <td>215883.0</td>\n",
       "      <td>4.0</td>\n",
       "      <td>4001.0</td>\n",
       "    </tr>\n",
       "    <tr>\n",
       "      <th>999</th>\n",
       "      <td>Toyota</td>\n",
       "      <td>Blue</td>\n",
       "      <td>248360.0</td>\n",
       "      <td>4.0</td>\n",
       "      <td>12732.0</td>\n",
       "    </tr>\n",
       "  </tbody>\n",
       "</table>\n",
       "<p>1000 rows × 5 columns</p>\n",
       "</div>"
      ],
      "text/plain": [
       "       Make Colour  Odometer (KM)  Doors    Price\n",
       "0     Honda  White        35431.0    4.0  15323.0\n",
       "1       BMW   Blue       192714.0    5.0  19943.0\n",
       "2     Honda  White        84714.0    4.0  28343.0\n",
       "3    Toyota  White       154365.0    4.0  13434.0\n",
       "4    Nissan   Blue       181577.0    3.0  14043.0\n",
       "..      ...    ...            ...    ...      ...\n",
       "995  Toyota  Black        35820.0    4.0  32042.0\n",
       "996     NaN  White       155144.0    3.0   5716.0\n",
       "997  Nissan   Blue        66604.0    4.0  31570.0\n",
       "998   Honda  White       215883.0    4.0   4001.0\n",
       "999  Toyota   Blue       248360.0    4.0  12732.0\n",
       "\n",
       "[1000 rows x 5 columns]"
      ]
     },
     "execution_count": 22,
     "metadata": {},
     "output_type": "execute_result"
    }
   ],
   "source": [
    "# Import car sales dataframe with missing values\n",
    "car_sales_missing = pd.read_csv(\"data/car-sales-extended-missing-data.csv\")\n",
    "car_sales_missing"
   ]
  },
  {
   "cell_type": "code",
   "execution_count": 23,
   "id": "05fe81e0-e7fe-4ef1-93f9-504634d40bab",
   "metadata": {
    "tags": []
   },
   "outputs": [
    {
     "data": {
      "text/plain": [
       "Make             49\n",
       "Colour           50\n",
       "Odometer (KM)    50\n",
       "Doors            50\n",
       "Price            50\n",
       "dtype: int64"
      ]
     },
     "execution_count": 23,
     "metadata": {},
     "output_type": "execute_result"
    }
   ],
   "source": [
    "# How many missing values do we have\n",
    "car_sales_missing.isna().sum()"
   ]
  },
  {
   "cell_type": "markdown",
   "id": "91ef208a-c36e-438a-9d8f-39f294caedf5",
   "metadata": {
    "tags": []
   },
   "source": [
    "### 1.2.1 Fill missing data with pandas"
   ]
  },
  {
   "cell_type": "markdown",
   "id": "6dc749af-59cd-49e9-ac0a-e23b79cab809",
   "metadata": {},
   "source": [
    "What we'll do is fill the rows where categorical values are missing with `\"missing\"`, the numerical features with the mean or 4 for the doors. And drop the rows where the Price is missing. \n",
    "\n",
    "We could fill Price with the mean, however, since it's the target variable, we don't want to be introducing too many fake labels.\n",
    "\n",
    "**Note:** The practice of filling missing data is called **imputation**. And it's important to remember there's no perfect way to fill missing data. The methods we're using are only one of many. The techniques you use will depend heavily on your dataset. A good place to look would be searching for \"data imputation techniques\"."
   ]
  },
  {
   "cell_type": "code",
   "execution_count": 24,
   "id": "b9a1769e-6cee-463c-b77c-160dd3839814",
   "metadata": {
    "tags": []
   },
   "outputs": [
    {
     "data": {
      "text/plain": [
       "Make             47\n",
       "Colour           46\n",
       "Odometer (KM)    48\n",
       "Doors            47\n",
       "Price             0\n",
       "dtype: int64"
      ]
     },
     "execution_count": 24,
     "metadata": {},
     "output_type": "execute_result"
    }
   ],
   "source": [
    "# Drop the rows with missing in the \"Price\" column\n",
    "car_sales_missing.dropna(subset=[\"Price\"], inplace=True)\n",
    "car_sales_missing.isna().sum()"
   ]
  },
  {
   "cell_type": "code",
   "execution_count": 25,
   "id": "3eeb43e8-3666-486c-96d8-34bf73edf1f3",
   "metadata": {
    "tags": []
   },
   "outputs": [
    {
     "data": {
      "text/plain": [
       "950"
      ]
     },
     "execution_count": 25,
     "metadata": {},
     "output_type": "execute_result"
    }
   ],
   "source": [
    "len(car_sales_missing)"
   ]
  },
  {
   "cell_type": "markdown",
   "id": "2b51fc5b-f384-44fd-9dfe-9a589ad152b5",
   "metadata": {},
   "source": [
    "* Don't use data from the future (test set) to fill data from the past (training set)"
   ]
  },
  {
   "cell_type": "code",
   "execution_count": 26,
   "id": "e9736d3a-8aa0-469d-933a-11138147fb43",
   "metadata": {
    "tags": []
   },
   "outputs": [],
   "source": [
    "# Split into X and y\n",
    "X = car_sales_missing.drop(\"Price\", axis=1)\n",
    "y = car_sales_missing[\"Price\"]\n",
    "\n",
    "# Split data into train and test\n",
    "np.random.seed(42)\n",
    "X_train, X_test, y_train, y_test = train_test_split(X,\n",
    "                                                    y,\n",
    "                                                    test_size=0.2)"
   ]
  },
  {
   "cell_type": "code",
   "execution_count": 27,
   "id": "cbd20449-b217-4578-bffd-489b676266da",
   "metadata": {
    "tags": []
   },
   "outputs": [],
   "source": [
    "# Fill the \"Make\" column\n",
    "#car_sales_missing[\"Make\"].fillna(\"missing\", inplace=True)\n",
    "X_train[\"Make\"].fillna(\"missing\", inplace=True)\n",
    "X_test[\"Make\"].fillna(\"missing\", inplace=True)"
   ]
  },
  {
   "cell_type": "code",
   "execution_count": 28,
   "id": "e3bed3f4-3c9a-4c56-a29c-3899ebfb5fba",
   "metadata": {
    "tags": []
   },
   "outputs": [],
   "source": [
    "# Fill the \"Colour\" column\n",
    "#car_sales_missing[\"Colour\"].fillna(\"missing\", inplace=True)\n",
    "X_train[\"Colour\"].fillna(\"missing\", inplace=True)\n",
    "X_test[\"Colour\"].fillna(\"missing\", inplace=True)"
   ]
  },
  {
   "cell_type": "code",
   "execution_count": 29,
   "id": "f355ab40-c883-4759-9638-6bdc8ef430c3",
   "metadata": {
    "tags": []
   },
   "outputs": [],
   "source": [
    "# Fill the \"Doors\" column\n",
    "#car_sales_missing[\"Doors\"].fillna(4, inplace=True)\n",
    "X_train[\"Doors\"].fillna(4, inplace=True)\n",
    "X_test[\"Doors\"].fillna(4, inplace=True)"
   ]
  },
  {
   "cell_type": "code",
   "execution_count": 30,
   "id": "63f8330d-7c37-4723-bc83-2ef5a71cbe1d",
   "metadata": {
    "tags": []
   },
   "outputs": [],
   "source": [
    "# Fill the \"Odometer (KM)\" column \n",
    "# Instead of doing this  \n",
    "# car_sales_missing[\"Odometer (KM)\"].fillna(car_sales_missing[\"Odometer (KM)\"].mean(), inplace=True)\n",
    "#car_sales_missing[\"Odometer (KM)\"].fillna(X_train[\"Odometer (KM)\"].mean(), inplace=True)\n",
    "X_train[\"Odometer (KM)\"].fillna(X_train[\"Odometer (KM)\"].mean(), inplace=True)\n",
    "X_test[\"Odometer (KM)\"].fillna(X_train[\"Odometer (KM)\"].mean(), inplace=True)"
   ]
  },
  {
   "cell_type": "code",
   "execution_count": 31,
   "id": "96d5a542-6bb9-426e-8558-d8728d2f6728",
   "metadata": {
    "tags": []
   },
   "outputs": [
    {
     "data": {
      "text/plain": [
       "Make             47\n",
       "Colour           46\n",
       "Odometer (KM)    48\n",
       "Doors            47\n",
       "Price             0\n",
       "dtype: int64"
      ]
     },
     "execution_count": 31,
     "metadata": {},
     "output_type": "execute_result"
    }
   ],
   "source": [
    "# Check our dataframe\n",
    "car_sales_missing.isna().sum()"
   ]
  },
  {
   "cell_type": "code",
   "execution_count": 32,
   "id": "02cd2453-a2eb-4f13-88fe-d03e97a2a27a",
   "metadata": {
    "tags": []
   },
   "outputs": [
    {
     "data": {
      "text/plain": [
       "(Make             0\n",
       " Colour           0\n",
       " Odometer (KM)    0\n",
       " Doors            0\n",
       " dtype: int64,\n",
       " Make             0\n",
       " Colour           0\n",
       " Odometer (KM)    0\n",
       " Doors            0\n",
       " dtype: int64)"
      ]
     },
     "execution_count": 32,
     "metadata": {},
     "output_type": "execute_result"
    }
   ],
   "source": [
    "X_train.isna().sum(), X_test.isna().sum()"
   ]
  },
  {
   "cell_type": "markdown",
   "id": "061c8982-cd54-4700-915e-885b475b6796",
   "metadata": {
    "tags": []
   },
   "source": [
    "We've removed the rows with missing Price values, now there's less data but there's no more missing values."
   ]
  },
  {
   "cell_type": "code",
   "execution_count": 33,
   "id": "989714eb-8123-4481-92b9-f47a741c87bb",
   "metadata": {
    "tags": []
   },
   "outputs": [
    {
     "data": {
      "text/plain": [
       "array([[0.00000e+00, 1.00000e+00, 0.00000e+00, ..., 1.00000e+00,\n",
       "        0.00000e+00, 7.19340e+04],\n",
       "       [0.00000e+00, 0.00000e+00, 0.00000e+00, ..., 1.00000e+00,\n",
       "        0.00000e+00, 1.62665e+05],\n",
       "       [0.00000e+00, 1.00000e+00, 0.00000e+00, ..., 1.00000e+00,\n",
       "        0.00000e+00, 4.28440e+04],\n",
       "       ...,\n",
       "       [0.00000e+00, 0.00000e+00, 0.00000e+00, ..., 1.00000e+00,\n",
       "        0.00000e+00, 1.96225e+05],\n",
       "       [0.00000e+00, 1.00000e+00, 0.00000e+00, ..., 1.00000e+00,\n",
       "        0.00000e+00, 1.33117e+05],\n",
       "       [0.00000e+00, 1.00000e+00, 0.00000e+00, ..., 1.00000e+00,\n",
       "        0.00000e+00, 1.50582e+05]])"
      ]
     },
     "execution_count": 33,
     "metadata": {},
     "output_type": "execute_result"
    }
   ],
   "source": [
    "# Now let's one-hot encode the categorical columns (copied from above)\n",
    "from sklearn.preprocessing import OneHotEncoder\n",
    "from sklearn.compose import ColumnTransformer\n",
    "\n",
    "categorical_features = [\"Make\", \"Colour\", \"Doors\"]\n",
    "one_hot = OneHotEncoder()\n",
    "transformer = ColumnTransformer([(\"one_hot\", \n",
    "                                 one_hot, \n",
    "                                 categorical_features)],\n",
    "                                 remainder=\"passthrough\")\n",
    "\n",
    "# Fill train and test values separately\n",
    "transformed_X_train = transformer.fit_transform(X_train)\n",
    "transformed_X_test = transformer.transform(X_test)\n",
    "\n",
    "# Check transformed and filled X_train\n",
    "transformed_X_train.toarray()"
   ]
  },
  {
   "cell_type": "code",
   "execution_count": 34,
   "id": "8dd113cf-5c45-48a2-b0aa-f7b9b1016ae1",
   "metadata": {
    "tags": []
   },
   "outputs": [
    {
     "data": {
      "text/plain": [
       "0.21229043336119102"
      ]
     },
     "execution_count": 34,
     "metadata": {},
     "output_type": "execute_result"
    }
   ],
   "source": [
    "# Now we've transformed X, let's see if we can fit a model\n",
    "np.random.seed(42)\n",
    "from sklearn.ensemble import RandomForestRegressor\n",
    "\n",
    "model = RandomForestRegressor()\n",
    "\n",
    "# Make sure to use transformed (filled and one-hot encoded X data)\n",
    "model.fit(transformed_X_train, y_train)\n",
    "model.score(transformed_X_test, y_test)"
   ]
  },
  {
   "cell_type": "markdown",
   "id": "dc93c57b-bb08-4dcb-ba0c-28b2bb10b13b",
   "metadata": {},
   "source": [
    "### 1.2.2 Filling missing data and transforming categorical data with Scikit-Learn"
   ]
  },
  {
   "cell_type": "markdown",
   "id": "2e8defd2-b3b3-4ce9-ad98-ceb2de5ba063",
   "metadata": {},
   "source": [
    "Now we've filled the missing columns using pandas functions, but scikit-learn provides also another method called [`SimpleImputer()`](https://scikit-learn.org/stable/modules/generated/sklearn.impute.SimpleImputer.html#sklearn.impute.SimpleImputer) which allows us to do a similar thing.\n",
    "\n",
    "`SimpleImputer()` transforms data by filling missing values with a given strategy.\n",
    "\n",
    "And we can use it to fill the missing values in our DataFrame as above.\n",
    "\n",
    "At the moment, our dataframe has no mising values.\n",
    "\n",
    "Let's reimport it so it has missing values and we can fill them with Scikit-Learn."
   ]
  },
  {
   "cell_type": "code",
   "execution_count": 35,
   "id": "25db4537-08b9-4e84-9f1d-0bcd86f61664",
   "metadata": {
    "tags": []
   },
   "outputs": [
    {
     "data": {
      "text/plain": [
       "Make             49\n",
       "Colour           50\n",
       "Odometer (KM)    50\n",
       "Doors            50\n",
       "Price            50\n",
       "dtype: int64"
      ]
     },
     "execution_count": 35,
     "metadata": {},
     "output_type": "execute_result"
    }
   ],
   "source": [
    "# Reimport the DataFrame\n",
    "car_sales_missing = pd.read_csv(\"data/car-sales-extended-missing-data.csv\")\n",
    "car_sales_missing.isna().sum()"
   ]
  },
  {
   "cell_type": "code",
   "execution_count": 36,
   "id": "d21cbb45-44fb-446a-975b-bf209cc32e08",
   "metadata": {
    "tags": []
   },
   "outputs": [
    {
     "data": {
      "text/plain": [
       "Make             47\n",
       "Colour           46\n",
       "Odometer (KM)    48\n",
       "Doors            47\n",
       "Price             0\n",
       "dtype: int64"
      ]
     },
     "execution_count": 36,
     "metadata": {},
     "output_type": "execute_result"
    }
   ],
   "source": [
    "# Drop the rows with missing in the \"Price\" column\n",
    "car_sales_missing.dropna(subset=[\"Price\"], inplace=True)\n",
    "car_sales_missing.isna().sum()"
   ]
  },
  {
   "cell_type": "code",
   "execution_count": 37,
   "id": "1b6aaba4-1364-4174-b598-e06884a31925",
   "metadata": {
    "tags": []
   },
   "outputs": [],
   "source": [
    "# Split into X and y\n",
    "X = car_sales_missing.drop(\"Price\", axis=1)\n",
    "y = car_sales_missing[\"Price\"]\n",
    "\n",
    "# Split data into train and test\n",
    "np.random.seed(42)\n",
    "X_train, X_test, y_train, y_test = train_test_split(X,\n",
    "                                                    y,\n",
    "                                                    test_size=0.2)"
   ]
  },
  {
   "cell_type": "markdown",
   "id": "c45056f8-e6d9-4499-93f2-35c3f9df4951",
   "metadata": {},
   "source": [
    "**Note:** We split data into train & test to perform filling missing values on them separately."
   ]
  },
  {
   "cell_type": "code",
   "execution_count": 38,
   "id": "5dad9b10-62a0-4651-ac2e-0c06f2860fa1",
   "metadata": {
    "tags": []
   },
   "outputs": [],
   "source": [
    "from sklearn.impute import SimpleImputer\n",
    "from sklearn.compose import ColumnTransformer"
   ]
  },
  {
   "cell_type": "code",
   "execution_count": 39,
   "id": "97c20b7f-ccef-41d6-8737-68f7bdd255ca",
   "metadata": {
    "tags": []
   },
   "outputs": [],
   "source": [
    "# Fill categorical values with 'missing' & numerical with mean\n",
    "cat_imputer = SimpleImputer(strategy=\"constant\", fill_value=\"missing\")\n",
    "door_imputer = SimpleImputer(strategy=\"constant\", fill_value=4)\n",
    "num_imputer = SimpleImputer(strategy=\"mean\")"
   ]
  },
  {
   "cell_type": "code",
   "execution_count": 40,
   "id": "73e1be64-19ad-4f3c-98c2-43a3a62555ad",
   "metadata": {
    "tags": []
   },
   "outputs": [],
   "source": [
    "# Define different column features\n",
    "categorical_features = [\"Make\", \"Colour\"]\n",
    "door_feature = [\"Doors\"]\n",
    "numerical_feature = [\"Odometer (KM)\"]"
   ]
  },
  {
   "cell_type": "code",
   "execution_count": 41,
   "id": "a51cda07-6607-4391-9001-c6ed4b1af575",
   "metadata": {
    "tags": []
   },
   "outputs": [
    {
     "data": {
      "text/plain": [
       "array([['Honda', 'White', 4.0, 71934.0],\n",
       "       ['Toyota', 'Red', 4.0, 162665.0],\n",
       "       ['Honda', 'White', 4.0, 42844.0],\n",
       "       ...,\n",
       "       ['Toyota', 'White', 4.0, 196225.0],\n",
       "       ['Honda', 'Blue', 4.0, 133117.0],\n",
       "       ['Honda', 'missing', 4.0, 150582.0]], dtype=object)"
      ]
     },
     "execution_count": 41,
     "metadata": {},
     "output_type": "execute_result"
    }
   ],
   "source": [
    "imputer = ColumnTransformer([\n",
    "    (\"cat_imputer\", cat_imputer, categorical_features),\n",
    "    (\"door_imputer\", door_imputer, door_feature),\n",
    "    (\"num_imputer\", num_imputer, numerical_feature)])\n",
    "\n",
    "# Fill train and test values separately\n",
    "filled_X_train = imputer.fit_transform(X_train)\n",
    "filled_X_test = imputer.transform(X_test)\n",
    "\n",
    "# Check filled X_train\n",
    "filled_X_train"
   ]
  },
  {
   "cell_type": "code",
   "execution_count": 42,
   "id": "1126cd82-b59d-4a57-acd5-8331b2af9151",
   "metadata": {
    "tags": []
   },
   "outputs": [
    {
     "data": {
      "text/plain": [
       "Make             0\n",
       "Colour           0\n",
       "Doors            0\n",
       "Odometer (KM)    0\n",
       "dtype: int64"
      ]
     },
     "execution_count": 42,
     "metadata": {},
     "output_type": "execute_result"
    }
   ],
   "source": [
    "# Get our transformed data array's back into DataFrame's\n",
    "car_sales_filled_train = pd.DataFrame(filled_X_train, \n",
    "                                      columns=[\"Make\", \"Colour\", \"Doors\", \"Odometer (KM)\"])\n",
    "\n",
    "car_sales_filled_test = pd.DataFrame(filled_X_test, \n",
    "                                      columns=[\"Make\", \"Colour\", \"Doors\", \"Odometer (KM)\"])\n",
    "\n",
    "\n",
    "# Check missing data in training set\n",
    "car_sales_filled_train.isna().sum()"
   ]
  },
  {
   "cell_type": "code",
   "execution_count": 43,
   "id": "53392971-54b4-4e82-beaf-5a98014e3836",
   "metadata": {
    "tags": []
   },
   "outputs": [
    {
     "data": {
      "text/plain": [
       "Make             47\n",
       "Colour           46\n",
       "Odometer (KM)    48\n",
       "Doors            47\n",
       "Price             0\n",
       "dtype: int64"
      ]
     },
     "execution_count": 43,
     "metadata": {},
     "output_type": "execute_result"
    }
   ],
   "source": [
    "# Check to see the original... still missing values\n",
    "car_sales_missing.isna().sum()"
   ]
  },
  {
   "cell_type": "code",
   "execution_count": 44,
   "id": "f1ba7726-a160-40e1-a76a-a8d3250a73fc",
   "metadata": {
    "tags": []
   },
   "outputs": [
    {
     "data": {
      "text/html": [
       "<div>\n",
       "<style scoped>\n",
       "    .dataframe tbody tr th:only-of-type {\n",
       "        vertical-align: middle;\n",
       "    }\n",
       "\n",
       "    .dataframe tbody tr th {\n",
       "        vertical-align: top;\n",
       "    }\n",
       "\n",
       "    .dataframe thead th {\n",
       "        text-align: right;\n",
       "    }\n",
       "</style>\n",
       "<table border=\"1\" class=\"dataframe\">\n",
       "  <thead>\n",
       "    <tr style=\"text-align: right;\">\n",
       "      <th></th>\n",
       "      <th>0</th>\n",
       "      <th>1</th>\n",
       "      <th>2</th>\n",
       "      <th>3</th>\n",
       "      <th>4</th>\n",
       "      <th>5</th>\n",
       "      <th>6</th>\n",
       "      <th>7</th>\n",
       "      <th>8</th>\n",
       "      <th>9</th>\n",
       "      <th>10</th>\n",
       "      <th>11</th>\n",
       "      <th>12</th>\n",
       "      <th>13</th>\n",
       "      <th>14</th>\n",
       "    </tr>\n",
       "  </thead>\n",
       "  <tbody>\n",
       "    <tr>\n",
       "      <th>0</th>\n",
       "      <td>0.0</td>\n",
       "      <td>1.0</td>\n",
       "      <td>0.0</td>\n",
       "      <td>0.0</td>\n",
       "      <td>0.0</td>\n",
       "      <td>0.0</td>\n",
       "      <td>0.0</td>\n",
       "      <td>0.0</td>\n",
       "      <td>0.0</td>\n",
       "      <td>1.0</td>\n",
       "      <td>0.0</td>\n",
       "      <td>0.0</td>\n",
       "      <td>1.0</td>\n",
       "      <td>0.0</td>\n",
       "      <td>71934.0</td>\n",
       "    </tr>\n",
       "    <tr>\n",
       "      <th>1</th>\n",
       "      <td>0.0</td>\n",
       "      <td>0.0</td>\n",
       "      <td>0.0</td>\n",
       "      <td>1.0</td>\n",
       "      <td>0.0</td>\n",
       "      <td>0.0</td>\n",
       "      <td>0.0</td>\n",
       "      <td>0.0</td>\n",
       "      <td>1.0</td>\n",
       "      <td>0.0</td>\n",
       "      <td>0.0</td>\n",
       "      <td>0.0</td>\n",
       "      <td>1.0</td>\n",
       "      <td>0.0</td>\n",
       "      <td>162665.0</td>\n",
       "    </tr>\n",
       "    <tr>\n",
       "      <th>2</th>\n",
       "      <td>0.0</td>\n",
       "      <td>1.0</td>\n",
       "      <td>0.0</td>\n",
       "      <td>0.0</td>\n",
       "      <td>0.0</td>\n",
       "      <td>0.0</td>\n",
       "      <td>0.0</td>\n",
       "      <td>0.0</td>\n",
       "      <td>0.0</td>\n",
       "      <td>1.0</td>\n",
       "      <td>0.0</td>\n",
       "      <td>0.0</td>\n",
       "      <td>1.0</td>\n",
       "      <td>0.0</td>\n",
       "      <td>42844.0</td>\n",
       "    </tr>\n",
       "    <tr>\n",
       "      <th>3</th>\n",
       "      <td>0.0</td>\n",
       "      <td>1.0</td>\n",
       "      <td>0.0</td>\n",
       "      <td>0.0</td>\n",
       "      <td>0.0</td>\n",
       "      <td>0.0</td>\n",
       "      <td>0.0</td>\n",
       "      <td>0.0</td>\n",
       "      <td>0.0</td>\n",
       "      <td>1.0</td>\n",
       "      <td>0.0</td>\n",
       "      <td>0.0</td>\n",
       "      <td>1.0</td>\n",
       "      <td>0.0</td>\n",
       "      <td>195829.0</td>\n",
       "    </tr>\n",
       "    <tr>\n",
       "      <th>4</th>\n",
       "      <td>0.0</td>\n",
       "      <td>1.0</td>\n",
       "      <td>0.0</td>\n",
       "      <td>0.0</td>\n",
       "      <td>0.0</td>\n",
       "      <td>0.0</td>\n",
       "      <td>1.0</td>\n",
       "      <td>0.0</td>\n",
       "      <td>0.0</td>\n",
       "      <td>0.0</td>\n",
       "      <td>0.0</td>\n",
       "      <td>0.0</td>\n",
       "      <td>1.0</td>\n",
       "      <td>0.0</td>\n",
       "      <td>219217.0</td>\n",
       "    </tr>\n",
       "    <tr>\n",
       "      <th>...</th>\n",
       "      <td>...</td>\n",
       "      <td>...</td>\n",
       "      <td>...</td>\n",
       "      <td>...</td>\n",
       "      <td>...</td>\n",
       "      <td>...</td>\n",
       "      <td>...</td>\n",
       "      <td>...</td>\n",
       "      <td>...</td>\n",
       "      <td>...</td>\n",
       "      <td>...</td>\n",
       "      <td>...</td>\n",
       "      <td>...</td>\n",
       "      <td>...</td>\n",
       "      <td>...</td>\n",
       "    </tr>\n",
       "    <tr>\n",
       "      <th>755</th>\n",
       "      <td>0.0</td>\n",
       "      <td>0.0</td>\n",
       "      <td>0.0</td>\n",
       "      <td>1.0</td>\n",
       "      <td>0.0</td>\n",
       "      <td>0.0</td>\n",
       "      <td>0.0</td>\n",
       "      <td>0.0</td>\n",
       "      <td>0.0</td>\n",
       "      <td>0.0</td>\n",
       "      <td>1.0</td>\n",
       "      <td>0.0</td>\n",
       "      <td>1.0</td>\n",
       "      <td>0.0</td>\n",
       "      <td>218803.0</td>\n",
       "    </tr>\n",
       "    <tr>\n",
       "      <th>756</th>\n",
       "      <td>1.0</td>\n",
       "      <td>0.0</td>\n",
       "      <td>0.0</td>\n",
       "      <td>0.0</td>\n",
       "      <td>0.0</td>\n",
       "      <td>0.0</td>\n",
       "      <td>1.0</td>\n",
       "      <td>0.0</td>\n",
       "      <td>0.0</td>\n",
       "      <td>0.0</td>\n",
       "      <td>0.0</td>\n",
       "      <td>0.0</td>\n",
       "      <td>0.0</td>\n",
       "      <td>1.0</td>\n",
       "      <td>245427.0</td>\n",
       "    </tr>\n",
       "    <tr>\n",
       "      <th>757</th>\n",
       "      <td>0.0</td>\n",
       "      <td>0.0</td>\n",
       "      <td>0.0</td>\n",
       "      <td>1.0</td>\n",
       "      <td>0.0</td>\n",
       "      <td>0.0</td>\n",
       "      <td>0.0</td>\n",
       "      <td>0.0</td>\n",
       "      <td>0.0</td>\n",
       "      <td>1.0</td>\n",
       "      <td>0.0</td>\n",
       "      <td>0.0</td>\n",
       "      <td>1.0</td>\n",
       "      <td>0.0</td>\n",
       "      <td>196225.0</td>\n",
       "    </tr>\n",
       "    <tr>\n",
       "      <th>758</th>\n",
       "      <td>0.0</td>\n",
       "      <td>1.0</td>\n",
       "      <td>0.0</td>\n",
       "      <td>0.0</td>\n",
       "      <td>0.0</td>\n",
       "      <td>0.0</td>\n",
       "      <td>1.0</td>\n",
       "      <td>0.0</td>\n",
       "      <td>0.0</td>\n",
       "      <td>0.0</td>\n",
       "      <td>0.0</td>\n",
       "      <td>0.0</td>\n",
       "      <td>1.0</td>\n",
       "      <td>0.0</td>\n",
       "      <td>133117.0</td>\n",
       "    </tr>\n",
       "    <tr>\n",
       "      <th>759</th>\n",
       "      <td>0.0</td>\n",
       "      <td>1.0</td>\n",
       "      <td>0.0</td>\n",
       "      <td>0.0</td>\n",
       "      <td>0.0</td>\n",
       "      <td>0.0</td>\n",
       "      <td>0.0</td>\n",
       "      <td>0.0</td>\n",
       "      <td>0.0</td>\n",
       "      <td>0.0</td>\n",
       "      <td>1.0</td>\n",
       "      <td>0.0</td>\n",
       "      <td>1.0</td>\n",
       "      <td>0.0</td>\n",
       "      <td>150582.0</td>\n",
       "    </tr>\n",
       "  </tbody>\n",
       "</table>\n",
       "<p>760 rows × 15 columns</p>\n",
       "</div>"
      ],
      "text/plain": [
       "      0    1    2    3    4    5    6    7    8    9    10   11   12   13  \\\n",
       "0    0.0  1.0  0.0  0.0  0.0  0.0  0.0  0.0  0.0  1.0  0.0  0.0  1.0  0.0   \n",
       "1    0.0  0.0  0.0  1.0  0.0  0.0  0.0  0.0  1.0  0.0  0.0  0.0  1.0  0.0   \n",
       "2    0.0  1.0  0.0  0.0  0.0  0.0  0.0  0.0  0.0  1.0  0.0  0.0  1.0  0.0   \n",
       "3    0.0  1.0  0.0  0.0  0.0  0.0  0.0  0.0  0.0  1.0  0.0  0.0  1.0  0.0   \n",
       "4    0.0  1.0  0.0  0.0  0.0  0.0  1.0  0.0  0.0  0.0  0.0  0.0  1.0  0.0   \n",
       "..   ...  ...  ...  ...  ...  ...  ...  ...  ...  ...  ...  ...  ...  ...   \n",
       "755  0.0  0.0  0.0  1.0  0.0  0.0  0.0  0.0  0.0  0.0  1.0  0.0  1.0  0.0   \n",
       "756  1.0  0.0  0.0  0.0  0.0  0.0  1.0  0.0  0.0  0.0  0.0  0.0  0.0  1.0   \n",
       "757  0.0  0.0  0.0  1.0  0.0  0.0  0.0  0.0  0.0  1.0  0.0  0.0  1.0  0.0   \n",
       "758  0.0  1.0  0.0  0.0  0.0  0.0  1.0  0.0  0.0  0.0  0.0  0.0  1.0  0.0   \n",
       "759  0.0  1.0  0.0  0.0  0.0  0.0  0.0  0.0  0.0  0.0  1.0  0.0  1.0  0.0   \n",
       "\n",
       "           14  \n",
       "0     71934.0  \n",
       "1    162665.0  \n",
       "2     42844.0  \n",
       "3    195829.0  \n",
       "4    219217.0  \n",
       "..        ...  \n",
       "755  218803.0  \n",
       "756  245427.0  \n",
       "757  196225.0  \n",
       "758  133117.0  \n",
       "759  150582.0  \n",
       "\n",
       "[760 rows x 15 columns]"
      ]
     },
     "execution_count": 44,
     "metadata": {},
     "output_type": "execute_result"
    }
   ],
   "source": [
    "# Now let's one hot encode the features with the same code as before \n",
    "categorical_features = [\"Make\", \"Colour\", \"Doors\"]\n",
    "one_hot = OneHotEncoder()\n",
    "transformer = ColumnTransformer([(\"one_hot\", \n",
    "                                 one_hot, \n",
    "                                 categorical_features)],\n",
    "                                 remainder=\"passthrough\")\n",
    "\n",
    "# Fill train and test values separately\n",
    "transformed_X_train = transformer.fit_transform(car_sales_filled_train)\n",
    "transformed_X_test = transformer.transform(car_sales_filled_test)\n",
    "\n",
    "# Check transformed and filled X_train\n",
    "pd.DataFrame(transformed_X_train.toarray())"
   ]
  },
  {
   "cell_type": "code",
   "execution_count": 45,
   "id": "39da7c8b-dd56-4d2e-9f50-5ae620ec4b19",
   "metadata": {
    "tags": []
   },
   "outputs": [
    {
     "data": {
      "text/plain": [
       "0.21229043336119102"
      ]
     },
     "execution_count": 45,
     "metadata": {},
     "output_type": "execute_result"
    }
   ],
   "source": [
    "# Now we've transformed X, let's see if we can fit a model\n",
    "np.random.seed(42)\n",
    "from sklearn.ensemble import RandomForestRegressor\n",
    "\n",
    "model = RandomForestRegressor()\n",
    "\n",
    "# Make sure to use transformed (filled and one-hot encoded X data)\n",
    "model.fit(transformed_X_train, y_train)\n",
    "model.score(transformed_X_test, y_test)"
   ]
  },
  {
   "cell_type": "markdown",
   "id": "20f43dc8-30b8-4adc-b37e-ea54e1850c0d",
   "metadata": {},
   "source": [
    "\n",
    "For now, the key takeaways to remember are:\n",
    "* Most datasets you come across won't be in a form ready to immediately start using them with machine learning models. And some may take more preparation than others to get ready to use.\n",
    "* For most machine learning models, your data has to be numerical. This will involve converting whatever you're working with into numbers. This process is often referred to as **feature engineering** or **feature encoding**.\n",
    "* Some machine learning models aren't compatible with missing data. The process of filling missing data is referred to as **data imputation**."
   ]
  },
  {
   "cell_type": "markdown",
   "id": "db60af82-3981-4a9f-8f61-8728961a9b1b",
   "metadata": {},
   "source": [
    "### 1.2.3 Extension: Feature Scaling"
   ]
  },
  {
   "cell_type": "markdown",
   "id": "4db68a80-6572-4d7b-a22b-de87b881eba5",
   "metadata": {},
   "source": [
    "Once your data is all in numerical format, there's one more transformation you'll probably want to do to it.\n",
    "\n",
    "It's called Feature Scaling.\n",
    "\n",
    "In other words, making sure all of your numerical data is on the same scale.\n",
    "\n",
    "For example, say you were trying to predict the sale price of cars and the number of kilometres on their odometers varies from 6,000 to 345,000 but the median previous repair cost varies from 100 to 1,700. A machine learning algorithm may have trouble finding patterns in these wide-ranging variables.\n",
    "\n",
    "To fix this, there are two main types of feature scaling.\n",
    "\n",
    "* Normalization (also called min-max scaling) - This rescales all the numerical values to between 0 and 1, with the lowest value being close to 0 and the highest previous value being close to 1. Scikit-Learn provides functionality for this in the MinMaxScalar class.\n",
    "\n",
    "* Standardization - This subtracts the mean value from all of the features (so the resulting features have 0 mean). It then scales the features to unit variance (by dividing the feature by the standard deviation). Scikit-Learn provides functionality for this in the StandardScalar class.\n",
    "\n",
    "A couple of things to note.\n",
    "\n",
    "* Feature scaling usually isn't required for your target variable.\n",
    "\n",
    "* Feature scaling is usually not required with tree-based models (e.g. Random Forest) since they can handle varying features.\n",
    "\n",
    "Extra reading\n",
    "\n",
    "For further information on this topic, I'd suggest the following resources.\n",
    "\n",
    "[Feature Scaling - why is it required? by Rahul Saini](https://rahul-saini.medium.com/feature-scaling-why-it-is-required-8a93df1af310)\n",
    "\n",
    "[Feature Scaling with Scikit-Learn by Ben Alex Keen](https://benalexkeen.com/feature-scaling-with-scikit-learn/)\n",
    "\n",
    "[Feature Scaling for Machine Learning: Understanding the Difference Between Normalization vs. Standardization by Aniruddha Bhandari](https://www.analyticsvidhya.com/blog/2020/04/feature-scaling-machine-learning-normalization-standardization/)\n",
    "\n"
   ]
  },
  {
   "cell_type": "code",
   "execution_count": 46,
   "id": "70682fdf-eee6-492b-98ad-2a4df6a4f728",
   "metadata": {
    "tags": []
   },
   "outputs": [],
   "source": [
    "from sklearn import preprocessing\n",
    "from sklearn.preprocessing import StandardScaler\n",
    "from sklearn.preprocessing import MinMaxScaler\n",
    "\n",
    "min_max_scaler = preprocessing.MinMaxScaler()\n",
    "X_train_minmax = min_max_scaler.fit_transform(pd.DataFrame(transformed_X_train.toarray()))\n",
    "X_test_minmax = min_max_scaler.transform(pd.DataFrame(transformed_X_test.toarray()))"
   ]
  },
  {
   "cell_type": "code",
   "execution_count": 47,
   "id": "a7aa51b3-8765-4030-b9c7-d8e7e58930c3",
   "metadata": {
    "tags": []
   },
   "outputs": [
    {
     "data": {
      "text/plain": [
       "array([[0.        , 1.        , 0.        , ..., 1.        , 0.        ,\n",
       "        0.25775097],\n",
       "       [0.        , 0.        , 0.        , ..., 1.        , 0.        ,\n",
       "        0.636251  ],\n",
       "       [0.        , 1.        , 0.        , ..., 1.        , 0.        ,\n",
       "        0.13639701],\n",
       "       ...,\n",
       "       [0.        , 0.        , 0.        , ..., 1.        , 0.        ,\n",
       "        0.77625234],\n",
       "       [0.        , 1.        , 0.        , ..., 1.        , 0.        ,\n",
       "        0.51298642],\n",
       "       [0.        , 1.        , 0.        , ..., 1.        , 0.        ,\n",
       "        0.58584468]])"
      ]
     },
     "execution_count": 47,
     "metadata": {},
     "output_type": "execute_result"
    }
   ],
   "source": [
    "X_train_minmax"
   ]
  },
  {
   "cell_type": "code",
   "execution_count": 48,
   "id": "8fdd0b66-b1fe-4754-84ed-14489fc9f06f",
   "metadata": {
    "tags": []
   },
   "outputs": [
    {
     "data": {
      "text/plain": [
       "0.21229043336119102"
      ]
     },
     "execution_count": 48,
     "metadata": {},
     "output_type": "execute_result"
    }
   ],
   "source": [
    "# Now we've transformed X, let's see if we can fit a model\n",
    "np.random.seed(42)\n",
    "from sklearn.ensemble import RandomForestRegressor\n",
    "\n",
    "model = RandomForestRegressor()\n",
    "\n",
    "# Make sure to use transformed (filled and one-hot encoded X data)\n",
    "model.fit(X_train_minmax, y_train)\n",
    "model.score(X_test_minmax, y_test)"
   ]
  },
  {
   "cell_type": "markdown",
   "id": "05b408cc-de63-4899-a075-f55bb935f798",
   "metadata": {
    "tags": []
   },
   "source": [
    "## 2. Choosing the right estimator/algorithm for your problem\n",
    "\n",
    "Once you've got your data ready, the next step is to choose an appropriate machine learning algorithm or model to find patterns in your data.\n",
    "\n",
    "Some things to note:\n",
    "* Sklearn refers to machine learning models and algorithms as estimators.\n",
    "* Classification problem - predicting a category (heart disease or not).\n",
    "    * Sometimes you'll see `clf` (short for classifier) used as a classification estimator instance's variable name.\n",
    "* Regression problem - predicting a number (selling price of a car).\n",
    "* Unsupervised problem - clustering (grouping unlabelled samples with other similar unlabelled samples).\n",
    "\n",
    "If you know what kind of problem you're working with, one of the next places you should look at is the [Scikit-Learn algorithm cheatsheet](https://scikit-learn.org/stable/tutorial/machine_learning_map/index.html).\n",
    "\n",
    "This cheatsheet gives you a bit of an insight into the algorithm you might want to use for the problem you're working on.\n",
    "\n",
    "It's important to remember, you don't have to explicitly know what each algorithm is doing on the inside to start using them. If you do start to apply different algorithms but they don't seem to be working, that's when you'd start to look deeper into each one.\n",
    "\n",
    "Let's check out the cheatsheet and follow it for some of the problems we're working on.\n",
    "\n",
    "<img src=\"images/sklearn-ml-map.png\" width=1200/>\n",
    "\n",
    "You can see it's split into four main categories. Regression, classification, clustering and dimensionality reduction. Each has their own different purpose but the Scikit-Learn team has designed the library so the workflows for each are relatively similar.\n",
    "\n",
    "Let's start with a regression problem (trying to predict a number). We'll use the [California Housing dataset](https://scikit-learn.org/stable/datasets/real_world.html#california-housing-dataset) built into Scikit-Learn's `datasets` module.\n",
    "\n",
    "The goal of the California Housing dataset is to predict a given district's median house value (in hundreds of thousands of dollars) on things like the age of the home, the number of rooms, the number of bedrooms, number of people living the home and more.\n",
    "\n",
    "### 2.1 Picking a machine learning model for a regression problem"
   ]
  },
  {
   "cell_type": "code",
   "execution_count": 49,
   "id": "6184b1c7-2bf5-4a1a-94d5-1c97bfaa8e00",
   "metadata": {
    "tags": []
   },
   "outputs": [],
   "source": [
    "# Get California Housing dataset\n",
    "from sklearn.datasets import fetch_california_housing\n",
    "housing = fetch_california_housing()\n",
    "housing; # gets downloaded as dictionary"
   ]
  },
  {
   "cell_type": "markdown",
   "id": "444995fd-bcde-4dcc-9c27-1720d6b704d3",
   "metadata": {},
   "source": [
    "Since it's in a dictionary, let's turn it into a DataFrame so we can inspect it better."
   ]
  },
  {
   "cell_type": "code",
   "execution_count": 50,
   "id": "a005e73c-c7cc-43c2-a75a-bad7008796ea",
   "metadata": {
    "tags": []
   },
   "outputs": [
    {
     "data": {
      "text/html": [
       "<div>\n",
       "<style scoped>\n",
       "    .dataframe tbody tr th:only-of-type {\n",
       "        vertical-align: middle;\n",
       "    }\n",
       "\n",
       "    .dataframe tbody tr th {\n",
       "        vertical-align: top;\n",
       "    }\n",
       "\n",
       "    .dataframe thead th {\n",
       "        text-align: right;\n",
       "    }\n",
       "</style>\n",
       "<table border=\"1\" class=\"dataframe\">\n",
       "  <thead>\n",
       "    <tr style=\"text-align: right;\">\n",
       "      <th></th>\n",
       "      <th>MedInc</th>\n",
       "      <th>HouseAge</th>\n",
       "      <th>AveRooms</th>\n",
       "      <th>AveBedrms</th>\n",
       "      <th>Population</th>\n",
       "      <th>AveOccup</th>\n",
       "      <th>Latitude</th>\n",
       "      <th>Longitude</th>\n",
       "      <th>target</th>\n",
       "    </tr>\n",
       "  </thead>\n",
       "  <tbody>\n",
       "    <tr>\n",
       "      <th>0</th>\n",
       "      <td>8.3252</td>\n",
       "      <td>41.0</td>\n",
       "      <td>6.984127</td>\n",
       "      <td>1.023810</td>\n",
       "      <td>322.0</td>\n",
       "      <td>2.555556</td>\n",
       "      <td>37.88</td>\n",
       "      <td>-122.23</td>\n",
       "      <td>4.526</td>\n",
       "    </tr>\n",
       "    <tr>\n",
       "      <th>1</th>\n",
       "      <td>8.3014</td>\n",
       "      <td>21.0</td>\n",
       "      <td>6.238137</td>\n",
       "      <td>0.971880</td>\n",
       "      <td>2401.0</td>\n",
       "      <td>2.109842</td>\n",
       "      <td>37.86</td>\n",
       "      <td>-122.22</td>\n",
       "      <td>3.585</td>\n",
       "    </tr>\n",
       "    <tr>\n",
       "      <th>2</th>\n",
       "      <td>7.2574</td>\n",
       "      <td>52.0</td>\n",
       "      <td>8.288136</td>\n",
       "      <td>1.073446</td>\n",
       "      <td>496.0</td>\n",
       "      <td>2.802260</td>\n",
       "      <td>37.85</td>\n",
       "      <td>-122.24</td>\n",
       "      <td>3.521</td>\n",
       "    </tr>\n",
       "    <tr>\n",
       "      <th>3</th>\n",
       "      <td>5.6431</td>\n",
       "      <td>52.0</td>\n",
       "      <td>5.817352</td>\n",
       "      <td>1.073059</td>\n",
       "      <td>558.0</td>\n",
       "      <td>2.547945</td>\n",
       "      <td>37.85</td>\n",
       "      <td>-122.25</td>\n",
       "      <td>3.413</td>\n",
       "    </tr>\n",
       "    <tr>\n",
       "      <th>4</th>\n",
       "      <td>3.8462</td>\n",
       "      <td>52.0</td>\n",
       "      <td>6.281853</td>\n",
       "      <td>1.081081</td>\n",
       "      <td>565.0</td>\n",
       "      <td>2.181467</td>\n",
       "      <td>37.85</td>\n",
       "      <td>-122.25</td>\n",
       "      <td>3.422</td>\n",
       "    </tr>\n",
       "  </tbody>\n",
       "</table>\n",
       "</div>"
      ],
      "text/plain": [
       "   MedInc  HouseAge  AveRooms  AveBedrms  Population  AveOccup  Latitude  \\\n",
       "0  8.3252      41.0  6.984127   1.023810       322.0  2.555556     37.88   \n",
       "1  8.3014      21.0  6.238137   0.971880      2401.0  2.109842     37.86   \n",
       "2  7.2574      52.0  8.288136   1.073446       496.0  2.802260     37.85   \n",
       "3  5.6431      52.0  5.817352   1.073059       558.0  2.547945     37.85   \n",
       "4  3.8462      52.0  6.281853   1.081081       565.0  2.181467     37.85   \n",
       "\n",
       "   Longitude  target  \n",
       "0    -122.23   4.526  \n",
       "1    -122.22   3.585  \n",
       "2    -122.24   3.521  \n",
       "3    -122.25   3.413  \n",
       "4    -122.25   3.422  "
      ]
     },
     "execution_count": 50,
     "metadata": {},
     "output_type": "execute_result"
    }
   ],
   "source": [
    "housing_df = pd.DataFrame(housing[\"data\"], columns=housing[\"feature_names\"])\n",
    "housing_df[\"target\"] = pd.Series(housing[\"target\"])\n",
    "housing_df.head()"
   ]
  },
  {
   "cell_type": "code",
   "execution_count": 51,
   "id": "9392b9c8-3b52-4016-8664-aa5afb39c5b9",
   "metadata": {
    "tags": []
   },
   "outputs": [
    {
     "data": {
      "text/plain": [
       "20640"
      ]
     },
     "execution_count": 51,
     "metadata": {},
     "output_type": "execute_result"
    }
   ],
   "source": [
    "# How many samples?\n",
    "len(housing_df)"
   ]
  },
  {
   "cell_type": "markdown",
   "id": "74ef21ba-9ed6-4a3a-bbad-c1f2f8f5c7a6",
   "metadata": {},
   "source": [
    "Beautiful, our goal here is to use the feature columns, such as:\n",
    "* `MedInc` - median income in block group\n",
    "* `HouseAge` - median house age in block group\n",
    "* `AveRooms` - average number of rooms per household\n",
    "* `AveBedrms` - average number of bedrooms per household\n",
    "\n",
    "To predict the `target` column which expresses the median house value for specfici California districts in hundreds of thousands of dollars ($100,000). \n",
    "\n",
    "In essence, each row is a different district in California (the data) and we're trying to build a model to predict the median house value in that distract (the target/label) given a series of attributes about the houses in that district.\n",
    "\n",
    "Since we have data and labels, this is a supervised learning problem. And since we're trying to predict a number, it's a regression problem.\n",
    "\n",
    "Knowing these two things, how do they line up on the Scikit-Learn machine learning algorithm cheat-sheet?\n",
    "\n",
    "<img src=\"images/sklearn-ml-map-cheatsheet-california-housing-ridge.png\" width=1200/>\n",
    "\n",
    "Following the map through, knowing what we know, it suggests we try [`RidgeRegression`](https://scikit-learn.org/stable/modules/linear_model.html#ridge-regression). Let's chek it out."
   ]
  },
  {
   "cell_type": "code",
   "execution_count": 52,
   "id": "adb43256-341a-4568-8312-732db4d629ef",
   "metadata": {
    "tags": []
   },
   "outputs": [
    {
     "data": {
      "text/plain": [
       "0.5758549611440126"
      ]
     },
     "execution_count": 52,
     "metadata": {},
     "output_type": "execute_result"
    }
   ],
   "source": [
    "# Import the Ridge model class from the linear_model module\n",
    "from sklearn.linear_model import Ridge\n",
    "\n",
    "# Setup random seed\n",
    "np.random.seed(42)\n",
    "\n",
    "# Create the data\n",
    "X = housing_df.drop(\"target\", axis=1)\n",
    "y = housing_df[\"target\"]\n",
    "\n",
    "# Split into train and test sets\n",
    "X_train, X_test, y_train, y_test = train_test_split(X, y, test_size=0.2)\n",
    "\n",
    "# Initiate and fit the model (on the training set)\n",
    "model = Ridge()\n",
    "model.fit(X_train, y_train)\n",
    "\n",
    "# Check the score of the model (on the test set)\n",
    "# The default score() metirc of regression aglorithms is R^2\n",
    "model.score(X_test, y_test)"
   ]
  },
  {
   "cell_type": "markdown",
   "id": "7c13b41c-ec2e-4e9f-a456-697df331320d",
   "metadata": {
    "tags": []
   },
   "source": [
    "What if `RidgeRegression` didn't work? Or what if we wanted to improve our results?\n",
    "\n",
    "<img src=\"images/sklearn-ml-map-cheatsheet-california-housing-ensemble.png\" width=1200/>\n",
    "\n",
    "Following the diagram, the next step would be to try [`EnsembleRegressors`](https://scikit-learn.org/stable/modules/ensemble.html). Ensemble is another word for multiple models put together to make a decision.\n",
    "\n",
    "One of the most common and useful ensemble methods is the [Random Forest](https://scikit-learn.org/stable/modules/ensemble.html#forest). Known for its fast training and prediction times and adaptibility to different problems.\n",
    "\n",
    "The basic premise of the Random Forest is to combine a number of different decision trees, each one random from the other and make a prediction on a sample by averaging the result of each decision tree.\n",
    "\n",
    "An in-depth discussion of the Random Forest algorithm is beyond the scope of this notebook but if you're interested in learning more, [An Implementation and Explanation of the Random Forest in Python](https://towardsdatascience.com/an-implementation-and-explanation-of-the-random-forest-in-python-77bf308a9b76) by Will Koehrsen is a great read.\n",
    "\n",
    "Since we're working with regression, we'll use Scikit-Learn's [`RandomForestRegressor`](https://scikit-learn.org/stable/modules/generated/sklearn.ensemble.RandomForestRegressor.html).\n",
    "\n",
    "We can use the exact same workflow as above. Except for changing the model."
   ]
  },
  {
   "cell_type": "code",
   "execution_count": 53,
   "id": "a78433a0-67cd-4083-aca6-135d0aa6a9a1",
   "metadata": {
    "tags": []
   },
   "outputs": [
    {
     "data": {
      "text/plain": [
       "0.8066196804802649"
      ]
     },
     "execution_count": 53,
     "metadata": {},
     "output_type": "execute_result"
    }
   ],
   "source": [
    "# Import the RandomForestRegressor model class from the ensemble module\n",
    "from sklearn.ensemble import RandomForestRegressor\n",
    "\n",
    "# Setup random seed\n",
    "np.random.seed(42)\n",
    "\n",
    "# Create the data\n",
    "X = housing_df.drop(\"target\", axis=1)\n",
    "y = housing_df[\"target\"]\n",
    "\n",
    "# Split into train and test sets\n",
    "X_train, X_test, y_train, y_test = train_test_split(X, y, test_size=0.2)\n",
    "\n",
    "# Institate and fit the model (on the training set)\n",
    "model = RandomForestRegressor()\n",
    "model.fit(X_train, y_train)\n",
    "\n",
    "# Check the score of the model (on the test set)\n",
    "# The default score metirc of regression aglorithms is R^2\n",
    "model.score(X_test, y_test)"
   ]
  },
  {
   "cell_type": "markdown",
   "id": "589c3798-e5e2-4bff-82ce-82f9cedf2199",
   "metadata": {
    "tags": []
   },
   "source": [
    "Woah, we get a boost in score on the test set of over 0.2 with a change of model.\n",
    "\n",
    "At first, the diagram can seem confusing. But once you get a little practice applying different models to different problems, you'll start to pick up which sorts of algorithms do better with different types of data.\n",
    "\n",
    "### 2.2 Picking a machine learning model for a classification problem\n",
    "Now, let's check out the choosing process for a classification problem.\n",
    "\n",
    "Say you were trying to predict whether or not a patient had heart disease based on their medical records.\n",
    "\n",
    "The dataset in `../data/heart-disease.csv` contains data for just that problem."
   ]
  },
  {
   "cell_type": "code",
   "execution_count": 54,
   "id": "65975706-5655-43c2-bc60-cc48689bb950",
   "metadata": {
    "tags": []
   },
   "outputs": [
    {
     "data": {
      "text/html": [
       "<div>\n",
       "<style scoped>\n",
       "    .dataframe tbody tr th:only-of-type {\n",
       "        vertical-align: middle;\n",
       "    }\n",
       "\n",
       "    .dataframe tbody tr th {\n",
       "        vertical-align: top;\n",
       "    }\n",
       "\n",
       "    .dataframe thead th {\n",
       "        text-align: right;\n",
       "    }\n",
       "</style>\n",
       "<table border=\"1\" class=\"dataframe\">\n",
       "  <thead>\n",
       "    <tr style=\"text-align: right;\">\n",
       "      <th></th>\n",
       "      <th>age</th>\n",
       "      <th>sex</th>\n",
       "      <th>cp</th>\n",
       "      <th>trestbps</th>\n",
       "      <th>chol</th>\n",
       "      <th>fbs</th>\n",
       "      <th>restecg</th>\n",
       "      <th>thalach</th>\n",
       "      <th>exang</th>\n",
       "      <th>oldpeak</th>\n",
       "      <th>slope</th>\n",
       "      <th>ca</th>\n",
       "      <th>thal</th>\n",
       "      <th>target</th>\n",
       "    </tr>\n",
       "  </thead>\n",
       "  <tbody>\n",
       "    <tr>\n",
       "      <th>0</th>\n",
       "      <td>63</td>\n",
       "      <td>1</td>\n",
       "      <td>3</td>\n",
       "      <td>145</td>\n",
       "      <td>233</td>\n",
       "      <td>1</td>\n",
       "      <td>0</td>\n",
       "      <td>150</td>\n",
       "      <td>0</td>\n",
       "      <td>2.3</td>\n",
       "      <td>0</td>\n",
       "      <td>0</td>\n",
       "      <td>1</td>\n",
       "      <td>1</td>\n",
       "    </tr>\n",
       "    <tr>\n",
       "      <th>1</th>\n",
       "      <td>37</td>\n",
       "      <td>1</td>\n",
       "      <td>2</td>\n",
       "      <td>130</td>\n",
       "      <td>250</td>\n",
       "      <td>0</td>\n",
       "      <td>1</td>\n",
       "      <td>187</td>\n",
       "      <td>0</td>\n",
       "      <td>3.5</td>\n",
       "      <td>0</td>\n",
       "      <td>0</td>\n",
       "      <td>2</td>\n",
       "      <td>1</td>\n",
       "    </tr>\n",
       "    <tr>\n",
       "      <th>2</th>\n",
       "      <td>41</td>\n",
       "      <td>0</td>\n",
       "      <td>1</td>\n",
       "      <td>130</td>\n",
       "      <td>204</td>\n",
       "      <td>0</td>\n",
       "      <td>0</td>\n",
       "      <td>172</td>\n",
       "      <td>0</td>\n",
       "      <td>1.4</td>\n",
       "      <td>2</td>\n",
       "      <td>0</td>\n",
       "      <td>2</td>\n",
       "      <td>1</td>\n",
       "    </tr>\n",
       "    <tr>\n",
       "      <th>3</th>\n",
       "      <td>56</td>\n",
       "      <td>1</td>\n",
       "      <td>1</td>\n",
       "      <td>120</td>\n",
       "      <td>236</td>\n",
       "      <td>0</td>\n",
       "      <td>1</td>\n",
       "      <td>178</td>\n",
       "      <td>0</td>\n",
       "      <td>0.8</td>\n",
       "      <td>2</td>\n",
       "      <td>0</td>\n",
       "      <td>2</td>\n",
       "      <td>1</td>\n",
       "    </tr>\n",
       "    <tr>\n",
       "      <th>4</th>\n",
       "      <td>57</td>\n",
       "      <td>0</td>\n",
       "      <td>0</td>\n",
       "      <td>120</td>\n",
       "      <td>354</td>\n",
       "      <td>0</td>\n",
       "      <td>1</td>\n",
       "      <td>163</td>\n",
       "      <td>1</td>\n",
       "      <td>0.6</td>\n",
       "      <td>2</td>\n",
       "      <td>0</td>\n",
       "      <td>2</td>\n",
       "      <td>1</td>\n",
       "    </tr>\n",
       "  </tbody>\n",
       "</table>\n",
       "</div>"
      ],
      "text/plain": [
       "   age  sex  cp  trestbps  chol  fbs  restecg  thalach  exang  oldpeak  slope  \\\n",
       "0   63    1   3       145   233    1        0      150      0      2.3      0   \n",
       "1   37    1   2       130   250    0        1      187      0      3.5      0   \n",
       "2   41    0   1       130   204    0        0      172      0      1.4      2   \n",
       "3   56    1   1       120   236    0        1      178      0      0.8      2   \n",
       "4   57    0   0       120   354    0        1      163      1      0.6      2   \n",
       "\n",
       "   ca  thal  target  \n",
       "0   0     1       1  \n",
       "1   0     2       1  \n",
       "2   0     2       1  \n",
       "3   0     2       1  \n",
       "4   0     2       1  "
      ]
     },
     "execution_count": 54,
     "metadata": {},
     "output_type": "execute_result"
    }
   ],
   "source": [
    "heart_disease = pd.read_csv(\"data/heart-disease.csv\")\n",
    "heart_disease.head()"
   ]
  },
  {
   "cell_type": "code",
   "execution_count": 55,
   "id": "e481eff3-d54d-4fb5-8435-14861037e5eb",
   "metadata": {
    "tags": []
   },
   "outputs": [
    {
     "data": {
      "text/plain": [
       "303"
      ]
     },
     "execution_count": 55,
     "metadata": {},
     "output_type": "execute_result"
    }
   ],
   "source": [
    "# How many samples are there?\n",
    "len(heart_disease)"
   ]
  },
  {
   "cell_type": "markdown",
   "id": "c1daf5e3-71af-41e3-ad7d-0114771f25f8",
   "metadata": {
    "tags": []
   },
   "source": [
    "Similar to the California Housing dataset, here we want to use all of the available data to predict the target column (1 for if a patient has heart disease and 0 for if they don't).\n",
    "\n",
    "So what do we know?\n",
    "\n",
    "We've got 303 samples (1 row = 1 sample) and we're trying to predict whether or not a patient has heart disease.\n",
    "\n",
    "Because we're trying to predict whether each sample is one thing or another, we've got a classification problem.\n",
    "\n",
    "Let's see how it lines up with our [Scikit-Learn algorithm cheat-sheet](https://scikit-learn.org/stable/tutorial/machine_learning_map/index.html).\n",
    "\n",
    "<img src=\"images/sklearn-ml-map-cheatsheet-heart-disease-linear-svc.png\" width=1200/>\n",
    "\n",
    "Following the cheat-sheet we end up at [`LinearSVC`](https://scikit-learn.org/stable/modules/generated/sklearn.svm.LinearSVC.html#sklearn.svm.LinearSVC) which stands for Linear Support Vector Classifier. Let's try it on our data. "
   ]
  },
  {
   "cell_type": "code",
   "execution_count": 56,
   "id": "a4cc35a4-0bac-48df-9636-a64b6d34742b",
   "metadata": {
    "tags": []
   },
   "outputs": [
    {
     "name": "stderr",
     "output_type": "stream",
     "text": [
      "/usr/local/lib/python3.10/dist-packages/sklearn/svm/_base.py:1244: ConvergenceWarning: Liblinear failed to converge, increase the number of iterations.\n",
      "  warnings.warn(\n"
     ]
    },
    {
     "data": {
      "text/plain": [
       "0.47540983606557374"
      ]
     },
     "execution_count": 56,
     "metadata": {},
     "output_type": "execute_result"
    }
   ],
   "source": [
    "# Import LinearSVC from the svm module\n",
    "from sklearn.svm import LinearSVC\n",
    "\n",
    "# Setup random seed\n",
    "np.random.seed(42)\n",
    "\n",
    "# Split the data into X (features/data) and y (target/labels)\n",
    "X = heart_disease.drop(\"target\", axis=1)\n",
    "y = heart_disease[\"target\"]\n",
    "\n",
    "# Split into train and test sets\n",
    "X_train, X_test, y_train, y_test = train_test_split(X, y, test_size=0.2)\n",
    "\n",
    "# Instantiate and fit the model (on the training set)\n",
    "clf = LinearSVC(max_iter=100) # max_iter=1000\n",
    "clf.fit(X_train, y_train)\n",
    "\n",
    "# Check the score of the model (on the test set)\n",
    "clf.score(X_test, y_test)"
   ]
  },
  {
   "cell_type": "markdown",
   "id": "40609081-49c9-435d-8e3c-db838e834c15",
   "metadata": {},
   "source": [
    "Straight out of the box (with no tuning or improvements) the model scores 47% accuracy, which with 2 classes (heart disease or not) is as good as guessing.\n",
    "\n",
    "With this result, we'll go back to our diagram and see what our options are.\n",
    "\n",
    "<img src=\"images/sklearn-ml-map-cheatsheet-heart-disease-ensemble.png\" width=1200/>\n",
    "\n",
    "Following the path (and skipping a few, don't worry, we'll get to this) we come up to [`EnsembleMethods`](https://scikit-learn.org/stable/modules/ensemble.html) again. Except this time, we'll be looking at ensemble classifiers instead of regressors.\n",
    "\n",
    "Remember our [`RandomForestRegressor`](https://scikit-learn.org/stable/modules/generated/sklearn.ensemble.RandomForestRegressor.html) from above? We'll it has a dance partner, [`RandomForestClassifier`](https://scikit-learn.org/stable/modules/generated/sklearn.ensemble.RandomForestClassifier.html) which is an ensemble based machine model learning model for classification. You might be able to guess what we can use it for.\n",
    "\n",
    "Let's try."
   ]
  },
  {
   "cell_type": "code",
   "execution_count": 57,
   "id": "c734df90-240e-49b2-aa12-fffa2b1f19b5",
   "metadata": {
    "tags": []
   },
   "outputs": [
    {
     "data": {
      "text/plain": [
       "0.8524590163934426"
      ]
     },
     "execution_count": 57,
     "metadata": {},
     "output_type": "execute_result"
    }
   ],
   "source": [
    "# Import the RandomForestClassifier model class from the ensemble module\n",
    "from sklearn.ensemble import RandomForestClassifier\n",
    "\n",
    "# Setup random seed\n",
    "np.random.seed(42)\n",
    "\n",
    "# Split the data into X (features/data) and y (target/labels)\n",
    "X = heart_disease.drop(\"target\", axis=1)\n",
    "y = heart_disease[\"target\"]\n",
    "\n",
    "# Split into train and test sets\n",
    "X_train, X_test, y_train, y_test = train_test_split(X, y, test_size=0.2)\n",
    "\n",
    "# Instantiate and fit the model (on the training set)\n",
    "clf = RandomForestClassifier()  # n_estimators=1000\n",
    "clf.fit(X_train, y_train)\n",
    "\n",
    "# Check the score of the model (on the test set)\n",
    "clf.score(X_test, y_test)"
   ]
  },
  {
   "cell_type": "markdown",
   "id": "7b08216e-d3f6-487c-b7c1-273f605396a7",
   "metadata": {},
   "source": [
    "\n",
    "One thing to remember, is both models are yet to receive any hyperparameter tuning. Hyperparameter tuning is fancy term for adjusting some settings on a model to try and make it better. It usually happens once you've found a decent baseline result you'd like to improve upon.\n",
    "\n",
    "In this case, we'd probably take the `RandomForestClassifier` and try and improve it with hyperparameter tuning (which we'll see later on).\n",
    "\n",
    "### What about the other models?\n",
    "\n",
    "Looking at the cheat-sheet and the examples above, you may have noticed we've skipped a few.\n",
    "\n",
    "Why?\n",
    "\n",
    "The first reason is time. Covering every single one would take a fair bit longer than what we've done here. And the second one is the effectiveness of ensemble methods.\n",
    "\n",
    "A little tidbit for modelling in machine learning is:\n",
    "* If you have structured data (tables or dataframes), use ensemble methods, such as, a Random Forest.\n",
    "* If you have unstructured data (text, images, audio, things not in tables), use deep learning or transfer learning.\n",
    "\n",
    "For this notebook, we're focused on structured data, which is why the Random Forest has been our model of choice.\n",
    "\n",
    "If you'd like to learn more about the Random Forest and why it's the war horse of machine learning, check out these resources:\n",
    "* [Random Forest Wikipedia](https://en.wikipedia.org/wiki/Random_forest)\n",
    "* [An Implementation and Explanation of the Random Forest in Python](https://towardsdatascience.com/an-implementation-and-explanation-of-the-random-forest-in-python-77bf308a9b76) by Will Koehrsen\n",
    "\n",
    "### Experiment until something works\n",
    "\n",
    "The beautiful thing is, the way the Scikit-Learn API is designed, once you know the way with one model, using another is much the same.\n",
    "\n",
    "And since a big part of being a machine learning engineer or data scientist is experimenting, you might want to try out some of the other models on the cheat-sheet and see how you go. The more you can reduce the time between experiments, the better."
   ]
  },
  {
   "cell_type": "markdown",
   "id": "8b8770cf-ee8c-4392-887d-f3360693b11d",
   "metadata": {},
   "source": [
    "## 3. Fit the model to data and using it to make predictions\n",
    "\n",
    "Now you've chosen a model, the next step is to have it learn from the data so it can be used for predictions in the future.\n",
    "\n",
    "If you've followed through, you've seen a few examples of this already.\n",
    "\n",
    "### 3.1 Fitting a model to data\n",
    "\n",
    "In Scikit-Learn, the process of having a machine learning model learn patterns from a dataset involves calling the `fit()` method and passing it data, such as, `fit(X, y)`.\n",
    "\n",
    "Where `X` is a feature array and `y` is a target array.\n",
    "\n",
    "Other names for `X` include:\n",
    "* Data\n",
    "* Feature variables\n",
    "* Features\n",
    "\n",
    "Other names for `y` include:\n",
    "* Labels\n",
    "* Target variable\n",
    "\n",
    "For supervised learning there is usually an `X` and `y`. For unsupervised learning, there's no `y` (no labels).\n",
    "\n",
    "Let's revisit the example of using patient data (`X`) to predict whether or not they have heart disease (`y`)."
   ]
  },
  {
   "cell_type": "code",
   "execution_count": 58,
   "id": "02d7c9b7-4046-44e7-ba71-09108aa7f367",
   "metadata": {},
   "outputs": [
    {
     "data": {
      "text/plain": [
       "0.8524590163934426"
      ]
     },
     "execution_count": 58,
     "metadata": {},
     "output_type": "execute_result"
    }
   ],
   "source": [
    "# Import the RandomForestClassifier model class from the ensemble module\n",
    "from sklearn.ensemble import RandomForestClassifier\n",
    "\n",
    "# Setup random seed\n",
    "np.random.seed(42)\n",
    "\n",
    "# Split the data into X (features/data) and y (target/labels)\n",
    "X = heart_disease.drop(\"target\", axis=1)\n",
    "y = heart_disease[\"target\"]\n",
    "\n",
    "# Split into train and test sets\n",
    "X_train, X_test, y_train, y_test = train_test_split(X, y, test_size=0.2)\n",
    "\n",
    "# Instantiate the model (on the training set)\n",
    "clf = RandomForestClassifier()\n",
    "\n",
    "# Call the fit method on the model and pass it training data\n",
    "clf.fit(X_train, y_train)\n",
    "\n",
    "# Check the score of the model (on the test set)\n",
    "clf.score(X_test, y_test)"
   ]
  },
  {
   "cell_type": "markdown",
   "id": "c64ef16d-f506-4450-ab10-7274dec59779",
   "metadata": {},
   "source": [
    "What's happening here?\n",
    "\n",
    "Calling the `fit()` method will cause the machine learning algorithm to attempt to find patterns between `X` and `y`. Or if there's no `y`, it'll only find the patterns within `X`.\n",
    "\n",
    "Let's see `X`."
   ]
  },
  {
   "cell_type": "code",
   "execution_count": 59,
   "id": "9005ed0d-57b0-437d-bf2b-53b6d613149e",
   "metadata": {},
   "outputs": [
    {
     "data": {
      "text/html": [
       "<div>\n",
       "<style scoped>\n",
       "    .dataframe tbody tr th:only-of-type {\n",
       "        vertical-align: middle;\n",
       "    }\n",
       "\n",
       "    .dataframe tbody tr th {\n",
       "        vertical-align: top;\n",
       "    }\n",
       "\n",
       "    .dataframe thead th {\n",
       "        text-align: right;\n",
       "    }\n",
       "</style>\n",
       "<table border=\"1\" class=\"dataframe\">\n",
       "  <thead>\n",
       "    <tr style=\"text-align: right;\">\n",
       "      <th></th>\n",
       "      <th>age</th>\n",
       "      <th>sex</th>\n",
       "      <th>cp</th>\n",
       "      <th>trestbps</th>\n",
       "      <th>chol</th>\n",
       "      <th>fbs</th>\n",
       "      <th>restecg</th>\n",
       "      <th>thalach</th>\n",
       "      <th>exang</th>\n",
       "      <th>oldpeak</th>\n",
       "      <th>slope</th>\n",
       "      <th>ca</th>\n",
       "      <th>thal</th>\n",
       "    </tr>\n",
       "  </thead>\n",
       "  <tbody>\n",
       "    <tr>\n",
       "      <th>0</th>\n",
       "      <td>63</td>\n",
       "      <td>1</td>\n",
       "      <td>3</td>\n",
       "      <td>145</td>\n",
       "      <td>233</td>\n",
       "      <td>1</td>\n",
       "      <td>0</td>\n",
       "      <td>150</td>\n",
       "      <td>0</td>\n",
       "      <td>2.3</td>\n",
       "      <td>0</td>\n",
       "      <td>0</td>\n",
       "      <td>1</td>\n",
       "    </tr>\n",
       "    <tr>\n",
       "      <th>1</th>\n",
       "      <td>37</td>\n",
       "      <td>1</td>\n",
       "      <td>2</td>\n",
       "      <td>130</td>\n",
       "      <td>250</td>\n",
       "      <td>0</td>\n",
       "      <td>1</td>\n",
       "      <td>187</td>\n",
       "      <td>0</td>\n",
       "      <td>3.5</td>\n",
       "      <td>0</td>\n",
       "      <td>0</td>\n",
       "      <td>2</td>\n",
       "    </tr>\n",
       "    <tr>\n",
       "      <th>2</th>\n",
       "      <td>41</td>\n",
       "      <td>0</td>\n",
       "      <td>1</td>\n",
       "      <td>130</td>\n",
       "      <td>204</td>\n",
       "      <td>0</td>\n",
       "      <td>0</td>\n",
       "      <td>172</td>\n",
       "      <td>0</td>\n",
       "      <td>1.4</td>\n",
       "      <td>2</td>\n",
       "      <td>0</td>\n",
       "      <td>2</td>\n",
       "    </tr>\n",
       "    <tr>\n",
       "      <th>3</th>\n",
       "      <td>56</td>\n",
       "      <td>1</td>\n",
       "      <td>1</td>\n",
       "      <td>120</td>\n",
       "      <td>236</td>\n",
       "      <td>0</td>\n",
       "      <td>1</td>\n",
       "      <td>178</td>\n",
       "      <td>0</td>\n",
       "      <td>0.8</td>\n",
       "      <td>2</td>\n",
       "      <td>0</td>\n",
       "      <td>2</td>\n",
       "    </tr>\n",
       "    <tr>\n",
       "      <th>4</th>\n",
       "      <td>57</td>\n",
       "      <td>0</td>\n",
       "      <td>0</td>\n",
       "      <td>120</td>\n",
       "      <td>354</td>\n",
       "      <td>0</td>\n",
       "      <td>1</td>\n",
       "      <td>163</td>\n",
       "      <td>1</td>\n",
       "      <td>0.6</td>\n",
       "      <td>2</td>\n",
       "      <td>0</td>\n",
       "      <td>2</td>\n",
       "    </tr>\n",
       "  </tbody>\n",
       "</table>\n",
       "</div>"
      ],
      "text/plain": [
       "   age  sex  cp  trestbps  chol  fbs  restecg  thalach  exang  oldpeak  slope  \\\n",
       "0   63    1   3       145   233    1        0      150      0      2.3      0   \n",
       "1   37    1   2       130   250    0        1      187      0      3.5      0   \n",
       "2   41    0   1       130   204    0        0      172      0      1.4      2   \n",
       "3   56    1   1       120   236    0        1      178      0      0.8      2   \n",
       "4   57    0   0       120   354    0        1      163      1      0.6      2   \n",
       "\n",
       "   ca  thal  \n",
       "0   0     1  \n",
       "1   0     2  \n",
       "2   0     2  \n",
       "3   0     2  \n",
       "4   0     2  "
      ]
     },
     "execution_count": 59,
     "metadata": {},
     "output_type": "execute_result"
    }
   ],
   "source": [
    "X.head()"
   ]
  },
  {
   "cell_type": "code",
   "execution_count": 60,
   "id": "c8335452-6f8d-4244-a973-8728c5c5b103",
   "metadata": {},
   "outputs": [
    {
     "data": {
      "text/plain": [
       "0    1\n",
       "1    1\n",
       "2    1\n",
       "3    1\n",
       "4    1\n",
       "Name: target, dtype: int64"
      ]
     },
     "execution_count": 60,
     "metadata": {},
     "output_type": "execute_result"
    }
   ],
   "source": [
    "y.head()"
   ]
  },
  {
   "cell_type": "markdown",
   "id": "1dfec3e7-0c6f-4281-9c0e-571bfbb4f4b1",
   "metadata": {},
   "source": [
    "Passing `X` and `y` to `fit()` will cause the model to go through all of the examples in `X` (data) and see what their corresponding `y` (label) is.\n",
    "\n",
    "How the model does this is different depending on the model you use.\n",
    "\n",
    "Explaining the details of each would take an entire textbook. \n",
    "\n",
    "For now, you could imagine it similar to how you would figure out patterns if you had enough time. \n",
    "\n",
    "You'd look at the feature variables, `X`, the `age`, `sex`, `chol` (cholesterol) and see what different values led to the labels, `y`, `1` for heart disease, `0` for not heart disease.\n",
    "\n",
    "This concept, regardless of the problem, is similar throughout all of machine learning.\n",
    "\n",
    "**During training (finding patterns in data):**\n",
    "\n",
    "A machine learning algorithm looks at a dataset, finds patterns, tries to use those patterns to predict something and corrects itself as best it can with the available data and labels. It stores these patterns for later use.\n",
    "\n",
    "**During testing or in production (using learned patterns):**\n",
    "\n",
    "A machine learning algorithm uses the patterns its previously learned in a dataset to make a prediction on some unseen data.\n",
    "\n",
    "### 3.2 Making predictions using a machine learning model\n",
    "Now we've got a trained model, one which has hopefully learned patterns in the data, you'll want to use it to make predictions.\n",
    "\n",
    "Scikit-Learn enables this in several ways. Two of the most common and useful are [`predict()`](https://github.com/scikit-learn/scikit-learn/blob/5f3c3f037/sklearn/multiclass.py#L299) and [`predict_proba()`](https://github.com/scikit-learn/scikit-learn/blob/5f3c3f037/sklearn/linear_model/_logistic.py#L1617).\n",
    "\n",
    "Let's see them in action."
   ]
  },
  {
   "cell_type": "code",
   "execution_count": 61,
   "id": "e39faba3-fe19-4915-8c59-16becd154276",
   "metadata": {},
   "outputs": [
    {
     "data": {
      "text/plain": [
       "array([0, 1, 1, 0, 1, 1, 1, 0, 0, 1, 1, 0, 1, 0, 1, 1, 1, 0, 0, 0, 0, 0,\n",
       "       1, 1, 1, 1, 1, 1, 0, 1, 0, 0, 0, 0, 1, 0, 1, 1, 1, 1, 1, 1, 1, 1,\n",
       "       1, 0, 1, 1, 0, 0, 0, 0, 1, 1, 0, 0, 0, 1, 0, 0, 0])"
      ]
     },
     "execution_count": 61,
     "metadata": {},
     "output_type": "execute_result"
    }
   ],
   "source": [
    "# Use a trained model to make predictions\n",
    "clf.predict(X_test)"
   ]
  },
  {
   "cell_type": "markdown",
   "id": "05b383ad-1e41-43ee-ae58-1d0bba431c04",
   "metadata": {},
   "source": [
    "Given data in the form of `X`, the `predict()` function returns labels in the form of `y`.\n",
    "\n",
    "It's standard practice to save these predictions to a variable named something like `y_preds` for later comparison to `y_test` or `y_true` (usually same as `y_test` just another name)."
   ]
  },
  {
   "cell_type": "code",
   "execution_count": 62,
   "id": "58416d1c-3a70-4892-bf5f-6b214f6921bb",
   "metadata": {},
   "outputs": [
    {
     "data": {
      "text/plain": [
       "0.8524590163934426"
      ]
     },
     "execution_count": 62,
     "metadata": {},
     "output_type": "execute_result"
    }
   ],
   "source": [
    "# Compare predictions to truth\n",
    "y_preds = clf.predict(X_test)\n",
    "np.mean(y_preds == y_test)"
   ]
  },
  {
   "cell_type": "markdown",
   "id": "2d5d158b-a12c-461f-baa8-d3adbe2a2155",
   "metadata": {},
   "source": [
    "Another way of doing this is with Scikit-Learn's [`accuracy_score()`](https://scikit-learn.org/stable/modules/generated/sklearn.metrics.accuracy_score.html) function."
   ]
  },
  {
   "cell_type": "code",
   "execution_count": 63,
   "id": "0789b887-d2e3-4271-b8f0-1c434675689f",
   "metadata": {},
   "outputs": [
    {
     "data": {
      "text/plain": [
       "0.8524590163934426"
      ]
     },
     "execution_count": 63,
     "metadata": {},
     "output_type": "execute_result"
    }
   ],
   "source": [
    "from sklearn.metrics import accuracy_score\n",
    "accuracy_score(y_test, y_preds)"
   ]
  },
  {
   "cell_type": "markdown",
   "id": "2266736e-1e2e-47c9-8481-ce43f12e1e1f",
   "metadata": {},
   "source": [
    "**Note:** For the `predict()` function to work, it must be passed `X` (data) in the same format the model was trained on. Anything different and it will return an error.\n",
    "\n",
    "`predict_proba()` returns the probabilities of a classification label."
   ]
  },
  {
   "cell_type": "code",
   "execution_count": 64,
   "id": "e113e1b3-cb74-4346-ad6a-f20d58b6ea7f",
   "metadata": {
    "tags": []
   },
   "outputs": [
    {
     "data": {
      "text/plain": [
       "array([[0.89, 0.11],\n",
       "       [0.49, 0.51],\n",
       "       [0.43, 0.57],\n",
       "       [0.84, 0.16],\n",
       "       [0.18, 0.82]])"
      ]
     },
     "execution_count": 64,
     "metadata": {},
     "output_type": "execute_result"
    }
   ],
   "source": [
    "# Return probabilities rather than labels\n",
    "clf.predict_proba(X_test[:5])"
   ]
  },
  {
   "cell_type": "markdown",
   "id": "9b6b76aa-d216-4d34-ad66-b639e165c6f0",
   "metadata": {},
   "source": [
    "Let's see the difference."
   ]
  },
  {
   "cell_type": "code",
   "execution_count": 65,
   "id": "38f2ed71-0804-40a0-b136-9178daeab100",
   "metadata": {
    "tags": []
   },
   "outputs": [
    {
     "data": {
      "text/plain": [
       "array([0, 1, 1, 0, 1])"
      ]
     },
     "execution_count": 65,
     "metadata": {},
     "output_type": "execute_result"
    }
   ],
   "source": [
    "# Return labels\n",
    "clf.predict(X_test[:5])"
   ]
  },
  {
   "cell_type": "markdown",
   "id": "523942e7-a452-4695-bc45-7f1433304ace",
   "metadata": {},
   "source": [
    "`predict_proba()` returns an array of five arrays each containing two values.\n",
    "\n",
    "Each number is the probability of a label given a sample."
   ]
  },
  {
   "cell_type": "code",
   "execution_count": 66,
   "id": "d97037b3-23eb-40bd-9fc7-76b4194ea61b",
   "metadata": {
    "tags": []
   },
   "outputs": [
    {
     "data": {
      "text/plain": [
       "array([[0.89, 0.11]])"
      ]
     },
     "execution_count": 66,
     "metadata": {},
     "output_type": "execute_result"
    }
   ],
   "source": [
    "# Find prediction probabilities for 1 sample\n",
    "clf.predict_proba(X_test[:1])"
   ]
  },
  {
   "cell_type": "markdown",
   "id": "7750972b-8b0b-428d-b0d0-737176f8f54e",
   "metadata": {},
   "source": [
    "This output means the sample `X_test[:1]`, the model is predicting label 0 (index 0) with a probability score of 0.9.\n",
    "\n",
    "Because the score is over 0.5, when using `predict()`, a label of 0 is assigned."
   ]
  },
  {
   "cell_type": "code",
   "execution_count": 67,
   "id": "505efec9-3e8f-47be-9867-8a744e6c6868",
   "metadata": {
    "tags": []
   },
   "outputs": [
    {
     "data": {
      "text/plain": [
       "array([0])"
      ]
     },
     "execution_count": 67,
     "metadata": {},
     "output_type": "execute_result"
    }
   ],
   "source": [
    "# Return the label for 1 sample\n",
    "clf.predict(X_test[:1])"
   ]
  },
  {
   "cell_type": "markdown",
   "id": "7adcd52f-a03e-4de1-a92c-c6674145f2fe",
   "metadata": {},
   "source": [
    "Where does 0.5 come from?\n",
    "\n",
    "Because our problem is a binary classification task (heart disease or not heart disease), predicting a label with 0.5 probability every time would be the same as a coin toss (guessing). Therefore, once the prediction probability of a sample passes 0.5, for a certain label, it's assigned that label.\n",
    "\n",
    "`predict()` can also be used for regression models."
   ]
  },
  {
   "cell_type": "code",
   "execution_count": 68,
   "id": "57545d7d-af01-458f-ba64-7be3187d3133",
   "metadata": {
    "tags": []
   },
   "outputs": [],
   "source": [
    "# Import the RandomForestRegressor model class from the ensemble module\n",
    "from sklearn.ensemble import RandomForestRegressor\n",
    "\n",
    "# Setup random seed\n",
    "np.random.seed(42)\n",
    "\n",
    "# Create the data\n",
    "X = housing_df.drop(\"target\", axis=1)\n",
    "y = housing_df[\"target\"]\n",
    "\n",
    "# Split into train and test sets\n",
    "X_train, X_test, y_train, y_test = train_test_split(X, y, test_size=0.2)\n",
    "\n",
    "# Institate and fit the model (on the training set)\n",
    "model = RandomForestRegressor()\n",
    "model.fit(X_train, y_train)\n",
    "\n",
    "# Make predictions\n",
    "y_preds = model.predict(X_test)"
   ]
  },
  {
   "cell_type": "code",
   "execution_count": 69,
   "id": "2c33000a-5cb8-49a8-a29f-106067c02e6c",
   "metadata": {
    "tags": []
   },
   "outputs": [
    {
     "data": {
      "text/plain": [
       "0.3265721842781009"
      ]
     },
     "execution_count": 69,
     "metadata": {},
     "output_type": "execute_result"
    }
   ],
   "source": [
    "# Compare the predictions to the truth\n",
    "from sklearn.metrics import mean_absolute_error\n",
    "mean_absolute_error(y_test, y_preds)"
   ]
  },
  {
   "cell_type": "markdown",
   "id": "2cdb7408-4333-4286-97ba-6c5fdc2f6339",
   "metadata": {},
   "source": [
    "Now we've seen how to get a model how to find patterns in data using the `fit()` function and make predictions using what its learned using the `predict()` and `predict_proba()` functions, it's time to evaluate those predictions."
   ]
  },
  {
   "cell_type": "markdown",
   "id": "aa13c60c-2299-4be0-95ff-6bf381acec0c",
   "metadata": {},
   "source": [
    "## 4. Evaluating a model\n",
    "\n",
    "Once you've trained a model, you'll want a way to measure how trustworthy its predictions are.\n",
    "\n",
    "Scikit-Learn implements 3 different methods of evaluating models.\n",
    "\n",
    "1. The `score()` method. Calling `score()` on a model instance will return a metric assosciated with the type of model you're using. The metric depends on which model you're using.\n",
    "2. The `scoring` parameter. This parameter can be passed to methods such as [`cross_val_score()`](https://scikit-learn.org/stable/modules/generated/sklearn.model_selection.cross_val_score.html#sklearn.model_selection.cross_val_score) or [`GridSearchCV()`](https://scikit-learn.org/stable/modules/generated/sklearn.model_selection.GridSearchCV.html) to tell Scikit-Learn to use a specific type of scoring metric.\n",
    "3. Problem-specific metric functions. Similar to how the `scoring` parameter can be passed different scoring functions, Scikit-Learn implements these as stand alone functions.\n",
    "\n",
    "The scoring function you use will also depend on the problem you're working on.\n",
    "\n",
    "Classification problems have different evaluation metrics and scoring functions to regression problems.\n",
    "\n",
    "Let's look at some examples."
   ]
  },
  {
   "cell_type": "markdown",
   "id": "9dd089fa-f89d-4016-8a0e-8d3e257672dc",
   "metadata": {},
   "source": [
    "### 4.1 General model evaluation with `score()`\n",
    "\n",
    "If we bring down the code from our previous classification problem (building a classifier to predict whether or not someone has heart disease based on their medical records).\n",
    "\n",
    "We can see the `score()` method come into play."
   ]
  },
  {
   "cell_type": "code",
   "execution_count": 70,
   "id": "0de97ea6-3199-4393-8a23-33a9aa4c512b",
   "metadata": {
    "tags": []
   },
   "outputs": [],
   "source": [
    "# Import the RandomForestClassifier model class from the ensemble module\n",
    "from sklearn.ensemble import RandomForestClassifier\n",
    "\n",
    "# Setup random seed\n",
    "np.random.seed(42)\n",
    "\n",
    "# Split the data into X (features/data) and y (target/labels)\n",
    "X = heart_disease.drop(\"target\", axis=1)\n",
    "y = heart_disease[\"target\"]\n",
    "\n",
    "# Split into train and test sets\n",
    "X_train, X_test, y_train, y_test = train_test_split(X, y, test_size=0.2)\n",
    "\n",
    "# Instantiate the model (on the training set)\n",
    "clf = RandomForestClassifier()\n",
    "\n",
    "# Call the fit method on the model and pass it training data\n",
    "clf.fit(X_train, y_train);"
   ]
  },
  {
   "cell_type": "markdown",
   "id": "c2a50c83-8570-42f4-969d-bd0742d1ff18",
   "metadata": {},
   "source": [
    "Once the model has been fit on the training data (`X_train`, `y_train`), we can call the `score()` method on it and evaluate our model on the test data, data the model has never seen before (`X_test`, `y_test`)."
   ]
  },
  {
   "cell_type": "code",
   "execution_count": 71,
   "id": "eeb48968-0105-430d-8f86-0c696c3e8d71",
   "metadata": {
    "tags": []
   },
   "outputs": [
    {
     "data": {
      "text/plain": [
       "0.8524590163934426"
      ]
     },
     "execution_count": 71,
     "metadata": {},
     "output_type": "execute_result"
    }
   ],
   "source": [
    "# Check the score of the model (on the test set)\n",
    "clf.score(X_test, y_test)"
   ]
  },
  {
   "cell_type": "markdown",
   "id": "ec4e28f9-5607-4dc6-b936-66f9dde7f31a",
   "metadata": {},
   "source": [
    "Because `clf` is an instance of `RandomForestClassifier`, the `score()` method uses mean accuracy as its score method.\n",
    "\n",
    "You can find this by pressing **SHIFT + TAB** within the brackets of `score()` when called on a model instance.\n",
    "\n",
    "Behind the scenes, `score()` makes predictions on `X_test` using the trained model and then compares those predictions to the actual labels `y_test`.\n",
    "\n",
    "A model which predicts everything 100% correct would receive a score of 1.0 (or 100%).\n",
    "\n",
    "Our model doesn't get everything correct, but at 85% (0.85 * 100), it's still far better than guessing.\n",
    "\n",
    "Let's do the same but with the regression code from above."
   ]
  },
  {
   "cell_type": "code",
   "execution_count": 72,
   "id": "d721b85d-5dd4-4c95-8e00-88b5d457872f",
   "metadata": {
    "tags": []
   },
   "outputs": [],
   "source": [
    "# Import the RandomForestRegressor model class from the ensemble module\n",
    "from sklearn.ensemble import RandomForestRegressor\n",
    "\n",
    "# Setup random seed\n",
    "np.random.seed(42)\n",
    "\n",
    "# Create the data\n",
    "X = housing_df.drop(\"target\", axis=1)\n",
    "y = housing_df[\"target\"]\n",
    "\n",
    "# Split into train and test sets\n",
    "X_train, X_test, y_train, y_test = train_test_split(X, y, test_size=0.2)\n",
    "\n",
    "# Institate and fit the model (on the training set)\n",
    "model = RandomForestRegressor()\n",
    "model.fit(X_train, y_train);"
   ]
  },
  {
   "cell_type": "markdown",
   "id": "3274148d-fc0e-4f5d-beb1-1aa89dee2b4c",
   "metadata": {},
   "source": [
    "Due to the consistent design of the Scikit-Learn library, we can call the same `score()` method on `model`."
   ]
  },
  {
   "cell_type": "code",
   "execution_count": 73,
   "id": "158e6ffa-d33b-4d1d-b923-ac1a62f28f99",
   "metadata": {
    "tags": []
   },
   "outputs": [
    {
     "data": {
      "text/plain": [
       "0.8066196804802649"
      ]
     },
     "execution_count": 73,
     "metadata": {},
     "output_type": "execute_result"
    }
   ],
   "source": [
    "# Check the score of the model (on the test set)\n",
    "model.score(X_test, y_test)"
   ]
  },
  {
   "cell_type": "markdown",
   "id": "bd042252-450a-49c5-a4f4-d2eeec474245",
   "metadata": {},
   "source": [
    "Here, `model` is an instance of `RandomForestRegressor`. And since it's a regression model, the default metric built into `score()` is the coefficient of determination or R^2 (pronounced R-sqaured).\n",
    "\n",
    "Remember, you can find this by pressing **SHIFT + TAB** within the brackets of `score()` when called on a model instance.\n",
    "\n",
    "The best possible value here is 1.0, this means the model predicts the target regression values exactly.\n",
    "\n",
    "Calling the `score()` method on any model instance and passing it test data is a good quick way to see how your model is going.\n",
    "\n",
    "However, when you get further into a problem, it's likely you'll want to start using more powerful metrics to evaluate your models performance."
   ]
  },
  {
   "cell_type": "markdown",
   "id": "a957ccb6-d79e-4d06-9a89-599792d30f54",
   "metadata": {},
   "source": [
    "### 4.2 Evaluating your models using the `scoring` parameter \n",
    "\n",
    "The next step up from using `score()` is to use a custom `scoring` parameter with [`cross_val_score()`](https://scikit-learn.org/stable/modules/generated/sklearn.model_selection.cross_val_score.html#sklearn.model_selection.cross_val_score) or [`GridSearchCV`](https://scikit-learn.org/stable/modules/generated/sklearn.model_selection.GridSearchCV.html).\n",
    "\n",
    "As you may have guessed, the `scoring` parameter you set will be different depending on the problem you're working on.\n",
    "\n",
    "We'll see some specific examples of different parameters in a moment but first let's check out `cross_val_score()`.\n",
    "\n",
    "To do so, we'll copy the heart disease classification code from above and then add another line at the top."
   ]
  },
  {
   "cell_type": "code",
   "execution_count": 74,
   "id": "29dccab1-bc62-4d6b-be78-313397b5bb3f",
   "metadata": {
    "tags": []
   },
   "outputs": [],
   "source": [
    "# Import cross_val_score from the model_selection module\n",
    "from sklearn.model_selection import cross_val_score\n",
    "\n",
    "# Import the RandomForestClassifier model class from the ensemble module\n",
    "from sklearn.ensemble import RandomForestClassifier\n",
    "\n",
    "# Setup random seed\n",
    "np.random.seed(42)\n",
    "\n",
    "# Split the data into X (features/data) and y (target/labels)\n",
    "X = heart_disease.drop(\"target\", axis=1)\n",
    "y = heart_disease[\"target\"]\n",
    "\n",
    "# Split into train and test sets\n",
    "X_train, X_test, y_train, y_test = train_test_split(X, y, test_size=0.2)\n",
    "\n",
    "# Instantiate the model (on the training set)\n",
    "clf = RandomForestClassifier()\n",
    "\n",
    "# Call the fit method on the model and pass it training data\n",
    "clf.fit(X_train, y_train);"
   ]
  },
  {
   "cell_type": "markdown",
   "id": "0e554483-0591-459d-90ba-e7946a20f8f9",
   "metadata": {},
   "source": [
    "Using `cross_val_score()` is slightly different to `score()`. Let's see a code example first and then we'll go through the details."
   ]
  },
  {
   "cell_type": "code",
   "execution_count": 75,
   "id": "df3baed2-7ea9-45a3-88c4-a7c7005d80fb",
   "metadata": {
    "tags": []
   },
   "outputs": [
    {
     "data": {
      "text/plain": [
       "0.8524590163934426"
      ]
     },
     "execution_count": 75,
     "metadata": {},
     "output_type": "execute_result"
    }
   ],
   "source": [
    "# Using score()\n",
    "clf.score(X_test, y_test)"
   ]
  },
  {
   "cell_type": "code",
   "execution_count": 76,
   "id": "b0c1f0ac-537a-41ba-828e-d407733ba140",
   "metadata": {
    "tags": []
   },
   "outputs": [
    {
     "data": {
      "text/plain": [
       "array([0.81967213, 0.86885246, 0.81967213, 0.78333333, 0.76666667])"
      ]
     },
     "execution_count": 76,
     "metadata": {},
     "output_type": "execute_result"
    }
   ],
   "source": [
    "# Using cross_val_score()\n",
    "cross_val_score(clf, X, y)"
   ]
  },
  {
   "cell_type": "markdown",
   "id": "8aa9b664-7569-4bb7-918f-1a40e0a1faf7",
   "metadata": {},
   "source": [
    "What's happening here?\n",
    "\n",
    "The first difference you might notice is `cross_val_score()` returns an array where as `score()` only returns a single number.\n",
    "\n",
    "`cross_val_score()` returns an array because of a parameter called `cv`, which stands for cross-validation.\n",
    "\n",
    "When `cv` isn't set, `cross_val_score()` will return an array of 3 numbers by default (or 5 by default if you're using Scikit-Learn version 0.22+).\n",
    "\n",
    "Remember, you can see the parameters of a function using **SHIFT + TAB** from within the brackets.\n",
    "\n",
    "But wait, you might be thinking, what even is cross-validation?\n",
    "\n",
    "A visual might be able to help.\n",
    "\n",
    "<img src='images/sklearn-cross-validation.png' width=1200/>\n",
    "\n",
    "We've dealt with Figure 1.0 before using `score(X_test, y_test)`. But looking deeper into this, if a model is trained using the training data or 80% of samples, this means 20% of samples aren't used for the model to learn anything.\n",
    "\n",
    "This also means depending on what 80% is used to train on and what 20% is used to evaluate the model, it may achieve a score which doesn't reflect the entire dataset. For example, if a lot of easy examples are in the 80% training data, when it comes to test on the 20%, your model may perform poorly. The same goes for the reverse.\n",
    "\n",
    "Figure 2.0 shows 5-fold cross-validation, a method which tries to provide a solution to:\n",
    "\n",
    "1. Not training on all the data\n",
    "2. Avoiding getting lucky scores on single splits of the data\n",
    "\n",
    "Instead of training only on 1 training split and evaluating on 1 testing split, 5-fold cross-validation does it 5 times. On a different split each time, returning a score for each.\n",
    "\n",
    "Why 5-fold?\n",
    "\n",
    "The actual name of this setup K-fold cross-validation. Where K is an abitrary number. We've used 5 because it looks nice visually, and will be the default in Scikit-Learn from version 0.22 onwards.\n",
    "\n",
    "Figure 2.0 is what happens when we run the following."
   ]
  },
  {
   "cell_type": "code",
   "execution_count": 77,
   "id": "5aaa0df1-3d07-4925-810e-22c386fde167",
   "metadata": {
    "tags": []
   },
   "outputs": [
    {
     "data": {
      "text/plain": [
       "array([0.83606557, 0.8852459 , 0.7704918 , 0.8       , 0.8       ])"
      ]
     },
     "execution_count": 77,
     "metadata": {},
     "output_type": "execute_result"
    }
   ],
   "source": [
    "# 5-fold cross-validation\n",
    "cross_val_score(clf, X, y, cv=5) # cv is equivalent to K"
   ]
  },
  {
   "cell_type": "markdown",
   "id": "c153b120-e406-4505-9d77-ceff0d575a7c",
   "metadata": {},
   "source": [
    "Since we set `cv=5` (5-fold cross-validation), we get back 5 different scores instead of 1.\n",
    "\n",
    "Taking the mean of this array gives us a more in-depth idea of how our model is performing by converting the 5 scores into one.\n",
    "\n",
    "Notice, the average `cross_val_score()` is slightly lower than single value returned by `score()`."
   ]
  },
  {
   "cell_type": "code",
   "execution_count": 78,
   "id": "7f0e5e28-1657-4517-a34d-8a9f2db5c189",
   "metadata": {
    "tags": []
   },
   "outputs": [
    {
     "data": {
      "text/plain": [
       "(0.8524590163934426, 0.8248087431693989)"
      ]
     },
     "execution_count": 78,
     "metadata": {},
     "output_type": "execute_result"
    }
   ],
   "source": [
    "np.random.seed(42)\n",
    "\n",
    "# Single training and test split score\n",
    "clf_single_score = clf.score(X_test, y_test)\n",
    "\n",
    "# Take mean of 5-fold cross-validation\n",
    "clf_cross_val_score = np.mean(cross_val_score(clf, X, y, cv=5))\n",
    "\n",
    "clf_single_score, clf_cross_val_score"
   ]
  },
  {
   "cell_type": "markdown",
   "id": "99d65989-1600-4607-bab8-7ac62c034651",
   "metadata": {},
   "source": [
    "In this case, if you were asked to report the accuracy of your model, even though it's lower, you'd prefer the cross-validated metric over the non-cross-validated metric.\n",
    "\n",
    "Wait?\n",
    "\n",
    "We haven't used the `scoring` parameter at all.\n",
    "\n",
    "By default, it's set to `None`."
   ]
  },
  {
   "cell_type": "code",
   "execution_count": 79,
   "id": "f15764e6-f79a-49b5-a1d6-d3e4143f2e2a",
   "metadata": {
    "tags": []
   },
   "outputs": [
    {
     "data": {
      "text/plain": [
       "array([0.81967213, 0.90163934, 0.83606557, 0.78333333, 0.78333333])"
      ]
     },
     "execution_count": 79,
     "metadata": {},
     "output_type": "execute_result"
    }
   ],
   "source": [
    "np.random.seed(42)\n",
    "cross_val_score(clf, X, y, cv=5, scoring=None) # default scoring"
   ]
  },
  {
   "cell_type": "markdown",
   "id": "401b1112-3dd3-4f27-abe9-d75bfa0d036a",
   "metadata": {},
   "source": [
    "When `scoring` is set to `None` (by default), it uses the same metric as `score()` for whatever model is passed to `cross_val_score()`.\n",
    "\n",
    "In this case, our model is `clf` which is an instance of `RandomForestClassifier` which uses mean accuracy as the default `score()` metric.\n",
    "\n",
    "You can change the evaluation score `cross_val_score()` uses by changing the `scoring` parameter.\n",
    "\n",
    "And as you might have guessed, different problems call for different evaluation scores.\n",
    "\n",
    "The [Scikit-Learn documentation](https://scikit-learn.org/stable/modules/model_evaluation.html#scoring-parameter) outlines a vast range of evaluation metrics for different problems but let's have a look at a few."
   ]
  },
  {
   "cell_type": "markdown",
   "id": "6a884b00-2a85-4af9-aba4-7e6ba86d9dbc",
   "metadata": {},
   "source": [
    "### 4.2.1 Classification model evaluation metrics\n",
    "\n",
    "Four of the main evaluation metrics/methods you'll come across for classification models are:\n",
    "\n",
    "1. Accuracy\n",
    "2. Area under ROC curve\n",
    "3. Confusion matrix\n",
    "4. Classification report\n",
    "\n",
    "Let's have a look at each of these. We'll bring down the classification code from above to go through some examples."
   ]
  },
  {
   "cell_type": "code",
   "execution_count": 80,
   "id": "3ce09a84-67e4-4f52-8a42-0a317872a5dc",
   "metadata": {
    "tags": []
   },
   "outputs": [
    {
     "data": {
      "text/plain": [
       "0.8524590163934426"
      ]
     },
     "execution_count": 80,
     "metadata": {},
     "output_type": "execute_result"
    }
   ],
   "source": [
    "# Import cross_val_score from the model_selection module\n",
    "from sklearn.model_selection import cross_val_score\n",
    "from sklearn.ensemble import RandomForestClassifier\n",
    "\n",
    "np.random.seed(42)\n",
    "\n",
    "X = heart_disease.drop(\"target\", axis=1)\n",
    "y = heart_disease[\"target\"]\n",
    "\n",
    "X_train, X_test, y_train, y_test = train_test_split(X, y, test_size=0.2)\n",
    "\n",
    "clf = RandomForestClassifier()\n",
    "clf.fit(X_train, y_train)\n",
    "clf.score(X_test, y_test)"
   ]
  },
  {
   "cell_type": "markdown",
   "id": "5d1242ed-8f08-4f61-bf3e-08beb189966f",
   "metadata": {},
   "source": [
    "#### Accuracy\n",
    "Accuracy is the default metric for the `score()` function within each of Scikit-Learn's classifier models. And it's probably the metric you'll see most often used for classification problems.\n",
    "\n",
    "However, we'll see in a second how it may not always be the best metric to use.\n",
    "\n",
    "Scikit-Learn returns accuracy as a decimal but you can easily convert it to a percentage."
   ]
  },
  {
   "cell_type": "code",
   "execution_count": 81,
   "id": "04d5517c-d2d6-4e8a-9d80-fdfb15bda1aa",
   "metadata": {
    "tags": []
   },
   "outputs": [
    {
     "name": "stdout",
     "output_type": "stream",
     "text": [
      "Heart Disease Classifier Accuracy: 85.25%\n"
     ]
    }
   ],
   "source": [
    "# Accuracy as percentage\n",
    "print(f\"Heart Disease Classifier Accuracy: {clf.score(X_test, y_test) * 100:.2f}%\")"
   ]
  },
  {
   "cell_type": "markdown",
   "id": "4ac291da-5cb6-4483-a0ef-aa62be596324",
   "metadata": {},
   "source": [
    "#### Area Under Receiver Operating Characteristic (ROC) Curve\n",
    "If this one sounds like a mouthful, its because reading the full name is.\n",
    "\n",
    "It's usually referred to as AUC for Area Under Curve and the curve they're talking about is the Receiver Operating Characteristic or ROC for short.\n",
    "\n",
    "So if hear someone talking about AUC or ROC, they're probably talking about what follows.\n",
    "\n",
    "ROC curves are a comparison of true postive rate (tpr) versus false positive rate (fpr).\n",
    "\n",
    "For clarity:\n",
    "* True positive = model predicts 1 when truth is 1\n",
    "* False positive = model predicts 1 when truth is 0\n",
    "* True negative = model predicts 0 when truth is 0\n",
    "* False negative = model predicts 0 when truth is 1\n",
    "\n",
    "Now we know this, let's see one. Scikit-Learn lets you calculate the information required for a ROC curve using the [`roc_curve`](https://scikit-learn.org/stable/modules/generated/sklearn.metrics.roc_curve.html#sklearn.metrics.roc_curve) function."
   ]
  },
  {
   "cell_type": "code",
   "execution_count": 82,
   "id": "3cbf3698-cdee-4f28-ad45-63c0ec3eab6a",
   "metadata": {
    "tags": []
   },
   "outputs": [
    {
     "data": {
      "text/plain": [
       "array([0.        , 0.        , 0.        , 0.        , 0.        ,\n",
       "       0.03448276, 0.03448276, 0.03448276, 0.03448276, 0.06896552,\n",
       "       0.06896552, 0.10344828, 0.13793103, 0.13793103, 0.17241379,\n",
       "       0.17241379, 0.27586207, 0.4137931 , 0.48275862, 0.55172414,\n",
       "       0.65517241, 0.72413793, 0.72413793, 0.82758621, 1.        ])"
      ]
     },
     "execution_count": 82,
     "metadata": {},
     "output_type": "execute_result"
    }
   ],
   "source": [
    "from sklearn.metrics import roc_curve\n",
    "\n",
    "# Make predictions with probabilities\n",
    "y_probs = clf.predict_proba(X_test)\n",
    "\n",
    "# Keep the probabilites of the positive class only\n",
    "y_probs = y_probs[:, 1]\n",
    "\n",
    "# Calculate fpr, tpr and thresholds\n",
    "fpr, tpr, thresholds = roc_curve(y_test, y_probs)\n",
    "\n",
    "# Check the false positive rate\n",
    "fpr"
   ]
  },
  {
   "cell_type": "markdown",
   "id": "66dca617-8da5-49f4-8a7e-4eae9547bbe7",
   "metadata": {},
   "source": [
    "Looking at these on their own doesn't make much sense. It's much easier to see their value visually. \n",
    "\n",
    "Since Scikit-Learn doesn't have a built-in function to plot a ROC curve, quite often, you'll find a function (or write your own) like the one below."
   ]
  },
  {
   "cell_type": "code",
   "execution_count": 83,
   "id": "d0c820d2-bc8d-4654-878b-7ce5f278e3fd",
   "metadata": {
    "tags": []
   },
   "outputs": [
    {
     "data": {
      "image/png": "[encoded data removed]",
      "text/plain": [
       "<Figure size 640x480 with 1 Axes>"
      ]
     },
     "metadata": {},
     "output_type": "display_data"
    }
   ],
   "source": [
    "import matplotlib.pyplot as plt\n",
    "\n",
    "def plot_roc_curve(fpr, tpr):\n",
    "    \"\"\"\n",
    "    Plots a ROC curve given the false positve rate (fpr) and \n",
    "    true postive rate (tpr) of a classifier.\n",
    "    \"\"\"\n",
    "    # Plot ROC curve\n",
    "    plt.plot(fpr, tpr, color='orange', label='ROC')\n",
    "    # Plot line with no predictive power (baseline)\n",
    "    plt.plot([0, 1], [0, 1], color='darkblue', linestyle='--', label='Guessing')\n",
    "    # Customize the plot\n",
    "    plt.xlabel('False Positive Rate')\n",
    "    plt.ylabel('True Positive Rate')\n",
    "    plt.title('Receiver Operating Characteristic (ROC) Curve')\n",
    "    plt.legend()\n",
    "    plt.show()\n",
    "    \n",
    "plot_roc_curve(fpr, tpr)"
   ]
  },
  {
   "cell_type": "markdown",
   "id": "4b0e35b6-b11a-4a07-84ea-0f37fadf2cee",
   "metadata": {},
   "source": [
    "Looking at the plot for the first time, it might seem a bit confusing.\n",
    "\n",
    "The main thing to take away here is our model is doing far better than guessing.\n",
    "\n",
    "A metric you can use to quantify the ROC curve in a single number is AUC (Area Under Curve). Scikit-Learn implements a function to caculate this called [`roc_auc_score()`](https://scikit-learn.org/stable/modules/generated/sklearn.metrics.roc_auc_score.html#sklearn.metrics.roc_auc_score). \n",
    "\n",
    "The maximum ROC AUC score you can achieve is 1.0 and generally, the closer to 1.0, the better the model."
   ]
  },
  {
   "cell_type": "code",
   "execution_count": 84,
   "id": "f4d4a6cf-6035-4536-83a0-7827225ecd0b",
   "metadata": {
    "tags": []
   },
   "outputs": [
    {
     "data": {
      "text/plain": [
       "0.9304956896551724"
      ]
     },
     "execution_count": 84,
     "metadata": {},
     "output_type": "execute_result"
    }
   ],
   "source": [
    "from sklearn.metrics import roc_auc_score\n",
    "\n",
    "roc_auc_score(y_test, y_probs)"
   ]
  },
  {
   "cell_type": "markdown",
   "id": "d159eec6-ee53-4a72-8bcd-ee8cfec83144",
   "metadata": {},
   "source": [
    "The most ideal position for a ROC curve to run along the top left corner of the plot. \n",
    "\n",
    "This would mean the model predicts only true positives and no false positives. And would result in a ROC AUC score of 1.0.\n",
    "\n",
    "You can see this by creating a ROC curve using only the `y_test` labels."
   ]
  },
  {
   "cell_type": "code",
   "execution_count": 85,
   "id": "c61262e6-a252-465e-b6a1-a572135e7e1d",
   "metadata": {
    "tags": []
   },
   "outputs": [
    {
     "data": {
      "image/png": "[encoded data removed]",
      "text/plain": [
       "<Figure size 640x480 with 1 Axes>"
      ]
     },
     "metadata": {},
     "output_type": "display_data"
    }
   ],
   "source": [
    "# Plot perfect ROC curve\n",
    "fpr, tpr, thresholds = roc_curve(y_test, y_test)\n",
    "plot_roc_curve(fpr, tpr)"
   ]
  },
  {
   "cell_type": "code",
   "execution_count": 86,
   "id": "7863c425-fda8-4192-beaf-9c254c93a6ef",
   "metadata": {
    "tags": []
   },
   "outputs": [
    {
     "data": {
      "text/plain": [
       "1.0"
      ]
     },
     "execution_count": 86,
     "metadata": {},
     "output_type": "execute_result"
    }
   ],
   "source": [
    "# Perfect ROC AUC score\n",
    "roc_auc_score(y_test, y_test)"
   ]
  },
  {
   "cell_type": "markdown",
   "id": "d839c21d-6c95-4a0c-b389-7d1be9fa45d1",
   "metadata": {},
   "source": [
    "In reality, a perfect ROC curve is unlikely.\n",
    "\n",
    "#### Confusion matrix\n",
    "The next way to evaluate a classification model is by using a [confusion matrix](https://en.wikipedia.org/wiki/Confusion_matrix). \n",
    "\n",
    "A confusion matrix is a quick way to compare the labels a model predicts and the actual labels it was supposed to predict. In essence, giving you an idea of where the model is getting confused."
   ]
  },
  {
   "cell_type": "code",
   "execution_count": 87,
   "id": "954fa0ff-b24c-4fea-99cb-aa561c623943",
   "metadata": {
    "tags": []
   },
   "outputs": [
    {
     "data": {
      "text/plain": [
       "array([[24,  5],\n",
       "       [ 4, 28]])"
      ]
     },
     "execution_count": 87,
     "metadata": {},
     "output_type": "execute_result"
    }
   ],
   "source": [
    "from sklearn.metrics import confusion_matrix\n",
    "\n",
    "y_preds = clf.predict(X_test)\n",
    "\n",
    "confusion_matrix(y_test, y_preds)"
   ]
  },
  {
   "cell_type": "markdown",
   "id": "7729db6e-75b8-498c-862a-5deb4dbe691e",
   "metadata": {},
   "source": [
    "Again, this is probably easier visualized.\n",
    "\n",
    "One way to do it is with `pd.crosstab()`."
   ]
  },
  {
   "cell_type": "code",
   "execution_count": 88,
   "id": "76321654-8b11-42c5-baae-3cd1673302ce",
   "metadata": {
    "tags": []
   },
   "outputs": [
    {
     "data": {
      "text/html": [
       "<div>\n",
       "<style scoped>\n",
       "    .dataframe tbody tr th:only-of-type {\n",
       "        vertical-align: middle;\n",
       "    }\n",
       "\n",
       "    .dataframe tbody tr th {\n",
       "        vertical-align: top;\n",
       "    }\n",
       "\n",
       "    .dataframe thead th {\n",
       "        text-align: right;\n",
       "    }\n",
       "</style>\n",
       "<table border=\"1\" class=\"dataframe\">\n",
       "  <thead>\n",
       "    <tr style=\"text-align: right;\">\n",
       "      <th>Predicted Label</th>\n",
       "      <th>0</th>\n",
       "      <th>1</th>\n",
       "    </tr>\n",
       "    <tr>\n",
       "      <th>Actual Label</th>\n",
       "      <th></th>\n",
       "      <th></th>\n",
       "    </tr>\n",
       "  </thead>\n",
       "  <tbody>\n",
       "    <tr>\n",
       "      <th>0</th>\n",
       "      <td>24</td>\n",
       "      <td>5</td>\n",
       "    </tr>\n",
       "    <tr>\n",
       "      <th>1</th>\n",
       "      <td>4</td>\n",
       "      <td>28</td>\n",
       "    </tr>\n",
       "  </tbody>\n",
       "</table>\n",
       "</div>"
      ],
      "text/plain": [
       "Predicted Label   0   1\n",
       "Actual Label           \n",
       "0                24   5\n",
       "1                 4  28"
      ]
     },
     "execution_count": 88,
     "metadata": {},
     "output_type": "execute_result"
    }
   ],
   "source": [
    "pd.crosstab(y_test, \n",
    "            y_preds, \n",
    "            rownames=[\"Actual Label\"], \n",
    "            colnames=[\"Predicted Label\"])"
   ]
  },
  {
   "cell_type": "markdown",
   "id": "2334a865-a66c-43bd-ac33-b6219f292e18",
   "metadata": {},
   "source": [
    "#### Creating a confusion matrix using Scikit-Learn\n",
    "\n",
    "Scikit-Learn has multiple different implementations of plotting confusion matrices:\n",
    "\n",
    "1. [`sklearn.metrics.ConfusionMatrixDisplay.from_estimator(estimator, X, y)`](https://scikit-learn.org/stable/modules/generated/sklearn.metrics.ConfusionMatrixDisplay.html#sklearn.metrics.ConfusionMatrixDisplay.from_estimator) - this takes a fitted estimator (like our `clf` model), features (`X`) and labels (`y`), it then uses the trained estimator to make predictions on `X` and compares the predictions to `y` by displaying a confusion matrix.\n",
    "2. [`sklearn.metrics.ConfusionMatrixDisplay.from_predictions(y_true, y_pred)`](https://scikit-learn.org/stable/modules/generated/sklearn.metrics.ConfusionMatrixDisplay.html#sklearn.metrics.ConfusionMatrixDisplay.from_predictions) - this takes truth labels and predicted labels and compares them by displaying a confusion matrix.\n",
    "\n",
    "> **Note:** Both of these methods/classes require Scikit-Learn 1.0+. To check your version of Scikit-Learn run:\n",
    "```python\n",
    "import sklearn\n",
    "sklearn.__version__\n",
    "```\n",
    "> If you don't have 1.0+, you can upgrade at: https://scikit-learn.org/stable/install.html"
   ]
  },
  {
   "cell_type": "code",
   "execution_count": 89,
   "id": "d7aed056-efa9-4afe-9a38-6610ec8f127c",
   "metadata": {
    "tags": []
   },
   "outputs": [
    {
     "data": {
      "image/png": "[encoded data removed]",
      "text/plain": [
       "<Figure size 640x480 with 2 Axes>"
      ]
     },
     "metadata": {},
     "output_type": "display_data"
    }
   ],
   "source": [
    "from sklearn.metrics import ConfusionMatrixDisplay\n",
    "\n",
    "ConfusionMatrixDisplay.from_estimator(estimator=clf, X=X, y=y);"
   ]
  },
  {
   "cell_type": "code",
   "execution_count": 90,
   "id": "6f89f193-a9e4-4385-a118-f51854b85089",
   "metadata": {
    "tags": []
   },
   "outputs": [
    {
     "data": {
      "image/png": "[encoded data removed]",
      "text/plain": [
       "<Figure size 640x480 with 2 Axes>"
      ]
     },
     "metadata": {},
     "output_type": "display_data"
    }
   ],
   "source": [
    "# Plot confusion matrix from predictions\n",
    "ConfusionMatrixDisplay.from_predictions(y_true=y_test, \n",
    "                                        y_pred=y_preds);"
   ]
  },
  {
   "cell_type": "markdown",
   "id": "07a120e7-65b6-4586-aa6f-a8a3c5e4c5df",
   "metadata": {},
   "source": [
    "#### Classification report\n",
    "\n",
    "The final major metric you should consider when evaluating a classification model is a classification report.\n",
    "\n",
    "A classification report is more so a collection of metrics rather than a single one.\n",
    "\n",
    "You can create a classification report using Scikit-Learn's [`classification_report()`](https://scikit-learn.org/stable/modules/generated/sklearn.metrics.classification_report.html) function.\n",
    "\n",
    "Let's see one."
   ]
  },
  {
   "cell_type": "code",
   "execution_count": 91,
   "id": "88e891a9-74c0-4cb0-9dba-9514de4a2306",
   "metadata": {
    "tags": []
   },
   "outputs": [
    {
     "name": "stdout",
     "output_type": "stream",
     "text": [
      "              precision    recall  f1-score   support\n",
      "\n",
      "           0       0.86      0.83      0.84        29\n",
      "           1       0.85      0.88      0.86        32\n",
      "\n",
      "    accuracy                           0.85        61\n",
      "   macro avg       0.85      0.85      0.85        61\n",
      "weighted avg       0.85      0.85      0.85        61\n",
      "\n"
     ]
    }
   ],
   "source": [
    "from sklearn.metrics import classification_report\n",
    "\n",
    "print(classification_report(y_test, y_preds))"
   ]
  },
  {
   "cell_type": "markdown",
   "id": "9c592eee-5482-440e-97f1-ccf97b0cadfe",
   "metadata": {},
   "source": [
    "It returns four columns: precision, recall, f1-score and support.\n",
    "\n",
    "The number of rows will depend on how many different classes there are. But there will always be three rows labell accuracy, macro avg and weighted avg.\n",
    "\n",
    "Each term measures something slightly different:\n",
    "* **Precision** - Indicates the proportion of positive identifications (model predicted class `1`) which were actually correct. A model which produces no false positives has a precision of 1.0.\n",
    "* **Recall** - Indicates the proportion of actual positives which were correctly classified. A model which produces no false negatives has a recall of 1.0.\n",
    "* **F1 score** - A combination of precision and recall. A perfect model achieves an F1 score of 1.0.\n",
    "* **Support** - The number of samples each metric was calculated on.\n",
    "* **Accuracy** - The accuracy of the model in decimal form. Perfect accuracy is equal to 1.0, in other words, getting the prediction right 100% of the time.\n",
    "* **Macro avg** - Short for macro average, the average precision, recall and F1 score between classes. Macro avg doesn't take class imbalance into effect. So if you do have class imbalances (more examples of one class than another), you should pay attention to this.\n",
    "* **Weighted avg** - Short for weighted average, the weighted average precision, recall and F1 score between classes. Weighted means each metric is calculated with respect to how many samples there are in each class. This metric will favour the majority class (e.g. it will give a high value when one class out performs another due to having more samples).\n",
    "\n",
    "When should you use each?\n",
    "\n",
    "It can be tempting to base your classification models perfomance only on accuracy. And accuracy is a good metric to report, except when you have very imbalanced classes.\n",
    "\n",
    "For example, let's say there were 10,000 people. And 1 of them had a disease. You're asked to build a model to predict who has it.\n",
    "\n",
    "You build the model and find your model to be 99.99% accurate. Which sounds great!\n",
    "...until you realise, all its doing is predicting no one has the disease, in other words all 10,000 predictions are false.\n",
    "\n",
    "In this case, you'd want to turn to metrics such as precision, recall and F1 score."
   ]
  },
  {
   "cell_type": "code",
   "execution_count": 92,
   "id": "f73937b4-81a2-4672-8565-b7ed3c57b22e",
   "metadata": {
    "tags": []
   },
   "outputs": [
    {
     "data": {
      "text/html": [
       "<div>\n",
       "<style scoped>\n",
       "    .dataframe tbody tr th:only-of-type {\n",
       "        vertical-align: middle;\n",
       "    }\n",
       "\n",
       "    .dataframe tbody tr th {\n",
       "        vertical-align: top;\n",
       "    }\n",
       "\n",
       "    .dataframe thead th {\n",
       "        text-align: right;\n",
       "    }\n",
       "</style>\n",
       "<table border=\"1\" class=\"dataframe\">\n",
       "  <thead>\n",
       "    <tr style=\"text-align: right;\">\n",
       "      <th></th>\n",
       "      <th>0.0</th>\n",
       "      <th>1.0</th>\n",
       "      <th>accuracy</th>\n",
       "      <th>macro avg</th>\n",
       "      <th>weighted avg</th>\n",
       "    </tr>\n",
       "  </thead>\n",
       "  <tbody>\n",
       "    <tr>\n",
       "      <th>precision</th>\n",
       "      <td>0.99990</td>\n",
       "      <td>0.0</td>\n",
       "      <td>0.9999</td>\n",
       "      <td>0.499950</td>\n",
       "      <td>0.99980</td>\n",
       "    </tr>\n",
       "    <tr>\n",
       "      <th>recall</th>\n",
       "      <td>1.00000</td>\n",
       "      <td>0.0</td>\n",
       "      <td>0.9999</td>\n",
       "      <td>0.500000</td>\n",
       "      <td>0.99990</td>\n",
       "    </tr>\n",
       "    <tr>\n",
       "      <th>f1-score</th>\n",
       "      <td>0.99995</td>\n",
       "      <td>0.0</td>\n",
       "      <td>0.9999</td>\n",
       "      <td>0.499975</td>\n",
       "      <td>0.99985</td>\n",
       "    </tr>\n",
       "    <tr>\n",
       "      <th>support</th>\n",
       "      <td>9999.00000</td>\n",
       "      <td>1.0</td>\n",
       "      <td>0.9999</td>\n",
       "      <td>10000.000000</td>\n",
       "      <td>10000.00000</td>\n",
       "    </tr>\n",
       "  </tbody>\n",
       "</table>\n",
       "</div>"
      ],
      "text/plain": [
       "                  0.0  1.0  accuracy     macro avg  weighted avg\n",
       "precision     0.99990  0.0    0.9999      0.499950       0.99980\n",
       "recall        1.00000  0.0    0.9999      0.500000       0.99990\n",
       "f1-score      0.99995  0.0    0.9999      0.499975       0.99985\n",
       "support    9999.00000  1.0    0.9999  10000.000000   10000.00000"
      ]
     },
     "execution_count": 92,
     "metadata": {},
     "output_type": "execute_result"
    }
   ],
   "source": [
    "# Where precision and recall become valuable\n",
    "disease_true = np.zeros(10000)\n",
    "disease_true[0] = 1 # only one case\n",
    "\n",
    "disease_preds = np.zeros(10000) # every prediction is 0\n",
    "\n",
    "pd.DataFrame(classification_report(disease_true, \n",
    "                                   disease_preds, \n",
    "                                   output_dict=True,\n",
    "                                   zero_division=0))"
   ]
  },
  {
   "cell_type": "markdown",
   "id": "bd5f0f06-b1ce-431c-b5fc-7689454241bc",
   "metadata": {},
   "source": [
    "You can see here, we've got an accuracy of 0.9999 (99.99%), great precision and recall on class 0.0 but nothing for class 1.0.\n",
    "\n",
    "Ask yourself, although the model achieves 99.99% accuracy, is it useful?\n",
    "\n",
    "To summarize:\n",
    "* Accuracy is a good measure to start with if all classes are balanced (e.g. same amount of samples which are labelled with 0 or 1)\n",
    "* Precision and recall become more important when classes are imbalanced.\n",
    "* If false positive predictions are worse than false negatives, aim for higher precision.\n",
    "* If false negative predictions are worse than false positives, aim for higher recall."
   ]
  },
  {
   "cell_type": "markdown",
   "id": "e21c02c8-0391-4d7d-ad34-50de2e095636",
   "metadata": {},
   "source": [
    "### 4.2.2 Regression model evaluation metrics\n",
    "\n",
    "Similar to classification, there are [several metrics you can use to evaluate your regression models](https://scikit-learn.org/stable/modules/model_evaluation.html#regression-metrics).\n",
    "\n",
    "We'll check out the following.\n",
    "\n",
    "1. **R^2 (pronounced r-squared) or coefficient of determination** - Compares your models predictions to the mean of the targets. Values can range from negative infinity (a very poor model) to 1. For example, if all your model does is predict the mean of the targets, its R^2 value would be 0. And if your model perfectly predicts a range of numbers it's R^2 value would be 1. \n",
    "2. **Mean absolute error (MAE)** - The average of the absolute differences between predictions and actual values. It gives you an idea of how wrong your predictions were.\n",
    "3. **Mean squared error (MSE)** - The average squared differences between predictions and actual values. Squaring the errors removes negative errors. It also amplifies outliers (samples which have larger errors).\n",
    "\n",
    "Let's see them in action. First, we'll bring down our regression model code again."
   ]
  },
  {
   "cell_type": "code",
   "execution_count": 93,
   "id": "1a9df694-ba89-486f-9ed0-a93b7b4ba82c",
   "metadata": {
    "tags": []
   },
   "outputs": [],
   "source": [
    "# Import the RandomForestRegressor model class from the ensemble module\n",
    "from sklearn.ensemble import RandomForestRegressor\n",
    "\n",
    "# Setup random seed\n",
    "np.random.seed(42)\n",
    "\n",
    "# Create the data\n",
    "X = housing_df.drop(\"target\", axis=1)\n",
    "y = housing_df[\"target\"]\n",
    "\n",
    "# Split into train and test sets\n",
    "X_train, X_test, y_train, y_test = train_test_split(X, y, test_size=0.2)\n",
    "\n",
    "# Institate and fit the model (on the training set)\n",
    "model = RandomForestRegressor()\n",
    "model.fit(X_train, y_train);"
   ]
  },
  {
   "cell_type": "markdown",
   "id": "feddfa6d-3b5c-412d-a6f7-9f91b4b81e51",
   "metadata": {},
   "source": [
    "**R^2 Score (coefficient of determination)**\n",
    "\n",
    "Once you've got a trained regression model, the default evaluation metric in the `score()` function is R^2."
   ]
  },
  {
   "cell_type": "code",
   "execution_count": 94,
   "id": "97ba9122-a978-4a5b-9ac8-cf7b0bdaa555",
   "metadata": {
    "tags": []
   },
   "outputs": [
    {
     "data": {
      "text/plain": [
       "0.8066196804802649"
      ]
     },
     "execution_count": 94,
     "metadata": {},
     "output_type": "execute_result"
    }
   ],
   "source": [
    "# Calculate the models R^2 score\n",
    "model.score(X_test, y_test)"
   ]
  },
  {
   "cell_type": "markdown",
   "id": "a26eb481-9e74-4c86-80fc-aaf7c46b120d",
   "metadata": {},
   "source": [
    "Outside of the `score()` function, R^2 can be calculated using Scikit-Learn's [`r2_score()`](https://scikit-learn.org/stable/modules/generated/sklearn.metrics.r2_score.html#sklearn.metrics.r2_score) function.\n",
    "\n",
    "A model which only predicted the mean would get a score of 0."
   ]
  },
  {
   "cell_type": "code",
   "execution_count": 95,
   "id": "715c45a1-edb3-49db-874b-f65fcb26ab84",
   "metadata": {
    "tags": []
   },
   "outputs": [
    {
     "data": {
      "text/plain": [
       "0.0"
      ]
     },
     "execution_count": 95,
     "metadata": {},
     "output_type": "execute_result"
    }
   ],
   "source": [
    "from sklearn.metrics import r2_score\n",
    "\n",
    "# Fill an array with y_test mean\n",
    "y_test_mean = np.full(len(y_test), y_test.mean())\n",
    "\n",
    "r2_score(y_test, y_test_mean)"
   ]
  },
  {
   "cell_type": "markdown",
   "id": "b2f18f7c-2bbc-4a58-afce-122279ee6069",
   "metadata": {},
   "source": [
    "And a perfect model would get a score of 1. "
   ]
  },
  {
   "cell_type": "markdown",
   "id": "b8555bb7-9270-45af-9fcf-7cc5fb207263",
   "metadata": {},
   "source": [
    "For your regression models, you'll want to maximise R^2, whilst minimising MAE and MSE.\n",
    "\n",
    "**Mean Absolute Error (MAE)**\n",
    "\n",
    "A model's mean absolute error can be calculated with Scikit-Learn's [`mean_absolute_error()`](https://scikit-learn.org/stable/modules/generated/sklearn.metrics.mean_absolute_error.html) function."
   ]
  },
  {
   "cell_type": "code",
   "execution_count": 96,
   "id": "c810a958-026f-499f-84e7-27ad4bf28f3c",
   "metadata": {
    "tags": []
   },
   "outputs": [
    {
     "data": {
      "text/plain": [
       "0.3265721842781009"
      ]
     },
     "execution_count": 96,
     "metadata": {},
     "output_type": "execute_result"
    }
   ],
   "source": [
    "# Mean absolute error\n",
    "from sklearn.metrics import mean_absolute_error\n",
    "\n",
    "y_preds = model.predict(X_test)\n",
    "mae = mean_absolute_error(y_test, y_preds)\n",
    "mae"
   ]
  },
  {
   "cell_type": "markdown",
   "id": "be1df094-559c-4ddb-b698-dd09a198fa88",
   "metadata": {},
   "source": [
    "Our model achieves an MAE of 0.3265. This means, on average our models predictions are 0.3265 units away from the actual value.\n",
    "\n",
    "Let's make it a little more visual."
   ]
  },
  {
   "cell_type": "code",
   "execution_count": 97,
   "id": "a320bae6-70db-4733-be36-33ffe201ec69",
   "metadata": {
    "tags": []
   },
   "outputs": [
    {
     "data": {
      "text/html": [
       "<div>\n",
       "<style scoped>\n",
       "    .dataframe tbody tr th:only-of-type {\n",
       "        vertical-align: middle;\n",
       "    }\n",
       "\n",
       "    .dataframe tbody tr th {\n",
       "        vertical-align: top;\n",
       "    }\n",
       "\n",
       "    .dataframe thead th {\n",
       "        text-align: right;\n",
       "    }\n",
       "</style>\n",
       "<table border=\"1\" class=\"dataframe\">\n",
       "  <thead>\n",
       "    <tr style=\"text-align: right;\">\n",
       "      <th></th>\n",
       "      <th>actual values</th>\n",
       "      <th>predictions</th>\n",
       "    </tr>\n",
       "  </thead>\n",
       "  <tbody>\n",
       "    <tr>\n",
       "      <th>20046</th>\n",
       "      <td>0.47700</td>\n",
       "      <td>0.493840</td>\n",
       "    </tr>\n",
       "    <tr>\n",
       "      <th>3024</th>\n",
       "      <td>0.45800</td>\n",
       "      <td>0.754940</td>\n",
       "    </tr>\n",
       "    <tr>\n",
       "      <th>15663</th>\n",
       "      <td>5.00001</td>\n",
       "      <td>4.928596</td>\n",
       "    </tr>\n",
       "    <tr>\n",
       "      <th>20484</th>\n",
       "      <td>2.18600</td>\n",
       "      <td>2.540290</td>\n",
       "    </tr>\n",
       "    <tr>\n",
       "      <th>9814</th>\n",
       "      <td>2.78000</td>\n",
       "      <td>2.331760</td>\n",
       "    </tr>\n",
       "    <tr>\n",
       "      <th>...</th>\n",
       "      <td>...</td>\n",
       "      <td>...</td>\n",
       "    </tr>\n",
       "    <tr>\n",
       "      <th>15362</th>\n",
       "      <td>2.63300</td>\n",
       "      <td>2.220380</td>\n",
       "    </tr>\n",
       "    <tr>\n",
       "      <th>16623</th>\n",
       "      <td>2.66800</td>\n",
       "      <td>1.947760</td>\n",
       "    </tr>\n",
       "    <tr>\n",
       "      <th>18086</th>\n",
       "      <td>5.00001</td>\n",
       "      <td>4.836378</td>\n",
       "    </tr>\n",
       "    <tr>\n",
       "      <th>2144</th>\n",
       "      <td>0.72300</td>\n",
       "      <td>0.717820</td>\n",
       "    </tr>\n",
       "    <tr>\n",
       "      <th>3665</th>\n",
       "      <td>1.51500</td>\n",
       "      <td>1.679010</td>\n",
       "    </tr>\n",
       "  </tbody>\n",
       "</table>\n",
       "<p>4128 rows × 2 columns</p>\n",
       "</div>"
      ],
      "text/plain": [
       "       actual values  predictions\n",
       "20046        0.47700     0.493840\n",
       "3024         0.45800     0.754940\n",
       "15663        5.00001     4.928596\n",
       "20484        2.18600     2.540290\n",
       "9814         2.78000     2.331760\n",
       "...              ...          ...\n",
       "15362        2.63300     2.220380\n",
       "16623        2.66800     1.947760\n",
       "18086        5.00001     4.836378\n",
       "2144         0.72300     0.717820\n",
       "3665         1.51500     1.679010\n",
       "\n",
       "[4128 rows x 2 columns]"
      ]
     },
     "execution_count": 97,
     "metadata": {},
     "output_type": "execute_result"
    }
   ],
   "source": [
    "df = pd.DataFrame(data={\"actual values\": y_test, \n",
    "                   \"predictions\": y_preds})\n",
    "\n",
    "df"
   ]
  },
  {
   "cell_type": "markdown",
   "id": "ea4789cb-ac39-4c72-aea8-d32d278c7f5a",
   "metadata": {},
   "source": [
    "You can see the predictions are slightly different to the actual values.\n",
    "\n",
    "Depending what problem you're working on, having a difference like we do now, might be okay. On the flip side, it may also not be okay, meaning the predictions would have to be closer."
   ]
  },
  {
   "cell_type": "code",
   "execution_count": 98,
   "id": "1b1fe8d2-2047-44e8-8480-116def157410",
   "metadata": {
    "tags": []
   },
   "outputs": [
    {
     "data": {
      "image/png": "[encoded data removed]",
      "text/plain": [
       "<Figure size 640x480 with 1 Axes>"
      ]
     },
     "metadata": {},
     "output_type": "display_data"
    }
   ],
   "source": [
    "fig, ax = plt.subplots()\n",
    "x = np.arange(0, len(df), 1)\n",
    "ax.scatter(x, df[\"actual values\"], c='b', label=\"Acutual Values\")\n",
    "ax.scatter(x, df[\"predictions\"], c='r', label=\"Predictions\")\n",
    "ax.legend(loc=(1, 0.5));"
   ]
  },
  {
   "cell_type": "markdown",
   "id": "25bfe333-9cd5-4c8a-8f06-d6e9988e82e5",
   "metadata": {},
   "source": [
    "**Mean Squared Error (MSE)**\n",
    "\n",
    "How about MSE? We can calculate it with Scikit-Learn's [`mean_squared_error()`](https://scikit-learn.org/stable/modules/generated/sklearn.metrics.mean_squared_error.html)."
   ]
  },
  {
   "cell_type": "code",
   "execution_count": 99,
   "id": "1feadeaa-f3e7-40ca-a473-21abf9ebe526",
   "metadata": {
    "tags": []
   },
   "outputs": [
    {
     "data": {
      "text/plain": [
       "0.2534073069137548"
      ]
     },
     "execution_count": 99,
     "metadata": {},
     "output_type": "execute_result"
    }
   ],
   "source": [
    "# Mean squared error\n",
    "from sklearn.metrics import mean_squared_error\n",
    "\n",
    "mse = mean_squared_error(y_test, y_preds)\n",
    "mse"
   ]
  },
  {
   "cell_type": "markdown",
   "id": "8def7a68-5e7b-488f-a3ea-fc6aaeec6c2e",
   "metadata": {},
   "source": [
    "\n",
    "Now you might be thinking, which regression evaluation metric should you use?\n",
    "\n",
    "* R^2 is similar to accuracy. It gives you a quick indication of how well your model might be doing. Generally, the closer your R^2 value is to 1.0, the better the model. But it doesn't really tell exactly how wrong your model is in terms of how far off each prediction is.\n",
    "* MAE gives a better indication of how far off each of your model's predictions are on average.\n",
    "* As for MAE or MSE, because of the way MSE is calculated, squaring the differences between predicted values and actual values, it amplifies larger differences. Let's say we're predicting the value of houses (which we are). \n",
    "    * Pay more attention to MAE: When being \\$10,000 off is ***twice*** as bad as being \\$5,000 off.\n",
    "    * Pay more attention to MSE: When being \\$10,000 off is ***more than twice*** as bad as being \\$5,000 off.\n",
    "    \n",
    "**Note:** What we've covered here is only a handful of potential metrics you can use to evaluate your models. If you're after a complete list, check out the [Scikit-Learn metrics and scoring documentation](https://scikit-learn.org/stable/modules/model_evaluation.html)."
   ]
  },
  {
   "cell_type": "markdown",
   "id": "a0620c0c-89f7-4b39-ad98-f3ec8c298e6e",
   "metadata": {},
   "source": [
    "### 4.2.3 Finally using the `scoring` parameter\n",
    "\n",
    "Woah. We've covered a bunch but haven't even touched the `scoring` parameter...\n",
    "\n",
    "As a refresh, the `scoring` parameter can be used with a function like `cross_val_score()` to tell Scikit-Learn what evaluation metric to return using cross-validation.\n",
    "\n",
    "Let's check it out with our classification model and the heart disease dataset."
   ]
  },
  {
   "cell_type": "code",
   "execution_count": 100,
   "id": "ba85fd45-9ddb-4bdc-820e-7ce1b989730d",
   "metadata": {
    "tags": []
   },
   "outputs": [],
   "source": [
    "from sklearn.model_selection import cross_val_score\n",
    "from sklearn.ensemble import RandomForestClassifier\n",
    "\n",
    "np.random.seed(42)\n",
    "\n",
    "X = heart_disease.drop(\"target\", axis=1)\n",
    "y = heart_disease[\"target\"]\n",
    "\n",
    "clf = RandomForestClassifier(n_estimators=100)"
   ]
  },
  {
   "cell_type": "markdown",
   "id": "4004697a-22b7-4303-8fb0-f7e653e0fc59",
   "metadata": {},
   "source": [
    "First, we'll use the default, which is mean accuracy."
   ]
  },
  {
   "cell_type": "code",
   "execution_count": 101,
   "id": "ccf31d89-383d-488c-ae6b-bd2283aed125",
   "metadata": {
    "tags": []
   },
   "outputs": [
    {
     "data": {
      "text/plain": [
       "array([0.81967213, 0.90163934, 0.83606557, 0.78333333, 0.78333333])"
      ]
     },
     "execution_count": 101,
     "metadata": {},
     "output_type": "execute_result"
    }
   ],
   "source": [
    "np.random.seed(42)\n",
    "cv_acc = cross_val_score(clf, X, y, cv=5)\n",
    "cv_acc"
   ]
  },
  {
   "cell_type": "markdown",
   "id": "28370302-09e5-4f57-a86c-19992e0cc0b6",
   "metadata": {},
   "source": [
    "We've seen this before, now we got 5 different accuracy scores on different test splits of the data.\n",
    "\n",
    "Averaging this gives the cross-validated accuracy."
   ]
  },
  {
   "cell_type": "code",
   "execution_count": 102,
   "id": "b2fd4e12-752f-4a76-a281-98f46c11a260",
   "metadata": {
    "tags": []
   },
   "outputs": [
    {
     "name": "stdout",
     "output_type": "stream",
     "text": [
      "The cross-validated accuracy is: 82.48%\n"
     ]
    }
   ],
   "source": [
    "# Cross-validated accuracy\n",
    "print(f\"The cross-validated accuracy is: {np.mean(cv_acc)*100:.2f}%\")"
   ]
  },
  {
   "cell_type": "markdown",
   "id": "3a639f78-9c67-443d-b152-a43d997691f8",
   "metadata": {},
   "source": [
    "We can find the same using the `scoring` parameter and passing it `\"accuracy\"`."
   ]
  },
  {
   "cell_type": "code",
   "execution_count": 103,
   "id": "ce200882-bde3-4e12-9ed6-03d983d9adf0",
   "metadata": {
    "tags": []
   },
   "outputs": [
    {
     "name": "stdout",
     "output_type": "stream",
     "text": [
      "The cross-validated accuracy is: 82.48%\n"
     ]
    }
   ],
   "source": [
    "np.random.seed(42)\n",
    "cv_acc = cross_val_score(clf, X, y, cv=5, scoring=\"accuracy\")\n",
    "print(f\"The cross-validated accuracy is: {np.mean(cv_acc)*100:.2f}%\")"
   ]
  },
  {
   "cell_type": "markdown",
   "id": "053343d4-4929-4c1e-9698-640c6289dbb5",
   "metadata": {},
   "source": [
    "The same goes for the other metrics we've been using for classification.\n",
    "\n",
    "Let's try `\"precision\"`."
   ]
  },
  {
   "cell_type": "code",
   "execution_count": 104,
   "id": "09810c37-180e-42b8-8340-cf3b0143183c",
   "metadata": {
    "tags": []
   },
   "outputs": [
    {
     "name": "stdout",
     "output_type": "stream",
     "text": [
      "The cross-validated precision is: 0.83\n"
     ]
    }
   ],
   "source": [
    "np.random.seed(42)\n",
    "cv_precision = cross_val_score(clf, X, y, cv=5, scoring=\"precision\")\n",
    "print(f\"The cross-validated precision is: {np.mean(cv_precision):.2f}\")"
   ]
  },
  {
   "cell_type": "markdown",
   "id": "c40da6d9-13e3-45ee-b7ea-d0b35a9c3dc7",
   "metadata": {},
   "source": [
    "How about `\"recall\"`?"
   ]
  },
  {
   "cell_type": "code",
   "execution_count": 105,
   "id": "2cf3131a-cb3d-4fe0-b71e-2e81d8025d98",
   "metadata": {
    "tags": []
   },
   "outputs": [
    {
     "name": "stdout",
     "output_type": "stream",
     "text": [
      "The cross-validated recall is: 0.85\n"
     ]
    }
   ],
   "source": [
    "np.random.seed(42)\n",
    "cv_recall = cross_val_score(clf, X, y, cv=5, scoring=\"recall\")\n",
    "print(f\"The cross-validated recall is: {np.mean(cv_recall):.2f}\")"
   ]
  },
  {
   "cell_type": "markdown",
   "id": "f614b9c2-9838-4b81-bf1b-db0ec508c99b",
   "metadata": {},
   "source": [
    "And `\"f1\"` (for F1 score)?"
   ]
  },
  {
   "cell_type": "code",
   "execution_count": 106,
   "id": "c39d3669-1560-4058-91dd-aaa2a270b1eb",
   "metadata": {
    "tags": []
   },
   "outputs": [
    {
     "name": "stdout",
     "output_type": "stream",
     "text": [
      "The cross-validated F1 score is: 0.84\n"
     ]
    }
   ],
   "source": [
    "np.random.seed(42)\n",
    "cv_f1 = cross_val_score(clf, X, y, cv=5, scoring=\"f1\")\n",
    "print(f\"The cross-validated F1 score is: {np.mean(cv_f1):.2f}\")"
   ]
  },
  {
   "cell_type": "markdown",
   "id": "428fb7a0-c2ab-48ab-a342-0a0b50356e45",
   "metadata": {},
   "source": [
    "We can repeat this process with our regression metrics.\n",
    "\n",
    "Let's revisit our regression model."
   ]
  },
  {
   "cell_type": "code",
   "execution_count": 107,
   "id": "8ec4ce5c-420b-46e8-b62b-7fcdce3b28a6",
   "metadata": {
    "tags": []
   },
   "outputs": [],
   "source": [
    "from sklearn.model_selection import cross_val_score\n",
    "from sklearn.ensemble import RandomForestRegressor\n",
    "\n",
    "np.random.seed(42)\n",
    "\n",
    "X = housing_df.drop(\"target\", axis=1)\n",
    "y = housing_df[\"target\"]\n",
    "\n",
    "model = RandomForestRegressor(n_estimators=100)"
   ]
  },
  {
   "cell_type": "markdown",
   "id": "4dabd241-78a2-47d4-accf-b37c93fc7c81",
   "metadata": {},
   "source": [
    "The default is `\"r2\"`."
   ]
  },
  {
   "cell_type": "code",
   "execution_count": 108,
   "id": "90fbed70-b468-4805-bd01-bed426f61d69",
   "metadata": {
    "tags": []
   },
   "outputs": [
    {
     "name": "stdout",
     "output_type": "stream",
     "text": [
      "The cross-validated R^2 score is: 0.65\n"
     ]
    }
   ],
   "source": [
    "np.random.seed(42)\n",
    "cv_r2 = cross_val_score(model, X, y, cv=5, scoring=\"r2\")\n",
    "print(f\"The cross-validated R^2 score is: {np.mean(cv_r2):.2f}\")"
   ]
  },
  {
   "cell_type": "markdown",
   "id": "a5e71348-4de7-40f5-b017-a170988bf4e7",
   "metadata": {},
   "source": [
    "But we can use `\"neg_mean_absolute_error\"` for MAE (mean absolute error).   Take 2-3 mn"
   ]
  },
  {
   "cell_type": "code",
   "execution_count": 109,
   "id": "a210944b-646e-4bc5-8f2d-1e41d1423fc2",
   "metadata": {
    "tags": []
   },
   "outputs": [
    {
     "name": "stdout",
     "output_type": "stream",
     "text": [
      "The cross-validated MAE score is: -0.47\n"
     ]
    }
   ],
   "source": [
    "np.random.seed(42)\n",
    "cv_mae = cross_val_score(model, X, y, cv=5, scoring=\"neg_mean_absolute_error\")\n",
    "print(f\"The cross-validated MAE score is: {np.mean(cv_mae):.2f}\")"
   ]
  },
  {
   "cell_type": "markdown",
   "id": "d146a537-ee0f-4121-9c39-3b0d9d3f5e69",
   "metadata": {},
   "source": [
    "Why the `\"neg_\"`?\n",
    "\n",
    "Because Scikit-Learn documentation states:\n",
    "> [\"All scorer objects follow the convention that higher return values are better than lower return values.\"](https://scikit-learn.org/stable/modules/model_evaluation.html#common-cases-predefined-values)\n",
    "\n",
    "Which in this case, means a lower negative value (closer to 0) is better.\n",
    "\n",
    "What about `\"neg_mean_squared_error\"` for MSE (mean squared error)?    Take 2-3 mn"
   ]
  },
  {
   "cell_type": "code",
   "execution_count": 110,
   "id": "68b92137-58c8-4424-8b2c-a700445efba7",
   "metadata": {
    "tags": []
   },
   "outputs": [
    {
     "name": "stdout",
     "output_type": "stream",
     "text": [
      "The cross-validated MSE score is: -0.43\n"
     ]
    }
   ],
   "source": [
    "np.random.seed(42)\n",
    "cv_mse = cross_val_score(model, \n",
    "                         X, \n",
    "                         y, \n",
    "                         cv=5,\n",
    "                         scoring=\"neg_mean_squared_error\")\n",
    "print(f\"The cross-validated MSE score is: {np.mean(cv_mse):.2f}\")"
   ]
  },
  {
   "cell_type": "markdown",
   "id": "59ffd652-ea0f-4f5c-9706-6c9e2c5b910f",
   "metadata": {
    "tags": []
   },
   "source": [
    "### 4.3 Using different evaluation metrics with Scikit-Learn\n",
    "\n",
    "Remember the third way of evaluating Scikit-Learn functions?\n",
    "\n",
    "> 3. Problem-specific metric functions. Similar to how the `scoring` parameter can be passed different scoring functions, Scikit-Learn implements these as stand alone functions.\n",
    "\n",
    "Well, we've kind of covered this third way of using evaulation metrics with Scikit-Learn.\n",
    "\n",
    "In essence, all of the metrics we've seen previously have their own function in Scikit-Learn.\n",
    "\n",
    "They all work by comparing an array of predictions, usually called `y_preds` to an array of actual labels, usually called `y_test` or `y_true`.\n",
    "\n",
    "#### Classification functions\n",
    "For:\n",
    "* Accuracy we can use [`accuracy_score()`](https://scikit-learn.org/stable/modules/generated/sklearn.metrics.accuracy_score.html)\n",
    "* Precision we can use [`precision_score()`](https://scikit-learn.org/stable/modules/generated/sklearn.metrics.precision_score.html)\n",
    "* Recall we can use [`recall_score()`](https://scikit-learn.org/stable/modules/generated/sklearn.metrics.recall_score.html)\n",
    "* F1 we can use [`f1_score()`](https://scikit-learn.org/stable/modules/generated/sklearn.metrics.f1_score.html)"
   ]
  },
  {
   "cell_type": "code",
   "execution_count": 111,
   "id": "1532ef67-e2a0-49cc-beea-a56cee8cd65c",
   "metadata": {
    "tags": []
   },
   "outputs": [
    {
     "name": "stdout",
     "output_type": "stream",
     "text": [
      "Classifier metrics on the test set:\n",
      "Accuracy: 85.25%\n",
      "Precision: 0.85\n",
      "Recall: 0.88\n",
      "F1: 0.86\n"
     ]
    }
   ],
   "source": [
    "from sklearn.metrics import accuracy_score, precision_score, recall_score, f1_score\n",
    "from sklearn.ensemble import RandomForestClassifier\n",
    "from sklearn.model_selection import train_test_split\n",
    "\n",
    "np.random.seed(42)\n",
    "\n",
    "X = heart_disease.drop(\"target\", axis=1)\n",
    "y = heart_disease[\"target\"]\n",
    "\n",
    "X_train, X_test, y_train, y_test = train_test_split(X, y, test_size=0.2)\n",
    "\n",
    "clf = RandomForestClassifier(n_estimators=100)\n",
    "clf.fit(X_train, y_train)\n",
    "\n",
    "# Make predictions\n",
    "y_preds = clf.predict(X_test)\n",
    "\n",
    "# Evaluate the classifier\n",
    "print(\"Classifier metrics on the test set:\")\n",
    "print(f\"Accuracy: {accuracy_score(y_test, y_preds) * 100:.2f}%\")\n",
    "print(f\"Precision: {precision_score(y_test, y_preds):.2f}\")\n",
    "print(f\"Recall: {recall_score(y_test, y_preds):.2f}\")\n",
    "print(f\"F1: {f1_score(y_test, y_preds):.2f}\")"
   ]
  },
  {
   "cell_type": "markdown",
   "id": "cdf426ea-dfcd-4515-87ba-c61f58fd1337",
   "metadata": {},
   "source": [
    "The same goes for the regression problem.\n",
    "\n",
    "#### Regression metrics\n",
    "\n",
    "For:\n",
    "* R^2 we can use [`r2_score()`](https://scikit-learn.org/stable/modules/generated/sklearn.metrics.r2_score.html)\n",
    "* MAE (mean absolute error) we can use [`mean_absolute_error()`](https://scikit-learn.org/stable/modules/generated/sklearn.metrics.mean_absolute_error.html)\n",
    "* MSE (mean squared error) we can use [`mean_squared_error()`](https://scikit-learn.org/stable/modules/generated/sklearn.metrics.mean_squared_error.html)"
   ]
  },
  {
   "cell_type": "code",
   "execution_count": 112,
   "id": "1e0593c8-c7b5-4fd5-9dcd-419cd0573050",
   "metadata": {
    "tags": []
   },
   "outputs": [
    {
     "name": "stdout",
     "output_type": "stream",
     "text": [
      "Regression model metrics on the test set:\n",
      "R^2: 0.81\n",
      "MAE: 0.33\n",
      "MSE: 0.25\n"
     ]
    }
   ],
   "source": [
    "from sklearn.metrics import r2_score, mean_absolute_error, mean_squared_error\n",
    "from sklearn.ensemble import RandomForestRegressor\n",
    "from sklearn.model_selection import train_test_split\n",
    "\n",
    "np.random.seed(42)\n",
    "\n",
    "X = housing_df.drop(\"target\", axis=1)\n",
    "y = housing_df[\"target\"]\n",
    "\n",
    "X_train, X_test, y_train, y_test = train_test_split(X, \n",
    "                                                    y, \n",
    "                                                    test_size=0.2)\n",
    "\n",
    "model = RandomForestRegressor(n_estimators=100)\n",
    "model.fit(X_train, y_train)\n",
    "\n",
    "# Make predictions\n",
    "y_preds = model.predict(X_test)\n",
    "\n",
    "# Evaluate the model\n",
    "print(\"Regression model metrics on the test set:\")\n",
    "print(f\"R^2: {r2_score(y_test, y_preds):.2f}\")\n",
    "print(f\"MAE: {mean_absolute_error(y_test, y_preds):.2f}\")\n",
    "print(f\"MSE: {mean_squared_error(y_test, y_preds):.2f}\")"
   ]
  },
  {
   "cell_type": "markdown",
   "id": "300e446a-47e0-4583-8ef4-7e5dfb06482c",
   "metadata": {},
   "source": [
    "Wow. We've covered a lot. But it's worth it. Because evaluating a model's predictions is paramount in any machine learning project.\n",
    "\n",
    "There's nothing worse than training a machine learning model and optimizing for the wrong evaluation metric.\n",
    "\n",
    "Keep the metrics and evaluation methods we've gone through when training your future models.\n",
    "\n",
    "If you're after extra reading, I'd go through the [Scikit-Learn documentation for evaluation metrics](https://scikit-learn.org/stable/modules/model_evaluation.html).\n",
    "\n",
    "Now we've seen some different metrics we can use to evaluate a model, let's see some ways we can improve those metrics. "
   ]
  },
  {
   "cell_type": "markdown",
   "id": "c580cc4c-e4b9-4864-ba4d-a473dfa61d2e",
   "metadata": {},
   "source": [
    "## 5.  Improving model predictions through experimentation (hyperparameter tuning)\n",
    "\n",
    "The first predictions you make with a model are generally referred to as baseline predictions. The same goes with the first evaluation metrics you get. These are generally referred to as baseline metrics.\n",
    "\n",
    "Your next goal is to improve upon these baseline metrics.\n",
    "\n",
    "Two of the main methods to improve baseline metrics are from a data perspective and a model perspective.\n",
    "\n",
    "From a data perspective asks:\n",
    "* Could we collect more data? In machine learning, more data is generally better, as it gives a model more opportunities to learn patterns.\n",
    "* Could we improve our data? This could mean filling in misisng values or finding a better encoding (turning things into numbers) strategy.\n",
    "\n",
    "From a model perspective asks:\n",
    "* Is there a better model we could use? If you've started out with a simple model, could you use a more complex one? (we saw an example of this when looking at the [Scikit-Learn machine learning map](https://scikit-learn.org/stable/tutorial/machine_learning_map/index.html), ensemble methods are generally considered more complex models)\n",
    "* Could we improve the current model? If the model you're using performs well straight out of the box, can the **hyperparameters** be tuned to make it even better?\n",
    "\n",
    "**Note:** Patterns in data are also often referred to as data parameters. The difference between parameters and hyperparameters is a machine learning model seeks to find parameters in data on its own, where as, hyperparameters are settings on a model which a user (you) can adjust.\n",
    "\n",
    "Since we have two existing datasets, we'll come at exploration from a model perspective.\n",
    "\n",
    "More specifically, we'll look at how we could improve our `RandomForestClassifier` and `RandomForestRegressor` models through hyperparameter tuning.\n",
    "\n",
    "What even are hyperparameters?\n",
    "\n",
    "Good question, let's check it out. First, we'll instantiate a `RandomForestClassifier`."
   ]
  },
  {
   "cell_type": "code",
   "execution_count": 113,
   "id": "7b718f48-14b5-4206-8d5c-b53f1fae54a0",
   "metadata": {
    "tags": []
   },
   "outputs": [],
   "source": [
    "from sklearn.ensemble import RandomForestClassifier\n",
    "\n",
    "clf = RandomForestClassifier()"
   ]
  },
  {
   "cell_type": "markdown",
   "id": "a0e71be4-093b-47ba-8af0-5454375b41f7",
   "metadata": {},
   "source": [
    "When you instantiate a model like above, you're using the default hyperparameters.\n",
    "\n",
    "These get printed out when you call the model instance and `get_params()`."
   ]
  },
  {
   "cell_type": "code",
   "execution_count": 114,
   "id": "4761b7f8-20a9-4a18-8086-30f5d9b0aa2e",
   "metadata": {
    "tags": []
   },
   "outputs": [
    {
     "data": {
      "text/plain": [
       "{'bootstrap': True,\n",
       " 'ccp_alpha': 0.0,\n",
       " 'class_weight': None,\n",
       " 'criterion': 'gini',\n",
       " 'max_depth': None,\n",
       " 'max_features': 'sqrt',\n",
       " 'max_leaf_nodes': None,\n",
       " 'max_samples': None,\n",
       " 'min_impurity_decrease': 0.0,\n",
       " 'min_samples_leaf': 1,\n",
       " 'min_samples_split': 2,\n",
       " 'min_weight_fraction_leaf': 0.0,\n",
       " 'n_estimators': 100,\n",
       " 'n_jobs': None,\n",
       " 'oob_score': False,\n",
       " 'random_state': None,\n",
       " 'verbose': 0,\n",
       " 'warm_start': False}"
      ]
     },
     "execution_count": 114,
     "metadata": {},
     "output_type": "execute_result"
    }
   ],
   "source": [
    "clf.get_params()"
   ]
  },
  {
   "cell_type": "markdown",
   "id": "ed943420-8606-4ef1-8cfb-294d745978e9",
   "metadata": {},
   "source": [
    "You'll see things like `max_depth`, `min_samples_split`, `n_estimators`.\n",
    "\n",
    "Each of these is a hyperparameter of the `RandomForestClassifier` you can adjust. \n",
    "\n",
    "You can think of hyperparameters as being similar to dials on an oven. On the default setting your oven might do an okay job cooking your favourite meal. But with a little experimentation, you find it does better when you adjust the settings. \n",
    "\n",
    "<img src=\"images/sklearn-hyperparameter-tuning-oven.png\" width=1000/>\n",
    "\n",
    "The same goes for imporving a machine learning model by hyperparameter tuning. The default hyperparameters on a machine learning model may find patterns in data well. But there's a chance a adjusting the hyperparameters may improve a models performance.\n",
    "\n",
    "Every machine learning model will have different hyperparameters you can tune.\n",
    "\n",
    "You might be thinking, \"how do I remember all of these?\"\n",
    "\n",
    "And it's a good question. It's why we're focused on the Random Forest. Instead of memorizing all of the hyperparameters for every model, we'll see how it's done with one. And then knowing these principles, you can apply them to a different model if needed.\n",
    "\n",
    "Reading the [Scikit-Learn documentation for the Random Forest](https://scikit-learn.org/stable/modules/generated/sklearn.ensemble.RandomForestClassifier.html), you'll find they suggest trying to change `n_estimators` (the number of trees in the forest) and `min_samples_split` (the minimum number of samples required to split an internal node).\n",
    "\n",
    "We'll try tuning these as well as:\n",
    "* `max_features` (the number of features to consider when looking for the best split)\n",
    "* `max_depth` (the maximum depth of the tree)\n",
    "* `min_samples_leaf` (the minimum number of samples required to be at a leaf node)\n",
    "\n",
    "If this still sounds like a lot, the good news is, the process we're taking with the Random Forest and tuning its hyperparameters, can be used for other machine learning models in Scikit-Learn. The only difference is, with a different model, the hyperparameters you tune will be different.\n",
    "\n",
    "Adjusting hyperparameters is usually an experimental process to figure out which are best. As there's no real way of knowing which hyperparameters will be best when starting out.\n",
    "\n",
    "To get familar with hyparameter tuning, we'll take our RandomForestClassifier and adjust its hyperparameters in 3 ways.\n",
    "\n",
    "1. By hand\n",
    "2. Randomly with [RandomSearchCV](https://scikit-learn.org/stable/modules/generated/sklearn.model_selection.RandomizedSearchCV.html)\n",
    "3. Exhaustively with [GridSearchCV](https://scikit-learn.org/stable/modules/generated/sklearn.model_selection.GridSearchCV.html)"
   ]
  },
  {
   "cell_type": "markdown",
   "id": "982a38d9-e4b7-45c7-b96a-34c0afff2414",
   "metadata": {},
   "source": [
    "### 5.1 Tuning hyperparameters by hand \n",
    "\n",
    "So far we've worked with training and test datasets.\n",
    "\n",
    "You train a model on a training set and evaluate it on a test dataset.\n",
    "\n",
    "But hyperparameter tuning introduces a thrid set, a validation set.\n",
    "\n",
    "Now the process becomes, train a model on the training data, (try to) improve its hyperparameters on the validation set and evaluate it on the test set.\n",
    "\n",
    "If our starting dataset contained 100 different patient records labels indicating who had heart disease and who didn't and we wanted to build a machine learning model to predict who had heart disease and who didn't, it might look like this:\n",
    "\n",
    "<img src=\"images/sklearn-train-valid-test-annotated.png\" width=500/>\n",
    "\n",
    "Since we know we're using a `RandomForestClassifier` and we know the hyperparameters we want to adjust, let's see what it looks like.\n",
    "\n",
    "First, let's remind ourselves of the base parameters."
   ]
  },
  {
   "cell_type": "code",
   "execution_count": 115,
   "id": "82046cba-34f8-482e-af67-a6d933f01d10",
   "metadata": {
    "tags": []
   },
   "outputs": [
    {
     "data": {
      "text/plain": [
       "{'bootstrap': True,\n",
       " 'ccp_alpha': 0.0,\n",
       " 'class_weight': None,\n",
       " 'criterion': 'gini',\n",
       " 'max_depth': None,\n",
       " 'max_features': 'sqrt',\n",
       " 'max_leaf_nodes': None,\n",
       " 'max_samples': None,\n",
       " 'min_impurity_decrease': 0.0,\n",
       " 'min_samples_leaf': 1,\n",
       " 'min_samples_split': 2,\n",
       " 'min_weight_fraction_leaf': 0.0,\n",
       " 'n_estimators': 100,\n",
       " 'n_jobs': None,\n",
       " 'oob_score': False,\n",
       " 'random_state': None,\n",
       " 'verbose': 0,\n",
       " 'warm_start': False}"
      ]
     },
     "execution_count": 115,
     "metadata": {},
     "output_type": "execute_result"
    }
   ],
   "source": [
    "clf.get_params()"
   ]
  },
  {
   "cell_type": "markdown",
   "id": "29dc5bcd-1320-4595-9536-c5083dee9b8a",
   "metadata": {},
   "source": [
    "And we're going to adjust:\n",
    "* `max_depth`\n",
    "* `max_features`\n",
    "* `min_samples_leaf`\n",
    "* `min_samples_split`\n",
    "* `n_estimators`\n",
    "\n",
    "We'll use the same code as before, except this time we'll create a training, validation and test split.\n",
    "\n",
    "With the training set containing 70% of the data and the validation and test sets each containing 15%.\n",
    "\n",
    "Let's get some baseline results, then we'll tune the model.\n",
    "\n",
    "And since we're going to be evaluating a few models, let's make an evaluation function."
   ]
  },
  {
   "cell_type": "code",
   "execution_count": 116,
   "id": "6c29aa1e-fa73-40c9-9fab-c87f7c212575",
   "metadata": {
    "tags": []
   },
   "outputs": [],
   "source": [
    "def evaluate_preds(y_true, y_preds):\n",
    "    \"\"\"\n",
    "    Performs evaluation comparison on y_true labels vs. y_pred labels.\n",
    "    \"\"\"\n",
    "    accuracy = accuracy_score(y_true, y_preds)\n",
    "    precision = precision_score(y_true, y_preds)\n",
    "    recall = recall_score(y_true, y_preds)\n",
    "    f1 = f1_score(y_true, y_preds)\n",
    "    metric_dict = {\"accuracy\": round(accuracy, 2),\n",
    "                   \"precision\": round(precision, 2), \n",
    "                   \"recall\": round(recall, 2),\n",
    "                   \"f1\": round(f1, 2)}\n",
    "    print(f\"Acc: {accuracy * 100:.2f}%\")\n",
    "    print(f\"Precision: {precision:.2f}\")\n",
    "    print(f\"Recall: {recall:.2f}\")\n",
    "    print(f\"F1 score: {f1:.2f}\")\n",
    "\n",
    "    return metric_dict"
   ]
  },
  {
   "cell_type": "code",
   "execution_count": 117,
   "id": "3d05c043-576a-4803-8cc2-8a96c1702ddc",
   "metadata": {
    "tags": []
   },
   "outputs": [
    {
     "name": "stdout",
     "output_type": "stream",
     "text": [
      "Acc: 82.22%\n",
      "Precision: 0.81\n",
      "Recall: 0.88\n",
      "F1 score: 0.85\n"
     ]
    },
    {
     "data": {
      "text/plain": [
       "{'accuracy': 0.82, 'precision': 0.81, 'recall': 0.88, 'f1': 0.85}"
      ]
     },
     "execution_count": 117,
     "metadata": {},
     "output_type": "execute_result"
    }
   ],
   "source": [
    "from sklearn.metrics import accuracy_score, precision_score, recall_score, f1_score\n",
    "from sklearn.ensemble import RandomForestClassifier\n",
    "\n",
    "np.random.seed(42)\n",
    "\n",
    "# Shuffle the data\n",
    "heart_disease = heart_disease.sample(frac=1)\n",
    "\n",
    "# Split into X & y\n",
    "X = heart_disease.drop(\"target\", axis=1)\n",
    "y = heart_disease[\"target\"]\n",
    "\n",
    "# Split the data into train, validation & test sets\n",
    "train_split = round(0.7 * len(heart_disease)) # 70% of data\n",
    "valid_split = round(train_split + 0.15 * len(heart_disease)) # 15% of data\n",
    "X_train, y_train = X[:train_split], y[:train_split]\n",
    "X_valid, y_valid = X[train_split:valid_split], y[train_split:valid_split]\n",
    "X_test, y_test = X[valid_split:], y[valid_split:]\n",
    "\n",
    "clf = RandomForestClassifier()\n",
    "clf.fit(X_train, y_train)\n",
    "\n",
    "# Make predictions\n",
    "y_preds = clf.predict(X_valid)\n",
    "\n",
    "# Evaluate the classifier\n",
    "baseline_metrics = evaluate_preds(y_valid, y_preds)\n",
    "baseline_metrics"
   ]
  },
  {
   "cell_type": "markdown",
   "id": "238bf476-ca57-42a4-b09a-edb02a261d1d",
   "metadata": {},
   "source": [
    "<img src=\"images/grid_search_cross_validation.png\" alt=\"crossvalidation\" width=\"1000\"/>"
   ]
  },
  {
   "cell_type": "code",
   "execution_count": 163,
   "id": "f4f2150a-7ed4-4623-bba6-748a92a3c8fe",
   "metadata": {},
   "outputs": [],
   "source": [
    "# from sklearn.model_selection import ShuffleSplit\n",
    "# np.random.seed(42)\n",
    "# cv = ShuffleSplit(n_splits=5, test_size=0.15, random_state=42)\n",
    "np.random.seed(42)\n",
    "\n",
    "\n",
    "# Shuffle the data\n",
    "heart_disease = pd.read_csv('data/heart-disease.csv')\n",
    "heart_disease = heart_disease.sample(frac=1)\n",
    "\n",
    "# Split into X & y\n",
    "X = heart_disease.drop(\"target\", axis=1)\n",
    "y = heart_disease[\"target\"]\n",
    "\n",
    "# Split into train and test sets\n",
    "X_train, X_test, y_train, y_test = train_test_split(X, y, test_size=0.15)"
   ]
  },
  {
   "cell_type": "code",
   "execution_count": 164,
   "id": "129b763e-d24f-4b97-92a7-8fbad1163131",
   "metadata": {},
   "outputs": [
    {
     "name": "stdout",
     "output_type": "stream",
     "text": [
      "Cross-validation scores: [0.76923077 0.82692308 0.78431373 0.88235294 0.8627451 ]\n",
      "Mean cross-validation score: 0.8251131221719458\n",
      "Acc: 78.26%\n",
      "Precision: 0.84\n",
      "Recall: 0.78\n",
      "F1 score: 0.81\n",
      "{'accuracy': 0.78, 'precision': 0.84, 'recall': 0.78, 'f1': 0.81}\n"
     ]
    }
   ],
   "source": [
    "# Initialize the classifier\n",
    "clf = RandomForestClassifier()\n",
    "\n",
    "# Evaluate the classifier using cross-validation\n",
    "# Note: This step is for evaluation purpose and does not fit the clf for prediction\n",
    "cv_scores = cross_val_score(clf, X_train, y_train, cv=5)\n",
    "cv_mean = cv_scores.mean()\n",
    "print(\"Cross-validation scores:\", cv_scores)\n",
    "print(\"Mean cross-validation score:\", cv_mean)\n",
    "\n",
    "# Fit the classifier to the training data\n",
    "clf.fit(X_train, y_train)\n",
    "\n",
    "# Now you can make predictions\n",
    "y_preds = clf.predict(X_test)\n",
    "\n",
    "# Assuming you have an evaluate_preds function defined somewhere\n",
    "# Evaluate the classifier\n",
    "baseline_metrics = evaluate_preds(y_test, y_preds)\n",
    "print(baseline_metrics)"
   ]
  },
  {
   "cell_type": "markdown",
   "id": "5255cbbe-d8e2-4e84-8585-a7aa15d892e8",
   "metadata": {},
   "source": [
    "Beautiful, now let's try and improve the results.\n",
    "\n",
    "We'll change 1 of the hyperparameters, `n_estimators` to 100 and see if it improves on the validation set."
   ]
  },
  {
   "cell_type": "code",
   "execution_count": 170,
   "id": "56265da6-9c62-4651-b46d-0b5b020e5641",
   "metadata": {},
   "outputs": [
    {
     "name": "stdout",
     "output_type": "stream",
     "text": [
      "Cross-validation scores clf_2: [0.78846154 0.84615385 0.78431373 0.84313725 0.84313725]\n",
      "Mean cross-validation score clf_2: 0.8251131221719458\n",
      "Acc: 80.43%\n",
      "Precision: 0.88\n",
      "Recall: 0.78\n",
      "F1 score: 0.82\n",
      "{'accuracy': 0.8, 'precision': 0.88, 'recall': 0.78, 'f1': 0.82}\n"
     ]
    }
   ],
   "source": [
    "np.random.seed(42)\n",
    "\n",
    "# Create a second classifier\n",
    "clf_2 = RandomForestClassifier(n_estimators=50)\n",
    "\n",
    "# Evaluate the classifier using cross-validation\n",
    "# Note: This step is for evaluation purpose and does not fit the clf for prediction\n",
    "cv_scores_2 = cross_val_score(clf_2, X_train, y_train, cv=5)\n",
    "cv_mean_2 = cv_scores.mean()\n",
    "print(\"Cross-validation scores clf_2:\", cv_scores_2)\n",
    "print(\"Mean cross-validation score clf_2:\", cv_mean_2)\n",
    "\n",
    "clf_2.fit(X_train, y_train)\n",
    "\n",
    "# Make predictions\n",
    "y_preds_2 = clf_2.predict(X_test)\n",
    "\n",
    "# Evaluate the 2nd classifier\n",
    "clf_2_metrics = evaluate_preds(y_test, y_preds_2)\n",
    "print(clf_2_metrics)"
   ]
  },
  {
   "cell_type": "markdown",
   "id": "c5f1cba6-603c-40b7-906d-5c6135e0e9ec",
   "metadata": {},
   "source": [
    "Not bad! Slightly better precision same recall and Slightly better f1.\n",
    "\n",
    "How about we try another parameter?\n",
    "\n",
    "Wait...\n",
    "\n",
    "This could take a while if all we're doing is building new models with new hyperparameters each time.\n",
    "\n",
    "Surely there's a better way?\n",
    "\n",
    "There is.\n",
    "\n",
    "### 5.2 Hyperparameter tuning with [`RandomizedSearchCV`](https://scikit-learn.org/stable/modules/generated/sklearn.model_selection.RandomizedSearchCV.html)\n",
    "\n",
    "Scikit-Learn's [`RandomizedSearchCV`](https://scikit-learn.org/stable/modules/generated/sklearn.model_selection.RandomizedSearchCV.html) allows us to randomly search across different hyperparameters to see which work best. It also stores details about the ones which work best!\n",
    "\n",
    "Let's see it in action.\n",
    "\n",
    "First, we create a grid (dictionary) of hyperparameters we'd like to search over."
   ]
  },
  {
   "cell_type": "code",
   "execution_count": 171,
   "id": "bf7901dc-e6f2-49f0-83b9-8b99f5f20588",
   "metadata": {
    "tags": []
   },
   "outputs": [],
   "source": [
    "# Hyperparameter grid RandomizedSearchCV will search over\n",
    "grid = {\"n_estimators\": [100, 200, 500, 1000, 1200],\n",
    "        \"max_depth\": [5, 10, 20, 30],\n",
    "        \"max_features\": [\"log2\", \"sqrt\"],\n",
    "        \"min_samples_split\": [2, 4, 6],\n",
    "        \"min_samples_leaf\": [1, 2, 4]}"
   ]
  },
  {
   "cell_type": "markdown",
   "id": "13c1bff4-1464-4b72-8e09-e2d0f0190e3d",
   "metadata": {},
   "source": [
    "Where did these values come from?\n",
    "\n",
    "They're made up.\n",
    "\n",
    "Made up?\n",
    "\n",
    "Yes. Not completely pulled out of the air but after reading the [Scikit-Learn documentation on Random Forest's](https://scikit-learn.org/stable/modules/generated/sklearn.ensemble.RandomForestClassifier.html) you'll see some of these values have certain values which usually perform well and certain hyperparameters take strings rather than integers.\n",
    "\n",
    "Now we've got the grid setup, Scikit-Learn's `RandomizedSearchCV` will look at it, pick a random value from each, instantiate a model with those values and test each model.\n",
    "\n",
    "How many models will it test?\n",
    "\n",
    "As many as there are for each combination of hyperparameters to be tested. Let's add them up.\n",
    "\n",
    "`max_depth` has 4, `max_features` has 2, `min_samples_leaf` has 3, `min_samples_split` has 3, `n_estimators` has 5. That's 4x2x3x3x5 = 360 models!\n",
    "\n",
    "Or...\n",
    "\n",
    "We can set the `n_iter` parameter to limit the number of models `RandomizedSearchCV` tests.\n",
    "\n",
    "The best thing? The results we get will be cross-validated (hence the CV in `RandomizedSearchCV`) so we can use `train_test_split()`.\n",
    "\n",
    "And since we're going over so many different models, we'll set `n_jobs` to -1 of [`RandomForestClassifier`](https://scikit-learn.org/stable/modules/generated/sklearn.ensemble.RandomForestClassifier.html) so Scikit-Learn takes advantage of all the cores (processors) on our computers.\n",
    "\n",
    "Let's see it in action.\n",
    "\n",
    "**Note:** Depending on `n_iter` (how many models you test), the different values in the hyperparameter grid, and the power of your computer, running the cell below may take a while.\n",
    "\n",
    "**Note 2:** Setting `n_jobs=-1` seems to be breaking on some machines. There seems to be an issue about it, being tracked on GitHub. For the timebeing, `n_jobs=1` seems to be working."
   ]
  },
  {
   "cell_type": "code",
   "execution_count": 172,
   "id": "576b4899-6f49-4fd3-8215-f686de968db2",
   "metadata": {
    "tags": []
   },
   "outputs": [
    {
     "name": "stdout",
     "output_type": "stream",
     "text": [
      "Fitting 5 folds for each of 20 candidates, totalling 100 fits\n",
      "[CV] END max_depth=20, max_features=log2, min_samples_leaf=4, min_samples_split=6, n_estimators=1200; total time=   1.2s\n",
      "[CV] END max_depth=20, max_features=log2, min_samples_leaf=4, min_samples_split=6, n_estimators=1200; total time=   1.2s\n",
      "[CV] END max_depth=20, max_features=log2, min_samples_leaf=4, min_samples_split=6, n_estimators=1200; total time=   1.2s\n",
      "[CV] END max_depth=20, max_features=log2, min_samples_leaf=4, min_samples_split=6, n_estimators=1200; total time=   1.2s\n",
      "[CV] END max_depth=20, max_features=log2, min_samples_leaf=4, min_samples_split=6, n_estimators=1200; total time=   1.2s\n",
      "[CV] END max_depth=5, max_features=log2, min_samples_leaf=4, min_samples_split=6, n_estimators=500; total time=   0.5s\n",
      "[CV] END max_depth=5, max_features=log2, min_samples_leaf=4, min_samples_split=6, n_estimators=500; total time=   0.5s\n",
      "[CV] END max_depth=5, max_features=log2, min_samples_leaf=4, min_samples_split=6, n_estimators=500; total time=   0.5s\n",
      "[CV] END max_depth=5, max_features=log2, min_samples_leaf=4, min_samples_split=6, n_estimators=500; total time=   0.5s\n",
      "[CV] END max_depth=5, max_features=log2, min_samples_leaf=4, min_samples_split=6, n_estimators=500; total time=   0.5s\n",
      "[CV] END max_depth=30, max_features=log2, min_samples_leaf=2, min_samples_split=2, n_estimators=100; total time=   0.1s\n",
      "[CV] END max_depth=30, max_features=log2, min_samples_leaf=2, min_samples_split=2, n_estimators=100; total time=   0.1s\n",
      "[CV] END max_depth=30, max_features=log2, min_samples_leaf=2, min_samples_split=2, n_estimators=100; total time=   0.1s\n",
      "[CV] END max_depth=30, max_features=log2, min_samples_leaf=2, min_samples_split=2, n_estimators=100; total time=   0.1s\n",
      "[CV] END max_depth=30, max_features=log2, min_samples_leaf=2, min_samples_split=2, n_estimators=100; total time=   0.1s\n",
      "[CV] END max_depth=30, max_features=log2, min_samples_leaf=4, min_samples_split=2, n_estimators=500; total time=   0.5s\n",
      "[CV] END max_depth=30, max_features=log2, min_samples_leaf=4, min_samples_split=2, n_estimators=500; total time=   0.5s\n",
      "[CV] END max_depth=30, max_features=log2, min_samples_leaf=4, min_samples_split=2, n_estimators=500; total time=   0.5s\n",
      "[CV] END max_depth=30, max_features=log2, min_samples_leaf=4, min_samples_split=2, n_estimators=500; total time=   0.5s\n",
      "[CV] END max_depth=30, max_features=log2, min_samples_leaf=4, min_samples_split=2, n_estimators=500; total time=   0.5s\n",
      "[CV] END max_depth=5, max_features=sqrt, min_samples_leaf=1, min_samples_split=6, n_estimators=200; total time=   0.2s\n",
      "[CV] END max_depth=5, max_features=sqrt, min_samples_leaf=1, min_samples_split=6, n_estimators=200; total time=   0.2s\n",
      "[CV] END max_depth=5, max_features=sqrt, min_samples_leaf=1, min_samples_split=6, n_estimators=200; total time=   0.2s\n",
      "[CV] END max_depth=5, max_features=sqrt, min_samples_leaf=1, min_samples_split=6, n_estimators=200; total time=   0.2s\n",
      "[CV] END max_depth=5, max_features=sqrt, min_samples_leaf=1, min_samples_split=6, n_estimators=200; total time=   0.2s\n",
      "[CV] END max_depth=30, max_features=log2, min_samples_leaf=1, min_samples_split=2, n_estimators=500; total time=   0.5s\n",
      "[CV] END max_depth=30, max_features=log2, min_samples_leaf=1, min_samples_split=2, n_estimators=500; total time=   0.5s\n",
      "[CV] END max_depth=30, max_features=log2, min_samples_leaf=1, min_samples_split=2, n_estimators=500; total time=   0.5s\n",
      "[CV] END max_depth=30, max_features=log2, min_samples_leaf=1, min_samples_split=2, n_estimators=500; total time=   0.5s\n",
      "[CV] END max_depth=30, max_features=log2, min_samples_leaf=1, min_samples_split=2, n_estimators=500; total time=   0.5s\n",
      "[CV] END max_depth=5, max_features=log2, min_samples_leaf=2, min_samples_split=2, n_estimators=100; total time=   0.1s\n",
      "[CV] END max_depth=5, max_features=log2, min_samples_leaf=2, min_samples_split=2, n_estimators=100; total time=   0.1s\n",
      "[CV] END max_depth=5, max_features=log2, min_samples_leaf=2, min_samples_split=2, n_estimators=100; total time=   0.1s\n",
      "[CV] END max_depth=5, max_features=log2, min_samples_leaf=2, min_samples_split=2, n_estimators=100; total time=   0.1s\n",
      "[CV] END max_depth=5, max_features=log2, min_samples_leaf=2, min_samples_split=2, n_estimators=100; total time=   0.1s\n",
      "[CV] END max_depth=5, max_features=sqrt, min_samples_leaf=1, min_samples_split=6, n_estimators=500; total time=   0.5s\n",
      "[CV] END max_depth=5, max_features=sqrt, min_samples_leaf=1, min_samples_split=6, n_estimators=500; total time=   0.5s\n",
      "[CV] END max_depth=5, max_features=sqrt, min_samples_leaf=1, min_samples_split=6, n_estimators=500; total time=   0.5s\n",
      "[CV] END max_depth=5, max_features=sqrt, min_samples_leaf=1, min_samples_split=6, n_estimators=500; total time=   0.5s\n",
      "[CV] END max_depth=5, max_features=sqrt, min_samples_leaf=1, min_samples_split=6, n_estimators=500; total time=   0.5s\n",
      "[CV] END max_depth=20, max_features=sqrt, min_samples_leaf=2, min_samples_split=4, n_estimators=1000; total time=   1.0s\n",
      "[CV] END max_depth=20, max_features=sqrt, min_samples_leaf=2, min_samples_split=4, n_estimators=1000; total time=   1.0s\n",
      "[CV] END max_depth=20, max_features=sqrt, min_samples_leaf=2, min_samples_split=4, n_estimators=1000; total time=   1.0s\n",
      "[CV] END max_depth=20, max_features=sqrt, min_samples_leaf=2, min_samples_split=4, n_estimators=1000; total time=   1.0s\n",
      "[CV] END max_depth=20, max_features=sqrt, min_samples_leaf=2, min_samples_split=4, n_estimators=1000; total time=   1.0s\n",
      "[CV] END max_depth=10, max_features=log2, min_samples_leaf=4, min_samples_split=2, n_estimators=1200; total time=   1.2s\n",
      "[CV] END max_depth=10, max_features=log2, min_samples_leaf=4, min_samples_split=2, n_estimators=1200; total time=   1.2s\n",
      "[CV] END max_depth=10, max_features=log2, min_samples_leaf=4, min_samples_split=2, n_estimators=1200; total time=   1.2s\n",
      "[CV] END max_depth=10, max_features=log2, min_samples_leaf=4, min_samples_split=2, n_estimators=1200; total time=   1.2s\n",
      "[CV] END max_depth=10, max_features=log2, min_samples_leaf=4, min_samples_split=2, n_estimators=1200; total time=   1.2s\n",
      "[CV] END max_depth=5, max_features=sqrt, min_samples_leaf=4, min_samples_split=4, n_estimators=500; total time=   0.5s\n",
      "[CV] END max_depth=5, max_features=sqrt, min_samples_leaf=4, min_samples_split=4, n_estimators=500; total time=   0.5s\n",
      "[CV] END max_depth=5, max_features=sqrt, min_samples_leaf=4, min_samples_split=4, n_estimators=500; total time=   0.5s\n",
      "[CV] END max_depth=5, max_features=sqrt, min_samples_leaf=4, min_samples_split=4, n_estimators=500; total time=   0.5s\n",
      "[CV] END max_depth=5, max_features=sqrt, min_samples_leaf=4, min_samples_split=4, n_estimators=500; total time=   0.5s\n",
      "[CV] END max_depth=30, max_features=sqrt, min_samples_leaf=4, min_samples_split=4, n_estimators=1200; total time=   1.2s\n",
      "[CV] END max_depth=30, max_features=sqrt, min_samples_leaf=4, min_samples_split=4, n_estimators=1200; total time=   1.2s\n",
      "[CV] END max_depth=30, max_features=sqrt, min_samples_leaf=4, min_samples_split=4, n_estimators=1200; total time=   1.2s\n",
      "[CV] END max_depth=30, max_features=sqrt, min_samples_leaf=4, min_samples_split=4, n_estimators=1200; total time=   1.2s\n",
      "[CV] END max_depth=30, max_features=sqrt, min_samples_leaf=4, min_samples_split=4, n_estimators=1200; total time=   1.2s\n",
      "[CV] END max_depth=20, max_features=log2, min_samples_leaf=4, min_samples_split=2, n_estimators=100; total time=   0.1s\n",
      "[CV] END max_depth=20, max_features=log2, min_samples_leaf=4, min_samples_split=2, n_estimators=100; total time=   0.1s\n",
      "[CV] END max_depth=20, max_features=log2, min_samples_leaf=4, min_samples_split=2, n_estimators=100; total time=   0.1s\n",
      "[CV] END max_depth=20, max_features=log2, min_samples_leaf=4, min_samples_split=2, n_estimators=100; total time=   0.1s\n",
      "[CV] END max_depth=20, max_features=log2, min_samples_leaf=4, min_samples_split=2, n_estimators=100; total time=   0.1s\n",
      "[CV] END max_depth=30, max_features=sqrt, min_samples_leaf=2, min_samples_split=4, n_estimators=1200; total time=   1.2s\n",
      "[CV] END max_depth=30, max_features=sqrt, min_samples_leaf=2, min_samples_split=4, n_estimators=1200; total time=   1.2s\n",
      "[CV] END max_depth=30, max_features=sqrt, min_samples_leaf=2, min_samples_split=4, n_estimators=1200; total time=   1.2s\n",
      "[CV] END max_depth=30, max_features=sqrt, min_samples_leaf=2, min_samples_split=4, n_estimators=1200; total time=   1.2s\n",
      "[CV] END max_depth=30, max_features=sqrt, min_samples_leaf=2, min_samples_split=4, n_estimators=1200; total time=   1.2s\n",
      "[CV] END max_depth=10, max_features=log2, min_samples_leaf=2, min_samples_split=6, n_estimators=1200; total time=   1.2s\n",
      "[CV] END max_depth=10, max_features=log2, min_samples_leaf=2, min_samples_split=6, n_estimators=1200; total time=   1.2s\n",
      "[CV] END max_depth=10, max_features=log2, min_samples_leaf=2, min_samples_split=6, n_estimators=1200; total time=   1.2s\n",
      "[CV] END max_depth=10, max_features=log2, min_samples_leaf=2, min_samples_split=6, n_estimators=1200; total time=   1.2s\n",
      "[CV] END max_depth=10, max_features=log2, min_samples_leaf=2, min_samples_split=6, n_estimators=1200; total time=   1.2s\n",
      "[CV] END max_depth=10, max_features=log2, min_samples_leaf=4, min_samples_split=4, n_estimators=200; total time=   0.2s\n",
      "[CV] END max_depth=10, max_features=log2, min_samples_leaf=4, min_samples_split=4, n_estimators=200; total time=   0.2s\n",
      "[CV] END max_depth=10, max_features=log2, min_samples_leaf=4, min_samples_split=4, n_estimators=200; total time=   0.2s\n",
      "[CV] END max_depth=10, max_features=log2, min_samples_leaf=4, min_samples_split=4, n_estimators=200; total time=   0.2s\n",
      "[CV] END max_depth=10, max_features=log2, min_samples_leaf=4, min_samples_split=4, n_estimators=200; total time=   0.2s\n",
      "[CV] END max_depth=20, max_features=log2, min_samples_leaf=2, min_samples_split=4, n_estimators=1000; total time=   1.0s\n",
      "[CV] END max_depth=20, max_features=log2, min_samples_leaf=2, min_samples_split=4, n_estimators=1000; total time=   1.0s\n",
      "[CV] END max_depth=20, max_features=log2, min_samples_leaf=2, min_samples_split=4, n_estimators=1000; total time=   1.0s\n",
      "[CV] END max_depth=20, max_features=log2, min_samples_leaf=2, min_samples_split=4, n_estimators=1000; total time=   1.0s\n",
      "[CV] END max_depth=20, max_features=log2, min_samples_leaf=2, min_samples_split=4, n_estimators=1000; total time=   1.0s\n",
      "[CV] END max_depth=30, max_features=log2, min_samples_leaf=4, min_samples_split=2, n_estimators=100; total time=   0.1s\n",
      "[CV] END max_depth=30, max_features=log2, min_samples_leaf=4, min_samples_split=2, n_estimators=100; total time=   0.1s\n",
      "[CV] END max_depth=30, max_features=log2, min_samples_leaf=4, min_samples_split=2, n_estimators=100; total time=   0.1s\n",
      "[CV] END max_depth=30, max_features=log2, min_samples_leaf=4, min_samples_split=2, n_estimators=100; total time=   0.1s\n",
      "[CV] END max_depth=30, max_features=log2, min_samples_leaf=4, min_samples_split=2, n_estimators=100; total time=   0.1s\n",
      "[CV] END max_depth=10, max_features=sqrt, min_samples_leaf=1, min_samples_split=2, n_estimators=1200; total time=   1.2s\n",
      "[CV] END max_depth=10, max_features=sqrt, min_samples_leaf=1, min_samples_split=2, n_estimators=1200; total time=   1.2s\n",
      "[CV] END max_depth=10, max_features=sqrt, min_samples_leaf=1, min_samples_split=2, n_estimators=1200; total time=   1.2s\n",
      "[CV] END max_depth=10, max_features=sqrt, min_samples_leaf=1, min_samples_split=2, n_estimators=1200; total time=   1.2s\n",
      "[CV] END max_depth=10, max_features=sqrt, min_samples_leaf=1, min_samples_split=2, n_estimators=1200; total time=   1.2s\n",
      "[CV] END max_depth=30, max_features=sqrt, min_samples_leaf=4, min_samples_split=6, n_estimators=200; total time=   0.2s\n",
      "[CV] END max_depth=30, max_features=sqrt, min_samples_leaf=4, min_samples_split=6, n_estimators=200; total time=   0.2s\n",
      "[CV] END max_depth=30, max_features=sqrt, min_samples_leaf=4, min_samples_split=6, n_estimators=200; total time=   0.2s\n",
      "[CV] END max_depth=30, max_features=sqrt, min_samples_leaf=4, min_samples_split=6, n_estimators=200; total time=   0.2s\n",
      "[CV] END max_depth=30, max_features=sqrt, min_samples_leaf=4, min_samples_split=6, n_estimators=200; total time=   0.2s\n"
     ]
    }
   ],
   "source": [
    "from sklearn.model_selection import RandomizedSearchCV, train_test_split\n",
    "\n",
    "np.random.seed(42)\n",
    "\n",
    "# # Shuffle the data\n",
    "# heart_disease = pd.read_csv('data/heart-disease.csv')\n",
    "# heart_disease = heart_disease.sample(frac=1)\n",
    "\n",
    "# # Split into X & y\n",
    "# X = heart_disease.drop(\"target\", axis=1)\n",
    "# y = heart_disease[\"target\"]\n",
    "\n",
    "# # Split into train and test sets\n",
    "# X_train, X_test, y_train, y_test = train_test_split(X, y, test_size=0.15)\n",
    "\n",
    "# Set n_jobs to -1 to use all cores \n",
    "clf = RandomForestClassifier(n_jobs=1)\n",
    "\n",
    "# Setup RandomizedSearchCV\n",
    "rs_clf = RandomizedSearchCV(estimator=clf,\n",
    "                            param_distributions=grid,\n",
    "                            n_iter=20, # try 20 models total\n",
    "                            cv=5, # 5-fold cross-validation\n",
    "                            verbose=2) # print out results\n",
    "\n",
    "# Fit the RandomizedSearchCV version of clf\n",
    "rs_clf.fit(X_train, y_train);"
   ]
  },
  {
   "cell_type": "markdown",
   "id": "fead96b0-cf55-4bcd-ab2c-f8e0d7565c31",
   "metadata": {},
   "source": [
    "When `RandomizedSearchCV` goes through `n_iter` combinations of of hyperparameter search space, it stores the best ones in the attribute `best_params_`."
   ]
  },
  {
   "cell_type": "code",
   "execution_count": 173,
   "id": "a4504b21-aead-4753-a267-b74cb0b218c0",
   "metadata": {
    "tags": []
   },
   "outputs": [
    {
     "data": {
      "text/plain": [
       "{'n_estimators': 500,\n",
       " 'min_samples_split': 4,\n",
       " 'min_samples_leaf': 4,\n",
       " 'max_features': 'sqrt',\n",
       " 'max_depth': 5}"
      ]
     },
     "execution_count": 173,
     "metadata": {},
     "output_type": "execute_result"
    }
   ],
   "source": [
    "# Find the best hyperparameters found by RandomizedSearchCV\n",
    "rs_clf.best_params_"
   ]
  },
  {
   "cell_type": "markdown",
   "id": "02634071-6fb3-4545-a312-a723b9d732b1",
   "metadata": {},
   "source": [
    "Now when we call `predict()` on `rs_clf` (our `RandomizedSearchCV` version of our classifier), it'll use the best hyperparameters it found."
   ]
  },
  {
   "cell_type": "code",
   "execution_count": 174,
   "id": "4d16de61-ee69-49a9-9e46-df087f163b62",
   "metadata": {
    "tags": []
   },
   "outputs": [
    {
     "name": "stdout",
     "output_type": "stream",
     "text": [
      "Acc: 82.61%\n",
      "Precision: 0.88\n",
      "Recall: 0.81\n",
      "F1 score: 0.85\n"
     ]
    }
   ],
   "source": [
    "# Make predictions with the best hyperparameters\n",
    "rs_y_preds = rs_clf.predict(X_test)\n",
    "\n",
    "# Evaluate the predictions\n",
    "rs_metrics = evaluate_preds(y_test, rs_y_preds)"
   ]
  },
  {
   "cell_type": "markdown",
   "id": "558e5042-efbb-4979-a544-86a3686349c7",
   "metadata": {},
   "source": [
    "Excellent! Thanks to `RandomizedSearchCV` testing out a bunch of different hyperparameters, we get a nice boost to all of the evaluation metrics for our classification model.\n",
    "\n",
    "There's one more way we could try to improve our model's hyperparamters. And it's with [`GridSearchCV`](https://scikit-learn.org/stable/modules/generated/sklearn.model_selection.GridSearchCV.html).\n",
    "\n",
    "### 5.3 Hyperparameter tuning with [GridSearchCV](https://scikit-learn.org/stable/modules/generated/sklearn.model_selection.GridSearchCV.html)\n",
    "\n",
    "The main difference between `GridSearchCV` and `RandomizedSearchCV` is `GridSearchCV` searches across a grid of hyperparamters exhaustively, where as, `RandomizedSearchCV` searches across a grid of hyperparameters randomly (stopping after `n_iter` combinations).\n",
    "\n",
    "For example, let's see our grid of hyperparameters."
   ]
  },
  {
   "cell_type": "code",
   "execution_count": 175,
   "id": "9b1a0ac3-afed-4704-9fc0-2d08ae7949ef",
   "metadata": {
    "tags": []
   },
   "outputs": [
    {
     "data": {
      "text/plain": [
       "{'n_estimators': [100, 200, 500, 1000, 1200],\n",
       " 'max_depth': [5, 10, 20, 30],\n",
       " 'max_features': ['log2', 'sqrt'],\n",
       " 'min_samples_split': [2, 4, 6],\n",
       " 'min_samples_leaf': [1, 2, 4]}"
      ]
     },
     "execution_count": 175,
     "metadata": {},
     "output_type": "execute_result"
    }
   ],
   "source": [
    "grid"
   ]
  },
  {
   "cell_type": "markdown",
   "id": "c59299d2-e055-4a48-9f1c-923c664b47d7",
   "metadata": {},
   "source": [
    "`RandomizedSearchCV` try `n_iter` combinations of different values. Where as, `GridSearchCV` will try every single possible combination. \n",
    "\n",
    "And if you remember from before when we did the calculation: `max_depth` has 4, `max_features` has 2, `min_samples_leaf` has 3, `min_samples_split` has 3, `n_estimators` has 5. \n",
    "\n",
    "That's 4x2x3x3x5 = 360 models!\n",
    "\n",
    "This could take a long time depending on the power of the computer you're using, the amount of data you have and the complexity of the hyperparamters (usually higher values means a more complex model).\n",
    "\n",
    "In our case, the data we're using is relatively small (only ~300 samples).\n",
    "\n",
    "Since we've already tried to find some ideal hyperparameters using `RandomizedSearchCV`, we'll create another hyperparameter grid based on the `best_params_` of `rs_clf`* with less options and then try to use `GridSearchCV` to find a more ideal set.\n",
    "\n",
    "**Note:** Based on the `best_params_` of `rs_clf` implies the next set of hyperparameters we'll try are roughly in the same range of the best set found by `RandomizedSearchCV`."
   ]
  },
  {
   "cell_type": "code",
   "execution_count": 176,
   "id": "cb3a789b-333f-4079-b16f-7e2ab1d38da7",
   "metadata": {
    "tags": []
   },
   "outputs": [],
   "source": [
    "# Another hyperparameter grid similar to rs_clf.best_params_\n",
    "grid_2 = {'n_estimators': [20, 100, 500],\n",
    "          'max_depth': [5, 10, 20],\n",
    "          'max_features': ['log2', 'sqrt'],\n",
    "          'min_samples_split': [4, 6],\n",
    "          'min_samples_leaf': [1, 2]}"
   ]
  },
  {
   "cell_type": "markdown",
   "id": "97bc598f-56fe-47df-b48e-94ddcd0f77d2",
   "metadata": {},
   "source": [
    "We've created another grid of hyperparameters to search over, this time with less total.\n",
    "\n",
    "`n_estimators` has 3, `max_depth` has 3, `max_features` has 2, `min_samples_leaf` has 2, `min_samples_split` has 2. \n",
    "\n",
    "That's 3x3x2x2x2 = 72 models in total. Or about 5 times less (360/72) combinations of hyperparameters less than our original grid.\n",
    "\n",
    "Now when we run `GridSearchCV`, passing it our classifier (`clf`), paramter grid (`grid_2`) and the number of cross-validation folds we'd like to use (`cv`), it'll create a model with every single combination of hyperparameters, 72 in total, and check the results."
   ]
  },
  {
   "cell_type": "code",
   "execution_count": 177,
   "id": "b2a5e742-901b-41b6-ab01-3b8a2fb31bc8",
   "metadata": {
    "tags": []
   },
   "outputs": [
    {
     "name": "stdout",
     "output_type": "stream",
     "text": [
      "Fitting 5 folds for each of 72 candidates, totalling 360 fits\n",
      "[CV] END max_depth=5, max_features=log2, min_samples_leaf=1, min_samples_split=4, n_estimators=20; total time=   0.0s\n",
      "[CV] END max_depth=5, max_features=log2, min_samples_leaf=1, min_samples_split=4, n_estimators=20; total time=   0.0s\n",
      "[CV] END max_depth=5, max_features=log2, min_samples_leaf=1, min_samples_split=4, n_estimators=20; total time=   0.0s\n",
      "[CV] END max_depth=5, max_features=log2, min_samples_leaf=1, min_samples_split=4, n_estimators=20; total time=   0.0s\n",
      "[CV] END max_depth=5, max_features=log2, min_samples_leaf=1, min_samples_split=4, n_estimators=20; total time=   0.0s\n",
      "[CV] END max_depth=5, max_features=log2, min_samples_leaf=1, min_samples_split=4, n_estimators=100; total time=   0.1s\n",
      "[CV] END max_depth=5, max_features=log2, min_samples_leaf=1, min_samples_split=4, n_estimators=100; total time=   0.1s\n",
      "[CV] END max_depth=5, max_features=log2, min_samples_leaf=1, min_samples_split=4, n_estimators=100; total time=   0.1s\n",
      "[CV] END max_depth=5, max_features=log2, min_samples_leaf=1, min_samples_split=4, n_estimators=100; total time=   0.1s\n",
      "[CV] END max_depth=5, max_features=log2, min_samples_leaf=1, min_samples_split=4, n_estimators=100; total time=   0.1s\n",
      "[CV] END max_depth=5, max_features=log2, min_samples_leaf=1, min_samples_split=4, n_estimators=500; total time=   0.5s\n",
      "[CV] END max_depth=5, max_features=log2, min_samples_leaf=1, min_samples_split=4, n_estimators=500; total time=   0.5s\n",
      "[CV] END max_depth=5, max_features=log2, min_samples_leaf=1, min_samples_split=4, n_estimators=500; total time=   0.5s\n",
      "[CV] END max_depth=5, max_features=log2, min_samples_leaf=1, min_samples_split=4, n_estimators=500; total time=   0.5s\n",
      "[CV] END max_depth=5, max_features=log2, min_samples_leaf=1, min_samples_split=4, n_estimators=500; total time=   0.5s\n",
      "[CV] END max_depth=5, max_features=log2, min_samples_leaf=1, min_samples_split=6, n_estimators=20; total time=   0.0s\n",
      "[CV] END max_depth=5, max_features=log2, min_samples_leaf=1, min_samples_split=6, n_estimators=20; total time=   0.0s\n",
      "[CV] END max_depth=5, max_features=log2, min_samples_leaf=1, min_samples_split=6, n_estimators=20; total time=   0.0s\n",
      "[CV] END max_depth=5, max_features=log2, min_samples_leaf=1, min_samples_split=6, n_estimators=20; total time=   0.0s\n",
      "[CV] END max_depth=5, max_features=log2, min_samples_leaf=1, min_samples_split=6, n_estimators=20; total time=   0.0s\n",
      "[CV] END max_depth=5, max_features=log2, min_samples_leaf=1, min_samples_split=6, n_estimators=100; total time=   0.1s\n",
      "[CV] END max_depth=5, max_features=log2, min_samples_leaf=1, min_samples_split=6, n_estimators=100; total time=   0.1s\n",
      "[CV] END max_depth=5, max_features=log2, min_samples_leaf=1, min_samples_split=6, n_estimators=100; total time=   0.1s\n",
      "[CV] END max_depth=5, max_features=log2, min_samples_leaf=1, min_samples_split=6, n_estimators=100; total time=   0.1s\n",
      "[CV] END max_depth=5, max_features=log2, min_samples_leaf=1, min_samples_split=6, n_estimators=100; total time=   0.1s\n",
      "[CV] END max_depth=5, max_features=log2, min_samples_leaf=1, min_samples_split=6, n_estimators=500; total time=   0.5s\n",
      "[CV] END max_depth=5, max_features=log2, min_samples_leaf=1, min_samples_split=6, n_estimators=500; total time=   0.5s\n",
      "[CV] END max_depth=5, max_features=log2, min_samples_leaf=1, min_samples_split=6, n_estimators=500; total time=   0.5s\n",
      "[CV] END max_depth=5, max_features=log2, min_samples_leaf=1, min_samples_split=6, n_estimators=500; total time=   0.5s\n",
      "[CV] END max_depth=5, max_features=log2, min_samples_leaf=1, min_samples_split=6, n_estimators=500; total time=   0.5s\n",
      "[CV] END max_depth=5, max_features=log2, min_samples_leaf=2, min_samples_split=4, n_estimators=20; total time=   0.0s\n",
      "[CV] END max_depth=5, max_features=log2, min_samples_leaf=2, min_samples_split=4, n_estimators=20; total time=   0.0s\n",
      "[CV] END max_depth=5, max_features=log2, min_samples_leaf=2, min_samples_split=4, n_estimators=20; total time=   0.0s\n",
      "[CV] END max_depth=5, max_features=log2, min_samples_leaf=2, min_samples_split=4, n_estimators=20; total time=   0.0s\n",
      "[CV] END max_depth=5, max_features=log2, min_samples_leaf=2, min_samples_split=4, n_estimators=20; total time=   0.0s\n",
      "[CV] END max_depth=5, max_features=log2, min_samples_leaf=2, min_samples_split=4, n_estimators=100; total time=   0.1s\n",
      "[CV] END max_depth=5, max_features=log2, min_samples_leaf=2, min_samples_split=4, n_estimators=100; total time=   0.1s\n",
      "[CV] END max_depth=5, max_features=log2, min_samples_leaf=2, min_samples_split=4, n_estimators=100; total time=   0.1s\n",
      "[CV] END max_depth=5, max_features=log2, min_samples_leaf=2, min_samples_split=4, n_estimators=100; total time=   0.1s\n",
      "[CV] END max_depth=5, max_features=log2, min_samples_leaf=2, min_samples_split=4, n_estimators=100; total time=   0.1s\n",
      "[CV] END max_depth=5, max_features=log2, min_samples_leaf=2, min_samples_split=4, n_estimators=500; total time=   0.5s\n",
      "[CV] END max_depth=5, max_features=log2, min_samples_leaf=2, min_samples_split=4, n_estimators=500; total time=   0.5s\n",
      "[CV] END max_depth=5, max_features=log2, min_samples_leaf=2, min_samples_split=4, n_estimators=500; total time=   0.5s\n",
      "[CV] END max_depth=5, max_features=log2, min_samples_leaf=2, min_samples_split=4, n_estimators=500; total time=   0.5s\n",
      "[CV] END max_depth=5, max_features=log2, min_samples_leaf=2, min_samples_split=4, n_estimators=500; total time=   0.5s\n",
      "[CV] END max_depth=5, max_features=log2, min_samples_leaf=2, min_samples_split=6, n_estimators=20; total time=   0.0s\n",
      "[CV] END max_depth=5, max_features=log2, min_samples_leaf=2, min_samples_split=6, n_estimators=20; total time=   0.0s\n",
      "[CV] END max_depth=5, max_features=log2, min_samples_leaf=2, min_samples_split=6, n_estimators=20; total time=   0.0s\n",
      "[CV] END max_depth=5, max_features=log2, min_samples_leaf=2, min_samples_split=6, n_estimators=20; total time=   0.0s\n",
      "[CV] END max_depth=5, max_features=log2, min_samples_leaf=2, min_samples_split=6, n_estimators=20; total time=   0.0s\n",
      "[CV] END max_depth=5, max_features=log2, min_samples_leaf=2, min_samples_split=6, n_estimators=100; total time=   0.1s\n",
      "[CV] END max_depth=5, max_features=log2, min_samples_leaf=2, min_samples_split=6, n_estimators=100; total time=   0.1s\n",
      "[CV] END max_depth=5, max_features=log2, min_samples_leaf=2, min_samples_split=6, n_estimators=100; total time=   0.1s\n",
      "[CV] END max_depth=5, max_features=log2, min_samples_leaf=2, min_samples_split=6, n_estimators=100; total time=   0.1s\n",
      "[CV] END max_depth=5, max_features=log2, min_samples_leaf=2, min_samples_split=6, n_estimators=100; total time=   0.1s\n",
      "[CV] END max_depth=5, max_features=log2, min_samples_leaf=2, min_samples_split=6, n_estimators=500; total time=   0.5s\n",
      "[CV] END max_depth=5, max_features=log2, min_samples_leaf=2, min_samples_split=6, n_estimators=500; total time=   0.5s\n",
      "[CV] END max_depth=5, max_features=log2, min_samples_leaf=2, min_samples_split=6, n_estimators=500; total time=   0.5s\n",
      "[CV] END max_depth=5, max_features=log2, min_samples_leaf=2, min_samples_split=6, n_estimators=500; total time=   0.5s\n",
      "[CV] END max_depth=5, max_features=log2, min_samples_leaf=2, min_samples_split=6, n_estimators=500; total time=   0.5s\n",
      "[CV] END max_depth=5, max_features=sqrt, min_samples_leaf=1, min_samples_split=4, n_estimators=20; total time=   0.0s\n",
      "[CV] END max_depth=5, max_features=sqrt, min_samples_leaf=1, min_samples_split=4, n_estimators=20; total time=   0.0s\n",
      "[CV] END max_depth=5, max_features=sqrt, min_samples_leaf=1, min_samples_split=4, n_estimators=20; total time=   0.0s\n",
      "[CV] END max_depth=5, max_features=sqrt, min_samples_leaf=1, min_samples_split=4, n_estimators=20; total time=   0.0s\n",
      "[CV] END max_depth=5, max_features=sqrt, min_samples_leaf=1, min_samples_split=4, n_estimators=20; total time=   0.0s\n",
      "[CV] END max_depth=5, max_features=sqrt, min_samples_leaf=1, min_samples_split=4, n_estimators=100; total time=   0.1s\n",
      "[CV] END max_depth=5, max_features=sqrt, min_samples_leaf=1, min_samples_split=4, n_estimators=100; total time=   0.1s\n",
      "[CV] END max_depth=5, max_features=sqrt, min_samples_leaf=1, min_samples_split=4, n_estimators=100; total time=   0.1s\n",
      "[CV] END max_depth=5, max_features=sqrt, min_samples_leaf=1, min_samples_split=4, n_estimators=100; total time=   0.1s\n",
      "[CV] END max_depth=5, max_features=sqrt, min_samples_leaf=1, min_samples_split=4, n_estimators=100; total time=   0.1s\n",
      "[CV] END max_depth=5, max_features=sqrt, min_samples_leaf=1, min_samples_split=4, n_estimators=500; total time=   0.5s\n",
      "[CV] END max_depth=5, max_features=sqrt, min_samples_leaf=1, min_samples_split=4, n_estimators=500; total time=   0.5s\n",
      "[CV] END max_depth=5, max_features=sqrt, min_samples_leaf=1, min_samples_split=4, n_estimators=500; total time=   0.5s\n",
      "[CV] END max_depth=5, max_features=sqrt, min_samples_leaf=1, min_samples_split=4, n_estimators=500; total time=   0.5s\n",
      "[CV] END max_depth=5, max_features=sqrt, min_samples_leaf=1, min_samples_split=4, n_estimators=500; total time=   0.5s\n",
      "[CV] END max_depth=5, max_features=sqrt, min_samples_leaf=1, min_samples_split=6, n_estimators=20; total time=   0.0s\n",
      "[CV] END max_depth=5, max_features=sqrt, min_samples_leaf=1, min_samples_split=6, n_estimators=20; total time=   0.0s\n",
      "[CV] END max_depth=5, max_features=sqrt, min_samples_leaf=1, min_samples_split=6, n_estimators=20; total time=   0.0s\n",
      "[CV] END max_depth=5, max_features=sqrt, min_samples_leaf=1, min_samples_split=6, n_estimators=20; total time=   0.0s\n",
      "[CV] END max_depth=5, max_features=sqrt, min_samples_leaf=1, min_samples_split=6, n_estimators=20; total time=   0.0s\n",
      "[CV] END max_depth=5, max_features=sqrt, min_samples_leaf=1, min_samples_split=6, n_estimators=100; total time=   0.1s\n",
      "[CV] END max_depth=5, max_features=sqrt, min_samples_leaf=1, min_samples_split=6, n_estimators=100; total time=   0.1s\n",
      "[CV] END max_depth=5, max_features=sqrt, min_samples_leaf=1, min_samples_split=6, n_estimators=100; total time=   0.1s\n",
      "[CV] END max_depth=5, max_features=sqrt, min_samples_leaf=1, min_samples_split=6, n_estimators=100; total time=   0.1s\n",
      "[CV] END max_depth=5, max_features=sqrt, min_samples_leaf=1, min_samples_split=6, n_estimators=100; total time=   0.1s\n",
      "[CV] END max_depth=5, max_features=sqrt, min_samples_leaf=1, min_samples_split=6, n_estimators=500; total time=   0.5s\n",
      "[CV] END max_depth=5, max_features=sqrt, min_samples_leaf=1, min_samples_split=6, n_estimators=500; total time=   0.5s\n",
      "[CV] END max_depth=5, max_features=sqrt, min_samples_leaf=1, min_samples_split=6, n_estimators=500; total time=   0.5s\n",
      "[CV] END max_depth=5, max_features=sqrt, min_samples_leaf=1, min_samples_split=6, n_estimators=500; total time=   0.5s\n",
      "[CV] END max_depth=5, max_features=sqrt, min_samples_leaf=1, min_samples_split=6, n_estimators=500; total time=   0.5s\n",
      "[CV] END max_depth=5, max_features=sqrt, min_samples_leaf=2, min_samples_split=4, n_estimators=20; total time=   0.0s\n",
      "[CV] END max_depth=5, max_features=sqrt, min_samples_leaf=2, min_samples_split=4, n_estimators=20; total time=   0.0s\n",
      "[CV] END max_depth=5, max_features=sqrt, min_samples_leaf=2, min_samples_split=4, n_estimators=20; total time=   0.0s\n",
      "[CV] END max_depth=5, max_features=sqrt, min_samples_leaf=2, min_samples_split=4, n_estimators=20; total time=   0.0s\n",
      "[CV] END max_depth=5, max_features=sqrt, min_samples_leaf=2, min_samples_split=4, n_estimators=20; total time=   0.0s\n",
      "[CV] END max_depth=5, max_features=sqrt, min_samples_leaf=2, min_samples_split=4, n_estimators=100; total time=   0.1s\n",
      "[CV] END max_depth=5, max_features=sqrt, min_samples_leaf=2, min_samples_split=4, n_estimators=100; total time=   0.1s\n",
      "[CV] END max_depth=5, max_features=sqrt, min_samples_leaf=2, min_samples_split=4, n_estimators=100; total time=   0.1s\n",
      "[CV] END max_depth=5, max_features=sqrt, min_samples_leaf=2, min_samples_split=4, n_estimators=100; total time=   0.1s\n",
      "[CV] END max_depth=5, max_features=sqrt, min_samples_leaf=2, min_samples_split=4, n_estimators=100; total time=   0.1s\n",
      "[CV] END max_depth=5, max_features=sqrt, min_samples_leaf=2, min_samples_split=4, n_estimators=500; total time=   0.5s\n",
      "[CV] END max_depth=5, max_features=sqrt, min_samples_leaf=2, min_samples_split=4, n_estimators=500; total time=   0.5s\n",
      "[CV] END max_depth=5, max_features=sqrt, min_samples_leaf=2, min_samples_split=4, n_estimators=500; total time=   0.5s\n",
      "[CV] END max_depth=5, max_features=sqrt, min_samples_leaf=2, min_samples_split=4, n_estimators=500; total time=   0.5s\n",
      "[CV] END max_depth=5, max_features=sqrt, min_samples_leaf=2, min_samples_split=4, n_estimators=500; total time=   0.5s\n",
      "[CV] END max_depth=5, max_features=sqrt, min_samples_leaf=2, min_samples_split=6, n_estimators=20; total time=   0.0s\n",
      "[CV] END max_depth=5, max_features=sqrt, min_samples_leaf=2, min_samples_split=6, n_estimators=20; total time=   0.0s\n",
      "[CV] END max_depth=5, max_features=sqrt, min_samples_leaf=2, min_samples_split=6, n_estimators=20; total time=   0.0s\n",
      "[CV] END max_depth=5, max_features=sqrt, min_samples_leaf=2, min_samples_split=6, n_estimators=20; total time=   0.0s\n",
      "[CV] END max_depth=5, max_features=sqrt, min_samples_leaf=2, min_samples_split=6, n_estimators=20; total time=   0.0s\n",
      "[CV] END max_depth=5, max_features=sqrt, min_samples_leaf=2, min_samples_split=6, n_estimators=100; total time=   0.1s\n",
      "[CV] END max_depth=5, max_features=sqrt, min_samples_leaf=2, min_samples_split=6, n_estimators=100; total time=   0.1s\n",
      "[CV] END max_depth=5, max_features=sqrt, min_samples_leaf=2, min_samples_split=6, n_estimators=100; total time=   0.1s\n",
      "[CV] END max_depth=5, max_features=sqrt, min_samples_leaf=2, min_samples_split=6, n_estimators=100; total time=   0.1s\n",
      "[CV] END max_depth=5, max_features=sqrt, min_samples_leaf=2, min_samples_split=6, n_estimators=100; total time=   0.1s\n",
      "[CV] END max_depth=5, max_features=sqrt, min_samples_leaf=2, min_samples_split=6, n_estimators=500; total time=   0.5s\n",
      "[CV] END max_depth=5, max_features=sqrt, min_samples_leaf=2, min_samples_split=6, n_estimators=500; total time=   0.5s\n",
      "[CV] END max_depth=5, max_features=sqrt, min_samples_leaf=2, min_samples_split=6, n_estimators=500; total time=   0.5s\n",
      "[CV] END max_depth=5, max_features=sqrt, min_samples_leaf=2, min_samples_split=6, n_estimators=500; total time=   0.5s\n",
      "[CV] END max_depth=5, max_features=sqrt, min_samples_leaf=2, min_samples_split=6, n_estimators=500; total time=   0.5s\n",
      "[CV] END max_depth=10, max_features=log2, min_samples_leaf=1, min_samples_split=4, n_estimators=20; total time=   0.0s\n",
      "[CV] END max_depth=10, max_features=log2, min_samples_leaf=1, min_samples_split=4, n_estimators=20; total time=   0.0s\n",
      "[CV] END max_depth=10, max_features=log2, min_samples_leaf=1, min_samples_split=4, n_estimators=20; total time=   0.0s\n",
      "[CV] END max_depth=10, max_features=log2, min_samples_leaf=1, min_samples_split=4, n_estimators=20; total time=   0.0s\n",
      "[CV] END max_depth=10, max_features=log2, min_samples_leaf=1, min_samples_split=4, n_estimators=20; total time=   0.0s\n",
      "[CV] END max_depth=10, max_features=log2, min_samples_leaf=1, min_samples_split=4, n_estimators=100; total time=   0.1s\n",
      "[CV] END max_depth=10, max_features=log2, min_samples_leaf=1, min_samples_split=4, n_estimators=100; total time=   0.1s\n",
      "[CV] END max_depth=10, max_features=log2, min_samples_leaf=1, min_samples_split=4, n_estimators=100; total time=   0.1s\n",
      "[CV] END max_depth=10, max_features=log2, min_samples_leaf=1, min_samples_split=4, n_estimators=100; total time=   0.1s\n",
      "[CV] END max_depth=10, max_features=log2, min_samples_leaf=1, min_samples_split=4, n_estimators=100; total time=   0.1s\n",
      "[CV] END max_depth=10, max_features=log2, min_samples_leaf=1, min_samples_split=4, n_estimators=500; total time=   0.5s\n",
      "[CV] END max_depth=10, max_features=log2, min_samples_leaf=1, min_samples_split=4, n_estimators=500; total time=   0.5s\n",
      "[CV] END max_depth=10, max_features=log2, min_samples_leaf=1, min_samples_split=4, n_estimators=500; total time=   0.5s\n",
      "[CV] END max_depth=10, max_features=log2, min_samples_leaf=1, min_samples_split=4, n_estimators=500; total time=   0.5s\n",
      "[CV] END max_depth=10, max_features=log2, min_samples_leaf=1, min_samples_split=4, n_estimators=500; total time=   0.5s\n",
      "[CV] END max_depth=10, max_features=log2, min_samples_leaf=1, min_samples_split=6, n_estimators=20; total time=   0.0s\n",
      "[CV] END max_depth=10, max_features=log2, min_samples_leaf=1, min_samples_split=6, n_estimators=20; total time=   0.0s\n",
      "[CV] END max_depth=10, max_features=log2, min_samples_leaf=1, min_samples_split=6, n_estimators=20; total time=   0.0s\n",
      "[CV] END max_depth=10, max_features=log2, min_samples_leaf=1, min_samples_split=6, n_estimators=20; total time=   0.0s\n",
      "[CV] END max_depth=10, max_features=log2, min_samples_leaf=1, min_samples_split=6, n_estimators=20; total time=   0.0s\n",
      "[CV] END max_depth=10, max_features=log2, min_samples_leaf=1, min_samples_split=6, n_estimators=100; total time=   0.1s\n",
      "[CV] END max_depth=10, max_features=log2, min_samples_leaf=1, min_samples_split=6, n_estimators=100; total time=   0.1s\n",
      "[CV] END max_depth=10, max_features=log2, min_samples_leaf=1, min_samples_split=6, n_estimators=100; total time=   0.1s\n",
      "[CV] END max_depth=10, max_features=log2, min_samples_leaf=1, min_samples_split=6, n_estimators=100; total time=   0.1s\n",
      "[CV] END max_depth=10, max_features=log2, min_samples_leaf=1, min_samples_split=6, n_estimators=100; total time=   0.1s\n",
      "[CV] END max_depth=10, max_features=log2, min_samples_leaf=1, min_samples_split=6, n_estimators=500; total time=   0.5s\n",
      "[CV] END max_depth=10, max_features=log2, min_samples_leaf=1, min_samples_split=6, n_estimators=500; total time=   0.5s\n",
      "[CV] END max_depth=10, max_features=log2, min_samples_leaf=1, min_samples_split=6, n_estimators=500; total time=   0.5s\n",
      "[CV] END max_depth=10, max_features=log2, min_samples_leaf=1, min_samples_split=6, n_estimators=500; total time=   0.5s\n",
      "[CV] END max_depth=10, max_features=log2, min_samples_leaf=1, min_samples_split=6, n_estimators=500; total time=   0.5s\n",
      "[CV] END max_depth=10, max_features=log2, min_samples_leaf=2, min_samples_split=4, n_estimators=20; total time=   0.0s\n",
      "[CV] END max_depth=10, max_features=log2, min_samples_leaf=2, min_samples_split=4, n_estimators=20; total time=   0.0s\n",
      "[CV] END max_depth=10, max_features=log2, min_samples_leaf=2, min_samples_split=4, n_estimators=20; total time=   0.0s\n",
      "[CV] END max_depth=10, max_features=log2, min_samples_leaf=2, min_samples_split=4, n_estimators=20; total time=   0.0s\n",
      "[CV] END max_depth=10, max_features=log2, min_samples_leaf=2, min_samples_split=4, n_estimators=20; total time=   0.0s\n",
      "[CV] END max_depth=10, max_features=log2, min_samples_leaf=2, min_samples_split=4, n_estimators=100; total time=   0.1s\n",
      "[CV] END max_depth=10, max_features=log2, min_samples_leaf=2, min_samples_split=4, n_estimators=100; total time=   0.1s\n",
      "[CV] END max_depth=10, max_features=log2, min_samples_leaf=2, min_samples_split=4, n_estimators=100; total time=   0.1s\n",
      "[CV] END max_depth=10, max_features=log2, min_samples_leaf=2, min_samples_split=4, n_estimators=100; total time=   0.1s\n",
      "[CV] END max_depth=10, max_features=log2, min_samples_leaf=2, min_samples_split=4, n_estimators=100; total time=   0.1s\n",
      "[CV] END max_depth=10, max_features=log2, min_samples_leaf=2, min_samples_split=4, n_estimators=500; total time=   0.5s\n",
      "[CV] END max_depth=10, max_features=log2, min_samples_leaf=2, min_samples_split=4, n_estimators=500; total time=   0.5s\n",
      "[CV] END max_depth=10, max_features=log2, min_samples_leaf=2, min_samples_split=4, n_estimators=500; total time=   0.5s\n",
      "[CV] END max_depth=10, max_features=log2, min_samples_leaf=2, min_samples_split=4, n_estimators=500; total time=   0.5s\n",
      "[CV] END max_depth=10, max_features=log2, min_samples_leaf=2, min_samples_split=4, n_estimators=500; total time=   0.5s\n",
      "[CV] END max_depth=10, max_features=log2, min_samples_leaf=2, min_samples_split=6, n_estimators=20; total time=   0.0s\n",
      "[CV] END max_depth=10, max_features=log2, min_samples_leaf=2, min_samples_split=6, n_estimators=20; total time=   0.0s\n",
      "[CV] END max_depth=10, max_features=log2, min_samples_leaf=2, min_samples_split=6, n_estimators=20; total time=   0.0s\n",
      "[CV] END max_depth=10, max_features=log2, min_samples_leaf=2, min_samples_split=6, n_estimators=20; total time=   0.0s\n",
      "[CV] END max_depth=10, max_features=log2, min_samples_leaf=2, min_samples_split=6, n_estimators=20; total time=   0.0s\n",
      "[CV] END max_depth=10, max_features=log2, min_samples_leaf=2, min_samples_split=6, n_estimators=100; total time=   0.1s\n",
      "[CV] END max_depth=10, max_features=log2, min_samples_leaf=2, min_samples_split=6, n_estimators=100; total time=   0.1s\n",
      "[CV] END max_depth=10, max_features=log2, min_samples_leaf=2, min_samples_split=6, n_estimators=100; total time=   0.1s\n",
      "[CV] END max_depth=10, max_features=log2, min_samples_leaf=2, min_samples_split=6, n_estimators=100; total time=   0.1s\n",
      "[CV] END max_depth=10, max_features=log2, min_samples_leaf=2, min_samples_split=6, n_estimators=100; total time=   0.1s\n",
      "[CV] END max_depth=10, max_features=log2, min_samples_leaf=2, min_samples_split=6, n_estimators=500; total time=   0.5s\n",
      "[CV] END max_depth=10, max_features=log2, min_samples_leaf=2, min_samples_split=6, n_estimators=500; total time=   0.5s\n",
      "[CV] END max_depth=10, max_features=log2, min_samples_leaf=2, min_samples_split=6, n_estimators=500; total time=   0.5s\n",
      "[CV] END max_depth=10, max_features=log2, min_samples_leaf=2, min_samples_split=6, n_estimators=500; total time=   0.5s\n",
      "[CV] END max_depth=10, max_features=log2, min_samples_leaf=2, min_samples_split=6, n_estimators=500; total time=   0.5s\n",
      "[CV] END max_depth=10, max_features=sqrt, min_samples_leaf=1, min_samples_split=4, n_estimators=20; total time=   0.0s\n",
      "[CV] END max_depth=10, max_features=sqrt, min_samples_leaf=1, min_samples_split=4, n_estimators=20; total time=   0.0s\n",
      "[CV] END max_depth=10, max_features=sqrt, min_samples_leaf=1, min_samples_split=4, n_estimators=20; total time=   0.0s\n",
      "[CV] END max_depth=10, max_features=sqrt, min_samples_leaf=1, min_samples_split=4, n_estimators=20; total time=   0.0s\n",
      "[CV] END max_depth=10, max_features=sqrt, min_samples_leaf=1, min_samples_split=4, n_estimators=20; total time=   0.0s\n",
      "[CV] END max_depth=10, max_features=sqrt, min_samples_leaf=1, min_samples_split=4, n_estimators=100; total time=   0.1s\n",
      "[CV] END max_depth=10, max_features=sqrt, min_samples_leaf=1, min_samples_split=4, n_estimators=100; total time=   0.1s\n",
      "[CV] END max_depth=10, max_features=sqrt, min_samples_leaf=1, min_samples_split=4, n_estimators=100; total time=   0.1s\n",
      "[CV] END max_depth=10, max_features=sqrt, min_samples_leaf=1, min_samples_split=4, n_estimators=100; total time=   0.1s\n",
      "[CV] END max_depth=10, max_features=sqrt, min_samples_leaf=1, min_samples_split=4, n_estimators=100; total time=   0.1s\n",
      "[CV] END max_depth=10, max_features=sqrt, min_samples_leaf=1, min_samples_split=4, n_estimators=500; total time=   0.5s\n",
      "[CV] END max_depth=10, max_features=sqrt, min_samples_leaf=1, min_samples_split=4, n_estimators=500; total time=   0.5s\n",
      "[CV] END max_depth=10, max_features=sqrt, min_samples_leaf=1, min_samples_split=4, n_estimators=500; total time=   0.5s\n",
      "[CV] END max_depth=10, max_features=sqrt, min_samples_leaf=1, min_samples_split=4, n_estimators=500; total time=   0.5s\n",
      "[CV] END max_depth=10, max_features=sqrt, min_samples_leaf=1, min_samples_split=4, n_estimators=500; total time=   0.5s\n",
      "[CV] END max_depth=10, max_features=sqrt, min_samples_leaf=1, min_samples_split=6, n_estimators=20; total time=   0.0s\n",
      "[CV] END max_depth=10, max_features=sqrt, min_samples_leaf=1, min_samples_split=6, n_estimators=20; total time=   0.0s\n",
      "[CV] END max_depth=10, max_features=sqrt, min_samples_leaf=1, min_samples_split=6, n_estimators=20; total time=   0.0s\n",
      "[CV] END max_depth=10, max_features=sqrt, min_samples_leaf=1, min_samples_split=6, n_estimators=20; total time=   0.0s\n",
      "[CV] END max_depth=10, max_features=sqrt, min_samples_leaf=1, min_samples_split=6, n_estimators=20; total time=   0.0s\n",
      "[CV] END max_depth=10, max_features=sqrt, min_samples_leaf=1, min_samples_split=6, n_estimators=100; total time=   0.1s\n",
      "[CV] END max_depth=10, max_features=sqrt, min_samples_leaf=1, min_samples_split=6, n_estimators=100; total time=   0.1s\n",
      "[CV] END max_depth=10, max_features=sqrt, min_samples_leaf=1, min_samples_split=6, n_estimators=100; total time=   0.1s\n",
      "[CV] END max_depth=10, max_features=sqrt, min_samples_leaf=1, min_samples_split=6, n_estimators=100; total time=   0.1s\n",
      "[CV] END max_depth=10, max_features=sqrt, min_samples_leaf=1, min_samples_split=6, n_estimators=100; total time=   0.1s\n",
      "[CV] END max_depth=10, max_features=sqrt, min_samples_leaf=1, min_samples_split=6, n_estimators=500; total time=   0.5s\n",
      "[CV] END max_depth=10, max_features=sqrt, min_samples_leaf=1, min_samples_split=6, n_estimators=500; total time=   0.5s\n",
      "[CV] END max_depth=10, max_features=sqrt, min_samples_leaf=1, min_samples_split=6, n_estimators=500; total time=   0.6s\n",
      "[CV] END max_depth=10, max_features=sqrt, min_samples_leaf=1, min_samples_split=6, n_estimators=500; total time=   0.5s\n",
      "[CV] END max_depth=10, max_features=sqrt, min_samples_leaf=1, min_samples_split=6, n_estimators=500; total time=   0.5s\n",
      "[CV] END max_depth=10, max_features=sqrt, min_samples_leaf=2, min_samples_split=4, n_estimators=20; total time=   0.0s\n",
      "[CV] END max_depth=10, max_features=sqrt, min_samples_leaf=2, min_samples_split=4, n_estimators=20; total time=   0.0s\n",
      "[CV] END max_depth=10, max_features=sqrt, min_samples_leaf=2, min_samples_split=4, n_estimators=20; total time=   0.0s\n",
      "[CV] END max_depth=10, max_features=sqrt, min_samples_leaf=2, min_samples_split=4, n_estimators=20; total time=   0.0s\n",
      "[CV] END max_depth=10, max_features=sqrt, min_samples_leaf=2, min_samples_split=4, n_estimators=20; total time=   0.0s\n",
      "[CV] END max_depth=10, max_features=sqrt, min_samples_leaf=2, min_samples_split=4, n_estimators=100; total time=   0.1s\n",
      "[CV] END max_depth=10, max_features=sqrt, min_samples_leaf=2, min_samples_split=4, n_estimators=100; total time=   0.1s\n",
      "[CV] END max_depth=10, max_features=sqrt, min_samples_leaf=2, min_samples_split=4, n_estimators=100; total time=   0.1s\n",
      "[CV] END max_depth=10, max_features=sqrt, min_samples_leaf=2, min_samples_split=4, n_estimators=100; total time=   0.1s\n",
      "[CV] END max_depth=10, max_features=sqrt, min_samples_leaf=2, min_samples_split=4, n_estimators=100; total time=   0.1s\n",
      "[CV] END max_depth=10, max_features=sqrt, min_samples_leaf=2, min_samples_split=4, n_estimators=500; total time=   0.5s\n",
      "[CV] END max_depth=10, max_features=sqrt, min_samples_leaf=2, min_samples_split=4, n_estimators=500; total time=   0.5s\n",
      "[CV] END max_depth=10, max_features=sqrt, min_samples_leaf=2, min_samples_split=4, n_estimators=500; total time=   0.5s\n",
      "[CV] END max_depth=10, max_features=sqrt, min_samples_leaf=2, min_samples_split=4, n_estimators=500; total time=   0.5s\n",
      "[CV] END max_depth=10, max_features=sqrt, min_samples_leaf=2, min_samples_split=4, n_estimators=500; total time=   0.5s\n",
      "[CV] END max_depth=10, max_features=sqrt, min_samples_leaf=2, min_samples_split=6, n_estimators=20; total time=   0.0s\n",
      "[CV] END max_depth=10, max_features=sqrt, min_samples_leaf=2, min_samples_split=6, n_estimators=20; total time=   0.0s\n",
      "[CV] END max_depth=10, max_features=sqrt, min_samples_leaf=2, min_samples_split=6, n_estimators=20; total time=   0.0s\n",
      "[CV] END max_depth=10, max_features=sqrt, min_samples_leaf=2, min_samples_split=6, n_estimators=20; total time=   0.0s\n",
      "[CV] END max_depth=10, max_features=sqrt, min_samples_leaf=2, min_samples_split=6, n_estimators=20; total time=   0.0s\n",
      "[CV] END max_depth=10, max_features=sqrt, min_samples_leaf=2, min_samples_split=6, n_estimators=100; total time=   0.1s\n",
      "[CV] END max_depth=10, max_features=sqrt, min_samples_leaf=2, min_samples_split=6, n_estimators=100; total time=   0.1s\n",
      "[CV] END max_depth=10, max_features=sqrt, min_samples_leaf=2, min_samples_split=6, n_estimators=100; total time=   0.1s\n",
      "[CV] END max_depth=10, max_features=sqrt, min_samples_leaf=2, min_samples_split=6, n_estimators=100; total time=   0.1s\n",
      "[CV] END max_depth=10, max_features=sqrt, min_samples_leaf=2, min_samples_split=6, n_estimators=100; total time=   0.1s\n",
      "[CV] END max_depth=10, max_features=sqrt, min_samples_leaf=2, min_samples_split=6, n_estimators=500; total time=   0.5s\n",
      "[CV] END max_depth=10, max_features=sqrt, min_samples_leaf=2, min_samples_split=6, n_estimators=500; total time=   0.5s\n",
      "[CV] END max_depth=10, max_features=sqrt, min_samples_leaf=2, min_samples_split=6, n_estimators=500; total time=   0.5s\n",
      "[CV] END max_depth=10, max_features=sqrt, min_samples_leaf=2, min_samples_split=6, n_estimators=500; total time=   0.5s\n",
      "[CV] END max_depth=10, max_features=sqrt, min_samples_leaf=2, min_samples_split=6, n_estimators=500; total time=   0.5s\n",
      "[CV] END max_depth=20, max_features=log2, min_samples_leaf=1, min_samples_split=4, n_estimators=20; total time=   0.0s\n",
      "[CV] END max_depth=20, max_features=log2, min_samples_leaf=1, min_samples_split=4, n_estimators=20; total time=   0.0s\n",
      "[CV] END max_depth=20, max_features=log2, min_samples_leaf=1, min_samples_split=4, n_estimators=20; total time=   0.0s\n",
      "[CV] END max_depth=20, max_features=log2, min_samples_leaf=1, min_samples_split=4, n_estimators=20; total time=   0.0s\n",
      "[CV] END max_depth=20, max_features=log2, min_samples_leaf=1, min_samples_split=4, n_estimators=20; total time=   0.0s\n",
      "[CV] END max_depth=20, max_features=log2, min_samples_leaf=1, min_samples_split=4, n_estimators=100; total time=   0.1s\n",
      "[CV] END max_depth=20, max_features=log2, min_samples_leaf=1, min_samples_split=4, n_estimators=100; total time=   0.1s\n",
      "[CV] END max_depth=20, max_features=log2, min_samples_leaf=1, min_samples_split=4, n_estimators=100; total time=   0.1s\n",
      "[CV] END max_depth=20, max_features=log2, min_samples_leaf=1, min_samples_split=4, n_estimators=100; total time=   0.1s\n",
      "[CV] END max_depth=20, max_features=log2, min_samples_leaf=1, min_samples_split=4, n_estimators=100; total time=   0.1s\n",
      "[CV] END max_depth=20, max_features=log2, min_samples_leaf=1, min_samples_split=4, n_estimators=500; total time=   0.5s\n",
      "[CV] END max_depth=20, max_features=log2, min_samples_leaf=1, min_samples_split=4, n_estimators=500; total time=   0.5s\n",
      "[CV] END max_depth=20, max_features=log2, min_samples_leaf=1, min_samples_split=4, n_estimators=500; total time=   0.5s\n",
      "[CV] END max_depth=20, max_features=log2, min_samples_leaf=1, min_samples_split=4, n_estimators=500; total time=   0.5s\n",
      "[CV] END max_depth=20, max_features=log2, min_samples_leaf=1, min_samples_split=4, n_estimators=500; total time=   0.5s\n",
      "[CV] END max_depth=20, max_features=log2, min_samples_leaf=1, min_samples_split=6, n_estimators=20; total time=   0.0s\n",
      "[CV] END max_depth=20, max_features=log2, min_samples_leaf=1, min_samples_split=6, n_estimators=20; total time=   0.0s\n",
      "[CV] END max_depth=20, max_features=log2, min_samples_leaf=1, min_samples_split=6, n_estimators=20; total time=   0.0s\n",
      "[CV] END max_depth=20, max_features=log2, min_samples_leaf=1, min_samples_split=6, n_estimators=20; total time=   0.0s\n",
      "[CV] END max_depth=20, max_features=log2, min_samples_leaf=1, min_samples_split=6, n_estimators=20; total time=   0.0s\n",
      "[CV] END max_depth=20, max_features=log2, min_samples_leaf=1, min_samples_split=6, n_estimators=100; total time=   0.1s\n",
      "[CV] END max_depth=20, max_features=log2, min_samples_leaf=1, min_samples_split=6, n_estimators=100; total time=   0.1s\n",
      "[CV] END max_depth=20, max_features=log2, min_samples_leaf=1, min_samples_split=6, n_estimators=100; total time=   0.1s\n",
      "[CV] END max_depth=20, max_features=log2, min_samples_leaf=1, min_samples_split=6, n_estimators=100; total time=   0.1s\n",
      "[CV] END max_depth=20, max_features=log2, min_samples_leaf=1, min_samples_split=6, n_estimators=100; total time=   0.1s\n",
      "[CV] END max_depth=20, max_features=log2, min_samples_leaf=1, min_samples_split=6, n_estimators=500; total time=   0.5s\n",
      "[CV] END max_depth=20, max_features=log2, min_samples_leaf=1, min_samples_split=6, n_estimators=500; total time=   0.5s\n",
      "[CV] END max_depth=20, max_features=log2, min_samples_leaf=1, min_samples_split=6, n_estimators=500; total time=   0.5s\n",
      "[CV] END max_depth=20, max_features=log2, min_samples_leaf=1, min_samples_split=6, n_estimators=500; total time=   0.5s\n",
      "[CV] END max_depth=20, max_features=log2, min_samples_leaf=1, min_samples_split=6, n_estimators=500; total time=   0.5s\n",
      "[CV] END max_depth=20, max_features=log2, min_samples_leaf=2, min_samples_split=4, n_estimators=20; total time=   0.0s\n",
      "[CV] END max_depth=20, max_features=log2, min_samples_leaf=2, min_samples_split=4, n_estimators=20; total time=   0.0s\n",
      "[CV] END max_depth=20, max_features=log2, min_samples_leaf=2, min_samples_split=4, n_estimators=20; total time=   0.0s\n",
      "[CV] END max_depth=20, max_features=log2, min_samples_leaf=2, min_samples_split=4, n_estimators=20; total time=   0.0s\n",
      "[CV] END max_depth=20, max_features=log2, min_samples_leaf=2, min_samples_split=4, n_estimators=20; total time=   0.0s\n",
      "[CV] END max_depth=20, max_features=log2, min_samples_leaf=2, min_samples_split=4, n_estimators=100; total time=   0.1s\n",
      "[CV] END max_depth=20, max_features=log2, min_samples_leaf=2, min_samples_split=4, n_estimators=100; total time=   0.1s\n",
      "[CV] END max_depth=20, max_features=log2, min_samples_leaf=2, min_samples_split=4, n_estimators=100; total time=   0.1s\n",
      "[CV] END max_depth=20, max_features=log2, min_samples_leaf=2, min_samples_split=4, n_estimators=100; total time=   0.1s\n",
      "[CV] END max_depth=20, max_features=log2, min_samples_leaf=2, min_samples_split=4, n_estimators=100; total time=   0.1s\n",
      "[CV] END max_depth=20, max_features=log2, min_samples_leaf=2, min_samples_split=4, n_estimators=500; total time=   0.5s\n",
      "[CV] END max_depth=20, max_features=log2, min_samples_leaf=2, min_samples_split=4, n_estimators=500; total time=   0.5s\n",
      "[CV] END max_depth=20, max_features=log2, min_samples_leaf=2, min_samples_split=4, n_estimators=500; total time=   0.5s\n",
      "[CV] END max_depth=20, max_features=log2, min_samples_leaf=2, min_samples_split=4, n_estimators=500; total time=   0.5s\n",
      "[CV] END max_depth=20, max_features=log2, min_samples_leaf=2, min_samples_split=4, n_estimators=500; total time=   0.5s\n",
      "[CV] END max_depth=20, max_features=log2, min_samples_leaf=2, min_samples_split=6, n_estimators=20; total time=   0.0s\n",
      "[CV] END max_depth=20, max_features=log2, min_samples_leaf=2, min_samples_split=6, n_estimators=20; total time=   0.0s\n",
      "[CV] END max_depth=20, max_features=log2, min_samples_leaf=2, min_samples_split=6, n_estimators=20; total time=   0.0s\n",
      "[CV] END max_depth=20, max_features=log2, min_samples_leaf=2, min_samples_split=6, n_estimators=20; total time=   0.0s\n",
      "[CV] END max_depth=20, max_features=log2, min_samples_leaf=2, min_samples_split=6, n_estimators=20; total time=   0.0s\n",
      "[CV] END max_depth=20, max_features=log2, min_samples_leaf=2, min_samples_split=6, n_estimators=100; total time=   0.1s\n",
      "[CV] END max_depth=20, max_features=log2, min_samples_leaf=2, min_samples_split=6, n_estimators=100; total time=   0.1s\n",
      "[CV] END max_depth=20, max_features=log2, min_samples_leaf=2, min_samples_split=6, n_estimators=100; total time=   0.1s\n",
      "[CV] END max_depth=20, max_features=log2, min_samples_leaf=2, min_samples_split=6, n_estimators=100; total time=   0.1s\n",
      "[CV] END max_depth=20, max_features=log2, min_samples_leaf=2, min_samples_split=6, n_estimators=100; total time=   0.1s\n",
      "[CV] END max_depth=20, max_features=log2, min_samples_leaf=2, min_samples_split=6, n_estimators=500; total time=   0.5s\n",
      "[CV] END max_depth=20, max_features=log2, min_samples_leaf=2, min_samples_split=6, n_estimators=500; total time=   0.5s\n",
      "[CV] END max_depth=20, max_features=log2, min_samples_leaf=2, min_samples_split=6, n_estimators=500; total time=   0.5s\n",
      "[CV] END max_depth=20, max_features=log2, min_samples_leaf=2, min_samples_split=6, n_estimators=500; total time=   0.5s\n",
      "[CV] END max_depth=20, max_features=log2, min_samples_leaf=2, min_samples_split=6, n_estimators=500; total time=   0.5s\n",
      "[CV] END max_depth=20, max_features=sqrt, min_samples_leaf=1, min_samples_split=4, n_estimators=20; total time=   0.0s\n",
      "[CV] END max_depth=20, max_features=sqrt, min_samples_leaf=1, min_samples_split=4, n_estimators=20; total time=   0.0s\n",
      "[CV] END max_depth=20, max_features=sqrt, min_samples_leaf=1, min_samples_split=4, n_estimators=20; total time=   0.0s\n",
      "[CV] END max_depth=20, max_features=sqrt, min_samples_leaf=1, min_samples_split=4, n_estimators=20; total time=   0.0s\n",
      "[CV] END max_depth=20, max_features=sqrt, min_samples_leaf=1, min_samples_split=4, n_estimators=20; total time=   0.0s\n",
      "[CV] END max_depth=20, max_features=sqrt, min_samples_leaf=1, min_samples_split=4, n_estimators=100; total time=   0.1s\n",
      "[CV] END max_depth=20, max_features=sqrt, min_samples_leaf=1, min_samples_split=4, n_estimators=100; total time=   0.1s\n",
      "[CV] END max_depth=20, max_features=sqrt, min_samples_leaf=1, min_samples_split=4, n_estimators=100; total time=   0.1s\n",
      "[CV] END max_depth=20, max_features=sqrt, min_samples_leaf=1, min_samples_split=4, n_estimators=100; total time=   0.1s\n",
      "[CV] END max_depth=20, max_features=sqrt, min_samples_leaf=1, min_samples_split=4, n_estimators=100; total time=   0.1s\n",
      "[CV] END max_depth=20, max_features=sqrt, min_samples_leaf=1, min_samples_split=4, n_estimators=500; total time=   0.5s\n",
      "[CV] END max_depth=20, max_features=sqrt, min_samples_leaf=1, min_samples_split=4, n_estimators=500; total time=   0.5s\n",
      "[CV] END max_depth=20, max_features=sqrt, min_samples_leaf=1, min_samples_split=4, n_estimators=500; total time=   0.5s\n",
      "[CV] END max_depth=20, max_features=sqrt, min_samples_leaf=1, min_samples_split=4, n_estimators=500; total time=   0.5s\n",
      "[CV] END max_depth=20, max_features=sqrt, min_samples_leaf=1, min_samples_split=4, n_estimators=500; total time=   0.5s\n",
      "[CV] END max_depth=20, max_features=sqrt, min_samples_leaf=1, min_samples_split=6, n_estimators=20; total time=   0.0s\n",
      "[CV] END max_depth=20, max_features=sqrt, min_samples_leaf=1, min_samples_split=6, n_estimators=20; total time=   0.0s\n",
      "[CV] END max_depth=20, max_features=sqrt, min_samples_leaf=1, min_samples_split=6, n_estimators=20; total time=   0.0s\n",
      "[CV] END max_depth=20, max_features=sqrt, min_samples_leaf=1, min_samples_split=6, n_estimators=20; total time=   0.0s\n",
      "[CV] END max_depth=20, max_features=sqrt, min_samples_leaf=1, min_samples_split=6, n_estimators=20; total time=   0.0s\n",
      "[CV] END max_depth=20, max_features=sqrt, min_samples_leaf=1, min_samples_split=6, n_estimators=100; total time=   0.1s\n",
      "[CV] END max_depth=20, max_features=sqrt, min_samples_leaf=1, min_samples_split=6, n_estimators=100; total time=   0.1s\n",
      "[CV] END max_depth=20, max_features=sqrt, min_samples_leaf=1, min_samples_split=6, n_estimators=100; total time=   0.1s\n",
      "[CV] END max_depth=20, max_features=sqrt, min_samples_leaf=1, min_samples_split=6, n_estimators=100; total time=   0.1s\n",
      "[CV] END max_depth=20, max_features=sqrt, min_samples_leaf=1, min_samples_split=6, n_estimators=100; total time=   0.1s\n",
      "[CV] END max_depth=20, max_features=sqrt, min_samples_leaf=1, min_samples_split=6, n_estimators=500; total time=   0.5s\n",
      "[CV] END max_depth=20, max_features=sqrt, min_samples_leaf=1, min_samples_split=6, n_estimators=500; total time=   0.5s\n",
      "[CV] END max_depth=20, max_features=sqrt, min_samples_leaf=1, min_samples_split=6, n_estimators=500; total time=   0.5s\n",
      "[CV] END max_depth=20, max_features=sqrt, min_samples_leaf=1, min_samples_split=6, n_estimators=500; total time=   0.5s\n",
      "[CV] END max_depth=20, max_features=sqrt, min_samples_leaf=1, min_samples_split=6, n_estimators=500; total time=   0.5s\n",
      "[CV] END max_depth=20, max_features=sqrt, min_samples_leaf=2, min_samples_split=4, n_estimators=20; total time=   0.0s\n",
      "[CV] END max_depth=20, max_features=sqrt, min_samples_leaf=2, min_samples_split=4, n_estimators=20; total time=   0.0s\n",
      "[CV] END max_depth=20, max_features=sqrt, min_samples_leaf=2, min_samples_split=4, n_estimators=20; total time=   0.0s\n",
      "[CV] END max_depth=20, max_features=sqrt, min_samples_leaf=2, min_samples_split=4, n_estimators=20; total time=   0.0s\n",
      "[CV] END max_depth=20, max_features=sqrt, min_samples_leaf=2, min_samples_split=4, n_estimators=20; total time=   0.0s\n",
      "[CV] END max_depth=20, max_features=sqrt, min_samples_leaf=2, min_samples_split=4, n_estimators=100; total time=   0.1s\n",
      "[CV] END max_depth=20, max_features=sqrt, min_samples_leaf=2, min_samples_split=4, n_estimators=100; total time=   0.1s\n",
      "[CV] END max_depth=20, max_features=sqrt, min_samples_leaf=2, min_samples_split=4, n_estimators=100; total time=   0.1s\n",
      "[CV] END max_depth=20, max_features=sqrt, min_samples_leaf=2, min_samples_split=4, n_estimators=100; total time=   0.1s\n",
      "[CV] END max_depth=20, max_features=sqrt, min_samples_leaf=2, min_samples_split=4, n_estimators=100; total time=   0.1s\n",
      "[CV] END max_depth=20, max_features=sqrt, min_samples_leaf=2, min_samples_split=4, n_estimators=500; total time=   0.5s\n",
      "[CV] END max_depth=20, max_features=sqrt, min_samples_leaf=2, min_samples_split=4, n_estimators=500; total time=   0.5s\n",
      "[CV] END max_depth=20, max_features=sqrt, min_samples_leaf=2, min_samples_split=4, n_estimators=500; total time=   0.5s\n",
      "[CV] END max_depth=20, max_features=sqrt, min_samples_leaf=2, min_samples_split=4, n_estimators=500; total time=   0.5s\n",
      "[CV] END max_depth=20, max_features=sqrt, min_samples_leaf=2, min_samples_split=4, n_estimators=500; total time=   0.5s\n",
      "[CV] END max_depth=20, max_features=sqrt, min_samples_leaf=2, min_samples_split=6, n_estimators=20; total time=   0.0s\n",
      "[CV] END max_depth=20, max_features=sqrt, min_samples_leaf=2, min_samples_split=6, n_estimators=20; total time=   0.0s\n",
      "[CV] END max_depth=20, max_features=sqrt, min_samples_leaf=2, min_samples_split=6, n_estimators=20; total time=   0.0s\n",
      "[CV] END max_depth=20, max_features=sqrt, min_samples_leaf=2, min_samples_split=6, n_estimators=20; total time=   0.0s\n",
      "[CV] END max_depth=20, max_features=sqrt, min_samples_leaf=2, min_samples_split=6, n_estimators=20; total time=   0.0s\n",
      "[CV] END max_depth=20, max_features=sqrt, min_samples_leaf=2, min_samples_split=6, n_estimators=100; total time=   0.1s\n",
      "[CV] END max_depth=20, max_features=sqrt, min_samples_leaf=2, min_samples_split=6, n_estimators=100; total time=   0.1s\n",
      "[CV] END max_depth=20, max_features=sqrt, min_samples_leaf=2, min_samples_split=6, n_estimators=100; total time=   0.1s\n",
      "[CV] END max_depth=20, max_features=sqrt, min_samples_leaf=2, min_samples_split=6, n_estimators=100; total time=   0.1s\n",
      "[CV] END max_depth=20, max_features=sqrt, min_samples_leaf=2, min_samples_split=6, n_estimators=100; total time=   0.1s\n",
      "[CV] END max_depth=20, max_features=sqrt, min_samples_leaf=2, min_samples_split=6, n_estimators=500; total time=   0.5s\n",
      "[CV] END max_depth=20, max_features=sqrt, min_samples_leaf=2, min_samples_split=6, n_estimators=500; total time=   0.5s\n",
      "[CV] END max_depth=20, max_features=sqrt, min_samples_leaf=2, min_samples_split=6, n_estimators=500; total time=   0.5s\n",
      "[CV] END max_depth=20, max_features=sqrt, min_samples_leaf=2, min_samples_split=6, n_estimators=500; total time=   0.5s\n",
      "[CV] END max_depth=20, max_features=sqrt, min_samples_leaf=2, min_samples_split=6, n_estimators=500; total time=   0.5s\n"
     ]
    }
   ],
   "source": [
    "from sklearn.model_selection import GridSearchCV, train_test_split\n",
    "\n",
    "np.random.seed(42)\n",
    "\n",
    "# # Shuffle the data\n",
    "# heart_disease = pd.read_csv('data/heart-disease.csv')\n",
    "# heart_disease = heart_disease.sample(frac=1)\n",
    "\n",
    "# # Split into X & y\n",
    "# X = heart_disease.drop(\"target\", axis=1)\n",
    "# y = heart_disease[\"target\"]\n",
    "\n",
    "# # Split into train and test sets\n",
    "# X_train, X_test, y_train, y_test = train_test_split(X, y, test_size=0.15)\n",
    "\n",
    "# Set n_jobs to -1 to use all cores \n",
    "clf = RandomForestClassifier(n_jobs=1)\n",
    "\n",
    "# Setup GridSearchCV\n",
    "gs_clf = GridSearchCV(estimator=clf,\n",
    "                      param_grid=grid_2,\n",
    "                      cv=5, # 5-fold cross-validation\n",
    "                      verbose=2) # print out progress\n",
    "\n",
    "# Fit the RandomizedSearchCV version of clf\n",
    "gs_clf.fit(X_train, y_train);"
   ]
  },
  {
   "cell_type": "markdown",
   "id": "0bfc98f3-dd26-4533-aad0-e49742afc0db",
   "metadata": {},
   "source": [
    "Once it completes, we can check the best hyperparameter combinations it found using the `best_params_` attribute."
   ]
  },
  {
   "cell_type": "code",
   "execution_count": 178,
   "id": "f9ced5f6-af8f-4354-8c97-3193b890c036",
   "metadata": {
    "tags": []
   },
   "outputs": [
    {
     "data": {
      "text/plain": [
       "{'max_depth': 10,\n",
       " 'max_features': 'log2',\n",
       " 'min_samples_leaf': 1,\n",
       " 'min_samples_split': 4,\n",
       " 'n_estimators': 100}"
      ]
     },
     "execution_count": 178,
     "metadata": {},
     "output_type": "execute_result"
    }
   ],
   "source": [
    "# Check the best hyperparameters found with GridSearchCV\n",
    "gs_clf.best_params_"
   ]
  },
  {
   "cell_type": "markdown",
   "id": "f631c38f-0923-465f-9bd0-5a38b5faed4e",
   "metadata": {},
   "source": [
    "And by default when we call the `predict()` function on `gs_clf`, it'll use the best hyperparameters."
   ]
  },
  {
   "cell_type": "code",
   "execution_count": 179,
   "id": "5c2804b8-fe0a-42f2-8547-fabb76009f9a",
   "metadata": {},
   "outputs": [
    {
     "name": "stdout",
     "output_type": "stream",
     "text": [
      "Acc: 80.43%\n",
      "Precision: 0.88\n",
      "Recall: 0.78\n",
      "F1 score: 0.82\n"
     ]
    }
   ],
   "source": [
    "# Max predictions with the GridSearchCV classifier\n",
    "gs_y_preds = gs_clf.predict(X_test)\n",
    "\n",
    "# Evaluate the predictions\n",
    "gs_metrics = evaluate_preds(y_test, gs_y_preds)"
   ]
  },
  {
   "cell_type": "markdown",
   "id": "cfe7af66-6a7b-44a9-b2b7-0f9b380e29e8",
   "metadata": {},
   "source": [
    "Let's create a DataFrame to compare the different metrics. "
   ]
  },
  {
   "cell_type": "code",
   "execution_count": 180,
   "id": "3158b64e-0240-4e8f-b1d7-043db418cee5",
   "metadata": {},
   "outputs": [
    {
     "data": {
      "image/png": "[encoded data removed]",
      "text/plain": [
       "<Figure size 1000x800 with 1 Axes>"
      ]
     },
     "metadata": {},
     "output_type": "display_data"
    }
   ],
   "source": [
    "compare_metrics = pd.DataFrame({\"baseline\": baseline_metrics,\n",
    "                                \"clf_2\": clf_2_metrics,\n",
    "                                \"random search\": rs_metrics,\n",
    "                                \"grid search\": gs_metrics})\n",
    "compare_metrics.plot.bar(figsize=(10, 8));"
   ]
  },
  {
   "cell_type": "markdown",
   "id": "de9609e4-3df0-429b-8e72-041e77908308",
   "metadata": {},
   "source": [
    "It seems, even after trying 72 different combinations of hyperparamters, we don't get an improvement in results.\n",
    "\n",
    "These things might happen. But it's important to remember, it's not over. There may be more we can do.\n",
    "\n",
    "In a hyperparameter tuning sense, there may be a better set we could find through more extensive searching with RandomizedSearchCV and GridSearchCV but it's likely these improvements will be marginal.\n",
    "\n",
    "A few next ideas you could try:\n",
    "* Collecting more data - Based on the results our models are getting now, it seems like they're finding some patterns. Collecting more data may improve a models ability to find patterns. However, your ability to do this will largely depend on the project you're working on.\n",
    "* Try a more advanced model - Although our tuned Random Forest model is doing pretty well, a more advanced ensemble method such as [XGBoost](https://xgboost.ai/) or [CatBoost](https://catboost.ai/) might perform better.\n",
    "\n",
    "Since machine learning is part engineering, part science, these kind of experiments are common place in any machine learning project.\n",
    "\n"
   ]
  },
  {
   "cell_type": "code",
   "execution_count": 182,
   "id": "39a50dbe-ecda-4623-80f7-fcefe851743a",
   "metadata": {},
   "outputs": [
    {
     "name": "stdout",
     "output_type": "stream",
     "text": [
      "[0]\tvalidation_0-logloss:0.74287\tvalidation_1-logloss:0.70148\n",
      "[100]\tvalidation_0-logloss:0.51122\tvalidation_1-logloss:0.51797\n",
      "[200]\tvalidation_0-logloss:0.46252\tvalidation_1-logloss:0.48282\n",
      "[300]\tvalidation_0-logloss:0.46082\tvalidation_1-logloss:0.48594\n",
      "[400]\tvalidation_0-logloss:0.46067\tvalidation_1-logloss:0.48738\n",
      "[500]\tvalidation_0-logloss:0.46065\tvalidation_1-logloss:0.48795\n",
      "[600]\tvalidation_0-logloss:0.46064\tvalidation_1-logloss:0.48817\n",
      "[700]\tvalidation_0-logloss:0.46064\tvalidation_1-logloss:0.48825\n",
      "[800]\tvalidation_0-logloss:0.46064\tvalidation_1-logloss:0.48828\n",
      "[900]\tvalidation_0-logloss:0.46006\tvalidation_1-logloss:0.48740\n",
      "[999]\tvalidation_0-logloss:0.46006\tvalidation_1-logloss:0.48741\n"
     ]
    },
    {
     "data": {
      "text/plain": [
       "0.8695652173913043"
      ]
     },
     "execution_count": 182,
     "metadata": {},
     "output_type": "execute_result"
    }
   ],
   "source": [
    "import xgboost as xgb\n",
    "np.random.seed(42)\n",
    "\n",
    "Xg_clf = xgb.XGBClassifier(base_score=0.7, booster='gbtree',tree_method = \"hist\", device = \"cuda\", n_jobs=-1,  \n",
    "                       n_estimators=1000,\n",
    "                       objective='binary:logistic',\n",
    "                       max_depth=100,\n",
    "                       gamma=15,          # gamma = 5 and 10\n",
    "                       learning_rate=0.01)\n",
    "Xg_clf.fit(X_train, y_train,\n",
    "        eval_set=[(X_train, y_train), (X_test, y_test)],\n",
    "        verbose=100)\n",
    "\n",
    "Xg_clf.score(X_test, y_test)"
   ]
  },
  {
   "cell_type": "code",
   "execution_count": 183,
   "id": "3fd5713c-b062-499a-82be-972ee51b359e",
   "metadata": {
    "tags": []
   },
   "outputs": [
    {
     "name": "stdout",
     "output_type": "stream",
     "text": [
      "Acc: 86.96%\n",
      "Precision: 0.86\n",
      "Recall: 0.93\n",
      "F1 score: 0.89\n"
     ]
    },
    {
     "data": {
      "text/plain": [
       "{'accuracy': 0.87, 'precision': 0.86, 'recall': 0.93, 'f1': 0.89}"
      ]
     },
     "execution_count": 183,
     "metadata": {},
     "output_type": "execute_result"
    }
   ],
   "source": [
    "evaluate_preds(y_test, Xg_clf.predict(X_test))"
   ]
  },
  {
   "cell_type": "code",
   "execution_count": 184,
   "id": "03114529-7931-418d-acdb-a20c5e234db9",
   "metadata": {},
   "outputs": [
    {
     "name": "stdout",
     "output_type": "stream",
     "text": [
      "Cross-validation scores clf_3: [0.78846154 0.76923077 0.80392157 0.90196078 0.84313725]\n",
      "Mean cross-validation score clf_3: 0.8251131221719458\n"
     ]
    }
   ],
   "source": [
    "np.random.seed(42)\n",
    "\n",
    "from sklearn.model_selection import cross_val_score\n",
    "\n",
    "# Create a second classifier\n",
    "Xg_clf = xgb.XGBClassifier(base_score=0.7, booster='gbtree',tree_method = \"hist\", device = \"cuda\", n_jobs=-1,  \n",
    "                       n_estimators=1000,\n",
    "                       objective='binary:logistic',\n",
    "                       max_depth=100,\n",
    "                       gamma=15,          # gamma = 5 and 10\n",
    "                       learning_rate=0.01)\n",
    "\n",
    "# Evaluate the classifier using cross-validation\n",
    "# Note: This step is for evaluation purpose and does not fit the clf for prediction\n",
    "cv_scores_3 = cross_val_score(Xg_clf, X_train, y_train, cv=5)\n",
    "cv_mean_3 = cv_scores.mean()\n",
    "print(\"Cross-validation scores clf_3:\", cv_scores_3)\n",
    "print(\"Mean cross-validation score clf_3:\", cv_mean_3)"
   ]
  },
  {
   "cell_type": "code",
   "execution_count": 185,
   "id": "75aade14-3ef2-45cb-9a06-6504c25f8d84",
   "metadata": {},
   "outputs": [
    {
     "name": "stdout",
     "output_type": "stream",
     "text": [
      "Fitting 5 folds for each of 108 candidates, totalling 540 fits\n",
      "[CV 1/5; 1/108] START gamma=5, learning_rate=0.1, max_depth=10, n_estimators=500, objective=binary:logitraw\n",
      "[CV 1/5; 1/108] END gamma=5, learning_rate=0.1, max_depth=10, n_estimators=500, objective=binary:logitraw;, score=0.692 total time=   0.2s\n",
      "[CV 2/5; 1/108] START gamma=5, learning_rate=0.1, max_depth=10, n_estimators=500, objective=binary:logitraw\n",
      "[CV 2/5; 1/108] END gamma=5, learning_rate=0.1, max_depth=10, n_estimators=500, objective=binary:logitraw;, score=0.788 total time=   0.2s\n",
      "[CV 3/5; 1/108] START gamma=5, learning_rate=0.1, max_depth=10, n_estimators=500, objective=binary:logitraw\n",
      "[CV 3/5; 1/108] END gamma=5, learning_rate=0.1, max_depth=10, n_estimators=500, objective=binary:logitraw;, score=0.745 total time=   0.2s\n",
      "[CV 4/5; 1/108] START gamma=5, learning_rate=0.1, max_depth=10, n_estimators=500, objective=binary:logitraw\n",
      "[CV 4/5; 1/108] END gamma=5, learning_rate=0.1, max_depth=10, n_estimators=500, objective=binary:logitraw;, score=0.863 total time=   0.2s\n",
      "[CV 5/5; 1/108] START gamma=5, learning_rate=0.1, max_depth=10, n_estimators=500, objective=binary:logitraw\n",
      "[CV 5/5; 1/108] END gamma=5, learning_rate=0.1, max_depth=10, n_estimators=500, objective=binary:logitraw;, score=0.863 total time=   0.2s\n",
      "[CV 1/5; 2/108] START gamma=5, learning_rate=0.1, max_depth=10, n_estimators=500, objective=binary:logistic\n",
      "[CV 1/5; 2/108] END gamma=5, learning_rate=0.1, max_depth=10, n_estimators=500, objective=binary:logistic;, score=0.788 total time=   0.2s\n",
      "[CV 2/5; 2/108] START gamma=5, learning_rate=0.1, max_depth=10, n_estimators=500, objective=binary:logistic\n",
      "[CV 2/5; 2/108] END gamma=5, learning_rate=0.1, max_depth=10, n_estimators=500, objective=binary:logistic;, score=0.808 total time=   0.2s\n",
      "[CV 3/5; 2/108] START gamma=5, learning_rate=0.1, max_depth=10, n_estimators=500, objective=binary:logistic\n",
      "[CV 3/5; 2/108] END gamma=5, learning_rate=0.1, max_depth=10, n_estimators=500, objective=binary:logistic;, score=0.843 total time=   0.2s\n",
      "[CV 4/5; 2/108] START gamma=5, learning_rate=0.1, max_depth=10, n_estimators=500, objective=binary:logistic\n",
      "[CV 4/5; 2/108] END gamma=5, learning_rate=0.1, max_depth=10, n_estimators=500, objective=binary:logistic;, score=0.843 total time=   0.2s\n",
      "[CV 5/5; 2/108] START gamma=5, learning_rate=0.1, max_depth=10, n_estimators=500, objective=binary:logistic\n",
      "[CV 5/5; 2/108] END gamma=5, learning_rate=0.1, max_depth=10, n_estimators=500, objective=binary:logistic;, score=0.882 total time=   0.2s\n",
      "[CV 1/5; 3/108] START gamma=5, learning_rate=0.1, max_depth=10, n_estimators=1000, objective=binary:logitraw\n",
      "[CV 1/5; 3/108] END gamma=5, learning_rate=0.1, max_depth=10, n_estimators=1000, objective=binary:logitraw;, score=0.692 total time=   0.5s\n",
      "[CV 2/5; 3/108] START gamma=5, learning_rate=0.1, max_depth=10, n_estimators=1000, objective=binary:logitraw\n",
      "[CV 2/5; 3/108] END gamma=5, learning_rate=0.1, max_depth=10, n_estimators=1000, objective=binary:logitraw;, score=0.788 total time=   0.4s\n",
      "[CV 3/5; 3/108] START gamma=5, learning_rate=0.1, max_depth=10, n_estimators=1000, objective=binary:logitraw\n",
      "[CV 3/5; 3/108] END gamma=5, learning_rate=0.1, max_depth=10, n_estimators=1000, objective=binary:logitraw;, score=0.745 total time=   0.4s\n",
      "[CV 4/5; 3/108] START gamma=5, learning_rate=0.1, max_depth=10, n_estimators=1000, objective=binary:logitraw\n",
      "[CV 4/5; 3/108] END gamma=5, learning_rate=0.1, max_depth=10, n_estimators=1000, objective=binary:logitraw;, score=0.863 total time=   0.4s\n",
      "[CV 5/5; 3/108] START gamma=5, learning_rate=0.1, max_depth=10, n_estimators=1000, objective=binary:logitraw\n",
      "[CV 5/5; 3/108] END gamma=5, learning_rate=0.1, max_depth=10, n_estimators=1000, objective=binary:logitraw;, score=0.863 total time=   0.4s\n",
      "[CV 1/5; 4/108] START gamma=5, learning_rate=0.1, max_depth=10, n_estimators=1000, objective=binary:logistic\n",
      "[CV 1/5; 4/108] END gamma=5, learning_rate=0.1, max_depth=10, n_estimators=1000, objective=binary:logistic;, score=0.788 total time=   0.4s\n",
      "[CV 2/5; 4/108] START gamma=5, learning_rate=0.1, max_depth=10, n_estimators=1000, objective=binary:logistic\n",
      "[CV 2/5; 4/108] END gamma=5, learning_rate=0.1, max_depth=10, n_estimators=1000, objective=binary:logistic;, score=0.808 total time=   0.4s\n",
      "[CV 3/5; 4/108] START gamma=5, learning_rate=0.1, max_depth=10, n_estimators=1000, objective=binary:logistic\n",
      "[CV 3/5; 4/108] END gamma=5, learning_rate=0.1, max_depth=10, n_estimators=1000, objective=binary:logistic;, score=0.843 total time=   0.4s\n",
      "[CV 4/5; 4/108] START gamma=5, learning_rate=0.1, max_depth=10, n_estimators=1000, objective=binary:logistic\n",
      "[CV 4/5; 4/108] END gamma=5, learning_rate=0.1, max_depth=10, n_estimators=1000, objective=binary:logistic;, score=0.843 total time=   0.4s\n",
      "[CV 5/5; 4/108] START gamma=5, learning_rate=0.1, max_depth=10, n_estimators=1000, objective=binary:logistic\n",
      "[CV 5/5; 4/108] END gamma=5, learning_rate=0.1, max_depth=10, n_estimators=1000, objective=binary:logistic;, score=0.882 total time=   0.4s\n",
      "[CV 1/5; 5/108] START gamma=5, learning_rate=0.1, max_depth=10, n_estimators=2000, objective=binary:logitraw\n",
      "[CV 1/5; 5/108] END gamma=5, learning_rate=0.1, max_depth=10, n_estimators=2000, objective=binary:logitraw;, score=0.692 total time=   0.9s\n",
      "[CV 2/5; 5/108] START gamma=5, learning_rate=0.1, max_depth=10, n_estimators=2000, objective=binary:logitraw\n",
      "[CV 2/5; 5/108] END gamma=5, learning_rate=0.1, max_depth=10, n_estimators=2000, objective=binary:logitraw;, score=0.788 total time=   0.9s\n",
      "[CV 3/5; 5/108] START gamma=5, learning_rate=0.1, max_depth=10, n_estimators=2000, objective=binary:logitraw\n",
      "[CV 3/5; 5/108] END gamma=5, learning_rate=0.1, max_depth=10, n_estimators=2000, objective=binary:logitraw;, score=0.745 total time=   0.9s\n",
      "[CV 4/5; 5/108] START gamma=5, learning_rate=0.1, max_depth=10, n_estimators=2000, objective=binary:logitraw\n",
      "[CV 4/5; 5/108] END gamma=5, learning_rate=0.1, max_depth=10, n_estimators=2000, objective=binary:logitraw;, score=0.863 total time=   0.9s\n",
      "[CV 5/5; 5/108] START gamma=5, learning_rate=0.1, max_depth=10, n_estimators=2000, objective=binary:logitraw\n",
      "[CV 5/5; 5/108] END gamma=5, learning_rate=0.1, max_depth=10, n_estimators=2000, objective=binary:logitraw;, score=0.863 total time=   0.9s\n",
      "[CV 1/5; 6/108] START gamma=5, learning_rate=0.1, max_depth=10, n_estimators=2000, objective=binary:logistic\n",
      "[CV 1/5; 6/108] END gamma=5, learning_rate=0.1, max_depth=10, n_estimators=2000, objective=binary:logistic;, score=0.788 total time=   0.9s\n",
      "[CV 2/5; 6/108] START gamma=5, learning_rate=0.1, max_depth=10, n_estimators=2000, objective=binary:logistic\n",
      "[CV 2/5; 6/108] END gamma=5, learning_rate=0.1, max_depth=10, n_estimators=2000, objective=binary:logistic;, score=0.808 total time=   0.9s\n",
      "[CV 3/5; 6/108] START gamma=5, learning_rate=0.1, max_depth=10, n_estimators=2000, objective=binary:logistic\n",
      "[CV 3/5; 6/108] END gamma=5, learning_rate=0.1, max_depth=10, n_estimators=2000, objective=binary:logistic;, score=0.843 total time=   1.2s\n",
      "[CV 4/5; 6/108] START gamma=5, learning_rate=0.1, max_depth=10, n_estimators=2000, objective=binary:logistic\n",
      "[CV 4/5; 6/108] END gamma=5, learning_rate=0.1, max_depth=10, n_estimators=2000, objective=binary:logistic;, score=0.843 total time=   0.9s\n",
      "[CV 5/5; 6/108] START gamma=5, learning_rate=0.1, max_depth=10, n_estimators=2000, objective=binary:logistic\n",
      "[CV 5/5; 6/108] END gamma=5, learning_rate=0.1, max_depth=10, n_estimators=2000, objective=binary:logistic;, score=0.882 total time=   0.9s\n",
      "[CV 1/5; 7/108] START gamma=5, learning_rate=0.1, max_depth=50, n_estimators=500, objective=binary:logitraw\n",
      "[CV 1/5; 7/108] END gamma=5, learning_rate=0.1, max_depth=50, n_estimators=500, objective=binary:logitraw;, score=0.692 total time=   0.2s\n",
      "[CV 2/5; 7/108] START gamma=5, learning_rate=0.1, max_depth=50, n_estimators=500, objective=binary:logitraw\n",
      "[CV 2/5; 7/108] END gamma=5, learning_rate=0.1, max_depth=50, n_estimators=500, objective=binary:logitraw;, score=0.788 total time=   0.2s\n",
      "[CV 3/5; 7/108] START gamma=5, learning_rate=0.1, max_depth=50, n_estimators=500, objective=binary:logitraw\n",
      "[CV 3/5; 7/108] END gamma=5, learning_rate=0.1, max_depth=50, n_estimators=500, objective=binary:logitraw;, score=0.745 total time=   0.2s\n",
      "[CV 4/5; 7/108] START gamma=5, learning_rate=0.1, max_depth=50, n_estimators=500, objective=binary:logitraw\n",
      "[CV 4/5; 7/108] END gamma=5, learning_rate=0.1, max_depth=50, n_estimators=500, objective=binary:logitraw;, score=0.863 total time=   0.2s\n",
      "[CV 5/5; 7/108] START gamma=5, learning_rate=0.1, max_depth=50, n_estimators=500, objective=binary:logitraw\n",
      "[CV 5/5; 7/108] END gamma=5, learning_rate=0.1, max_depth=50, n_estimators=500, objective=binary:logitraw;, score=0.863 total time=   0.2s\n",
      "[CV 1/5; 8/108] START gamma=5, learning_rate=0.1, max_depth=50, n_estimators=500, objective=binary:logistic\n",
      "[CV 1/5; 8/108] END gamma=5, learning_rate=0.1, max_depth=50, n_estimators=500, objective=binary:logistic;, score=0.788 total time=   0.2s\n",
      "[CV 2/5; 8/108] START gamma=5, learning_rate=0.1, max_depth=50, n_estimators=500, objective=binary:logistic\n",
      "[CV 2/5; 8/108] END gamma=5, learning_rate=0.1, max_depth=50, n_estimators=500, objective=binary:logistic;, score=0.808 total time=   0.2s\n",
      "[CV 3/5; 8/108] START gamma=5, learning_rate=0.1, max_depth=50, n_estimators=500, objective=binary:logistic\n",
      "[CV 3/5; 8/108] END gamma=5, learning_rate=0.1, max_depth=50, n_estimators=500, objective=binary:logistic;, score=0.843 total time=   0.6s\n",
      "[CV 4/5; 8/108] START gamma=5, learning_rate=0.1, max_depth=50, n_estimators=500, objective=binary:logistic\n",
      "[CV 4/5; 8/108] END gamma=5, learning_rate=0.1, max_depth=50, n_estimators=500, objective=binary:logistic;, score=0.843 total time=   0.2s\n",
      "[CV 5/5; 8/108] START gamma=5, learning_rate=0.1, max_depth=50, n_estimators=500, objective=binary:logistic\n",
      "[CV 5/5; 8/108] END gamma=5, learning_rate=0.1, max_depth=50, n_estimators=500, objective=binary:logistic;, score=0.882 total time=   0.2s\n",
      "[CV 1/5; 9/108] START gamma=5, learning_rate=0.1, max_depth=50, n_estimators=1000, objective=binary:logitraw\n",
      "[CV 1/5; 9/108] END gamma=5, learning_rate=0.1, max_depth=50, n_estimators=1000, objective=binary:logitraw;, score=0.692 total time=   0.4s\n",
      "[CV 2/5; 9/108] START gamma=5, learning_rate=0.1, max_depth=50, n_estimators=1000, objective=binary:logitraw\n",
      "[CV 2/5; 9/108] END gamma=5, learning_rate=0.1, max_depth=50, n_estimators=1000, objective=binary:logitraw;, score=0.788 total time=   0.5s\n",
      "[CV 3/5; 9/108] START gamma=5, learning_rate=0.1, max_depth=50, n_estimators=1000, objective=binary:logitraw\n",
      "[CV 3/5; 9/108] END gamma=5, learning_rate=0.1, max_depth=50, n_estimators=1000, objective=binary:logitraw;, score=0.745 total time=   0.5s\n",
      "[CV 4/5; 9/108] START gamma=5, learning_rate=0.1, max_depth=50, n_estimators=1000, objective=binary:logitraw\n",
      "[CV 4/5; 9/108] END gamma=5, learning_rate=0.1, max_depth=50, n_estimators=1000, objective=binary:logitraw;, score=0.863 total time=   0.4s\n",
      "[CV 5/5; 9/108] START gamma=5, learning_rate=0.1, max_depth=50, n_estimators=1000, objective=binary:logitraw\n",
      "[CV 5/5; 9/108] END gamma=5, learning_rate=0.1, max_depth=50, n_estimators=1000, objective=binary:logitraw;, score=0.863 total time=   0.4s\n",
      "[CV 1/5; 10/108] START gamma=5, learning_rate=0.1, max_depth=50, n_estimators=1000, objective=binary:logistic\n",
      "[CV 1/5; 10/108] END gamma=5, learning_rate=0.1, max_depth=50, n_estimators=1000, objective=binary:logistic;, score=0.788 total time=   0.4s\n",
      "[CV 2/5; 10/108] START gamma=5, learning_rate=0.1, max_depth=50, n_estimators=1000, objective=binary:logistic\n",
      "[CV 2/5; 10/108] END gamma=5, learning_rate=0.1, max_depth=50, n_estimators=1000, objective=binary:logistic;, score=0.808 total time=   0.4s\n",
      "[CV 3/5; 10/108] START gamma=5, learning_rate=0.1, max_depth=50, n_estimators=1000, objective=binary:logistic\n",
      "[CV 3/5; 10/108] END gamma=5, learning_rate=0.1, max_depth=50, n_estimators=1000, objective=binary:logistic;, score=0.843 total time=   0.4s\n",
      "[CV 4/5; 10/108] START gamma=5, learning_rate=0.1, max_depth=50, n_estimators=1000, objective=binary:logistic\n",
      "[CV 4/5; 10/108] END gamma=5, learning_rate=0.1, max_depth=50, n_estimators=1000, objective=binary:logistic;, score=0.843 total time=   0.4s\n",
      "[CV 5/5; 10/108] START gamma=5, learning_rate=0.1, max_depth=50, n_estimators=1000, objective=binary:logistic\n",
      "[CV 5/5; 10/108] END gamma=5, learning_rate=0.1, max_depth=50, n_estimators=1000, objective=binary:logistic;, score=0.882 total time=   0.4s\n",
      "[CV 1/5; 11/108] START gamma=5, learning_rate=0.1, max_depth=50, n_estimators=2000, objective=binary:logitraw\n",
      "[CV 1/5; 11/108] END gamma=5, learning_rate=0.1, max_depth=50, n_estimators=2000, objective=binary:logitraw;, score=0.692 total time=   0.9s\n",
      "[CV 2/5; 11/108] START gamma=5, learning_rate=0.1, max_depth=50, n_estimators=2000, objective=binary:logitraw\n",
      "[CV 2/5; 11/108] END gamma=5, learning_rate=0.1, max_depth=50, n_estimators=2000, objective=binary:logitraw;, score=0.788 total time=   1.2s\n",
      "[CV 3/5; 11/108] START gamma=5, learning_rate=0.1, max_depth=50, n_estimators=2000, objective=binary:logitraw\n",
      "[CV 3/5; 11/108] END gamma=5, learning_rate=0.1, max_depth=50, n_estimators=2000, objective=binary:logitraw;, score=0.745 total time=   0.9s\n",
      "[CV 4/5; 11/108] START gamma=5, learning_rate=0.1, max_depth=50, n_estimators=2000, objective=binary:logitraw\n",
      "[CV 4/5; 11/108] END gamma=5, learning_rate=0.1, max_depth=50, n_estimators=2000, objective=binary:logitraw;, score=0.863 total time=   0.9s\n",
      "[CV 5/5; 11/108] START gamma=5, learning_rate=0.1, max_depth=50, n_estimators=2000, objective=binary:logitraw\n",
      "[CV 5/5; 11/108] END gamma=5, learning_rate=0.1, max_depth=50, n_estimators=2000, objective=binary:logitraw;, score=0.863 total time=   0.9s\n",
      "[CV 1/5; 12/108] START gamma=5, learning_rate=0.1, max_depth=50, n_estimators=2000, objective=binary:logistic\n",
      "[CV 1/5; 12/108] END gamma=5, learning_rate=0.1, max_depth=50, n_estimators=2000, objective=binary:logistic;, score=0.788 total time=   0.9s\n",
      "[CV 2/5; 12/108] START gamma=5, learning_rate=0.1, max_depth=50, n_estimators=2000, objective=binary:logistic\n",
      "[CV 2/5; 12/108] END gamma=5, learning_rate=0.1, max_depth=50, n_estimators=2000, objective=binary:logistic;, score=0.808 total time=   0.9s\n",
      "[CV 3/5; 12/108] START gamma=5, learning_rate=0.1, max_depth=50, n_estimators=2000, objective=binary:logistic\n",
      "[CV 3/5; 12/108] END gamma=5, learning_rate=0.1, max_depth=50, n_estimators=2000, objective=binary:logistic;, score=0.843 total time=   0.9s\n",
      "[CV 4/5; 12/108] START gamma=5, learning_rate=0.1, max_depth=50, n_estimators=2000, objective=binary:logistic\n",
      "[CV 4/5; 12/108] END gamma=5, learning_rate=0.1, max_depth=50, n_estimators=2000, objective=binary:logistic;, score=0.843 total time=   0.9s\n",
      "[CV 5/5; 12/108] START gamma=5, learning_rate=0.1, max_depth=50, n_estimators=2000, objective=binary:logistic\n",
      "[CV 5/5; 12/108] END gamma=5, learning_rate=0.1, max_depth=50, n_estimators=2000, objective=binary:logistic;, score=0.882 total time=   0.9s\n",
      "[CV 1/5; 13/108] START gamma=5, learning_rate=0.1, max_depth=100, n_estimators=500, objective=binary:logitraw\n",
      "[CV 1/5; 13/108] END gamma=5, learning_rate=0.1, max_depth=100, n_estimators=500, objective=binary:logitraw;, score=0.692 total time=   0.2s\n",
      "[CV 2/5; 13/108] START gamma=5, learning_rate=0.1, max_depth=100, n_estimators=500, objective=binary:logitraw\n",
      "[CV 2/5; 13/108] END gamma=5, learning_rate=0.1, max_depth=100, n_estimators=500, objective=binary:logitraw;, score=0.788 total time=   0.2s\n",
      "[CV 3/5; 13/108] START gamma=5, learning_rate=0.1, max_depth=100, n_estimators=500, objective=binary:logitraw\n",
      "[CV 3/5; 13/108] END gamma=5, learning_rate=0.1, max_depth=100, n_estimators=500, objective=binary:logitraw;, score=0.745 total time=   0.2s\n",
      "[CV 4/5; 13/108] START gamma=5, learning_rate=0.1, max_depth=100, n_estimators=500, objective=binary:logitraw\n",
      "[CV 4/5; 13/108] END gamma=5, learning_rate=0.1, max_depth=100, n_estimators=500, objective=binary:logitraw;, score=0.863 total time=   0.2s\n",
      "[CV 5/5; 13/108] START gamma=5, learning_rate=0.1, max_depth=100, n_estimators=500, objective=binary:logitraw\n",
      "[CV 5/5; 13/108] END gamma=5, learning_rate=0.1, max_depth=100, n_estimators=500, objective=binary:logitraw;, score=0.863 total time=   0.2s\n",
      "[CV 1/5; 14/108] START gamma=5, learning_rate=0.1, max_depth=100, n_estimators=500, objective=binary:logistic\n",
      "[CV 1/5; 14/108] END gamma=5, learning_rate=0.1, max_depth=100, n_estimators=500, objective=binary:logistic;, score=0.788 total time=   0.2s\n",
      "[CV 2/5; 14/108] START gamma=5, learning_rate=0.1, max_depth=100, n_estimators=500, objective=binary:logistic\n",
      "[CV 2/5; 14/108] END gamma=5, learning_rate=0.1, max_depth=100, n_estimators=500, objective=binary:logistic;, score=0.808 total time=   0.2s\n",
      "[CV 3/5; 14/108] START gamma=5, learning_rate=0.1, max_depth=100, n_estimators=500, objective=binary:logistic\n",
      "[CV 3/5; 14/108] END gamma=5, learning_rate=0.1, max_depth=100, n_estimators=500, objective=binary:logistic;, score=0.843 total time=   0.5s\n",
      "[CV 4/5; 14/108] START gamma=5, learning_rate=0.1, max_depth=100, n_estimators=500, objective=binary:logistic\n",
      "[CV 4/5; 14/108] END gamma=5, learning_rate=0.1, max_depth=100, n_estimators=500, objective=binary:logistic;, score=0.843 total time=   0.2s\n",
      "[CV 5/5; 14/108] START gamma=5, learning_rate=0.1, max_depth=100, n_estimators=500, objective=binary:logistic\n",
      "[CV 5/5; 14/108] END gamma=5, learning_rate=0.1, max_depth=100, n_estimators=500, objective=binary:logistic;, score=0.882 total time=   0.2s\n",
      "[CV 1/5; 15/108] START gamma=5, learning_rate=0.1, max_depth=100, n_estimators=1000, objective=binary:logitraw\n",
      "[CV 1/5; 15/108] END gamma=5, learning_rate=0.1, max_depth=100, n_estimators=1000, objective=binary:logitraw;, score=0.692 total time=   0.4s\n",
      "[CV 2/5; 15/108] START gamma=5, learning_rate=0.1, max_depth=100, n_estimators=1000, objective=binary:logitraw\n",
      "[CV 2/5; 15/108] END gamma=5, learning_rate=0.1, max_depth=100, n_estimators=1000, objective=binary:logitraw;, score=0.788 total time=   0.4s\n",
      "[CV 3/5; 15/108] START gamma=5, learning_rate=0.1, max_depth=100, n_estimators=1000, objective=binary:logitraw\n",
      "[CV 3/5; 15/108] END gamma=5, learning_rate=0.1, max_depth=100, n_estimators=1000, objective=binary:logitraw;, score=0.745 total time=   0.4s\n",
      "[CV 4/5; 15/108] START gamma=5, learning_rate=0.1, max_depth=100, n_estimators=1000, objective=binary:logitraw\n",
      "[CV 4/5; 15/108] END gamma=5, learning_rate=0.1, max_depth=100, n_estimators=1000, objective=binary:logitraw;, score=0.863 total time=   0.4s\n",
      "[CV 5/5; 15/108] START gamma=5, learning_rate=0.1, max_depth=100, n_estimators=1000, objective=binary:logitraw\n",
      "[CV 5/5; 15/108] END gamma=5, learning_rate=0.1, max_depth=100, n_estimators=1000, objective=binary:logitraw;, score=0.863 total time=   0.4s\n",
      "[CV 1/5; 16/108] START gamma=5, learning_rate=0.1, max_depth=100, n_estimators=1000, objective=binary:logistic\n",
      "[CV 1/5; 16/108] END gamma=5, learning_rate=0.1, max_depth=100, n_estimators=1000, objective=binary:logistic;, score=0.788 total time=   0.4s\n",
      "[CV 2/5; 16/108] START gamma=5, learning_rate=0.1, max_depth=100, n_estimators=1000, objective=binary:logistic\n",
      "[CV 2/5; 16/108] END gamma=5, learning_rate=0.1, max_depth=100, n_estimators=1000, objective=binary:logistic;, score=0.808 total time=   0.4s\n",
      "[CV 3/5; 16/108] START gamma=5, learning_rate=0.1, max_depth=100, n_estimators=1000, objective=binary:logistic\n",
      "[CV 3/5; 16/108] END gamma=5, learning_rate=0.1, max_depth=100, n_estimators=1000, objective=binary:logistic;, score=0.843 total time=   0.5s\n",
      "[CV 4/5; 16/108] START gamma=5, learning_rate=0.1, max_depth=100, n_estimators=1000, objective=binary:logistic\n",
      "[CV 4/5; 16/108] END gamma=5, learning_rate=0.1, max_depth=100, n_estimators=1000, objective=binary:logistic;, score=0.843 total time=   0.5s\n",
      "[CV 5/5; 16/108] START gamma=5, learning_rate=0.1, max_depth=100, n_estimators=1000, objective=binary:logistic\n",
      "[CV 5/5; 16/108] END gamma=5, learning_rate=0.1, max_depth=100, n_estimators=1000, objective=binary:logistic;, score=0.882 total time=   0.4s\n",
      "[CV 1/5; 17/108] START gamma=5, learning_rate=0.1, max_depth=100, n_estimators=2000, objective=binary:logitraw\n",
      "[CV 1/5; 17/108] END gamma=5, learning_rate=0.1, max_depth=100, n_estimators=2000, objective=binary:logitraw;, score=0.692 total time=   0.9s\n",
      "[CV 2/5; 17/108] START gamma=5, learning_rate=0.1, max_depth=100, n_estimators=2000, objective=binary:logitraw\n",
      "[CV 2/5; 17/108] END gamma=5, learning_rate=0.1, max_depth=100, n_estimators=2000, objective=binary:logitraw;, score=0.788 total time=   0.9s\n",
      "[CV 3/5; 17/108] START gamma=5, learning_rate=0.1, max_depth=100, n_estimators=2000, objective=binary:logitraw\n",
      "[CV 3/5; 17/108] END gamma=5, learning_rate=0.1, max_depth=100, n_estimators=2000, objective=binary:logitraw;, score=0.745 total time=   0.9s\n",
      "[CV 4/5; 17/108] START gamma=5, learning_rate=0.1, max_depth=100, n_estimators=2000, objective=binary:logitraw\n",
      "[CV 4/5; 17/108] END gamma=5, learning_rate=0.1, max_depth=100, n_estimators=2000, objective=binary:logitraw;, score=0.863 total time=   0.9s\n",
      "[CV 5/5; 17/108] START gamma=5, learning_rate=0.1, max_depth=100, n_estimators=2000, objective=binary:logitraw\n",
      "[CV 5/5; 17/108] END gamma=5, learning_rate=0.1, max_depth=100, n_estimators=2000, objective=binary:logitraw;, score=0.863 total time=   0.9s\n",
      "[CV 1/5; 18/108] START gamma=5, learning_rate=0.1, max_depth=100, n_estimators=2000, objective=binary:logistic\n",
      "[CV 1/5; 18/108] END gamma=5, learning_rate=0.1, max_depth=100, n_estimators=2000, objective=binary:logistic;, score=0.788 total time=   0.9s\n",
      "[CV 2/5; 18/108] START gamma=5, learning_rate=0.1, max_depth=100, n_estimators=2000, objective=binary:logistic\n",
      "[CV 2/5; 18/108] END gamma=5, learning_rate=0.1, max_depth=100, n_estimators=2000, objective=binary:logistic;, score=0.808 total time=   0.9s\n",
      "[CV 3/5; 18/108] START gamma=5, learning_rate=0.1, max_depth=100, n_estimators=2000, objective=binary:logistic\n",
      "[CV 3/5; 18/108] END gamma=5, learning_rate=0.1, max_depth=100, n_estimators=2000, objective=binary:logistic;, score=0.843 total time=   0.9s\n",
      "[CV 4/5; 18/108] START gamma=5, learning_rate=0.1, max_depth=100, n_estimators=2000, objective=binary:logistic\n",
      "[CV 4/5; 18/108] END gamma=5, learning_rate=0.1, max_depth=100, n_estimators=2000, objective=binary:logistic;, score=0.843 total time=   0.9s\n",
      "[CV 5/5; 18/108] START gamma=5, learning_rate=0.1, max_depth=100, n_estimators=2000, objective=binary:logistic\n",
      "[CV 5/5; 18/108] END gamma=5, learning_rate=0.1, max_depth=100, n_estimators=2000, objective=binary:logistic;, score=0.882 total time=   1.2s\n",
      "[CV 1/5; 19/108] START gamma=5, learning_rate=0.01, max_depth=10, n_estimators=500, objective=binary:logitraw\n",
      "[CV 1/5; 19/108] END gamma=5, learning_rate=0.01, max_depth=10, n_estimators=500, objective=binary:logitraw;, score=0.731 total time=   0.3s\n",
      "[CV 2/5; 19/108] START gamma=5, learning_rate=0.01, max_depth=10, n_estimators=500, objective=binary:logitraw\n",
      "[CV 2/5; 19/108] END gamma=5, learning_rate=0.01, max_depth=10, n_estimators=500, objective=binary:logitraw;, score=0.788 total time=   0.3s\n",
      "[CV 3/5; 19/108] START gamma=5, learning_rate=0.01, max_depth=10, n_estimators=500, objective=binary:logitraw\n",
      "[CV 3/5; 19/108] END gamma=5, learning_rate=0.01, max_depth=10, n_estimators=500, objective=binary:logitraw;, score=0.745 total time=   0.3s\n",
      "[CV 4/5; 19/108] START gamma=5, learning_rate=0.01, max_depth=10, n_estimators=500, objective=binary:logitraw\n",
      "[CV 4/5; 19/108] END gamma=5, learning_rate=0.01, max_depth=10, n_estimators=500, objective=binary:logitraw;, score=0.843 total time=   0.3s\n",
      "[CV 5/5; 19/108] START gamma=5, learning_rate=0.01, max_depth=10, n_estimators=500, objective=binary:logitraw\n",
      "[CV 5/5; 19/108] END gamma=5, learning_rate=0.01, max_depth=10, n_estimators=500, objective=binary:logitraw;, score=0.863 total time=   0.3s\n",
      "[CV 1/5; 20/108] START gamma=5, learning_rate=0.01, max_depth=10, n_estimators=500, objective=binary:logistic\n",
      "[CV 1/5; 20/108] END gamma=5, learning_rate=0.01, max_depth=10, n_estimators=500, objective=binary:logistic;, score=0.788 total time=   0.3s\n",
      "[CV 2/5; 20/108] START gamma=5, learning_rate=0.01, max_depth=10, n_estimators=500, objective=binary:logistic\n",
      "[CV 2/5; 20/108] END gamma=5, learning_rate=0.01, max_depth=10, n_estimators=500, objective=binary:logistic;, score=0.808 total time=   0.3s\n",
      "[CV 3/5; 20/108] START gamma=5, learning_rate=0.01, max_depth=10, n_estimators=500, objective=binary:logistic\n",
      "[CV 3/5; 20/108] END gamma=5, learning_rate=0.01, max_depth=10, n_estimators=500, objective=binary:logistic;, score=0.804 total time=   0.3s\n",
      "[CV 4/5; 20/108] START gamma=5, learning_rate=0.01, max_depth=10, n_estimators=500, objective=binary:logistic\n",
      "[CV 4/5; 20/108] END gamma=5, learning_rate=0.01, max_depth=10, n_estimators=500, objective=binary:logistic;, score=0.804 total time=   0.3s\n",
      "[CV 5/5; 20/108] START gamma=5, learning_rate=0.01, max_depth=10, n_estimators=500, objective=binary:logistic\n",
      "[CV 5/5; 20/108] END gamma=5, learning_rate=0.01, max_depth=10, n_estimators=500, objective=binary:logistic;, score=0.882 total time=   0.3s\n",
      "[CV 1/5; 21/108] START gamma=5, learning_rate=0.01, max_depth=10, n_estimators=1000, objective=binary:logitraw\n",
      "[CV 1/5; 21/108] END gamma=5, learning_rate=0.01, max_depth=10, n_estimators=1000, objective=binary:logitraw;, score=0.731 total time=   0.5s\n",
      "[CV 2/5; 21/108] START gamma=5, learning_rate=0.01, max_depth=10, n_estimators=1000, objective=binary:logitraw\n",
      "[CV 2/5; 21/108] END gamma=5, learning_rate=0.01, max_depth=10, n_estimators=1000, objective=binary:logitraw;, score=0.788 total time=   0.5s\n",
      "[CV 3/5; 21/108] START gamma=5, learning_rate=0.01, max_depth=10, n_estimators=1000, objective=binary:logitraw\n",
      "[CV 3/5; 21/108] END gamma=5, learning_rate=0.01, max_depth=10, n_estimators=1000, objective=binary:logitraw;, score=0.745 total time=   0.5s\n",
      "[CV 4/5; 21/108] START gamma=5, learning_rate=0.01, max_depth=10, n_estimators=1000, objective=binary:logitraw\n",
      "[CV 4/5; 21/108] END gamma=5, learning_rate=0.01, max_depth=10, n_estimators=1000, objective=binary:logitraw;, score=0.843 total time=   0.5s\n",
      "[CV 5/5; 21/108] START gamma=5, learning_rate=0.01, max_depth=10, n_estimators=1000, objective=binary:logitraw\n",
      "[CV 5/5; 21/108] END gamma=5, learning_rate=0.01, max_depth=10, n_estimators=1000, objective=binary:logitraw;, score=0.863 total time=   0.5s\n",
      "[CV 1/5; 22/108] START gamma=5, learning_rate=0.01, max_depth=10, n_estimators=1000, objective=binary:logistic\n",
      "[CV 1/5; 22/108] END gamma=5, learning_rate=0.01, max_depth=10, n_estimators=1000, objective=binary:logistic;, score=0.788 total time=   0.7s\n",
      "[CV 2/5; 22/108] START gamma=5, learning_rate=0.01, max_depth=10, n_estimators=1000, objective=binary:logistic\n",
      "[CV 2/5; 22/108] END gamma=5, learning_rate=0.01, max_depth=10, n_estimators=1000, objective=binary:logistic;, score=0.808 total time=   0.5s\n",
      "[CV 3/5; 22/108] START gamma=5, learning_rate=0.01, max_depth=10, n_estimators=1000, objective=binary:logistic\n",
      "[CV 3/5; 22/108] END gamma=5, learning_rate=0.01, max_depth=10, n_estimators=1000, objective=binary:logistic;, score=0.804 total time=   0.5s\n",
      "[CV 4/5; 22/108] START gamma=5, learning_rate=0.01, max_depth=10, n_estimators=1000, objective=binary:logistic\n",
      "[CV 4/5; 22/108] END gamma=5, learning_rate=0.01, max_depth=10, n_estimators=1000, objective=binary:logistic;, score=0.804 total time=   0.5s\n",
      "[CV 5/5; 22/108] START gamma=5, learning_rate=0.01, max_depth=10, n_estimators=1000, objective=binary:logistic\n",
      "[CV 5/5; 22/108] END gamma=5, learning_rate=0.01, max_depth=10, n_estimators=1000, objective=binary:logistic;, score=0.882 total time=   0.5s\n",
      "[CV 1/5; 23/108] START gamma=5, learning_rate=0.01, max_depth=10, n_estimators=2000, objective=binary:logitraw\n",
      "[CV 1/5; 23/108] END gamma=5, learning_rate=0.01, max_depth=10, n_estimators=2000, objective=binary:logitraw;, score=0.731 total time=   0.9s\n",
      "[CV 2/5; 23/108] START gamma=5, learning_rate=0.01, max_depth=10, n_estimators=2000, objective=binary:logitraw\n",
      "[CV 2/5; 23/108] END gamma=5, learning_rate=0.01, max_depth=10, n_estimators=2000, objective=binary:logitraw;, score=0.788 total time=   0.9s\n",
      "[CV 3/5; 23/108] START gamma=5, learning_rate=0.01, max_depth=10, n_estimators=2000, objective=binary:logitraw\n",
      "[CV 3/5; 23/108] END gamma=5, learning_rate=0.01, max_depth=10, n_estimators=2000, objective=binary:logitraw;, score=0.745 total time=   0.9s\n",
      "[CV 4/5; 23/108] START gamma=5, learning_rate=0.01, max_depth=10, n_estimators=2000, objective=binary:logitraw\n",
      "[CV 4/5; 23/108] END gamma=5, learning_rate=0.01, max_depth=10, n_estimators=2000, objective=binary:logitraw;, score=0.843 total time=   0.9s\n",
      "[CV 5/5; 23/108] START gamma=5, learning_rate=0.01, max_depth=10, n_estimators=2000, objective=binary:logitraw\n",
      "[CV 5/5; 23/108] END gamma=5, learning_rate=0.01, max_depth=10, n_estimators=2000, objective=binary:logitraw;, score=0.863 total time=   0.9s\n",
      "[CV 1/5; 24/108] START gamma=5, learning_rate=0.01, max_depth=10, n_estimators=2000, objective=binary:logistic\n",
      "[CV 1/5; 24/108] END gamma=5, learning_rate=0.01, max_depth=10, n_estimators=2000, objective=binary:logistic;, score=0.788 total time=   0.9s\n",
      "[CV 2/5; 24/108] START gamma=5, learning_rate=0.01, max_depth=10, n_estimators=2000, objective=binary:logistic\n",
      "[CV 2/5; 24/108] END gamma=5, learning_rate=0.01, max_depth=10, n_estimators=2000, objective=binary:logistic;, score=0.808 total time=   0.9s\n",
      "[CV 3/5; 24/108] START gamma=5, learning_rate=0.01, max_depth=10, n_estimators=2000, objective=binary:logistic\n",
      "[CV 3/5; 24/108] END gamma=5, learning_rate=0.01, max_depth=10, n_estimators=2000, objective=binary:logistic;, score=0.804 total time=   0.9s\n",
      "[CV 4/5; 24/108] START gamma=5, learning_rate=0.01, max_depth=10, n_estimators=2000, objective=binary:logistic\n",
      "[CV 4/5; 24/108] END gamma=5, learning_rate=0.01, max_depth=10, n_estimators=2000, objective=binary:logistic;, score=0.804 total time=   0.9s\n",
      "[CV 5/5; 24/108] START gamma=5, learning_rate=0.01, max_depth=10, n_estimators=2000, objective=binary:logistic\n",
      "[CV 5/5; 24/108] END gamma=5, learning_rate=0.01, max_depth=10, n_estimators=2000, objective=binary:logistic;, score=0.882 total time=   0.9s\n",
      "[CV 1/5; 25/108] START gamma=5, learning_rate=0.01, max_depth=50, n_estimators=500, objective=binary:logitraw\n",
      "[CV 1/5; 25/108] END gamma=5, learning_rate=0.01, max_depth=50, n_estimators=500, objective=binary:logitraw;, score=0.731 total time=   0.3s\n",
      "[CV 2/5; 25/108] START gamma=5, learning_rate=0.01, max_depth=50, n_estimators=500, objective=binary:logitraw\n",
      "[CV 2/5; 25/108] END gamma=5, learning_rate=0.01, max_depth=50, n_estimators=500, objective=binary:logitraw;, score=0.788 total time=   0.3s\n",
      "[CV 3/5; 25/108] START gamma=5, learning_rate=0.01, max_depth=50, n_estimators=500, objective=binary:logitraw\n",
      "[CV 3/5; 25/108] END gamma=5, learning_rate=0.01, max_depth=50, n_estimators=500, objective=binary:logitraw;, score=0.745 total time=   0.3s\n",
      "[CV 4/5; 25/108] START gamma=5, learning_rate=0.01, max_depth=50, n_estimators=500, objective=binary:logitraw\n",
      "[CV 4/5; 25/108] END gamma=5, learning_rate=0.01, max_depth=50, n_estimators=500, objective=binary:logitraw;, score=0.843 total time=   0.3s\n",
      "[CV 5/5; 25/108] START gamma=5, learning_rate=0.01, max_depth=50, n_estimators=500, objective=binary:logitraw\n",
      "[CV 5/5; 25/108] END gamma=5, learning_rate=0.01, max_depth=50, n_estimators=500, objective=binary:logitraw;, score=0.863 total time=   0.3s\n",
      "[CV 1/5; 26/108] START gamma=5, learning_rate=0.01, max_depth=50, n_estimators=500, objective=binary:logistic\n",
      "[CV 1/5; 26/108] END gamma=5, learning_rate=0.01, max_depth=50, n_estimators=500, objective=binary:logistic;, score=0.788 total time=   0.3s\n",
      "[CV 2/5; 26/108] START gamma=5, learning_rate=0.01, max_depth=50, n_estimators=500, objective=binary:logistic\n",
      "[CV 2/5; 26/108] END gamma=5, learning_rate=0.01, max_depth=50, n_estimators=500, objective=binary:logistic;, score=0.808 total time=   0.3s\n",
      "[CV 3/5; 26/108] START gamma=5, learning_rate=0.01, max_depth=50, n_estimators=500, objective=binary:logistic\n",
      "[CV 3/5; 26/108] END gamma=5, learning_rate=0.01, max_depth=50, n_estimators=500, objective=binary:logistic;, score=0.804 total time=   0.3s\n",
      "[CV 4/5; 26/108] START gamma=5, learning_rate=0.01, max_depth=50, n_estimators=500, objective=binary:logistic\n",
      "[CV 4/5; 26/108] END gamma=5, learning_rate=0.01, max_depth=50, n_estimators=500, objective=binary:logistic;, score=0.804 total time=   0.3s\n",
      "[CV 5/5; 26/108] START gamma=5, learning_rate=0.01, max_depth=50, n_estimators=500, objective=binary:logistic\n",
      "[CV 5/5; 26/108] END gamma=5, learning_rate=0.01, max_depth=50, n_estimators=500, objective=binary:logistic;, score=0.882 total time=   0.3s\n",
      "[CV 1/5; 27/108] START gamma=5, learning_rate=0.01, max_depth=50, n_estimators=1000, objective=binary:logitraw\n",
      "[CV 1/5; 27/108] END gamma=5, learning_rate=0.01, max_depth=50, n_estimators=1000, objective=binary:logitraw;, score=0.731 total time=   0.5s\n",
      "[CV 2/5; 27/108] START gamma=5, learning_rate=0.01, max_depth=50, n_estimators=1000, objective=binary:logitraw\n",
      "[CV 2/5; 27/108] END gamma=5, learning_rate=0.01, max_depth=50, n_estimators=1000, objective=binary:logitraw;, score=0.788 total time=   0.5s\n",
      "[CV 3/5; 27/108] START gamma=5, learning_rate=0.01, max_depth=50, n_estimators=1000, objective=binary:logitraw\n",
      "[CV 3/5; 27/108] END gamma=5, learning_rate=0.01, max_depth=50, n_estimators=1000, objective=binary:logitraw;, score=0.745 total time=   0.5s\n",
      "[CV 4/5; 27/108] START gamma=5, learning_rate=0.01, max_depth=50, n_estimators=1000, objective=binary:logitraw\n",
      "[CV 4/5; 27/108] END gamma=5, learning_rate=0.01, max_depth=50, n_estimators=1000, objective=binary:logitraw;, score=0.843 total time=   0.5s\n",
      "[CV 5/5; 27/108] START gamma=5, learning_rate=0.01, max_depth=50, n_estimators=1000, objective=binary:logitraw\n",
      "[CV 5/5; 27/108] END gamma=5, learning_rate=0.01, max_depth=50, n_estimators=1000, objective=binary:logitraw;, score=0.863 total time=   0.5s\n",
      "[CV 1/5; 28/108] START gamma=5, learning_rate=0.01, max_depth=50, n_estimators=1000, objective=binary:logistic\n",
      "[CV 1/5; 28/108] END gamma=5, learning_rate=0.01, max_depth=50, n_estimators=1000, objective=binary:logistic;, score=0.788 total time=   0.5s\n",
      "[CV 2/5; 28/108] START gamma=5, learning_rate=0.01, max_depth=50, n_estimators=1000, objective=binary:logistic\n",
      "[CV 2/5; 28/108] END gamma=5, learning_rate=0.01, max_depth=50, n_estimators=1000, objective=binary:logistic;, score=0.808 total time=   0.5s\n",
      "[CV 3/5; 28/108] START gamma=5, learning_rate=0.01, max_depth=50, n_estimators=1000, objective=binary:logistic\n",
      "[CV 3/5; 28/108] END gamma=5, learning_rate=0.01, max_depth=50, n_estimators=1000, objective=binary:logistic;, score=0.804 total time=   0.5s\n",
      "[CV 4/5; 28/108] START gamma=5, learning_rate=0.01, max_depth=50, n_estimators=1000, objective=binary:logistic\n",
      "[CV 4/5; 28/108] END gamma=5, learning_rate=0.01, max_depth=50, n_estimators=1000, objective=binary:logistic;, score=0.804 total time=   0.5s\n",
      "[CV 5/5; 28/108] START gamma=5, learning_rate=0.01, max_depth=50, n_estimators=1000, objective=binary:logistic\n",
      "[CV 5/5; 28/108] END gamma=5, learning_rate=0.01, max_depth=50, n_estimators=1000, objective=binary:logistic;, score=0.882 total time=   0.5s\n",
      "[CV 1/5; 29/108] START gamma=5, learning_rate=0.01, max_depth=50, n_estimators=2000, objective=binary:logitraw\n",
      "[CV 1/5; 29/108] END gamma=5, learning_rate=0.01, max_depth=50, n_estimators=2000, objective=binary:logitraw;, score=0.731 total time=   1.3s\n",
      "[CV 2/5; 29/108] START gamma=5, learning_rate=0.01, max_depth=50, n_estimators=2000, objective=binary:logitraw\n",
      "[CV 2/5; 29/108] END gamma=5, learning_rate=0.01, max_depth=50, n_estimators=2000, objective=binary:logitraw;, score=0.788 total time=   0.9s\n",
      "[CV 3/5; 29/108] START gamma=5, learning_rate=0.01, max_depth=50, n_estimators=2000, objective=binary:logitraw\n",
      "[CV 3/5; 29/108] END gamma=5, learning_rate=0.01, max_depth=50, n_estimators=2000, objective=binary:logitraw;, score=0.745 total time=   0.9s\n",
      "[CV 4/5; 29/108] START gamma=5, learning_rate=0.01, max_depth=50, n_estimators=2000, objective=binary:logitraw\n",
      "[CV 4/5; 29/108] END gamma=5, learning_rate=0.01, max_depth=50, n_estimators=2000, objective=binary:logitraw;, score=0.843 total time=   1.3s\n",
      "[CV 5/5; 29/108] START gamma=5, learning_rate=0.01, max_depth=50, n_estimators=2000, objective=binary:logitraw\n",
      "[CV 5/5; 29/108] END gamma=5, learning_rate=0.01, max_depth=50, n_estimators=2000, objective=binary:logitraw;, score=0.863 total time=   0.9s\n",
      "[CV 1/5; 30/108] START gamma=5, learning_rate=0.01, max_depth=50, n_estimators=2000, objective=binary:logistic\n",
      "[CV 1/5; 30/108] END gamma=5, learning_rate=0.01, max_depth=50, n_estimators=2000, objective=binary:logistic;, score=0.788 total time=   0.9s\n",
      "[CV 2/5; 30/108] START gamma=5, learning_rate=0.01, max_depth=50, n_estimators=2000, objective=binary:logistic\n",
      "[CV 2/5; 30/108] END gamma=5, learning_rate=0.01, max_depth=50, n_estimators=2000, objective=binary:logistic;, score=0.808 total time=   0.9s\n",
      "[CV 3/5; 30/108] START gamma=5, learning_rate=0.01, max_depth=50, n_estimators=2000, objective=binary:logistic\n",
      "[CV 3/5; 30/108] END gamma=5, learning_rate=0.01, max_depth=50, n_estimators=2000, objective=binary:logistic;, score=0.804 total time=   0.9s\n",
      "[CV 4/5; 30/108] START gamma=5, learning_rate=0.01, max_depth=50, n_estimators=2000, objective=binary:logistic\n",
      "[CV 4/5; 30/108] END gamma=5, learning_rate=0.01, max_depth=50, n_estimators=2000, objective=binary:logistic;, score=0.804 total time=   0.9s\n",
      "[CV 5/5; 30/108] START gamma=5, learning_rate=0.01, max_depth=50, n_estimators=2000, objective=binary:logistic\n",
      "[CV 5/5; 30/108] END gamma=5, learning_rate=0.01, max_depth=50, n_estimators=2000, objective=binary:logistic;, score=0.882 total time=   0.9s\n",
      "[CV 1/5; 31/108] START gamma=5, learning_rate=0.01, max_depth=100, n_estimators=500, objective=binary:logitraw\n",
      "[CV 1/5; 31/108] END gamma=5, learning_rate=0.01, max_depth=100, n_estimators=500, objective=binary:logitraw;, score=0.731 total time=   0.6s\n",
      "[CV 2/5; 31/108] START gamma=5, learning_rate=0.01, max_depth=100, n_estimators=500, objective=binary:logitraw\n",
      "[CV 2/5; 31/108] END gamma=5, learning_rate=0.01, max_depth=100, n_estimators=500, objective=binary:logitraw;, score=0.788 total time=   0.3s\n",
      "[CV 3/5; 31/108] START gamma=5, learning_rate=0.01, max_depth=100, n_estimators=500, objective=binary:logitraw\n",
      "[CV 3/5; 31/108] END gamma=5, learning_rate=0.01, max_depth=100, n_estimators=500, objective=binary:logitraw;, score=0.745 total time=   0.3s\n",
      "[CV 4/5; 31/108] START gamma=5, learning_rate=0.01, max_depth=100, n_estimators=500, objective=binary:logitraw\n",
      "[CV 4/5; 31/108] END gamma=5, learning_rate=0.01, max_depth=100, n_estimators=500, objective=binary:logitraw;, score=0.843 total time=   0.3s\n",
      "[CV 5/5; 31/108] START gamma=5, learning_rate=0.01, max_depth=100, n_estimators=500, objective=binary:logitraw\n",
      "[CV 5/5; 31/108] END gamma=5, learning_rate=0.01, max_depth=100, n_estimators=500, objective=binary:logitraw;, score=0.863 total time=   0.3s\n",
      "[CV 1/5; 32/108] START gamma=5, learning_rate=0.01, max_depth=100, n_estimators=500, objective=binary:logistic\n",
      "[CV 1/5; 32/108] END gamma=5, learning_rate=0.01, max_depth=100, n_estimators=500, objective=binary:logistic;, score=0.788 total time=   0.3s\n",
      "[CV 2/5; 32/108] START gamma=5, learning_rate=0.01, max_depth=100, n_estimators=500, objective=binary:logistic\n",
      "[CV 2/5; 32/108] END gamma=5, learning_rate=0.01, max_depth=100, n_estimators=500, objective=binary:logistic;, score=0.808 total time=   0.3s\n",
      "[CV 3/5; 32/108] START gamma=5, learning_rate=0.01, max_depth=100, n_estimators=500, objective=binary:logistic\n",
      "[CV 3/5; 32/108] END gamma=5, learning_rate=0.01, max_depth=100, n_estimators=500, objective=binary:logistic;, score=0.804 total time=   0.3s\n",
      "[CV 4/5; 32/108] START gamma=5, learning_rate=0.01, max_depth=100, n_estimators=500, objective=binary:logistic\n",
      "[CV 4/5; 32/108] END gamma=5, learning_rate=0.01, max_depth=100, n_estimators=500, objective=binary:logistic;, score=0.804 total time=   0.3s\n",
      "[CV 5/5; 32/108] START gamma=5, learning_rate=0.01, max_depth=100, n_estimators=500, objective=binary:logistic\n",
      "[CV 5/5; 32/108] END gamma=5, learning_rate=0.01, max_depth=100, n_estimators=500, objective=binary:logistic;, score=0.882 total time=   0.3s\n",
      "[CV 1/5; 33/108] START gamma=5, learning_rate=0.01, max_depth=100, n_estimators=1000, objective=binary:logitraw\n",
      "[CV 1/5; 33/108] END gamma=5, learning_rate=0.01, max_depth=100, n_estimators=1000, objective=binary:logitraw;, score=0.731 total time=   0.5s\n",
      "[CV 2/5; 33/108] START gamma=5, learning_rate=0.01, max_depth=100, n_estimators=1000, objective=binary:logitraw\n",
      "[CV 2/5; 33/108] END gamma=5, learning_rate=0.01, max_depth=100, n_estimators=1000, objective=binary:logitraw;, score=0.788 total time=   0.5s\n",
      "[CV 3/5; 33/108] START gamma=5, learning_rate=0.01, max_depth=100, n_estimators=1000, objective=binary:logitraw\n",
      "[CV 3/5; 33/108] END gamma=5, learning_rate=0.01, max_depth=100, n_estimators=1000, objective=binary:logitraw;, score=0.745 total time=   0.5s\n",
      "[CV 4/5; 33/108] START gamma=5, learning_rate=0.01, max_depth=100, n_estimators=1000, objective=binary:logitraw\n",
      "[CV 4/5; 33/108] END gamma=5, learning_rate=0.01, max_depth=100, n_estimators=1000, objective=binary:logitraw;, score=0.843 total time=   0.5s\n",
      "[CV 5/5; 33/108] START gamma=5, learning_rate=0.01, max_depth=100, n_estimators=1000, objective=binary:logitraw\n",
      "[CV 5/5; 33/108] END gamma=5, learning_rate=0.01, max_depth=100, n_estimators=1000, objective=binary:logitraw;, score=0.863 total time=   0.5s\n",
      "[CV 1/5; 34/108] START gamma=5, learning_rate=0.01, max_depth=100, n_estimators=1000, objective=binary:logistic\n",
      "[CV 1/5; 34/108] END gamma=5, learning_rate=0.01, max_depth=100, n_estimators=1000, objective=binary:logistic;, score=0.788 total time=   0.5s\n",
      "[CV 2/5; 34/108] START gamma=5, learning_rate=0.01, max_depth=100, n_estimators=1000, objective=binary:logistic\n",
      "[CV 2/5; 34/108] END gamma=5, learning_rate=0.01, max_depth=100, n_estimators=1000, objective=binary:logistic;, score=0.808 total time=   0.5s\n",
      "[CV 3/5; 34/108] START gamma=5, learning_rate=0.01, max_depth=100, n_estimators=1000, objective=binary:logistic\n",
      "[CV 3/5; 34/108] END gamma=5, learning_rate=0.01, max_depth=100, n_estimators=1000, objective=binary:logistic;, score=0.804 total time=   0.5s\n",
      "[CV 4/5; 34/108] START gamma=5, learning_rate=0.01, max_depth=100, n_estimators=1000, objective=binary:logistic\n",
      "[CV 4/5; 34/108] END gamma=5, learning_rate=0.01, max_depth=100, n_estimators=1000, objective=binary:logistic;, score=0.804 total time=   0.5s\n",
      "[CV 5/5; 34/108] START gamma=5, learning_rate=0.01, max_depth=100, n_estimators=1000, objective=binary:logistic\n",
      "[CV 5/5; 34/108] END gamma=5, learning_rate=0.01, max_depth=100, n_estimators=1000, objective=binary:logistic;, score=0.882 total time=   0.5s\n",
      "[CV 1/5; 35/108] START gamma=5, learning_rate=0.01, max_depth=100, n_estimators=2000, objective=binary:logitraw\n",
      "[CV 1/5; 35/108] END gamma=5, learning_rate=0.01, max_depth=100, n_estimators=2000, objective=binary:logitraw;, score=0.731 total time=   0.9s\n",
      "[CV 2/5; 35/108] START gamma=5, learning_rate=0.01, max_depth=100, n_estimators=2000, objective=binary:logitraw\n",
      "[CV 2/5; 35/108] END gamma=5, learning_rate=0.01, max_depth=100, n_estimators=2000, objective=binary:logitraw;, score=0.788 total time=   1.2s\n",
      "[CV 3/5; 35/108] START gamma=5, learning_rate=0.01, max_depth=100, n_estimators=2000, objective=binary:logitraw\n",
      "[CV 3/5; 35/108] END gamma=5, learning_rate=0.01, max_depth=100, n_estimators=2000, objective=binary:logitraw;, score=0.745 total time=   0.9s\n",
      "[CV 4/5; 35/108] START gamma=5, learning_rate=0.01, max_depth=100, n_estimators=2000, objective=binary:logitraw\n",
      "[CV 4/5; 35/108] END gamma=5, learning_rate=0.01, max_depth=100, n_estimators=2000, objective=binary:logitraw;, score=0.843 total time=   0.9s\n",
      "[CV 5/5; 35/108] START gamma=5, learning_rate=0.01, max_depth=100, n_estimators=2000, objective=binary:logitraw\n",
      "[CV 5/5; 35/108] END gamma=5, learning_rate=0.01, max_depth=100, n_estimators=2000, objective=binary:logitraw;, score=0.863 total time=   0.9s\n",
      "[CV 1/5; 36/108] START gamma=5, learning_rate=0.01, max_depth=100, n_estimators=2000, objective=binary:logistic\n",
      "[CV 1/5; 36/108] END gamma=5, learning_rate=0.01, max_depth=100, n_estimators=2000, objective=binary:logistic;, score=0.788 total time=   0.9s\n",
      "[CV 2/5; 36/108] START gamma=5, learning_rate=0.01, max_depth=100, n_estimators=2000, objective=binary:logistic\n",
      "[CV 2/5; 36/108] END gamma=5, learning_rate=0.01, max_depth=100, n_estimators=2000, objective=binary:logistic;, score=0.808 total time=   0.9s\n",
      "[CV 3/5; 36/108] START gamma=5, learning_rate=0.01, max_depth=100, n_estimators=2000, objective=binary:logistic\n",
      "[CV 3/5; 36/108] END gamma=5, learning_rate=0.01, max_depth=100, n_estimators=2000, objective=binary:logistic;, score=0.804 total time=   0.9s\n",
      "[CV 4/5; 36/108] START gamma=5, learning_rate=0.01, max_depth=100, n_estimators=2000, objective=binary:logistic\n",
      "[CV 4/5; 36/108] END gamma=5, learning_rate=0.01, max_depth=100, n_estimators=2000, objective=binary:logistic;, score=0.804 total time=   0.9s\n",
      "[CV 5/5; 36/108] START gamma=5, learning_rate=0.01, max_depth=100, n_estimators=2000, objective=binary:logistic\n",
      "[CV 5/5; 36/108] END gamma=5, learning_rate=0.01, max_depth=100, n_estimators=2000, objective=binary:logistic;, score=0.882 total time=   0.9s\n",
      "[CV 1/5; 37/108] START gamma=10, learning_rate=0.1, max_depth=10, n_estimators=500, objective=binary:logitraw\n",
      "[CV 1/5; 37/108] END gamma=10, learning_rate=0.1, max_depth=10, n_estimators=500, objective=binary:logitraw;, score=0.692 total time=   0.2s\n",
      "[CV 2/5; 37/108] START gamma=10, learning_rate=0.1, max_depth=10, n_estimators=500, objective=binary:logitraw\n",
      "[CV 2/5; 37/108] END gamma=10, learning_rate=0.1, max_depth=10, n_estimators=500, objective=binary:logitraw;, score=0.769 total time=   0.2s\n",
      "[CV 3/5; 37/108] START gamma=10, learning_rate=0.1, max_depth=10, n_estimators=500, objective=binary:logitraw\n",
      "[CV 3/5; 37/108] END gamma=10, learning_rate=0.1, max_depth=10, n_estimators=500, objective=binary:logitraw;, score=0.725 total time=   0.2s\n",
      "[CV 4/5; 37/108] START gamma=10, learning_rate=0.1, max_depth=10, n_estimators=500, objective=binary:logitraw\n",
      "[CV 4/5; 37/108] END gamma=10, learning_rate=0.1, max_depth=10, n_estimators=500, objective=binary:logitraw;, score=0.824 total time=   0.2s\n",
      "[CV 5/5; 37/108] START gamma=10, learning_rate=0.1, max_depth=10, n_estimators=500, objective=binary:logitraw\n",
      "[CV 5/5; 37/108] END gamma=10, learning_rate=0.1, max_depth=10, n_estimators=500, objective=binary:logitraw;, score=0.804 total time=   0.2s\n",
      "[CV 1/5; 38/108] START gamma=10, learning_rate=0.1, max_depth=10, n_estimators=500, objective=binary:logistic\n",
      "[CV 1/5; 38/108] END gamma=10, learning_rate=0.1, max_depth=10, n_estimators=500, objective=binary:logistic;, score=0.769 total time=   0.2s\n",
      "[CV 2/5; 38/108] START gamma=10, learning_rate=0.1, max_depth=10, n_estimators=500, objective=binary:logistic\n",
      "[CV 2/5; 38/108] END gamma=10, learning_rate=0.1, max_depth=10, n_estimators=500, objective=binary:logistic;, score=0.788 total time=   0.2s\n",
      "[CV 3/5; 38/108] START gamma=10, learning_rate=0.1, max_depth=10, n_estimators=500, objective=binary:logistic\n",
      "[CV 3/5; 38/108] END gamma=10, learning_rate=0.1, max_depth=10, n_estimators=500, objective=binary:logistic;, score=0.784 total time=   0.2s\n",
      "[CV 4/5; 38/108] START gamma=10, learning_rate=0.1, max_depth=10, n_estimators=500, objective=binary:logistic\n",
      "[CV 4/5; 38/108] END gamma=10, learning_rate=0.1, max_depth=10, n_estimators=500, objective=binary:logistic;, score=0.902 total time=   0.6s\n",
      "[CV 5/5; 38/108] START gamma=10, learning_rate=0.1, max_depth=10, n_estimators=500, objective=binary:logistic\n",
      "[CV 5/5; 38/108] END gamma=10, learning_rate=0.1, max_depth=10, n_estimators=500, objective=binary:logistic;, score=0.882 total time=   0.2s\n",
      "[CV 1/5; 39/108] START gamma=10, learning_rate=0.1, max_depth=10, n_estimators=1000, objective=binary:logitraw\n",
      "[CV 1/5; 39/108] END gamma=10, learning_rate=0.1, max_depth=10, n_estimators=1000, objective=binary:logitraw;, score=0.692 total time=   0.4s\n",
      "[CV 2/5; 39/108] START gamma=10, learning_rate=0.1, max_depth=10, n_estimators=1000, objective=binary:logitraw\n",
      "[CV 2/5; 39/108] END gamma=10, learning_rate=0.1, max_depth=10, n_estimators=1000, objective=binary:logitraw;, score=0.769 total time=   0.4s\n",
      "[CV 3/5; 39/108] START gamma=10, learning_rate=0.1, max_depth=10, n_estimators=1000, objective=binary:logitraw\n",
      "[CV 3/5; 39/108] END gamma=10, learning_rate=0.1, max_depth=10, n_estimators=1000, objective=binary:logitraw;, score=0.725 total time=   0.4s\n",
      "[CV 4/5; 39/108] START gamma=10, learning_rate=0.1, max_depth=10, n_estimators=1000, objective=binary:logitraw\n",
      "[CV 4/5; 39/108] END gamma=10, learning_rate=0.1, max_depth=10, n_estimators=1000, objective=binary:logitraw;, score=0.824 total time=   0.4s\n",
      "[CV 5/5; 39/108] START gamma=10, learning_rate=0.1, max_depth=10, n_estimators=1000, objective=binary:logitraw\n",
      "[CV 5/5; 39/108] END gamma=10, learning_rate=0.1, max_depth=10, n_estimators=1000, objective=binary:logitraw;, score=0.804 total time=   0.4s\n",
      "[CV 1/5; 40/108] START gamma=10, learning_rate=0.1, max_depth=10, n_estimators=1000, objective=binary:logistic\n",
      "[CV 1/5; 40/108] END gamma=10, learning_rate=0.1, max_depth=10, n_estimators=1000, objective=binary:logistic;, score=0.769 total time=   0.4s\n",
      "[CV 2/5; 40/108] START gamma=10, learning_rate=0.1, max_depth=10, n_estimators=1000, objective=binary:logistic\n",
      "[CV 2/5; 40/108] END gamma=10, learning_rate=0.1, max_depth=10, n_estimators=1000, objective=binary:logistic;, score=0.788 total time=   0.4s\n",
      "[CV 3/5; 40/108] START gamma=10, learning_rate=0.1, max_depth=10, n_estimators=1000, objective=binary:logistic\n",
      "[CV 3/5; 40/108] END gamma=10, learning_rate=0.1, max_depth=10, n_estimators=1000, objective=binary:logistic;, score=0.784 total time=   0.7s\n",
      "[CV 4/5; 40/108] START gamma=10, learning_rate=0.1, max_depth=10, n_estimators=1000, objective=binary:logistic\n",
      "[CV 4/5; 40/108] END gamma=10, learning_rate=0.1, max_depth=10, n_estimators=1000, objective=binary:logistic;, score=0.902 total time=   0.4s\n",
      "[CV 5/5; 40/108] START gamma=10, learning_rate=0.1, max_depth=10, n_estimators=1000, objective=binary:logistic\n",
      "[CV 5/5; 40/108] END gamma=10, learning_rate=0.1, max_depth=10, n_estimators=1000, objective=binary:logistic;, score=0.882 total time=   0.5s\n",
      "[CV 1/5; 41/108] START gamma=10, learning_rate=0.1, max_depth=10, n_estimators=2000, objective=binary:logitraw\n",
      "[CV 1/5; 41/108] END gamma=10, learning_rate=0.1, max_depth=10, n_estimators=2000, objective=binary:logitraw;, score=0.692 total time=   0.9s\n",
      "[CV 2/5; 41/108] START gamma=10, learning_rate=0.1, max_depth=10, n_estimators=2000, objective=binary:logitraw\n",
      "[CV 2/5; 41/108] END gamma=10, learning_rate=0.1, max_depth=10, n_estimators=2000, objective=binary:logitraw;, score=0.769 total time=   0.9s\n",
      "[CV 3/5; 41/108] START gamma=10, learning_rate=0.1, max_depth=10, n_estimators=2000, objective=binary:logitraw\n",
      "[CV 3/5; 41/108] END gamma=10, learning_rate=0.1, max_depth=10, n_estimators=2000, objective=binary:logitraw;, score=0.725 total time=   0.9s\n",
      "[CV 4/5; 41/108] START gamma=10, learning_rate=0.1, max_depth=10, n_estimators=2000, objective=binary:logitraw\n",
      "[CV 4/5; 41/108] END gamma=10, learning_rate=0.1, max_depth=10, n_estimators=2000, objective=binary:logitraw;, score=0.824 total time=   0.9s\n",
      "[CV 5/5; 41/108] START gamma=10, learning_rate=0.1, max_depth=10, n_estimators=2000, objective=binary:logitraw\n",
      "[CV 5/5; 41/108] END gamma=10, learning_rate=0.1, max_depth=10, n_estimators=2000, objective=binary:logitraw;, score=0.804 total time=   0.9s\n",
      "[CV 1/5; 42/108] START gamma=10, learning_rate=0.1, max_depth=10, n_estimators=2000, objective=binary:logistic\n",
      "[CV 1/5; 42/108] END gamma=10, learning_rate=0.1, max_depth=10, n_estimators=2000, objective=binary:logistic;, score=0.769 total time=   1.0s\n",
      "[CV 2/5; 42/108] START gamma=10, learning_rate=0.1, max_depth=10, n_estimators=2000, objective=binary:logistic\n",
      "[CV 2/5; 42/108] END gamma=10, learning_rate=0.1, max_depth=10, n_estimators=2000, objective=binary:logistic;, score=0.788 total time=   0.9s\n",
      "[CV 3/5; 42/108] START gamma=10, learning_rate=0.1, max_depth=10, n_estimators=2000, objective=binary:logistic\n",
      "[CV 3/5; 42/108] END gamma=10, learning_rate=0.1, max_depth=10, n_estimators=2000, objective=binary:logistic;, score=0.784 total time=   0.9s\n",
      "[CV 4/5; 42/108] START gamma=10, learning_rate=0.1, max_depth=10, n_estimators=2000, objective=binary:logistic\n",
      "[CV 4/5; 42/108] END gamma=10, learning_rate=0.1, max_depth=10, n_estimators=2000, objective=binary:logistic;, score=0.902 total time=   0.9s\n",
      "[CV 5/5; 42/108] START gamma=10, learning_rate=0.1, max_depth=10, n_estimators=2000, objective=binary:logistic\n",
      "[CV 5/5; 42/108] END gamma=10, learning_rate=0.1, max_depth=10, n_estimators=2000, objective=binary:logistic;, score=0.882 total time=   0.9s\n",
      "[CV 1/5; 43/108] START gamma=10, learning_rate=0.1, max_depth=50, n_estimators=500, objective=binary:logitraw\n",
      "[CV 1/5; 43/108] END gamma=10, learning_rate=0.1, max_depth=50, n_estimators=500, objective=binary:logitraw;, score=0.692 total time=   0.2s\n",
      "[CV 2/5; 43/108] START gamma=10, learning_rate=0.1, max_depth=50, n_estimators=500, objective=binary:logitraw\n",
      "[CV 2/5; 43/108] END gamma=10, learning_rate=0.1, max_depth=50, n_estimators=500, objective=binary:logitraw;, score=0.769 total time=   0.2s\n",
      "[CV 3/5; 43/108] START gamma=10, learning_rate=0.1, max_depth=50, n_estimators=500, objective=binary:logitraw\n",
      "[CV 3/5; 43/108] END gamma=10, learning_rate=0.1, max_depth=50, n_estimators=500, objective=binary:logitraw;, score=0.725 total time=   0.2s\n",
      "[CV 4/5; 43/108] START gamma=10, learning_rate=0.1, max_depth=50, n_estimators=500, objective=binary:logitraw\n",
      "[CV 4/5; 43/108] END gamma=10, learning_rate=0.1, max_depth=50, n_estimators=500, objective=binary:logitraw;, score=0.824 total time=   0.2s\n",
      "[CV 5/5; 43/108] START gamma=10, learning_rate=0.1, max_depth=50, n_estimators=500, objective=binary:logitraw\n",
      "[CV 5/5; 43/108] END gamma=10, learning_rate=0.1, max_depth=50, n_estimators=500, objective=binary:logitraw;, score=0.804 total time=   0.2s\n",
      "[CV 1/5; 44/108] START gamma=10, learning_rate=0.1, max_depth=50, n_estimators=500, objective=binary:logistic\n",
      "[CV 1/5; 44/108] END gamma=10, learning_rate=0.1, max_depth=50, n_estimators=500, objective=binary:logistic;, score=0.769 total time=   0.2s\n",
      "[CV 2/5; 44/108] START gamma=10, learning_rate=0.1, max_depth=50, n_estimators=500, objective=binary:logistic\n",
      "[CV 2/5; 44/108] END gamma=10, learning_rate=0.1, max_depth=50, n_estimators=500, objective=binary:logistic;, score=0.788 total time=   0.2s\n",
      "[CV 3/5; 44/108] START gamma=10, learning_rate=0.1, max_depth=50, n_estimators=500, objective=binary:logistic\n",
      "[CV 3/5; 44/108] END gamma=10, learning_rate=0.1, max_depth=50, n_estimators=500, objective=binary:logistic;, score=0.784 total time=   0.2s\n",
      "[CV 4/5; 44/108] START gamma=10, learning_rate=0.1, max_depth=50, n_estimators=500, objective=binary:logistic\n",
      "[CV 4/5; 44/108] END gamma=10, learning_rate=0.1, max_depth=50, n_estimators=500, objective=binary:logistic;, score=0.902 total time=   0.2s\n",
      "[CV 5/5; 44/108] START gamma=10, learning_rate=0.1, max_depth=50, n_estimators=500, objective=binary:logistic\n",
      "[CV 5/5; 44/108] END gamma=10, learning_rate=0.1, max_depth=50, n_estimators=500, objective=binary:logistic;, score=0.882 total time=   0.2s\n",
      "[CV 1/5; 45/108] START gamma=10, learning_rate=0.1, max_depth=50, n_estimators=1000, objective=binary:logitraw\n",
      "[CV 1/5; 45/108] END gamma=10, learning_rate=0.1, max_depth=50, n_estimators=1000, objective=binary:logitraw;, score=0.692 total time=   0.4s\n",
      "[CV 2/5; 45/108] START gamma=10, learning_rate=0.1, max_depth=50, n_estimators=1000, objective=binary:logitraw\n",
      "[CV 2/5; 45/108] END gamma=10, learning_rate=0.1, max_depth=50, n_estimators=1000, objective=binary:logitraw;, score=0.769 total time=   0.4s\n",
      "[CV 3/5; 45/108] START gamma=10, learning_rate=0.1, max_depth=50, n_estimators=1000, objective=binary:logitraw\n",
      "[CV 3/5; 45/108] END gamma=10, learning_rate=0.1, max_depth=50, n_estimators=1000, objective=binary:logitraw;, score=0.725 total time=   0.4s\n",
      "[CV 4/5; 45/108] START gamma=10, learning_rate=0.1, max_depth=50, n_estimators=1000, objective=binary:logitraw\n",
      "[CV 4/5; 45/108] END gamma=10, learning_rate=0.1, max_depth=50, n_estimators=1000, objective=binary:logitraw;, score=0.824 total time=   0.4s\n",
      "[CV 5/5; 45/108] START gamma=10, learning_rate=0.1, max_depth=50, n_estimators=1000, objective=binary:logitraw\n",
      "[CV 5/5; 45/108] END gamma=10, learning_rate=0.1, max_depth=50, n_estimators=1000, objective=binary:logitraw;, score=0.804 total time=   0.4s\n",
      "[CV 1/5; 46/108] START gamma=10, learning_rate=0.1, max_depth=50, n_estimators=1000, objective=binary:logistic\n",
      "[CV 1/5; 46/108] END gamma=10, learning_rate=0.1, max_depth=50, n_estimators=1000, objective=binary:logistic;, score=0.769 total time=   0.4s\n",
      "[CV 2/5; 46/108] START gamma=10, learning_rate=0.1, max_depth=50, n_estimators=1000, objective=binary:logistic\n",
      "[CV 2/5; 46/108] END gamma=10, learning_rate=0.1, max_depth=50, n_estimators=1000, objective=binary:logistic;, score=0.788 total time=   0.4s\n",
      "[CV 3/5; 46/108] START gamma=10, learning_rate=0.1, max_depth=50, n_estimators=1000, objective=binary:logistic\n",
      "[CV 3/5; 46/108] END gamma=10, learning_rate=0.1, max_depth=50, n_estimators=1000, objective=binary:logistic;, score=0.784 total time=   0.4s\n",
      "[CV 4/5; 46/108] START gamma=10, learning_rate=0.1, max_depth=50, n_estimators=1000, objective=binary:logistic\n",
      "[CV 4/5; 46/108] END gamma=10, learning_rate=0.1, max_depth=50, n_estimators=1000, objective=binary:logistic;, score=0.902 total time=   0.6s\n",
      "[CV 5/5; 46/108] START gamma=10, learning_rate=0.1, max_depth=50, n_estimators=1000, objective=binary:logistic\n",
      "[CV 5/5; 46/108] END gamma=10, learning_rate=0.1, max_depth=50, n_estimators=1000, objective=binary:logistic;, score=0.882 total time=   0.4s\n",
      "[CV 1/5; 47/108] START gamma=10, learning_rate=0.1, max_depth=50, n_estimators=2000, objective=binary:logitraw\n",
      "[CV 1/5; 47/108] END gamma=10, learning_rate=0.1, max_depth=50, n_estimators=2000, objective=binary:logitraw;, score=0.692 total time=   0.8s\n",
      "[CV 2/5; 47/108] START gamma=10, learning_rate=0.1, max_depth=50, n_estimators=2000, objective=binary:logitraw\n",
      "[CV 2/5; 47/108] END gamma=10, learning_rate=0.1, max_depth=50, n_estimators=2000, objective=binary:logitraw;, score=0.769 total time=   0.8s\n",
      "[CV 3/5; 47/108] START gamma=10, learning_rate=0.1, max_depth=50, n_estimators=2000, objective=binary:logitraw\n",
      "[CV 3/5; 47/108] END gamma=10, learning_rate=0.1, max_depth=50, n_estimators=2000, objective=binary:logitraw;, score=0.725 total time=   0.9s\n",
      "[CV 4/5; 47/108] START gamma=10, learning_rate=0.1, max_depth=50, n_estimators=2000, objective=binary:logitraw\n",
      "[CV 4/5; 47/108] END gamma=10, learning_rate=0.1, max_depth=50, n_estimators=2000, objective=binary:logitraw;, score=0.824 total time=   0.9s\n",
      "[CV 5/5; 47/108] START gamma=10, learning_rate=0.1, max_depth=50, n_estimators=2000, objective=binary:logitraw\n",
      "[CV 5/5; 47/108] END gamma=10, learning_rate=0.1, max_depth=50, n_estimators=2000, objective=binary:logitraw;, score=0.804 total time=   0.9s\n",
      "[CV 1/5; 48/108] START gamma=10, learning_rate=0.1, max_depth=50, n_estimators=2000, objective=binary:logistic\n",
      "[CV 1/5; 48/108] END gamma=10, learning_rate=0.1, max_depth=50, n_estimators=2000, objective=binary:logistic;, score=0.769 total time=   0.9s\n",
      "[CV 2/5; 48/108] START gamma=10, learning_rate=0.1, max_depth=50, n_estimators=2000, objective=binary:logistic\n",
      "[CV 2/5; 48/108] END gamma=10, learning_rate=0.1, max_depth=50, n_estimators=2000, objective=binary:logistic;, score=0.788 total time=   0.9s\n",
      "[CV 3/5; 48/108] START gamma=10, learning_rate=0.1, max_depth=50, n_estimators=2000, objective=binary:logistic\n",
      "[CV 3/5; 48/108] END gamma=10, learning_rate=0.1, max_depth=50, n_estimators=2000, objective=binary:logistic;, score=0.784 total time=   0.9s\n",
      "[CV 4/5; 48/108] START gamma=10, learning_rate=0.1, max_depth=50, n_estimators=2000, objective=binary:logistic\n",
      "[CV 4/5; 48/108] END gamma=10, learning_rate=0.1, max_depth=50, n_estimators=2000, objective=binary:logistic;, score=0.902 total time=   0.9s\n",
      "[CV 5/5; 48/108] START gamma=10, learning_rate=0.1, max_depth=50, n_estimators=2000, objective=binary:logistic\n",
      "[CV 5/5; 48/108] END gamma=10, learning_rate=0.1, max_depth=50, n_estimators=2000, objective=binary:logistic;, score=0.882 total time=   0.9s\n",
      "[CV 1/5; 49/108] START gamma=10, learning_rate=0.1, max_depth=100, n_estimators=500, objective=binary:logitraw\n",
      "[CV 1/5; 49/108] END gamma=10, learning_rate=0.1, max_depth=100, n_estimators=500, objective=binary:logitraw;, score=0.692 total time=   0.2s\n",
      "[CV 2/5; 49/108] START gamma=10, learning_rate=0.1, max_depth=100, n_estimators=500, objective=binary:logitraw\n",
      "[CV 2/5; 49/108] END gamma=10, learning_rate=0.1, max_depth=100, n_estimators=500, objective=binary:logitraw;, score=0.769 total time=   0.6s\n",
      "[CV 3/5; 49/108] START gamma=10, learning_rate=0.1, max_depth=100, n_estimators=500, objective=binary:logitraw\n",
      "[CV 3/5; 49/108] END gamma=10, learning_rate=0.1, max_depth=100, n_estimators=500, objective=binary:logitraw;, score=0.725 total time=   0.2s\n",
      "[CV 4/5; 49/108] START gamma=10, learning_rate=0.1, max_depth=100, n_estimators=500, objective=binary:logitraw\n",
      "[CV 4/5; 49/108] END gamma=10, learning_rate=0.1, max_depth=100, n_estimators=500, objective=binary:logitraw;, score=0.824 total time=   0.2s\n",
      "[CV 5/5; 49/108] START gamma=10, learning_rate=0.1, max_depth=100, n_estimators=500, objective=binary:logitraw\n",
      "[CV 5/5; 49/108] END gamma=10, learning_rate=0.1, max_depth=100, n_estimators=500, objective=binary:logitraw;, score=0.804 total time=   0.2s\n",
      "[CV 1/5; 50/108] START gamma=10, learning_rate=0.1, max_depth=100, n_estimators=500, objective=binary:logistic\n",
      "[CV 1/5; 50/108] END gamma=10, learning_rate=0.1, max_depth=100, n_estimators=500, objective=binary:logistic;, score=0.769 total time=   0.2s\n",
      "[CV 2/5; 50/108] START gamma=10, learning_rate=0.1, max_depth=100, n_estimators=500, objective=binary:logistic\n",
      "[CV 2/5; 50/108] END gamma=10, learning_rate=0.1, max_depth=100, n_estimators=500, objective=binary:logistic;, score=0.788 total time=   0.2s\n",
      "[CV 3/5; 50/108] START gamma=10, learning_rate=0.1, max_depth=100, n_estimators=500, objective=binary:logistic\n",
      "[CV 3/5; 50/108] END gamma=10, learning_rate=0.1, max_depth=100, n_estimators=500, objective=binary:logistic;, score=0.784 total time=   0.2s\n",
      "[CV 4/5; 50/108] START gamma=10, learning_rate=0.1, max_depth=100, n_estimators=500, objective=binary:logistic\n",
      "[CV 4/5; 50/108] END gamma=10, learning_rate=0.1, max_depth=100, n_estimators=500, objective=binary:logistic;, score=0.902 total time=   0.2s\n",
      "[CV 5/5; 50/108] START gamma=10, learning_rate=0.1, max_depth=100, n_estimators=500, objective=binary:logistic\n",
      "[CV 5/5; 50/108] END gamma=10, learning_rate=0.1, max_depth=100, n_estimators=500, objective=binary:logistic;, score=0.882 total time=   0.2s\n",
      "[CV 1/5; 51/108] START gamma=10, learning_rate=0.1, max_depth=100, n_estimators=1000, objective=binary:logitraw\n",
      "[CV 1/5; 51/108] END gamma=10, learning_rate=0.1, max_depth=100, n_estimators=1000, objective=binary:logitraw;, score=0.692 total time=   0.4s\n",
      "[CV 2/5; 51/108] START gamma=10, learning_rate=0.1, max_depth=100, n_estimators=1000, objective=binary:logitraw\n",
      "[CV 2/5; 51/108] END gamma=10, learning_rate=0.1, max_depth=100, n_estimators=1000, objective=binary:logitraw;, score=0.769 total time=   0.4s\n",
      "[CV 3/5; 51/108] START gamma=10, learning_rate=0.1, max_depth=100, n_estimators=1000, objective=binary:logitraw\n",
      "[CV 3/5; 51/108] END gamma=10, learning_rate=0.1, max_depth=100, n_estimators=1000, objective=binary:logitraw;, score=0.725 total time=   0.4s\n",
      "[CV 4/5; 51/108] START gamma=10, learning_rate=0.1, max_depth=100, n_estimators=1000, objective=binary:logitraw\n",
      "[CV 4/5; 51/108] END gamma=10, learning_rate=0.1, max_depth=100, n_estimators=1000, objective=binary:logitraw;, score=0.824 total time=   0.8s\n",
      "[CV 5/5; 51/108] START gamma=10, learning_rate=0.1, max_depth=100, n_estimators=1000, objective=binary:logitraw\n",
      "[CV 5/5; 51/108] END gamma=10, learning_rate=0.1, max_depth=100, n_estimators=1000, objective=binary:logitraw;, score=0.804 total time=   0.4s\n",
      "[CV 1/5; 52/108] START gamma=10, learning_rate=0.1, max_depth=100, n_estimators=1000, objective=binary:logistic\n",
      "[CV 1/5; 52/108] END gamma=10, learning_rate=0.1, max_depth=100, n_estimators=1000, objective=binary:logistic;, score=0.769 total time=   0.4s\n",
      "[CV 2/5; 52/108] START gamma=10, learning_rate=0.1, max_depth=100, n_estimators=1000, objective=binary:logistic\n",
      "[CV 2/5; 52/108] END gamma=10, learning_rate=0.1, max_depth=100, n_estimators=1000, objective=binary:logistic;, score=0.788 total time=   0.4s\n",
      "[CV 3/5; 52/108] START gamma=10, learning_rate=0.1, max_depth=100, n_estimators=1000, objective=binary:logistic\n",
      "[CV 3/5; 52/108] END gamma=10, learning_rate=0.1, max_depth=100, n_estimators=1000, objective=binary:logistic;, score=0.784 total time=   0.4s\n",
      "[CV 4/5; 52/108] START gamma=10, learning_rate=0.1, max_depth=100, n_estimators=1000, objective=binary:logistic\n",
      "[CV 4/5; 52/108] END gamma=10, learning_rate=0.1, max_depth=100, n_estimators=1000, objective=binary:logistic;, score=0.902 total time=   0.4s\n",
      "[CV 5/5; 52/108] START gamma=10, learning_rate=0.1, max_depth=100, n_estimators=1000, objective=binary:logistic\n",
      "[CV 5/5; 52/108] END gamma=10, learning_rate=0.1, max_depth=100, n_estimators=1000, objective=binary:logistic;, score=0.882 total time=   0.4s\n",
      "[CV 1/5; 53/108] START gamma=10, learning_rate=0.1, max_depth=100, n_estimators=2000, objective=binary:logitraw\n",
      "[CV 1/5; 53/108] END gamma=10, learning_rate=0.1, max_depth=100, n_estimators=2000, objective=binary:logitraw;, score=0.692 total time=   0.9s\n",
      "[CV 2/5; 53/108] START gamma=10, learning_rate=0.1, max_depth=100, n_estimators=2000, objective=binary:logitraw\n",
      "[CV 2/5; 53/108] END gamma=10, learning_rate=0.1, max_depth=100, n_estimators=2000, objective=binary:logitraw;, score=0.769 total time=   0.9s\n",
      "[CV 3/5; 53/108] START gamma=10, learning_rate=0.1, max_depth=100, n_estimators=2000, objective=binary:logitraw\n",
      "[CV 3/5; 53/108] END gamma=10, learning_rate=0.1, max_depth=100, n_estimators=2000, objective=binary:logitraw;, score=0.725 total time=   0.9s\n",
      "[CV 4/5; 53/108] START gamma=10, learning_rate=0.1, max_depth=100, n_estimators=2000, objective=binary:logitraw\n",
      "[CV 4/5; 53/108] END gamma=10, learning_rate=0.1, max_depth=100, n_estimators=2000, objective=binary:logitraw;, score=0.824 total time=   1.0s\n",
      "[CV 5/5; 53/108] START gamma=10, learning_rate=0.1, max_depth=100, n_estimators=2000, objective=binary:logitraw\n",
      "[CV 5/5; 53/108] END gamma=10, learning_rate=0.1, max_depth=100, n_estimators=2000, objective=binary:logitraw;, score=0.804 total time=   0.9s\n",
      "[CV 1/5; 54/108] START gamma=10, learning_rate=0.1, max_depth=100, n_estimators=2000, objective=binary:logistic\n",
      "[CV 1/5; 54/108] END gamma=10, learning_rate=0.1, max_depth=100, n_estimators=2000, objective=binary:logistic;, score=0.769 total time=   0.9s\n",
      "[CV 2/5; 54/108] START gamma=10, learning_rate=0.1, max_depth=100, n_estimators=2000, objective=binary:logistic\n",
      "[CV 2/5; 54/108] END gamma=10, learning_rate=0.1, max_depth=100, n_estimators=2000, objective=binary:logistic;, score=0.788 total time=   0.9s\n",
      "[CV 3/5; 54/108] START gamma=10, learning_rate=0.1, max_depth=100, n_estimators=2000, objective=binary:logistic\n",
      "[CV 3/5; 54/108] END gamma=10, learning_rate=0.1, max_depth=100, n_estimators=2000, objective=binary:logistic;, score=0.784 total time=   0.9s\n",
      "[CV 4/5; 54/108] START gamma=10, learning_rate=0.1, max_depth=100, n_estimators=2000, objective=binary:logistic\n",
      "[CV 4/5; 54/108] END gamma=10, learning_rate=0.1, max_depth=100, n_estimators=2000, objective=binary:logistic;, score=0.902 total time=   0.9s\n",
      "[CV 5/5; 54/108] START gamma=10, learning_rate=0.1, max_depth=100, n_estimators=2000, objective=binary:logistic\n",
      "[CV 5/5; 54/108] END gamma=10, learning_rate=0.1, max_depth=100, n_estimators=2000, objective=binary:logistic;, score=0.882 total time=   0.9s\n",
      "[CV 1/5; 55/108] START gamma=10, learning_rate=0.01, max_depth=10, n_estimators=500, objective=binary:logitraw\n",
      "[CV 1/5; 55/108] END gamma=10, learning_rate=0.01, max_depth=10, n_estimators=500, objective=binary:logitraw;, score=0.673 total time=   0.3s\n",
      "[CV 2/5; 55/108] START gamma=10, learning_rate=0.01, max_depth=10, n_estimators=500, objective=binary:logitraw\n",
      "[CV 2/5; 55/108] END gamma=10, learning_rate=0.01, max_depth=10, n_estimators=500, objective=binary:logitraw;, score=0.769 total time=   0.3s\n",
      "[CV 3/5; 55/108] START gamma=10, learning_rate=0.01, max_depth=10, n_estimators=500, objective=binary:logitraw\n",
      "[CV 3/5; 55/108] END gamma=10, learning_rate=0.01, max_depth=10, n_estimators=500, objective=binary:logitraw;, score=0.725 total time=   0.3s\n",
      "[CV 4/5; 55/108] START gamma=10, learning_rate=0.01, max_depth=10, n_estimators=500, objective=binary:logitraw\n",
      "[CV 4/5; 55/108] END gamma=10, learning_rate=0.01, max_depth=10, n_estimators=500, objective=binary:logitraw;, score=0.824 total time=   0.3s\n",
      "[CV 5/5; 55/108] START gamma=10, learning_rate=0.01, max_depth=10, n_estimators=500, objective=binary:logitraw\n",
      "[CV 5/5; 55/108] END gamma=10, learning_rate=0.01, max_depth=10, n_estimators=500, objective=binary:logitraw;, score=0.863 total time=   0.3s\n",
      "[CV 1/5; 56/108] START gamma=10, learning_rate=0.01, max_depth=10, n_estimators=500, objective=binary:logistic\n",
      "[CV 1/5; 56/108] END gamma=10, learning_rate=0.01, max_depth=10, n_estimators=500, objective=binary:logistic;, score=0.769 total time=   0.3s\n",
      "[CV 2/5; 56/108] START gamma=10, learning_rate=0.01, max_depth=10, n_estimators=500, objective=binary:logistic\n",
      "[CV 2/5; 56/108] END gamma=10, learning_rate=0.01, max_depth=10, n_estimators=500, objective=binary:logistic;, score=0.788 total time=   0.3s\n",
      "[CV 3/5; 56/108] START gamma=10, learning_rate=0.01, max_depth=10, n_estimators=500, objective=binary:logistic\n",
      "[CV 3/5; 56/108] END gamma=10, learning_rate=0.01, max_depth=10, n_estimators=500, objective=binary:logistic;, score=0.784 total time=   0.3s\n",
      "[CV 4/5; 56/108] START gamma=10, learning_rate=0.01, max_depth=10, n_estimators=500, objective=binary:logistic\n",
      "[CV 4/5; 56/108] END gamma=10, learning_rate=0.01, max_depth=10, n_estimators=500, objective=binary:logistic;, score=0.882 total time=   0.3s\n",
      "[CV 5/5; 56/108] START gamma=10, learning_rate=0.01, max_depth=10, n_estimators=500, objective=binary:logistic\n",
      "[CV 5/5; 56/108] END gamma=10, learning_rate=0.01, max_depth=10, n_estimators=500, objective=binary:logistic;, score=0.882 total time=   0.3s\n",
      "[CV 1/5; 57/108] START gamma=10, learning_rate=0.01, max_depth=10, n_estimators=1000, objective=binary:logitraw\n",
      "[CV 1/5; 57/108] END gamma=10, learning_rate=0.01, max_depth=10, n_estimators=1000, objective=binary:logitraw;, score=0.673 total time=   0.5s\n",
      "[CV 2/5; 57/108] START gamma=10, learning_rate=0.01, max_depth=10, n_estimators=1000, objective=binary:logitraw\n",
      "[CV 2/5; 57/108] END gamma=10, learning_rate=0.01, max_depth=10, n_estimators=1000, objective=binary:logitraw;, score=0.769 total time=   0.5s\n",
      "[CV 3/5; 57/108] START gamma=10, learning_rate=0.01, max_depth=10, n_estimators=1000, objective=binary:logitraw\n",
      "[CV 3/5; 57/108] END gamma=10, learning_rate=0.01, max_depth=10, n_estimators=1000, objective=binary:logitraw;, score=0.725 total time=   0.5s\n",
      "[CV 4/5; 57/108] START gamma=10, learning_rate=0.01, max_depth=10, n_estimators=1000, objective=binary:logitraw\n",
      "[CV 4/5; 57/108] END gamma=10, learning_rate=0.01, max_depth=10, n_estimators=1000, objective=binary:logitraw;, score=0.824 total time=   0.6s\n",
      "[CV 5/5; 57/108] START gamma=10, learning_rate=0.01, max_depth=10, n_estimators=1000, objective=binary:logitraw\n",
      "[CV 5/5; 57/108] END gamma=10, learning_rate=0.01, max_depth=10, n_estimators=1000, objective=binary:logitraw;, score=0.863 total time=   0.4s\n",
      "[CV 1/5; 58/108] START gamma=10, learning_rate=0.01, max_depth=10, n_estimators=1000, objective=binary:logistic\n",
      "[CV 1/5; 58/108] END gamma=10, learning_rate=0.01, max_depth=10, n_estimators=1000, objective=binary:logistic;, score=0.769 total time=   0.4s\n",
      "[CV 2/5; 58/108] START gamma=10, learning_rate=0.01, max_depth=10, n_estimators=1000, objective=binary:logistic\n",
      "[CV 2/5; 58/108] END gamma=10, learning_rate=0.01, max_depth=10, n_estimators=1000, objective=binary:logistic;, score=0.788 total time=   0.5s\n",
      "[CV 3/5; 58/108] START gamma=10, learning_rate=0.01, max_depth=10, n_estimators=1000, objective=binary:logistic\n",
      "[CV 3/5; 58/108] END gamma=10, learning_rate=0.01, max_depth=10, n_estimators=1000, objective=binary:logistic;, score=0.784 total time=   0.4s\n",
      "[CV 4/5; 58/108] START gamma=10, learning_rate=0.01, max_depth=10, n_estimators=1000, objective=binary:logistic\n",
      "[CV 4/5; 58/108] END gamma=10, learning_rate=0.01, max_depth=10, n_estimators=1000, objective=binary:logistic;, score=0.882 total time=   0.5s\n",
      "[CV 5/5; 58/108] START gamma=10, learning_rate=0.01, max_depth=10, n_estimators=1000, objective=binary:logistic\n",
      "[CV 5/5; 58/108] END gamma=10, learning_rate=0.01, max_depth=10, n_estimators=1000, objective=binary:logistic;, score=0.882 total time=   0.5s\n",
      "[CV 1/5; 59/108] START gamma=10, learning_rate=0.01, max_depth=10, n_estimators=2000, objective=binary:logitraw\n",
      "[CV 1/5; 59/108] END gamma=10, learning_rate=0.01, max_depth=10, n_estimators=2000, objective=binary:logitraw;, score=0.673 total time=   0.9s\n",
      "[CV 2/5; 59/108] START gamma=10, learning_rate=0.01, max_depth=10, n_estimators=2000, objective=binary:logitraw\n",
      "[CV 2/5; 59/108] END gamma=10, learning_rate=0.01, max_depth=10, n_estimators=2000, objective=binary:logitraw;, score=0.769 total time=   0.9s\n",
      "[CV 3/5; 59/108] START gamma=10, learning_rate=0.01, max_depth=10, n_estimators=2000, objective=binary:logitraw\n",
      "[CV 3/5; 59/108] END gamma=10, learning_rate=0.01, max_depth=10, n_estimators=2000, objective=binary:logitraw;, score=0.725 total time=   0.9s\n",
      "[CV 4/5; 59/108] START gamma=10, learning_rate=0.01, max_depth=10, n_estimators=2000, objective=binary:logitraw\n",
      "[CV 4/5; 59/108] END gamma=10, learning_rate=0.01, max_depth=10, n_estimators=2000, objective=binary:logitraw;, score=0.824 total time=   0.9s\n",
      "[CV 5/5; 59/108] START gamma=10, learning_rate=0.01, max_depth=10, n_estimators=2000, objective=binary:logitraw\n",
      "[CV 5/5; 59/108] END gamma=10, learning_rate=0.01, max_depth=10, n_estimators=2000, objective=binary:logitraw;, score=0.863 total time=   0.9s\n",
      "[CV 1/5; 60/108] START gamma=10, learning_rate=0.01, max_depth=10, n_estimators=2000, objective=binary:logistic\n",
      "[CV 1/5; 60/108] END gamma=10, learning_rate=0.01, max_depth=10, n_estimators=2000, objective=binary:logistic;, score=0.769 total time=   0.9s\n",
      "[CV 2/5; 60/108] START gamma=10, learning_rate=0.01, max_depth=10, n_estimators=2000, objective=binary:logistic\n",
      "[CV 2/5; 60/108] END gamma=10, learning_rate=0.01, max_depth=10, n_estimators=2000, objective=binary:logistic;, score=0.788 total time=   0.9s\n",
      "[CV 3/5; 60/108] START gamma=10, learning_rate=0.01, max_depth=10, n_estimators=2000, objective=binary:logistic\n",
      "[CV 3/5; 60/108] END gamma=10, learning_rate=0.01, max_depth=10, n_estimators=2000, objective=binary:logistic;, score=0.784 total time=   0.9s\n",
      "[CV 4/5; 60/108] START gamma=10, learning_rate=0.01, max_depth=10, n_estimators=2000, objective=binary:logistic\n",
      "[CV 4/5; 60/108] END gamma=10, learning_rate=0.01, max_depth=10, n_estimators=2000, objective=binary:logistic;, score=0.882 total time=   0.9s\n",
      "[CV 5/5; 60/108] START gamma=10, learning_rate=0.01, max_depth=10, n_estimators=2000, objective=binary:logistic\n",
      "[CV 5/5; 60/108] END gamma=10, learning_rate=0.01, max_depth=10, n_estimators=2000, objective=binary:logistic;, score=0.882 total time=   0.9s\n",
      "[CV 1/5; 61/108] START gamma=10, learning_rate=0.01, max_depth=50, n_estimators=500, objective=binary:logitraw\n",
      "[CV 1/5; 61/108] END gamma=10, learning_rate=0.01, max_depth=50, n_estimators=500, objective=binary:logitraw;, score=0.673 total time=   0.3s\n",
      "[CV 2/5; 61/108] START gamma=10, learning_rate=0.01, max_depth=50, n_estimators=500, objective=binary:logitraw\n",
      "[CV 2/5; 61/108] END gamma=10, learning_rate=0.01, max_depth=50, n_estimators=500, objective=binary:logitraw;, score=0.769 total time=   0.3s\n",
      "[CV 3/5; 61/108] START gamma=10, learning_rate=0.01, max_depth=50, n_estimators=500, objective=binary:logitraw\n",
      "[CV 3/5; 61/108] END gamma=10, learning_rate=0.01, max_depth=50, n_estimators=500, objective=binary:logitraw;, score=0.725 total time=   0.3s\n",
      "[CV 4/5; 61/108] START gamma=10, learning_rate=0.01, max_depth=50, n_estimators=500, objective=binary:logitraw\n",
      "[CV 4/5; 61/108] END gamma=10, learning_rate=0.01, max_depth=50, n_estimators=500, objective=binary:logitraw;, score=0.824 total time=   0.3s\n",
      "[CV 5/5; 61/108] START gamma=10, learning_rate=0.01, max_depth=50, n_estimators=500, objective=binary:logitraw\n",
      "[CV 5/5; 61/108] END gamma=10, learning_rate=0.01, max_depth=50, n_estimators=500, objective=binary:logitraw;, score=0.863 total time=   0.3s\n",
      "[CV 1/5; 62/108] START gamma=10, learning_rate=0.01, max_depth=50, n_estimators=500, objective=binary:logistic\n",
      "[CV 1/5; 62/108] END gamma=10, learning_rate=0.01, max_depth=50, n_estimators=500, objective=binary:logistic;, score=0.769 total time=   0.3s\n",
      "[CV 2/5; 62/108] START gamma=10, learning_rate=0.01, max_depth=50, n_estimators=500, objective=binary:logistic\n",
      "[CV 2/5; 62/108] END gamma=10, learning_rate=0.01, max_depth=50, n_estimators=500, objective=binary:logistic;, score=0.788 total time=   0.5s\n",
      "[CV 3/5; 62/108] START gamma=10, learning_rate=0.01, max_depth=50, n_estimators=500, objective=binary:logistic\n",
      "[CV 3/5; 62/108] END gamma=10, learning_rate=0.01, max_depth=50, n_estimators=500, objective=binary:logistic;, score=0.784 total time=   0.3s\n",
      "[CV 4/5; 62/108] START gamma=10, learning_rate=0.01, max_depth=50, n_estimators=500, objective=binary:logistic\n",
      "[CV 4/5; 62/108] END gamma=10, learning_rate=0.01, max_depth=50, n_estimators=500, objective=binary:logistic;, score=0.882 total time=   0.3s\n",
      "[CV 5/5; 62/108] START gamma=10, learning_rate=0.01, max_depth=50, n_estimators=500, objective=binary:logistic\n",
      "[CV 5/5; 62/108] END gamma=10, learning_rate=0.01, max_depth=50, n_estimators=500, objective=binary:logistic;, score=0.882 total time=   0.3s\n",
      "[CV 1/5; 63/108] START gamma=10, learning_rate=0.01, max_depth=50, n_estimators=1000, objective=binary:logitraw\n",
      "[CV 1/5; 63/108] END gamma=10, learning_rate=0.01, max_depth=50, n_estimators=1000, objective=binary:logitraw;, score=0.673 total time=   0.5s\n",
      "[CV 2/5; 63/108] START gamma=10, learning_rate=0.01, max_depth=50, n_estimators=1000, objective=binary:logitraw\n",
      "[CV 2/5; 63/108] END gamma=10, learning_rate=0.01, max_depth=50, n_estimators=1000, objective=binary:logitraw;, score=0.769 total time=   0.5s\n",
      "[CV 3/5; 63/108] START gamma=10, learning_rate=0.01, max_depth=50, n_estimators=1000, objective=binary:logitraw\n",
      "[CV 3/5; 63/108] END gamma=10, learning_rate=0.01, max_depth=50, n_estimators=1000, objective=binary:logitraw;, score=0.725 total time=   0.5s\n",
      "[CV 4/5; 63/108] START gamma=10, learning_rate=0.01, max_depth=50, n_estimators=1000, objective=binary:logitraw\n",
      "[CV 4/5; 63/108] END gamma=10, learning_rate=0.01, max_depth=50, n_estimators=1000, objective=binary:logitraw;, score=0.824 total time=   0.5s\n",
      "[CV 5/5; 63/108] START gamma=10, learning_rate=0.01, max_depth=50, n_estimators=1000, objective=binary:logitraw\n",
      "[CV 5/5; 63/108] END gamma=10, learning_rate=0.01, max_depth=50, n_estimators=1000, objective=binary:logitraw;, score=0.863 total time=   0.5s\n",
      "[CV 1/5; 64/108] START gamma=10, learning_rate=0.01, max_depth=50, n_estimators=1000, objective=binary:logistic\n",
      "[CV 1/5; 64/108] END gamma=10, learning_rate=0.01, max_depth=50, n_estimators=1000, objective=binary:logistic;, score=0.769 total time=   0.5s\n",
      "[CV 2/5; 64/108] START gamma=10, learning_rate=0.01, max_depth=50, n_estimators=1000, objective=binary:logistic\n",
      "[CV 2/5; 64/108] END gamma=10, learning_rate=0.01, max_depth=50, n_estimators=1000, objective=binary:logistic;, score=0.788 total time=   0.5s\n",
      "[CV 3/5; 64/108] START gamma=10, learning_rate=0.01, max_depth=50, n_estimators=1000, objective=binary:logistic\n",
      "[CV 3/5; 64/108] END gamma=10, learning_rate=0.01, max_depth=50, n_estimators=1000, objective=binary:logistic;, score=0.784 total time=   0.5s\n",
      "[CV 4/5; 64/108] START gamma=10, learning_rate=0.01, max_depth=50, n_estimators=1000, objective=binary:logistic\n",
      "[CV 4/5; 64/108] END gamma=10, learning_rate=0.01, max_depth=50, n_estimators=1000, objective=binary:logistic;, score=0.882 total time=   0.5s\n",
      "[CV 5/5; 64/108] START gamma=10, learning_rate=0.01, max_depth=50, n_estimators=1000, objective=binary:logistic\n",
      "[CV 5/5; 64/108] END gamma=10, learning_rate=0.01, max_depth=50, n_estimators=1000, objective=binary:logistic;, score=0.882 total time=   0.5s\n",
      "[CV 1/5; 65/108] START gamma=10, learning_rate=0.01, max_depth=50, n_estimators=2000, objective=binary:logitraw\n",
      "[CV 1/5; 65/108] END gamma=10, learning_rate=0.01, max_depth=50, n_estimators=2000, objective=binary:logitraw;, score=0.673 total time=   0.9s\n",
      "[CV 2/5; 65/108] START gamma=10, learning_rate=0.01, max_depth=50, n_estimators=2000, objective=binary:logitraw\n",
      "[CV 2/5; 65/108] END gamma=10, learning_rate=0.01, max_depth=50, n_estimators=2000, objective=binary:logitraw;, score=0.769 total time=   0.9s\n",
      "[CV 3/5; 65/108] START gamma=10, learning_rate=0.01, max_depth=50, n_estimators=2000, objective=binary:logitraw\n",
      "[CV 3/5; 65/108] END gamma=10, learning_rate=0.01, max_depth=50, n_estimators=2000, objective=binary:logitraw;, score=0.725 total time=   0.9s\n",
      "[CV 4/5; 65/108] START gamma=10, learning_rate=0.01, max_depth=50, n_estimators=2000, objective=binary:logitraw\n",
      "[CV 4/5; 65/108] END gamma=10, learning_rate=0.01, max_depth=50, n_estimators=2000, objective=binary:logitraw;, score=0.824 total time=   0.9s\n",
      "[CV 5/5; 65/108] START gamma=10, learning_rate=0.01, max_depth=50, n_estimators=2000, objective=binary:logitraw\n",
      "[CV 5/5; 65/108] END gamma=10, learning_rate=0.01, max_depth=50, n_estimators=2000, objective=binary:logitraw;, score=0.863 total time=   0.9s\n",
      "[CV 1/5; 66/108] START gamma=10, learning_rate=0.01, max_depth=50, n_estimators=2000, objective=binary:logistic\n",
      "[CV 1/5; 66/108] END gamma=10, learning_rate=0.01, max_depth=50, n_estimators=2000, objective=binary:logistic;, score=0.769 total time=   0.9s\n",
      "[CV 2/5; 66/108] START gamma=10, learning_rate=0.01, max_depth=50, n_estimators=2000, objective=binary:logistic\n",
      "[CV 2/5; 66/108] END gamma=10, learning_rate=0.01, max_depth=50, n_estimators=2000, objective=binary:logistic;, score=0.788 total time=   0.9s\n",
      "[CV 3/5; 66/108] START gamma=10, learning_rate=0.01, max_depth=50, n_estimators=2000, objective=binary:logistic\n",
      "[CV 3/5; 66/108] END gamma=10, learning_rate=0.01, max_depth=50, n_estimators=2000, objective=binary:logistic;, score=0.784 total time=   0.9s\n",
      "[CV 4/5; 66/108] START gamma=10, learning_rate=0.01, max_depth=50, n_estimators=2000, objective=binary:logistic\n",
      "[CV 4/5; 66/108] END gamma=10, learning_rate=0.01, max_depth=50, n_estimators=2000, objective=binary:logistic;, score=0.882 total time=   0.9s\n",
      "[CV 5/5; 66/108] START gamma=10, learning_rate=0.01, max_depth=50, n_estimators=2000, objective=binary:logistic\n",
      "[CV 5/5; 66/108] END gamma=10, learning_rate=0.01, max_depth=50, n_estimators=2000, objective=binary:logistic;, score=0.882 total time=   0.9s\n",
      "[CV 1/5; 67/108] START gamma=10, learning_rate=0.01, max_depth=100, n_estimators=500, objective=binary:logitraw\n",
      "[CV 1/5; 67/108] END gamma=10, learning_rate=0.01, max_depth=100, n_estimators=500, objective=binary:logitraw;, score=0.673 total time=   0.3s\n",
      "[CV 2/5; 67/108] START gamma=10, learning_rate=0.01, max_depth=100, n_estimators=500, objective=binary:logitraw\n",
      "[CV 2/5; 67/108] END gamma=10, learning_rate=0.01, max_depth=100, n_estimators=500, objective=binary:logitraw;, score=0.769 total time=   0.3s\n",
      "[CV 3/5; 67/108] START gamma=10, learning_rate=0.01, max_depth=100, n_estimators=500, objective=binary:logitraw\n",
      "[CV 3/5; 67/108] END gamma=10, learning_rate=0.01, max_depth=100, n_estimators=500, objective=binary:logitraw;, score=0.725 total time=   0.3s\n",
      "[CV 4/5; 67/108] START gamma=10, learning_rate=0.01, max_depth=100, n_estimators=500, objective=binary:logitraw\n",
      "[CV 4/5; 67/108] END gamma=10, learning_rate=0.01, max_depth=100, n_estimators=500, objective=binary:logitraw;, score=0.824 total time=   0.3s\n",
      "[CV 5/5; 67/108] START gamma=10, learning_rate=0.01, max_depth=100, n_estimators=500, objective=binary:logitraw\n",
      "[CV 5/5; 67/108] END gamma=10, learning_rate=0.01, max_depth=100, n_estimators=500, objective=binary:logitraw;, score=0.863 total time=   0.5s\n",
      "[CV 1/5; 68/108] START gamma=10, learning_rate=0.01, max_depth=100, n_estimators=500, objective=binary:logistic\n",
      "[CV 1/5; 68/108] END gamma=10, learning_rate=0.01, max_depth=100, n_estimators=500, objective=binary:logistic;, score=0.769 total time=   0.2s\n",
      "[CV 2/5; 68/108] START gamma=10, learning_rate=0.01, max_depth=100, n_estimators=500, objective=binary:logistic\n",
      "[CV 2/5; 68/108] END gamma=10, learning_rate=0.01, max_depth=100, n_estimators=500, objective=binary:logistic;, score=0.788 total time=   0.2s\n",
      "[CV 3/5; 68/108] START gamma=10, learning_rate=0.01, max_depth=100, n_estimators=500, objective=binary:logistic\n",
      "[CV 3/5; 68/108] END gamma=10, learning_rate=0.01, max_depth=100, n_estimators=500, objective=binary:logistic;, score=0.784 total time=   0.3s\n",
      "[CV 4/5; 68/108] START gamma=10, learning_rate=0.01, max_depth=100, n_estimators=500, objective=binary:logistic\n",
      "[CV 4/5; 68/108] END gamma=10, learning_rate=0.01, max_depth=100, n_estimators=500, objective=binary:logistic;, score=0.882 total time=   0.2s\n",
      "[CV 5/5; 68/108] START gamma=10, learning_rate=0.01, max_depth=100, n_estimators=500, objective=binary:logistic\n",
      "[CV 5/5; 68/108] END gamma=10, learning_rate=0.01, max_depth=100, n_estimators=500, objective=binary:logistic;, score=0.882 total time=   0.2s\n",
      "[CV 1/5; 69/108] START gamma=10, learning_rate=0.01, max_depth=100, n_estimators=1000, objective=binary:logitraw\n",
      "[CV 1/5; 69/108] END gamma=10, learning_rate=0.01, max_depth=100, n_estimators=1000, objective=binary:logitraw;, score=0.673 total time=   0.4s\n",
      "[CV 2/5; 69/108] START gamma=10, learning_rate=0.01, max_depth=100, n_estimators=1000, objective=binary:logitraw\n",
      "[CV 2/5; 69/108] END gamma=10, learning_rate=0.01, max_depth=100, n_estimators=1000, objective=binary:logitraw;, score=0.769 total time=   0.5s\n",
      "[CV 3/5; 69/108] START gamma=10, learning_rate=0.01, max_depth=100, n_estimators=1000, objective=binary:logitraw\n",
      "[CV 3/5; 69/108] END gamma=10, learning_rate=0.01, max_depth=100, n_estimators=1000, objective=binary:logitraw;, score=0.725 total time=   0.5s\n",
      "[CV 4/5; 69/108] START gamma=10, learning_rate=0.01, max_depth=100, n_estimators=1000, objective=binary:logitraw\n",
      "[CV 4/5; 69/108] END gamma=10, learning_rate=0.01, max_depth=100, n_estimators=1000, objective=binary:logitraw;, score=0.824 total time=   0.5s\n",
      "[CV 5/5; 69/108] START gamma=10, learning_rate=0.01, max_depth=100, n_estimators=1000, objective=binary:logitraw\n",
      "[CV 5/5; 69/108] END gamma=10, learning_rate=0.01, max_depth=100, n_estimators=1000, objective=binary:logitraw;, score=0.863 total time=   0.5s\n",
      "[CV 1/5; 70/108] START gamma=10, learning_rate=0.01, max_depth=100, n_estimators=1000, objective=binary:logistic\n",
      "[CV 1/5; 70/108] END gamma=10, learning_rate=0.01, max_depth=100, n_estimators=1000, objective=binary:logistic;, score=0.769 total time=   0.5s\n",
      "[CV 2/5; 70/108] START gamma=10, learning_rate=0.01, max_depth=100, n_estimators=1000, objective=binary:logistic\n",
      "[CV 2/5; 70/108] END gamma=10, learning_rate=0.01, max_depth=100, n_estimators=1000, objective=binary:logistic;, score=0.788 total time=   0.5s\n",
      "[CV 3/5; 70/108] START gamma=10, learning_rate=0.01, max_depth=100, n_estimators=1000, objective=binary:logistic\n",
      "[CV 3/5; 70/108] END gamma=10, learning_rate=0.01, max_depth=100, n_estimators=1000, objective=binary:logistic;, score=0.784 total time=   0.5s\n",
      "[CV 4/5; 70/108] START gamma=10, learning_rate=0.01, max_depth=100, n_estimators=1000, objective=binary:logistic\n",
      "[CV 4/5; 70/108] END gamma=10, learning_rate=0.01, max_depth=100, n_estimators=1000, objective=binary:logistic;, score=0.882 total time=   0.5s\n",
      "[CV 5/5; 70/108] START gamma=10, learning_rate=0.01, max_depth=100, n_estimators=1000, objective=binary:logistic\n",
      "[CV 5/5; 70/108] END gamma=10, learning_rate=0.01, max_depth=100, n_estimators=1000, objective=binary:logistic;, score=0.882 total time=   0.5s\n",
      "[CV 1/5; 71/108] START gamma=10, learning_rate=0.01, max_depth=100, n_estimators=2000, objective=binary:logitraw\n",
      "[CV 1/5; 71/108] END gamma=10, learning_rate=0.01, max_depth=100, n_estimators=2000, objective=binary:logitraw;, score=0.673 total time=   0.9s\n",
      "[CV 2/5; 71/108] START gamma=10, learning_rate=0.01, max_depth=100, n_estimators=2000, objective=binary:logitraw\n",
      "[CV 2/5; 71/108] END gamma=10, learning_rate=0.01, max_depth=100, n_estimators=2000, objective=binary:logitraw;, score=0.769 total time=   0.9s\n",
      "[CV 3/5; 71/108] START gamma=10, learning_rate=0.01, max_depth=100, n_estimators=2000, objective=binary:logitraw\n",
      "[CV 3/5; 71/108] END gamma=10, learning_rate=0.01, max_depth=100, n_estimators=2000, objective=binary:logitraw;, score=0.725 total time=   0.9s\n",
      "[CV 4/5; 71/108] START gamma=10, learning_rate=0.01, max_depth=100, n_estimators=2000, objective=binary:logitraw\n",
      "[CV 4/5; 71/108] END gamma=10, learning_rate=0.01, max_depth=100, n_estimators=2000, objective=binary:logitraw;, score=0.824 total time=   1.1s\n",
      "[CV 5/5; 71/108] START gamma=10, learning_rate=0.01, max_depth=100, n_estimators=2000, objective=binary:logitraw\n",
      "[CV 5/5; 71/108] END gamma=10, learning_rate=0.01, max_depth=100, n_estimators=2000, objective=binary:logitraw;, score=0.863 total time=   0.9s\n",
      "[CV 1/5; 72/108] START gamma=10, learning_rate=0.01, max_depth=100, n_estimators=2000, objective=binary:logistic\n",
      "[CV 1/5; 72/108] END gamma=10, learning_rate=0.01, max_depth=100, n_estimators=2000, objective=binary:logistic;, score=0.769 total time=   0.9s\n",
      "[CV 2/5; 72/108] START gamma=10, learning_rate=0.01, max_depth=100, n_estimators=2000, objective=binary:logistic\n",
      "[CV 2/5; 72/108] END gamma=10, learning_rate=0.01, max_depth=100, n_estimators=2000, objective=binary:logistic;, score=0.788 total time=   0.9s\n",
      "[CV 3/5; 72/108] START gamma=10, learning_rate=0.01, max_depth=100, n_estimators=2000, objective=binary:logistic\n",
      "[CV 3/5; 72/108] END gamma=10, learning_rate=0.01, max_depth=100, n_estimators=2000, objective=binary:logistic;, score=0.784 total time=   0.9s\n",
      "[CV 4/5; 72/108] START gamma=10, learning_rate=0.01, max_depth=100, n_estimators=2000, objective=binary:logistic\n",
      "[CV 4/5; 72/108] END gamma=10, learning_rate=0.01, max_depth=100, n_estimators=2000, objective=binary:logistic;, score=0.882 total time=   1.3s\n",
      "[CV 5/5; 72/108] START gamma=10, learning_rate=0.01, max_depth=100, n_estimators=2000, objective=binary:logistic\n",
      "[CV 5/5; 72/108] END gamma=10, learning_rate=0.01, max_depth=100, n_estimators=2000, objective=binary:logistic;, score=0.882 total time=   0.9s\n",
      "[CV 1/5; 73/108] START gamma=15, learning_rate=0.1, max_depth=10, n_estimators=500, objective=binary:logitraw\n",
      "[CV 1/5; 73/108] END gamma=15, learning_rate=0.1, max_depth=10, n_estimators=500, objective=binary:logitraw;, score=0.654 total time=   0.2s\n",
      "[CV 2/5; 73/108] START gamma=15, learning_rate=0.1, max_depth=10, n_estimators=500, objective=binary:logitraw\n",
      "[CV 2/5; 73/108] END gamma=15, learning_rate=0.1, max_depth=10, n_estimators=500, objective=binary:logitraw;, score=0.750 total time=   0.2s\n",
      "[CV 3/5; 73/108] START gamma=15, learning_rate=0.1, max_depth=10, n_estimators=500, objective=binary:logitraw\n",
      "[CV 3/5; 73/108] END gamma=15, learning_rate=0.1, max_depth=10, n_estimators=500, objective=binary:logitraw;, score=0.725 total time=   0.2s\n",
      "[CV 4/5; 73/108] START gamma=15, learning_rate=0.1, max_depth=10, n_estimators=500, objective=binary:logitraw\n",
      "[CV 4/5; 73/108] END gamma=15, learning_rate=0.1, max_depth=10, n_estimators=500, objective=binary:logitraw;, score=0.804 total time=   0.2s\n",
      "[CV 5/5; 73/108] START gamma=15, learning_rate=0.1, max_depth=10, n_estimators=500, objective=binary:logitraw\n",
      "[CV 5/5; 73/108] END gamma=15, learning_rate=0.1, max_depth=10, n_estimators=500, objective=binary:logitraw;, score=0.863 total time=   0.2s\n",
      "[CV 1/5; 74/108] START gamma=15, learning_rate=0.1, max_depth=10, n_estimators=500, objective=binary:logistic\n",
      "[CV 1/5; 74/108] END gamma=15, learning_rate=0.1, max_depth=10, n_estimators=500, objective=binary:logistic;, score=0.750 total time=   0.2s\n",
      "[CV 2/5; 74/108] START gamma=15, learning_rate=0.1, max_depth=10, n_estimators=500, objective=binary:logistic\n",
      "[CV 2/5; 74/108] END gamma=15, learning_rate=0.1, max_depth=10, n_estimators=500, objective=binary:logistic;, score=0.788 total time=   0.2s\n",
      "[CV 3/5; 74/108] START gamma=15, learning_rate=0.1, max_depth=10, n_estimators=500, objective=binary:logistic\n",
      "[CV 3/5; 74/108] END gamma=15, learning_rate=0.1, max_depth=10, n_estimators=500, objective=binary:logistic;, score=0.804 total time=   0.2s\n",
      "[CV 4/5; 74/108] START gamma=15, learning_rate=0.1, max_depth=10, n_estimators=500, objective=binary:logistic\n",
      "[CV 4/5; 74/108] END gamma=15, learning_rate=0.1, max_depth=10, n_estimators=500, objective=binary:logistic;, score=0.902 total time=   0.2s\n",
      "[CV 5/5; 74/108] START gamma=15, learning_rate=0.1, max_depth=10, n_estimators=500, objective=binary:logistic\n",
      "[CV 5/5; 74/108] END gamma=15, learning_rate=0.1, max_depth=10, n_estimators=500, objective=binary:logistic;, score=0.804 total time=   0.2s\n",
      "[CV 1/5; 75/108] START gamma=15, learning_rate=0.1, max_depth=10, n_estimators=1000, objective=binary:logitraw\n",
      "[CV 1/5; 75/108] END gamma=15, learning_rate=0.1, max_depth=10, n_estimators=1000, objective=binary:logitraw;, score=0.654 total time=   0.4s\n",
      "[CV 2/5; 75/108] START gamma=15, learning_rate=0.1, max_depth=10, n_estimators=1000, objective=binary:logitraw\n",
      "[CV 2/5; 75/108] END gamma=15, learning_rate=0.1, max_depth=10, n_estimators=1000, objective=binary:logitraw;, score=0.750 total time=   0.4s\n",
      "[CV 3/5; 75/108] START gamma=15, learning_rate=0.1, max_depth=10, n_estimators=1000, objective=binary:logitraw\n",
      "[CV 3/5; 75/108] END gamma=15, learning_rate=0.1, max_depth=10, n_estimators=1000, objective=binary:logitraw;, score=0.725 total time=   0.4s\n",
      "[CV 4/5; 75/108] START gamma=15, learning_rate=0.1, max_depth=10, n_estimators=1000, objective=binary:logitraw\n",
      "[CV 4/5; 75/108] END gamma=15, learning_rate=0.1, max_depth=10, n_estimators=1000, objective=binary:logitraw;, score=0.804 total time=   0.8s\n",
      "[CV 5/5; 75/108] START gamma=15, learning_rate=0.1, max_depth=10, n_estimators=1000, objective=binary:logitraw\n",
      "[CV 5/5; 75/108] END gamma=15, learning_rate=0.1, max_depth=10, n_estimators=1000, objective=binary:logitraw;, score=0.863 total time=   0.4s\n",
      "[CV 1/5; 76/108] START gamma=15, learning_rate=0.1, max_depth=10, n_estimators=1000, objective=binary:logistic\n",
      "[CV 1/5; 76/108] END gamma=15, learning_rate=0.1, max_depth=10, n_estimators=1000, objective=binary:logistic;, score=0.750 total time=   0.4s\n",
      "[CV 2/5; 76/108] START gamma=15, learning_rate=0.1, max_depth=10, n_estimators=1000, objective=binary:logistic\n",
      "[CV 2/5; 76/108] END gamma=15, learning_rate=0.1, max_depth=10, n_estimators=1000, objective=binary:logistic;, score=0.788 total time=   0.4s\n",
      "[CV 3/5; 76/108] START gamma=15, learning_rate=0.1, max_depth=10, n_estimators=1000, objective=binary:logistic\n",
      "[CV 3/5; 76/108] END gamma=15, learning_rate=0.1, max_depth=10, n_estimators=1000, objective=binary:logistic;, score=0.804 total time=   0.4s\n",
      "[CV 4/5; 76/108] START gamma=15, learning_rate=0.1, max_depth=10, n_estimators=1000, objective=binary:logistic\n",
      "[CV 4/5; 76/108] END gamma=15, learning_rate=0.1, max_depth=10, n_estimators=1000, objective=binary:logistic;, score=0.902 total time=   0.4s\n",
      "[CV 5/5; 76/108] START gamma=15, learning_rate=0.1, max_depth=10, n_estimators=1000, objective=binary:logistic\n",
      "[CV 5/5; 76/108] END gamma=15, learning_rate=0.1, max_depth=10, n_estimators=1000, objective=binary:logistic;, score=0.804 total time=   0.4s\n",
      "[CV 1/5; 77/108] START gamma=15, learning_rate=0.1, max_depth=10, n_estimators=2000, objective=binary:logitraw\n",
      "[CV 1/5; 77/108] END gamma=15, learning_rate=0.1, max_depth=10, n_estimators=2000, objective=binary:logitraw;, score=0.654 total time=   0.9s\n",
      "[CV 2/5; 77/108] START gamma=15, learning_rate=0.1, max_depth=10, n_estimators=2000, objective=binary:logitraw\n",
      "[CV 2/5; 77/108] END gamma=15, learning_rate=0.1, max_depth=10, n_estimators=2000, objective=binary:logitraw;, score=0.750 total time=   0.9s\n",
      "[CV 3/5; 77/108] START gamma=15, learning_rate=0.1, max_depth=10, n_estimators=2000, objective=binary:logitraw\n",
      "[CV 3/5; 77/108] END gamma=15, learning_rate=0.1, max_depth=10, n_estimators=2000, objective=binary:logitraw;, score=0.725 total time=   0.9s\n",
      "[CV 4/5; 77/108] START gamma=15, learning_rate=0.1, max_depth=10, n_estimators=2000, objective=binary:logitraw\n",
      "[CV 4/5; 77/108] END gamma=15, learning_rate=0.1, max_depth=10, n_estimators=2000, objective=binary:logitraw;, score=0.804 total time=   0.9s\n",
      "[CV 5/5; 77/108] START gamma=15, learning_rate=0.1, max_depth=10, n_estimators=2000, objective=binary:logitraw\n",
      "[CV 5/5; 77/108] END gamma=15, learning_rate=0.1, max_depth=10, n_estimators=2000, objective=binary:logitraw;, score=0.863 total time=   0.9s\n",
      "[CV 1/5; 78/108] START gamma=15, learning_rate=0.1, max_depth=10, n_estimators=2000, objective=binary:logistic\n",
      "[CV 1/5; 78/108] END gamma=15, learning_rate=0.1, max_depth=10, n_estimators=2000, objective=binary:logistic;, score=0.750 total time=   0.9s\n",
      "[CV 2/5; 78/108] START gamma=15, learning_rate=0.1, max_depth=10, n_estimators=2000, objective=binary:logistic\n",
      "[CV 2/5; 78/108] END gamma=15, learning_rate=0.1, max_depth=10, n_estimators=2000, objective=binary:logistic;, score=0.788 total time=   0.9s\n",
      "[CV 3/5; 78/108] START gamma=15, learning_rate=0.1, max_depth=10, n_estimators=2000, objective=binary:logistic\n",
      "[CV 3/5; 78/108] END gamma=15, learning_rate=0.1, max_depth=10, n_estimators=2000, objective=binary:logistic;, score=0.804 total time=   0.9s\n",
      "[CV 4/5; 78/108] START gamma=15, learning_rate=0.1, max_depth=10, n_estimators=2000, objective=binary:logistic\n",
      "[CV 4/5; 78/108] END gamma=15, learning_rate=0.1, max_depth=10, n_estimators=2000, objective=binary:logistic;, score=0.902 total time=   0.8s\n",
      "[CV 5/5; 78/108] START gamma=15, learning_rate=0.1, max_depth=10, n_estimators=2000, objective=binary:logistic\n",
      "[CV 5/5; 78/108] END gamma=15, learning_rate=0.1, max_depth=10, n_estimators=2000, objective=binary:logistic;, score=0.804 total time=   0.8s\n",
      "[CV 1/5; 79/108] START gamma=15, learning_rate=0.1, max_depth=50, n_estimators=500, objective=binary:logitraw\n",
      "[CV 1/5; 79/108] END gamma=15, learning_rate=0.1, max_depth=50, n_estimators=500, objective=binary:logitraw;, score=0.654 total time=   0.2s\n",
      "[CV 2/5; 79/108] START gamma=15, learning_rate=0.1, max_depth=50, n_estimators=500, objective=binary:logitraw\n",
      "[CV 2/5; 79/108] END gamma=15, learning_rate=0.1, max_depth=50, n_estimators=500, objective=binary:logitraw;, score=0.750 total time=   0.2s\n",
      "[CV 3/5; 79/108] START gamma=15, learning_rate=0.1, max_depth=50, n_estimators=500, objective=binary:logitraw\n",
      "[CV 3/5; 79/108] END gamma=15, learning_rate=0.1, max_depth=50, n_estimators=500, objective=binary:logitraw;, score=0.725 total time=   0.2s\n",
      "[CV 4/5; 79/108] START gamma=15, learning_rate=0.1, max_depth=50, n_estimators=500, objective=binary:logitraw\n",
      "[CV 4/5; 79/108] END gamma=15, learning_rate=0.1, max_depth=50, n_estimators=500, objective=binary:logitraw;, score=0.804 total time=   0.2s\n",
      "[CV 5/5; 79/108] START gamma=15, learning_rate=0.1, max_depth=50, n_estimators=500, objective=binary:logitraw\n",
      "[CV 5/5; 79/108] END gamma=15, learning_rate=0.1, max_depth=50, n_estimators=500, objective=binary:logitraw;, score=0.863 total time=   0.2s\n",
      "[CV 1/5; 80/108] START gamma=15, learning_rate=0.1, max_depth=50, n_estimators=500, objective=binary:logistic\n",
      "[CV 1/5; 80/108] END gamma=15, learning_rate=0.1, max_depth=50, n_estimators=500, objective=binary:logistic;, score=0.750 total time=   0.2s\n",
      "[CV 2/5; 80/108] START gamma=15, learning_rate=0.1, max_depth=50, n_estimators=500, objective=binary:logistic\n",
      "[CV 2/5; 80/108] END gamma=15, learning_rate=0.1, max_depth=50, n_estimators=500, objective=binary:logistic;, score=0.788 total time=   0.2s\n",
      "[CV 3/5; 80/108] START gamma=15, learning_rate=0.1, max_depth=50, n_estimators=500, objective=binary:logistic\n",
      "[CV 3/5; 80/108] END gamma=15, learning_rate=0.1, max_depth=50, n_estimators=500, objective=binary:logistic;, score=0.804 total time=   0.2s\n",
      "[CV 4/5; 80/108] START gamma=15, learning_rate=0.1, max_depth=50, n_estimators=500, objective=binary:logistic\n",
      "[CV 4/5; 80/108] END gamma=15, learning_rate=0.1, max_depth=50, n_estimators=500, objective=binary:logistic;, score=0.902 total time=   0.2s\n",
      "[CV 5/5; 80/108] START gamma=15, learning_rate=0.1, max_depth=50, n_estimators=500, objective=binary:logistic\n",
      "[CV 5/5; 80/108] END gamma=15, learning_rate=0.1, max_depth=50, n_estimators=500, objective=binary:logistic;, score=0.804 total time=   0.2s\n",
      "[CV 1/5; 81/108] START gamma=15, learning_rate=0.1, max_depth=50, n_estimators=1000, objective=binary:logitraw\n",
      "[CV 1/5; 81/108] END gamma=15, learning_rate=0.1, max_depth=50, n_estimators=1000, objective=binary:logitraw;, score=0.654 total time=   0.4s\n",
      "[CV 2/5; 81/108] START gamma=15, learning_rate=0.1, max_depth=50, n_estimators=1000, objective=binary:logitraw\n",
      "[CV 2/5; 81/108] END gamma=15, learning_rate=0.1, max_depth=50, n_estimators=1000, objective=binary:logitraw;, score=0.750 total time=   0.4s\n",
      "[CV 3/5; 81/108] START gamma=15, learning_rate=0.1, max_depth=50, n_estimators=1000, objective=binary:logitraw\n",
      "[CV 3/5; 81/108] END gamma=15, learning_rate=0.1, max_depth=50, n_estimators=1000, objective=binary:logitraw;, score=0.725 total time=   0.4s\n",
      "[CV 4/5; 81/108] START gamma=15, learning_rate=0.1, max_depth=50, n_estimators=1000, objective=binary:logitraw\n",
      "[CV 4/5; 81/108] END gamma=15, learning_rate=0.1, max_depth=50, n_estimators=1000, objective=binary:logitraw;, score=0.804 total time=   0.4s\n",
      "[CV 5/5; 81/108] START gamma=15, learning_rate=0.1, max_depth=50, n_estimators=1000, objective=binary:logitraw\n",
      "[CV 5/5; 81/108] END gamma=15, learning_rate=0.1, max_depth=50, n_estimators=1000, objective=binary:logitraw;, score=0.863 total time=   0.4s\n",
      "[CV 1/5; 82/108] START gamma=15, learning_rate=0.1, max_depth=50, n_estimators=1000, objective=binary:logistic\n",
      "[CV 1/5; 82/108] END gamma=15, learning_rate=0.1, max_depth=50, n_estimators=1000, objective=binary:logistic;, score=0.750 total time=   0.4s\n",
      "[CV 2/5; 82/108] START gamma=15, learning_rate=0.1, max_depth=50, n_estimators=1000, objective=binary:logistic\n",
      "[CV 2/5; 82/108] END gamma=15, learning_rate=0.1, max_depth=50, n_estimators=1000, objective=binary:logistic;, score=0.788 total time=   0.4s\n",
      "[CV 3/5; 82/108] START gamma=15, learning_rate=0.1, max_depth=50, n_estimators=1000, objective=binary:logistic\n",
      "[CV 3/5; 82/108] END gamma=15, learning_rate=0.1, max_depth=50, n_estimators=1000, objective=binary:logistic;, score=0.804 total time=   0.4s\n",
      "[CV 4/5; 82/108] START gamma=15, learning_rate=0.1, max_depth=50, n_estimators=1000, objective=binary:logistic\n",
      "[CV 4/5; 82/108] END gamma=15, learning_rate=0.1, max_depth=50, n_estimators=1000, objective=binary:logistic;, score=0.902 total time=   0.4s\n",
      "[CV 5/5; 82/108] START gamma=15, learning_rate=0.1, max_depth=50, n_estimators=1000, objective=binary:logistic\n",
      "[CV 5/5; 82/108] END gamma=15, learning_rate=0.1, max_depth=50, n_estimators=1000, objective=binary:logistic;, score=0.804 total time=   0.4s\n",
      "[CV 1/5; 83/108] START gamma=15, learning_rate=0.1, max_depth=50, n_estimators=2000, objective=binary:logitraw\n",
      "[CV 1/5; 83/108] END gamma=15, learning_rate=0.1, max_depth=50, n_estimators=2000, objective=binary:logitraw;, score=0.654 total time=   0.9s\n",
      "[CV 2/5; 83/108] START gamma=15, learning_rate=0.1, max_depth=50, n_estimators=2000, objective=binary:logitraw\n",
      "[CV 2/5; 83/108] END gamma=15, learning_rate=0.1, max_depth=50, n_estimators=2000, objective=binary:logitraw;, score=0.750 total time=   0.9s\n",
      "[CV 3/5; 83/108] START gamma=15, learning_rate=0.1, max_depth=50, n_estimators=2000, objective=binary:logitraw\n",
      "[CV 3/5; 83/108] END gamma=15, learning_rate=0.1, max_depth=50, n_estimators=2000, objective=binary:logitraw;, score=0.725 total time=   0.9s\n",
      "[CV 4/5; 83/108] START gamma=15, learning_rate=0.1, max_depth=50, n_estimators=2000, objective=binary:logitraw\n",
      "[CV 4/5; 83/108] END gamma=15, learning_rate=0.1, max_depth=50, n_estimators=2000, objective=binary:logitraw;, score=0.804 total time=   0.9s\n",
      "[CV 5/5; 83/108] START gamma=15, learning_rate=0.1, max_depth=50, n_estimators=2000, objective=binary:logitraw\n",
      "[CV 5/5; 83/108] END gamma=15, learning_rate=0.1, max_depth=50, n_estimators=2000, objective=binary:logitraw;, score=0.863 total time=   0.9s\n",
      "[CV 1/5; 84/108] START gamma=15, learning_rate=0.1, max_depth=50, n_estimators=2000, objective=binary:logistic\n",
      "[CV 1/5; 84/108] END gamma=15, learning_rate=0.1, max_depth=50, n_estimators=2000, objective=binary:logistic;, score=0.750 total time=   0.9s\n",
      "[CV 2/5; 84/108] START gamma=15, learning_rate=0.1, max_depth=50, n_estimators=2000, objective=binary:logistic\n",
      "[CV 2/5; 84/108] END gamma=15, learning_rate=0.1, max_depth=50, n_estimators=2000, objective=binary:logistic;, score=0.788 total time=   0.9s\n",
      "[CV 3/5; 84/108] START gamma=15, learning_rate=0.1, max_depth=50, n_estimators=2000, objective=binary:logistic\n",
      "[CV 3/5; 84/108] END gamma=15, learning_rate=0.1, max_depth=50, n_estimators=2000, objective=binary:logistic;, score=0.804 total time=   0.9s\n",
      "[CV 4/5; 84/108] START gamma=15, learning_rate=0.1, max_depth=50, n_estimators=2000, objective=binary:logistic\n",
      "[CV 4/5; 84/108] END gamma=15, learning_rate=0.1, max_depth=50, n_estimators=2000, objective=binary:logistic;, score=0.902 total time=   0.9s\n",
      "[CV 5/5; 84/108] START gamma=15, learning_rate=0.1, max_depth=50, n_estimators=2000, objective=binary:logistic\n",
      "[CV 5/5; 84/108] END gamma=15, learning_rate=0.1, max_depth=50, n_estimators=2000, objective=binary:logistic;, score=0.804 total time=   0.9s\n",
      "[CV 1/5; 85/108] START gamma=15, learning_rate=0.1, max_depth=100, n_estimators=500, objective=binary:logitraw\n",
      "[CV 1/5; 85/108] END gamma=15, learning_rate=0.1, max_depth=100, n_estimators=500, objective=binary:logitraw;, score=0.654 total time=   0.2s\n",
      "[CV 2/5; 85/108] START gamma=15, learning_rate=0.1, max_depth=100, n_estimators=500, objective=binary:logitraw\n",
      "[CV 2/5; 85/108] END gamma=15, learning_rate=0.1, max_depth=100, n_estimators=500, objective=binary:logitraw;, score=0.750 total time=   0.2s\n",
      "[CV 3/5; 85/108] START gamma=15, learning_rate=0.1, max_depth=100, n_estimators=500, objective=binary:logitraw\n",
      "[CV 3/5; 85/108] END gamma=15, learning_rate=0.1, max_depth=100, n_estimators=500, objective=binary:logitraw;, score=0.725 total time=   0.2s\n",
      "[CV 4/5; 85/108] START gamma=15, learning_rate=0.1, max_depth=100, n_estimators=500, objective=binary:logitraw\n",
      "[CV 4/5; 85/108] END gamma=15, learning_rate=0.1, max_depth=100, n_estimators=500, objective=binary:logitraw;, score=0.804 total time=   0.2s\n",
      "[CV 5/5; 85/108] START gamma=15, learning_rate=0.1, max_depth=100, n_estimators=500, objective=binary:logitraw\n",
      "[CV 5/5; 85/108] END gamma=15, learning_rate=0.1, max_depth=100, n_estimators=500, objective=binary:logitraw;, score=0.863 total time=   0.2s\n",
      "[CV 1/5; 86/108] START gamma=15, learning_rate=0.1, max_depth=100, n_estimators=500, objective=binary:logistic\n",
      "[CV 1/5; 86/108] END gamma=15, learning_rate=0.1, max_depth=100, n_estimators=500, objective=binary:logistic;, score=0.750 total time=   0.2s\n",
      "[CV 2/5; 86/108] START gamma=15, learning_rate=0.1, max_depth=100, n_estimators=500, objective=binary:logistic\n",
      "[CV 2/5; 86/108] END gamma=15, learning_rate=0.1, max_depth=100, n_estimators=500, objective=binary:logistic;, score=0.788 total time=   0.2s\n",
      "[CV 3/5; 86/108] START gamma=15, learning_rate=0.1, max_depth=100, n_estimators=500, objective=binary:logistic\n",
      "[CV 3/5; 86/108] END gamma=15, learning_rate=0.1, max_depth=100, n_estimators=500, objective=binary:logistic;, score=0.804 total time=   0.2s\n",
      "[CV 4/5; 86/108] START gamma=15, learning_rate=0.1, max_depth=100, n_estimators=500, objective=binary:logistic\n",
      "[CV 4/5; 86/108] END gamma=15, learning_rate=0.1, max_depth=100, n_estimators=500, objective=binary:logistic;, score=0.902 total time=   0.2s\n",
      "[CV 5/5; 86/108] START gamma=15, learning_rate=0.1, max_depth=100, n_estimators=500, objective=binary:logistic\n",
      "[CV 5/5; 86/108] END gamma=15, learning_rate=0.1, max_depth=100, n_estimators=500, objective=binary:logistic;, score=0.804 total time=   0.2s\n",
      "[CV 1/5; 87/108] START gamma=15, learning_rate=0.1, max_depth=100, n_estimators=1000, objective=binary:logitraw\n",
      "[CV 1/5; 87/108] END gamma=15, learning_rate=0.1, max_depth=100, n_estimators=1000, objective=binary:logitraw;, score=0.654 total time=   0.4s\n",
      "[CV 2/5; 87/108] START gamma=15, learning_rate=0.1, max_depth=100, n_estimators=1000, objective=binary:logitraw\n",
      "[CV 2/5; 87/108] END gamma=15, learning_rate=0.1, max_depth=100, n_estimators=1000, objective=binary:logitraw;, score=0.750 total time=   0.5s\n",
      "[CV 3/5; 87/108] START gamma=15, learning_rate=0.1, max_depth=100, n_estimators=1000, objective=binary:logitraw\n",
      "[CV 3/5; 87/108] END gamma=15, learning_rate=0.1, max_depth=100, n_estimators=1000, objective=binary:logitraw;, score=0.725 total time=   0.4s\n",
      "[CV 4/5; 87/108] START gamma=15, learning_rate=0.1, max_depth=100, n_estimators=1000, objective=binary:logitraw\n",
      "[CV 4/5; 87/108] END gamma=15, learning_rate=0.1, max_depth=100, n_estimators=1000, objective=binary:logitraw;, score=0.804 total time=   0.4s\n",
      "[CV 5/5; 87/108] START gamma=15, learning_rate=0.1, max_depth=100, n_estimators=1000, objective=binary:logitraw\n",
      "[CV 5/5; 87/108] END gamma=15, learning_rate=0.1, max_depth=100, n_estimators=1000, objective=binary:logitraw;, score=0.863 total time=   0.4s\n",
      "[CV 1/5; 88/108] START gamma=15, learning_rate=0.1, max_depth=100, n_estimators=1000, objective=binary:logistic\n",
      "[CV 1/5; 88/108] END gamma=15, learning_rate=0.1, max_depth=100, n_estimators=1000, objective=binary:logistic;, score=0.750 total time=   0.4s\n",
      "[CV 2/5; 88/108] START gamma=15, learning_rate=0.1, max_depth=100, n_estimators=1000, objective=binary:logistic\n",
      "[CV 2/5; 88/108] END gamma=15, learning_rate=0.1, max_depth=100, n_estimators=1000, objective=binary:logistic;, score=0.788 total time=   0.4s\n",
      "[CV 3/5; 88/108] START gamma=15, learning_rate=0.1, max_depth=100, n_estimators=1000, objective=binary:logistic\n",
      "[CV 3/5; 88/108] END gamma=15, learning_rate=0.1, max_depth=100, n_estimators=1000, objective=binary:logistic;, score=0.804 total time=   0.4s\n",
      "[CV 4/5; 88/108] START gamma=15, learning_rate=0.1, max_depth=100, n_estimators=1000, objective=binary:logistic\n",
      "[CV 4/5; 88/108] END gamma=15, learning_rate=0.1, max_depth=100, n_estimators=1000, objective=binary:logistic;, score=0.902 total time=   0.4s\n",
      "[CV 5/5; 88/108] START gamma=15, learning_rate=0.1, max_depth=100, n_estimators=1000, objective=binary:logistic\n",
      "[CV 5/5; 88/108] END gamma=15, learning_rate=0.1, max_depth=100, n_estimators=1000, objective=binary:logistic;, score=0.804 total time=   0.4s\n",
      "[CV 1/5; 89/108] START gamma=15, learning_rate=0.1, max_depth=100, n_estimators=2000, objective=binary:logitraw\n",
      "[CV 1/5; 89/108] END gamma=15, learning_rate=0.1, max_depth=100, n_estimators=2000, objective=binary:logitraw;, score=0.654 total time=   0.9s\n",
      "[CV 2/5; 89/108] START gamma=15, learning_rate=0.1, max_depth=100, n_estimators=2000, objective=binary:logitraw\n",
      "[CV 2/5; 89/108] END gamma=15, learning_rate=0.1, max_depth=100, n_estimators=2000, objective=binary:logitraw;, score=0.750 total time=   0.9s\n",
      "[CV 3/5; 89/108] START gamma=15, learning_rate=0.1, max_depth=100, n_estimators=2000, objective=binary:logitraw\n",
      "[CV 3/5; 89/108] END gamma=15, learning_rate=0.1, max_depth=100, n_estimators=2000, objective=binary:logitraw;, score=0.725 total time=   0.9s\n",
      "[CV 4/5; 89/108] START gamma=15, learning_rate=0.1, max_depth=100, n_estimators=2000, objective=binary:logitraw\n",
      "[CV 4/5; 89/108] END gamma=15, learning_rate=0.1, max_depth=100, n_estimators=2000, objective=binary:logitraw;, score=0.804 total time=   0.9s\n",
      "[CV 5/5; 89/108] START gamma=15, learning_rate=0.1, max_depth=100, n_estimators=2000, objective=binary:logitraw\n",
      "[CV 5/5; 89/108] END gamma=15, learning_rate=0.1, max_depth=100, n_estimators=2000, objective=binary:logitraw;, score=0.863 total time=   0.9s\n",
      "[CV 1/5; 90/108] START gamma=15, learning_rate=0.1, max_depth=100, n_estimators=2000, objective=binary:logistic\n",
      "[CV 1/5; 90/108] END gamma=15, learning_rate=0.1, max_depth=100, n_estimators=2000, objective=binary:logistic;, score=0.750 total time=   1.0s\n",
      "[CV 2/5; 90/108] START gamma=15, learning_rate=0.1, max_depth=100, n_estimators=2000, objective=binary:logistic\n",
      "[CV 2/5; 90/108] END gamma=15, learning_rate=0.1, max_depth=100, n_estimators=2000, objective=binary:logistic;, score=0.788 total time=   1.1s\n",
      "[CV 3/5; 90/108] START gamma=15, learning_rate=0.1, max_depth=100, n_estimators=2000, objective=binary:logistic\n",
      "[CV 3/5; 90/108] END gamma=15, learning_rate=0.1, max_depth=100, n_estimators=2000, objective=binary:logistic;, score=0.804 total time=   0.8s\n",
      "[CV 4/5; 90/108] START gamma=15, learning_rate=0.1, max_depth=100, n_estimators=2000, objective=binary:logistic\n",
      "[CV 4/5; 90/108] END gamma=15, learning_rate=0.1, max_depth=100, n_estimators=2000, objective=binary:logistic;, score=0.902 total time=   0.8s\n",
      "[CV 5/5; 90/108] START gamma=15, learning_rate=0.1, max_depth=100, n_estimators=2000, objective=binary:logistic\n",
      "[CV 5/5; 90/108] END gamma=15, learning_rate=0.1, max_depth=100, n_estimators=2000, objective=binary:logistic;, score=0.804 total time=   0.8s\n",
      "[CV 1/5; 91/108] START gamma=15, learning_rate=0.01, max_depth=10, n_estimators=500, objective=binary:logitraw\n",
      "[CV 1/5; 91/108] END gamma=15, learning_rate=0.01, max_depth=10, n_estimators=500, objective=binary:logitraw;, score=0.615 total time=   0.3s\n",
      "[CV 2/5; 91/108] START gamma=15, learning_rate=0.01, max_depth=10, n_estimators=500, objective=binary:logitraw\n",
      "[CV 2/5; 91/108] END gamma=15, learning_rate=0.01, max_depth=10, n_estimators=500, objective=binary:logitraw;, score=0.750 total time=   0.3s\n",
      "[CV 3/5; 91/108] START gamma=15, learning_rate=0.01, max_depth=10, n_estimators=500, objective=binary:logitraw\n",
      "[CV 3/5; 91/108] END gamma=15, learning_rate=0.01, max_depth=10, n_estimators=500, objective=binary:logitraw;, score=0.745 total time=   0.3s\n",
      "[CV 4/5; 91/108] START gamma=15, learning_rate=0.01, max_depth=10, n_estimators=500, objective=binary:logitraw\n",
      "[CV 4/5; 91/108] END gamma=15, learning_rate=0.01, max_depth=10, n_estimators=500, objective=binary:logitraw;, score=0.804 total time=   0.3s\n",
      "[CV 5/5; 91/108] START gamma=15, learning_rate=0.01, max_depth=10, n_estimators=500, objective=binary:logitraw\n",
      "[CV 5/5; 91/108] END gamma=15, learning_rate=0.01, max_depth=10, n_estimators=500, objective=binary:logitraw;, score=0.804 total time=   0.2s\n",
      "[CV 1/5; 92/108] START gamma=15, learning_rate=0.01, max_depth=10, n_estimators=500, objective=binary:logistic\n",
      "[CV 1/5; 92/108] END gamma=15, learning_rate=0.01, max_depth=10, n_estimators=500, objective=binary:logistic;, score=0.788 total time=   0.3s\n",
      "[CV 2/5; 92/108] START gamma=15, learning_rate=0.01, max_depth=10, n_estimators=500, objective=binary:logistic\n",
      "[CV 2/5; 92/108] END gamma=15, learning_rate=0.01, max_depth=10, n_estimators=500, objective=binary:logistic;, score=0.769 total time=   0.3s\n",
      "[CV 3/5; 92/108] START gamma=15, learning_rate=0.01, max_depth=10, n_estimators=500, objective=binary:logistic\n",
      "[CV 3/5; 92/108] END gamma=15, learning_rate=0.01, max_depth=10, n_estimators=500, objective=binary:logistic;, score=0.804 total time=   0.3s\n",
      "[CV 4/5; 92/108] START gamma=15, learning_rate=0.01, max_depth=10, n_estimators=500, objective=binary:logistic\n",
      "[CV 4/5; 92/108] END gamma=15, learning_rate=0.01, max_depth=10, n_estimators=500, objective=binary:logistic;, score=0.902 total time=   0.2s\n",
      "[CV 5/5; 92/108] START gamma=15, learning_rate=0.01, max_depth=10, n_estimators=500, objective=binary:logistic\n",
      "[CV 5/5; 92/108] END gamma=15, learning_rate=0.01, max_depth=10, n_estimators=500, objective=binary:logistic;, score=0.843 total time=   0.3s\n",
      "[CV 1/5; 93/108] START gamma=15, learning_rate=0.01, max_depth=10, n_estimators=1000, objective=binary:logitraw\n",
      "[CV 1/5; 93/108] END gamma=15, learning_rate=0.01, max_depth=10, n_estimators=1000, objective=binary:logitraw;, score=0.615 total time=   0.5s\n",
      "[CV 2/5; 93/108] START gamma=15, learning_rate=0.01, max_depth=10, n_estimators=1000, objective=binary:logitraw\n",
      "[CV 2/5; 93/108] END gamma=15, learning_rate=0.01, max_depth=10, n_estimators=1000, objective=binary:logitraw;, score=0.750 total time=   0.5s\n",
      "[CV 3/5; 93/108] START gamma=15, learning_rate=0.01, max_depth=10, n_estimators=1000, objective=binary:logitraw\n",
      "[CV 3/5; 93/108] END gamma=15, learning_rate=0.01, max_depth=10, n_estimators=1000, objective=binary:logitraw;, score=0.745 total time=   0.5s\n",
      "[CV 4/5; 93/108] START gamma=15, learning_rate=0.01, max_depth=10, n_estimators=1000, objective=binary:logitraw\n",
      "[CV 4/5; 93/108] END gamma=15, learning_rate=0.01, max_depth=10, n_estimators=1000, objective=binary:logitraw;, score=0.804 total time=   0.5s\n",
      "[CV 5/5; 93/108] START gamma=15, learning_rate=0.01, max_depth=10, n_estimators=1000, objective=binary:logitraw\n",
      "[CV 5/5; 93/108] END gamma=15, learning_rate=0.01, max_depth=10, n_estimators=1000, objective=binary:logitraw;, score=0.804 total time=   0.5s\n",
      "[CV 1/5; 94/108] START gamma=15, learning_rate=0.01, max_depth=10, n_estimators=1000, objective=binary:logistic\n",
      "[CV 1/5; 94/108] END gamma=15, learning_rate=0.01, max_depth=10, n_estimators=1000, objective=binary:logistic;, score=0.788 total time=   0.5s\n",
      "[CV 2/5; 94/108] START gamma=15, learning_rate=0.01, max_depth=10, n_estimators=1000, objective=binary:logistic\n",
      "[CV 2/5; 94/108] END gamma=15, learning_rate=0.01, max_depth=10, n_estimators=1000, objective=binary:logistic;, score=0.769 total time=   0.5s\n",
      "[CV 3/5; 94/108] START gamma=15, learning_rate=0.01, max_depth=10, n_estimators=1000, objective=binary:logistic\n",
      "[CV 3/5; 94/108] END gamma=15, learning_rate=0.01, max_depth=10, n_estimators=1000, objective=binary:logistic;, score=0.804 total time=   0.5s\n",
      "[CV 4/5; 94/108] START gamma=15, learning_rate=0.01, max_depth=10, n_estimators=1000, objective=binary:logistic\n",
      "[CV 4/5; 94/108] END gamma=15, learning_rate=0.01, max_depth=10, n_estimators=1000, objective=binary:logistic;, score=0.902 total time=   0.5s\n",
      "[CV 5/5; 94/108] START gamma=15, learning_rate=0.01, max_depth=10, n_estimators=1000, objective=binary:logistic\n",
      "[CV 5/5; 94/108] END gamma=15, learning_rate=0.01, max_depth=10, n_estimators=1000, objective=binary:logistic;, score=0.843 total time=   0.6s\n",
      "[CV 1/5; 95/108] START gamma=15, learning_rate=0.01, max_depth=10, n_estimators=2000, objective=binary:logitraw\n",
      "[CV 1/5; 95/108] END gamma=15, learning_rate=0.01, max_depth=10, n_estimators=2000, objective=binary:logitraw;, score=0.615 total time=   0.9s\n",
      "[CV 2/5; 95/108] START gamma=15, learning_rate=0.01, max_depth=10, n_estimators=2000, objective=binary:logitraw\n",
      "[CV 2/5; 95/108] END gamma=15, learning_rate=0.01, max_depth=10, n_estimators=2000, objective=binary:logitraw;, score=0.750 total time=   0.9s\n",
      "[CV 3/5; 95/108] START gamma=15, learning_rate=0.01, max_depth=10, n_estimators=2000, objective=binary:logitraw\n",
      "[CV 3/5; 95/108] END gamma=15, learning_rate=0.01, max_depth=10, n_estimators=2000, objective=binary:logitraw;, score=0.745 total time=   0.9s\n",
      "[CV 4/5; 95/108] START gamma=15, learning_rate=0.01, max_depth=10, n_estimators=2000, objective=binary:logitraw\n",
      "[CV 4/5; 95/108] END gamma=15, learning_rate=0.01, max_depth=10, n_estimators=2000, objective=binary:logitraw;, score=0.804 total time=   0.9s\n",
      "[CV 5/5; 95/108] START gamma=15, learning_rate=0.01, max_depth=10, n_estimators=2000, objective=binary:logitraw\n",
      "[CV 5/5; 95/108] END gamma=15, learning_rate=0.01, max_depth=10, n_estimators=2000, objective=binary:logitraw;, score=0.804 total time=   0.9s\n",
      "[CV 1/5; 96/108] START gamma=15, learning_rate=0.01, max_depth=10, n_estimators=2000, objective=binary:logistic\n",
      "[CV 1/5; 96/108] END gamma=15, learning_rate=0.01, max_depth=10, n_estimators=2000, objective=binary:logistic;, score=0.788 total time=   0.9s\n",
      "[CV 2/5; 96/108] START gamma=15, learning_rate=0.01, max_depth=10, n_estimators=2000, objective=binary:logistic\n",
      "[CV 2/5; 96/108] END gamma=15, learning_rate=0.01, max_depth=10, n_estimators=2000, objective=binary:logistic;, score=0.769 total time=   0.9s\n",
      "[CV 3/5; 96/108] START gamma=15, learning_rate=0.01, max_depth=10, n_estimators=2000, objective=binary:logistic\n",
      "[CV 3/5; 96/108] END gamma=15, learning_rate=0.01, max_depth=10, n_estimators=2000, objective=binary:logistic;, score=0.804 total time=   0.9s\n",
      "[CV 4/5; 96/108] START gamma=15, learning_rate=0.01, max_depth=10, n_estimators=2000, objective=binary:logistic\n",
      "[CV 4/5; 96/108] END gamma=15, learning_rate=0.01, max_depth=10, n_estimators=2000, objective=binary:logistic;, score=0.902 total time=   0.9s\n",
      "[CV 5/5; 96/108] START gamma=15, learning_rate=0.01, max_depth=10, n_estimators=2000, objective=binary:logistic\n",
      "[CV 5/5; 96/108] END gamma=15, learning_rate=0.01, max_depth=10, n_estimators=2000, objective=binary:logistic;, score=0.843 total time=   0.9s\n",
      "[CV 1/5; 97/108] START gamma=15, learning_rate=0.01, max_depth=50, n_estimators=500, objective=binary:logitraw\n",
      "[CV 1/5; 97/108] END gamma=15, learning_rate=0.01, max_depth=50, n_estimators=500, objective=binary:logitraw;, score=0.615 total time=   0.3s\n",
      "[CV 2/5; 97/108] START gamma=15, learning_rate=0.01, max_depth=50, n_estimators=500, objective=binary:logitraw\n",
      "[CV 2/5; 97/108] END gamma=15, learning_rate=0.01, max_depth=50, n_estimators=500, objective=binary:logitraw;, score=0.750 total time=   0.3s\n",
      "[CV 3/5; 97/108] START gamma=15, learning_rate=0.01, max_depth=50, n_estimators=500, objective=binary:logitraw\n",
      "[CV 3/5; 97/108] END gamma=15, learning_rate=0.01, max_depth=50, n_estimators=500, objective=binary:logitraw;, score=0.745 total time=   0.3s\n",
      "[CV 4/5; 97/108] START gamma=15, learning_rate=0.01, max_depth=50, n_estimators=500, objective=binary:logitraw\n",
      "[CV 4/5; 97/108] END gamma=15, learning_rate=0.01, max_depth=50, n_estimators=500, objective=binary:logitraw;, score=0.804 total time=   0.6s\n",
      "[CV 5/5; 97/108] START gamma=15, learning_rate=0.01, max_depth=50, n_estimators=500, objective=binary:logitraw\n",
      "[CV 5/5; 97/108] END gamma=15, learning_rate=0.01, max_depth=50, n_estimators=500, objective=binary:logitraw;, score=0.804 total time=   0.3s\n",
      "[CV 1/5; 98/108] START gamma=15, learning_rate=0.01, max_depth=50, n_estimators=500, objective=binary:logistic\n",
      "[CV 1/5; 98/108] END gamma=15, learning_rate=0.01, max_depth=50, n_estimators=500, objective=binary:logistic;, score=0.788 total time=   0.3s\n",
      "[CV 2/5; 98/108] START gamma=15, learning_rate=0.01, max_depth=50, n_estimators=500, objective=binary:logistic\n",
      "[CV 2/5; 98/108] END gamma=15, learning_rate=0.01, max_depth=50, n_estimators=500, objective=binary:logistic;, score=0.769 total time=   0.2s\n",
      "[CV 3/5; 98/108] START gamma=15, learning_rate=0.01, max_depth=50, n_estimators=500, objective=binary:logistic\n",
      "[CV 3/5; 98/108] END gamma=15, learning_rate=0.01, max_depth=50, n_estimators=500, objective=binary:logistic;, score=0.804 total time=   0.3s\n",
      "[CV 4/5; 98/108] START gamma=15, learning_rate=0.01, max_depth=50, n_estimators=500, objective=binary:logistic\n",
      "[CV 4/5; 98/108] END gamma=15, learning_rate=0.01, max_depth=50, n_estimators=500, objective=binary:logistic;, score=0.902 total time=   0.2s\n",
      "[CV 5/5; 98/108] START gamma=15, learning_rate=0.01, max_depth=50, n_estimators=500, objective=binary:logistic\n",
      "[CV 5/5; 98/108] END gamma=15, learning_rate=0.01, max_depth=50, n_estimators=500, objective=binary:logistic;, score=0.843 total time=   0.3s\n",
      "[CV 1/5; 99/108] START gamma=15, learning_rate=0.01, max_depth=50, n_estimators=1000, objective=binary:logitraw\n",
      "[CV 1/5; 99/108] END gamma=15, learning_rate=0.01, max_depth=50, n_estimators=1000, objective=binary:logitraw;, score=0.615 total time=   0.5s\n",
      "[CV 2/5; 99/108] START gamma=15, learning_rate=0.01, max_depth=50, n_estimators=1000, objective=binary:logitraw\n",
      "[CV 2/5; 99/108] END gamma=15, learning_rate=0.01, max_depth=50, n_estimators=1000, objective=binary:logitraw;, score=0.750 total time=   0.5s\n",
      "[CV 3/5; 99/108] START gamma=15, learning_rate=0.01, max_depth=50, n_estimators=1000, objective=binary:logitraw\n",
      "[CV 3/5; 99/108] END gamma=15, learning_rate=0.01, max_depth=50, n_estimators=1000, objective=binary:logitraw;, score=0.745 total time=   0.5s\n",
      "[CV 4/5; 99/108] START gamma=15, learning_rate=0.01, max_depth=50, n_estimators=1000, objective=binary:logitraw\n",
      "[CV 4/5; 99/108] END gamma=15, learning_rate=0.01, max_depth=50, n_estimators=1000, objective=binary:logitraw;, score=0.804 total time=   0.5s\n",
      "[CV 5/5; 99/108] START gamma=15, learning_rate=0.01, max_depth=50, n_estimators=1000, objective=binary:logitraw\n",
      "[CV 5/5; 99/108] END gamma=15, learning_rate=0.01, max_depth=50, n_estimators=1000, objective=binary:logitraw;, score=0.804 total time=   0.5s\n",
      "[CV 1/5; 100/108] START gamma=15, learning_rate=0.01, max_depth=50, n_estimators=1000, objective=binary:logistic\n",
      "[CV 1/5; 100/108] END gamma=15, learning_rate=0.01, max_depth=50, n_estimators=1000, objective=binary:logistic;, score=0.788 total time=   0.5s\n",
      "[CV 2/5; 100/108] START gamma=15, learning_rate=0.01, max_depth=50, n_estimators=1000, objective=binary:logistic\n",
      "[CV 2/5; 100/108] END gamma=15, learning_rate=0.01, max_depth=50, n_estimators=1000, objective=binary:logistic;, score=0.769 total time=   0.5s\n",
      "[CV 3/5; 100/108] START gamma=15, learning_rate=0.01, max_depth=50, n_estimators=1000, objective=binary:logistic\n",
      "[CV 3/5; 100/108] END gamma=15, learning_rate=0.01, max_depth=50, n_estimators=1000, objective=binary:logistic;, score=0.804 total time=   0.5s\n",
      "[CV 4/5; 100/108] START gamma=15, learning_rate=0.01, max_depth=50, n_estimators=1000, objective=binary:logistic\n",
      "[CV 4/5; 100/108] END gamma=15, learning_rate=0.01, max_depth=50, n_estimators=1000, objective=binary:logistic;, score=0.902 total time=   0.5s\n",
      "[CV 5/5; 100/108] START gamma=15, learning_rate=0.01, max_depth=50, n_estimators=1000, objective=binary:logistic\n",
      "[CV 5/5; 100/108] END gamma=15, learning_rate=0.01, max_depth=50, n_estimators=1000, objective=binary:logistic;, score=0.843 total time=   0.5s\n",
      "[CV 1/5; 101/108] START gamma=15, learning_rate=0.01, max_depth=50, n_estimators=2000, objective=binary:logitraw\n",
      "[CV 1/5; 101/108] END gamma=15, learning_rate=0.01, max_depth=50, n_estimators=2000, objective=binary:logitraw;, score=0.615 total time=   0.9s\n",
      "[CV 2/5; 101/108] START gamma=15, learning_rate=0.01, max_depth=50, n_estimators=2000, objective=binary:logitraw\n",
      "[CV 2/5; 101/108] END gamma=15, learning_rate=0.01, max_depth=50, n_estimators=2000, objective=binary:logitraw;, score=0.750 total time=   1.0s\n",
      "[CV 3/5; 101/108] START gamma=15, learning_rate=0.01, max_depth=50, n_estimators=2000, objective=binary:logitraw\n",
      "[CV 3/5; 101/108] END gamma=15, learning_rate=0.01, max_depth=50, n_estimators=2000, objective=binary:logitraw;, score=0.745 total time=   1.2s\n",
      "[CV 4/5; 101/108] START gamma=15, learning_rate=0.01, max_depth=50, n_estimators=2000, objective=binary:logitraw\n",
      "[CV 4/5; 101/108] END gamma=15, learning_rate=0.01, max_depth=50, n_estimators=2000, objective=binary:logitraw;, score=0.804 total time=   0.9s\n",
      "[CV 5/5; 101/108] START gamma=15, learning_rate=0.01, max_depth=50, n_estimators=2000, objective=binary:logitraw\n",
      "[CV 5/5; 101/108] END gamma=15, learning_rate=0.01, max_depth=50, n_estimators=2000, objective=binary:logitraw;, score=0.804 total time=   0.8s\n",
      "[CV 1/5; 102/108] START gamma=15, learning_rate=0.01, max_depth=50, n_estimators=2000, objective=binary:logistic\n",
      "[CV 1/5; 102/108] END gamma=15, learning_rate=0.01, max_depth=50, n_estimators=2000, objective=binary:logistic;, score=0.788 total time=   0.8s\n",
      "[CV 2/5; 102/108] START gamma=15, learning_rate=0.01, max_depth=50, n_estimators=2000, objective=binary:logistic\n",
      "[CV 2/5; 102/108] END gamma=15, learning_rate=0.01, max_depth=50, n_estimators=2000, objective=binary:logistic;, score=0.769 total time=   0.9s\n",
      "[CV 3/5; 102/108] START gamma=15, learning_rate=0.01, max_depth=50, n_estimators=2000, objective=binary:logistic\n",
      "[CV 3/5; 102/108] END gamma=15, learning_rate=0.01, max_depth=50, n_estimators=2000, objective=binary:logistic;, score=0.804 total time=   0.9s\n",
      "[CV 4/5; 102/108] START gamma=15, learning_rate=0.01, max_depth=50, n_estimators=2000, objective=binary:logistic\n",
      "[CV 4/5; 102/108] END gamma=15, learning_rate=0.01, max_depth=50, n_estimators=2000, objective=binary:logistic;, score=0.902 total time=   0.9s\n",
      "[CV 5/5; 102/108] START gamma=15, learning_rate=0.01, max_depth=50, n_estimators=2000, objective=binary:logistic\n",
      "[CV 5/5; 102/108] END gamma=15, learning_rate=0.01, max_depth=50, n_estimators=2000, objective=binary:logistic;, score=0.843 total time=   0.9s\n",
      "[CV 1/5; 103/108] START gamma=15, learning_rate=0.01, max_depth=100, n_estimators=500, objective=binary:logitraw\n",
      "[CV 1/5; 103/108] END gamma=15, learning_rate=0.01, max_depth=100, n_estimators=500, objective=binary:logitraw;, score=0.615 total time=   0.3s\n",
      "[CV 2/5; 103/108] START gamma=15, learning_rate=0.01, max_depth=100, n_estimators=500, objective=binary:logitraw\n",
      "[CV 2/5; 103/108] END gamma=15, learning_rate=0.01, max_depth=100, n_estimators=500, objective=binary:logitraw;, score=0.750 total time=   0.3s\n",
      "[CV 3/5; 103/108] START gamma=15, learning_rate=0.01, max_depth=100, n_estimators=500, objective=binary:logitraw\n",
      "[CV 3/5; 103/108] END gamma=15, learning_rate=0.01, max_depth=100, n_estimators=500, objective=binary:logitraw;, score=0.745 total time=   0.3s\n",
      "[CV 4/5; 103/108] START gamma=15, learning_rate=0.01, max_depth=100, n_estimators=500, objective=binary:logitraw\n",
      "[CV 4/5; 103/108] END gamma=15, learning_rate=0.01, max_depth=100, n_estimators=500, objective=binary:logitraw;, score=0.804 total time=   0.3s\n",
      "[CV 5/5; 103/108] START gamma=15, learning_rate=0.01, max_depth=100, n_estimators=500, objective=binary:logitraw\n",
      "[CV 5/5; 103/108] END gamma=15, learning_rate=0.01, max_depth=100, n_estimators=500, objective=binary:logitraw;, score=0.804 total time=   0.3s\n",
      "[CV 1/5; 104/108] START gamma=15, learning_rate=0.01, max_depth=100, n_estimators=500, objective=binary:logistic\n",
      "[CV 1/5; 104/108] END gamma=15, learning_rate=0.01, max_depth=100, n_estimators=500, objective=binary:logistic;, score=0.788 total time=   0.3s\n",
      "[CV 2/5; 104/108] START gamma=15, learning_rate=0.01, max_depth=100, n_estimators=500, objective=binary:logistic\n",
      "[CV 2/5; 104/108] END gamma=15, learning_rate=0.01, max_depth=100, n_estimators=500, objective=binary:logistic;, score=0.769 total time=   0.3s\n",
      "[CV 3/5; 104/108] START gamma=15, learning_rate=0.01, max_depth=100, n_estimators=500, objective=binary:logistic\n",
      "[CV 3/5; 104/108] END gamma=15, learning_rate=0.01, max_depth=100, n_estimators=500, objective=binary:logistic;, score=0.804 total time=   0.3s\n",
      "[CV 4/5; 104/108] START gamma=15, learning_rate=0.01, max_depth=100, n_estimators=500, objective=binary:logistic\n",
      "[CV 4/5; 104/108] END gamma=15, learning_rate=0.01, max_depth=100, n_estimators=500, objective=binary:logistic;, score=0.902 total time=   0.3s\n",
      "[CV 5/5; 104/108] START gamma=15, learning_rate=0.01, max_depth=100, n_estimators=500, objective=binary:logistic\n",
      "[CV 5/5; 104/108] END gamma=15, learning_rate=0.01, max_depth=100, n_estimators=500, objective=binary:logistic;, score=0.843 total time=   0.3s\n",
      "[CV 1/5; 105/108] START gamma=15, learning_rate=0.01, max_depth=100, n_estimators=1000, objective=binary:logitraw\n",
      "[CV 1/5; 105/108] END gamma=15, learning_rate=0.01, max_depth=100, n_estimators=1000, objective=binary:logitraw;, score=0.615 total time=   0.5s\n",
      "[CV 2/5; 105/108] START gamma=15, learning_rate=0.01, max_depth=100, n_estimators=1000, objective=binary:logitraw\n",
      "[CV 2/5; 105/108] END gamma=15, learning_rate=0.01, max_depth=100, n_estimators=1000, objective=binary:logitraw;, score=0.750 total time=   0.5s\n",
      "[CV 3/5; 105/108] START gamma=15, learning_rate=0.01, max_depth=100, n_estimators=1000, objective=binary:logitraw\n",
      "[CV 3/5; 105/108] END gamma=15, learning_rate=0.01, max_depth=100, n_estimators=1000, objective=binary:logitraw;, score=0.745 total time=   0.5s\n",
      "[CV 4/5; 105/108] START gamma=15, learning_rate=0.01, max_depth=100, n_estimators=1000, objective=binary:logitraw\n",
      "[CV 4/5; 105/108] END gamma=15, learning_rate=0.01, max_depth=100, n_estimators=1000, objective=binary:logitraw;, score=0.804 total time=   0.5s\n",
      "[CV 5/5; 105/108] START gamma=15, learning_rate=0.01, max_depth=100, n_estimators=1000, objective=binary:logitraw\n",
      "[CV 5/5; 105/108] END gamma=15, learning_rate=0.01, max_depth=100, n_estimators=1000, objective=binary:logitraw;, score=0.804 total time=   0.5s\n",
      "[CV 1/5; 106/108] START gamma=15, learning_rate=0.01, max_depth=100, n_estimators=1000, objective=binary:logistic\n",
      "[CV 1/5; 106/108] END gamma=15, learning_rate=0.01, max_depth=100, n_estimators=1000, objective=binary:logistic;, score=0.788 total time=   0.5s\n",
      "[CV 2/5; 106/108] START gamma=15, learning_rate=0.01, max_depth=100, n_estimators=1000, objective=binary:logistic\n",
      "[CV 2/5; 106/108] END gamma=15, learning_rate=0.01, max_depth=100, n_estimators=1000, objective=binary:logistic;, score=0.769 total time=   0.5s\n",
      "[CV 3/5; 106/108] START gamma=15, learning_rate=0.01, max_depth=100, n_estimators=1000, objective=binary:logistic\n",
      "[CV 3/5; 106/108] END gamma=15, learning_rate=0.01, max_depth=100, n_estimators=1000, objective=binary:logistic;, score=0.804 total time=   0.5s\n",
      "[CV 4/5; 106/108] START gamma=15, learning_rate=0.01, max_depth=100, n_estimators=1000, objective=binary:logistic\n",
      "[CV 4/5; 106/108] END gamma=15, learning_rate=0.01, max_depth=100, n_estimators=1000, objective=binary:logistic;, score=0.902 total time=   0.5s\n",
      "[CV 5/5; 106/108] START gamma=15, learning_rate=0.01, max_depth=100, n_estimators=1000, objective=binary:logistic\n",
      "[CV 5/5; 106/108] END gamma=15, learning_rate=0.01, max_depth=100, n_estimators=1000, objective=binary:logistic;, score=0.843 total time=   0.5s\n",
      "[CV 1/5; 107/108] START gamma=15, learning_rate=0.01, max_depth=100, n_estimators=2000, objective=binary:logitraw\n",
      "[CV 1/5; 107/108] END gamma=15, learning_rate=0.01, max_depth=100, n_estimators=2000, objective=binary:logitraw;, score=0.615 total time=   1.3s\n",
      "[CV 2/5; 107/108] START gamma=15, learning_rate=0.01, max_depth=100, n_estimators=2000, objective=binary:logitraw\n",
      "[CV 2/5; 107/108] END gamma=15, learning_rate=0.01, max_depth=100, n_estimators=2000, objective=binary:logitraw;, score=0.750 total time=   0.9s\n",
      "[CV 3/5; 107/108] START gamma=15, learning_rate=0.01, max_depth=100, n_estimators=2000, objective=binary:logitraw\n",
      "[CV 3/5; 107/108] END gamma=15, learning_rate=0.01, max_depth=100, n_estimators=2000, objective=binary:logitraw;, score=0.745 total time=   0.9s\n",
      "[CV 4/5; 107/108] START gamma=15, learning_rate=0.01, max_depth=100, n_estimators=2000, objective=binary:logitraw\n",
      "[CV 4/5; 107/108] END gamma=15, learning_rate=0.01, max_depth=100, n_estimators=2000, objective=binary:logitraw;, score=0.804 total time=   0.9s\n",
      "[CV 5/5; 107/108] START gamma=15, learning_rate=0.01, max_depth=100, n_estimators=2000, objective=binary:logitraw\n",
      "[CV 5/5; 107/108] END gamma=15, learning_rate=0.01, max_depth=100, n_estimators=2000, objective=binary:logitraw;, score=0.804 total time=   0.9s\n",
      "[CV 1/5; 108/108] START gamma=15, learning_rate=0.01, max_depth=100, n_estimators=2000, objective=binary:logistic\n",
      "[CV 1/5; 108/108] END gamma=15, learning_rate=0.01, max_depth=100, n_estimators=2000, objective=binary:logistic;, score=0.788 total time=   0.9s\n",
      "[CV 2/5; 108/108] START gamma=15, learning_rate=0.01, max_depth=100, n_estimators=2000, objective=binary:logistic\n",
      "[CV 2/5; 108/108] END gamma=15, learning_rate=0.01, max_depth=100, n_estimators=2000, objective=binary:logistic;, score=0.769 total time=   0.9s\n",
      "[CV 3/5; 108/108] START gamma=15, learning_rate=0.01, max_depth=100, n_estimators=2000, objective=binary:logistic\n",
      "[CV 3/5; 108/108] END gamma=15, learning_rate=0.01, max_depth=100, n_estimators=2000, objective=binary:logistic;, score=0.804 total time=   0.9s\n",
      "[CV 4/5; 108/108] START gamma=15, learning_rate=0.01, max_depth=100, n_estimators=2000, objective=binary:logistic\n",
      "[CV 4/5; 108/108] END gamma=15, learning_rate=0.01, max_depth=100, n_estimators=2000, objective=binary:logistic;, score=0.902 total time=   0.9s\n",
      "[CV 5/5; 108/108] START gamma=15, learning_rate=0.01, max_depth=100, n_estimators=2000, objective=binary:logistic\n",
      "[CV 5/5; 108/108] END gamma=15, learning_rate=0.01, max_depth=100, n_estimators=2000, objective=binary:logistic;, score=0.843 total time=   0.9s\n"
     ]
    }
   ],
   "source": [
    "### Combine GridSearchCV with Xgboost\n",
    "\n",
    "from sklearn.model_selection import GridSearchCV, train_test_split\n",
    "import xgboost as xgb\n",
    "import numpy as np\n",
    "\n",
    "np.random.seed(42)\n",
    "\n",
    "# Another hyperparameter grid similar to rs_clf.best_params_\n",
    "grid_3 = {'n_estimators': [500, 1000, 2000],\n",
    "          'max_depth': [10, 50, 100],\n",
    "          'objective': ['binary:logitraw', 'binary:logistic'],\n",
    "          'learning_rate': [0.1, 0.01],\n",
    "          'gamma': [5, 10, 15]}\n",
    "\n",
    "# # Split into X & y\n",
    "# X = heart_disease.drop(\"target\", axis=1)\n",
    "# y = heart_disease[\"target\"]\n",
    "\n",
    "# # Split into train and test sets\n",
    "# X_train, X_test, y_train, y_test = train_test_split(X, y, test_size=0.15)\n",
    "\n",
    "# Set n_jobs to -1 to use all cores \n",
    "reg = xgb.XGBClassifier(base_score=0.7, booster='gbtree',tree_method = \"hist\", device = \"cuda\", n_jobs=-1)\n",
    "\n",
    "# Setup GridSearchCV\n",
    "Xg_clf = GridSearchCV(estimator=reg,\n",
    "                      param_grid=grid_3,\n",
    "                      cv=5, # 5-fold cross-validation\n",
    "                      verbose=100) # print out progress\n",
    "\n",
    "# Fit the RandomizedSearchCV version of clf\n",
    "Xg_clf.fit(X_train, y_train);"
   ]
  },
  {
   "cell_type": "code",
   "execution_count": 186,
   "id": "9dd8a47a-f7a8-4f43-84cc-f2b83a022cdb",
   "metadata": {},
   "outputs": [
    {
     "data": {
      "text/plain": [
       "{'gamma': 5,\n",
       " 'learning_rate': 0.1,\n",
       " 'max_depth': 10,\n",
       " 'n_estimators': 500,\n",
       " 'objective': 'binary:logistic'}"
      ]
     },
     "execution_count": 186,
     "metadata": {},
     "output_type": "execute_result"
    }
   ],
   "source": [
    "# Check the best hyperparameters found with GridSearchCV\n",
    "Xg_clf.best_params_"
   ]
  },
  {
   "cell_type": "code",
   "execution_count": 187,
   "id": "ef760ebb-a757-42b3-a839-bec354725fc7",
   "metadata": {
    "tags": []
   },
   "outputs": [
    {
     "name": "stdout",
     "output_type": "stream",
     "text": [
      "Acc: 84.78%\n",
      "Precision: 0.88\n",
      "Recall: 0.85\n",
      "F1 score: 0.87\n"
     ]
    }
   ],
   "source": [
    "# Max predictions with the GridSearchCV classifier\n",
    "Xg_y_preds = Xg_clf.predict(X_test)\n",
    "\n",
    "# Evaluate the predictions\n",
    "Xg_metrics = evaluate_preds(y_test, Xg_y_preds)"
   ]
  },
  {
   "cell_type": "code",
   "execution_count": 188,
   "id": "4a4e064c-c930-4327-8954-312f95c0d3a8",
   "metadata": {
    "tags": []
   },
   "outputs": [
    {
     "data": {
      "image/png": "[encoded data removed]",
      "text/plain": [
       "<Figure size 1300x900 with 1 Axes>"
      ]
     },
     "metadata": {},
     "output_type": "display_data"
    }
   ],
   "source": [
    "compare_metrics = pd.DataFrame({\"baseline\": baseline_metrics,\n",
    "                                \"clf_2\": clf_2_metrics,\n",
    "                                \"random search\": rs_metrics,\n",
    "                                \"grid search\": gs_metrics,\n",
    "                               \"XGboost grid search\": Xg_metrics})\n",
    "compare_metrics.plot.bar(figsize=(13, 9));"
   ]
  },
  {
   "cell_type": "markdown",
   "id": "ee465de2-d8d3-44b7-9d2e-8ff97c87dc13",
   "metadata": {
    "tags": []
   },
   "source": [
    "Now you've got a somewhat tuned Random Forest model, the next thing you might want to do is export it and save it so you could share it with your team or use it in an application without having to retrain it."
   ]
  },
  {
   "cell_type": "markdown",
   "id": "dad47746-e0d3-44c6-8ec9-a8de58b9b661",
   "metadata": {
    "tags": []
   },
   "source": [
    "## 6. Saving and loading trained machine learning models\n",
    "\n",
    "Since our `GridSearchCV` model has the best results so far, we'll export it and save it to file.\n",
    "\n",
    "### 6.1 Saving and loading a model with [`pickle`](https://docs.python.org/3/library/pickle.html)\n",
    "\n",
    "We saw right at the start, one way to save a model is using Python's [`pickle` module](https://docs.python.org/3/library/pickle.html).\n",
    "\n",
    "We'll use `pickle`'s `dump()` function and pass it our model, `gs_clf`, along with the `open()` function containing a string for the filename we want to save our model as, along with the `\"wb\"` string which stands for \"write binary\", which is the file type `open()` will write our model as."
   ]
  },
  {
   "cell_type": "code",
   "execution_count": 189,
   "id": "8c38e22d-7547-4b7d-b618-79da87b2a2ed",
   "metadata": {
    "tags": []
   },
   "outputs": [],
   "source": [
    "import pickle\n",
    "\n",
    "# Save an existing model to file\n",
    "pickle.dump(Xg_clf, open(\"gs_xgboost_model_1.pkl\", \"wb\"))\n",
    "pickle.dump(gs_clf, open(\"gs_random_forest_model_1.pkl\", \"wb\"))"
   ]
  },
  {
   "cell_type": "markdown",
   "id": "e7b97f70-8299-450e-8f30-ea82ce614818",
   "metadata": {
    "tags": []
   },
   "source": [
    "Once it's saved, we can import it using `pickle`'s `load()` function, passing it `open()` containing the filename as a string and `\"rb\"` standing for \"read binary\"."
   ]
  },
  {
   "cell_type": "code",
   "execution_count": 190,
   "id": "6f1378d0-89e1-4141-96e8-d5ef210ac8ef",
   "metadata": {
    "tags": []
   },
   "outputs": [],
   "source": [
    "import pickle\n",
    "# Load a saved model\n",
    "loaded_pickle_model = pickle.load(open(\"gs_xgboost_model_1.pkl\", \"rb\"))"
   ]
  },
  {
   "cell_type": "code",
   "execution_count": 191,
   "id": "3996b4d0-4606-4097-b296-a604a0225ab1",
   "metadata": {
    "tags": []
   },
   "outputs": [
    {
     "name": "stdout",
     "output_type": "stream",
     "text": [
      "Acc: 84.78%\n",
      "Precision: 0.88\n",
      "Recall: 0.85\n",
      "F1 score: 0.87\n"
     ]
    },
    {
     "data": {
      "text/plain": [
       "{'accuracy': 0.85, 'precision': 0.88, 'recall': 0.85, 'f1': 0.87}"
      ]
     },
     "execution_count": 191,
     "metadata": {},
     "output_type": "execute_result"
    }
   ],
   "source": [
    "# Make predictions and evaluate the loaded model\n",
    "pickle_y_preds = loaded_pickle_model.predict(X_test)\n",
    "evaluate_preds(y_test, pickle_y_preds)"
   ]
  },
  {
   "cell_type": "markdown",
   "id": "b0be85c8-1d9b-4529-b9e5-6e696018e45d",
   "metadata": {},
   "source": [
    "You'll notice the reimported model evaluation metrics are the same as the model before we exported it.\n",
    "\n",
    "### 6.2 Saving and loading a model with [`joblib`](https://joblib.readthedocs.io/en/latest/persistence.html)\n",
    "\n",
    "The other way to load and save models is with `joblib`. Which works relatively the same as `pickle`.\n",
    "\n",
    "To save a model, we can use `joblib`'s `dump()` function, passing it the model (`gs_clf`) and the desired filename."
   ]
  },
  {
   "cell_type": "code",
   "execution_count": 192,
   "id": "6a3b2a1b-6dc9-4b76-b74f-ac40294fec16",
   "metadata": {
    "tags": []
   },
   "outputs": [
    {
     "data": {
      "text/plain": [
       "['gs_random_forest_model_1.joblib']"
      ]
     },
     "execution_count": 192,
     "metadata": {},
     "output_type": "execute_result"
    }
   ],
   "source": [
    "from joblib import dump, load\n",
    "\n",
    "# Save a model to file\n",
    "dump(Xg_clf, filename=\"gs_xgboost_model_1.joblib\") \n",
    "dump(gs_clf, filename=\"gs_random_forest_model_1.joblib\") "
   ]
  },
  {
   "cell_type": "markdown",
   "id": "19d902d7-ba2b-4e87-94ea-71af0d4071c0",
   "metadata": {},
   "source": [
    "Once you've saved a model using `dump()`, you can import it using `load()` and passing it the filename of the model."
   ]
  },
  {
   "cell_type": "code",
   "execution_count": 193,
   "id": "3428b706-8407-4ca9-8ad4-857dbef98790",
   "metadata": {
    "tags": []
   },
   "outputs": [],
   "source": [
    "# Import a saved joblib model\n",
    "loaded_joblib_model = load(filename=\"gs_xgboost_model_1.joblib\")"
   ]
  },
  {
   "cell_type": "markdown",
   "id": "d1b2a818-0b59-47ec-adb8-e4acd26162a3",
   "metadata": {},
   "source": [
    "Again, once imported, we can make predictions with our model."
   ]
  },
  {
   "cell_type": "code",
   "execution_count": 194,
   "id": "7e3f6d2f-b10d-4f94-95cb-db6bf45b5d5e",
   "metadata": {
    "tags": []
   },
   "outputs": [
    {
     "name": "stdout",
     "output_type": "stream",
     "text": [
      "Acc: 84.78%\n",
      "Precision: 0.88\n",
      "Recall: 0.85\n",
      "F1 score: 0.87\n"
     ]
    },
    {
     "data": {
      "text/plain": [
       "{'accuracy': 0.85, 'precision': 0.88, 'recall': 0.85, 'f1': 0.87}"
      ]
     },
     "execution_count": 194,
     "metadata": {},
     "output_type": "execute_result"
    }
   ],
   "source": [
    "# Make and evaluate joblib predictions \n",
    "joblib_y_preds = loaded_joblib_model.predict(X_test)\n",
    "evaluate_preds(y_test, joblib_y_preds)"
   ]
  },
  {
   "cell_type": "markdown",
   "id": "20bcb75a-c28b-4887-b1f1-d094c38e1e2e",
   "metadata": {},
   "source": [
    "You'll notice the evaluation metrics are the same as before.\n",
    "\n",
    "Which one should you use, `pickle` or `joblib`?\n",
    "\n",
    "According to [Scikit-Learn's documentation](https://scikit-learn.org/stable/modules/model_persistence.html), they suggest it may be more efficient to use `joblib` as it's more efficient with large numpy array (which is what may be contained in trained/fitted Scikit-Learn models).\n",
    "\n",
    "Either way, they both function fairly similar so deciding on which one to use, shouldn't cause too much of an issue."
   ]
  },
  {
   "cell_type": "markdown",
   "id": "44fd9cd4-bb49-44aa-a69b-357387a4f7a6",
   "metadata": {},
   "source": [
    "## 7. Revisit the pipeline one more time, knowing what we know now\n",
    "\n",
    "We've covered a lot. And so far, it seems to be all over the place, which it is. But not to worry, machine learning projects often start out like this. A whole bunch of experimenting and code all over the place at the start and then once you've found something which works, the refinement process begins.\n",
    "\n",
    "What would this refinement process look like?\n",
    "\n",
    "We'll use the car sales regression problem (predicting the sale price of cars) as an example.\n",
    "\n",
    "To tidy things up, we'll be using Scikit-Learn's [`Pipeline`](https://scikit-learn.org/stable/modules/generated/sklearn.pipeline.Pipeline.html) class. You can imagine `Pipeline` as being a way to string a number of different Scikit-Learn processes together."
   ]
  },
  {
   "cell_type": "markdown",
   "id": "bc9d53b0-1bb4-4366-8f4e-259c4069e437",
   "metadata": {},
   "source": [
    "### 7.1 Creating a regression [`Pipeline`](https://scikit-learn.org/stable/modules/generated/sklearn.pipeline.Pipeline.html)\n",
    "You might recall when, way back in Section 2: Getting Data Ready, we dealt with the car sales data, to build a regression model on it, we had to encode the categorical features into numbers and fill the missing data.\n",
    "\n",
    "The code we used worked, but it was a bit all over the place. Good news is, `Pipeline` can help us clean it up.\n",
    "\n",
    "Let's remind ourselves what the data looks like."
   ]
  },
  {
   "cell_type": "code",
   "execution_count": 195,
   "id": "e5b49481-182a-4fdd-814b-bd4e6ff2e51e",
   "metadata": {},
   "outputs": [
    {
     "data": {
      "text/html": [
       "<div>\n",
       "<style scoped>\n",
       "    .dataframe tbody tr th:only-of-type {\n",
       "        vertical-align: middle;\n",
       "    }\n",
       "\n",
       "    .dataframe tbody tr th {\n",
       "        vertical-align: top;\n",
       "    }\n",
       "\n",
       "    .dataframe thead th {\n",
       "        text-align: right;\n",
       "    }\n",
       "</style>\n",
       "<table border=\"1\" class=\"dataframe\">\n",
       "  <thead>\n",
       "    <tr style=\"text-align: right;\">\n",
       "      <th></th>\n",
       "      <th>Make</th>\n",
       "      <th>Colour</th>\n",
       "      <th>Odometer (KM)</th>\n",
       "      <th>Doors</th>\n",
       "      <th>Price</th>\n",
       "    </tr>\n",
       "  </thead>\n",
       "  <tbody>\n",
       "    <tr>\n",
       "      <th>0</th>\n",
       "      <td>Honda</td>\n",
       "      <td>White</td>\n",
       "      <td>35431.0</td>\n",
       "      <td>4.0</td>\n",
       "      <td>15323.0</td>\n",
       "    </tr>\n",
       "    <tr>\n",
       "      <th>1</th>\n",
       "      <td>BMW</td>\n",
       "      <td>Blue</td>\n",
       "      <td>192714.0</td>\n",
       "      <td>5.0</td>\n",
       "      <td>19943.0</td>\n",
       "    </tr>\n",
       "    <tr>\n",
       "      <th>2</th>\n",
       "      <td>Honda</td>\n",
       "      <td>White</td>\n",
       "      <td>84714.0</td>\n",
       "      <td>4.0</td>\n",
       "      <td>28343.0</td>\n",
       "    </tr>\n",
       "    <tr>\n",
       "      <th>3</th>\n",
       "      <td>Toyota</td>\n",
       "      <td>White</td>\n",
       "      <td>154365.0</td>\n",
       "      <td>4.0</td>\n",
       "      <td>13434.0</td>\n",
       "    </tr>\n",
       "    <tr>\n",
       "      <th>4</th>\n",
       "      <td>Nissan</td>\n",
       "      <td>Blue</td>\n",
       "      <td>181577.0</td>\n",
       "      <td>3.0</td>\n",
       "      <td>14043.0</td>\n",
       "    </tr>\n",
       "    <tr>\n",
       "      <th>...</th>\n",
       "      <td>...</td>\n",
       "      <td>...</td>\n",
       "      <td>...</td>\n",
       "      <td>...</td>\n",
       "      <td>...</td>\n",
       "    </tr>\n",
       "    <tr>\n",
       "      <th>995</th>\n",
       "      <td>Toyota</td>\n",
       "      <td>Black</td>\n",
       "      <td>35820.0</td>\n",
       "      <td>4.0</td>\n",
       "      <td>32042.0</td>\n",
       "    </tr>\n",
       "    <tr>\n",
       "      <th>996</th>\n",
       "      <td>NaN</td>\n",
       "      <td>White</td>\n",
       "      <td>155144.0</td>\n",
       "      <td>3.0</td>\n",
       "      <td>5716.0</td>\n",
       "    </tr>\n",
       "    <tr>\n",
       "      <th>997</th>\n",
       "      <td>Nissan</td>\n",
       "      <td>Blue</td>\n",
       "      <td>66604.0</td>\n",
       "      <td>4.0</td>\n",
       "      <td>31570.0</td>\n",
       "    </tr>\n",
       "    <tr>\n",
       "      <th>998</th>\n",
       "      <td>Honda</td>\n",
       "      <td>White</td>\n",
       "      <td>215883.0</td>\n",
       "      <td>4.0</td>\n",
       "      <td>4001.0</td>\n",
       "    </tr>\n",
       "    <tr>\n",
       "      <th>999</th>\n",
       "      <td>Toyota</td>\n",
       "      <td>Blue</td>\n",
       "      <td>248360.0</td>\n",
       "      <td>4.0</td>\n",
       "      <td>12732.0</td>\n",
       "    </tr>\n",
       "  </tbody>\n",
       "</table>\n",
       "<p>1000 rows × 5 columns</p>\n",
       "</div>"
      ],
      "text/plain": [
       "       Make Colour  Odometer (KM)  Doors    Price\n",
       "0     Honda  White        35431.0    4.0  15323.0\n",
       "1       BMW   Blue       192714.0    5.0  19943.0\n",
       "2     Honda  White        84714.0    4.0  28343.0\n",
       "3    Toyota  White       154365.0    4.0  13434.0\n",
       "4    Nissan   Blue       181577.0    3.0  14043.0\n",
       "..      ...    ...            ...    ...      ...\n",
       "995  Toyota  Black        35820.0    4.0  32042.0\n",
       "996     NaN  White       155144.0    3.0   5716.0\n",
       "997  Nissan   Blue        66604.0    4.0  31570.0\n",
       "998   Honda  White       215883.0    4.0   4001.0\n",
       "999  Toyota   Blue       248360.0    4.0  12732.0\n",
       "\n",
       "[1000 rows x 5 columns]"
      ]
     },
     "execution_count": 195,
     "metadata": {},
     "output_type": "execute_result"
    }
   ],
   "source": [
    "data = pd.read_csv(\"data/car-sales-extended-missing-data.csv\")\n",
    "data"
   ]
  },
  {
   "cell_type": "code",
   "execution_count": 196,
   "id": "ac41def7-7036-4f9a-a74f-2a0f50501cc9",
   "metadata": {},
   "outputs": [
    {
     "data": {
      "text/plain": [
       "Make              object\n",
       "Colour            object\n",
       "Odometer (KM)    float64\n",
       "Doors            float64\n",
       "Price            float64\n",
       "dtype: object"
      ]
     },
     "execution_count": 196,
     "metadata": {},
     "output_type": "execute_result"
    }
   ],
   "source": [
    "data.dtypes"
   ]
  },
  {
   "cell_type": "code",
   "execution_count": 197,
   "id": "b58d82ab-9a1a-46e1-80d8-098acff2d2e0",
   "metadata": {},
   "outputs": [
    {
     "data": {
      "text/plain": [
       "Make             49\n",
       "Colour           50\n",
       "Odometer (KM)    50\n",
       "Doors            50\n",
       "Price            50\n",
       "dtype: int64"
      ]
     },
     "execution_count": 197,
     "metadata": {},
     "output_type": "execute_result"
    }
   ],
   "source": [
    "data.isna().sum()"
   ]
  },
  {
   "cell_type": "markdown",
   "id": "fb8ff878-306f-4f0d-bb18-90cd4378dd00",
   "metadata": {},
   "source": [
    "There's 1000 rows, three features are categorical (`Make`, `Colour`, `Doors`), the other two are numerical (`Odometer (KM)`, `Price`) and there's 249 missing values.\n",
    "\n",
    "We're going to have to turn the categorical features into numbers and fill the missing values before we can fit a model.\n",
    "\n",
    "We'll build a [`Pipeline()`](https://scikit-learn.org/stable/modules/generated/sklearn.pipeline.Pipeline.html) to do so.\n",
    "\n",
    "`Pipeline()`'s main input is `steps` which is a list (`[(step_name, action_to_take)]`) of the step name, plus the action you'd like it to perform.\n",
    "\n",
    "In our case, you could think of the steps as:\n",
    "1. Fill missing data\n",
    "2. Convert data to numbers\n",
    "3. Build a model on the data\n",
    "\n",
    "Let's do it."
   ]
  },
  {
   "cell_type": "code",
   "execution_count": 198,
   "id": "867bf649-875d-40a1-8590-dcada800d6eb",
   "metadata": {},
   "outputs": [
    {
     "data": {
      "text/plain": [
       "0.22188417408787875"
      ]
     },
     "execution_count": 198,
     "metadata": {},
     "output_type": "execute_result"
    }
   ],
   "source": [
    "# Getting data ready\n",
    "import pandas as pd\n",
    "from sklearn.compose import ColumnTransformer\n",
    "from sklearn.pipeline import Pipeline\n",
    "from sklearn.impute import SimpleImputer\n",
    "from sklearn.preprocessing import OneHotEncoder\n",
    "\n",
    "# Modelling\n",
    "from sklearn.ensemble import RandomForestRegressor\n",
    "from sklearn.model_selection import train_test_split, GridSearchCV\n",
    "\n",
    "# Setup random seed\n",
    "import numpy as np\n",
    "np.random.seed(42)\n",
    "\n",
    "# Import data and drop the rows with missing labels\n",
    "data = pd.read_csv(\"data/car-sales-extended-missing-data.csv\")\n",
    "data.dropna(subset=[\"Price\"], inplace=True)\n",
    "\n",
    "# Define different features and transformer pipelines\n",
    "categorical_features = [\"Make\", \"Colour\"]\n",
    "categorical_transformer = Pipeline(steps=[\n",
    "    (\"imputer\", SimpleImputer(strategy=\"constant\", fill_value=\"missing\")),\n",
    "    (\"onehot\", OneHotEncoder(handle_unknown=\"ignore\"))])\n",
    "\n",
    "door_feature = [\"Doors\"]\n",
    "door_transformer = Pipeline(steps=[\n",
    "    (\"imputer\", SimpleImputer(strategy=\"constant\", fill_value=4))])\n",
    "\n",
    "numeric_features = [\"Odometer (KM)\"]\n",
    "numeric_transformer = Pipeline(steps=[\n",
    "    (\"imputer\", SimpleImputer(strategy=\"mean\")),\n",
    "    (\"scaler\", MinMaxScaler())])  # Add MinMaxScaler step\n",
    "\n",
    "# Setup preprocessing steps (fill missing values, then convert to numbers)\n",
    "preprocessor = ColumnTransformer(\n",
    "    transformers=[\n",
    "        (\"cat\", categorical_transformer, categorical_features),\n",
    "        (\"door\", door_transformer, door_feature),\n",
    "        (\"num\", numeric_transformer, numeric_features)])\n",
    "\n",
    "# Create a preprocessing and modelling pipeline\n",
    "model = Pipeline(steps=[(\"preprocessor\", preprocessor),\n",
    "                        (\"model\", RandomForestRegressor())])\n",
    "\n",
    "# Split data\n",
    "X = data.drop(\"Price\", axis=1)\n",
    "y = data[\"Price\"]\n",
    "X_train, X_test, y_train, y_test = train_test_split(X, y, test_size=0.2)\n",
    "\n",
    "# Fit and score the model\n",
    "model.fit(X_train, y_train)\n",
    "model.score(X_test, y_test)"
   ]
  },
  {
   "cell_type": "markdown",
   "id": "4ab1d315-4ff7-4096-8e08-350bb43b789b",
   "metadata": {},
   "source": [
    "What we've done is combine a series of data preprocessing steps (filling missing values, encoding numerical values) as well as a model into a `Pipeline()`.\n",
    "\n",
    "Doing so not only cleans up the code, it ensures the same steps are taken every time the code is run rather than having multiple different processing steps happening in different stages."
   ]
  },
  {
   "cell_type": "code",
   "execution_count": 199,
   "id": "eb2c5e7e-8ca5-49b5-a982-cff7412351d0",
   "metadata": {
    "tags": []
   },
   "outputs": [],
   "source": [
    "# Import Ridge from sklearn's linear_model module\n",
    "from sklearn.linear_model import Ridge\n",
    "# Import SVR from sklearn's svm module\n",
    "from sklearn.svm import SVR\n",
    "# Import RandomForestRegressor from sklearn's ensemble module\n",
    "from sklearn.ensemble import RandomForestRegressor\n",
    "import xgboost as xgb\n",
    "from sklearn.linear_model import BayesianRidge\n",
    "from sklearn.linear_model import LassoLars\n",
    "\n",
    "regression_models = {\"Ridge\": Ridge(),\n",
    "                     \"Bayesian_linear\": BayesianRidge(),\n",
    "                     \"Lasso_linear\": LassoLars(),\n",
    "                     \"XGboost\": xgb.XGBRegressor(base_score=0.5, booster='gbtree', tree_method = \"hist\", device = \"cuda\", n_jobs=-1,n_estimators=1000,objective='reg:squarederror',learning_rate=0.01),\n",
    "                     \"RandomForestRegressor\": RandomForestRegressor()}\n",
    "\n",
    "\n",
    "# Create an empty dictionary for the regression results\n",
    "regression_results = {}\n",
    "regression_results_cv = {}"
   ]
  },
  {
   "cell_type": "code",
   "execution_count": 200,
   "id": "5735a1dc-6962-4557-a9cd-52f71d18a81d",
   "metadata": {
    "tags": []
   },
   "outputs": [
    {
     "name": "stdout",
     "output_type": "stream",
     "text": [
      "Fitting and Scoring CV Ridge...\n",
      "Fitting and Scoring CV Bayesian_linear...\n",
      "Fitting and Scoring CV Lasso_linear...\n",
      "Fitting and Scoring CV XGboost...\n",
      "Fitting and Scoring CV RandomForestRegressor...\n"
     ]
    }
   ],
   "source": [
    "np.random.seed(42)\n",
    "\n",
    "# Loop through the items in the regression_models dictionary\n",
    "for model_name, model in regression_models.items():\n",
    "    \n",
    "    # Create a model pipeline with a preprocessor step and model step\n",
    "    model_pipeline = Pipeline(steps=[(\"preprocessor\", preprocessor),\n",
    "                                      (\"model\", model)])\n",
    "    \n",
    "    print(f\"Fitting and Scoring CV {model_name}...\")\n",
    "    regression_results_cv[model_name] = np.mean(cross_val_score(model_pipeline, \n",
    "            X_train, \n",
    "            y_train, \n",
    "            cv=5))\n",
    "    \n",
    "    # # Fit the model pipeline to the car sales training data\n",
    "    # print(f\"Fitting {model_name}...\")\n",
    "    # model_pipeline.fit(X_train, y_train)\n",
    "    # # Score the model pipeline on the test data appending the model_name to the \n",
    "    # # results dictionary\n",
    "    # print(f\"Scoring {model_name}...\")\n",
    "    # regression_results[model_name] = model_pipeline.score(X_test, \n",
    "    #                                                   y_test)"
   ]
  },
  {
   "cell_type": "code",
   "execution_count": 201,
   "id": "8708b319-8f5a-4d1c-99fd-532a6e68b1a5",
   "metadata": {
    "tags": []
   },
   "outputs": [
    {
     "data": {
      "text/plain": [
       "{'Ridge': 0.320924383174604,\n",
       " 'Bayesian_linear': 0.3214516025053197,\n",
       " 'Lasso_linear': 0.320240352791115,\n",
       " 'XGboost': 0.23322793484707516,\n",
       " 'RandomForestRegressor': 0.22937121810749997}"
      ]
     },
     "execution_count": 201,
     "metadata": {},
     "output_type": "execute_result"
    }
   ],
   "source": [
    "regression_results_cv"
   ]
  },
  {
   "cell_type": "markdown",
   "id": "cc3c1387-377b-4552-bdae-5309a6431022",
   "metadata": {},
   "source": [
    "\n",
    "\n",
    "It's also possible to `GridSearchCV` or `RandomizedSearchCV` with a `Pipeline`.\n",
    "\n",
    "The main difference is when creating a hyperparameter grid, you have to add a prefix to each hyperparameter.\n",
    "\n",
    "The prefix is the name of the `Pipeline` step you'd like to alter, followed by two underscores.\n",
    "\n",
    "For example, to adjust `n_estimators` of `\"model\"` in the `Pipeline`, you'd use: `\"model__n_estimators\"`.\n",
    "\n",
    "Let's see it."
   ]
  },
  {
   "cell_type": "code",
   "execution_count": 202,
   "id": "50a6f9a9-12be-4138-866c-bb64b645ed72",
   "metadata": {
    "tags": []
   },
   "outputs": [
    {
     "data": {
      "text/html": [
       "<style>#sk-container-id-5 {color: black;background-color: white;}#sk-container-id-5 pre{padding: 0;}#sk-container-id-5 div.sk-toggleable {background-color: white;}#sk-container-id-5 label.sk-toggleable__label {cursor: pointer;display: block;width: 100%;margin-bottom: 0;padding: 0.3em;box-sizing: border-box;text-align: center;}#sk-container-id-5 label.sk-toggleable__label-arrow:before {content: \"▸\";float: left;margin-right: 0.25em;color: #696969;}#sk-container-id-5 label.sk-toggleable__label-arrow:hover:before {color: black;}#sk-container-id-5 div.sk-estimator:hover label.sk-toggleable__label-arrow:before {color: black;}#sk-container-id-5 div.sk-toggleable__content {max-height: 0;max-width: 0;overflow: hidden;text-align: left;background-color: #f0f8ff;}#sk-container-id-5 div.sk-toggleable__content pre {margin: 0.2em;color: black;border-radius: 0.25em;background-color: #f0f8ff;}#sk-container-id-5 input.sk-toggleable__control:checked~div.sk-toggleable__content {max-height: 200px;max-width: 100%;overflow: auto;}#sk-container-id-5 input.sk-toggleable__control:checked~label.sk-toggleable__label-arrow:before {content: \"▾\";}#sk-container-id-5 div.sk-estimator input.sk-toggleable__control:checked~label.sk-toggleable__label {background-color: #d4ebff;}#sk-container-id-5 div.sk-label input.sk-toggleable__control:checked~label.sk-toggleable__label {background-color: #d4ebff;}#sk-container-id-5 input.sk-hidden--visually {border: 0;clip: rect(1px 1px 1px 1px);clip: rect(1px, 1px, 1px, 1px);height: 1px;margin: -1px;overflow: hidden;padding: 0;position: absolute;width: 1px;}#sk-container-id-5 div.sk-estimator {font-family: monospace;background-color: #f0f8ff;border: 1px dotted black;border-radius: 0.25em;box-sizing: border-box;margin-bottom: 0.5em;}#sk-container-id-5 div.sk-estimator:hover {background-color: #d4ebff;}#sk-container-id-5 div.sk-parallel-item::after {content: \"\";width: 100%;border-bottom: 1px solid gray;flex-grow: 1;}#sk-container-id-5 div.sk-label:hover label.sk-toggleable__label {background-color: #d4ebff;}#sk-container-id-5 div.sk-serial::before {content: \"\";position: absolute;border-left: 1px solid gray;box-sizing: border-box;top: 0;bottom: 0;left: 50%;z-index: 0;}#sk-container-id-5 div.sk-serial {display: flex;flex-direction: column;align-items: center;background-color: white;padding-right: 0.2em;padding-left: 0.2em;position: relative;}#sk-container-id-5 div.sk-item {position: relative;z-index: 1;}#sk-container-id-5 div.sk-parallel {display: flex;align-items: stretch;justify-content: center;background-color: white;position: relative;}#sk-container-id-5 div.sk-item::before, #sk-container-id-5 div.sk-parallel-item::before {content: \"\";position: absolute;border-left: 1px solid gray;box-sizing: border-box;top: 0;bottom: 0;left: 50%;z-index: -1;}#sk-container-id-5 div.sk-parallel-item {display: flex;flex-direction: column;z-index: 1;position: relative;background-color: white;}#sk-container-id-5 div.sk-parallel-item:first-child::after {align-self: flex-end;width: 50%;}#sk-container-id-5 div.sk-parallel-item:last-child::after {align-self: flex-start;width: 50%;}#sk-container-id-5 div.sk-parallel-item:only-child::after {width: 0;}#sk-container-id-5 div.sk-dashed-wrapped {border: 1px dashed gray;margin: 0 0.4em 0.5em 0.4em;box-sizing: border-box;padding-bottom: 0.4em;background-color: white;}#sk-container-id-5 div.sk-label label {font-family: monospace;font-weight: bold;display: inline-block;line-height: 1.2em;}#sk-container-id-5 div.sk-label-container {text-align: center;}#sk-container-id-5 div.sk-container {/* jupyter's `normalize.less` sets `[hidden] { display: none; }` but bootstrap.min.css set `[hidden] { display: none !important; }` so we also need the `!important` here to be able to override the default hidden behavior on the sphinx rendered scikit-learn.org. See: https://github.com/scikit-learn/scikit-learn/issues/21755 */display: inline-block !important;position: relative;}#sk-container-id-5 div.sk-text-repr-fallback {display: none;}</style><div id=\"sk-container-id-5\" class=\"sk-top-container\"><div class=\"sk-text-repr-fallback\"><pre>GridSearchCV(cv=5,\n",
       "             estimator=Pipeline(steps=[(&#x27;preprocessor&#x27;,\n",
       "                                        ColumnTransformer(transformers=[(&#x27;cat&#x27;,\n",
       "                                                                         Pipeline(steps=[(&#x27;imputer&#x27;,\n",
       "                                                                                          SimpleImputer(fill_value=&#x27;missing&#x27;,\n",
       "                                                                                                        strategy=&#x27;constant&#x27;)),\n",
       "                                                                                         (&#x27;onehot&#x27;,\n",
       "                                                                                          OneHotEncoder(handle_unknown=&#x27;ignore&#x27;))]),\n",
       "                                                                         [&#x27;Make&#x27;,\n",
       "                                                                          &#x27;Colour&#x27;]),\n",
       "                                                                        (&#x27;door&#x27;,\n",
       "                                                                         Pipeline(steps=[(&#x27;imputer&#x27;,\n",
       "                                                                                          SimpleImputer(fill_value=4,\n",
       "                                                                                                        strategy=&#x27;constant&#x27;))]),\n",
       "                                                                         [&#x27;Doors&#x27;]),\n",
       "                                                                        (&#x27;num&#x27;,\n",
       "                                                                         Pipeline(steps=[(&#x27;imputer&#x27;,\n",
       "                                                                                          SimpleImputer()),\n",
       "                                                                                         (&#x27;scaler&#x27;,\n",
       "                                                                                          MinMaxScaler())]),\n",
       "                                                                         [&#x27;Odometer &#x27;\n",
       "                                                                          &#x27;(KM)&#x27;])])),\n",
       "                                       (&#x27;model&#x27;, RandomForestRegressor())]),\n",
       "             param_grid={&#x27;model__max_depth&#x27;: [None, 5],\n",
       "                         &#x27;model__max_features&#x27;: [&#x27;log2&#x27;, &#x27;sqrt&#x27;],\n",
       "                         &#x27;model__min_samples_split&#x27;: [2, 4],\n",
       "                         &#x27;model__n_estimators&#x27;: [100, 1000],\n",
       "                         &#x27;preprocessor__num__imputer__strategy&#x27;: [&#x27;mean&#x27;,\n",
       "                                                                  &#x27;median&#x27;]})</pre><b>In a Jupyter environment, please rerun this cell to show the HTML representation or trust the notebook. <br />On GitHub, the HTML representation is unable to render, please try loading this page with nbviewer.org.</b></div><div class=\"sk-container\" hidden><div class=\"sk-item sk-dashed-wrapped\"><div class=\"sk-label-container\"><div class=\"sk-label sk-toggleable\"><input class=\"sk-toggleable__control sk-hidden--visually\" id=\"sk-estimator-id-47\" type=\"checkbox\" ><label for=\"sk-estimator-id-47\" class=\"sk-toggleable__label sk-toggleable__label-arrow\">GridSearchCV</label><div class=\"sk-toggleable__content\"><pre>GridSearchCV(cv=5,\n",
       "             estimator=Pipeline(steps=[(&#x27;preprocessor&#x27;,\n",
       "                                        ColumnTransformer(transformers=[(&#x27;cat&#x27;,\n",
       "                                                                         Pipeline(steps=[(&#x27;imputer&#x27;,\n",
       "                                                                                          SimpleImputer(fill_value=&#x27;missing&#x27;,\n",
       "                                                                                                        strategy=&#x27;constant&#x27;)),\n",
       "                                                                                         (&#x27;onehot&#x27;,\n",
       "                                                                                          OneHotEncoder(handle_unknown=&#x27;ignore&#x27;))]),\n",
       "                                                                         [&#x27;Make&#x27;,\n",
       "                                                                          &#x27;Colour&#x27;]),\n",
       "                                                                        (&#x27;door&#x27;,\n",
       "                                                                         Pipeline(steps=[(&#x27;imputer&#x27;,\n",
       "                                                                                          SimpleImputer(fill_value=4,\n",
       "                                                                                                        strategy=&#x27;constant&#x27;))]),\n",
       "                                                                         [&#x27;Doors&#x27;]),\n",
       "                                                                        (&#x27;num&#x27;,\n",
       "                                                                         Pipeline(steps=[(&#x27;imputer&#x27;,\n",
       "                                                                                          SimpleImputer()),\n",
       "                                                                                         (&#x27;scaler&#x27;,\n",
       "                                                                                          MinMaxScaler())]),\n",
       "                                                                         [&#x27;Odometer &#x27;\n",
       "                                                                          &#x27;(KM)&#x27;])])),\n",
       "                                       (&#x27;model&#x27;, RandomForestRegressor())]),\n",
       "             param_grid={&#x27;model__max_depth&#x27;: [None, 5],\n",
       "                         &#x27;model__max_features&#x27;: [&#x27;log2&#x27;, &#x27;sqrt&#x27;],\n",
       "                         &#x27;model__min_samples_split&#x27;: [2, 4],\n",
       "                         &#x27;model__n_estimators&#x27;: [100, 1000],\n",
       "                         &#x27;preprocessor__num__imputer__strategy&#x27;: [&#x27;mean&#x27;,\n",
       "                                                                  &#x27;median&#x27;]})</pre></div></div></div><div class=\"sk-parallel\"><div class=\"sk-parallel-item\"><div class=\"sk-item\"><div class=\"sk-label-container\"><div class=\"sk-label sk-toggleable\"><input class=\"sk-toggleable__control sk-hidden--visually\" id=\"sk-estimator-id-48\" type=\"checkbox\" ><label for=\"sk-estimator-id-48\" class=\"sk-toggleable__label sk-toggleable__label-arrow\">estimator: Pipeline</label><div class=\"sk-toggleable__content\"><pre>Pipeline(steps=[(&#x27;preprocessor&#x27;,\n",
       "                 ColumnTransformer(transformers=[(&#x27;cat&#x27;,\n",
       "                                                  Pipeline(steps=[(&#x27;imputer&#x27;,\n",
       "                                                                   SimpleImputer(fill_value=&#x27;missing&#x27;,\n",
       "                                                                                 strategy=&#x27;constant&#x27;)),\n",
       "                                                                  (&#x27;onehot&#x27;,\n",
       "                                                                   OneHotEncoder(handle_unknown=&#x27;ignore&#x27;))]),\n",
       "                                                  [&#x27;Make&#x27;, &#x27;Colour&#x27;]),\n",
       "                                                 (&#x27;door&#x27;,\n",
       "                                                  Pipeline(steps=[(&#x27;imputer&#x27;,\n",
       "                                                                   SimpleImputer(fill_value=4,\n",
       "                                                                                 strategy=&#x27;constant&#x27;))]),\n",
       "                                                  [&#x27;Doors&#x27;]),\n",
       "                                                 (&#x27;num&#x27;,\n",
       "                                                  Pipeline(steps=[(&#x27;imputer&#x27;,\n",
       "                                                                   SimpleImputer()),\n",
       "                                                                  (&#x27;scaler&#x27;,\n",
       "                                                                   MinMaxScaler())]),\n",
       "                                                  [&#x27;Odometer (KM)&#x27;])])),\n",
       "                (&#x27;model&#x27;, RandomForestRegressor())])</pre></div></div></div><div class=\"sk-serial\"><div class=\"sk-item\"><div class=\"sk-serial\"><div class=\"sk-item sk-dashed-wrapped\"><div class=\"sk-label-container\"><div class=\"sk-label sk-toggleable\"><input class=\"sk-toggleable__control sk-hidden--visually\" id=\"sk-estimator-id-49\" type=\"checkbox\" ><label for=\"sk-estimator-id-49\" class=\"sk-toggleable__label sk-toggleable__label-arrow\">preprocessor: ColumnTransformer</label><div class=\"sk-toggleable__content\"><pre>ColumnTransformer(transformers=[(&#x27;cat&#x27;,\n",
       "                                 Pipeline(steps=[(&#x27;imputer&#x27;,\n",
       "                                                  SimpleImputer(fill_value=&#x27;missing&#x27;,\n",
       "                                                                strategy=&#x27;constant&#x27;)),\n",
       "                                                 (&#x27;onehot&#x27;,\n",
       "                                                  OneHotEncoder(handle_unknown=&#x27;ignore&#x27;))]),\n",
       "                                 [&#x27;Make&#x27;, &#x27;Colour&#x27;]),\n",
       "                                (&#x27;door&#x27;,\n",
       "                                 Pipeline(steps=[(&#x27;imputer&#x27;,\n",
       "                                                  SimpleImputer(fill_value=4,\n",
       "                                                                strategy=&#x27;constant&#x27;))]),\n",
       "                                 [&#x27;Doors&#x27;]),\n",
       "                                (&#x27;num&#x27;,\n",
       "                                 Pipeline(steps=[(&#x27;imputer&#x27;, SimpleImputer()),\n",
       "                                                 (&#x27;scaler&#x27;, MinMaxScaler())]),\n",
       "                                 [&#x27;Odometer (KM)&#x27;])])</pre></div></div></div><div class=\"sk-parallel\"><div class=\"sk-parallel-item\"><div class=\"sk-item\"><div class=\"sk-label-container\"><div class=\"sk-label sk-toggleable\"><input class=\"sk-toggleable__control sk-hidden--visually\" id=\"sk-estimator-id-50\" type=\"checkbox\" ><label for=\"sk-estimator-id-50\" class=\"sk-toggleable__label sk-toggleable__label-arrow\">cat</label><div class=\"sk-toggleable__content\"><pre>[&#x27;Make&#x27;, &#x27;Colour&#x27;]</pre></div></div></div><div class=\"sk-serial\"><div class=\"sk-item\"><div class=\"sk-serial\"><div class=\"sk-item\"><div class=\"sk-estimator sk-toggleable\"><input class=\"sk-toggleable__control sk-hidden--visually\" id=\"sk-estimator-id-51\" type=\"checkbox\" ><label for=\"sk-estimator-id-51\" class=\"sk-toggleable__label sk-toggleable__label-arrow\">SimpleImputer</label><div class=\"sk-toggleable__content\"><pre>SimpleImputer(fill_value=&#x27;missing&#x27;, strategy=&#x27;constant&#x27;)</pre></div></div></div><div class=\"sk-item\"><div class=\"sk-estimator sk-toggleable\"><input class=\"sk-toggleable__control sk-hidden--visually\" id=\"sk-estimator-id-52\" type=\"checkbox\" ><label for=\"sk-estimator-id-52\" class=\"sk-toggleable__label sk-toggleable__label-arrow\">OneHotEncoder</label><div class=\"sk-toggleable__content\"><pre>OneHotEncoder(handle_unknown=&#x27;ignore&#x27;)</pre></div></div></div></div></div></div></div></div><div class=\"sk-parallel-item\"><div class=\"sk-item\"><div class=\"sk-label-container\"><div class=\"sk-label sk-toggleable\"><input class=\"sk-toggleable__control sk-hidden--visually\" id=\"sk-estimator-id-53\" type=\"checkbox\" ><label for=\"sk-estimator-id-53\" class=\"sk-toggleable__label sk-toggleable__label-arrow\">door</label><div class=\"sk-toggleable__content\"><pre>[&#x27;Doors&#x27;]</pre></div></div></div><div class=\"sk-serial\"><div class=\"sk-item\"><div class=\"sk-serial\"><div class=\"sk-item\"><div class=\"sk-estimator sk-toggleable\"><input class=\"sk-toggleable__control sk-hidden--visually\" id=\"sk-estimator-id-54\" type=\"checkbox\" ><label for=\"sk-estimator-id-54\" class=\"sk-toggleable__label sk-toggleable__label-arrow\">SimpleImputer</label><div class=\"sk-toggleable__content\"><pre>SimpleImputer(fill_value=4, strategy=&#x27;constant&#x27;)</pre></div></div></div></div></div></div></div></div><div class=\"sk-parallel-item\"><div class=\"sk-item\"><div class=\"sk-label-container\"><div class=\"sk-label sk-toggleable\"><input class=\"sk-toggleable__control sk-hidden--visually\" id=\"sk-estimator-id-55\" type=\"checkbox\" ><label for=\"sk-estimator-id-55\" class=\"sk-toggleable__label sk-toggleable__label-arrow\">num</label><div class=\"sk-toggleable__content\"><pre>[&#x27;Odometer (KM)&#x27;]</pre></div></div></div><div class=\"sk-serial\"><div class=\"sk-item\"><div class=\"sk-serial\"><div class=\"sk-item\"><div class=\"sk-estimator sk-toggleable\"><input class=\"sk-toggleable__control sk-hidden--visually\" id=\"sk-estimator-id-56\" type=\"checkbox\" ><label for=\"sk-estimator-id-56\" class=\"sk-toggleable__label sk-toggleable__label-arrow\">SimpleImputer</label><div class=\"sk-toggleable__content\"><pre>SimpleImputer()</pre></div></div></div><div class=\"sk-item\"><div class=\"sk-estimator sk-toggleable\"><input class=\"sk-toggleable__control sk-hidden--visually\" id=\"sk-estimator-id-57\" type=\"checkbox\" ><label for=\"sk-estimator-id-57\" class=\"sk-toggleable__label sk-toggleable__label-arrow\">MinMaxScaler</label><div class=\"sk-toggleable__content\"><pre>MinMaxScaler()</pre></div></div></div></div></div></div></div></div></div></div><div class=\"sk-item\"><div class=\"sk-estimator sk-toggleable\"><input class=\"sk-toggleable__control sk-hidden--visually\" id=\"sk-estimator-id-58\" type=\"checkbox\" ><label for=\"sk-estimator-id-58\" class=\"sk-toggleable__label sk-toggleable__label-arrow\">RandomForestRegressor</label><div class=\"sk-toggleable__content\"><pre>RandomForestRegressor()</pre></div></div></div></div></div></div></div></div></div></div></div></div>"
      ],
      "text/plain": [
       "GridSearchCV(cv=5,\n",
       "             estimator=Pipeline(steps=[('preprocessor',\n",
       "                                        ColumnTransformer(transformers=[('cat',\n",
       "                                                                         Pipeline(steps=[('imputer',\n",
       "                                                                                          SimpleImputer(fill_value='missing',\n",
       "                                                                                                        strategy='constant')),\n",
       "                                                                                         ('onehot',\n",
       "                                                                                          OneHotEncoder(handle_unknown='ignore'))]),\n",
       "                                                                         ['Make',\n",
       "                                                                          'Colour']),\n",
       "                                                                        ('door',\n",
       "                                                                         Pipeline(steps=[('imputer',\n",
       "                                                                                          SimpleImputer(fill_value=4,\n",
       "                                                                                                        strategy='constant'))]),\n",
       "                                                                         ['Doors']),\n",
       "                                                                        ('num',\n",
       "                                                                         Pipeline(steps=[('imputer',\n",
       "                                                                                          SimpleImputer()),\n",
       "                                                                                         ('scaler',\n",
       "                                                                                          MinMaxScaler())]),\n",
       "                                                                         ['Odometer '\n",
       "                                                                          '(KM)'])])),\n",
       "                                       ('model', RandomForestRegressor())]),\n",
       "             param_grid={'model__max_depth': [None, 5],\n",
       "                         'model__max_features': ['log2', 'sqrt'],\n",
       "                         'model__min_samples_split': [2, 4],\n",
       "                         'model__n_estimators': [100, 1000],\n",
       "                         'preprocessor__num__imputer__strategy': ['mean',\n",
       "                                                                  'median']})"
      ]
     },
     "execution_count": 202,
     "metadata": {},
     "output_type": "execute_result"
    }
   ],
   "source": [
    "np.random.seed(42)\n",
    "\n",
    "# Create a preprocessing and modelling pipeline\n",
    "model = Pipeline(steps=[(\"preprocessor\", preprocessor),\n",
    "                        (\"model\", RandomForestRegressor())])\n",
    "# Using grid search with pipeline\n",
    "pipe_grid = {\n",
    "    \"preprocessor__num__imputer__strategy\": [\"mean\", \"median\"],\n",
    "    \"model__n_estimators\": [100, 1000],\n",
    "    \"model__max_depth\": [None, 5],\n",
    "    \"model__max_features\": [\"log2\", \"sqrt\"],\n",
    "    \"model__min_samples_split\": [2, 4]\n",
    "}\n",
    "\n",
    "gs_model_1 = GridSearchCV(model, pipe_grid, cv=5, verbose=0)\n",
    "gs_model_1.fit(X_train, y_train)"
   ]
  },
  {
   "cell_type": "code",
   "execution_count": 203,
   "id": "8012e782-5181-41a4-be55-daa82eb27bd7",
   "metadata": {
    "tags": []
   },
   "outputs": [
    {
     "data": {
      "text/plain": [
       "0.2922857651859545"
      ]
     },
     "execution_count": 203,
     "metadata": {},
     "output_type": "execute_result"
    }
   ],
   "source": [
    "# Score the best model\n",
    "gs_model_1.score(X_test, y_test)"
   ]
  },
  {
   "cell_type": "markdown",
   "id": "292a31e3-f8ed-4d24-a559-85dd32b5e95d",
   "metadata": {},
   "source": [
    "Beautiful! Using `GridSearchCV` we see a nice boost in our models score. And the best thing is, because it's all in a `Pipeline`, we could easily replicate these results."
   ]
  },
  {
   "cell_type": "code",
   "execution_count": 204,
   "id": "fc6b50de-55a8-4ce7-a27d-c12e411c7366",
   "metadata": {},
   "outputs": [
    {
     "data": {
      "text/html": [
       "<style>#sk-container-id-6 {color: black;background-color: white;}#sk-container-id-6 pre{padding: 0;}#sk-container-id-6 div.sk-toggleable {background-color: white;}#sk-container-id-6 label.sk-toggleable__label {cursor: pointer;display: block;width: 100%;margin-bottom: 0;padding: 0.3em;box-sizing: border-box;text-align: center;}#sk-container-id-6 label.sk-toggleable__label-arrow:before {content: \"▸\";float: left;margin-right: 0.25em;color: #696969;}#sk-container-id-6 label.sk-toggleable__label-arrow:hover:before {color: black;}#sk-container-id-6 div.sk-estimator:hover label.sk-toggleable__label-arrow:before {color: black;}#sk-container-id-6 div.sk-toggleable__content {max-height: 0;max-width: 0;overflow: hidden;text-align: left;background-color: #f0f8ff;}#sk-container-id-6 div.sk-toggleable__content pre {margin: 0.2em;color: black;border-radius: 0.25em;background-color: #f0f8ff;}#sk-container-id-6 input.sk-toggleable__control:checked~div.sk-toggleable__content {max-height: 200px;max-width: 100%;overflow: auto;}#sk-container-id-6 input.sk-toggleable__control:checked~label.sk-toggleable__label-arrow:before {content: \"▾\";}#sk-container-id-6 div.sk-estimator input.sk-toggleable__control:checked~label.sk-toggleable__label {background-color: #d4ebff;}#sk-container-id-6 div.sk-label input.sk-toggleable__control:checked~label.sk-toggleable__label {background-color: #d4ebff;}#sk-container-id-6 input.sk-hidden--visually {border: 0;clip: rect(1px 1px 1px 1px);clip: rect(1px, 1px, 1px, 1px);height: 1px;margin: -1px;overflow: hidden;padding: 0;position: absolute;width: 1px;}#sk-container-id-6 div.sk-estimator {font-family: monospace;background-color: #f0f8ff;border: 1px dotted black;border-radius: 0.25em;box-sizing: border-box;margin-bottom: 0.5em;}#sk-container-id-6 div.sk-estimator:hover {background-color: #d4ebff;}#sk-container-id-6 div.sk-parallel-item::after {content: \"\";width: 100%;border-bottom: 1px solid gray;flex-grow: 1;}#sk-container-id-6 div.sk-label:hover label.sk-toggleable__label {background-color: #d4ebff;}#sk-container-id-6 div.sk-serial::before {content: \"\";position: absolute;border-left: 1px solid gray;box-sizing: border-box;top: 0;bottom: 0;left: 50%;z-index: 0;}#sk-container-id-6 div.sk-serial {display: flex;flex-direction: column;align-items: center;background-color: white;padding-right: 0.2em;padding-left: 0.2em;position: relative;}#sk-container-id-6 div.sk-item {position: relative;z-index: 1;}#sk-container-id-6 div.sk-parallel {display: flex;align-items: stretch;justify-content: center;background-color: white;position: relative;}#sk-container-id-6 div.sk-item::before, #sk-container-id-6 div.sk-parallel-item::before {content: \"\";position: absolute;border-left: 1px solid gray;box-sizing: border-box;top: 0;bottom: 0;left: 50%;z-index: -1;}#sk-container-id-6 div.sk-parallel-item {display: flex;flex-direction: column;z-index: 1;position: relative;background-color: white;}#sk-container-id-6 div.sk-parallel-item:first-child::after {align-self: flex-end;width: 50%;}#sk-container-id-6 div.sk-parallel-item:last-child::after {align-self: flex-start;width: 50%;}#sk-container-id-6 div.sk-parallel-item:only-child::after {width: 0;}#sk-container-id-6 div.sk-dashed-wrapped {border: 1px dashed gray;margin: 0 0.4em 0.5em 0.4em;box-sizing: border-box;padding-bottom: 0.4em;background-color: white;}#sk-container-id-6 div.sk-label label {font-family: monospace;font-weight: bold;display: inline-block;line-height: 1.2em;}#sk-container-id-6 div.sk-label-container {text-align: center;}#sk-container-id-6 div.sk-container {/* jupyter's `normalize.less` sets `[hidden] { display: none; }` but bootstrap.min.css set `[hidden] { display: none !important; }` so we also need the `!important` here to be able to override the default hidden behavior on the sphinx rendered scikit-learn.org. See: https://github.com/scikit-learn/scikit-learn/issues/21755 */display: inline-block !important;position: relative;}#sk-container-id-6 div.sk-text-repr-fallback {display: none;}</style><div id=\"sk-container-id-6\" class=\"sk-top-container\"><div class=\"sk-text-repr-fallback\"><pre>GridSearchCV(cv=5,\n",
       "             estimator=Pipeline(steps=[(&#x27;preprocessor&#x27;,\n",
       "                                        ColumnTransformer(transformers=[(&#x27;cat&#x27;,\n",
       "                                                                         Pipeline(steps=[(&#x27;imputer&#x27;,\n",
       "                                                                                          SimpleImputer(fill_value=&#x27;missing&#x27;,\n",
       "                                                                                                        strategy=&#x27;constant&#x27;)),\n",
       "                                                                                         (&#x27;onehot&#x27;,\n",
       "                                                                                          OneHotEncoder(handle_unknown=&#x27;ignore&#x27;))]),\n",
       "                                                                         [&#x27;Make&#x27;,\n",
       "                                                                          &#x27;Colour&#x27;]),\n",
       "                                                                        (&#x27;door&#x27;,\n",
       "                                                                         Pipeline(steps=[(&#x27;imputer&#x27;,\n",
       "                                                                                          SimpleImputer(fill_value=4,\n",
       "                                                                                                        strategy=&#x27;constant&#x27;))]),\n",
       "                                                                         [&#x27;Doors&#x27;])...\n",
       "                                                                         Pipeline(steps=[(&#x27;imputer&#x27;,\n",
       "                                                                                          SimpleImputer()),\n",
       "                                                                                         (&#x27;scaler&#x27;,\n",
       "                                                                                          MinMaxScaler())]),\n",
       "                                                                         [&#x27;Odometer &#x27;\n",
       "                                                                          &#x27;(KM)&#x27;])])),\n",
       "                                       (&#x27;model&#x27;, LassoLars())]),\n",
       "             param_grid={&#x27;model__alpha&#x27;: [0.1, 0.5, 1.0, 10.0],\n",
       "                         &#x27;model__eps&#x27;: [0.0001, 0.001, 0.01],\n",
       "                         &#x27;model__fit_intercept&#x27;: [True, False],\n",
       "                         &#x27;model__max_iter&#x27;: [100, 2000, 5000],\n",
       "                         &#x27;model__normalize&#x27;: [True],\n",
       "                         &#x27;preprocessor__num__imputer__strategy&#x27;: [&#x27;mean&#x27;,\n",
       "                                                                  &#x27;median&#x27;]})</pre><b>In a Jupyter environment, please rerun this cell to show the HTML representation or trust the notebook. <br />On GitHub, the HTML representation is unable to render, please try loading this page with nbviewer.org.</b></div><div class=\"sk-container\" hidden><div class=\"sk-item sk-dashed-wrapped\"><div class=\"sk-label-container\"><div class=\"sk-label sk-toggleable\"><input class=\"sk-toggleable__control sk-hidden--visually\" id=\"sk-estimator-id-59\" type=\"checkbox\" ><label for=\"sk-estimator-id-59\" class=\"sk-toggleable__label sk-toggleable__label-arrow\">GridSearchCV</label><div class=\"sk-toggleable__content\"><pre>GridSearchCV(cv=5,\n",
       "             estimator=Pipeline(steps=[(&#x27;preprocessor&#x27;,\n",
       "                                        ColumnTransformer(transformers=[(&#x27;cat&#x27;,\n",
       "                                                                         Pipeline(steps=[(&#x27;imputer&#x27;,\n",
       "                                                                                          SimpleImputer(fill_value=&#x27;missing&#x27;,\n",
       "                                                                                                        strategy=&#x27;constant&#x27;)),\n",
       "                                                                                         (&#x27;onehot&#x27;,\n",
       "                                                                                          OneHotEncoder(handle_unknown=&#x27;ignore&#x27;))]),\n",
       "                                                                         [&#x27;Make&#x27;,\n",
       "                                                                          &#x27;Colour&#x27;]),\n",
       "                                                                        (&#x27;door&#x27;,\n",
       "                                                                         Pipeline(steps=[(&#x27;imputer&#x27;,\n",
       "                                                                                          SimpleImputer(fill_value=4,\n",
       "                                                                                                        strategy=&#x27;constant&#x27;))]),\n",
       "                                                                         [&#x27;Doors&#x27;])...\n",
       "                                                                         Pipeline(steps=[(&#x27;imputer&#x27;,\n",
       "                                                                                          SimpleImputer()),\n",
       "                                                                                         (&#x27;scaler&#x27;,\n",
       "                                                                                          MinMaxScaler())]),\n",
       "                                                                         [&#x27;Odometer &#x27;\n",
       "                                                                          &#x27;(KM)&#x27;])])),\n",
       "                                       (&#x27;model&#x27;, LassoLars())]),\n",
       "             param_grid={&#x27;model__alpha&#x27;: [0.1, 0.5, 1.0, 10.0],\n",
       "                         &#x27;model__eps&#x27;: [0.0001, 0.001, 0.01],\n",
       "                         &#x27;model__fit_intercept&#x27;: [True, False],\n",
       "                         &#x27;model__max_iter&#x27;: [100, 2000, 5000],\n",
       "                         &#x27;model__normalize&#x27;: [True],\n",
       "                         &#x27;preprocessor__num__imputer__strategy&#x27;: [&#x27;mean&#x27;,\n",
       "                                                                  &#x27;median&#x27;]})</pre></div></div></div><div class=\"sk-parallel\"><div class=\"sk-parallel-item\"><div class=\"sk-item\"><div class=\"sk-label-container\"><div class=\"sk-label sk-toggleable\"><input class=\"sk-toggleable__control sk-hidden--visually\" id=\"sk-estimator-id-60\" type=\"checkbox\" ><label for=\"sk-estimator-id-60\" class=\"sk-toggleable__label sk-toggleable__label-arrow\">estimator: Pipeline</label><div class=\"sk-toggleable__content\"><pre>Pipeline(steps=[(&#x27;preprocessor&#x27;,\n",
       "                 ColumnTransformer(transformers=[(&#x27;cat&#x27;,\n",
       "                                                  Pipeline(steps=[(&#x27;imputer&#x27;,\n",
       "                                                                   SimpleImputer(fill_value=&#x27;missing&#x27;,\n",
       "                                                                                 strategy=&#x27;constant&#x27;)),\n",
       "                                                                  (&#x27;onehot&#x27;,\n",
       "                                                                   OneHotEncoder(handle_unknown=&#x27;ignore&#x27;))]),\n",
       "                                                  [&#x27;Make&#x27;, &#x27;Colour&#x27;]),\n",
       "                                                 (&#x27;door&#x27;,\n",
       "                                                  Pipeline(steps=[(&#x27;imputer&#x27;,\n",
       "                                                                   SimpleImputer(fill_value=4,\n",
       "                                                                                 strategy=&#x27;constant&#x27;))]),\n",
       "                                                  [&#x27;Doors&#x27;]),\n",
       "                                                 (&#x27;num&#x27;,\n",
       "                                                  Pipeline(steps=[(&#x27;imputer&#x27;,\n",
       "                                                                   SimpleImputer()),\n",
       "                                                                  (&#x27;scaler&#x27;,\n",
       "                                                                   MinMaxScaler())]),\n",
       "                                                  [&#x27;Odometer (KM)&#x27;])])),\n",
       "                (&#x27;model&#x27;, LassoLars())])</pre></div></div></div><div class=\"sk-serial\"><div class=\"sk-item\"><div class=\"sk-serial\"><div class=\"sk-item sk-dashed-wrapped\"><div class=\"sk-label-container\"><div class=\"sk-label sk-toggleable\"><input class=\"sk-toggleable__control sk-hidden--visually\" id=\"sk-estimator-id-61\" type=\"checkbox\" ><label for=\"sk-estimator-id-61\" class=\"sk-toggleable__label sk-toggleable__label-arrow\">preprocessor: ColumnTransformer</label><div class=\"sk-toggleable__content\"><pre>ColumnTransformer(transformers=[(&#x27;cat&#x27;,\n",
       "                                 Pipeline(steps=[(&#x27;imputer&#x27;,\n",
       "                                                  SimpleImputer(fill_value=&#x27;missing&#x27;,\n",
       "                                                                strategy=&#x27;constant&#x27;)),\n",
       "                                                 (&#x27;onehot&#x27;,\n",
       "                                                  OneHotEncoder(handle_unknown=&#x27;ignore&#x27;))]),\n",
       "                                 [&#x27;Make&#x27;, &#x27;Colour&#x27;]),\n",
       "                                (&#x27;door&#x27;,\n",
       "                                 Pipeline(steps=[(&#x27;imputer&#x27;,\n",
       "                                                  SimpleImputer(fill_value=4,\n",
       "                                                                strategy=&#x27;constant&#x27;))]),\n",
       "                                 [&#x27;Doors&#x27;]),\n",
       "                                (&#x27;num&#x27;,\n",
       "                                 Pipeline(steps=[(&#x27;imputer&#x27;, SimpleImputer()),\n",
       "                                                 (&#x27;scaler&#x27;, MinMaxScaler())]),\n",
       "                                 [&#x27;Odometer (KM)&#x27;])])</pre></div></div></div><div class=\"sk-parallel\"><div class=\"sk-parallel-item\"><div class=\"sk-item\"><div class=\"sk-label-container\"><div class=\"sk-label sk-toggleable\"><input class=\"sk-toggleable__control sk-hidden--visually\" id=\"sk-estimator-id-62\" type=\"checkbox\" ><label for=\"sk-estimator-id-62\" class=\"sk-toggleable__label sk-toggleable__label-arrow\">cat</label><div class=\"sk-toggleable__content\"><pre>[&#x27;Make&#x27;, &#x27;Colour&#x27;]</pre></div></div></div><div class=\"sk-serial\"><div class=\"sk-item\"><div class=\"sk-serial\"><div class=\"sk-item\"><div class=\"sk-estimator sk-toggleable\"><input class=\"sk-toggleable__control sk-hidden--visually\" id=\"sk-estimator-id-63\" type=\"checkbox\" ><label for=\"sk-estimator-id-63\" class=\"sk-toggleable__label sk-toggleable__label-arrow\">SimpleImputer</label><div class=\"sk-toggleable__content\"><pre>SimpleImputer(fill_value=&#x27;missing&#x27;, strategy=&#x27;constant&#x27;)</pre></div></div></div><div class=\"sk-item\"><div class=\"sk-estimator sk-toggleable\"><input class=\"sk-toggleable__control sk-hidden--visually\" id=\"sk-estimator-id-64\" type=\"checkbox\" ><label for=\"sk-estimator-id-64\" class=\"sk-toggleable__label sk-toggleable__label-arrow\">OneHotEncoder</label><div class=\"sk-toggleable__content\"><pre>OneHotEncoder(handle_unknown=&#x27;ignore&#x27;)</pre></div></div></div></div></div></div></div></div><div class=\"sk-parallel-item\"><div class=\"sk-item\"><div class=\"sk-label-container\"><div class=\"sk-label sk-toggleable\"><input class=\"sk-toggleable__control sk-hidden--visually\" id=\"sk-estimator-id-65\" type=\"checkbox\" ><label for=\"sk-estimator-id-65\" class=\"sk-toggleable__label sk-toggleable__label-arrow\">door</label><div class=\"sk-toggleable__content\"><pre>[&#x27;Doors&#x27;]</pre></div></div></div><div class=\"sk-serial\"><div class=\"sk-item\"><div class=\"sk-serial\"><div class=\"sk-item\"><div class=\"sk-estimator sk-toggleable\"><input class=\"sk-toggleable__control sk-hidden--visually\" id=\"sk-estimator-id-66\" type=\"checkbox\" ><label for=\"sk-estimator-id-66\" class=\"sk-toggleable__label sk-toggleable__label-arrow\">SimpleImputer</label><div class=\"sk-toggleable__content\"><pre>SimpleImputer(fill_value=4, strategy=&#x27;constant&#x27;)</pre></div></div></div></div></div></div></div></div><div class=\"sk-parallel-item\"><div class=\"sk-item\"><div class=\"sk-label-container\"><div class=\"sk-label sk-toggleable\"><input class=\"sk-toggleable__control sk-hidden--visually\" id=\"sk-estimator-id-67\" type=\"checkbox\" ><label for=\"sk-estimator-id-67\" class=\"sk-toggleable__label sk-toggleable__label-arrow\">num</label><div class=\"sk-toggleable__content\"><pre>[&#x27;Odometer (KM)&#x27;]</pre></div></div></div><div class=\"sk-serial\"><div class=\"sk-item\"><div class=\"sk-serial\"><div class=\"sk-item\"><div class=\"sk-estimator sk-toggleable\"><input class=\"sk-toggleable__control sk-hidden--visually\" id=\"sk-estimator-id-68\" type=\"checkbox\" ><label for=\"sk-estimator-id-68\" class=\"sk-toggleable__label sk-toggleable__label-arrow\">SimpleImputer</label><div class=\"sk-toggleable__content\"><pre>SimpleImputer()</pre></div></div></div><div class=\"sk-item\"><div class=\"sk-estimator sk-toggleable\"><input class=\"sk-toggleable__control sk-hidden--visually\" id=\"sk-estimator-id-69\" type=\"checkbox\" ><label for=\"sk-estimator-id-69\" class=\"sk-toggleable__label sk-toggleable__label-arrow\">MinMaxScaler</label><div class=\"sk-toggleable__content\"><pre>MinMaxScaler()</pre></div></div></div></div></div></div></div></div></div></div><div class=\"sk-item\"><div class=\"sk-estimator sk-toggleable\"><input class=\"sk-toggleable__control sk-hidden--visually\" id=\"sk-estimator-id-70\" type=\"checkbox\" ><label for=\"sk-estimator-id-70\" class=\"sk-toggleable__label sk-toggleable__label-arrow\">LassoLars</label><div class=\"sk-toggleable__content\"><pre>LassoLars()</pre></div></div></div></div></div></div></div></div></div></div></div></div>"
      ],
      "text/plain": [
       "GridSearchCV(cv=5,\n",
       "             estimator=Pipeline(steps=[('preprocessor',\n",
       "                                        ColumnTransformer(transformers=[('cat',\n",
       "                                                                         Pipeline(steps=[('imputer',\n",
       "                                                                                          SimpleImputer(fill_value='missing',\n",
       "                                                                                                        strategy='constant')),\n",
       "                                                                                         ('onehot',\n",
       "                                                                                          OneHotEncoder(handle_unknown='ignore'))]),\n",
       "                                                                         ['Make',\n",
       "                                                                          'Colour']),\n",
       "                                                                        ('door',\n",
       "                                                                         Pipeline(steps=[('imputer',\n",
       "                                                                                          SimpleImputer(fill_value=4,\n",
       "                                                                                                        strategy='constant'))]),\n",
       "                                                                         ['Doors'])...\n",
       "                                                                         Pipeline(steps=[('imputer',\n",
       "                                                                                          SimpleImputer()),\n",
       "                                                                                         ('scaler',\n",
       "                                                                                          MinMaxScaler())]),\n",
       "                                                                         ['Odometer '\n",
       "                                                                          '(KM)'])])),\n",
       "                                       ('model', LassoLars())]),\n",
       "             param_grid={'model__alpha': [0.1, 0.5, 1.0, 10.0],\n",
       "                         'model__eps': [0.0001, 0.001, 0.01],\n",
       "                         'model__fit_intercept': [True, False],\n",
       "                         'model__max_iter': [100, 2000, 5000],\n",
       "                         'model__normalize': [True],\n",
       "                         'preprocessor__num__imputer__strategy': ['mean',\n",
       "                                                                  'median']})"
      ]
     },
     "execution_count": 204,
     "metadata": {},
     "output_type": "execute_result"
    }
   ],
   "source": [
    "from sklearn.linear_model import LassoLars\n",
    "np.random.seed(42)\n",
    "\n",
    "# Create a preprocessing and modeling pipeline\n",
    "model = Pipeline(steps=[(\"preprocessor\", preprocessor),\n",
    "                        (\"model\", LassoLars())])\n",
    "\n",
    "# Using grid search with pipeline\n",
    "pipe_grid = {\n",
    "    \"preprocessor__num__imputer__strategy\": [\"mean\", \"median\"],\n",
    "    \"model__alpha\": [0.1, 0.5, 1.0, 10.0],\n",
    "    \"model__fit_intercept\": [True, False],\n",
    "    \"model__normalize\": [True],\n",
    "    \"model__max_iter\": [100, 2000, 5000],\n",
    "    \"model__eps\": [1e-4, 1e-3, 1e-2]\n",
    "}\n",
    "\n",
    "gs_model_2 = GridSearchCV(model, pipe_grid, cv=5, verbose=0)\n",
    "gs_model_2.fit(X_train, y_train)"
   ]
  },
  {
   "cell_type": "code",
   "execution_count": 205,
   "id": "7218b168-d05f-4a37-913e-fbbeffbbf7e1",
   "metadata": {},
   "outputs": [
    {
     "data": {
      "text/plain": [
       "0.2822969474263157"
      ]
     },
     "execution_count": 205,
     "metadata": {},
     "output_type": "execute_result"
    }
   ],
   "source": [
    "# Score the best model\n",
    "gs_model_2.score(X_test, y_test)"
   ]
  },
  {
   "cell_type": "markdown",
   "id": "ca408b98-ccb0-4055-9951-e16358da0c2d",
   "metadata": {},
   "source": [
    "When you perform hyperparameter tuning using methods like grid search, there's no guarantee that the resulting parameters will outperform the default parameters. The effectiveness of the tuned parameters is based on the range and values you've provided in your grid, the specifics of your data, and the evaluation metric you're optimizing for."
   ]
  },
  {
   "cell_type": "markdown",
   "id": "1bc0854a-1be3-4f46-a1e6-5bb58b706a7f",
   "metadata": {},
   "source": [
    "## STACKING & VOTING Model"
   ]
  },
  {
   "cell_type": "code",
   "execution_count": 206,
   "id": "7a932893-c2de-4833-b6f4-e87d76b168f9",
   "metadata": {
    "tags": []
   },
   "outputs": [
    {
     "data": {
      "text/html": [
       "<style>#sk-container-id-7 {color: black;background-color: white;}#sk-container-id-7 pre{padding: 0;}#sk-container-id-7 div.sk-toggleable {background-color: white;}#sk-container-id-7 label.sk-toggleable__label {cursor: pointer;display: block;width: 100%;margin-bottom: 0;padding: 0.3em;box-sizing: border-box;text-align: center;}#sk-container-id-7 label.sk-toggleable__label-arrow:before {content: \"▸\";float: left;margin-right: 0.25em;color: #696969;}#sk-container-id-7 label.sk-toggleable__label-arrow:hover:before {color: black;}#sk-container-id-7 div.sk-estimator:hover label.sk-toggleable__label-arrow:before {color: black;}#sk-container-id-7 div.sk-toggleable__content {max-height: 0;max-width: 0;overflow: hidden;text-align: left;background-color: #f0f8ff;}#sk-container-id-7 div.sk-toggleable__content pre {margin: 0.2em;color: black;border-radius: 0.25em;background-color: #f0f8ff;}#sk-container-id-7 input.sk-toggleable__control:checked~div.sk-toggleable__content {max-height: 200px;max-width: 100%;overflow: auto;}#sk-container-id-7 input.sk-toggleable__control:checked~label.sk-toggleable__label-arrow:before {content: \"▾\";}#sk-container-id-7 div.sk-estimator input.sk-toggleable__control:checked~label.sk-toggleable__label {background-color: #d4ebff;}#sk-container-id-7 div.sk-label input.sk-toggleable__control:checked~label.sk-toggleable__label {background-color: #d4ebff;}#sk-container-id-7 input.sk-hidden--visually {border: 0;clip: rect(1px 1px 1px 1px);clip: rect(1px, 1px, 1px, 1px);height: 1px;margin: -1px;overflow: hidden;padding: 0;position: absolute;width: 1px;}#sk-container-id-7 div.sk-estimator {font-family: monospace;background-color: #f0f8ff;border: 1px dotted black;border-radius: 0.25em;box-sizing: border-box;margin-bottom: 0.5em;}#sk-container-id-7 div.sk-estimator:hover {background-color: #d4ebff;}#sk-container-id-7 div.sk-parallel-item::after {content: \"\";width: 100%;border-bottom: 1px solid gray;flex-grow: 1;}#sk-container-id-7 div.sk-label:hover label.sk-toggleable__label {background-color: #d4ebff;}#sk-container-id-7 div.sk-serial::before {content: \"\";position: absolute;border-left: 1px solid gray;box-sizing: border-box;top: 0;bottom: 0;left: 50%;z-index: 0;}#sk-container-id-7 div.sk-serial {display: flex;flex-direction: column;align-items: center;background-color: white;padding-right: 0.2em;padding-left: 0.2em;position: relative;}#sk-container-id-7 div.sk-item {position: relative;z-index: 1;}#sk-container-id-7 div.sk-parallel {display: flex;align-items: stretch;justify-content: center;background-color: white;position: relative;}#sk-container-id-7 div.sk-item::before, #sk-container-id-7 div.sk-parallel-item::before {content: \"\";position: absolute;border-left: 1px solid gray;box-sizing: border-box;top: 0;bottom: 0;left: 50%;z-index: -1;}#sk-container-id-7 div.sk-parallel-item {display: flex;flex-direction: column;z-index: 1;position: relative;background-color: white;}#sk-container-id-7 div.sk-parallel-item:first-child::after {align-self: flex-end;width: 50%;}#sk-container-id-7 div.sk-parallel-item:last-child::after {align-self: flex-start;width: 50%;}#sk-container-id-7 div.sk-parallel-item:only-child::after {width: 0;}#sk-container-id-7 div.sk-dashed-wrapped {border: 1px dashed gray;margin: 0 0.4em 0.5em 0.4em;box-sizing: border-box;padding-bottom: 0.4em;background-color: white;}#sk-container-id-7 div.sk-label label {font-family: monospace;font-weight: bold;display: inline-block;line-height: 1.2em;}#sk-container-id-7 div.sk-label-container {text-align: center;}#sk-container-id-7 div.sk-container {/* jupyter's `normalize.less` sets `[hidden] { display: none; }` but bootstrap.min.css set `[hidden] { display: none !important; }` so we also need the `!important` here to be able to override the default hidden behavior on the sphinx rendered scikit-learn.org. See: https://github.com/scikit-learn/scikit-learn/issues/21755 */display: inline-block !important;position: relative;}#sk-container-id-7 div.sk-text-repr-fallback {display: none;}</style><div id=\"sk-container-id-7\" class=\"sk-top-container\"><div class=\"sk-text-repr-fallback\"><pre>VotingRegressor(estimators=[(&#x27;model1&#x27;,\n",
       "                             Pipeline(steps=[(&#x27;preprocessor&#x27;,\n",
       "                                              ColumnTransformer(transformers=[(&#x27;cat&#x27;,\n",
       "                                                                               Pipeline(steps=[(&#x27;imputer&#x27;,\n",
       "                                                                                                SimpleImputer(fill_value=&#x27;missing&#x27;,\n",
       "                                                                                                              strategy=&#x27;constant&#x27;)),\n",
       "                                                                                               (&#x27;onehot&#x27;,\n",
       "                                                                                                OneHotEncoder(handle_unknown=&#x27;ignore&#x27;))]),\n",
       "                                                                               [&#x27;Make&#x27;,\n",
       "                                                                                &#x27;Colour&#x27;]),\n",
       "                                                                              (&#x27;door&#x27;,\n",
       "                                                                               Pipeline(steps=[(&#x27;imputer&#x27;,\n",
       "                                                                                                SimpleImputer(fill_value=4,\n",
       "                                                                                                              strategy=&#x27;constant&#x27;))]),...\n",
       "                                                                                                              strategy=&#x27;constant&#x27;)),\n",
       "                                                                                               (&#x27;onehot&#x27;,\n",
       "                                                                                                OneHotEncoder(handle_unknown=&#x27;ignore&#x27;))]),\n",
       "                                                                               [&#x27;Make&#x27;,\n",
       "                                                                                &#x27;Colour&#x27;]),\n",
       "                                                                              (&#x27;door&#x27;,\n",
       "                                                                               Pipeline(steps=[(&#x27;imputer&#x27;,\n",
       "                                                                                                SimpleImputer(fill_value=4,\n",
       "                                                                                                              strategy=&#x27;constant&#x27;))]),\n",
       "                                                                               [&#x27;Doors&#x27;]),\n",
       "                                                                              (&#x27;num&#x27;,\n",
       "                                                                               Pipeline(steps=[(&#x27;imputer&#x27;,\n",
       "                                                                                                SimpleImputer()),\n",
       "                                                                                               (&#x27;scaler&#x27;,\n",
       "                                                                                                MinMaxScaler())]),\n",
       "                                                                               [&#x27;Odometer &#x27;\n",
       "                                                                                &#x27;(KM)&#x27;])])),\n",
       "                                             (&#x27;model&#x27;,\n",
       "                                              LassoLars(alpha=10.0, eps=0.0001,\n",
       "                                                        max_iter=100,\n",
       "                                                        normalize=True))]))])</pre><b>In a Jupyter environment, please rerun this cell to show the HTML representation or trust the notebook. <br />On GitHub, the HTML representation is unable to render, please try loading this page with nbviewer.org.</b></div><div class=\"sk-container\" hidden><div class=\"sk-item sk-dashed-wrapped\"><div class=\"sk-label-container\"><div class=\"sk-label sk-toggleable\"><input class=\"sk-toggleable__control sk-hidden--visually\" id=\"sk-estimator-id-71\" type=\"checkbox\" ><label for=\"sk-estimator-id-71\" class=\"sk-toggleable__label sk-toggleable__label-arrow\">VotingRegressor</label><div class=\"sk-toggleable__content\"><pre>VotingRegressor(estimators=[(&#x27;model1&#x27;,\n",
       "                             Pipeline(steps=[(&#x27;preprocessor&#x27;,\n",
       "                                              ColumnTransformer(transformers=[(&#x27;cat&#x27;,\n",
       "                                                                               Pipeline(steps=[(&#x27;imputer&#x27;,\n",
       "                                                                                                SimpleImputer(fill_value=&#x27;missing&#x27;,\n",
       "                                                                                                              strategy=&#x27;constant&#x27;)),\n",
       "                                                                                               (&#x27;onehot&#x27;,\n",
       "                                                                                                OneHotEncoder(handle_unknown=&#x27;ignore&#x27;))]),\n",
       "                                                                               [&#x27;Make&#x27;,\n",
       "                                                                                &#x27;Colour&#x27;]),\n",
       "                                                                              (&#x27;door&#x27;,\n",
       "                                                                               Pipeline(steps=[(&#x27;imputer&#x27;,\n",
       "                                                                                                SimpleImputer(fill_value=4,\n",
       "                                                                                                              strategy=&#x27;constant&#x27;))]),...\n",
       "                                                                                                              strategy=&#x27;constant&#x27;)),\n",
       "                                                                                               (&#x27;onehot&#x27;,\n",
       "                                                                                                OneHotEncoder(handle_unknown=&#x27;ignore&#x27;))]),\n",
       "                                                                               [&#x27;Make&#x27;,\n",
       "                                                                                &#x27;Colour&#x27;]),\n",
       "                                                                              (&#x27;door&#x27;,\n",
       "                                                                               Pipeline(steps=[(&#x27;imputer&#x27;,\n",
       "                                                                                                SimpleImputer(fill_value=4,\n",
       "                                                                                                              strategy=&#x27;constant&#x27;))]),\n",
       "                                                                               [&#x27;Doors&#x27;]),\n",
       "                                                                              (&#x27;num&#x27;,\n",
       "                                                                               Pipeline(steps=[(&#x27;imputer&#x27;,\n",
       "                                                                                                SimpleImputer()),\n",
       "                                                                                               (&#x27;scaler&#x27;,\n",
       "                                                                                                MinMaxScaler())]),\n",
       "                                                                               [&#x27;Odometer &#x27;\n",
       "                                                                                &#x27;(KM)&#x27;])])),\n",
       "                                             (&#x27;model&#x27;,\n",
       "                                              LassoLars(alpha=10.0, eps=0.0001,\n",
       "                                                        max_iter=100,\n",
       "                                                        normalize=True))]))])</pre></div></div></div><div class=\"sk-parallel\"><div class=\"sk-parallel-item\"><div class=\"sk-item\"><div class=\"sk-label-container\"><div class=\"sk-label sk-toggleable\"><label>model1</label></div></div><div class=\"sk-serial\"><div class=\"sk-item\"><div class=\"sk-serial\"><div class=\"sk-item sk-dashed-wrapped\"><div class=\"sk-label-container\"><div class=\"sk-label sk-toggleable\"><input class=\"sk-toggleable__control sk-hidden--visually\" id=\"sk-estimator-id-72\" type=\"checkbox\" ><label for=\"sk-estimator-id-72\" class=\"sk-toggleable__label sk-toggleable__label-arrow\">preprocessor: ColumnTransformer</label><div class=\"sk-toggleable__content\"><pre>ColumnTransformer(transformers=[(&#x27;cat&#x27;,\n",
       "                                 Pipeline(steps=[(&#x27;imputer&#x27;,\n",
       "                                                  SimpleImputer(fill_value=&#x27;missing&#x27;,\n",
       "                                                                strategy=&#x27;constant&#x27;)),\n",
       "                                                 (&#x27;onehot&#x27;,\n",
       "                                                  OneHotEncoder(handle_unknown=&#x27;ignore&#x27;))]),\n",
       "                                 [&#x27;Make&#x27;, &#x27;Colour&#x27;]),\n",
       "                                (&#x27;door&#x27;,\n",
       "                                 Pipeline(steps=[(&#x27;imputer&#x27;,\n",
       "                                                  SimpleImputer(fill_value=4,\n",
       "                                                                strategy=&#x27;constant&#x27;))]),\n",
       "                                 [&#x27;Doors&#x27;]),\n",
       "                                (&#x27;num&#x27;,\n",
       "                                 Pipeline(steps=[(&#x27;imputer&#x27;,\n",
       "                                                  SimpleImputer(strategy=&#x27;median&#x27;)),\n",
       "                                                 (&#x27;scaler&#x27;, MinMaxScaler())]),\n",
       "                                 [&#x27;Odometer (KM)&#x27;])])</pre></div></div></div><div class=\"sk-parallel\"><div class=\"sk-parallel-item\"><div class=\"sk-item\"><div class=\"sk-label-container\"><div class=\"sk-label sk-toggleable\"><input class=\"sk-toggleable__control sk-hidden--visually\" id=\"sk-estimator-id-73\" type=\"checkbox\" ><label for=\"sk-estimator-id-73\" class=\"sk-toggleable__label sk-toggleable__label-arrow\">cat</label><div class=\"sk-toggleable__content\"><pre>[&#x27;Make&#x27;, &#x27;Colour&#x27;]</pre></div></div></div><div class=\"sk-serial\"><div class=\"sk-item\"><div class=\"sk-serial\"><div class=\"sk-item\"><div class=\"sk-estimator sk-toggleable\"><input class=\"sk-toggleable__control sk-hidden--visually\" id=\"sk-estimator-id-74\" type=\"checkbox\" ><label for=\"sk-estimator-id-74\" class=\"sk-toggleable__label sk-toggleable__label-arrow\">SimpleImputer</label><div class=\"sk-toggleable__content\"><pre>SimpleImputer(fill_value=&#x27;missing&#x27;, strategy=&#x27;constant&#x27;)</pre></div></div></div><div class=\"sk-item\"><div class=\"sk-estimator sk-toggleable\"><input class=\"sk-toggleable__control sk-hidden--visually\" id=\"sk-estimator-id-75\" type=\"checkbox\" ><label for=\"sk-estimator-id-75\" class=\"sk-toggleable__label sk-toggleable__label-arrow\">OneHotEncoder</label><div class=\"sk-toggleable__content\"><pre>OneHotEncoder(handle_unknown=&#x27;ignore&#x27;)</pre></div></div></div></div></div></div></div></div><div class=\"sk-parallel-item\"><div class=\"sk-item\"><div class=\"sk-label-container\"><div class=\"sk-label sk-toggleable\"><input class=\"sk-toggleable__control sk-hidden--visually\" id=\"sk-estimator-id-76\" type=\"checkbox\" ><label for=\"sk-estimator-id-76\" class=\"sk-toggleable__label sk-toggleable__label-arrow\">door</label><div class=\"sk-toggleable__content\"><pre>[&#x27;Doors&#x27;]</pre></div></div></div><div class=\"sk-serial\"><div class=\"sk-item\"><div class=\"sk-serial\"><div class=\"sk-item\"><div class=\"sk-estimator sk-toggleable\"><input class=\"sk-toggleable__control sk-hidden--visually\" id=\"sk-estimator-id-77\" type=\"checkbox\" ><label for=\"sk-estimator-id-77\" class=\"sk-toggleable__label sk-toggleable__label-arrow\">SimpleImputer</label><div class=\"sk-toggleable__content\"><pre>SimpleImputer(fill_value=4, strategy=&#x27;constant&#x27;)</pre></div></div></div></div></div></div></div></div><div class=\"sk-parallel-item\"><div class=\"sk-item\"><div class=\"sk-label-container\"><div class=\"sk-label sk-toggleable\"><input class=\"sk-toggleable__control sk-hidden--visually\" id=\"sk-estimator-id-78\" type=\"checkbox\" ><label for=\"sk-estimator-id-78\" class=\"sk-toggleable__label sk-toggleable__label-arrow\">num</label><div class=\"sk-toggleable__content\"><pre>[&#x27;Odometer (KM)&#x27;]</pre></div></div></div><div class=\"sk-serial\"><div class=\"sk-item\"><div class=\"sk-serial\"><div class=\"sk-item\"><div class=\"sk-estimator sk-toggleable\"><input class=\"sk-toggleable__control sk-hidden--visually\" id=\"sk-estimator-id-79\" type=\"checkbox\" ><label for=\"sk-estimator-id-79\" class=\"sk-toggleable__label sk-toggleable__label-arrow\">SimpleImputer</label><div class=\"sk-toggleable__content\"><pre>SimpleImputer(strategy=&#x27;median&#x27;)</pre></div></div></div><div class=\"sk-item\"><div class=\"sk-estimator sk-toggleable\"><input class=\"sk-toggleable__control sk-hidden--visually\" id=\"sk-estimator-id-80\" type=\"checkbox\" ><label for=\"sk-estimator-id-80\" class=\"sk-toggleable__label sk-toggleable__label-arrow\">MinMaxScaler</label><div class=\"sk-toggleable__content\"><pre>MinMaxScaler()</pre></div></div></div></div></div></div></div></div></div></div><div class=\"sk-item\"><div class=\"sk-estimator sk-toggleable\"><input class=\"sk-toggleable__control sk-hidden--visually\" id=\"sk-estimator-id-81\" type=\"checkbox\" ><label for=\"sk-estimator-id-81\" class=\"sk-toggleable__label sk-toggleable__label-arrow\">RandomForestRegressor</label><div class=\"sk-toggleable__content\"><pre>RandomForestRegressor(max_depth=5, max_features=&#x27;log2&#x27;, n_estimators=1000)</pre></div></div></div></div></div></div></div></div><div class=\"sk-parallel-item\"><div class=\"sk-item\"><div class=\"sk-label-container\"><div class=\"sk-label sk-toggleable\"><label>model2</label></div></div><div class=\"sk-serial\"><div class=\"sk-item\"><div class=\"sk-serial\"><div class=\"sk-item sk-dashed-wrapped\"><div class=\"sk-label-container\"><div class=\"sk-label sk-toggleable\"><input class=\"sk-toggleable__control sk-hidden--visually\" id=\"sk-estimator-id-82\" type=\"checkbox\" ><label for=\"sk-estimator-id-82\" class=\"sk-toggleable__label sk-toggleable__label-arrow\">preprocessor: ColumnTransformer</label><div class=\"sk-toggleable__content\"><pre>ColumnTransformer(transformers=[(&#x27;cat&#x27;,\n",
       "                                 Pipeline(steps=[(&#x27;imputer&#x27;,\n",
       "                                                  SimpleImputer(fill_value=&#x27;missing&#x27;,\n",
       "                                                                strategy=&#x27;constant&#x27;)),\n",
       "                                                 (&#x27;onehot&#x27;,\n",
       "                                                  OneHotEncoder(handle_unknown=&#x27;ignore&#x27;))]),\n",
       "                                 [&#x27;Make&#x27;, &#x27;Colour&#x27;]),\n",
       "                                (&#x27;door&#x27;,\n",
       "                                 Pipeline(steps=[(&#x27;imputer&#x27;,\n",
       "                                                  SimpleImputer(fill_value=4,\n",
       "                                                                strategy=&#x27;constant&#x27;))]),\n",
       "                                 [&#x27;Doors&#x27;]),\n",
       "                                (&#x27;num&#x27;,\n",
       "                                 Pipeline(steps=[(&#x27;imputer&#x27;, SimpleImputer()),\n",
       "                                                 (&#x27;scaler&#x27;, MinMaxScaler())]),\n",
       "                                 [&#x27;Odometer (KM)&#x27;])])</pre></div></div></div><div class=\"sk-parallel\"><div class=\"sk-parallel-item\"><div class=\"sk-item\"><div class=\"sk-label-container\"><div class=\"sk-label sk-toggleable\"><input class=\"sk-toggleable__control sk-hidden--visually\" id=\"sk-estimator-id-83\" type=\"checkbox\" ><label for=\"sk-estimator-id-83\" class=\"sk-toggleable__label sk-toggleable__label-arrow\">cat</label><div class=\"sk-toggleable__content\"><pre>[&#x27;Make&#x27;, &#x27;Colour&#x27;]</pre></div></div></div><div class=\"sk-serial\"><div class=\"sk-item\"><div class=\"sk-serial\"><div class=\"sk-item\"><div class=\"sk-estimator sk-toggleable\"><input class=\"sk-toggleable__control sk-hidden--visually\" id=\"sk-estimator-id-84\" type=\"checkbox\" ><label for=\"sk-estimator-id-84\" class=\"sk-toggleable__label sk-toggleable__label-arrow\">SimpleImputer</label><div class=\"sk-toggleable__content\"><pre>SimpleImputer(fill_value=&#x27;missing&#x27;, strategy=&#x27;constant&#x27;)</pre></div></div></div><div class=\"sk-item\"><div class=\"sk-estimator sk-toggleable\"><input class=\"sk-toggleable__control sk-hidden--visually\" id=\"sk-estimator-id-85\" type=\"checkbox\" ><label for=\"sk-estimator-id-85\" class=\"sk-toggleable__label sk-toggleable__label-arrow\">OneHotEncoder</label><div class=\"sk-toggleable__content\"><pre>OneHotEncoder(handle_unknown=&#x27;ignore&#x27;)</pre></div></div></div></div></div></div></div></div><div class=\"sk-parallel-item\"><div class=\"sk-item\"><div class=\"sk-label-container\"><div class=\"sk-label sk-toggleable\"><input class=\"sk-toggleable__control sk-hidden--visually\" id=\"sk-estimator-id-86\" type=\"checkbox\" ><label for=\"sk-estimator-id-86\" class=\"sk-toggleable__label sk-toggleable__label-arrow\">door</label><div class=\"sk-toggleable__content\"><pre>[&#x27;Doors&#x27;]</pre></div></div></div><div class=\"sk-serial\"><div class=\"sk-item\"><div class=\"sk-serial\"><div class=\"sk-item\"><div class=\"sk-estimator sk-toggleable\"><input class=\"sk-toggleable__control sk-hidden--visually\" id=\"sk-estimator-id-87\" type=\"checkbox\" ><label for=\"sk-estimator-id-87\" class=\"sk-toggleable__label sk-toggleable__label-arrow\">SimpleImputer</label><div class=\"sk-toggleable__content\"><pre>SimpleImputer(fill_value=4, strategy=&#x27;constant&#x27;)</pre></div></div></div></div></div></div></div></div><div class=\"sk-parallel-item\"><div class=\"sk-item\"><div class=\"sk-label-container\"><div class=\"sk-label sk-toggleable\"><input class=\"sk-toggleable__control sk-hidden--visually\" id=\"sk-estimator-id-88\" type=\"checkbox\" ><label for=\"sk-estimator-id-88\" class=\"sk-toggleable__label sk-toggleable__label-arrow\">num</label><div class=\"sk-toggleable__content\"><pre>[&#x27;Odometer (KM)&#x27;]</pre></div></div></div><div class=\"sk-serial\"><div class=\"sk-item\"><div class=\"sk-serial\"><div class=\"sk-item\"><div class=\"sk-estimator sk-toggleable\"><input class=\"sk-toggleable__control sk-hidden--visually\" id=\"sk-estimator-id-89\" type=\"checkbox\" ><label for=\"sk-estimator-id-89\" class=\"sk-toggleable__label sk-toggleable__label-arrow\">SimpleImputer</label><div class=\"sk-toggleable__content\"><pre>SimpleImputer()</pre></div></div></div><div class=\"sk-item\"><div class=\"sk-estimator sk-toggleable\"><input class=\"sk-toggleable__control sk-hidden--visually\" id=\"sk-estimator-id-90\" type=\"checkbox\" ><label for=\"sk-estimator-id-90\" class=\"sk-toggleable__label sk-toggleable__label-arrow\">MinMaxScaler</label><div class=\"sk-toggleable__content\"><pre>MinMaxScaler()</pre></div></div></div></div></div></div></div></div></div></div><div class=\"sk-item\"><div class=\"sk-estimator sk-toggleable\"><input class=\"sk-toggleable__control sk-hidden--visually\" id=\"sk-estimator-id-91\" type=\"checkbox\" ><label for=\"sk-estimator-id-91\" class=\"sk-toggleable__label sk-toggleable__label-arrow\">LassoLars</label><div class=\"sk-toggleable__content\"><pre>LassoLars(alpha=10.0, eps=0.0001, max_iter=100, normalize=True)</pre></div></div></div></div></div></div></div></div></div></div></div></div>"
      ],
      "text/plain": [
       "VotingRegressor(estimators=[('model1',\n",
       "                             Pipeline(steps=[('preprocessor',\n",
       "                                              ColumnTransformer(transformers=[('cat',\n",
       "                                                                               Pipeline(steps=[('imputer',\n",
       "                                                                                                SimpleImputer(fill_value='missing',\n",
       "                                                                                                              strategy='constant')),\n",
       "                                                                                               ('onehot',\n",
       "                                                                                                OneHotEncoder(handle_unknown='ignore'))]),\n",
       "                                                                               ['Make',\n",
       "                                                                                'Colour']),\n",
       "                                                                              ('door',\n",
       "                                                                               Pipeline(steps=[('imputer',\n",
       "                                                                                                SimpleImputer(fill_value=4,\n",
       "                                                                                                              strategy='constant'))]),...\n",
       "                                                                                                              strategy='constant')),\n",
       "                                                                                               ('onehot',\n",
       "                                                                                                OneHotEncoder(handle_unknown='ignore'))]),\n",
       "                                                                               ['Make',\n",
       "                                                                                'Colour']),\n",
       "                                                                              ('door',\n",
       "                                                                               Pipeline(steps=[('imputer',\n",
       "                                                                                                SimpleImputer(fill_value=4,\n",
       "                                                                                                              strategy='constant'))]),\n",
       "                                                                               ['Doors']),\n",
       "                                                                              ('num',\n",
       "                                                                               Pipeline(steps=[('imputer',\n",
       "                                                                                                SimpleImputer()),\n",
       "                                                                                               ('scaler',\n",
       "                                                                                                MinMaxScaler())]),\n",
       "                                                                               ['Odometer '\n",
       "                                                                                '(KM)'])])),\n",
       "                                             ('model',\n",
       "                                              LassoLars(alpha=10.0, eps=0.0001,\n",
       "                                                        max_iter=100,\n",
       "                                                        normalize=True))]))])"
      ]
     },
     "execution_count": 206,
     "metadata": {},
     "output_type": "execute_result"
    }
   ],
   "source": [
    "from sklearn.ensemble import StackingRegressor\n",
    "from sklearn.ensemble import VotingRegressor\n",
    "\n",
    "\n",
    "np.random.seed(42)\n",
    "\n",
    "# Create a list of trained models from GridSearchCV\n",
    "trained_models = [gs_model_1, gs_model_2]  # Replace with your actual gs_model objects\n",
    "\n",
    "# Create a stacking model\n",
    "stacking_model = StackingRegressor(estimators=[(\"model1\", trained_models[0].best_estimator_),\n",
    "                                               (\"model2\", trained_models[1].best_estimator_)],\n",
    "                                   final_estimator=BayesianRidge())  # Replace with your final estimator\n",
    "\n",
    "# Create a voting model\n",
    "voting_model = VotingRegressor(estimators=[(\"model1\", trained_models[0].best_estimator_),\n",
    "                                               (\"model2\", trained_models[1].best_estimator_)])  \n",
    "\n",
    "\n",
    "# Fit the stacking model on the training data\n",
    "stacking_model.fit(X_train, y_train)\n",
    "\n",
    "# Fit the voting model on the training data\n",
    "voting_model.fit(X_train, y_train)"
   ]
  },
  {
   "cell_type": "code",
   "execution_count": 207,
   "id": "681388b4-7b40-495b-8324-af0d75b6366a",
   "metadata": {
    "tags": []
   },
   "outputs": [
    {
     "data": {
      "text/plain": [
       "(0.2920606259110571, 0.29357358624268526)"
      ]
     },
     "execution_count": 207,
     "metadata": {},
     "output_type": "execute_result"
    }
   ],
   "source": [
    "# Evaluate the stacking & voting model on the testing data\n",
    "stacking_model.score(X_test, y_test), voting_model.score(X_test, y_test)"
   ]
  },
  {
   "cell_type": "code",
   "execution_count": 208,
   "id": "7e7f5278-65c1-4c3b-9e90-ca507290abee",
   "metadata": {
    "tags": []
   },
   "outputs": [
    {
     "name": "stdout",
     "output_type": "stream",
     "text": [
      "Predictions:\n",
      "      Stacking Predictions  Voting Predictions  True Labels\n",
      "203          18101.372321        18091.284704      10547.0\n",
      "979          20710.958400        20473.112881      17940.0\n",
      "729          11240.247651        11773.108437      12950.0\n",
      "838           9397.879643         9949.137033       5905.0\n",
      "919          10143.133116        10705.435594       9826.0\n",
      "..                    ...                 ...          ...\n",
      "625          11402.379113        11893.375808      10377.0\n",
      "33           11288.074384        11772.555974       9780.0\n",
      "31           17123.474173        17118.905757       6866.0\n",
      "746          21328.694654        20828.497900      16705.0\n",
      "305          17788.901130        17631.679679      18375.0\n",
      "\n",
      "[190 rows x 3 columns]\n",
      "\n",
      "Metrics:\n"
     ]
    },
    {
     "data": {
      "text/html": [
       "<style type=\"text/css\">\n",
       "#T_70e26_row0_col3, #T_70e26_row1_col1, #T_70e26_row1_col2, #T_70e26_row1_col4 {\n",
       "  background-color: yellow;\n",
       "}\n",
       "</style>\n",
       "<table id=\"T_70e26\">\n",
       "  <thead>\n",
       "    <tr>\n",
       "      <th class=\"blank level0\" >&nbsp;</th>\n",
       "      <th id=\"T_70e26_level0_col0\" class=\"col_heading level0 col0\" >Model</th>\n",
       "      <th id=\"T_70e26_level0_col1\" class=\"col_heading level0 col1\" >MSE</th>\n",
       "      <th id=\"T_70e26_level0_col2\" class=\"col_heading level0 col2\" >RMSE</th>\n",
       "      <th id=\"T_70e26_level0_col3\" class=\"col_heading level0 col3\" >MAE</th>\n",
       "      <th id=\"T_70e26_level0_col4\" class=\"col_heading level0 col4\" >R2</th>\n",
       "    </tr>\n",
       "  </thead>\n",
       "  <tbody>\n",
       "    <tr>\n",
       "      <th id=\"T_70e26_level0_row0\" class=\"row_heading level0 row0\" >0</th>\n",
       "      <td id=\"T_70e26_row0_col0\" class=\"data row0 col0\" >Stacking Model</td>\n",
       "      <td id=\"T_70e26_row0_col1\" class=\"data row0 col1\" >47403403.162766</td>\n",
       "      <td id=\"T_70e26_row0_col2\" class=\"data row0 col2\" >6885.012938</td>\n",
       "      <td id=\"T_70e26_row0_col3\" class=\"data row0 col3\" >5609.884485</td>\n",
       "      <td id=\"T_70e26_row0_col4\" class=\"data row0 col4\" >0.292061</td>\n",
       "    </tr>\n",
       "    <tr>\n",
       "      <th id=\"T_70e26_level0_row1\" class=\"row_heading level0 row1\" >1</th>\n",
       "      <td id=\"T_70e26_row1_col0\" class=\"data row1 col0\" >Voting Model</td>\n",
       "      <td id=\"T_70e26_row1_col1\" class=\"data row1 col1\" >47302095.803415</td>\n",
       "      <td id=\"T_70e26_row1_col2\" class=\"data row1 col2\" >6877.651911</td>\n",
       "      <td id=\"T_70e26_row1_col3\" class=\"data row1 col3\" >5614.746791</td>\n",
       "      <td id=\"T_70e26_row1_col4\" class=\"data row1 col4\" >0.293574</td>\n",
       "    </tr>\n",
       "  </tbody>\n",
       "</table>\n"
      ],
      "text/plain": [
       "<pandas.io.formats.style.Styler at 0x146ab04311b0>"
      ]
     },
     "execution_count": 208,
     "metadata": {},
     "output_type": "execute_result"
    }
   ],
   "source": [
    "import pandas as pd\n",
    "from sklearn.metrics import mean_squared_error, mean_absolute_error, r2_score\n",
    "\n",
    "# Get predictions for the stacking model and voting model\n",
    "stacking_preds = stacking_model.predict(X_test)\n",
    "voting_preds = voting_model.predict(X_test)\n",
    "\n",
    "# Create a dataframe to store the predictions\n",
    "predictions_df = pd.DataFrame({'Stacking Predictions': stacking_preds,\n",
    "                               'Voting Predictions': voting_preds,\n",
    "                               'True Labels': y_test})\n",
    "\n",
    "# Calculate metrics for the stacking model\n",
    "stacking_mse = mean_squared_error(y_test, stacking_preds)\n",
    "stacking_rmse = mean_squared_error(y_test, stacking_preds, squared=False)\n",
    "stacking_mae = mean_absolute_error(y_test, stacking_preds)\n",
    "stacking_r2 = r2_score(y_test, stacking_preds)\n",
    "\n",
    "# Calculate metrics for the voting model\n",
    "voting_mse = mean_squared_error(y_test, voting_preds)\n",
    "voting_rmse = mean_squared_error(y_test, voting_preds, squared=False)\n",
    "voting_mae = mean_absolute_error(y_test, voting_preds)\n",
    "voting_r2 = r2_score(y_test, voting_preds)\n",
    "\n",
    "# Create a dataframe to store the metrics\n",
    "metrics_df = pd.DataFrame({'Model': ['Stacking Model', 'Voting Model'],\n",
    "                           'MSE': [stacking_mse, voting_mse],\n",
    "                           'RMSE': [stacking_rmse, voting_rmse],\n",
    "                           'MAE': [stacking_mae, voting_mae],\n",
    "                           'R2': [stacking_r2, voting_r2]})\n",
    "\n",
    "# Create a style function to highlight the best values in the dataframe\n",
    "def highlight_best_values(value, metric):\n",
    "    if metric in ['MSE', 'MAE', 'RMSE']:\n",
    "        if value == metrics_df[metric].min():\n",
    "            return 'background-color: yellow'\n",
    "        else:\n",
    "            return ''\n",
    "    elif metric == 'R2':\n",
    "        if value == metrics_df[metric].max():\n",
    "            return 'background-color: yellow'\n",
    "        else:\n",
    "            return ''\n",
    "\n",
    "# Apply the style to the metrics dataframe\n",
    "styled_metrics_df = metrics_df.style.applymap(highlight_best_values, metric='MSE') \\\n",
    "                                   .applymap(highlight_best_values, metric='RMSE') \\\n",
    "                                   .applymap(highlight_best_values, metric='MAE') \\\n",
    "                                   .applymap(highlight_best_values, metric='R2')\n",
    "\n",
    "print(\"Predictions:\\n\", predictions_df)\n",
    "print(\"\\nMetrics:\")\n",
    "styled_metrics_df"
   ]
  },
  {
   "cell_type": "code",
   "execution_count": null,
   "id": "38ed3397-2064-4606-9147-445560c659ea",
   "metadata": {},
   "outputs": [],
   "source": []
  },
  {
   "cell_type": "code",
   "execution_count": null,
   "id": "d82c98e0-e4d1-4c33-8c2a-63b3651d7824",
   "metadata": {},
   "outputs": [],
   "source": []
  },
  {
   "cell_type": "code",
   "execution_count": null,
   "id": "d29f3b6c-493f-4219-9889-6a372d5fb194",
   "metadata": {},
   "outputs": [],
   "source": []
  },
  {
   "cell_type": "code",
   "execution_count": null,
   "id": "8c749ed7-8178-4f92-9756-d518f1395f41",
   "metadata": {},
   "outputs": [],
   "source": []
  },
  {
   "cell_type": "code",
   "execution_count": null,
   "id": "0b511f0c-38bb-43ca-8768-0190926eead1",
   "metadata": {},
   "outputs": [],
   "source": []
  },
  {
   "cell_type": "code",
   "execution_count": null,
   "id": "414671ac-ab82-4eac-9c28-9b99bd0afe37",
   "metadata": {},
   "outputs": [],
   "source": []
  },
  {
   "cell_type": "code",
   "execution_count": null,
   "id": "5f4e1bfb-dbad-425a-97ce-a34fcc53728e",
   "metadata": {},
   "outputs": [],
   "source": []
  },
  {
   "cell_type": "code",
   "execution_count": null,
   "id": "bcfa9a91-a7ad-453d-96ce-67eea20ee099",
   "metadata": {},
   "outputs": [],
   "source": []
  }
 ],
 "metadata": {
  "kernelspec": {
   "display_name": "Python 3 (ipykernel)",
   "language": "python",
   "name": "python3"
  },
  "language_info": {
   "codemirror_mode": {
    "name": "ipython",
    "version": 3
   },
   "file_extension": ".py",
   "mimetype": "text/x-python",
   "name": "python",
   "nbconvert_exporter": "python",
   "pygments_lexer": "ipython3",
   "version": "3.10.12"
  }
 },
 "nbformat": 4,
 "nbformat_minor": 5
}
